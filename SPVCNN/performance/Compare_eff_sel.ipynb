{
 "cells": [
  {
   "cell_type": "code",
   "execution_count": 1,
   "metadata": {},
   "outputs": [
    {
     "name": "stdout",
     "output_type": "stream",
     "text": [
      "Welcome to JupyROOT 6.24/00\n"
     ]
    }
   ],
   "source": [
    "import pandas as pd\n",
    "import numpy as np\n",
    "import matplotlib as mpl\n",
    "import matplotlib.pyplot as plt\n",
    "import ROOT\n",
    "import uproot \n",
    "import awkward as ak\n",
    "from pathlib import Path\n",
    "import os\n",
    "from tqdm import tqdm"
   ]
  },
  {
   "cell_type": "code",
   "execution_count": 9,
   "metadata": {},
   "outputs": [],
   "source": [
    "def Get_ind_best_reco_HS_sum_pt2(reco_tree_arrays, i_event, reco_type):\n",
    "    # Return the index of the best reconstructed HS via sum of pt^2 method \n",
    "    trk_pt_sq = ((1./reco_tree_arrays[\"reco_vtx_fitted_trk_qp\"][i_event])*np.sin(reco_tree_arrays[\"reco_vtx_fitted_trk_theta\"][i_event]) )**2\n",
    "    if reco_type==\"spvcnn\":\n",
    "        n_vtx = len(reco_tree_arrays[\"refitted_avg_vtx_vz\"][i_event])\n",
    "    elif reco_type==\"weighted\":\n",
    "        n_vtx = len(reco_tree_arrays[\"refitted_weighted_vtx_vz\"][i_event])\n",
    "    else:\n",
    "        n_vtx = len(reco_tree_arrays[\"reco_vtx_vz\"][i_event])\n",
    "            \n",
    "    vtx_trk_pt_sq_sum = np.zeros(n_vtx)\n",
    "    for i in range(n_vtx):\n",
    "        vtx_trk_pt_sq_sum[i] = ak.sum(trk_pt_sq[reco_tree_arrays[\"reco_vtx_fitted_trk_vtxID\"][i_event] == i])\n",
    "    \n",
    "#     print(vtx_trk_pt_sqrt_sum)\n",
    "    \n",
    "    return vtx_trk_pt_sq_sum.argmax()\n",
    "\n"
   ]
  },
  {
   "cell_type": "code",
   "execution_count": 10,
   "metadata": {},
   "outputs": [],
   "source": [
    "def Get_local_PU_density(truth_tree_arrays, i_event, xyz_dist_window = 2.0):\n",
    "    # Calculate the PU density around the truth HS vertex \n",
    "    truth_vtx_vx = truth_tree_arrays[\"truth_vtx_vx\"][i_event]\n",
    "    truth_vtx_vy = truth_tree_arrays[\"truth_vtx_vy\"][i_event]\n",
    "    truth_vtx_vz = truth_tree_arrays[\"truth_vtx_vz\"][i_event]\n",
    "    \n",
    "    dist_to_truth_HS = (truth_vtx_vx - truth_vtx_vx[0])**2 +(truth_vtx_vy - truth_vtx_vy[0])**2 + (truth_vtx_vz - truth_vtx_vz[0])**2 \n",
    "    n_local_truth = len(np.where(dist_to_truth_HS< 2.0**2)[0])\n",
    "    return (n_local_truth - 1)/(2 * xyz_dist_window)"
   ]
  },
  {
   "cell_type": "code",
   "execution_count": 2,
   "metadata": {},
   "outputs": [],
   "source": [
    "SPVCNN_file_path = \"../SPVCNN_outputs_refitted.root\"\n",
    "spvcnn_tree_arrays = uproot.open(SPVCNN_file_path)[\"refitted_avg\"].arrays()\n",
    "\n",
    "\n",
    "file_path = \"/home/dejavu/Projects/vertexing_sample/vertexperformance_AMVF_pu10.root\"\n",
    "truth_tree_arrays = uproot.open(file_path)[\"Truth_Vertex_PV_Selected\"].arrays()\n",
    "reco_tree_arrays = uproot.open(file_path)[\"Reco_Vertex\"].arrays()\n"
   ]
  },
  {
   "cell_type": "code",
   "execution_count": 14,
   "metadata": {},
   "outputs": [
    {
     "name": "stderr",
     "output_type": "stream",
     "text": [
      "100%|██████████| 1000/1000 [01:01<00:00, 16.17it/s]\n",
      "Warning in <TROOT::Append>: Replacing existing TH1: hs_truth_long_reso_vs_PU (Potential memory leak).\n"
     ]
    }
   ],
   "source": [
    "canvas = ROOT.TCanvas()\n",
    "hs_reco_eff = ROOT.TEfficiency(\"hs_reco_eff\", \"HS Reconstruction Efficiency; Local PU density; eff\", 12, 0, 6)\n",
    "hs_sel_eff = ROOT.TEfficiency(\"hs_sel_eff\", \"HS selection and Reconstruction Efficiency; Local PU density; eff\", 12, 0, 6)\n",
    "\n",
    "hs_truth_long_reso_vs_PU = ROOT.TH2D(\"hs_truth_long_reso_vs_PU\", \"HS Longitudinal Resolution vs PU density; Local PU density; [mm]\", 12, 0, 6.0, 20, -0.08, 0.08);\n",
    "\n",
    "\n",
    "whole_match_matrix = []\n",
    "# In the future, whole_match_matrix will be used to classify \n",
    "# for i_event in range(len(reco_tree_arrays[\"event_id\"])):\n",
    "for i_event in tqdm(spvcnn_tree_arrays.event_id):\n",
    "    \n",
    "    truth_vtx_vz = truth_tree_arrays[\"truth_vtx_vz\"][i_event]\n",
    "    reco_vtx_vz = reco_tree_arrays[\"reco_vtx_vz\"][i_event]\n",
    "    match_matrix = np.zeros((len(reco_vtx_vz),len(truth_vtx_vz)))\n",
    "    # declare the truth-mathing matrix as a list, filled in the next 2 loops \n",
    "    # Can be normalized \n",
    "\n",
    "    for i in range(len(reco_vtx_vz)):\n",
    "        for j in range(len(truth_vtx_vz)):\n",
    "            test_reco = reco_tree_arrays[\"reco_vtx_fitted_trk_z0\"][i_event][reco_tree_arrays[\"reco_vtx_fitted_trk_vtxID\"][i_event] == i]\n",
    "            test_truth = truth_tree_arrays[\"truth_vtx_fitted_trk_z0\"][i_event][truth_tree_arrays[\"truth_vtx_fitted_trk_vtxID\"][i_event] == j]\n",
    "            match_matrix[i,j] = len(np.intersect1d(test_reco, test_truth))\n",
    "            \n",
    "    whole_match_matrix.append(match_matrix)\n",
    "    \n",
    "    \n",
    "    # Find the index of best reco HS via 2 ways \n",
    "    ind_best_reco_HS_nTrk = match_matrix[:,0].argmax()\n",
    "    ind_best_reco_HS_sumpt2 = Get_ind_best_reco_HS_sum_pt2(reco_tree_arrays, i_event, \"reco\")\n",
    "    \n",
    "    # dist_best_reco_to_truth_HS_sq = (reco_tree_arrays[\"reco_vtx_vx\"][i_event][ind_best_reco_HS_nTrk] - truth_tree_arrays[\"truth_vtx_vx\"][i_event][0])**2 + (reco_tree_arrays[\"reco_vtx_vy\"][i_event][ind_best_reco_HS_nTrk] - truth_tree_arrays[\"truth_vtx_vy\"][i_event][0])**2 + (reco_tree_arrays[\"reco_vtx_vz\"][i_event][ind_best_reco_HS_nTrk] - truth_tree_arrays[\"truth_vtx_vz\"][i_event][0])**2 \n",
    "    residual_z = reco_tree_arrays[\"reco_vtx_vz\"][i_event][ind_best_reco_HS_nTrk] - truth_tree_arrays[\"truth_vtx_vz\"][i_event][0]\n",
    "    residual_x = reco_tree_arrays[\"reco_vtx_vx\"][i_event][ind_best_reco_HS_nTrk] - truth_tree_arrays[\"truth_vtx_vx\"][i_event][0]\n",
    "    residual_y = reco_tree_arrays[\"reco_vtx_vy\"][i_event][ind_best_reco_HS_nTrk] - truth_tree_arrays[\"truth_vtx_vy\"][i_event][0]\n",
    "    \n",
    "    dist_best_reco_to_truth_HS_sq =  residual_z**2 + residual_x**2 + residual_y**2\n",
    "    trhth_HS_vtx_recoed = False\n",
    "    if dist_best_reco_to_truth_HS_sq < (0.1 ** 2):\n",
    "        trhth_HS_vtx_recoed = True\n",
    "\n",
    "    trhth_HS_vtx_seled = (bool)(ind_best_reco_HS_nTrk == ind_best_reco_HS_sumpt2)\n",
    "\n",
    "    \n",
    "    local_PU_density = Get_local_PU_density(truth_tree_arrays, i_event)\n",
    "    hs_reco_eff.Fill(trhth_HS_vtx_recoed, local_PU_density)\n",
    "    hs_sel_eff.Fill(trhth_HS_vtx_recoed and trhth_HS_vtx_seled, local_PU_density)\n",
    "    if trhth_HS_vtx_recoed:\n",
    "        hs_truth_long_reso_vs_PU.Fill(local_PU_density, residual_z)\n"
   ]
  },
  {
   "cell_type": "code",
   "execution_count": 40,
   "metadata": {},
   "outputs": [
    {
     "name": "stderr",
     "output_type": "stream",
     "text": [
      "1000it [01:01, 16.21it/s]\n"
     ]
    }
   ],
   "source": [
    "canvas = ROOT.TCanvas()\n",
    "spvcnn_hs_reco_eff = ROOT.TEfficiency(\"spvcnn_hs_reco_eff\", \"HS Reconstruction Efficiency; Local PU density; eff\", 12, 0, 6)\n",
    "spvcnn_hs_sel_eff = ROOT.TEfficiency(\"spvcnn_hs_sel_eff\", \"HS selection and Reconstruction Efficiency; Local PU density; eff\", 12, 0, 6)\n",
    "\n",
    "spvcnn_hs_truth_long_reso_vs_PU = ROOT.TH2D(\"spvcnn_hs_truth_long_reso_vs_PU\", \"HS Longitudinal Resolution vs PU density; Local PU density; [mm]\", 12, 0, 6.0, 20, -0.08, 0.08);\n",
    "\n",
    "\n",
    "spvcnn_whole_match_matrix = []\n",
    "# In the future, whole_match_matrix will be used to classify \n",
    "# for i_event in range(len(spvcnn_tree_arrays[\"event_id\"])):\n",
    "for ii, i_event in tqdm(enumerate(spvcnn_tree_arrays.event_id)):\n",
    "    \n",
    "    truth_vtx_vz = truth_tree_arrays[\"truth_vtx_vz\"][i_event]\n",
    "    reco_vtx_vz = spvcnn_tree_arrays[\"refitted_avg_vtx_vz\"][ii]\n",
    "    match_matrix = np.zeros((len(reco_vtx_vz),len(truth_vtx_vz)))\n",
    "    # declare the truth-mathing matrix as a list, filled in the next 2 loops \n",
    "    # Can be normalized \n",
    "\n",
    "    for i in range(len(reco_vtx_vz)):\n",
    "        for j in range(len(truth_vtx_vz)):\n",
    "            test_reco = spvcnn_tree_arrays[\"reco_vtx_fitted_trk_z0\"][ii][spvcnn_tree_arrays[\"reco_vtx_fitted_trk_vtxID\"][ii] == i]\n",
    "            test_truth = truth_tree_arrays[\"truth_vtx_fitted_trk_z0\"][i_event][truth_tree_arrays[\"truth_vtx_fitted_trk_vtxID\"][i_event] == j]\n",
    "            match_matrix[i,j] = len(np.intersect1d(test_reco, test_truth))\n",
    "            \n",
    "    spvcnn_whole_match_matrix.append(match_matrix)\n",
    "    \n",
    "    \n",
    "    # Find the index of best reco HS via 2 ways \n",
    "    ind_best_reco_HS_nTrk = match_matrix[:,0].argmax()\n",
    "    ind_best_reco_HS_sumpt2 = Get_ind_best_reco_HS_sum_pt2(spvcnn_tree_arrays, ii, \"spvcnn\")\n",
    "    \n",
    "    # dist_best_reco_to_truth_HS_sq = (spvcnn_tree_arrays[\"reco_vtx_vx\"][i_event][ind_best_reco_HS_nTrk] - truth_tree_arrays[\"truth_vtx_vx\"][i_event][0])**2 + (spvcnn_tree_arrays[\"reco_vtx_vy\"][i_event][ind_best_reco_HS_nTrk] - truth_tree_arrays[\"truth_vtx_vy\"][i_event][0])**2 + (spvcnn_tree_arrays[\"reco_vtx_vz\"][i_event][ind_best_reco_HS_nTrk] - truth_tree_arrays[\"truth_vtx_vz\"][i_event][0])**2 \n",
    "    residual_z = spvcnn_tree_arrays[\"refitted_avg_vtx_vz\"][ii][ind_best_reco_HS_nTrk] - truth_tree_arrays[\"truth_vtx_vz\"][i_event][0]\n",
    "    residual_x = spvcnn_tree_arrays[\"refitted_avg_vtx_vx\"][ii][ind_best_reco_HS_nTrk] - truth_tree_arrays[\"truth_vtx_vx\"][i_event][0]\n",
    "    residual_y = spvcnn_tree_arrays[\"refitted_avg_vtx_vy\"][ii][ind_best_reco_HS_nTrk] - truth_tree_arrays[\"truth_vtx_vy\"][i_event][0]\n",
    "    \n",
    "    dist_best_reco_to_truth_HS_sq =  residual_z**2 + residual_x**2 + residual_y**2\n",
    "    trhth_HS_vtx_recoed = False\n",
    "    if dist_best_reco_to_truth_HS_sq < (0.1 ** 2):\n",
    "        trhth_HS_vtx_recoed = True\n",
    "\n",
    "    trhth_HS_vtx_seled = (bool)(ind_best_reco_HS_nTrk == ind_best_reco_HS_sumpt2)\n",
    "\n",
    "    \n",
    "    local_PU_density = Get_local_PU_density(truth_tree_arrays, i_event)\n",
    "    spvcnn_hs_reco_eff.Fill(trhth_HS_vtx_recoed, local_PU_density)\n",
    "    spvcnn_hs_sel_eff.Fill(trhth_HS_vtx_recoed and trhth_HS_vtx_seled, local_PU_density)\n",
    "    if trhth_HS_vtx_recoed:\n",
    "        spvcnn_hs_truth_long_reso_vs_PU.Fill(local_PU_density, residual_z)"
   ]
  },
  {
   "cell_type": "code",
   "execution_count": 38,
   "metadata": {},
   "outputs": [
    {
     "data": {
      "image/png": "[encoded data removed]",
      "text/plain": [
       "<IPython.core.display.Image object>"
      ]
     },
     "metadata": {},
     "output_type": "display_data"
    }
   ],
   "source": [
    "canvas_reco_eff = ROOT.TCanvas()\n",
    "legend_reco_eff = ROOT.TLegend(0.1,0.2,0.4,0.4)\n",
    "\n",
    "hs_reco_eff.SetLineColor(2)\n",
    "hs_reco_eff.Draw()\n",
    "\n",
    "spvcnn_hs_reco_eff.SetLineColor(4)\n",
    "spvcnn_hs_reco_eff.Draw(\"same\")\n",
    "\n",
    "legend_reco_eff.AddEntry(hs_reco_eff, \"AMVF\")\n",
    "legend_reco_eff.AddEntry(spvcnn_hs_reco_eff, \"SPVCNN\")\n",
    "\n",
    "legend_reco_eff.Draw(\"same\")\n",
    "canvas_reco_eff.Draw()"
   ]
  },
  {
   "cell_type": "code",
   "execution_count": 39,
   "metadata": {},
   "outputs": [
    {
     "data": {
      "image/png": "[encoded data removed]",
      "text/plain": [
       "<IPython.core.display.Image object>"
      ]
     },
     "metadata": {},
     "output_type": "display_data"
    }
   ],
   "source": [
    "canvas_sel_eff = ROOT.TCanvas()\n",
    "legend_sel_eff = ROOT.TLegend(0.1,0.2,0.4,0.4)\n",
    "\n",
    "hs_sel_eff.SetLineColor(2)\n",
    "hs_sel_eff.Draw()\n",
    "\n",
    "spvcnn_hs_sel_eff.SetLineColor(4)\n",
    "spvcnn_hs_sel_eff.Draw(\"same\")\n",
    "\n",
    "legend_sel_eff.AddEntry(hs_sel_eff, \"AMVF\")\n",
    "legend_sel_eff.AddEntry(spvcnn_hs_sel_eff, \"SPVCNN\")\n",
    "legend_sel_eff.Draw(\"same\")\n",
    "canvas_sel_eff.Draw()"
   ]
  },
  {
   "cell_type": "code",
   "execution_count": 61,
   "metadata": {},
   "outputs": [
    {
     "data": {
      "text/plain": [
       "array([[67.,  0.,  0.,  0.],\n",
       "       [ 0.,  4.,  0.,  0.],\n",
       "       [ 0.,  0.,  7.,  0.],\n",
       "       [ 0.,  0.,  0.,  2.],\n",
       "       [ 5.,  0.,  0.,  0.]])"
      ]
     },
     "execution_count": 61,
     "metadata": {},
     "output_type": "execute_result"
    }
   ],
   "source": [
    "whole_match_matrix[0]"
   ]
  },
  {
   "cell_type": "code",
   "execution_count": null,
   "metadata": {},
   "outputs": [],
   "source": [
    "spvcnn_whole_match_matrix[0]\n",
    "whole_match_matrix[0]\n",
    "spvcnn_tree_arrays[\"refitted_avg_vtx_vz\"][0]\n",
    "reco_tree_arrays[\"reco_vtx_vz\"][19]\n",
    "truth_tree_arrays[\"truth_vtx_vz\"][19]"
   ]
  }
 ],
 "metadata": {
  "kernelspec": {
   "display_name": "Python 3.9.13 ('ds')",
   "language": "python",
   "name": "python3"
  },
  "language_info": {
   "codemirror_mode": {
    "name": "ipython",
    "version": 3
   },
   "file_extension": ".py",
   "mimetype": "text/x-python",
   "name": "python",
   "nbconvert_exporter": "python",
   "pygments_lexer": "ipython3",
   "version": "3.9.13"
  },
  "orig_nbformat": 4,
  "vscode": {
   "interpreter": {
    "hash": "384cce9a912c806dd63b1a7bc4ab56f548939919c673c9778041254ec13e5ae9"
   }
  }
 },
 "nbformat": 4,
 "nbformat_minor": 2
}
