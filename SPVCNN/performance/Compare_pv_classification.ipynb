{
 "cells": [
  {
   "cell_type": "code",
   "execution_count": 2,
   "metadata": {},
   "outputs": [
    {
     "name": "stdout",
     "output_type": "stream",
     "text": [
      "Welcome to JupyROOT 6.24/00\n"
     ]
    }
   ],
   "source": [
    "import pandas as pd\n",
    "import numpy as np\n",
    "import matplotlib as mpl\n",
    "import matplotlib.pyplot as plt\n",
    "import ROOT\n",
    "import uproot \n",
    "import awkward as ak\n",
    "from pathlib import Path\n",
    "import os\n",
    "from tqdm import tqdm"
   ]
  },
  {
   "cell_type": "code",
   "execution_count": 3,
   "metadata": {},
   "outputs": [],
   "source": [
    "SPVCNN_file_path = \"../SPVCNN_outputs_refitted.root\"\n",
    "spvcnn_tree_arrays = uproot.open(SPVCNN_file_path)[\"refitted_avg\"].arrays()\n",
    "\n",
    "\n",
    "file_path = \"/home/dejavu/Projects/vertexing_sample/vertexperformance_AMVF_pu10.root\"\n",
    "truth_tree_arrays = uproot.open(file_path)[\"Truth_Vertex_PV_Selected\"].arrays()\n",
    "reco_tree_arrays = uproot.open(file_path)[\"Reco_Vertex\"].arrays()\n"
   ]
  },
  {
   "cell_type": "code",
   "execution_count": 4,
   "metadata": {},
   "outputs": [],
   "source": [
    "def GetTrkTruthMatchInfo(reco_trk, truth_trk):\n",
    "    return np.where(ak.to_numpy(reco_trk).reshape(len(reco_trk), 1) == ak.to_numpy(truth_trk))[1]"
   ]
  },
  {
   "cell_type": "code",
   "execution_count": null,
   "metadata": {},
   "outputs": [],
   "source": [
    "# def GetTrkTruthMatchInfo(reco_trk, truth_trk):\n",
    "#     return np.where(reco_trk.reshape(reco_trk.size, 1) == truth_trk)[1]"
   ]
  },
  {
   "cell_type": "code",
   "execution_count": 22,
   "metadata": {},
   "outputs": [
    {
     "name": "stderr",
     "output_type": "stream",
     "text": [
      " 73%|███████▎  | 730/1000 [00:48<00:18, 14.59it/s]/tmp/ipykernel_9856/3244523460.py:34: RuntimeWarning: invalid value encountered in divide\n",
      "  RecoVertexMatchInfo[:,:,0] = Raw_RecoVertexMatchInfo[:,:,0]/Raw_RecoVertexMatchInfo[:,:,0].sum(axis=1)[:,np.newaxis]\n",
      "100%|██████████| 1000/1000 [01:06<00:00, 14.94it/s]\n"
     ]
    }
   ],
   "source": [
    "vxMatchWeight = 0.7\n",
    "PV_Classification = np.zeros((4),int)\n",
    "\n",
    "# N_Event = len(reco_tree_arrays['reco_vtx_fitted_trk_vtxID'])\n",
    "# # N_Event = 1\n",
    "for event_id in tqdm(spvcnn_tree_arrays.event_id):\n",
    "    # event_id = 1134# event_id  debug use\n",
    "    if event_id % 1000 == 0:\n",
    "        print(f\"{event_id} events processed.\")\n",
    "        \n",
    "    trk_truth_idx = GetTrkTruthMatchInfo(reco_tree_arrays['reco_vtx_fitted_trk_z0'][event_id], truth_tree_arrays['truth_vtx_fitted_trk_z0'][event_id]) # get trk location in truth array \n",
    "    trk_truth_vtx = truth_tree_arrays['truth_vtx_fitted_trk_vtxID'][event_id][trk_truth_idx]\n",
    "    trk_reco_vtx = reco_tree_arrays['reco_vtx_fitted_trk_vtxID'][event_id]\n",
    "    trk_pt_sq = ((1./reco_tree_arrays[\"reco_vtx_fitted_trk_qp\"][event_id])*np.sin(reco_tree_arrays[\"reco_vtx_fitted_trk_theta\"][event_id]))**2\n",
    "\n",
    "    n_truth_vtx = len(truth_tree_arrays['truth_vtx_vz'][event_id])\n",
    "    n_reco_vtx = len(reco_tree_arrays['reco_vtx_vz'][event_id])\n",
    "\n",
    "    Raw_RecoVertexMatchInfo = np.zeros((n_reco_vtx, n_truth_vtx, 2), dtype=float)\n",
    "    for reco_vtx_id in range(n_reco_vtx):\n",
    "        for truth_vtx_id in range(n_truth_vtx):\n",
    "            matched_idx = np.intersect1d(np.where(trk_reco_vtx == reco_vtx_id)[0], np.where(trk_truth_vtx == truth_vtx_id)[0])\n",
    "\n",
    "            Raw_RecoVertexMatchInfo[reco_vtx_id, truth_vtx_id, 0]= ak.sum(reco_tree_arrays['reco_vtx_fitted_trk_trackWeight'][event_id][matched_idx])\n",
    "            Raw_RecoVertexMatchInfo[reco_vtx_id, truth_vtx_id, 1]= ak.sum(trk_pt_sq[matched_idx])\n",
    "\n",
    "    RecoVertexMatchInfo = np.copy(Raw_RecoVertexMatchInfo)\n",
    "    # RecoVertexMatchInfo[:,:,0] = Raw_RecoVertexMatchInfo[:,:,0]/Raw_RecoVertexMatchInfo[:,:,0].sum(axis=0)\n",
    "    # try:\n",
    "    #     RecoVertexMatchInfo[:,:,0] = Raw_RecoVertexMatchInfo[:,:,0]/Raw_RecoVertexMatchInfo[:,:,0].sum(axis=1)[:,np.newaxis]\n",
    "    # except RuntimeWarning: \n",
    "    #     print(event_id)\n",
    "        \n",
    "    RecoVertexMatchInfo[:,:,0] = Raw_RecoVertexMatchInfo[:,:,0]/Raw_RecoVertexMatchInfo[:,:,0].sum(axis=1)[:,np.newaxis]\n",
    "        \n",
    "    assigned_type = np.array([-1]*(n_reco_vtx))\n",
    "    for reco_vtx_id in range(n_reco_vtx):      \n",
    "        if np.isnan(RecoVertexMatchInfo[:,:,0][reco_vtx_id]).all():\n",
    "            assigned_type[reco_vtx_id] = 3 # labelled as fake \n",
    "            continue\n",
    "            \n",
    "        max_weight_idx = np.argmax(RecoVertexMatchInfo[:,:,0][reco_vtx_id])\n",
    "        if RecoVertexMatchInfo[:,:,0][reco_vtx_id][max_weight_idx] > vxMatchWeight and RecoVertexMatchInfo[:,:,1][reco_vtx_id][max_weight_idx] == RecoVertexMatchInfo[:,:,1][:,max_weight_idx].max():\n",
    "            assigned_type[reco_vtx_id] = 0 # labelled as matched/clean \n",
    "            # keep highest sumpt2 vertex labelled as matched/merged \n",
    "        elif RecoVertexMatchInfo[:,:,0][reco_vtx_id][max_weight_idx] < vxMatchWeight and RecoVertexMatchInfo[:,:,1][reco_vtx_id][max_weight_idx] == RecoVertexMatchInfo[:,:,1][:,max_weight_idx].max():\n",
    "            assigned_type[reco_vtx_id] = 1 # labelled as merged\n",
    "        else: \n",
    "            assigned_type[reco_vtx_id] = 2 # labelled as spilt \n",
    "            \n",
    "    stat = np.bincount(assigned_type)\n",
    "    for PV_type in range(len(stat)):\n",
    "        PV_Classification[PV_type] += stat[PV_type]\n",
    "\n"
   ]
  },
  {
   "cell_type": "code",
   "execution_count": 24,
   "metadata": {},
   "outputs": [
    {
     "data": {
      "image/png": "[encoded data removed]",
      "text/plain": [
       "<Figure size 432x288 with 1 Axes>"
      ]
     },
     "metadata": {
      "needs_background": "light"
     },
     "output_type": "display_data"
    }
   ],
   "source": [
    "plt.plot(PV_Classification, 'bo')\n",
    "plt.ylabel('number of vertices')\n",
    "plt.title(\"AVMF Primary Vertex classification\")\n",
    "plt.show()"
   ]
  },
  {
   "cell_type": "code",
   "execution_count": 31,
   "metadata": {},
   "outputs": [
    {
     "name": "stderr",
     "output_type": "stream",
     "text": [
      "0it [00:00, ?it/s]/tmp/ipykernel_9856/3024557601.py:34: RuntimeWarning: invalid value encountered in divide\n",
      "  RecoVertexMatchInfo[:,:,0] = Raw_RecoVertexMatchInfo[:,:,0]/Raw_RecoVertexMatchInfo[:,:,0].sum(axis=1)[:,np.newaxis]\n",
      "1000it [01:10, 14.22it/s]\n"
     ]
    }
   ],
   "source": [
    "vxMatchWeight = 0.7\n",
    "spvcnn_PV_Classification = np.zeros((4),int)\n",
    "\n",
    "# N_Event = len(spvcnn_tree_arrays['reco_vtx_fitted_trk_vtxID'])\n",
    "# # N_Event = 1\n",
    "for ii, event_id in tqdm(enumerate(spvcnn_tree_arrays.event_id)):\n",
    "    # event_id = 1134# event_id  debug use\n",
    "    if event_id % 1000 == 0:\n",
    "        print(f\"{event_id} events processed.\")\n",
    "        \n",
    "    trk_truth_idx = GetTrkTruthMatchInfo(spvcnn_tree_arrays['reco_vtx_fitted_trk_z0'][ii], truth_tree_arrays['truth_vtx_fitted_trk_z0'][event_id]) # get trk location in truth array \n",
    "    trk_truth_vtx = truth_tree_arrays['truth_vtx_fitted_trk_vtxID'][event_id][trk_truth_idx]\n",
    "    trk_reco_vtx = spvcnn_tree_arrays['reco_vtx_fitted_trk_vtxID'][ii]\n",
    "    trk_pt_sq = ((1./spvcnn_tree_arrays[\"reco_vtx_fitted_trk_qp\"][ii])*np.sin(spvcnn_tree_arrays[\"reco_vtx_fitted_trk_theta\"][ii]))**2\n",
    "\n",
    "    n_truth_vtx = len(truth_tree_arrays['truth_vtx_vz'][event_id])\n",
    "    n_reco_vtx = len(spvcnn_tree_arrays['refitted_avg_vtx_vz'][ii])\n",
    "\n",
    "    Raw_RecoVertexMatchInfo = np.zeros((n_reco_vtx, n_truth_vtx, 2), dtype=float)\n",
    "    for reco_vtx_id in range(n_reco_vtx):\n",
    "        for truth_vtx_id in range(n_truth_vtx):\n",
    "            matched_idx = np.intersect1d(np.where(trk_reco_vtx == reco_vtx_id)[0], np.where(trk_truth_vtx == truth_vtx_id)[0])\n",
    "\n",
    "            Raw_RecoVertexMatchInfo[reco_vtx_id, truth_vtx_id, 0]= ak.sum(spvcnn_tree_arrays['reco_vtx_fitted_trk_trackWeight'][ii][matched_idx])\n",
    "            Raw_RecoVertexMatchInfo[reco_vtx_id, truth_vtx_id, 1]= ak.sum(trk_pt_sq[matched_idx])\n",
    "\n",
    "    RecoVertexMatchInfo = np.copy(Raw_RecoVertexMatchInfo)\n",
    "    # RecoVertexMatchInfo[:,:,0] = Raw_RecoVertexMatchInfo[:,:,0]/Raw_RecoVertexMatchInfo[:,:,0].sum(axis=0)\n",
    "    # try:\n",
    "    #     RecoVertexMatchInfo[:,:,0] = Raw_RecoVertexMatchInfo[:,:,0]/Raw_RecoVertexMatchInfo[:,:,0].sum(axis=1)[:,np.newaxis]\n",
    "    # except RuntimeWarning: \n",
    "    #     print(event_id)\n",
    "        \n",
    "    RecoVertexMatchInfo[:,:,0] = Raw_RecoVertexMatchInfo[:,:,0]/Raw_RecoVertexMatchInfo[:,:,0].sum(axis=1)[:,np.newaxis]\n",
    "        \n",
    "    assigned_type = np.array([-1]*(n_reco_vtx))\n",
    "    for reco_vtx_id in range(n_reco_vtx):      \n",
    "        if np.isnan(RecoVertexMatchInfo[:,:,0][reco_vtx_id]).all():\n",
    "            assigned_type[reco_vtx_id] = 3 # labelled as fake \n",
    "            continue\n",
    "            \n",
    "        max_weight_idx = np.argmax(RecoVertexMatchInfo[:,:,0][reco_vtx_id])\n",
    "        if RecoVertexMatchInfo[:,:,0][reco_vtx_id][max_weight_idx] > vxMatchWeight and RecoVertexMatchInfo[:,:,1][reco_vtx_id][max_weight_idx] == RecoVertexMatchInfo[:,:,1][:,max_weight_idx].max():\n",
    "            assigned_type[reco_vtx_id] = 0 # labelled as matched/clean \n",
    "            # keep highest sumpt2 vertex labelled as matched/merged \n",
    "        elif RecoVertexMatchInfo[:,:,0][reco_vtx_id][max_weight_idx] < vxMatchWeight and RecoVertexMatchInfo[:,:,1][reco_vtx_id][max_weight_idx] == RecoVertexMatchInfo[:,:,1][:,max_weight_idx].max():\n",
    "            assigned_type[reco_vtx_id] = 1 # labelled as merged\n",
    "        else: \n",
    "            assigned_type[reco_vtx_id] = 2 # labelled as spilt \n",
    "            \n",
    "    stat = np.bincount(assigned_type)\n",
    "    for PV_type in range(len(stat)):\n",
    "        spvcnn_PV_Classification[PV_type] += stat[PV_type]\n",
    "\n"
   ]
  },
  {
   "cell_type": "code",
   "execution_count": 33,
   "metadata": {},
   "outputs": [
    {
     "data": {
      "image/png": "[encoded data removed]",
      "text/plain": [
       "<Figure size 432x288 with 1 Axes>"
      ]
     },
     "metadata": {
      "needs_background": "light"
     },
     "output_type": "display_data"
    }
   ],
   "source": [
    "plt.plot(PV_Classification, 'ro', label = 'AMVF' )\n",
    "plt.plot(spvcnn_PV_Classification, 'bo', label = 'SPVCNN' )\n",
    "plt.ylabel('Number of vertices')\n",
    "plt.title(\"Primary Vertex classification\")\n",
    "plt.legend()\n",
    "plt.show()"
   ]
  },
  {
   "cell_type": "code",
   "execution_count": 35,
   "metadata": {},
   "outputs": [
    {
     "name": "stdout",
     "output_type": "stream",
     "text": [
      "[6065  127  832    1]\n"
     ]
    }
   ],
   "source": [
    "print(PV_Classification)"
   ]
  },
  {
   "cell_type": "code",
   "execution_count": 34,
   "metadata": {},
   "outputs": [
    {
     "name": "stdout",
     "output_type": "stream",
     "text": [
      "[6010   74  553  193]\n"
     ]
    }
   ],
   "source": [
    "print(spvcnn_PV_Classification)"
   ]
  },
  {
   "cell_type": "code",
   "execution_count": null,
   "metadata": {},
   "outputs": [],
   "source": []
  }
 ],
 "metadata": {
  "kernelspec": {
   "display_name": "Python 3.9.13 ('ds')",
   "language": "python",
   "name": "python3"
  },
  "language_info": {
   "codemirror_mode": {
    "name": "ipython",
    "version": 3
   },
   "file_extension": ".py",
   "mimetype": "text/x-python",
   "name": "python",
   "nbconvert_exporter": "python",
   "pygments_lexer": "ipython3",
   "version": "3.9.13"
  },
  "orig_nbformat": 4,
  "vscode": {
   "interpreter": {
    "hash": "384cce9a912c806dd63b1a7bc4ab56f548939919c673c9778041254ec13e5ae9"
   }
  }
 },
 "nbformat": 4,
 "nbformat_minor": 2
}
