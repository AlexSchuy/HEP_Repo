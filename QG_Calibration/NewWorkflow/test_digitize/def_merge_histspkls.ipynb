{
 "cells": [
  {
   "cell_type": "code",
   "execution_count": 1,
   "metadata": {},
   "outputs": [],
   "source": [
    "import joblib \n",
    "import numpy as np\n",
    "import pandas as pd \n",
    "from pathlib import Path\n",
    "import matplotlib.pyplot as plt\n",
    "import hist\n",
    "from hist import Hist \n",
    "from uncertainties import ufloat, unumpy\n",
    "import os, sys\n",
    "sys.path.append(\"../core\")\n",
    "\n",
    "from utils import *"
   ]
  },
  {
   "cell_type": "code",
   "execution_count": 3,
   "metadata": {},
   "outputs": [],
   "source": [
    "pythia_hists_merged = joblib.load(\"pythiaA_hists.pkl\")\n",
    "\n",
    "for period_mc in [\"D\", \"E\"]:\n",
    "    pythia_hists = joblib.load(f\"pythia{period_mc}_hists.pkl\")\n",
    "    for key_reweight, value_reweight in pythia_hists_merged.items():\n",
    "        for key_hist, value_hist in value_reweight.items():\n",
    "            pythia_hists_merged[key_reweight][key_hist] += value_hist\n",
    "\n",
    "joblib.dump(pythia_hists_merged, \"pythia_hists_merged.pkl\")\n"
   ]
  },
  {
   "cell_type": "code",
   "execution_count": 8,
   "metadata": {},
   "outputs": [
    {
     "data": {
      "text/plain": [
       "['data_hists_merged.pkl']"
      ]
     },
     "execution_count": 8,
     "metadata": {},
     "output_type": "execute_result"
    }
   ],
   "source": [
    "data_hists_merged = joblib.load(\"data1516_hists.pkl\")\n",
    "\n",
    "for period_data in [\"17\", \"18\"]:\n",
    "    data_hists = joblib.load(f\"data{period_data}_hists.pkl\")\n",
    "    for key_reweight, value_reweight in data_hists.items():\n",
    "        for key_hist, value_hist in value_reweight.items():\n",
    "            data_hists_merged[key_reweight][key_hist] += value_hist\n",
    "\n",
    "joblib.dump(data_hists_merged, \"data_hists_merged.pkl\")\n"
   ]
  },
  {
   "cell_type": "code",
   "execution_count": null,
   "metadata": {},
   "outputs": [],
   "source": []
  }
 ],
 "metadata": {
  "kernelspec": {
   "display_name": "ml",
   "language": "python",
   "name": "python3"
  },
  "language_info": {
   "codemirror_mode": {
    "name": "ipython",
    "version": 3
   },
   "file_extension": ".py",
   "mimetype": "text/x-python",
   "name": "python",
   "nbconvert_exporter": "python",
   "pygments_lexer": "ipython3",
   "version": "3.9.15"
  },
  "orig_nbformat": 4,
  "vscode": {
   "interpreter": {
    "hash": "14e3b66b9136298b1438aa954b24fb6042eb4a7b64fe2e32b506f4a92d36ab42"
   }
  }
 },
 "nbformat": 4,
 "nbformat_minor": 2
}
