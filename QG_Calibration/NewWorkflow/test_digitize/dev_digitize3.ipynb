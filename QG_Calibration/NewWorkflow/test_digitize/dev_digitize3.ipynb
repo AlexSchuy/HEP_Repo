{
 "cells": [
  {
   "cell_type": "code",
   "execution_count": 1,
   "metadata": {},
   "outputs": [],
   "source": [
    "import joblib \n",
    "import numpy as np\n",
    "import pandas as pd \n",
    "from pathlib import Path\n",
    "import matplotlib.pyplot as plt\n",
    "import hist\n",
    "from hist import Hist \n",
    "from uncertainties import ufloat, unumpy\n",
    "import os, sys\n",
    "sys.path.append(\"../core\")\n",
    "\n",
    "from utils import *"
   ]
  },
  {
   "cell_type": "code",
   "execution_count": 2,
   "metadata": {},
   "outputs": [],
   "source": [
    "#### Load reweighting file \n",
    "reweight_file_path = '/global/cfs/projectdirs/atlas/hrzhao/HEP_Repo/QG_Calibration/NewWorkflow/test_reweight/test_reweight_factor.pkl'\n",
    "reweight_file_path = Path(reweight_file_path)\n",
    "reweight_factor = joblib.load(reweight_file_path)\n"
   ]
  },
  {
   "cell_type": "code",
   "execution_count": 5,
   "metadata": {},
   "outputs": [],
   "source": [
    "#### Define reweighting options \n",
    "reweighting_vars = ['jet_nTracks', 'jet_trackBDT', 'GBDT_newScore'] \n",
    "all_weight_options = ['event_weight'] + [f'{reweight_var}_{parton}_reweighting_weights' for reweight_var in reweighting_vars for parton in ['quark', 'gluon']]"
   ]
  },
  {
   "cell_type": "code",
   "execution_count": 6,
   "metadata": {},
   "outputs": [],
   "source": [
    "for period_mc in [\"A\", \"D\", \"E\"]:\n",
    "    pythia_path = f'/global/cfs/projectdirs/atlas/hrzhao/HEP_Repo/QG_Calibration/tmp/pythia{period_mc}_pred.pkl'\n",
    "    pythia_pd = joblib.load(pythia_path)\n",
    "    pythia_pd = pythia_pd[(pythia_pd[\"jet_nTracks\"] > 1) & (pythia_pd[\"target\"] != '-')] \n",
    "\n",
    "    reweighted_pythia_pd = attach_reweight_factor(pythia_pd, reweight_factor)\n",
    "    joblib.dump(reweighted_pythia_pd, f'pythia{period_mc}_reweighted.pkl')\n",
    "\n",
    "    pythia_hists = {}\n",
    "    for weight in all_weight_options:\n",
    "        pythia_hists[weight] = digitize_pd(reweighted_pythia_pd, weight, data_type=\"MC\")\n",
    "\n",
    "    joblib.dump(pythia_hists, f\"pythia{period_mc}_hists.pkl\")"
   ]
  },
  {
   "cell_type": "code",
   "execution_count": 7,
   "metadata": {},
   "outputs": [],
   "source": [
    "for period_data in [\"1516\", \"17\", \"18\"]:\n",
    "    data_path = f'/global/cfs/projectdirs/atlas/hrzhao/HEP_Repo/QG_Calibration/tmp/data{period_data}_pred.pkl'\n",
    "    data_pd = joblib.load(data_path)\n",
    "    data_pd = data_pd[(data_pd[\"jet_nTracks\"] > 1)] \n",
    "\n",
    "    reweighted_data_pd = attach_reweight_factor(data_pd, reweight_factor)\n",
    "    joblib.dump(reweighted_data_pd, f'data{period_data}_reweighted.pkl')\n",
    "\n",
    "    data_hists = {}\n",
    "\n",
    "    for weight in all_weight_options:\n",
    "        data_hists[weight] = digitize_pd(reweighted_data_pd, weight, data_type= 'Data')\n",
    "        \n",
    "    \n",
    "    joblib.dump(data_hists, f\"data{period_data}_hists.pkl\")"
   ]
  },
  {
   "cell_type": "code",
   "execution_count": null,
   "metadata": {},
   "outputs": [],
   "source": [
    "def merge_unumpy_pkls():\n",
    "    "
   ]
  },
  {
   "cell_type": "code",
   "execution_count": null,
   "metadata": {},
   "outputs": [],
   "source": []
  }
 ],
 "metadata": {
  "kernelspec": {
   "display_name": "ml",
   "language": "python",
   "name": "python3"
  },
  "language_info": {
   "codemirror_mode": {
    "name": "ipython",
    "version": 3
   },
   "file_extension": ".py",
   "mimetype": "text/x-python",
   "name": "python",
   "nbconvert_exporter": "python",
   "pygments_lexer": "ipython3",
   "version": "3.9.15"
  },
  "orig_nbformat": 4,
  "vscode": {
   "interpreter": {
    "hash": "14e3b66b9136298b1438aa954b24fb6042eb4a7b64fe2e32b506f4a92d36ab42"
   }
  }
 },
 "nbformat": 4,
 "nbformat_minor": 2
}
