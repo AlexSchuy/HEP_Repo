{
 "cells": [
  {
   "cell_type": "code",
   "execution_count": 1,
   "metadata": {},
   "outputs": [],
   "source": [
    "import joblib \n",
    "import numpy as np\n",
    "import pandas as pd \n",
    "from pathlib import Path\n",
    "import matplotlib.pyplot as plt\n",
    "import hist\n",
    "from hist import Hist \n",
    "from uncertainties import ufloat, unumpy\n",
    "import os, sys\n",
    "sys.path.append(\"../core\")\n",
    "\n",
    "from utils import *"
   ]
  },
  {
   "cell_type": "code",
   "execution_count": 2,
   "metadata": {},
   "outputs": [],
   "source": [
    "period = \"A\" \n",
    "pythia_path = f'/global/cfs/projectdirs/atlas/hrzhao/HEP_Repo/QG_Calibration/tmp/pythia{period}_pred.pkl'\n",
    "pythia_pd = joblib.load(pythia_path)\n",
    "pythia_pd = pythia_pd[(pythia_pd[\"jet_nTracks\"] > 1) & (pythia_pd[\"target\"] != '-')] \n"
   ]
  },
  {
   "cell_type": "code",
   "execution_count": 3,
   "metadata": {},
   "outputs": [],
   "source": [
    "data_period = \"1516\"\n",
    "data_path = f'/global/cfs/projectdirs/atlas/hrzhao/HEP_Repo/QG_Calibration/tmp/data{data_period}_pred.pkl'\n",
    "data_pd = joblib.load(data_path)\n",
    "data_pd = data_pd[(data_pd[\"jet_nTracks\"] > 1)] "
   ]
  },
  {
   "cell_type": "code",
   "execution_count": 4,
   "metadata": {},
   "outputs": [],
   "source": [
    "reweight_file_path = '/global/cfs/projectdirs/atlas/hrzhao/HEP_Repo/QG_Calibration/NewWorkflow/test_reweight/test_reweight_factor2.pkl'\n",
    "reweight_file_path = Path(reweight_file_path)\n",
    "reweight_factor = joblib.load(reweight_file_path)"
   ]
  },
  {
   "cell_type": "code",
   "execution_count": 5,
   "metadata": {},
   "outputs": [],
   "source": [
    "reweighted_data_pd = attach_reweight_factor(data_pd, reweight_factor)\n",
    "reweighted_pythia_pd = attach_reweight_factor(pythia_pd, reweight_factor)"
   ]
  },
  {
   "cell_type": "code",
   "execution_count": 7,
   "metadata": {},
   "outputs": [
    {
     "data": {
      "text/html": [
       "<div>\n",
       "<style scoped>\n",
       "    .dataframe tbody tr th:only-of-type {\n",
       "        vertical-align: middle;\n",
       "    }\n",
       "\n",
       "    .dataframe tbody tr th {\n",
       "        vertical-align: top;\n",
       "    }\n",
       "\n",
       "    .dataframe thead th {\n",
       "        text-align: right;\n",
       "    }\n",
       "</style>\n",
       "<table border=\"1\" class=\"dataframe\">\n",
       "  <thead>\n",
       "    <tr style=\"text-align: right;\">\n",
       "      <th></th>\n",
       "      <th>run</th>\n",
       "      <th>event</th>\n",
       "      <th>jet_pt</th>\n",
       "      <th>jet_eta</th>\n",
       "      <th>jet_nTracks</th>\n",
       "      <th>jet_trackWidth</th>\n",
       "      <th>jet_trackC1</th>\n",
       "      <th>jet_trackBDT</th>\n",
       "      <th>jet_PartonTruthLabelID</th>\n",
       "      <th>event_weight</th>\n",
       "      <th>...</th>\n",
       "      <th>is_leading</th>\n",
       "      <th>pt_idx</th>\n",
       "      <th>target</th>\n",
       "      <th>GBDT_newScore</th>\n",
       "      <th>jet_nTracks_quark_reweighting_weights</th>\n",
       "      <th>jet_nTracks_gluon_reweighting_weights</th>\n",
       "      <th>jet_trackBDT_quark_reweighting_weights</th>\n",
       "      <th>jet_trackBDT_gluon_reweighting_weights</th>\n",
       "      <th>GBDT_newScore_quark_reweighting_weights</th>\n",
       "      <th>GBDT_newScore_gluon_reweighting_weights</th>\n",
       "    </tr>\n",
       "  </thead>\n",
       "  <tbody>\n",
       "    <tr>\n",
       "      <th>53939</th>\n",
       "      <td>364707.0</td>\n",
       "      <td>15450286.0</td>\n",
       "      <td>554.589966</td>\n",
       "      <td>1.039075</td>\n",
       "      <td>20.0</td>\n",
       "      <td>0.061749</td>\n",
       "      <td>0.199279</td>\n",
       "      <td>-0.024167</td>\n",
       "      <td>21.0</td>\n",
       "      <td>0.002462</td>\n",
       "      <td>...</td>\n",
       "      <td>0.0</td>\n",
       "      <td>0</td>\n",
       "      <td>1</td>\n",
       "      <td>-0.189685</td>\n",
       "      <td>0.002462</td>\n",
       "      <td>0.002462</td>\n",
       "      <td>0.002462</td>\n",
       "      <td>0.002462</td>\n",
       "      <td>0.002462</td>\n",
       "      <td>0.002462</td>\n",
       "    </tr>\n",
       "    <tr>\n",
       "      <th>72879</th>\n",
       "      <td>364707.0</td>\n",
       "      <td>12004426.0</td>\n",
       "      <td>582.164856</td>\n",
       "      <td>-0.601817</td>\n",
       "      <td>21.0</td>\n",
       "      <td>0.025921</td>\n",
       "      <td>0.223785</td>\n",
       "      <td>0.227491</td>\n",
       "      <td>21.0</td>\n",
       "      <td>0.005609</td>\n",
       "      <td>...</td>\n",
       "      <td>0.0</td>\n",
       "      <td>0</td>\n",
       "      <td>1</td>\n",
       "      <td>1.010659</td>\n",
       "      <td>0.005609</td>\n",
       "      <td>0.005609</td>\n",
       "      <td>0.005609</td>\n",
       "      <td>0.005609</td>\n",
       "      <td>0.005609</td>\n",
       "      <td>0.005609</td>\n",
       "    </tr>\n",
       "    <tr>\n",
       "      <th>120607</th>\n",
       "      <td>364707.0</td>\n",
       "      <td>14720243.0</td>\n",
       "      <td>544.812134</td>\n",
       "      <td>1.529484</td>\n",
       "      <td>11.0</td>\n",
       "      <td>0.024930</td>\n",
       "      <td>0.126167</td>\n",
       "      <td>-0.292486</td>\n",
       "      <td>1.0</td>\n",
       "      <td>0.006114</td>\n",
       "      <td>...</td>\n",
       "      <td>0.0</td>\n",
       "      <td>0</td>\n",
       "      <td>0</td>\n",
       "      <td>-2.082529</td>\n",
       "      <td>0.006114</td>\n",
       "      <td>0.006114</td>\n",
       "      <td>0.006114</td>\n",
       "      <td>0.006114</td>\n",
       "      <td>0.006114</td>\n",
       "      <td>0.006114</td>\n",
       "    </tr>\n",
       "    <tr>\n",
       "      <th>203109</th>\n",
       "      <td>364707.0</td>\n",
       "      <td>12634591.0</td>\n",
       "      <td>576.683289</td>\n",
       "      <td>0.778905</td>\n",
       "      <td>6.0</td>\n",
       "      <td>0.021471</td>\n",
       "      <td>0.126657</td>\n",
       "      <td>-0.476749</td>\n",
       "      <td>2.0</td>\n",
       "      <td>0.001317</td>\n",
       "      <td>...</td>\n",
       "      <td>0.0</td>\n",
       "      <td>0</td>\n",
       "      <td>0</td>\n",
       "      <td>-2.955314</td>\n",
       "      <td>0.001317</td>\n",
       "      <td>0.001317</td>\n",
       "      <td>0.001317</td>\n",
       "      <td>0.001317</td>\n",
       "      <td>0.001317</td>\n",
       "      <td>0.001317</td>\n",
       "    </tr>\n",
       "    <tr>\n",
       "      <th>34293</th>\n",
       "      <td>364707.0</td>\n",
       "      <td>12187134.0</td>\n",
       "      <td>557.575928</td>\n",
       "      <td>-0.738470</td>\n",
       "      <td>20.0</td>\n",
       "      <td>0.078138</td>\n",
       "      <td>0.272633</td>\n",
       "      <td>0.092275</td>\n",
       "      <td>21.0</td>\n",
       "      <td>0.001952</td>\n",
       "      <td>...</td>\n",
       "      <td>0.0</td>\n",
       "      <td>0</td>\n",
       "      <td>1</td>\n",
       "      <td>0.344464</td>\n",
       "      <td>0.001952</td>\n",
       "      <td>0.001952</td>\n",
       "      <td>0.001952</td>\n",
       "      <td>0.001952</td>\n",
       "      <td>0.001952</td>\n",
       "      <td>0.001952</td>\n",
       "    </tr>\n",
       "    <tr>\n",
       "      <th>...</th>\n",
       "      <td>...</td>\n",
       "      <td>...</td>\n",
       "      <td>...</td>\n",
       "      <td>...</td>\n",
       "      <td>...</td>\n",
       "      <td>...</td>\n",
       "      <td>...</td>\n",
       "      <td>...</td>\n",
       "      <td>...</td>\n",
       "      <td>...</td>\n",
       "      <td>...</td>\n",
       "      <td>...</td>\n",
       "      <td>...</td>\n",
       "      <td>...</td>\n",
       "      <td>...</td>\n",
       "      <td>...</td>\n",
       "      <td>...</td>\n",
       "      <td>...</td>\n",
       "      <td>...</td>\n",
       "      <td>...</td>\n",
       "      <td>...</td>\n",
       "    </tr>\n",
       "    <tr>\n",
       "      <th>442</th>\n",
       "      <td>364709.0</td>\n",
       "      <td>6582182.0</td>\n",
       "      <td>1915.680664</td>\n",
       "      <td>0.150024</td>\n",
       "      <td>18.0</td>\n",
       "      <td>0.010675</td>\n",
       "      <td>0.155310</td>\n",
       "      <td>-0.127678</td>\n",
       "      <td>1.0</td>\n",
       "      <td>0.000005</td>\n",
       "      <td>...</td>\n",
       "      <td>1.0</td>\n",
       "      <td>5</td>\n",
       "      <td>0</td>\n",
       "      <td>-2.169957</td>\n",
       "      <td>0.000005</td>\n",
       "      <td>0.000005</td>\n",
       "      <td>0.000005</td>\n",
       "      <td>0.000005</td>\n",
       "      <td>0.000005</td>\n",
       "      <td>0.000005</td>\n",
       "    </tr>\n",
       "    <tr>\n",
       "      <th>446</th>\n",
       "      <td>364709.0</td>\n",
       "      <td>6598083.0</td>\n",
       "      <td>1993.789551</td>\n",
       "      <td>-0.140651</td>\n",
       "      <td>50.0</td>\n",
       "      <td>0.178610</td>\n",
       "      <td>0.314267</td>\n",
       "      <td>0.227506</td>\n",
       "      <td>1.0</td>\n",
       "      <td>0.000005</td>\n",
       "      <td>...</td>\n",
       "      <td>1.0</td>\n",
       "      <td>5</td>\n",
       "      <td>0</td>\n",
       "      <td>0.255176</td>\n",
       "      <td>0.000005</td>\n",
       "      <td>0.000005</td>\n",
       "      <td>0.000005</td>\n",
       "      <td>0.000005</td>\n",
       "      <td>0.000005</td>\n",
       "      <td>0.000005</td>\n",
       "    </tr>\n",
       "    <tr>\n",
       "      <th>449</th>\n",
       "      <td>364709.0</td>\n",
       "      <td>6593184.0</td>\n",
       "      <td>1634.645508</td>\n",
       "      <td>0.103605</td>\n",
       "      <td>15.0</td>\n",
       "      <td>0.026987</td>\n",
       "      <td>0.211595</td>\n",
       "      <td>-0.195076</td>\n",
       "      <td>2.0</td>\n",
       "      <td>0.000005</td>\n",
       "      <td>...</td>\n",
       "      <td>0.0</td>\n",
       "      <td>5</td>\n",
       "      <td>0</td>\n",
       "      <td>-2.138587</td>\n",
       "      <td>0.000005</td>\n",
       "      <td>0.000005</td>\n",
       "      <td>0.000005</td>\n",
       "      <td>0.000005</td>\n",
       "      <td>0.000005</td>\n",
       "      <td>0.000005</td>\n",
       "    </tr>\n",
       "    <tr>\n",
       "      <th>450</th>\n",
       "      <td>364709.0</td>\n",
       "      <td>6594460.0</td>\n",
       "      <td>1659.721680</td>\n",
       "      <td>0.385620</td>\n",
       "      <td>23.0</td>\n",
       "      <td>0.027218</td>\n",
       "      <td>0.203993</td>\n",
       "      <td>0.015940</td>\n",
       "      <td>2.0</td>\n",
       "      <td>0.000006</td>\n",
       "      <td>...</td>\n",
       "      <td>1.0</td>\n",
       "      <td>5</td>\n",
       "      <td>0</td>\n",
       "      <td>-0.673563</td>\n",
       "      <td>0.000006</td>\n",
       "      <td>0.000006</td>\n",
       "      <td>0.000006</td>\n",
       "      <td>0.000006</td>\n",
       "      <td>0.000006</td>\n",
       "      <td>0.000006</td>\n",
       "    </tr>\n",
       "    <tr>\n",
       "      <th>455</th>\n",
       "      <td>364709.0</td>\n",
       "      <td>6593182.0</td>\n",
       "      <td>1711.881104</td>\n",
       "      <td>0.358793</td>\n",
       "      <td>19.0</td>\n",
       "      <td>0.025161</td>\n",
       "      <td>0.191503</td>\n",
       "      <td>-0.072238</td>\n",
       "      <td>2.0</td>\n",
       "      <td>0.000011</td>\n",
       "      <td>...</td>\n",
       "      <td>0.0</td>\n",
       "      <td>5</td>\n",
       "      <td>0</td>\n",
       "      <td>-1.611161</td>\n",
       "      <td>0.000011</td>\n",
       "      <td>0.000011</td>\n",
       "      <td>0.000011</td>\n",
       "      <td>0.000011</td>\n",
       "      <td>0.000011</td>\n",
       "      <td>0.000011</td>\n",
       "    </tr>\n",
       "  </tbody>\n",
       "</table>\n",
       "<p>55968852 rows × 21 columns</p>\n",
       "</div>"
      ],
      "text/plain": [
       "             run       event       jet_pt   jet_eta  jet_nTracks  \\\n",
       "53939   364707.0  15450286.0   554.589966  1.039075         20.0   \n",
       "72879   364707.0  12004426.0   582.164856 -0.601817         21.0   \n",
       "120607  364707.0  14720243.0   544.812134  1.529484         11.0   \n",
       "203109  364707.0  12634591.0   576.683289  0.778905          6.0   \n",
       "34293   364707.0  12187134.0   557.575928 -0.738470         20.0   \n",
       "...          ...         ...          ...       ...          ...   \n",
       "442     364709.0   6582182.0  1915.680664  0.150024         18.0   \n",
       "446     364709.0   6598083.0  1993.789551 -0.140651         50.0   \n",
       "449     364709.0   6593184.0  1634.645508  0.103605         15.0   \n",
       "450     364709.0   6594460.0  1659.721680  0.385620         23.0   \n",
       "455     364709.0   6593182.0  1711.881104  0.358793         19.0   \n",
       "\n",
       "        jet_trackWidth  jet_trackC1  jet_trackBDT  jet_PartonTruthLabelID  \\\n",
       "53939         0.061749     0.199279     -0.024167                    21.0   \n",
       "72879         0.025921     0.223785      0.227491                    21.0   \n",
       "120607        0.024930     0.126167     -0.292486                     1.0   \n",
       "203109        0.021471     0.126657     -0.476749                     2.0   \n",
       "34293         0.078138     0.272633      0.092275                    21.0   \n",
       "...                ...          ...           ...                     ...   \n",
       "442           0.010675     0.155310     -0.127678                     1.0   \n",
       "446           0.178610     0.314267      0.227506                     1.0   \n",
       "449           0.026987     0.211595     -0.195076                     2.0   \n",
       "450           0.027218     0.203993      0.015940                     2.0   \n",
       "455           0.025161     0.191503     -0.072238                     2.0   \n",
       "\n",
       "        event_weight  ...  is_leading  pt_idx  target GBDT_newScore  \\\n",
       "53939       0.002462  ...         0.0       0       1     -0.189685   \n",
       "72879       0.005609  ...         0.0       0       1      1.010659   \n",
       "120607      0.006114  ...         0.0       0       0     -2.082529   \n",
       "203109      0.001317  ...         0.0       0       0     -2.955314   \n",
       "34293       0.001952  ...         0.0       0       1      0.344464   \n",
       "...              ...  ...         ...     ...     ...           ...   \n",
       "442         0.000005  ...         1.0       5       0     -2.169957   \n",
       "446         0.000005  ...         1.0       5       0      0.255176   \n",
       "449         0.000005  ...         0.0       5       0     -2.138587   \n",
       "450         0.000006  ...         1.0       5       0     -0.673563   \n",
       "455         0.000011  ...         0.0       5       0     -1.611161   \n",
       "\n",
       "        jet_nTracks_quark_reweighting_weights  \\\n",
       "53939                                0.002462   \n",
       "72879                                0.005609   \n",
       "120607                               0.006114   \n",
       "203109                               0.001317   \n",
       "34293                                0.001952   \n",
       "...                                       ...   \n",
       "442                                  0.000005   \n",
       "446                                  0.000005   \n",
       "449                                  0.000005   \n",
       "450                                  0.000006   \n",
       "455                                  0.000011   \n",
       "\n",
       "        jet_nTracks_gluon_reweighting_weights  \\\n",
       "53939                                0.002462   \n",
       "72879                                0.005609   \n",
       "120607                               0.006114   \n",
       "203109                               0.001317   \n",
       "34293                                0.001952   \n",
       "...                                       ...   \n",
       "442                                  0.000005   \n",
       "446                                  0.000005   \n",
       "449                                  0.000005   \n",
       "450                                  0.000006   \n",
       "455                                  0.000011   \n",
       "\n",
       "        jet_trackBDT_quark_reweighting_weights  \\\n",
       "53939                                 0.002462   \n",
       "72879                                 0.005609   \n",
       "120607                                0.006114   \n",
       "203109                                0.001317   \n",
       "34293                                 0.001952   \n",
       "...                                        ...   \n",
       "442                                   0.000005   \n",
       "446                                   0.000005   \n",
       "449                                   0.000005   \n",
       "450                                   0.000006   \n",
       "455                                   0.000011   \n",
       "\n",
       "        jet_trackBDT_gluon_reweighting_weights  \\\n",
       "53939                                 0.002462   \n",
       "72879                                 0.005609   \n",
       "120607                                0.006114   \n",
       "203109                                0.001317   \n",
       "34293                                 0.001952   \n",
       "...                                        ...   \n",
       "442                                   0.000005   \n",
       "446                                   0.000005   \n",
       "449                                   0.000005   \n",
       "450                                   0.000006   \n",
       "455                                   0.000011   \n",
       "\n",
       "        GBDT_newScore_quark_reweighting_weights  \\\n",
       "53939                                  0.002462   \n",
       "72879                                  0.005609   \n",
       "120607                                 0.006114   \n",
       "203109                                 0.001317   \n",
       "34293                                  0.001952   \n",
       "...                                         ...   \n",
       "442                                    0.000005   \n",
       "446                                    0.000005   \n",
       "449                                    0.000005   \n",
       "450                                    0.000006   \n",
       "455                                    0.000011   \n",
       "\n",
       "        GBDT_newScore_gluon_reweighting_weights  \n",
       "53939                                  0.002462  \n",
       "72879                                  0.005609  \n",
       "120607                                 0.006114  \n",
       "203109                                 0.001317  \n",
       "34293                                  0.001952  \n",
       "...                                         ...  \n",
       "442                                    0.000005  \n",
       "446                                    0.000005  \n",
       "449                                    0.000005  \n",
       "450                                    0.000006  \n",
       "455                                    0.000011  \n",
       "\n",
       "[55968852 rows x 21 columns]"
      ]
     },
     "execution_count": 7,
     "metadata": {},
     "output_type": "execute_result"
    }
   ],
   "source": [
    "reweighted_pythia_pd"
   ]
  },
  {
   "cell_type": "code",
   "execution_count": 6,
   "metadata": {},
   "outputs": [
    {
     "data": {
      "text/plain": [
       "['data1516_reweighted.pkl']"
      ]
     },
     "execution_count": 6,
     "metadata": {},
     "output_type": "execute_result"
    }
   ],
   "source": [
    "joblib.dump(reweighted_pythia_pd, f'pythia{period}_reweighted.pkl')\n",
    "joblib.dump(reweighted_data_pd, f'data{data_period}_reweighted.pkl')"
   ]
  },
  {
   "cell_type": "code",
   "execution_count": 7,
   "metadata": {},
   "outputs": [],
   "source": [
    "reweighting_vars = ['jet_nTracks', 'jet_trackBDT', 'GBDT_newScore'] \n",
    "all_weight_options = ['event_weight'] + [f'{reweight_var}_{parton}_reweighting_weights' for reweight_var in reweighting_vars for parton in ['quark', 'gluon']]"
   ]
  },
  {
   "cell_type": "code",
   "execution_count": 8,
   "metadata": {},
   "outputs": [],
   "source": [
    "pythiaA_hists = {}\n",
    "data1516_hists = {}\n",
    "for weight in all_weight_options:\n",
    "    pythiaA_hists[weight] = digitize_pd(reweighted_pythia_pd, weight)\n",
    "    data1516_hists[weight] = digitize_pd(reweighted_data_pd, weight, data_type= 'Data')"
   ]
  },
  {
   "cell_type": "code",
   "execution_count": 13,
   "metadata": {},
   "outputs": [
    {
     "data": {
      "text/plain": [
       "672"
      ]
     },
     "execution_count": 13,
     "metadata": {},
     "output_type": "execute_result"
    }
   ],
   "source": [
    "len(pythiaA_hists['event_weight'])\n",
    "\n",
    "# 7 * 672 = 4k plots "
   ]
  },
  {
   "cell_type": "code",
   "execution_count": null,
   "metadata": {},
   "outputs": [],
   "source": [
    "data1516_hists['event_weight']"
   ]
  },
  {
   "cell_type": "code",
   "execution_count": 10,
   "metadata": {},
   "outputs": [
    {
     "data": {
      "text/plain": [
       "['data1516_hists.pkl']"
      ]
     },
     "execution_count": 10,
     "metadata": {},
     "output_type": "execute_result"
    }
   ],
   "source": [
    "joblib.dump(pythiaA_hists, \"pythiaA_hists.pkl\")\n",
    "joblib.dump(data1516_hists, \"data1516_hists.pkl\")"
   ]
  },
  {
   "cell_type": "code",
   "execution_count": null,
   "metadata": {},
   "outputs": [],
   "source": [
    "all_weight_options"
   ]
  },
  {
   "cell_type": "code",
   "execution_count": null,
   "metadata": {},
   "outputs": [],
   "source": [
    "reweighted_data_pd.head()"
   ]
  },
  {
   "cell_type": "code",
   "execution_count": null,
   "metadata": {},
   "outputs": [],
   "source": [
    "data1516_hists"
   ]
  },
  {
   "cell_type": "code",
   "execution_count": null,
   "metadata": {},
   "outputs": [],
   "source": [
    "reweight_factor[500]['jet_nTracks']['quark_factor']"
   ]
  },
  {
   "cell_type": "code",
   "execution_count": null,
   "metadata": {},
   "outputs": [],
   "source": []
  },
  {
   "attachments": {},
   "cell_type": "markdown",
   "metadata": {},
   "source": [
    "# Debug reweighting"
   ]
  },
  {
   "cell_type": "code",
   "execution_count": 11,
   "metadata": {},
   "outputs": [],
   "source": [
    "reweighted_pythia_pd = joblib.load(f'pythia{period}_reweighted.pkl')"
   ]
  },
  {
   "cell_type": "code",
   "execution_count": null,
   "metadata": {},
   "outputs": [],
   "source": [
    "reweighted_pythia_pd.head()"
   ]
  },
  {
   "cell_type": "code",
   "execution_count": 12,
   "metadata": {},
   "outputs": [],
   "source": [
    "reweighted_pythia_pd_at_pt = reweighted_pythia_pd[reweighted_pythia_pd['pt_idx']==0]"
   ]
  },
  {
   "cell_type": "code",
   "execution_count": 13,
   "metadata": {},
   "outputs": [],
   "source": [
    "forward = reweighted_pythia_pd_at_pt[reweighted_pythia_pd_at_pt['is_forward']==1]\n",
    "central = reweighted_pythia_pd_at_pt[reweighted_pythia_pd_at_pt['is_forward']==0]\n",
    "\n",
    "forward_quark = forward[forward['target']==0]\n",
    "central_quark = central[central['target']==0]"
   ]
  },
  {
   "cell_type": "code",
   "execution_count": 14,
   "metadata": {},
   "outputs": [],
   "source": [
    "import hist\n",
    "from hist import Hist\n",
    "\n",
    "def make_hist(values, bins, weights):\n",
    "    # assuming bins numpy array with (start, stop, n_edges)\n",
    "    _hist = Hist(hist.axis.Regular(bins=len(bins)-1, start=bins[0], stop=bins[-1], overflow=True, underflow=True), \n",
    "                                storage=hist.storage.Weight())\n",
    "    _hist.fill(values, weight=weights)\n",
    "    \n",
    "    factor = np.sum(_hist.values())\n",
    "    _normed_hist = _hist / (factor * _hist.axes[0].widths)\n",
    "\n",
    "    return _hist, _normed_hist"
   ]
  },
  {
   "cell_type": "code",
   "execution_count": 15,
   "metadata": {},
   "outputs": [
    {
     "data": {
      "text/plain": [
       "(([StairsArtists(stairs=<matplotlib.patches.StepPatch object at 0x1553fa9ef3d0>, errorbar=<ErrorbarContainer object of 3 artists>, legend_artist=<ErrorbarContainer object of 3 artists>)],\n",
       "  [StairsArtists(stairs=<matplotlib.patches.StepPatch object at 0x1553f9a70520>, errorbar=<ErrorbarContainer object of 3 artists>, legend_artist=<ErrorbarContainer object of 3 artists>)]),\n",
       " RatioErrorbarArtists(line=<matplotlib.lines.Line2D object at 0x1553fa9ef2b0>, errorbar=<ErrorbarContainer object of 3 artists>))"
      ]
     },
     "execution_count": 15,
     "metadata": {},
     "output_type": "execute_result"
    },
    {
     "data": {
      "image/png": "[encoded data removed]",
      "text/plain": [
       "<Figure size 640x480 with 2 Axes>"
      ]
     },
     "metadata": {},
     "output_type": "display_data"
    }
   ],
   "source": [
    "var = 'jet_nTracks'\n",
    "\n",
    "custom_bins = np.linspace(0,60,61)\n",
    "weight = 'event_weight'\n",
    "h1, normed_h1 = make_hist(forward_quark[var], bins = custom_bins, weights=forward_quark[weight])\n",
    "h2, normed_h2 = make_hist(central_quark[var], bins = custom_bins, weights=central_quark[weight])\n",
    "normed_h1.plot_ratio(normed_h2)\n"
   ]
  },
  {
   "cell_type": "code",
   "execution_count": 16,
   "metadata": {},
   "outputs": [
    {
     "data": {
      "text/plain": [
       "(([StairsArtists(stairs=<matplotlib.patches.StepPatch object at 0x15537c8b8580>, errorbar=<ErrorbarContainer object of 3 artists>, legend_artist=<ErrorbarContainer object of 3 artists>)],\n",
       "  [StairsArtists(stairs=<matplotlib.patches.StepPatch object at 0x15537c8690d0>, errorbar=<ErrorbarContainer object of 3 artists>, legend_artist=<ErrorbarContainer object of 3 artists>)]),\n",
       " RatioErrorbarArtists(line=<matplotlib.lines.Line2D object at 0x15537c8b8460>, errorbar=<ErrorbarContainer object of 3 artists>))"
      ]
     },
     "execution_count": 16,
     "metadata": {},
     "output_type": "execute_result"
    },
    {
     "data": {
      "image/png": "[encoded data removed]",
      "text/plain": [
       "<Figure size 640x480 with 2 Axes>"
      ]
     },
     "metadata": {},
     "output_type": "display_data"
    }
   ],
   "source": [
    "custom_bins = np.linspace(0,60,61)\n",
    "weight = 'jet_nTracks_quark_reweighting_weights'\n",
    "h1, normed_h1 = make_hist(forward_quark[var], bins = custom_bins, weights=forward_quark[weight])\n",
    "h2, normed_h2 = make_hist(central_quark[var], bins = custom_bins, weights=central_quark[weight])\n",
    "normed_h1.plot_ratio(normed_h2)\n"
   ]
  },
  {
   "cell_type": "code",
   "execution_count": 18,
   "metadata": {},
   "outputs": [
    {
     "data": {
      "text/plain": [
       "(([StairsArtists(stairs=<matplotlib.patches.StepPatch object at 0x15537998f2e0>, errorbar=<ErrorbarContainer object of 3 artists>, legend_artist=<ErrorbarContainer object of 3 artists>)],\n",
       "  [StairsArtists(stairs=<matplotlib.patches.StepPatch object at 0x155379940580>, errorbar=<ErrorbarContainer object of 3 artists>, legend_artist=<ErrorbarContainer object of 3 artists>)]),\n",
       " RatioErrorbarArtists(line=<matplotlib.lines.Line2D object at 0x1553798ecac0>, errorbar=<ErrorbarContainer object of 3 artists>))"
      ]
     },
     "execution_count": 18,
     "metadata": {},
     "output_type": "execute_result"
    },
    {
     "data": {
      "image/png": "[encoded data removed]",
      "text/plain": [
       "<Figure size 640x480 with 2 Axes>"
      ]
     },
     "metadata": {},
     "output_type": "display_data"
    }
   ],
   "source": [
    "var = 'GBDT_newScore'\n",
    "custom_bins = np.linspace(-5.0,5,101)\n",
    "weight = 'GBDT_newScore_quark_reweighting_weights'\n",
    "h1, normed_h1 = make_hist(forward_quark[var], bins = custom_bins, weights=forward_quark[weight])\n",
    "h2, normed_h2 = make_hist(central_quark[var], bins = custom_bins, weights=central_quark[weight])\n",
    "normed_h1.plot_ratio(normed_h2)\n"
   ]
  },
  {
   "cell_type": "code",
   "execution_count": null,
   "metadata": {},
   "outputs": [],
   "source": [
    "var = 'jet_nTracks'\n",
    "forward = reweighted_pythia_pd_at_pt[reweighted_pythia_pd_at_pt['is_forward']==1]\n",
    "central = reweighted_pythia_pd_at_pt[reweighted_pythia_pd_at_pt['is_forward']==0]\n",
    "plt.hist(forward[var], weights=forward['event_weight'])\n",
    "plt.hist(central[var], weights=central['event_weight'])\n"
   ]
  }
 ],
 "metadata": {
  "kernelspec": {
   "display_name": "ml",
   "language": "python",
   "name": "python3"
  },
  "language_info": {
   "codemirror_mode": {
    "name": "ipython",
    "version": 3
   },
   "file_extension": ".py",
   "mimetype": "text/x-python",
   "name": "python",
   "nbconvert_exporter": "python",
   "pygments_lexer": "ipython3",
   "version": "3.9.15"
  },
  "orig_nbformat": 4,
  "vscode": {
   "interpreter": {
    "hash": "14e3b66b9136298b1438aa954b24fb6042eb4a7b64fe2e32b506f4a92d36ab42"
   }
  }
 },
 "nbformat": 4,
 "nbformat_minor": 2
}
