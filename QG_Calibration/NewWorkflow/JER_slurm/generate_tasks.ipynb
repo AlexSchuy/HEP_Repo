{
 "cells": [
  {
   "cell_type": "code",
   "execution_count": 2,
   "metadata": {},
   "outputs": [],
   "source": [
    "import joblib\n",
    "import numpy as np \n",
    "from pathlib import Path\n",
    "import uproot "
   ]
  },
  {
   "cell_type": "code",
   "execution_count": 3,
   "metadata": {},
   "outputs": [],
   "source": [
    "pythia_file_path='/global/cfs/projectdirs/atlas/hrzhao/qgcal/Samples_Dec11/pythia/pythiaA/user.wasu.Dec11a.mc16_13TeV.364709.Pythia8EvtGen_A14NNPDF23LO_jetjet_JZ9WithSW_minitrees.root/user.wasu.31564717._000001.minitrees.root'\n",
    "pythia_file_path= Path(pythia_file_path)\n",
    "pythia_root = uproot.open(pythia_file_path)"
   ]
  },
  {
   "cell_type": "code",
   "execution_count": 25,
   "metadata": {},
   "outputs": [],
   "source": [
    "keys = [*pythia_root.keys()]"
   ]
  },
  {
   "cell_type": "code",
   "execution_count": 26,
   "metadata": {},
   "outputs": [],
   "source": [
    "# remove the cycle number ';1'\n",
    "keys = [key[:-2] for key in keys]\n",
    "\n",
    "# remove the nominal tree\n",
    "if 'nominal' in keys:\n",
    "    keys.remove('nominal')\n",
    "\n",
    "# Remove the following two tree \n",
    "#  'syst_PRW_DATASF__1down;1',\n",
    "#  'syst_PRW_DATASF__1up;1']\n",
    "keys = [key for key in keys if key.startswith('syst_JET')]\n"
   ]
  },
  {
   "cell_type": "code",
   "execution_count": 30,
   "metadata": {},
   "outputs": [],
   "source": [
    "with open('tasks.txt', 'w') as f:\n",
    "    f.write('#!/usr/bin/env bash\\n\\n')\n",
    "\n",
    "    for key in keys:\n",
    "        f.write(f\"/global/cfs/projectdirs/atlas/hrzhao/HEP_Repo/QG_Calibration/NewWorkflow/JER_slurm/wrapper.sh {key}\\n\")"
   ]
  },
  {
   "cell_type": "code",
   "execution_count": null,
   "metadata": {},
   "outputs": [],
   "source": []
  }
 ],
 "metadata": {
  "kernelspec": {
   "display_name": "ml",
   "language": "python",
   "name": "python3"
  },
  "language_info": {
   "codemirror_mode": {
    "name": "ipython",
    "version": 3
   },
   "file_extension": ".py",
   "mimetype": "text/x-python",
   "name": "python",
   "nbconvert_exporter": "python",
   "pygments_lexer": "ipython3",
   "version": "3.9.15"
  },
  "orig_nbformat": 4,
  "vscode": {
   "interpreter": {
    "hash": "14e3b66b9136298b1438aa954b24fb6042eb4a7b64fe2e32b506f4a92d36ab42"
   }
  }
 },
 "nbformat": 4,
 "nbformat_minor": 2
}
