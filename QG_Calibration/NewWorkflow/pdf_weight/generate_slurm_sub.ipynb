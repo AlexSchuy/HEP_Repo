{
 "cells": [
  {
   "cell_type": "code",
   "execution_count": 5,
   "metadata": {},
   "outputs": [],
   "source": [
    "import joblib\n",
    "import numpy as np \n",
    "from pathlib import Path\n",
    "import uproot "
   ]
  },
  {
   "cell_type": "code",
   "execution_count": 6,
   "metadata": {},
   "outputs": [],
   "source": [
    "syst_identifier = 'pdf_weight'\n",
    "slurm_log_path = f'/global/cfs/projectdirs/atlas/hrzhao/HEP_Repo/QG_Calibration/NewWorkflow/{syst_identifier}/slurm_logs/'\n",
    "slurm_sub_path = f'/global/cfs/projectdirs/atlas/hrzhao/HEP_Repo/QG_Calibration/NewWorkflow/{syst_identifier}/slurm_subs/'\n",
    "\n",
    "wrapper_path = f'/global/cfs/projectdirs/atlas/hrzhao/HEP_Repo/QG_Calibration/NewWorkflow/{syst_identifier}/make_histogram.sh'\n",
    "\n",
    "tasks_per_sub = 10"
   ]
  },
  {
   "cell_type": "code",
   "execution_count": 7,
   "metadata": {},
   "outputs": [],
   "source": [
    "def generate_sub_header(i):\n",
    "    script= '#!/bin/bash\\n\\n'+\\\n",
    "            '#SBATCH -C cpu\\n'+\\\n",
    "            '#SBATCH -t 1:00:00\\n'+\\\n",
    "            f'#SBATCH -J qgtagging_{syst_identifier}{i}\\n'+\\\n",
    "            '#SBATCH --qos=shared\\n'+\\\n",
    "            '#SBATCH --ntasks=1\\n'+\\\n",
    "            '#SBATCH --cpus-per-task=10\\n'+\\\n",
    "            '#SBATCH --account=atlas\\n'+\\\n",
    "            '#SBATCH --mem=80G\\n'+\\\n",
    "            f'#SBATCH --output={slurm_sub_path}/slurm-%j.out\\n'+\\\n",
    "            f'#SBATCH --error={slurm_log_path}/slurm-%j.err\\n\\n\\n'\n",
    "    return script\n"
   ]
  },
  {
   "cell_type": "code",
   "execution_count": 8,
   "metadata": {},
   "outputs": [],
   "source": [
    "pdf_weight_uncertainties = list(map(str, list(np.arange(1, 101, 1))))\n",
    "for i, block in enumerate(pdf_weight_uncertainties):\n",
    "    with open(f'{slurm_sub_path}/{syst_identifier}_slurm_sub{i}.sl', 'w') as f:\n",
    "        f.write(generate_sub_header(i))\n",
    "\n",
    "        for key in block:\n",
    "            f.write(f\"{wrapper_path} {key}\\n\")\n"
   ]
  },
  {
   "cell_type": "code",
   "execution_count": null,
   "metadata": {},
   "outputs": [],
   "source": []
  }
 ],
 "metadata": {
  "kernelspec": {
   "display_name": "ml",
   "language": "python",
   "name": "python3"
  },
  "language_info": {
   "codemirror_mode": {
    "name": "ipython",
    "version": 3
   },
   "file_extension": ".py",
   "mimetype": "text/x-python",
   "name": "python",
   "nbconvert_exporter": "python",
   "pygments_lexer": "ipython3",
   "version": "3.9.15"
  },
  "orig_nbformat": 4,
  "vscode": {
   "interpreter": {
    "hash": "14e3b66b9136298b1438aa954b24fb6042eb4a7b64fe2e32b506f4a92d36ab42"
   }
  }
 },
 "nbformat": 4,
 "nbformat_minor": 2
}
