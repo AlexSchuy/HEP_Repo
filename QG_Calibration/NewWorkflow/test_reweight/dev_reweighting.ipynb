{
 "cells": [
  {
   "cell_type": "code",
   "execution_count": 1,
   "metadata": {},
   "outputs": [],
   "source": [
    "import joblib \n",
    "import numpy as np\n",
    "import pandas as pd \n",
    "from pathlib import Path\n",
    "import matplotlib.pyplot as plt\n",
    "import boost_histogram as bh\n",
    "import hist\n",
    "from hist import Hist "
   ]
  },
  {
   "cell_type": "code",
   "execution_count": 2,
   "metadata": {},
   "outputs": [],
   "source": [
    "pythia_pkls = {}\n",
    "for period in [\"A\", \"D\", \"E\"]:\n",
    "    pythiaA_pkl_path = f'/global/cfs/projectdirs/atlas/hrzhao/HEP_Repo/QG_Calibration/tmp/pythia{period}_pred.pkl'\n",
    "    pythiaA_pkl_path = Path(pythiaA_pkl_path)\n",
    "    pythia_pd = joblib.load(pythiaA_pkl_path)\n",
    "    pythia_pkls[f'pythia{period}'] = pythia_pd[(pythia_pd[\"jet_nTracks\"] > 1) & (pythia_pd[\"target\"] != '-')] \n"
   ]
  },
  {
   "cell_type": "code",
   "execution_count": 3,
   "metadata": {},
   "outputs": [],
   "source": [
    "reweighting_input = []\n",
    "reweighting_vars = ['jet_nTracks', 'jet_trackBDT', 'GBDT_newScore'] \n",
    "reweighting_input_keys = reweighting_vars + ['is_forward', 'pt_idx','event_weight', 'target']\n",
    "\n",
    "for pythia_key, pythia_pd in pythia_pkls.items():\n",
    "    # drop jets with truth parton id == -1 \n",
    "    reweighting_input.append(pythia_pkls[pythia_key][reweighting_input_keys])\n",
    "    \n",
    "reweighting_input = pd.concat(reweighting_input)"
   ]
  },
  {
   "cell_type": "code",
   "execution_count": 4,
   "metadata": {},
   "outputs": [
    {
     "data": {
      "text/html": [
       "<div>\n",
       "<style scoped>\n",
       "    .dataframe tbody tr th:only-of-type {\n",
       "        vertical-align: middle;\n",
       "    }\n",
       "\n",
       "    .dataframe tbody tr th {\n",
       "        vertical-align: top;\n",
       "    }\n",
       "\n",
       "    .dataframe thead th {\n",
       "        text-align: right;\n",
       "    }\n",
       "</style>\n",
       "<table border=\"1\" class=\"dataframe\">\n",
       "  <thead>\n",
       "    <tr style=\"text-align: right;\">\n",
       "      <th></th>\n",
       "      <th>jet_nTracks</th>\n",
       "      <th>jet_trackBDT</th>\n",
       "      <th>GBDT_newScore</th>\n",
       "      <th>is_forward</th>\n",
       "      <th>pt_idx</th>\n",
       "      <th>event_weight</th>\n",
       "      <th>target</th>\n",
       "    </tr>\n",
       "  </thead>\n",
       "  <tbody>\n",
       "    <tr>\n",
       "      <th>0</th>\n",
       "      <td>2.0</td>\n",
       "      <td>-0.192873</td>\n",
       "      <td>-1.726218</td>\n",
       "      <td>1.0</td>\n",
       "      <td>1</td>\n",
       "      <td>17.609434</td>\n",
       "      <td>1</td>\n",
       "    </tr>\n",
       "    <tr>\n",
       "      <th>0</th>\n",
       "      <td>11.0</td>\n",
       "      <td>-0.442511</td>\n",
       "      <td>-3.864761</td>\n",
       "      <td>1.0</td>\n",
       "      <td>5</td>\n",
       "      <td>0.002348</td>\n",
       "      <td>0</td>\n",
       "    </tr>\n",
       "    <tr>\n",
       "      <th>1</th>\n",
       "      <td>14.0</td>\n",
       "      <td>-0.290822</td>\n",
       "      <td>-2.973750</td>\n",
       "      <td>0.0</td>\n",
       "      <td>5</td>\n",
       "      <td>0.002348</td>\n",
       "      <td>0</td>\n",
       "    </tr>\n",
       "    <tr>\n",
       "      <th>2</th>\n",
       "      <td>39.0</td>\n",
       "      <td>0.295834</td>\n",
       "      <td>0.704581</td>\n",
       "      <td>1.0</td>\n",
       "      <td>5</td>\n",
       "      <td>0.004385</td>\n",
       "      <td>1</td>\n",
       "    </tr>\n",
       "    <tr>\n",
       "      <th>3</th>\n",
       "      <td>37.0</td>\n",
       "      <td>0.159987</td>\n",
       "      <td>0.019631</td>\n",
       "      <td>0.0</td>\n",
       "      <td>4</td>\n",
       "      <td>0.004385</td>\n",
       "      <td>1</td>\n",
       "    </tr>\n",
       "  </tbody>\n",
       "</table>\n",
       "</div>"
      ],
      "text/plain": [
       "   jet_nTracks  jet_trackBDT  GBDT_newScore  is_forward  pt_idx  event_weight  \\\n",
       "0          2.0     -0.192873      -1.726218         1.0       1     17.609434   \n",
       "0         11.0     -0.442511      -3.864761         1.0       5      0.002348   \n",
       "1         14.0     -0.290822      -2.973750         0.0       5      0.002348   \n",
       "2         39.0      0.295834       0.704581         1.0       5      0.004385   \n",
       "3         37.0      0.159987       0.019631         0.0       4      0.004385   \n",
       "\n",
       "  target  \n",
       "0      1  \n",
       "0      0  \n",
       "1      0  \n",
       "2      1  \n",
       "3      1  "
      ]
     },
     "execution_count": 4,
     "metadata": {},
     "output_type": "execute_result"
    }
   ],
   "source": [
    "reweighting_input.head()"
   ]
  },
  {
   "cell_type": "code",
   "execution_count": null,
   "metadata": {},
   "outputs": [],
   "source": [
    "joblib.dump(reweighting_input, 'reweighting_input.pkl')"
   ]
  },
  {
   "cell_type": "code",
   "execution_count": null,
   "metadata": {},
   "outputs": [],
   "source": [
    "reweighting_input = joblib.load('reweighting_input.pkl')"
   ]
  },
  {
   "cell_type": "code",
   "execution_count": null,
   "metadata": {},
   "outputs": [],
   "source": [
    "def safe_array_divide(numerator, denominator):\n",
    "    with np.errstate(divide='ignore', invalid='ignore'):\n",
    "        ratio = np.true_divide(numerator, denominator)\n",
    "        ratio = np.nan_to_num(ratio, nan=0, posinf=0, neginf=0)\n",
    "    return ratio"
   ]
  },
  {
   "cell_type": "code",
   "execution_count": null,
   "metadata": {},
   "outputs": [],
   "source": [
    "def make_hist(values, bins, weights):\n",
    "    # assuming bins numpy array with (start, stop, n_edges)\n",
    "    _hist = Hist(hist.axis.Regular(bins=len(bins)-1, start=bins[0], stop=bins[-1], overflow=True, underflow=True), \n",
    "                                storage=hist.storage.Weight())\n",
    "    _hist.fill(values, weight=weights)\n",
    "    factor = np.sum(_hist.values())\n",
    "    _normed_hist = _hist / (factor * _hist.axes[0].widths)\n",
    "\n",
    "    return _hist, _normed_hist"
   ]
  },
  {
   "cell_type": "code",
   "execution_count": null,
   "metadata": {},
   "outputs": [],
   "source": [
    "def calculate_reweight_factor(values_forward, values_central, weights_forward, weights_central, bins): \n",
    "    _, normed_hist_forward = make_hist(values_forward, bins=bins, weights=weights_forward)\n",
    "    _, normed_hist_central = make_hist(values_central, bins=bins, weights=weights_central)\n",
    "\n",
    "    return safe_array_divide(numerator=normed_hist_forward.values(), denominator=normed_hist_central.values())"
   ]
  },
  {
   "cell_type": "code",
   "execution_count": null,
   "metadata": {},
   "outputs": [],
   "source": [
    "def calculate_reweight_factor_np(values_forward, values_central, weights_forward, weights_central, bins): \n",
    "    hist_forward, _ = np.histogram(values_forward, bins=bins, weights=weights_forward, density=False)\n",
    "    hist_central, _ = np.histogram(values_central, bins=bins, weights=weights_central, density=False)\n",
    "\n",
    "    return safe_array_divide(numerator=hist_forward, denominator=hist_central)"
   ]
  },
  {
   "cell_type": "code",
   "execution_count": null,
   "metadata": {},
   "outputs": [],
   "source": [
    "# import boost_histogram as bh\n",
    "# hist = bh.Histogram(bh.axis.Regular(bins=10, start=0, stop=1))\n",
    "# hist.fill(0.9)\n",
    "# hist.fill([0.9, 0.3, 0.4])\n",
    "# np_array = hist.view()\n",
    "# hist.variances()\n"
   ]
  },
  {
   "cell_type": "code",
   "execution_count": null,
   "metadata": {},
   "outputs": [],
   "source": [
    "# Compare numpy histogram and boost histogram \n",
    "custom_bins = np.linspace(0, 60, 61)\n",
    "hist_ntrk_np, bins_ntrk_np = np.histogram(reweighting_input['jet_nTracks'], bins=custom_bins, weights=reweighting_input['event_weight'])\n",
    "\n",
    "## Another way to make histogram and sum the weights to bin error  \n",
    "idx_nrtk_np = np.digitize(reweighting_input['jet_nTracks'], bins = custom_bins) - 1\n",
    "\n",
    "idx_nrtk_np[idx_nrtk_np == (len(custom_bins) - 1 )] = (len(custom_bins) - 2) # merge the overflow bins to the second last one \n",
    "hist_content_np = np.bincount(idx_nrtk_np, weights = reweighting_input['event_weight'])\n",
    "hist_err_np = np.bincount(idx_nrtk_np, weights = reweighting_input['event_weight'] ** 2)"
   ]
  },
  {
   "cell_type": "code",
   "execution_count": null,
   "metadata": {},
   "outputs": [],
   "source": [
    "_hist = Hist(hist.axis.Regular(bins=60, start=0, stop=60, overflow=True, underflow=True), \n",
    "                                storage=bh.storage.Weight())\n",
    "_hist.fill(reweighting_input['jet_nTracks'], weight=reweighting_input['event_weight'])\n"
   ]
  },
  {
   "cell_type": "code",
   "execution_count": null,
   "metadata": {},
   "outputs": [],
   "source": [
    "_hist.values()"
   ]
  },
  {
   "cell_type": "code",
   "execution_count": null,
   "metadata": {},
   "outputs": [],
   "source": [
    "np.isclose(np.sqrt(normed_hist.variances()),  np.sqrt(_hist.variances()) / (factor * _hist.axes[0].widths))"
   ]
  },
  {
   "cell_type": "code",
   "execution_count": null,
   "metadata": {},
   "outputs": [],
   "source": [
    "import boost_histogram as bh\n",
    "hist_ntrk_bh = bh.Histogram(bh.axis.Regular(bins=60, start=0, stop=60, overflow=True, underflow=True), \n",
    "                            storage=bh.storage.Weight())\n",
    "hist_ntrk_bh.fill(reweighting_input['jet_nTracks'], weight=reweighting_input['event_weight'])\n",
    "\n",
    "# test \n",
    "# np.isclose(np.sum(reweighting_input['event_weight']), np.sum(hist_ntrk_bh.values(flow=True)))\n",
    "# True \n",
    "\n",
    "factor = np.sum(hist_ntrk_bh.values())\n",
    "normed = hist_ntrk_bh / (factor * hist_ntrk_bh.axes[0].widths)"
   ]
  },
  {
   "cell_type": "code",
   "execution_count": null,
   "metadata": {},
   "outputs": [],
   "source": [
    "_reweighting_input = reweighting_input[reweighting_input['jet_nTracks'] <= 60]\n",
    "hist_ntrk_np, bins_ntrk_np = np.histogram(_reweighting_input['jet_nTracks'], bins=custom_bins, weights=_reweighting_input['event_weight'], density=True)\n",
    "plt.errorbar(x = normed.axes[0].centers, y = normed.values(), yerr=np.sqrt(normed.variances()), ls='', marker= '.')"
   ]
  },
  {
   "cell_type": "code",
   "execution_count": null,
   "metadata": {},
   "outputs": [],
   "source": [
    "def get_reweight_factor_pd(reweighting_input, clf_type=\"new_GBDTscore\"):\n",
    "    reweight_factor = {}\n",
    "    reweighting_vars = ['jet_nTracks', 'jet_trackBDT', 'GBDT_newScore'] \n",
    "    label_pt_bin = np.array([500, 600, 800, 1000, 1200, 1500, 2000])\n",
    "    HistBins = {\n",
    "        'jet_nTracks' : np.linspace(0, 60, 61),\n",
    "        'jet_trackBDT' : np.linspace(-1.0, 1.0, 101),\n",
    "        'GBDT_newScore' : np.linspace(-1.0, 1.0, 101),\n",
    "    }\n",
    "\n",
    "\n",
    "    for pt_idx, pt in enumerate(label_pt_bin[:-1]):\n",
    "        print(pt)\n",
    "        reweight_factor[pt] = {}\n",
    "        reweighting_input_at_pt = reweighting_input[reweighting_input['pt_idx'] == pt_idx]\n",
    "\n",
    "        forward_quark_at_pt = reweighting_input_at_pt.loc[(reweighting_input_at_pt['target'] == 0) & \n",
    "                                                        (reweighting_input_at_pt['is_forward'] == 1)]\n",
    "        central_quark_at_pt = reweighting_input_at_pt.loc[(reweighting_input_at_pt['target'] == 0) & \n",
    "                                                        (reweighting_input_at_pt['is_forward'] == 0)]\n",
    "        forward_gluon_at_pt = reweighting_input_at_pt.loc[(reweighting_input_at_pt['target'] == 1) & \n",
    "                                                        (reweighting_input_at_pt['is_forward'] == 1)]\n",
    "        central_gluon_at_pt = reweighting_input_at_pt.loc[(reweighting_input_at_pt['target'] == 1) & \n",
    "                                                        (reweighting_input_at_pt['is_forward'] == 0)]   \n",
    "\n",
    "        for var in reweighting_vars:\n",
    "            bin_var = HistBins[var]\n",
    "\n",
    "            quark_factor = calculate_reweight_factor(values_forward=forward_quark_at_pt[var], values_central=central_quark_at_pt[var],\n",
    "                                                     weights_forward=forward_quark_at_pt['event_weight'], weights_central=central_quark_at_pt['event_weight'],\n",
    "                                                     bins=bin_var)\n",
    "\n",
    "            gluon_factor = calculate_reweight_factor(values_forward=forward_gluon_at_pt[var], values_central=central_gluon_at_pt[var],\n",
    "                                                     weights_forward=forward_gluon_at_pt['event_weight'], weights_central=central_gluon_at_pt['event_weight'],\n",
    "                                                     bins=bin_var)\n",
    "            \n",
    "            reweight_factor[pt][var]={\n",
    "                'quark_factor' : quark_factor, \n",
    "                'gluon_factor' : gluon_factor, \n",
    "            }\n",
    "\n",
    "    return reweight_factor"
   ]
  },
  {
   "cell_type": "code",
   "execution_count": null,
   "metadata": {},
   "outputs": [],
   "source": [
    "test_reweight_factor = get_reweight_factor_pd(reweighting_input)\n",
    "# 4 mins "
   ]
  },
  {
   "cell_type": "code",
   "execution_count": null,
   "metadata": {},
   "outputs": [],
   "source": [
    "test_reweight_factor3 = get_reweight_factor(reweighting_input)\n",
    "# 4 mins "
   ]
  },
  {
   "cell_type": "code",
   "execution_count": null,
   "metadata": {},
   "outputs": [],
   "source": [
    "joblib.dump(test_reweight_factor, 'test_reweight_factor2.pkl')"
   ]
  },
  {
   "cell_type": "code",
   "execution_count": null,
   "metadata": {},
   "outputs": [],
   "source": [
    "test_reweight_factor2 = test_reweight_factor"
   ]
  },
  {
   "cell_type": "code",
   "execution_count": null,
   "metadata": {},
   "outputs": [],
   "source": [
    "np.allclose(test_reweight_factor3[500]['jet_trackBDT']['quark_factor'], test_reweight_factor2[500]['jet_trackBDT']['quark_factor'])"
   ]
  },
  {
   "cell_type": "code",
   "execution_count": null,
   "metadata": {},
   "outputs": [],
   "source": [
    "pythia_pkls['pythiaE']"
   ]
  },
  {
   "cell_type": "code",
   "execution_count": null,
   "metadata": {},
   "outputs": [],
   "source": [
    "def attach_reweight_factor(sample, clf_type):\n",
    "    assert clf_type in ['new_MLPprob', 'new_GBDTscore']\n",
    "\n",
    "    if clf_type == 'new_MLPprob':\n",
    "        clf_range = (0, 1) \n",
    "    if clf_type == 'new_GBDTscore':\n",
    "        clf_range = (-5.0, 5.0) \n",
    "\n",
    "    features = [*sample.columns[:6]] + [clf_type] \n",
    "    HistBins = {\n",
    "        features[0] : np.linspace(0, 2000, 61), \n",
    "        features[1] : np.linspace(-2.5, 2.5, 51),\n",
    "        features[2] : np.linspace(0, 60, 61),\n",
    "        features[3] : np.linspace(0, 0.4, 61), \n",
    "        features[4] : np.linspace(0, 0.4, 61), \n",
    "        features[5] : np.linspace(-1.0, 1.0, 51),\n",
    "        clf_type : np.linspace(clf_range[0], clf_range[1], 51)\n",
    "    }\n",
    "    label_vars = ['jet_nTracks', 'jet_trackBDT', clf_type]\n",
    "\n",
    "    # Initialize all the vars \n",
    "    for var in label_vars:\n",
    "        sample[f'{var}_quark_reweighting_weights'] = sample['event_weight'].copy()\n",
    "        sample[f'{var}_gluon_reweighting_weights'] = sample['event_weight'].copy()\n",
    "\n",
    "    reweighted_sample = []\n",
    "    for pt_idx, pt in enumerate(tqdm(label_pt_bin[:-1])):\n",
    "        sample_pt = sample[sample['pt_idx'] == pt_idx]  # Get the pt slice \n",
    "        _sample = sample_pt\n",
    "        \n",
    "        forward_quark = _sample[(_sample['is_forward']==1) &(_sample['target']==0)]\n",
    "        forward_gluon = _sample[(_sample['is_forward']==1) &(_sample['target']==1)]\n",
    "        central_quark = _sample[(_sample['is_forward']==0) &(_sample['target']==0)]\n",
    "        central_gluon = _sample[(_sample['is_forward']==0) &(_sample['target']==1)]\n",
    "\n",
    "        for var in label_vars:\n",
    "            bin_var = HistBins[var]\n",
    "            hist_forward_quark, _ = np.histogram(forward_quark[var], bins=bin_var, weights=forward_quark['event_weight'])\n",
    "            hist_central_quark, _ = np.histogram(central_quark[var], bins=bin_var, weights=central_quark['event_weight'])\n",
    "            hist_forward_gluon, _ = np.histogram(forward_gluon[var], bins=bin_var, weights=forward_gluon['event_weight'])\n",
    "            hist_central_gluon, _ = np.histogram(central_gluon[var], bins=bin_var, weights=central_gluon['event_weight'])\n",
    "\n",
    "            quark_factor = safe_array_divide(numerator=hist_forward_quark, denominator=hist_central_quark)\n",
    "            gluon_factor = safe_array_divide(numerator=hist_forward_gluon, denominator=hist_central_gluon)\n",
    "\n",
    "            new_var_idx = pd.cut(_sample[var], bins=bin_var, right=False, labels=False)  # Binned feature distribution \n",
    "            for i, score in enumerate(bin_var[:-1]): # Loop over the bins \n",
    "                mod_idx = np.where(new_var_idx == i)[0]\n",
    "                _sample.iloc[mod_idx, _sample.columns.get_loc(f'{var}_quark_reweighting_weights')] *= quark_factor[i]\n",
    "                _sample.iloc[mod_idx, _sample.columns.get_loc(f'{var}_gluon_reweighting_weights')] *= gluon_factor[i]\n",
    "            \n",
    "        reweighted_sample.append(_sample)\n",
    "\n",
    "    return pd.concat(reweighted_sample)\n",
    "\n",
    "\n"
   ]
  }
 ],
 "metadata": {
  "kernelspec": {
   "display_name": "ml",
   "language": "python",
   "name": "python3"
  },
  "language_info": {
   "codemirror_mode": {
    "name": "ipython",
    "version": 3
   },
   "file_extension": ".py",
   "mimetype": "text/x-python",
   "name": "python",
   "nbconvert_exporter": "python",
   "pygments_lexer": "ipython3",
   "version": "3.9.15"
  },
  "orig_nbformat": 4,
  "vscode": {
   "interpreter": {
    "hash": "14e3b66b9136298b1438aa954b24fb6042eb4a7b64fe2e32b506f4a92d36ab42"
   }
  }
 },
 "nbformat": 4,
 "nbformat_minor": 2
}
