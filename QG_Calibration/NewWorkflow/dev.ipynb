{
 "cells": [
  {
   "cell_type": "code",
   "execution_count": 1,
   "metadata": {},
   "outputs": [],
   "source": [
    "import joblib\n",
    "import numpy as np "
   ]
  },
  {
   "cell_type": "code",
   "execution_count": 2,
   "metadata": {},
   "outputs": [],
   "source": [
    "MC_hists = joblib.load('/global/cfs/projectdirs/atlas/hrzhao/HEP_Repo/QG_Calibration/tmp_test_whole/MC_hists.pkl')"
   ]
  },
  {
   "cell_type": "code",
   "execution_count": 3,
   "metadata": {},
   "outputs": [],
   "source": [
    "MC_hists_dict = MC_hists"
   ]
  },
  {
   "cell_type": "code",
   "execution_count": 4,
   "metadata": {},
   "outputs": [],
   "source": [
    "MC_hist_dicts_keys = [*MC_hists_dict]"
   ]
  },
  {
   "cell_type": "code",
   "execution_count": 8,
   "metadata": {},
   "outputs": [],
   "source": [
    "merged_ADE_dict = MC_hists_dict[MC_hist_dicts_keys[0]][0]"
   ]
  },
  {
   "cell_type": "code",
   "execution_count": 9,
   "metadata": {},
   "outputs": [],
   "source": [
    "for hists_file in MC_hists_dict[MC_hist_dicts_keys[0]][1:]:\n",
    "            for k in merged_ADE_dict:\n",
    "                merged_ADE_dict[k] += hists_file[k]\n"
   ]
  },
  {
   "cell_type": "code",
   "execution_count": 10,
   "metadata": {},
   "outputs": [],
   "source": [
    "for other_key in MC_hist_dicts_keys[1:]: # ['D', 'E']\n",
    "            for hists_file in MC_hists_dict[other_key]:\n",
    "                for k in merged_ADE_dict: \n",
    "                    merged_ADE_dict[k] += hists_file[k]"
   ]
  },
  {
   "cell_type": "code",
   "execution_count": 12,
   "metadata": {},
   "outputs": [
    {
     "data": {
      "text/plain": [
       "672"
      ]
     },
     "execution_count": 12,
     "metadata": {},
     "output_type": "execute_result"
    }
   ],
   "source": [
    "len(merged_ADE_dict.keys())"
   ]
  },
  {
   "cell_type": "code",
   "execution_count": 10,
   "metadata": {},
   "outputs": [],
   "source": [
    "reweight_factor = joblib.load('/global/cfs/projectdirs/atlas/hrzhao/HEP_Repo/QG_Calibration/tmp_test_whole/reweight_factor.pkl')"
   ]
  },
  {
   "cell_type": "code",
   "execution_count": 6,
   "metadata": {},
   "outputs": [],
   "source": [
    "reweight_factor2 = joblib.load('/global/cfs/projectdirs/atlas/hrzhao/HEP_Repo/QG_Calibration/NewWorkflow_dev/test_reweight/test_reweight_factor2.pkl')"
   ]
  },
  {
   "cell_type": "code",
   "execution_count": 11,
   "metadata": {},
   "outputs": [
    {
     "data": {
      "text/plain": [
       "array([0.        , 0.        , 0.76504383, 0.77453366, 0.78228986,\n",
       "       0.78910322, 0.80815286, 0.8349122 , 0.85043639, 0.87644848,\n",
       "       0.90028127, 0.93057548, 0.96142615, 0.98730172, 1.01508972,\n",
       "       1.03846653, 1.05588899, 1.075738  , 1.09366685, 1.110069  ,\n",
       "       1.12514566, 1.1222418 , 1.13719806, 1.15714548, 1.16301699,\n",
       "       1.182969  , 1.18455275, 1.1917966 , 1.19317652, 1.21329927,\n",
       "       1.221427  , 1.21577912, 1.22022633, 1.22589986, 1.25712537,\n",
       "       1.25063228, 1.27060326, 1.24808208, 1.31119057, 1.25645101,\n",
       "       1.23597459, 1.3256365 , 1.29446667, 1.31503331, 1.29904655,\n",
       "       1.23445892, 1.43688728, 1.22237645, 1.39451109, 1.50267667,\n",
       "       1.09579408, 1.18314577, 1.41519986, 1.39648542, 1.47515813,\n",
       "       0.86330381, 0.70737141, 1.35553626, 1.01694768, 1.5672156 ])"
      ]
     },
     "execution_count": 11,
     "metadata": {},
     "output_type": "execute_result"
    }
   ],
   "source": [
    "reweight_factor[500]['jet_nTracks']['quark_factor']"
   ]
  },
  {
   "cell_type": "code",
   "execution_count": 12,
   "metadata": {},
   "outputs": [
    {
     "data": {
      "text/plain": [
       "array([0.        , 0.        , 0.76504383, 0.77453366, 0.78228986,\n",
       "       0.78910322, 0.80815286, 0.8349122 , 0.85043639, 0.87644848,\n",
       "       0.90028127, 0.93057548, 0.96142615, 0.98730172, 1.01508972,\n",
       "       1.03846653, 1.05588899, 1.075738  , 1.09366685, 1.110069  ,\n",
       "       1.12514566, 1.1222418 , 1.13719806, 1.15714548, 1.16301699,\n",
       "       1.182969  , 1.18455275, 1.1917966 , 1.19317652, 1.21329927,\n",
       "       1.221427  , 1.21577912, 1.22022633, 1.22589986, 1.25712537,\n",
       "       1.25063228, 1.27060326, 1.24808208, 1.31119057, 1.25645101,\n",
       "       1.23597459, 1.3256365 , 1.29446667, 1.31503331, 1.29904655,\n",
       "       1.23445892, 1.43688728, 1.22237645, 1.39451109, 1.50267667,\n",
       "       1.09579408, 1.18314577, 1.41519986, 1.39648542, 1.47515813,\n",
       "       0.86330381, 0.70737141, 1.35553626, 1.01694768, 1.5672156 ])"
      ]
     },
     "execution_count": 12,
     "metadata": {},
     "output_type": "execute_result"
    }
   ],
   "source": [
    "reweight_factor2[500]['jet_nTracks']['quark_factor']"
   ]
  },
  {
   "cell_type": "code",
   "execution_count": 16,
   "metadata": {},
   "outputs": [],
   "source": [
    "import uproot \n",
    "\n",
    "root_file = '/global/cfs/projectdirs/atlas/hrzhao/qgcal/Samples_New/data/data17/user.wasu.Oct18.data17_13TeV.periodD.physics_Main_minitrees.root/user.wasu.30894495._000001.minitrees.root'"
   ]
  },
  {
   "cell_type": "code",
   "execution_count": 17,
   "metadata": {},
   "outputs": [],
   "source": [
    "root = uproot.open(root_file)"
   ]
  },
  {
   "cell_type": "code",
   "execution_count": 19,
   "metadata": {},
   "outputs": [
    {
     "data": {
      "text/plain": [
       "<ReadOnlyDirectory '/' at 0x155530289070>"
      ]
     },
     "execution_count": 19,
     "metadata": {},
     "output_type": "execute_result"
    }
   ],
   "source": [
    "root"
   ]
  },
  {
   "cell_type": "code",
   "execution_count": null,
   "metadata": {},
   "outputs": [],
   "source": []
  }
 ],
 "metadata": {
  "kernelspec": {
   "display_name": "ml",
   "language": "python",
   "name": "python3"
  },
  "language_info": {
   "codemirror_mode": {
    "name": "ipython",
    "version": 3
   },
   "file_extension": ".py",
   "mimetype": "text/x-python",
   "name": "python",
   "nbconvert_exporter": "python",
   "pygments_lexer": "ipython3",
   "version": "3.9.15"
  },
  "orig_nbformat": 4,
  "vscode": {
   "interpreter": {
    "hash": "14e3b66b9136298b1438aa954b24fb6042eb4a7b64fe2e32b506f4a92d36ab42"
   }
  }
 },
 "nbformat": 4,
 "nbformat_minor": 2
}
