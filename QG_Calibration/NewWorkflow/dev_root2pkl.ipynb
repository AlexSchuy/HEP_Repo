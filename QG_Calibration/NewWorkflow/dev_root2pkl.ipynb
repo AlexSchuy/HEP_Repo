{
 "cells": [
  {
   "cell_type": "code",
   "execution_count": 1,
   "metadata": {},
   "outputs": [],
   "source": [
    "import argparse\n",
    "import numpy as np\n",
    "import pandas as pd \n",
    "import joblib\n",
    "import uproot \n",
    "import awkward as ak\n",
    "from pathlib import Path\n",
    "\n",
    "from typing import Dict, List \n",
    "import re\n",
    "import pickle\n",
    "from root2pkl import *"
   ]
  },
  {
   "cell_type": "code",
   "execution_count": 2,
   "metadata": {},
   "outputs": [],
   "source": [
    "sample_path = '/global/cfs/projectdirs/atlas/hrzhao/qgcal/Samples_Dec11/pythia/pythiaA/user.wasu.Dec11a.mc16_13TeV.364709.Pythia8EvtGen_A14NNPDF23LO_jetjet_JZ9WithSW_minitrees.root/user.wasu.31564717._000001.minitrees.root'\n",
    "sample_path = Path(sample_path)\n"
   ]
  },
  {
   "cell_type": "code",
   "execution_count": 13,
   "metadata": {},
   "outputs": [
    {
     "data": {
      "text/plain": [
       "array([9.60340000e+07, 1.68158606e+04, 1.73514685e+02, 1.40059219e+01,\n",
       "       1.31401094e-01, 9.53733236e-03, 3.02887896e-03, 8.73200652e-04,\n",
       "       1.47115647e-04])"
      ]
     },
     "execution_count": 13,
     "metadata": {},
     "output_type": "execute_result"
    }
   ],
   "source": [
    "period_search_pattern = \"pythia[A,D,E]\"\n",
    "period_folder = sample_path.parent.parent\n",
    "period = re.search(period_search_pattern, period_folder.stem).group()[-1]\n",
    "assert period in [\"A\", \"D\", \"E\"]\n",
    "\n",
    "read_SumofWeights_Period((period_folder.parent/ f'pythia{period}_hist'), period)"
   ]
  },
  {
   "cell_type": "code",
   "execution_count": 9,
   "metadata": {},
   "outputs": [
    {
     "data": {
      "text/plain": [
       "'pythiaA'"
      ]
     },
     "execution_count": 9,
     "metadata": {},
     "output_type": "execute_result"
    }
   ],
   "source": [
    "period.group()"
   ]
  },
  {
   "cell_type": "code",
   "execution_count": 5,
   "metadata": {},
   "outputs": [
    {
     "data": {
      "text/plain": [
       "'pythiaA'"
      ]
     },
     "execution_count": 5,
     "metadata": {},
     "output_type": "execute_result"
    }
   ],
   "source": [
    "sample_path.parent.parent.stem"
   ]
  },
  {
   "cell_type": "code",
   "execution_count": null,
   "metadata": {},
   "outputs": [],
   "source": [
    "branch_names = [\"run\", \"event\", \"pu_weight\", \"jet_fire\", \"jet_pt\", \"jet_eta\", \"jet_nTracks\", \"jet_trackWidth\", \"jet_trackC1\", \"jet_trackBDT\", \"jet_PartonTruthLabelID\"]\n",
    "branch_names_tobesaved = [\"jet_pt\", \"jet_eta\", \"jet_nTracks\", \"jet_trackWidth\", \"jet_trackC1\", \"jet_trackBDT\", \"jet_PartonTruthLabelID\"]"
   ]
  },
  {
   "cell_type": "code",
   "execution_count": null,
   "metadata": {},
   "outputs": [],
   "source": [
    "sample['nominal'].keys()"
   ]
  },
  {
   "cell_type": "code",
   "execution_count": null,
   "metadata": {},
   "outputs": [],
   "source": [
    "branch_names = [\"run\", \"event\", \"pu_weight\", \"jet_fire\", \"jet_pt\", \"jet_eta\", \"jet_nTracks\", \"jet_trackWidth\", \"jet_trackC1\", \"jet_trackBDT\", \"jet_PartonTruthLabelID\"]\n",
    "sample_ak = sample['nominal'].arrays(branch_names, library='ak')"
   ]
  },
  {
   "cell_type": "code",
   "execution_count": null,
   "metadata": {},
   "outputs": [],
   "source": [
    "luminosity_periods = {\n",
    "    \"A\" : 36000,\n",
    "    \"D\" : 44500,\n",
    "    \"E\" : 58500\n",
    "}\n",
    "\n",
    "xsec = np.array([7.8050E+07, 7.8050E+07, 2.4330E+06, 2.6450E+04, 2.5461E+02, 4.5532E+00, 2.5754E-01, 1.6215E-02, 6.2506E-04, 1.9639E-05])*1E3 # pb\n",
    "eff = np.array([9.753257E-01, 2.442497E-02, 9.863129E-03, 1.165838E-02, 1.336560E-02, 1.452648E-02, 9.471878E-03, 1.1097E-02, 1.015436E-02, 1.2056E-02])"
   ]
  },
  {
   "cell_type": "code",
   "execution_count": null,
   "metadata": {},
   "outputs": [],
   "source": [
    "JZ_slice_number = sample_ak.run%100 # JZ slice for each event\n",
    "event_weight = luminosity_periods['A'] * sample_ak[\"pu_weight\"] * xsec[JZ_slice_number] * eff[JZ_slice_number] #/ sum_of_weights[JZ_slice - 1] # JZ_slice - 1 because of 1...9 -> 0...8\n",
    "# pu_weight is already multiplied by mcEventWeight in MonoJetx.cxx \n",
    "\n",
    "sample = ak.with_field(base = sample_ak, what = event_weight, where = \"event_weight\")\n"
   ]
  },
  {
   "cell_type": "code",
   "execution_count": null,
   "metadata": {},
   "outputs": [],
   "source": [
    "# event trigger selection \n",
    "event_trigger_idx = sample[\"jet_fire\"] == 1\n",
    "sample = sample[event_trigger_idx]\n",
    "\n",
    "# pT cut \n",
    "pt_cut_idx = sample[\"jet_pt\"][:,1] > 500000\n",
    "sample = sample[pt_cut_idx]\n",
    "\n",
    "pt_max_cut_idx = sample[\"jet_pt\"][:,0] < 2000000 \n",
    "sample = sample[pt_max_cut_idx]\n",
    "\n",
    "# ratio < 1.5\n",
    "sample = sample[sample[\"jet_pt\"][:,0]/sample[\"jet_pt\"][:,1] < 1.5]\n",
    "\n",
    "# eta cut \n",
    "sample = sample[np.abs(sample[\"jet_eta\"][:,0]) < 2.1]\n",
    "sample = sample[np.abs(sample[\"jet_eta\"][:,1]) < 2.1]\n",
    "\n",
    "\n",
    "sample = sample[np.abs(sample[\"event_weight\"]) < 100] "
   ]
  },
  {
   "cell_type": "code",
   "execution_count": null,
   "metadata": {},
   "outputs": [],
   "source": [
    "sample.run"
   ]
  },
  {
   "cell_type": "code",
   "execution_count": null,
   "metadata": {},
   "outputs": [],
   "source": [
    "sample_pd = ak.to_pandas(sample)\n",
    "sample_dijet_pd = sample_pd.loc[(slice(None), slice(0,1)), :]\n",
    "sample_dijet_pd = sample_dijet_pd.drop(['pu_weight', 'mconly_weight', 'jet_fire'], axis = 1)\n"
   ]
  },
  {
   "cell_type": "code",
   "execution_count": null,
   "metadata": {},
   "outputs": [],
   "source": [
    "sample_dijet_pd"
   ]
  },
  {
   "cell_type": "code",
   "execution_count": null,
   "metadata": {},
   "outputs": [],
   "source": [
    "sample_dijet_pd.shape"
   ]
  },
  {
   "cell_type": "code",
   "execution_count": null,
   "metadata": {},
   "outputs": [],
   "source": [
    "sample_dijet_pd.iloc[:,2]"
   ]
  },
  {
   "cell_type": "code",
   "execution_count": null,
   "metadata": {},
   "outputs": [],
   "source": [
    "pt_idx = sample_dijet_pd.columns.get_loc('jet_pt')\n",
    "eta_idx = sample_dijet_pd.columns.get_loc('jet_eta')\n",
    "\n",
    "sample_dijet_pd.iloc[:, pt_idx] = sample_dijet_pd.iloc[:, pt_idx] / 1000\n",
    "\n",
    "sample_dijet_np = sample_dijet_pd.to_numpy().reshape((len(sample_dijet_pd)//2, 2, len(sample_dijet_pd.columns)))\n",
    "# assert np.allclose(sample_pd.loc[0]['jet_eta'].to_numpy(), sample_dijet_np[0])"
   ]
  },
  {
   "cell_type": "code",
   "execution_count": null,
   "metadata": {},
   "outputs": [],
   "source": [
    "forward_idx = np.argmax(np.abs(sample_dijet_np[:,:,eta_idx]), axis=1) # compare abs eta of jets inside events\n",
    "central_idx = -1*forward_idx+1\n",
    "\n",
    "is_forward = np.zeros((len(sample_dijet_np),2))\n",
    "is_forward[np.arange(len(is_forward)), forward_idx] = 1\n",
    "\n",
    "is_leading = np.zeros((len(sample_dijet_np),2))\n",
    "is_leading[:, 0] = 1"
   ]
  },
  {
   "cell_type": "code",
   "execution_count": null,
   "metadata": {},
   "outputs": [],
   "source": [
    "sample_dijet_np_label = np.concatenate((sample_dijet_np, np.broadcast_to(is_forward[:,:,None], (sample_dijet_np.shape[:2] + (1,)))), axis = 2)\n",
    "sample_dijet_np_label = np.concatenate((sample_dijet_np_label, np.broadcast_to(is_leading[:,:,None], (sample_dijet_np_label.shape[:2] + (1,)))), axis = 2)"
   ]
  },
  {
   "cell_type": "code",
   "execution_count": null,
   "metadata": {},
   "outputs": [],
   "source": [
    "sample_dijet_np_label.shape[-1]"
   ]
  },
  {
   "cell_type": "code",
   "execution_count": null,
   "metadata": {},
   "outputs": [],
   "source": [
    "sample_pd_label = pd.DataFrame(sample_dijet_np_label.reshape(-1, sample_dijet_np_label.shape[-1]), columns = sample_dijet_pd.columns.to_list() + [\"is_forward\", \"is_leading\"], dtype=np.float64)"
   ]
  },
  {
   "cell_type": "code",
   "execution_count": null,
   "metadata": {},
   "outputs": [],
   "source": [
    "sample_pd_label"
   ]
  },
  {
   "cell_type": "code",
   "execution_count": null,
   "metadata": {},
   "outputs": [],
   "source": [
    "label_pt_bin = [500, 600, 800, 1000, 1200, 1500, 2000]\n",
    "sample_pd_label['pt_idx'] = pd.cut(x=sample_pd_label['jet_pt'], bins=label_pt_bin, right=False, labels=False)\n"
   ]
  },
  {
   "cell_type": "code",
   "execution_count": null,
   "metadata": {},
   "outputs": [],
   "source": [
    "sample_pd_label['target'] = '-'\n",
    "target_idx = sample_pd_label.columns.get_loc('target')\n",
    "gluon_idx = sample_pd_label['jet_PartonTruthLabelID'] == 21\n",
    "quark_idx = ((sample_pd_label['jet_PartonTruthLabelID'] > 0) & (sample_pd_label['jet_PartonTruthLabelID'] < 10))\n",
    "\n",
    "sample_pd_label.iloc[gluon_idx, target_idx] = 1\n",
    "sample_pd_label.iloc[quark_idx, target_idx] = 0\n",
    "\n"
   ]
  },
  {
   "cell_type": "code",
   "execution_count": null,
   "metadata": {},
   "outputs": [],
   "source": [
    "sample_pd_label.loc[sample_pd_label['jet_PartonTruthLabelID'] == -1]"
   ]
  },
  {
   "cell_type": "code",
   "execution_count": null,
   "metadata": {},
   "outputs": [],
   "source": [
    "sample_pd_label"
   ]
  },
  {
   "cell_type": "code",
   "execution_count": null,
   "metadata": {},
   "outputs": [],
   "source": [
    "np.unique(sample_ak.run)"
   ]
  },
  {
   "cell_type": "code",
   "execution_count": null,
   "metadata": {},
   "outputs": [],
   "source": [
    "xsec[sample_ak.run%100]"
   ]
  },
  {
   "cell_type": "code",
   "execution_count": null,
   "metadata": {},
   "outputs": [],
   "source": [
    "JZ_slice_number"
   ]
  },
  {
   "cell_type": "code",
   "execution_count": null,
   "metadata": {},
   "outputs": [],
   "source": [
    "sample_ak"
   ]
  },
  {
   "cell_type": "code",
   "execution_count": null,
   "metadata": {},
   "outputs": [],
   "source": [
    "sample_ak.jet_pt[5]"
   ]
  },
  {
   "cell_type": "code",
   "execution_count": null,
   "metadata": {},
   "outputs": [],
   "source": [
    "JZ_search_pattern = \"36470[0-9]\"\n",
    "JZ_slice_number = int(re.search(JZ_search_pattern, sample_path.parent.stem).group()) % 100"
   ]
  },
  {
   "cell_type": "code",
   "execution_count": null,
   "metadata": {},
   "outputs": [],
   "source": [
    "JZ_slice_number"
   ]
  },
  {
   "cell_type": "code",
   "execution_count": null,
   "metadata": {},
   "outputs": [],
   "source": [
    "for field in sample_array.fields:\n",
    "    print(field, sample_array[field][0])"
   ]
  },
  {
   "cell_type": "code",
   "execution_count": null,
   "metadata": {},
   "outputs": [],
   "source": [
    "sample_array.event\n"
   ]
  },
  {
   "cell_type": "code",
   "execution_count": null,
   "metadata": {},
   "outputs": [],
   "source": [
    "sample_pd = sample['nominal'].arrays(library='pd')"
   ]
  },
  {
   "cell_type": "code",
   "execution_count": null,
   "metadata": {},
   "outputs": [],
   "source": [
    "type(sample_pd)"
   ]
  },
  {
   "cell_type": "code",
   "execution_count": null,
   "metadata": {},
   "outputs": [],
   "source": [
    "sample_pd[3].head()"
   ]
  },
  {
   "cell_type": "code",
   "execution_count": null,
   "metadata": {},
   "outputs": [],
   "source": [
    "sample_pd[1].loc[0]"
   ]
  },
  {
   "cell_type": "code",
   "execution_count": null,
   "metadata": {},
   "outputs": [],
   "source": []
  },
  {
   "cell_type": "code",
   "execution_count": 14,
   "metadata": {},
   "outputs": [],
   "source": [
    "pythiaA_path = '/global/cfs/projectdirs/atlas/hrzhao/qgcal/Samples_Dec11/pythia/pythiaA/'\n",
    "pythiaA_path = Path(pythiaA_path)"
   ]
  },
  {
   "cell_type": "code",
   "execution_count": null,
   "metadata": {},
   "outputs": [],
   "source": [
    "sorted(pythiaA_path.rglob(\"*JZ?WithSW_minitrees.root/*.root\"))"
   ]
  },
  {
   "attachments": {},
   "cell_type": "markdown",
   "metadata": {},
   "source": [
    "# For data"
   ]
  },
  {
   "cell_type": "code",
   "execution_count": 33,
   "metadata": {},
   "outputs": [],
   "source": [
    "sample_path = '/global/cfs/projectdirs/atlas/hrzhao/qgcal/Samples_New/data/data1516/user.wasu.Oct18.data16_13TeV.periodA.physics_Main_minitrees.root/user.wasu.30894374._000001.minitrees.root'\n",
    "sample_path = Path(sample_path)"
   ]
  },
  {
   "cell_type": "code",
   "execution_count": 34,
   "metadata": {},
   "outputs": [],
   "source": [
    "sample = uproot.open(sample_path)"
   ]
  },
  {
   "cell_type": "code",
   "execution_count": 35,
   "metadata": {},
   "outputs": [
    {
     "data": {
      "text/plain": [
       "['run',\n",
       " 'event',\n",
       " 'last',\n",
       " 'year',\n",
       " 'mconly_weight',\n",
       " 'syst_weight',\n",
       " 'pu_weight',\n",
       " 'weight_pileup_up',\n",
       " 'weight_pileup_down',\n",
       " 'pdf_weight',\n",
       " 'ph_fire',\n",
       " 'jet_fire',\n",
       " 'jet_pt',\n",
       " 'jet_eta',\n",
       " 'jet_phi',\n",
       " 'jet_m',\n",
       " 'jet_PartonTruthLabelID',\n",
       " 'jet_weight',\n",
       " 'jet_truthPt',\n",
       " 'jet_truthEta',\n",
       " 'jet_truthPhi',\n",
       " 'jet_nTracks',\n",
       " 'jet_trackWidth',\n",
       " 'jet_trackC1',\n",
       " 'jet_trackBDT']"
      ]
     },
     "execution_count": 35,
     "metadata": {},
     "output_type": "execute_result"
    }
   ],
   "source": [
    "sample['nominal'].keys()"
   ]
  },
  {
   "cell_type": "code",
   "execution_count": 36,
   "metadata": {},
   "outputs": [],
   "source": [
    "branch_names = [\"run\", \"event\", \"pu_weight\", \"jet_fire\", \"jet_pt\", \"jet_eta\", \"jet_nTracks\", \"jet_trackWidth\", \"jet_trackC1\", \"jet_trackBDT\", \"jet_PartonTruthLabelID\"]\n",
    "sample_ak = sample['nominal'].arrays(branch_names, library='ak')"
   ]
  },
  {
   "cell_type": "code",
   "execution_count": 38,
   "metadata": {},
   "outputs": [
    {
     "data": {
      "text/html": [
       "<div>\n",
       "<style scoped>\n",
       "    .dataframe tbody tr th:only-of-type {\n",
       "        vertical-align: middle;\n",
       "    }\n",
       "\n",
       "    .dataframe tbody tr th {\n",
       "        vertical-align: top;\n",
       "    }\n",
       "\n",
       "    .dataframe thead th {\n",
       "        text-align: right;\n",
       "    }\n",
       "</style>\n",
       "<table border=\"1\" class=\"dataframe\">\n",
       "  <thead>\n",
       "    <tr style=\"text-align: right;\">\n",
       "      <th></th>\n",
       "      <th></th>\n",
       "      <th>run</th>\n",
       "      <th>event</th>\n",
       "      <th>pu_weight</th>\n",
       "      <th>jet_fire</th>\n",
       "      <th>jet_pt</th>\n",
       "      <th>jet_eta</th>\n",
       "      <th>jet_nTracks</th>\n",
       "      <th>jet_trackWidth</th>\n",
       "      <th>jet_trackC1</th>\n",
       "      <th>jet_trackBDT</th>\n",
       "      <th>jet_PartonTruthLabelID</th>\n",
       "    </tr>\n",
       "    <tr>\n",
       "      <th>entry</th>\n",
       "      <th>subentry</th>\n",
       "      <th></th>\n",
       "      <th></th>\n",
       "      <th></th>\n",
       "      <th></th>\n",
       "      <th></th>\n",
       "      <th></th>\n",
       "      <th></th>\n",
       "      <th></th>\n",
       "      <th></th>\n",
       "      <th></th>\n",
       "      <th></th>\n",
       "    </tr>\n",
       "  </thead>\n",
       "  <tbody>\n",
       "    <tr>\n",
       "      <th rowspan=\"2\" valign=\"top\">0</th>\n",
       "      <th>0</th>\n",
       "      <td>298862</td>\n",
       "      <td>268768274</td>\n",
       "      <td>1.0</td>\n",
       "      <td>True</td>\n",
       "      <td>614843.5625</td>\n",
       "      <td>-1.369181</td>\n",
       "      <td>8.0</td>\n",
       "      <td>0.052751</td>\n",
       "      <td>0.231578</td>\n",
       "      <td>-0.306219</td>\n",
       "      <td>-9999</td>\n",
       "    </tr>\n",
       "    <tr>\n",
       "      <th>1</th>\n",
       "      <td>298862</td>\n",
       "      <td>268768274</td>\n",
       "      <td>1.0</td>\n",
       "      <td>True</td>\n",
       "      <td>589851.5625</td>\n",
       "      <td>-1.247243</td>\n",
       "      <td>13.0</td>\n",
       "      <td>0.051210</td>\n",
       "      <td>0.252397</td>\n",
       "      <td>-0.064603</td>\n",
       "      <td>-9999</td>\n",
       "    </tr>\n",
       "    <tr>\n",
       "      <th rowspan=\"2\" valign=\"top\">1</th>\n",
       "      <th>0</th>\n",
       "      <td>298862</td>\n",
       "      <td>268438262</td>\n",
       "      <td>1.0</td>\n",
       "      <td>True</td>\n",
       "      <td>608761.5000</td>\n",
       "      <td>-1.949220</td>\n",
       "      <td>23.0</td>\n",
       "      <td>0.021191</td>\n",
       "      <td>0.177640</td>\n",
       "      <td>0.205810</td>\n",
       "      <td>-9999</td>\n",
       "    </tr>\n",
       "    <tr>\n",
       "      <th>1</th>\n",
       "      <td>298862</td>\n",
       "      <td>268438262</td>\n",
       "      <td>1.0</td>\n",
       "      <td>True</td>\n",
       "      <td>607602.0625</td>\n",
       "      <td>0.769535</td>\n",
       "      <td>22.0</td>\n",
       "      <td>0.183881</td>\n",
       "      <td>0.280812</td>\n",
       "      <td>-0.017188</td>\n",
       "      <td>-9999</td>\n",
       "    </tr>\n",
       "    <tr>\n",
       "      <th>2</th>\n",
       "      <th>0</th>\n",
       "      <td>298862</td>\n",
       "      <td>268100752</td>\n",
       "      <td>1.0</td>\n",
       "      <td>True</td>\n",
       "      <td>511956.6875</td>\n",
       "      <td>-1.685459</td>\n",
       "      <td>11.0</td>\n",
       "      <td>0.037250</td>\n",
       "      <td>0.218517</td>\n",
       "      <td>-0.074827</td>\n",
       "      <td>-9999</td>\n",
       "    </tr>\n",
       "    <tr>\n",
       "      <th>...</th>\n",
       "      <th>...</th>\n",
       "      <td>...</td>\n",
       "      <td>...</td>\n",
       "      <td>...</td>\n",
       "      <td>...</td>\n",
       "      <td>...</td>\n",
       "      <td>...</td>\n",
       "      <td>...</td>\n",
       "      <td>...</td>\n",
       "      <td>...</td>\n",
       "      <td>...</td>\n",
       "      <td>...</td>\n",
       "    </tr>\n",
       "    <tr>\n",
       "      <th>2623</th>\n",
       "      <th>1</th>\n",
       "      <td>298862</td>\n",
       "      <td>137034663</td>\n",
       "      <td>1.0</td>\n",
       "      <td>True</td>\n",
       "      <td>720934.8750</td>\n",
       "      <td>-1.009078</td>\n",
       "      <td>28.0</td>\n",
       "      <td>0.172463</td>\n",
       "      <td>0.314916</td>\n",
       "      <td>0.106358</td>\n",
       "      <td>-9999</td>\n",
       "    </tr>\n",
       "    <tr>\n",
       "      <th rowspan=\"2\" valign=\"top\">2624</th>\n",
       "      <th>0</th>\n",
       "      <td>298862</td>\n",
       "      <td>136448197</td>\n",
       "      <td>1.0</td>\n",
       "      <td>True</td>\n",
       "      <td>710949.3125</td>\n",
       "      <td>-1.112797</td>\n",
       "      <td>13.0</td>\n",
       "      <td>0.042108</td>\n",
       "      <td>0.164087</td>\n",
       "      <td>-0.175678</td>\n",
       "      <td>-9999</td>\n",
       "    </tr>\n",
       "    <tr>\n",
       "      <th>1</th>\n",
       "      <td>298862</td>\n",
       "      <td>136448197</td>\n",
       "      <td>1.0</td>\n",
       "      <td>True</td>\n",
       "      <td>660111.1875</td>\n",
       "      <td>0.348371</td>\n",
       "      <td>29.0</td>\n",
       "      <td>0.073809</td>\n",
       "      <td>0.276776</td>\n",
       "      <td>0.257864</td>\n",
       "      <td>-9999</td>\n",
       "    </tr>\n",
       "    <tr>\n",
       "      <th rowspan=\"2\" valign=\"top\">2625</th>\n",
       "      <th>0</th>\n",
       "      <td>298862</td>\n",
       "      <td>136959564</td>\n",
       "      <td>1.0</td>\n",
       "      <td>True</td>\n",
       "      <td>549620.9375</td>\n",
       "      <td>0.355632</td>\n",
       "      <td>11.0</td>\n",
       "      <td>0.058083</td>\n",
       "      <td>0.178468</td>\n",
       "      <td>-0.186729</td>\n",
       "      <td>-9999</td>\n",
       "    </tr>\n",
       "    <tr>\n",
       "      <th>1</th>\n",
       "      <td>298862</td>\n",
       "      <td>136959564</td>\n",
       "      <td>1.0</td>\n",
       "      <td>True</td>\n",
       "      <td>549351.3750</td>\n",
       "      <td>0.349544</td>\n",
       "      <td>17.0</td>\n",
       "      <td>0.169984</td>\n",
       "      <td>0.310150</td>\n",
       "      <td>-0.047420</td>\n",
       "      <td>-9999</td>\n",
       "    </tr>\n",
       "  </tbody>\n",
       "</table>\n",
       "<p>5269 rows × 11 columns</p>\n",
       "</div>"
      ],
      "text/plain": [
       "                   run      event  pu_weight  jet_fire       jet_pt   jet_eta  \\\n",
       "entry subentry                                                                  \n",
       "0     0         298862  268768274        1.0      True  614843.5625 -1.369181   \n",
       "      1         298862  268768274        1.0      True  589851.5625 -1.247243   \n",
       "1     0         298862  268438262        1.0      True  608761.5000 -1.949220   \n",
       "      1         298862  268438262        1.0      True  607602.0625  0.769535   \n",
       "2     0         298862  268100752        1.0      True  511956.6875 -1.685459   \n",
       "...                ...        ...        ...       ...          ...       ...   \n",
       "2623  1         298862  137034663        1.0      True  720934.8750 -1.009078   \n",
       "2624  0         298862  136448197        1.0      True  710949.3125 -1.112797   \n",
       "      1         298862  136448197        1.0      True  660111.1875  0.348371   \n",
       "2625  0         298862  136959564        1.0      True  549620.9375  0.355632   \n",
       "      1         298862  136959564        1.0      True  549351.3750  0.349544   \n",
       "\n",
       "                jet_nTracks  jet_trackWidth  jet_trackC1  jet_trackBDT  \\\n",
       "entry subentry                                                           \n",
       "0     0                 8.0        0.052751     0.231578     -0.306219   \n",
       "      1                13.0        0.051210     0.252397     -0.064603   \n",
       "1     0                23.0        0.021191     0.177640      0.205810   \n",
       "      1                22.0        0.183881     0.280812     -0.017188   \n",
       "2     0                11.0        0.037250     0.218517     -0.074827   \n",
       "...                     ...             ...          ...           ...   \n",
       "2623  1                28.0        0.172463     0.314916      0.106358   \n",
       "2624  0                13.0        0.042108     0.164087     -0.175678   \n",
       "      1                29.0        0.073809     0.276776      0.257864   \n",
       "2625  0                11.0        0.058083     0.178468     -0.186729   \n",
       "      1                17.0        0.169984     0.310150     -0.047420   \n",
       "\n",
       "                jet_PartonTruthLabelID  \n",
       "entry subentry                          \n",
       "0     0                          -9999  \n",
       "      1                          -9999  \n",
       "1     0                          -9999  \n",
       "      1                          -9999  \n",
       "2     0                          -9999  \n",
       "...                                ...  \n",
       "2623  1                          -9999  \n",
       "2624  0                          -9999  \n",
       "      1                          -9999  \n",
       "2625  0                          -9999  \n",
       "      1                          -9999  \n",
       "\n",
       "[5269 rows x 11 columns]"
      ]
     },
     "execution_count": 38,
     "metadata": {},
     "output_type": "execute_result"
    }
   ],
   "source": [
    "ak.to_pandas(sample_ak)"
   ]
  },
  {
   "cell_type": "code",
   "execution_count": 53,
   "metadata": {},
   "outputs": [
    {
     "data": {
      "text/plain": [
       "True"
      ]
     },
     "execution_count": 53,
     "metadata": {},
     "output_type": "execute_result"
    }
   ],
   "source": [
    "np.all(sample_ak['jet_PartonTruthLabelID']==-9999)"
   ]
  },
  {
   "cell_type": "code",
   "execution_count": 48,
   "metadata": {},
   "outputs": [],
   "source": [
    "is_Data =  np.unique(ak.flatten(sample_ak['jet_PartonTruthLabelID']))[0] == -9999"
   ]
  },
  {
   "cell_type": "code",
   "execution_count": 49,
   "metadata": {},
   "outputs": [
    {
     "data": {
      "text/plain": [
       "<Array [1, 1, 1, 1, 1, 1, ... 1, 1, 1, 1, 1, 1] type='2626 * uint64'>"
      ]
     },
     "execution_count": 49,
     "metadata": {},
     "output_type": "execute_result"
    }
   ],
   "source": [
    "ak.ones_like(sample_ak['event'])"
   ]
  },
  {
   "cell_type": "code",
   "execution_count": 50,
   "metadata": {},
   "outputs": [
    {
     "data": {
      "text/plain": [
       "2626"
      ]
     },
     "execution_count": 50,
     "metadata": {},
     "output_type": "execute_result"
    }
   ],
   "source": [
    "len(sample_ak)"
   ]
  },
  {
   "cell_type": "code",
   "execution_count": null,
   "metadata": {},
   "outputs": [],
   "source": []
  }
 ],
 "metadata": {
  "kernelspec": {
   "display_name": "ml",
   "language": "python",
   "name": "python3"
  },
  "language_info": {
   "codemirror_mode": {
    "name": "ipython",
    "version": 3
   },
   "file_extension": ".py",
   "mimetype": "text/x-python",
   "name": "python",
   "nbconvert_exporter": "python",
   "pygments_lexer": "ipython3",
   "version": "3.9.15 | packaged by conda-forge | (main, Nov 22 2022, 15:55:03) \n[GCC 10.4.0]"
  },
  "orig_nbformat": 4,
  "vscode": {
   "interpreter": {
    "hash": "14e3b66b9136298b1438aa954b24fb6042eb4a7b64fe2e32b506f4a92d36ab42"
   }
  }
 },
 "nbformat": 4,
 "nbformat_minor": 2
}
