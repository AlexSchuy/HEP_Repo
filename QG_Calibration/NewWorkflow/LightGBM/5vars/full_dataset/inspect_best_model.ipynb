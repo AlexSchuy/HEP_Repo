{
 "cells": [
  {
   "cell_type": "code",
   "execution_count": 1,
   "metadata": {},
   "outputs": [],
   "source": [
    "# %%\n",
    "import optuna\n",
    "import lightgbm as lgb\n",
    "from sklearn.model_selection import train_test_split\n",
    "from sklearn.metrics import accuracy_score\n",
    "from sklearn.metrics import classification_report\n",
    "from sklearn.datasets import load_wine\n",
    "import optuna\n",
    "from optuna.samplers import TPESampler\n",
    "import pickle\n",
    "import pandas as pd \n",
    "import joblib\n",
    "import os, sys \n",
    "sys.path.append('/global/cfs/projectdirs/atlas/hrzhao/HEP_Repo/QG_Calibration/BDT_EB4/LightGBM')\n",
    "from LightGBM_BDT_train import *\n",
    "\n",
    "import hist\n",
    "from hist import Hist\n",
    "import numpy as np"
   ]
  },
  {
   "cell_type": "code",
   "execution_count": 2,
   "metadata": {},
   "outputs": [],
   "source": [
    "sample_path = '/global/cfs/projectdirs/atlas/hrzhao/HEP_Repo/QG_Calibration/NewWorkflow/LightGBM/training_sample.pkl'\n",
    "output_path = './inspect_best/'\n"
   ]
  },
  {
   "cell_type": "code",
   "execution_count": 3,
   "metadata": {},
   "outputs": [],
   "source": [
    "output_folder = Path(output_path)\n",
    "if not output_folder.exists():\n",
    "    output_folder.mkdir(parents=True, exist_ok=True)\n",
    "\n",
    "training_vars = ['jet_pt', 'jet_eta', 'jet_nTracks', 'jet_trackWidth', 'jet_trackC1']\n",
    "label_pt_bin = [500, 600, 800, 1000, 1200, 1500, 2000]\n"
   ]
  },
  {
   "cell_type": "code",
   "execution_count": 4,
   "metadata": {},
   "outputs": [],
   "source": [
    "sample = pd.read_pickle(sample_path)\n"
   ]
  },
  {
   "cell_type": "code",
   "execution_count": 5,
   "metadata": {},
   "outputs": [],
   "source": [
    "target_idx = sample.columns.get_loc('target')\n",
    "y = sample.iloc[:, target_idx]\n",
    "X = sample.drop(columns = 'target')\n",
    "\n",
    "X_dev,X_test, y_dev,y_test = train_test_split(X, y, test_size=0.1, random_state=456)\n",
    "X_train, X_val, y_train, y_val = train_test_split(X_dev, y_dev, test_size=0.1/0.9, random_state=789)"
   ]
  },
  {
   "cell_type": "code",
   "execution_count": 6,
   "metadata": {},
   "outputs": [],
   "source": [
    "best_model = joblib.load('./lightgbm_gbdt.pkl')"
   ]
  },
  {
   "cell_type": "code",
   "execution_count": 7,
   "metadata": {},
   "outputs": [
    {
     "name": "stdout",
     "output_type": "stream",
     "text": [
      "LGBMClassifier(bagging_fraction=0.9983937102708883, bagging_freq=2,\n",
      "               feature_fraction=0.8145381505101543,\n",
      "               lambda_l1=0.004076064447663881, lambda_l2=1.3880054955129728e-08,\n",
      "               min_child_samples=18, num_leaves=239)\n"
     ]
    }
   ],
   "source": [
    "print(best_model)"
   ]
  },
  {
   "cell_type": "code",
   "execution_count": 8,
   "metadata": {},
   "outputs": [],
   "source": [
    "y_train_decisions = best_model.predict(X_train[training_vars], raw_score = True)\n",
    "y_test_decisions = best_model.predict(X_test[training_vars], raw_score = True)"
   ]
  },
  {
   "cell_type": "code",
   "execution_count": 9,
   "metadata": {},
   "outputs": [],
   "source": [
    "X_train['newGBDT_score'] = y_train_decisions\n",
    "X_test['newGBDT_score'] = y_test_decisions"
   ]
  },
  {
   "cell_type": "code",
   "execution_count": 10,
   "metadata": {},
   "outputs": [],
   "source": [
    "plot_ROC(y_decisions=y_test_decisions, y_tmva=X_test.iloc[:,X_test.columns.get_loc('jet_trackBDT')], \n",
    "                 y_ntrk=X_test.iloc[:,X_test.columns.get_loc('jet_nTracks')], target=y_test, \n",
    "                 X_weight=X_test['event_weight'], features=\" 5 vars\", output_path=output_path)"
   ]
  },
  {
   "cell_type": "code",
   "execution_count": 11,
   "metadata": {},
   "outputs": [],
   "source": [
    "plot_overtraining_validation(X_dev=X_train, X_test=X_test, y_dev=y_train, y_test=y_test, \n",
    "                                    y_dev_decisions=y_train_decisions, y_test_decisions=y_test_decisions, \n",
    "                                    output_path=output_path)"
   ]
  },
  {
   "cell_type": "code",
   "execution_count": 12,
   "metadata": {},
   "outputs": [],
   "source": [
    "sample_test = pd.concat((X_test, y_test), axis=1)"
   ]
  },
  {
   "cell_type": "code",
   "execution_count": 13,
   "metadata": {},
   "outputs": [],
   "source": [
    "sample_1500 = sample_test.loc[sample_test['pt_idx']==5]"
   ]
  },
  {
   "cell_type": "code",
   "execution_count": 14,
   "metadata": {},
   "outputs": [],
   "source": [
    "sample_1500_forward = sample_1500.loc[sample_1500['is_forward']==1]\n",
    "sample_1500_central = sample_1500.loc[sample_1500['is_forward']==0]"
   ]
  },
  {
   "cell_type": "code",
   "execution_count": 15,
   "metadata": {},
   "outputs": [
    {
     "data": {
      "text/html": [
       "<html>\n",
       "<div style=\"display:flex; align-items:center;\">\n",
       "<div style=\"width:290px;\">\n",
       "<svg xmlns=\"http://www.w3.org/2000/svg\" viewBox=\"-10 -105 270 120\">\n",
       "<line x1=\"-5\" y1=\"0\" x2=\"255\" y2=\"0\" style=\"fill:none;stroke-width:2;stroke:currentColor\"/>\n",
       "<text text-anchor=\"middle\" x=\"0\" y=\"15\" style=\"fill:currentColor;\">\n",
       "-5\n",
       "</text>\n",
       "<text text-anchor=\"middle\" x=\"250\" y=\"15\" style=\"fill:currentColor;\">\n",
       "5\n",
       "</text>\n",
       "<text text-anchor=\"middle\" x=\"125.0\" y=\"15\" style=\"fill:currentColor;\">\n",
       "Axis 0\n",
       "</text>\n",
       "<polyline points=\"  0,0   0,-10.9 2.5,-10.9 2.5,-17.1   5,-17.1   5,-24.2 7.5,-24.2 7.5,-30.9  10,-30.9  10,-38.2 12.5,-38.2 12.5,-46.7  15,-46.7  15,-51.9 17.5,-51.9 17.5,-51  20,-51  20,-50.4 22.5,-50.4 22.5,-49.9  25,-49.9  25,-47.5 27.5,-47.5 27.5,-45.9  30,-45.9  30,-46.7 32.5,-46.7 32.5,-47.5  35,-47.5  35,-46.2 37.5,-46.2 37.5,-44.8  40,-44.8  40,-45.6 42.5,-45.6 42.5,-48.4  45,-48.4  45,-46.1 47.5,-46.1 47.5,-50.7  50,-50.7  50,-50.8 52.5,-50.8 52.5,-48.4  55,-48.4  55,-51.7 57.5,-51.7 57.5,-55.7  60,-55.7  60,-52.4 62.5,-52.4 62.5,-53.5  65,-53.5  65,-57.3 67.5,-57.3 67.5,-61.6  70,-61.6  70,-66.6 72.5,-66.6 72.5,-68.1  75,-68.1  75,-67.9 77.5,-67.9 77.5,-73.7  80,-73.7  80,-80 82.5,-80 82.5,-79.6  85,-79.6  85,-82.7 87.5,-82.7 87.5,-83.7  90,-83.7  90,-90.9 92.5,-90.9 92.5,-93.1  95,-93.1  95,-94 97.5,-94 97.5,-95.9 100,-95.9 100,-100 102.5,-100 102.5,-95.9 105,-95.9 105,-92.9 107.5,-92.9 107.5,-92.5 110,-92.5 110,-87.5 112.5,-87.5 112.5,-88.8 115,-88.8 115,-86.4 117.5,-86.4 117.5,-86.9 120,-86.9 120,-83.2 122.5,-83.2 122.5,-83 125,-83 125,-84.2 127.5,-84.2 127.5,-79.6 130,-79.6 130,-76.4 132.5,-76.4 132.5,-77.2 135,-77.2 135,-72.8 137.5,-72.8 137.5,-71.1 140,-71.1 140,-68.2 142.5,-68.2 142.5,-61.8 145,-61.8 145,-59 147.5,-59 147.5,-54.3 150,-54.3 150,-52.2 152.5,-52.2 152.5,-49.1 155,-49.1 155,-46.3 157.5,-46.3 157.5,-40.5 160,-40.5 160,-37.6 162.5,-37.6 162.5,-32.2 165,-32.2 165,-29 167.5,-29 167.5,-23.5 170,-23.5 170,-19 172.5,-19 172.5,-15.7 175,-15.7 175,-13.2 177.5,-13.2 177.5,-9.43 180,-9.43 180,-7.21 182.5,-7.21 182.5,-4.43 185,-4.43 185,-4.05 187.5,-4.05 187.5,-1.77 190,-1.77 190,-0.673 192.5,-0.673 192.5,-0.203 195,-0.203 195,-0 197.5,-0 197.5,-0 200,-0 200,-0 202.5,-0 202.5,-0 205,-0 205,-0 207.5,-0 207.5,-0 210,-0 210,-0 212.5,-0 212.5,-0 215,-0 215,-0 217.5,-0 217.5,-0 220,-0 220,-0 222.5,-0 222.5,-0 225,-0 225,-0 227.5,-0 227.5,-0 230,-0 230,-0 232.5,-0 232.5,-0 235,-0 235,-0 237.5,-0 237.5,-0 240,-0 240,-0 242.5,-0 242.5,-0 245,-0 245,-0 247.5,-0 247.5,-0 250,-0 250,0\" style=\"fill:none; stroke:currentColor;\"/>\n",
       "</svg>\n",
       "</div>\n",
       "<div style=\"flex=grow:1;\">\n",
       "Regular(100, -5, 5, label='Axis 0')<br/>\n",
       "<hr style=\"margin-top:.2em; margin-bottom:.2em;\"/>\n",
       "Weight() Σ=WeightedSum(value=1529.13, variance=15.9123) <em>(WeightedSum(value=1534.39, variance=15.9517) with flow)</em>\n",
       "\n",
       "</div>\n",
       "</div>\n",
       "</html>"
      ],
      "text/plain": [
       "Hist(Regular(100, -5, 5, label='Axis 0'), storage=Weight()) # Sum: WeightedSum(value=1529.13, variance=15.9123) (WeightedSum(value=1534.39, variance=15.9517) with flow)"
      ]
     },
     "execution_count": 15,
     "metadata": {},
     "output_type": "execute_result"
    }
   ],
   "source": [
    "bins = np.linspace(-5, 5, 101)\n",
    "hist_forward = Hist(hist.axis.Regular(bins=len(bins)-1, start=bins[0], stop=bins[-1], overflow=True, underflow=True), \n",
    "                                      storage=hist.storage.Weight())\n",
    "hist_central = Hist(hist.axis.Regular(bins=len(bins)-1, start=bins[0], stop=bins[-1], overflow=True, underflow=True), \n",
    "                                      storage=hist.storage.Weight())\n",
    "\n",
    "hist_forward.fill(sample_1500_forward['newGBDT_score'], weight=sample_1500_forward['event_weight'])\n",
    "hist_central.fill(sample_1500_central['newGBDT_score'], weight=sample_1500_central['event_weight'])"
   ]
  },
  {
   "cell_type": "code",
   "execution_count": 18,
   "metadata": {},
   "outputs": [],
   "source": [
    "def normalize_hist(_hist):\n",
    "    if _hist.sum().value != 0:\n",
    "        area = np.sum(_hist.values()) * _hist.axes[0].widths\n",
    "        _normed = _hist / area\n",
    "    else:\n",
    "        _normed = _hist\n",
    "    return _normed"
   ]
  },
  {
   "cell_type": "code",
   "execution_count": 54,
   "metadata": {},
   "outputs": [
    {
     "data": {
      "text/plain": [
       "(([StairsArtists(stairs=<matplotlib.patches.StepPatch object at 0x154cb64a04c0>, errorbar=<ErrorbarContainer object of 3 artists>, legend_artist=<ErrorbarContainer object of 3 artists>)],\n",
       "  [StairsArtists(stairs=<matplotlib.patches.StepPatch object at 0x154cb64bd910>, errorbar=<ErrorbarContainer object of 3 artists>, legend_artist=<ErrorbarContainer object of 3 artists>)]),\n",
       " RatioErrorbarArtists(line=<matplotlib.lines.Line2D object at 0x154d402a1550>, errorbar=<ErrorbarContainer object of 3 artists>))"
      ]
     },
     "execution_count": 54,
     "metadata": {},
     "output_type": "execute_result"
    },
    {
     "data": {
      "image/png": "[encoded data removed]",
      "text/plain": [
       "<Figure size 640x480 with 2 Axes>"
      ]
     },
     "metadata": {},
     "output_type": "display_data"
    }
   ],
   "source": [
    "normalize_hist(hist_forward).plot_ratio(normalize_hist(hist_central),rp_num_label=\"forward\",rp_denom_label=\"central\")"
   ]
  },
  {
   "cell_type": "code",
   "execution_count": 20,
   "metadata": {},
   "outputs": [
    {
     "data": {
      "text/html": [
       "<html>\n",
       "<div style=\"display:flex; align-items:center;\">\n",
       "<div style=\"width:290px;\">\n",
       "<svg xmlns=\"http://www.w3.org/2000/svg\" viewBox=\"-10 -105 270 120\">\n",
       "<line x1=\"-5\" y1=\"0\" x2=\"255\" y2=\"0\" style=\"fill:none;stroke-width:2;stroke:currentColor\"/>\n",
       "<text text-anchor=\"middle\" x=\"0\" y=\"15\" style=\"fill:currentColor;\">\n",
       "-5\n",
       "</text>\n",
       "<text text-anchor=\"middle\" x=\"250\" y=\"15\" style=\"fill:currentColor;\">\n",
       "5\n",
       "</text>\n",
       "<text text-anchor=\"middle\" x=\"125.0\" y=\"15\" style=\"fill:currentColor;\">\n",
       "Axis 0\n",
       "</text>\n",
       "<polyline points=\"  0,0   0,-14.9 2.5,-14.9 2.5,-23.5   5,-23.5   5,-33.1 7.5,-33.1 7.5,-42.1  10,-42.1  10,-52.3 12.5,-52.3 12.5,-63.6  15,-63.6  15,-70.9 17.5,-70.9 17.5,-68.8  20,-68.8  20,-68.8 22.5,-68.8 22.5,-67.7  25,-67.7  25,-63.9 27.5,-63.9 27.5,-61.8  30,-61.8  30,-62.9 32.5,-62.9 32.5,-64.1  35,-64.1  35,-62.1 37.5,-62.1 37.5,-60.2  40,-60.2  40,-61.2 42.5,-61.2 42.5,-64.4  45,-64.4  45,-60.9 47.5,-60.9 47.5,-66.9  50,-66.9  50,-66.3 52.5,-66.3 52.5,-63  55,-63  55,-66.4 57.5,-66.4 57.5,-71.1  60,-71.1  60,-66.4 62.5,-66.4 62.5,-68.1  65,-68.1  65,-72.3 67.5,-72.3 67.5,-77.5  70,-77.5  70,-80.9 72.5,-80.9 72.5,-82.5  75,-82.5  75,-83 77.5,-83 77.5,-88.4  80,-88.4  80,-93.6 82.5,-93.6 82.5,-92  85,-92  85,-92.9 87.5,-92.9 87.5,-93.6  90,-93.6  90,-99.3 92.5,-99.3 92.5,-99.4  95,-99.4  95,-99.9 97.5,-99.9 97.5,-95.9 100,-95.9 100,-100 102.5,-100 102.5,-91.8 105,-91.8 105,-83.6 107.5,-83.6 107.5,-82.2 110,-82.2 110,-74.8 112.5,-74.8 112.5,-72.3 115,-72.3 115,-69 117.5,-69 117.5,-67 120,-67 120,-61.7 122.5,-61.7 122.5,-57.9 125,-57.9 125,-56.2 127.5,-56.2 127.5,-50 130,-50 130,-45.7 132.5,-45.7 132.5,-44.2 135,-44.2 135,-40.2 137.5,-40.2 137.5,-34.8 140,-34.8 140,-33 142.5,-33 142.5,-27.1 145,-27.1 145,-23.4 147.5,-23.4 147.5,-21.6 150,-21.6 150,-16.5 152.5,-16.5 152.5,-14.9 155,-14.9 155,-13.6 157.5,-13.6 157.5,-11.4 160,-11.4 160,-10.1 162.5,-10.1 162.5,-9.08 165,-9.08 165,-5.5 167.5,-5.5 167.5,-4.62 170,-4.62 170,-3.44 172.5,-3.44 172.5,-2.5 175,-2.5 175,-1.74 177.5,-1.74 177.5,-1.1 180,-1.1 180,-0.82 182.5,-0.82 182.5,-0.462 185,-0.462 185,-0.325 187.5,-0.325 187.5,-0.189 190,-0.189 190,-0.0193 192.5,-0.0193 192.5,-0 195,-0 195,-0 197.5,-0 197.5,-0 200,-0 200,-0 202.5,-0 202.5,-0 205,-0 205,-0 207.5,-0 207.5,-0 210,-0 210,-0 212.5,-0 212.5,-0 215,-0 215,-0 217.5,-0 217.5,-0 220,-0 220,-0 222.5,-0 222.5,-0 225,-0 225,-0 227.5,-0 227.5,-0 230,-0 230,-0 232.5,-0 232.5,-0 235,-0 235,-0 237.5,-0 237.5,-0 240,-0 240,-0 242.5,-0 242.5,-0 245,-0 245,-0 247.5,-0 247.5,-0 250,-0 250,0\" style=\"fill:none; stroke:currentColor;\"/>\n",
       "</svg>\n",
       "</div>\n",
       "<div style=\"flex=grow:1;\">\n",
       "Regular(100, -5, 5, label='Axis 0')<br/>\n",
       "<hr style=\"margin-top:.2em; margin-bottom:.2em;\"/>\n",
       "Weight() Σ=WeightedSum(value=1052.76, variance=10.82) <em>(WeightedSum(value=1058, variance=10.8593) with flow)</em>\n",
       "\n",
       "</div>\n",
       "</div>\n",
       "</html>"
      ],
      "text/plain": [
       "Hist(Regular(100, -5, 5, label='Axis 0'), storage=Weight()) # Sum: WeightedSum(value=1052.76, variance=10.82) (WeightedSum(value=1058, variance=10.8593) with flow)"
      ]
     },
     "execution_count": 20,
     "metadata": {},
     "output_type": "execute_result"
    }
   ],
   "source": [
    "sample_1500_forward_quark = sample_1500_forward.loc[sample_1500_forward['target']==0]\n",
    "sample_1500_central_quark = sample_1500_central.loc[sample_1500_central['target']==0]\n",
    "\n",
    "hist_forward_quark = Hist(hist.axis.Regular(bins=len(bins)-1, start=bins[0], stop=bins[-1], overflow=True, underflow=True), \n",
    "                                      storage=hist.storage.Weight())\n",
    "hist_central_quark = Hist(hist.axis.Regular(bins=len(bins)-1, start=bins[0], stop=bins[-1], overflow=True, underflow=True), \n",
    "                                      storage=hist.storage.Weight())\n",
    "\n",
    "hist_forward_quark.fill(sample_1500_forward_quark['newGBDT_score'], weight=sample_1500_forward_quark['event_weight'])\n",
    "hist_central_quark.fill(sample_1500_central_quark['newGBDT_score'], weight=sample_1500_central_quark['event_weight'])\n"
   ]
  },
  {
   "cell_type": "code",
   "execution_count": 53,
   "metadata": {},
   "outputs": [
    {
     "data": {
      "text/plain": [
       "(([StairsArtists(stairs=<matplotlib.patches.StepPatch object at 0x154cfc3c8910>, errorbar=<ErrorbarContainer object of 3 artists>, legend_artist=<ErrorbarContainer object of 3 artists>)],\n",
       "  [StairsArtists(stairs=<matplotlib.patches.StepPatch object at 0x154cb6561040>, errorbar=<ErrorbarContainer object of 3 artists>, legend_artist=<ErrorbarContainer object of 3 artists>)]),\n",
       " RatioErrorbarArtists(line=<matplotlib.lines.Line2D object at 0x154cb651de80>, errorbar=<ErrorbarContainer object of 3 artists>))"
      ]
     },
     "execution_count": 53,
     "metadata": {},
     "output_type": "execute_result"
    },
    {
     "data": {
      "image/png": "[encoded data removed]",
      "text/plain": [
       "<Figure size 640x480 with 2 Axes>"
      ]
     },
     "metadata": {},
     "output_type": "display_data"
    }
   ],
   "source": [
    "normalize_hist(hist_forward_quark).plot_ratio(normalize_hist(hist_central_quark), \n",
    "rp_num_label=\"forward quark\",rp_denom_label=\"central quark\")"
   ]
  },
  {
   "cell_type": "code",
   "execution_count": 23,
   "metadata": {},
   "outputs": [
    {
     "data": {
      "text/plain": [
       "['inspect_best/sample_test.pkl']"
      ]
     },
     "execution_count": 23,
     "metadata": {},
     "output_type": "execute_result"
    }
   ],
   "source": [
    "joblib.dump(sample_test, output_folder/ 'sample_test.pkl')"
   ]
  }
 ],
 "metadata": {
  "kernelspec": {
   "display_name": "ml",
   "language": "python",
   "name": "python3"
  },
  "language_info": {
   "codemirror_mode": {
    "name": "ipython",
    "version": 3
   },
   "file_extension": ".py",
   "mimetype": "text/x-python",
   "name": "python",
   "nbconvert_exporter": "python",
   "pygments_lexer": "ipython3",
   "version": "3.9.15"
  },
  "orig_nbformat": 4,
  "vscode": {
   "interpreter": {
    "hash": "14e3b66b9136298b1438aa954b24fb6042eb4a7b64fe2e32b506f4a92d36ab42"
   }
  }
 },
 "nbformat": 4,
 "nbformat_minor": 2
}
