{
 "cells": [
  {
   "cell_type": "code",
   "execution_count": 55,
   "metadata": {},
   "outputs": [],
   "source": [
    "import joblib\n",
    "import pandas as pd\n",
    "import numpy as np \n",
    "from pathlib import Path\n",
    "from matplotlib import pyplot as plt"
   ]
  },
  {
   "cell_type": "code",
   "execution_count": 3,
   "metadata": {},
   "outputs": [],
   "source": [
    "pred_pkls_path = '/global/cfs/projectdirs/atlas/hrzhao/HEP_Repo/QG_Calibration/NewWorkflow/test_slurm2'\n",
    "pred_pkls_path = Path(pred_pkls_path)"
   ]
  },
  {
   "cell_type": "code",
   "execution_count": 4,
   "metadata": {},
   "outputs": [],
   "source": [
    "pred_pkls_files = sorted(pred_pkls_path.rglob('pythia*_pred.pkl'))"
   ]
  },
  {
   "cell_type": "code",
   "execution_count": 6,
   "metadata": {},
   "outputs": [],
   "source": [
    "sample = []\n",
    "for pred_pkls_file in pred_pkls_files:\n",
    "    sample_pd = joblib.load(pred_pkls_file)\n",
    "    sample_pd = sample_pd[(sample_pd[\"jet_nTracks\"] > 1) & (sample_pd[\"target\"] != '-')] \n",
    "\n",
    "    sample.append(sample_pd.sample(frac = 0.3))"
   ]
  },
  {
   "cell_type": "code",
   "execution_count": 8,
   "metadata": {},
   "outputs": [],
   "source": [
    "sample = pd.concat(sample)"
   ]
  },
  {
   "cell_type": "code",
   "execution_count": 9,
   "metadata": {},
   "outputs": [
    {
     "data": {
      "text/plain": [
       "(61740598, 21)"
      ]
     },
     "execution_count": 9,
     "metadata": {},
     "output_type": "execute_result"
    }
   ],
   "source": [
    "sample.shape"
   ]
  },
  {
   "cell_type": "code",
   "execution_count": 22,
   "metadata": {},
   "outputs": [],
   "source": [
    "sample.drop(columns=sample.columns[-7:], inplace=True)"
   ]
  },
  {
   "cell_type": "code",
   "execution_count": 23,
   "metadata": {},
   "outputs": [
    {
     "data": {
      "text/html": [
       "<div>\n",
       "<style scoped>\n",
       "    .dataframe tbody tr th:only-of-type {\n",
       "        vertical-align: middle;\n",
       "    }\n",
       "\n",
       "    .dataframe tbody tr th {\n",
       "        vertical-align: top;\n",
       "    }\n",
       "\n",
       "    .dataframe thead th {\n",
       "        text-align: right;\n",
       "    }\n",
       "</style>\n",
       "<table border=\"1\" class=\"dataframe\">\n",
       "  <thead>\n",
       "    <tr style=\"text-align: right;\">\n",
       "      <th></th>\n",
       "      <th>run</th>\n",
       "      <th>event</th>\n",
       "      <th>jet_pt</th>\n",
       "      <th>jet_eta</th>\n",
       "      <th>jet_nTracks</th>\n",
       "      <th>jet_trackWidth</th>\n",
       "      <th>jet_trackC1</th>\n",
       "      <th>jet_trackBDT</th>\n",
       "      <th>jet_PartonTruthLabelID</th>\n",
       "      <th>event_weight</th>\n",
       "      <th>is_forward</th>\n",
       "      <th>is_leading</th>\n",
       "      <th>pt_idx</th>\n",
       "      <th>target</th>\n",
       "    </tr>\n",
       "  </thead>\n",
       "  <tbody>\n",
       "    <tr>\n",
       "      <th>38784</th>\n",
       "      <td>364704.0</td>\n",
       "      <td>128244426.0</td>\n",
       "      <td>756.918274</td>\n",
       "      <td>-0.267729</td>\n",
       "      <td>13.0</td>\n",
       "      <td>0.016890</td>\n",
       "      <td>0.158292</td>\n",
       "      <td>-0.212644</td>\n",
       "      <td>2.0</td>\n",
       "      <td>0.400877</td>\n",
       "      <td>1.0</td>\n",
       "      <td>1.0</td>\n",
       "      <td>1</td>\n",
       "      <td>0</td>\n",
       "    </tr>\n",
       "    <tr>\n",
       "      <th>76944</th>\n",
       "      <td>364705.0</td>\n",
       "      <td>33428078.0</td>\n",
       "      <td>979.209412</td>\n",
       "      <td>-0.177722</td>\n",
       "      <td>29.0</td>\n",
       "      <td>0.035617</td>\n",
       "      <td>0.227922</td>\n",
       "      <td>0.263193</td>\n",
       "      <td>21.0</td>\n",
       "      <td>0.420153</td>\n",
       "      <td>0.0</td>\n",
       "      <td>1.0</td>\n",
       "      <td>2</td>\n",
       "      <td>1</td>\n",
       "    </tr>\n",
       "    <tr>\n",
       "      <th>184802</th>\n",
       "      <td>364704.0</td>\n",
       "      <td>134794190.0</td>\n",
       "      <td>521.805176</td>\n",
       "      <td>0.770232</td>\n",
       "      <td>15.0</td>\n",
       "      <td>0.025237</td>\n",
       "      <td>0.203193</td>\n",
       "      <td>-0.059303</td>\n",
       "      <td>4.0</td>\n",
       "      <td>1.047949</td>\n",
       "      <td>1.0</td>\n",
       "      <td>1.0</td>\n",
       "      <td>0</td>\n",
       "      <td>0</td>\n",
       "    </tr>\n",
       "    <tr>\n",
       "      <th>286675</th>\n",
       "      <td>364704.0</td>\n",
       "      <td>138678461.0</td>\n",
       "      <td>512.864563</td>\n",
       "      <td>-1.864337</td>\n",
       "      <td>14.0</td>\n",
       "      <td>0.035285</td>\n",
       "      <td>0.196587</td>\n",
       "      <td>-0.053137</td>\n",
       "      <td>21.0</td>\n",
       "      <td>0.459634</td>\n",
       "      <td>1.0</td>\n",
       "      <td>0.0</td>\n",
       "      <td>0</td>\n",
       "      <td>1</td>\n",
       "    </tr>\n",
       "    <tr>\n",
       "      <th>99196</th>\n",
       "      <td>364704.0</td>\n",
       "      <td>123346880.0</td>\n",
       "      <td>701.029419</td>\n",
       "      <td>-0.035616</td>\n",
       "      <td>12.0</td>\n",
       "      <td>0.012978</td>\n",
       "      <td>0.156514</td>\n",
       "      <td>-0.290759</td>\n",
       "      <td>2.0</td>\n",
       "      <td>0.411335</td>\n",
       "      <td>0.0</td>\n",
       "      <td>1.0</td>\n",
       "      <td>1</td>\n",
       "      <td>0</td>\n",
       "    </tr>\n",
       "    <tr>\n",
       "      <th>...</th>\n",
       "      <td>...</td>\n",
       "      <td>...</td>\n",
       "      <td>...</td>\n",
       "      <td>...</td>\n",
       "      <td>...</td>\n",
       "      <td>...</td>\n",
       "      <td>...</td>\n",
       "      <td>...</td>\n",
       "      <td>...</td>\n",
       "      <td>...</td>\n",
       "      <td>...</td>\n",
       "      <td>...</td>\n",
       "      <td>...</td>\n",
       "      <td>...</td>\n",
       "    </tr>\n",
       "    <tr>\n",
       "      <th>267768</th>\n",
       "      <td>364704.0</td>\n",
       "      <td>8342423.0</td>\n",
       "      <td>648.258728</td>\n",
       "      <td>2.002168</td>\n",
       "      <td>7.0</td>\n",
       "      <td>0.021857</td>\n",
       "      <td>0.162479</td>\n",
       "      <td>-0.383852</td>\n",
       "      <td>2.0</td>\n",
       "      <td>0.471458</td>\n",
       "      <td>1.0</td>\n",
       "      <td>1.0</td>\n",
       "      <td>1</td>\n",
       "      <td>0</td>\n",
       "    </tr>\n",
       "    <tr>\n",
       "      <th>299310</th>\n",
       "      <td>364704.0</td>\n",
       "      <td>213567883.0</td>\n",
       "      <td>669.386841</td>\n",
       "      <td>1.112937</td>\n",
       "      <td>20.0</td>\n",
       "      <td>0.040012</td>\n",
       "      <td>0.236910</td>\n",
       "      <td>0.110355</td>\n",
       "      <td>21.0</td>\n",
       "      <td>0.369710</td>\n",
       "      <td>0.0</td>\n",
       "      <td>1.0</td>\n",
       "      <td>1</td>\n",
       "      <td>1</td>\n",
       "    </tr>\n",
       "    <tr>\n",
       "      <th>212162</th>\n",
       "      <td>364704.0</td>\n",
       "      <td>214787671.0</td>\n",
       "      <td>515.161072</td>\n",
       "      <td>-0.767121</td>\n",
       "      <td>29.0</td>\n",
       "      <td>0.052398</td>\n",
       "      <td>0.248215</td>\n",
       "      <td>0.350838</td>\n",
       "      <td>21.0</td>\n",
       "      <td>1.452550</td>\n",
       "      <td>0.0</td>\n",
       "      <td>1.0</td>\n",
       "      <td>0</td>\n",
       "      <td>1</td>\n",
       "    </tr>\n",
       "    <tr>\n",
       "      <th>367160</th>\n",
       "      <td>364706.0</td>\n",
       "      <td>10056041.0</td>\n",
       "      <td>1289.567017</td>\n",
       "      <td>-0.213357</td>\n",
       "      <td>22.0</td>\n",
       "      <td>0.011821</td>\n",
       "      <td>0.122256</td>\n",
       "      <td>0.077993</td>\n",
       "      <td>21.0</td>\n",
       "      <td>0.008037</td>\n",
       "      <td>1.0</td>\n",
       "      <td>1.0</td>\n",
       "      <td>4</td>\n",
       "      <td>1</td>\n",
       "    </tr>\n",
       "    <tr>\n",
       "      <th>350798</th>\n",
       "      <td>364706.0</td>\n",
       "      <td>767632.0</td>\n",
       "      <td>1377.662354</td>\n",
       "      <td>1.497117</td>\n",
       "      <td>9.0</td>\n",
       "      <td>0.006701</td>\n",
       "      <td>0.051929</td>\n",
       "      <td>-0.518656</td>\n",
       "      <td>2.0</td>\n",
       "      <td>0.009009</td>\n",
       "      <td>1.0</td>\n",
       "      <td>1.0</td>\n",
       "      <td>4</td>\n",
       "      <td>0</td>\n",
       "    </tr>\n",
       "  </tbody>\n",
       "</table>\n",
       "<p>61740598 rows × 14 columns</p>\n",
       "</div>"
      ],
      "text/plain": [
       "             run        event       jet_pt   jet_eta  jet_nTracks  \\\n",
       "38784   364704.0  128244426.0   756.918274 -0.267729         13.0   \n",
       "76944   364705.0   33428078.0   979.209412 -0.177722         29.0   \n",
       "184802  364704.0  134794190.0   521.805176  0.770232         15.0   \n",
       "286675  364704.0  138678461.0   512.864563 -1.864337         14.0   \n",
       "99196   364704.0  123346880.0   701.029419 -0.035616         12.0   \n",
       "...          ...          ...          ...       ...          ...   \n",
       "267768  364704.0    8342423.0   648.258728  2.002168          7.0   \n",
       "299310  364704.0  213567883.0   669.386841  1.112937         20.0   \n",
       "212162  364704.0  214787671.0   515.161072 -0.767121         29.0   \n",
       "367160  364706.0   10056041.0  1289.567017 -0.213357         22.0   \n",
       "350798  364706.0     767632.0  1377.662354  1.497117          9.0   \n",
       "\n",
       "        jet_trackWidth  jet_trackC1  jet_trackBDT  jet_PartonTruthLabelID  \\\n",
       "38784         0.016890     0.158292     -0.212644                     2.0   \n",
       "76944         0.035617     0.227922      0.263193                    21.0   \n",
       "184802        0.025237     0.203193     -0.059303                     4.0   \n",
       "286675        0.035285     0.196587     -0.053137                    21.0   \n",
       "99196         0.012978     0.156514     -0.290759                     2.0   \n",
       "...                ...          ...           ...                     ...   \n",
       "267768        0.021857     0.162479     -0.383852                     2.0   \n",
       "299310        0.040012     0.236910      0.110355                    21.0   \n",
       "212162        0.052398     0.248215      0.350838                    21.0   \n",
       "367160        0.011821     0.122256      0.077993                    21.0   \n",
       "350798        0.006701     0.051929     -0.518656                     2.0   \n",
       "\n",
       "        event_weight  is_forward  is_leading  pt_idx target  \n",
       "38784       0.400877         1.0         1.0       1      0  \n",
       "76944       0.420153         0.0         1.0       2      1  \n",
       "184802      1.047949         1.0         1.0       0      0  \n",
       "286675      0.459634         1.0         0.0       0      1  \n",
       "99196       0.411335         0.0         1.0       1      0  \n",
       "...              ...         ...         ...     ...    ...  \n",
       "267768      0.471458         1.0         1.0       1      0  \n",
       "299310      0.369710         0.0         1.0       1      1  \n",
       "212162      1.452550         0.0         1.0       0      1  \n",
       "367160      0.008037         1.0         1.0       4      1  \n",
       "350798      0.009009         1.0         1.0       4      0  \n",
       "\n",
       "[61740598 rows x 14 columns]"
      ]
     },
     "execution_count": 23,
     "metadata": {},
     "output_type": "execute_result"
    }
   ],
   "source": [
    "sample"
   ]
  },
  {
   "cell_type": "code",
   "execution_count": 25,
   "metadata": {},
   "outputs": [],
   "source": [
    "import hist\n",
    "from hist import Hist"
   ]
  },
  {
   "cell_type": "code",
   "execution_count": 50,
   "metadata": {},
   "outputs": [
    {
     "data": {
      "text/plain": [
       "[StairsArtists(stairs=<matplotlib.patches.StepPatch object at 0x1554dcf83670>, errorbar=<ErrorbarContainer object of 3 artists>, legend_artist=<ErrorbarContainer object of 3 artists>)]"
      ]
     },
     "execution_count": 50,
     "metadata": {},
     "output_type": "execute_result"
    },
    {
     "data": {
      "image/png": "[encoded data removed]",
      "text/plain": [
       "<Figure size 640x480 with 1 Axes>"
      ]
     },
     "metadata": {},
     "output_type": "display_data"
    }
   ],
   "source": [
    "pt_hist =Hist(hist.axis.Regular(bins=60, start=500, stop=2000, overflow=True, underflow=True), \n",
    "                                storage=hist.storage.Weight())\n",
    "pt_hist.fill(sample['jet_pt'], weight=sample['event_weight'])\n",
    "pt_hist.plot()"
   ]
  },
  {
   "cell_type": "code",
   "execution_count": 58,
   "metadata": {},
   "outputs": [
    {
     "data": {
      "text/plain": [
       "<matplotlib.patches.StepPatch at 0x1554da1acbe0>"
      ]
     },
     "execution_count": 58,
     "metadata": {},
     "output_type": "execute_result"
    },
    {
     "data": {
      "image/png": "[encoded data removed]",
      "text/plain": [
       "<Figure size 640x480 with 1 Axes>"
      ]
     },
     "metadata": {},
     "output_type": "display_data"
    }
   ],
   "source": [
    "plt.stairs(np.log(pt_hist.values()), np.linspace(500,2000,61))"
   ]
  },
  {
   "cell_type": "code",
   "execution_count": 34,
   "metadata": {},
   "outputs": [],
   "source": [
    "flatpt_factor = 1.0 / pt_hist.values()"
   ]
  },
  {
   "cell_type": "code",
   "execution_count": 47,
   "metadata": {},
   "outputs": [],
   "source": [
    "pt_idx = np.digitize(sample['jet_pt'], bins=np.linspace(500,2000,61)) - 1"
   ]
  },
  {
   "cell_type": "code",
   "execution_count": 48,
   "metadata": {},
   "outputs": [],
   "source": [
    "sample['flatpt_weight'] = sample['event_weight'] * flatpt_factor[pt_idx]"
   ]
  },
  {
   "cell_type": "code",
   "execution_count": 61,
   "metadata": {},
   "outputs": [
    {
     "data": {
      "text/plain": [
       "[StairsArtists(stairs=<matplotlib.patches.StepPatch object at 0x1554da141a30>, errorbar=<ErrorbarContainer object of 3 artists>, legend_artist=<ErrorbarContainer object of 3 artists>)]"
      ]
     },
     "execution_count": 61,
     "metadata": {},
     "output_type": "execute_result"
    },
    {
     "data": {
      "image/png": "[encoded data removed]",
      "text/plain": [
       "<Figure size 640x480 with 1 Axes>"
      ]
     },
     "metadata": {},
     "output_type": "display_data"
    }
   ],
   "source": [
    "pt_hist_flat_pt =Hist(hist.axis.Regular(bins=60, start=500, stop=2000, overflow=True, underflow=True), \n",
    "                                storage=hist.storage.Weight())\n",
    "pt_hist_flat_pt.fill(sample['jet_pt'], weight=sample['flatpt_weight'])\n",
    "pt_hist_flat_pt.plot()"
   ]
  },
  {
   "cell_type": "code",
   "execution_count": null,
   "metadata": {},
   "outputs": [],
   "source": []
  }
 ],
 "metadata": {
  "kernelspec": {
   "display_name": "ml",
   "language": "python",
   "name": "python3"
  },
  "language_info": {
   "codemirror_mode": {
    "name": "ipython",
    "version": 3
   },
   "file_extension": ".py",
   "mimetype": "text/x-python",
   "name": "python",
   "nbconvert_exporter": "python",
   "pygments_lexer": "ipython3",
   "version": "3.9.15"
  },
  "orig_nbformat": 4,
  "vscode": {
   "interpreter": {
    "hash": "14e3b66b9136298b1438aa954b24fb6042eb4a7b64fe2e32b506f4a92d36ab42"
   }
  }
 },
 "nbformat": 4,
 "nbformat_minor": 2
}
