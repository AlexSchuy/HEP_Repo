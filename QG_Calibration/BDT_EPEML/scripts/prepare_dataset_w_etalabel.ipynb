{
 "cells": [
  {
   "cell_type": "code",
   "execution_count": null,
   "metadata": {},
   "outputs": [],
   "source": [
    "import argparse\n",
    "import numpy as np\n",
    "import matplotlib.pyplot as plt\n",
    "import pandas as pd\n",
    "\n",
    "import uproot \n",
    "import awkward as ak\n",
    "from pathlib import Path\n",
    "\n",
    "from typing import Dict, List \n",
    "import re\n",
    "import pickle\n",
    "from tqdm import tqdm\n",
    "import logging\n",
    "logging.basicConfig(level=logging.INFO)\n",
    "\n",
    "import warnings\n",
    "warnings.filterwarnings(\"ignore\", category=np.VisibleDeprecationWarning) \n"
   ]
  },
  {
   "cell_type": "code",
   "execution_count": null,
   "metadata": {},
   "outputs": [],
   "source": [
    "pkl_file_path = '/global/cfs/projectdirs/atlas/hrzhao/qgcal/BDT_EPEML/perpared_dijets_w_etalabel/Processed_Samples_Pythia_Nov8/periodA/dijet_pythia_mc16Aevent.pkl'\n",
    "pkl_file_path = Path(pkl_file_path)"
   ]
  },
  {
   "cell_type": "code",
   "execution_count": null,
   "metadata": {},
   "outputs": [],
   "source": [
    "with open(pkl_file_path, 'rb') as f:\n",
    "    dijet_array_all_JZs = pickle.load(f)"
   ]
  },
  {
   "cell_type": "code",
   "execution_count": null,
   "metadata": {},
   "outputs": [],
   "source": [
    "dijet_array_all_JZs.keys()"
   ]
  },
  {
   "cell_type": "code",
   "execution_count": null,
   "metadata": {},
   "outputs": [],
   "source": [
    "n_files = 0 \n",
    "n_events = 0\n",
    "for i in range(1,10):\n",
    "    n_files_JZ = len(dijet_array_all_JZs[f'JZ{i}']) \n",
    "    if n_files_JZ != 0 :\n",
    "        n_events_JZ = len(np.concatenate(dijet_array_all_JZs[f'JZ{i}'], axis=0))\n",
    "    else:\n",
    "        n_events_JZ = 0\n",
    "    n_files += n_files_JZ\n",
    "    n_events += n_events_JZ\n",
    "    logging.info(f\"JZ{i}: num. of files: \\t {n_files_JZ}, \\t num. of events:{n_events_JZ}\" ) \n",
    "\n",
    "logging.info(f\"Stats: total num. of files: \\t {n_files}, \\t total num. of events {n_events}\" ) "
   ]
  },
  {
   "attachments": {},
   "cell_type": "markdown",
   "metadata": {},
   "source": [
    "# Format 1"
   ]
  },
  {
   "cell_type": "code",
   "execution_count": null,
   "metadata": {},
   "outputs": [],
   "source": [
    "output_pd = {}\n",
    "truth_parton_idx = 6\n",
    "eta_idx = 1\n",
    "column_names = [\"jet_pt\", \"jet_eta\", \"jet_nTracks\", \"jet_trackWidth\", \"jet_trackC1\", \"jet_trackBDT\", \"jet_PartonTruthLabelID\", \"total_weight\"]\n",
    "column_names_pd = [\"event\"] + column_names + [\"is_forward\", \"target\"]\n",
    "\n",
    "for key, dijet_array_JZ in tqdm(dijet_array_all_JZs.items()):\n",
    "    logging.info(f\"Processing {key}....\")\n",
    "\n",
    "    n_files_JZ = len(dijet_array_JZ) \n",
    "    if  n_files_JZ == 0:\n",
    "        logging.warning(f\"{key} is empty! Skipping!... \")\n",
    "        continue\n",
    "\n",
    "    dijet_array_JZ = np.array(dijet_array_JZ)\n",
    "    dijet_array_JZ = np.concatenate(dijet_array_JZ, axis=0)\n",
    "    n_events_JZ = len(dijet_array_JZ)\n",
    "\n",
    "    # Label is_forward\n",
    "    forward_idx = np.argmax(np.abs(dijet_array_JZ[:,:,eta_idx]), axis=1) # compare abs eta of jets inside events\n",
    "    central_idx = -1*forward_idx+1\n",
    "\n",
    "    is_forward = np.zeros((len(dijet_array_JZ),2))\n",
    "    is_forward[np.arange(len(is_forward)), forward_idx] = 1\n",
    "\n",
    "    dijet_array_JZ_w_etalabel = np.concatenate((dijet_array_JZ, np.broadcast_to(is_forward[:,:,None], (dijet_array_JZ.shape[:2] + (1,)))), axis = 2)\n",
    "\n",
    "    # Categorize truth ID \n",
    "    truth_parton_id = np.abs(dijet_array_JZ_w_etalabel[:,:,truth_parton_idx])\n",
    "    target = -1* np.ones_like(dijet_array_JZ_w_etalabel[:,:,truth_parton_idx])\n",
    "    gluon_idx = np.where(truth_parton_id == 21)\n",
    "    quark_idx = np.where((truth_parton_id==1) | (truth_parton_id==2) | (truth_parton_id==3) | (truth_parton_id==4) | (truth_parton_id==5))\n",
    "\n",
    "    target[gluon_idx] = 1\n",
    "    target[quark_idx] = 0\n",
    "\n",
    "    dijet_array_JZ_w_etalabel = np.concatenate((dijet_array_JZ_w_etalabel, np.broadcast_to(target[:,:,None], (dijet_array_JZ_w_etalabel.shape[:2] + (1,)))), axis = 2)\n",
    "\n",
    "    # Flat\n",
    "    events = np.repeat(np.arange(n_events_JZ), 2)\n",
    "    dijet_array_JZ_w_etalabel = dijet_array_JZ_w_etalabel.reshape( (len(dijet_array_JZ_w_etalabel)*2, dijet_array_JZ_w_etalabel.shape[-1])) # shape is (2*nevents, 9)\n",
    "    dijet_array_JZ_w_etalabel = np.concatenate((events[:,None], dijet_array_JZ_w_etalabel), axis = 1)\n",
    "\n",
    "    pd_JZ = pd.DataFrame(data=dijet_array_JZ_w_etalabel, columns = column_names_pd)\n",
    "    output_pd[key] = pd_JZ"
   ]
  },
  {
   "cell_type": "code",
   "execution_count": null,
   "metadata": {},
   "outputs": [],
   "source": [
    "output_pd['JZ8'].head()"
   ]
  },
  {
   "cell_type": "code",
   "execution_count": null,
   "metadata": {},
   "outputs": [],
   "source": [
    "output_path = '../pkls_etalabel/all_JZs_format1.pkl'\n",
    "with open(output_path, 'wb') as f:\n",
    "    pickle.dump(output_pd, f)"
   ]
  },
  {
   "attachments": {},
   "cell_type": "markdown",
   "metadata": {},
   "source": [
    "# Format 2"
   ]
  },
  {
   "cell_type": "code",
   "execution_count": null,
   "metadata": {},
   "outputs": [],
   "source": [
    "output_pd2 = {}\n",
    "truth_parton_idx = 6\n",
    "eta_idx = 1\n",
    "jet1_vars = [\"jet1_pt\", \"jet1_eta\", \"jet1_nTracks\", \"jet1_trackWidth\", \"jet1_trackC1\", \"jet1_trackBDT\", \"jet1_PartonTruthLabelID\", \"jet1_total_weight\", \"jet1_is_forward\", \"jet1_target\"]\n",
    "jet2_vars = [\"jet2_pt\", \"jet2_eta\", \"jet2_nTracks\", \"jet2_trackWidth\", \"jet2_trackC1\", \"jet2_trackBDT\", \"jet2_PartonTruthLabelID\", \"jet2_total_weight\", \"jet2_is_forward\", \"jet2_target\"]\n",
    "column_names_pd = [\"event\"] + jet1_vars + jet2_vars\n",
    "\n",
    "for key, dijet_array_JZ in tqdm(dijet_array_all_JZs.items()):\n",
    "    logging.info(f\"Processing {key}....\")\n",
    "\n",
    "    n_files_JZ = len(dijet_array_JZ) \n",
    "    if  n_files_JZ == 0:\n",
    "        logging.warning(f\"{key} is empty! Skipping!... \")\n",
    "        continue\n",
    "\n",
    "    dijet_array_JZ = np.array(dijet_array_JZ)\n",
    "    dijet_array_JZ = np.concatenate(dijet_array_JZ, axis=0)\n",
    "    n_events_JZ = len(dijet_array_JZ)\n",
    "\n",
    "    # Label is_forward\n",
    "    forward_idx = np.argmax(np.abs(dijet_array_JZ[:,:,eta_idx]), axis=1) # compare abs eta of jets inside events\n",
    "    central_idx = -1*forward_idx+1\n",
    "\n",
    "    is_forward = np.zeros((len(dijet_array_JZ),2))\n",
    "    is_forward[np.arange(len(is_forward)), forward_idx] = 1\n",
    "\n",
    "    dijet_array_JZ_w_etalabel = np.concatenate((dijet_array_JZ, np.broadcast_to(is_forward[:,:,None], (dijet_array_JZ.shape[:2] + (1,)))), axis = 2)\n",
    "\n",
    "    # Categorize truth ID \n",
    "    truth_parton_id = np.abs(dijet_array_JZ_w_etalabel[:,:,truth_parton_idx])\n",
    "    target = -1* np.ones_like(dijet_array_JZ_w_etalabel[:,:,truth_parton_idx])\n",
    "    gluon_idx = np.where(truth_parton_id == 21)\n",
    "    quark_idx = np.where((truth_parton_id==1) | (truth_parton_id==2) | (truth_parton_id==3) | (truth_parton_id==4) | (truth_parton_id==5))\n",
    "\n",
    "    target[gluon_idx] = 1\n",
    "    target[quark_idx] = 0\n",
    "\n",
    "    dijet_array_JZ_w_etalabel = np.concatenate((dijet_array_JZ_w_etalabel, np.broadcast_to(target[:,:,None], (dijet_array_JZ_w_etalabel.shape[:2] + (1,)))), axis = 2)\n",
    "\n",
    "    # Flat\n",
    "    events = np.arange(n_events_JZ)\n",
    "    dijet_array_JZ_w_etalabel = dijet_array_JZ_w_etalabel.reshape( (len(dijet_array_JZ_w_etalabel), 2* dijet_array_JZ_w_etalabel.shape[-1])) # shape is (nevents, 10*2)\n",
    "    dijet_array_JZ_w_etalabel = np.concatenate((events[:,None], dijet_array_JZ_w_etalabel), axis = 1)\n",
    "\n",
    "    pd_JZ = pd.DataFrame(data=dijet_array_JZ_w_etalabel, columns = column_names_pd)\n",
    "    output_pd2[key] = pd_JZ\n",
    "\n",
    " "
   ]
  },
  {
   "cell_type": "code",
   "execution_count": null,
   "metadata": {},
   "outputs": [],
   "source": [
    "output_pd2['JZ8'].head()"
   ]
  },
  {
   "cell_type": "code",
   "execution_count": null,
   "metadata": {},
   "outputs": [],
   "source": [
    "output_path2 = '../pkls_etalabel/all_JZs_format2.pkl'\n",
    "with open(output_path2, 'wb') as f:\n",
    "    pickle.dump(output_pd2, f)"
   ]
  }
 ],
 "metadata": {
  "kernelspec": {
   "display_name": "ml",
   "language": "python",
   "name": "python3"
  },
  "language_info": {
   "codemirror_mode": {
    "name": "ipython",
    "version": 3
   },
   "file_extension": ".py",
   "mimetype": "text/x-python",
   "name": "python",
   "nbconvert_exporter": "python",
   "pygments_lexer": "ipython3",
   "version": "3.9.15"
  },
  "orig_nbformat": 4,
  "vscode": {
   "interpreter": {
    "hash": "14e3b66b9136298b1438aa954b24fb6042eb4a7b64fe2e32b506f4a92d36ab42"
   }
  }
 },
 "nbformat": 4,
 "nbformat_minor": 2
}
