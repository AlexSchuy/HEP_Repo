{
 "cells": [
  {
   "cell_type": "code",
   "execution_count": null,
   "metadata": {},
   "outputs": [],
   "source": [
    "import argparse\n",
    "import numpy as np\n",
    "import matplotlib.pyplot as plt\n",
    "import pandas as pd\n",
    "\n",
    "import uproot \n",
    "import awkward as ak\n",
    "from pathlib import Path\n",
    "\n",
    "from typing import Dict, List \n",
    "import re\n",
    "import pickle\n",
    "from tqdm import tqdm"
   ]
  },
  {
   "cell_type": "code",
   "execution_count": null,
   "metadata": {},
   "outputs": [],
   "source": [
    "training_vars = ['jet_pt', 'jet_eta', 'jet_nTracks', 'jet_trackWidth', 'jet_trackC1']\n",
    "all_vars = training_vars + ['total_weight', 'flatpt_weight']\n",
    "n_jets = 12_000_000"
   ]
  },
  {
   "cell_type": "code",
   "execution_count": null,
   "metadata": {},
   "outputs": [],
   "source": [
    "sample_alljets_path = '../../samples/BDT_training/sample_equal_1p2M_w_flatpt.pkl'\n",
    "with open(sample_alljets_path, 'rb') as f:\n",
    "    sample_2Mjets = pd.read_pickle(f)"
   ]
  },
  {
   "cell_type": "code",
   "execution_count": null,
   "metadata": {},
   "outputs": [],
   "source": [
    "len(sample_2Mjets) == n_jets"
   ]
  },
  {
   "cell_type": "code",
   "execution_count": null,
   "metadata": {},
   "outputs": [],
   "source": [
    "X = sample_2Mjets.iloc[:, :-1]\n",
    "y = sample_2Mjets.iloc[:, -1]\n",
    "\n",
    "from sklearn.model_selection import train_test_split\n",
    "\n",
    "X_dev,X_eval, y_dev,y_eval = train_test_split(X, y, test_size=0.1, random_state=456)\n",
    "X_train, X_test, y_train, y_test = train_test_split(X_dev, y_dev, test_size=0.1/0.9, random_state=789)\n"
   ]
  },
  {
   "cell_type": "code",
   "execution_count": null,
   "metadata": {},
   "outputs": [],
   "source": [
    "from sklearn.tree import DecisionTreeClassifier\n",
    "from sklearn.ensemble import AdaBoostClassifier\n",
    "from sklearn.metrics import classification_report, roc_auc_score\n",
    "\n",
    "dt = DecisionTreeClassifier(max_depth=5,\n",
    "                            min_samples_leaf=0.001,\n",
    "                            max_features=\"log2\")\n",
    "bdt = AdaBoostClassifier(dt,\n",
    "                         algorithm='SAMME',\n",
    "                         n_estimators=500,\n",
    "                         learning_rate=0.01,\n",
    "                         random_state=0)\n",
    "\n",
    "bdt.fit(X_train[training_vars], y_train)\n"
   ]
  },
  {
   "cell_type": "code",
   "execution_count": null,
   "metadata": {},
   "outputs": [],
   "source": [
    "import pickle\n",
    "filename = './BDT_5var_simple_noweight.model'\n",
    "pickle.dump(bdt, open(filename, 'wb'))"
   ]
  },
  {
   "cell_type": "code",
   "execution_count": null,
   "metadata": {},
   "outputs": [],
   "source": [
    "y_test_decisions = bdt.decision_function(X_test[training_vars])"
   ]
  },
  {
   "cell_type": "code",
   "execution_count": null,
   "metadata": {},
   "outputs": [],
   "source": [
    "y_test_gluon_id = np.where(y_test==1)[0]\n",
    "y_test_quark_id = np.where(y_test==0)[0]\n",
    "bins_scores = np.linspace(-1, 1, 50)\n",
    "plt.hist(y_test_decisions[y_test_gluon_id], weights=X_test.iloc[y_test_gluon_id, -1], bins= bins_scores, alpha=0.5, label='gluon'+f\"_num: {len(y_test_gluon_id)}\", color = 'blue') # add the weights! \n",
    "plt.hist(y_test_decisions[y_test_quark_id], weights=X_test.iloc[y_test_quark_id, -1], bins= bins_scores, alpha=0.5, label='quark'+f\"_num: {len(y_test_quark_id)}\", color = 'red')\n",
    "plt.legend(loc='upper left')\n",
    "plt.text(0.05, 0.75, f\"num: {len(X_test)}\", transform=plt.gca().transAxes)\n",
    "plt.xlabel(\"BDT Decision Function\")\n",
    "plt.ylabel(\"number of jets\")\n",
    "plt.title(r\"New Training with flat $p_{T}$\")\n",
    "plt.savefig(\"BDT_5var_simple_1M_noweight.png\", dpi=300)\n",
    "plt.show()"
   ]
  },
  {
   "cell_type": "code",
   "execution_count": null,
   "metadata": {},
   "outputs": [],
   "source": [
    "from sklearn.metrics import roc_curve, auc\n",
    "\n",
    "def Draw_ROC_all(y, decisions, y_tmva, y_ntrk, X_weight, features, file_name):\n",
    "    # Compute ROC curve and area under the curve\n",
    "    fpr, tpr, thresholds = roc_curve(y, decisions, sample_weight = X_weight)\n",
    "    fpr_tmva, tpr_tmva, thresholds_tmva = roc_curve(y, y_tmva, sample_weight = X_weight)\n",
    "    fpr_ntrk, tpr_ntrk, thresholds_ntrk =  roc_curve(y, y_ntrk, sample_weight = X_weight)\n",
    "\n",
    "    roc_auc = auc(fpr, tpr)\n",
    "    roc_auc_tmva = auc(fpr_tmva, tpr_tmva)\n",
    "    roc_auc_ntrk = auc(fpr_ntrk, tpr_ntrk)\n",
    "\n",
    "\n",
    "    plt.plot(1-fpr, tpr, lw=1, label='ROC_NewTraining (area = %0.3f)'%(roc_auc))\n",
    "    plt.plot(1-fpr_tmva, tpr_tmva, lw=1, label='ROC_TMVA (area = %0.3f)'%(roc_auc_tmva))\n",
    "    plt.plot(1-fpr_ntrk, tpr_ntrk, lw=1, label='ROC_Ntrk (area = %0.3f)'%(roc_auc_ntrk))\n",
    "\n",
    "    plt.plot([0, 1], [1, 0], '--', color=(0.6, 0.6, 0.6), label='Luck')\n",
    "    plt.xlim([-0.05, 1.05])\n",
    "    plt.ylim([-0.05, 1.05])\n",
    "    plt.xlabel('False Positive Rate')\n",
    "    plt.ylabel('True Positive Rate')\n",
    "    plt.title(f'ROC with features:{features}'+r\" flat $p_{T}$\")\n",
    "    plt.legend(loc=\"lower left\")\n",
    "    plt.grid()\n",
    "    plt.savefig(file_name, dpi=300)\n",
    "\n",
    "    plt.show()\n",
    "\n"
   ]
  },
  {
   "cell_type": "code",
   "execution_count": null,
   "metadata": {},
   "outputs": [],
   "source": [
    "Draw_ROC_all(y_test, y_test_decisions, y_tmva=X_test['jet_trackBDT'] , y_ntrk=X_test['jet_nTracks'], X_weight=X_test['total_weight'], features=\"All\", file_name = 'BDT_ROC_5var_simple_noweight')"
   ]
  },
  {
   "attachments": {},
   "cell_type": "markdown",
   "metadata": {},
   "source": [
    "# y_score in Pt bins"
   ]
  },
  {
   "cell_type": "code",
   "execution_count": null,
   "metadata": {},
   "outputs": [],
   "source": [
    "bdt_bins = np.linspace(-1, 1, 50)\n",
    "\n",
    "label_ptrange = np.array([500, 600, 800, 1000, 1200, 1500, 2000])\n",
    "pt_binned_jets_idx = np.digitize(X_test['jet_pt'], bins=label_ptrange)\n",
    "for i, pt in enumerate(label_ptrange[:-1]):\n",
    "    jets_at_pt_idx = np.where(pt_binned_jets_idx-1 == i)\n",
    "    jets_at_pt = X_test.iloc[jets_at_pt_idx]\n",
    "    y_test_at_pt = y_test.iloc[jets_at_pt_idx]\n",
    "    gluon_idx = np.where(y_test_at_pt ==1)[0]\n",
    "    quark_idx = np.where(y_test_at_pt ==0)[0]\n",
    "    fig, ax = plt.subplots()\n",
    "    \n",
    "    ax.hist(y_test_decisions[jets_at_pt_idx][quark_idx], weights=jets_at_pt.iloc[quark_idx, -1], bins =  bdt_bins, alpha = 0.5, label=f'Quark Jets, {len(quark_idx)}', density = True)\n",
    "    ax.hist(y_test_decisions[jets_at_pt_idx][gluon_idx], weights=jets_at_pt.iloc[gluon_idx, -1], bins =  bdt_bins, alpha = 0.5, label=f'Gluon Jets, {len(gluon_idx)}', density = True)\n",
    "    ax.legend()\n",
    "    ax.set_title(f\"{pt} - {label_ptrange[i+1]} GeV jets\")\n",
    "    plt.plot()"
   ]
  },
  {
   "cell_type": "code",
   "execution_count": null,
   "metadata": {},
   "outputs": [],
   "source": [
    "np.min(y_test_decisions)"
   ]
  },
  {
   "cell_type": "code",
   "execution_count": null,
   "metadata": {},
   "outputs": [],
   "source": [
    "bdt.feature_importances_"
   ]
  },
  {
   "cell_type": "code",
   "execution_count": null,
   "metadata": {},
   "outputs": [],
   "source": [
    "y_test_gluon_id = np.where(y_test==1)[0]\n",
    "y_test_quark_id = np.where(y_test==0)[0]\n",
    "bins_scores = np.linspace(0, 60, 61)\n",
    "plt.hist(X_test.iloc[y_test_gluon_id, 2], weights=X_test.iloc[y_test_gluon_id, -1], bins= bins_scores, alpha=0.5, label='gluon'+f\"_num: {len(y_test_gluon_id)}\", color = 'blue') # add the weights! \n",
    "plt.hist(X_test.iloc[y_test_quark_id, 2], weights=X_test.iloc[y_test_quark_id, -1], bins= bins_scores, alpha=0.5, label='quark'+f\"_num: {len(y_test_quark_id)}\", color = 'red')\n",
    "plt.legend(loc='upper left')\n",
    "plt.text(0.05, 0.75, f\"num: {len(X_test)}\", transform=plt.gca().transAxes)\n",
    "plt.xlabel(\"nTrack\")\n",
    "plt.ylabel(\"number of jets\")\n",
    "plt.title(r\"New Training with flat $p_{T}$\")\n",
    "plt.show()"
   ]
  },
  {
   "cell_type": "code",
   "execution_count": null,
   "metadata": {},
   "outputs": [],
   "source": [
    "bdt_bins = np.linspace(0, 60, 61)\n",
    "\n",
    "label_ptrange = np.array([500, 600, 800, 1000, 1200, 1500, 2000])\n",
    "pt_binned_jets_idx = np.digitize(X_test['jet_pt'], bins=label_ptrange)\n",
    "\n",
    "for i, pt in enumerate(label_ptrange[:-1]):\n",
    "    jets_at_pt_idx = np.where(pt_binned_jets_idx-1 == i)\n",
    "    jets_at_pt = X_test.iloc[jets_at_pt_idx]\n",
    "\n",
    "    gluon_idx = np.where(jets_at_pt['jet_PartonTruthLabelID'] ==21)[0]\n",
    "    quark_idx = np.where(jets_at_pt['jet_PartonTruthLabelID'] !=21)[0]\n",
    "    \n",
    "    fig, ax = plt.subplots()\n",
    "    X_test.iloc[y_test_gluon_id, 2],\n",
    "    ax.hist(jets_at_pt.iloc[quark_idx, 2], weights=jets_at_pt.iloc[quark_idx, -1], bins =  bdt_bins, alpha = 0.5, label='Quark Jets', density = True)\n",
    "    ax.hist(jets_at_pt.iloc[gluon_idx, 2], weights=jets_at_pt.iloc[gluon_idx, -1], bins =  bdt_bins, alpha = 0.5, label='Gluon Jets', density = True)\n",
    "    ax.legend()\n",
    "    ax.set_title(f\"{pt} - {label_ptrange[i+1]} GeV jets\")\n",
    "    plt.plot()"
   ]
  },
  {
   "cell_type": "code",
   "execution_count": null,
   "metadata": {},
   "outputs": [],
   "source": [
    "jets_at_pt_idx = np.where(pt_binned_jets_idx-1 == 0)\n",
    "jets_at_pt = X_test.iloc[jets_at_pt_idx]\n",
    "y_test_at_pt = y_test.iloc[jets_at_pt_idx]\n",
    "\n",
    "gluon_idx = np.where(X_test['jet_PartonTruthLabelID'] ==21)[0]\n",
    "quark_idx = np.where(X_test['jet_PartonTruthLabelID'] !=21)[0]"
   ]
  },
  {
   "cell_type": "code",
   "execution_count": null,
   "metadata": {},
   "outputs": [],
   "source": [
    "X_test.iloc[gluon_idx, 2]"
   ]
  },
  {
   "cell_type": "code",
   "execution_count": null,
   "metadata": {},
   "outputs": [],
   "source": []
  }
 ],
 "metadata": {
  "kernelspec": {
   "display_name": "ml",
   "language": "python",
   "name": "python3"
  },
  "language_info": {
   "codemirror_mode": {
    "name": "ipython",
    "version": 3
   },
   "file_extension": ".py",
   "mimetype": "text/x-python",
   "name": "python",
   "nbconvert_exporter": "python",
   "pygments_lexer": "ipython3",
   "version": "3.9.15"
  },
  "orig_nbformat": 4,
  "vscode": {
   "interpreter": {
    "hash": "c8bdd0311bdd426c87686682c9d205df6accd82833b0acc4f37e182f9e9921cb"
   }
  }
 },
 "nbformat": 4,
 "nbformat_minor": 2
}
