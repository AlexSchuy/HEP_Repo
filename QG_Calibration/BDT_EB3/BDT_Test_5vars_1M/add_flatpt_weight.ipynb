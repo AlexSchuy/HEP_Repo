{
 "cells": [
  {
   "cell_type": "code",
   "execution_count": 1,
   "metadata": {},
   "outputs": [],
   "source": [
    "import argparse\n",
    "import numpy as np\n",
    "import matplotlib.pyplot as plt\n",
    "import pandas as pd\n",
    "\n",
    "import uproot \n",
    "import awkward as ak\n",
    "from pathlib import Path\n",
    "\n",
    "from typing import Dict, List \n",
    "import re\n",
    "import pickle\n",
    "from tqdm import tqdm"
   ]
  },
  {
   "attachments": {},
   "cell_type": "markdown",
   "metadata": {},
   "source": [
    "# Preapare sample \n",
    "this is based one the old sample - no forward/central label "
   ]
  },
  {
   "cell_type": "code",
   "execution_count": 2,
   "metadata": {},
   "outputs": [],
   "source": [
    "sample_alljets_path = '../../samples/BDT_training/sample_all.pkl'\n",
    "sample_alljets_path = Path(sample_alljets_path)\n",
    "with open(sample_alljets_path, 'rb') as f:\n",
    "    sample_alljets = pickle.load(f)"
   ]
  },
  {
   "cell_type": "code",
   "execution_count": 3,
   "metadata": {},
   "outputs": [],
   "source": [
    "columns = [*sample_alljets.columns]\n",
    "partonID_idx = columns.index('jet_PartonTruthLabelID')"
   ]
  },
  {
   "attachments": {},
   "cell_type": "markdown",
   "metadata": {},
   "source": [
    "## Flat Pt \n",
    "### Physical weights"
   ]
  },
  {
   "cell_type": "code",
   "execution_count": 4,
   "metadata": {},
   "outputs": [
    {
     "data": {
      "text/plain": [
       "[]"
      ]
     },
     "execution_count": 4,
     "metadata": {},
     "output_type": "execute_result"
    },
    {
     "data": {
      "image/png": "[encoded data removed]",
      "text/plain": [
       "<Figure size 640x480 with 1 Axes>"
      ]
     },
     "metadata": {},
     "output_type": "display_data"
    }
   ],
   "source": [
    "fig, ax = plt.subplots()\n",
    "pt_edges = np.linspace(500, 2000, 61)\n",
    "bin_contents, bin_edges, _ = ax.hist(sample_alljets['jet_pt'], bins=pt_edges, weights=sample_alljets['total_weight'])\n",
    "ax.set_yscale('log')\n",
    "plt.plot()\n"
   ]
  },
  {
   "attachments": {},
   "cell_type": "markdown",
   "metadata": {},
   "source": [
    "### Flatten pt"
   ]
  },
  {
   "cell_type": "code",
   "execution_count": 5,
   "metadata": {},
   "outputs": [],
   "source": [
    "flat_weight_factor = 1./bin_contents\n",
    "pt_binned_sample_alljets_idx = np.digitize(sample_alljets['jet_pt'], pt_edges)"
   ]
  },
  {
   "cell_type": "code",
   "execution_count": 6,
   "metadata": {},
   "outputs": [],
   "source": [
    "sample_alljets['flatpt_weight'] = sample_alljets['total_weight'].copy()\n",
    "\n",
    "for i in range(np.max(pt_binned_sample_alljets_idx)):\n",
    "    mod_idx = np.where(pt_binned_sample_alljets_idx-1 == i)[0]\n",
    "    sample_alljets.loc[mod_idx, \"flatpt_weight\"] *= flat_weight_factor[i]"
   ]
  },
  {
   "attachments": {},
   "cell_type": "markdown",
   "metadata": {},
   "source": [
    "### Validate flat pt"
   ]
  },
  {
   "cell_type": "code",
   "execution_count": 7,
   "metadata": {},
   "outputs": [
    {
     "data": {
      "text/plain": [
       "[]"
      ]
     },
     "execution_count": 7,
     "metadata": {},
     "output_type": "execute_result"
    },
    {
     "data": {
      "image/png": "[encoded data removed]",
      "text/plain": [
       "<Figure size 640x480 with 1 Axes>"
      ]
     },
     "metadata": {},
     "output_type": "display_data"
    }
   ],
   "source": [
    "fig, ax = plt.subplots()\n",
    "pt_edges = np.linspace(500, 2000, 61)\n",
    "bin_contents, bin_edges, _ = ax.hist(sample_alljets['jet_pt'], bins=pt_edges, weights=sample_alljets['flatpt_weight'])\n",
    "plt.plot()"
   ]
  },
  {
   "cell_type": "code",
   "execution_count": 8,
   "metadata": {},
   "outputs": [],
   "source": [
    "col_list = list(sample_alljets)\n",
    "col_list[-1], col_list[-2]  = col_list[-2], col_list[-1]  "
   ]
  },
  {
   "cell_type": "code",
   "execution_count": 9,
   "metadata": {},
   "outputs": [],
   "source": [
    "sample_alljets = sample_alljets.reindex(columns = col_list)"
   ]
  },
  {
   "attachments": {},
   "cell_type": "markdown",
   "metadata": {},
   "source": [
    "## Save subset jets"
   ]
  },
  {
   "cell_type": "code",
   "execution_count": 10,
   "metadata": {},
   "outputs": [],
   "source": [
    "n_jets = 10_000_000"
   ]
  },
  {
   "cell_type": "code",
   "execution_count": 11,
   "metadata": {},
   "outputs": [],
   "source": [
    "quark_idx = np.where((sample_alljets['jet_PartonTruthLabelID'] == 1) | \n",
    "                     (sample_alljets['jet_PartonTruthLabelID'] == 2) | \n",
    "                     (sample_alljets['jet_PartonTruthLabelID'] == 3) | \n",
    "                     (sample_alljets['jet_PartonTruthLabelID'] == 4) | \n",
    "                     (sample_alljets['jet_PartonTruthLabelID'] == 5) )[0]\n",
    "\n",
    "gluon_idx = np.where((sample_alljets['jet_PartonTruthLabelID'] == 21))[0]\n",
    "\n",
    "sample_alljets.loc[quark_idx, \"target\"] = 0 \n",
    "sample_alljets.loc[gluon_idx, \"target\"] = 1 \n",
    "\n",
    "np.random.seed(42)\n",
    "quark_chose_idx = np.random.choice(quark_idx, n_jets)\n",
    "gluon_chose_idx = np.random.choice(gluon_idx, n_jets)"
   ]
  },
  {
   "cell_type": "code",
   "execution_count": 12,
   "metadata": {},
   "outputs": [],
   "source": [
    "sample_alljets_path = '../../samples/BDT_training/sample_all_w_flatpt.pkl'\n",
    "with open(sample_alljets_path, 'wb') as f:\n",
    "    sample_alljets.to_pickle(f)"
   ]
  },
  {
   "cell_type": "code",
   "execution_count": 18,
   "metadata": {},
   "outputs": [],
   "source": [
    "sample_20Mjets = pd.concat((sample_alljets.loc[quark_chose_idx], sample_alljets.loc[gluon_chose_idx]))"
   ]
  },
  {
   "cell_type": "code",
   "execution_count": 19,
   "metadata": {},
   "outputs": [],
   "source": [
    "sample_alljets_path = '../../samples/BDT_training/sample_20M_w_flatpt.pkl'\n",
    "with open(sample_alljets_path, 'wb') as f:\n",
    "    sample_20Mjets.to_pickle(f)"
   ]
  },
  {
   "cell_type": "code",
   "execution_count": 15,
   "metadata": {},
   "outputs": [
    {
     "data": {
      "text/html": [
       "<div>\n",
       "<style scoped>\n",
       "    .dataframe tbody tr th:only-of-type {\n",
       "        vertical-align: middle;\n",
       "    }\n",
       "\n",
       "    .dataframe tbody tr th {\n",
       "        vertical-align: top;\n",
       "    }\n",
       "\n",
       "    .dataframe thead th {\n",
       "        text-align: right;\n",
       "    }\n",
       "</style>\n",
       "<table border=\"1\" class=\"dataframe\">\n",
       "  <thead>\n",
       "    <tr style=\"text-align: right;\">\n",
       "      <th></th>\n",
       "      <th>jet_pt</th>\n",
       "      <th>jet_eta</th>\n",
       "      <th>jet_nTracks</th>\n",
       "      <th>jet_trackWidth</th>\n",
       "      <th>jet_trackC1</th>\n",
       "      <th>jet_trackBDT</th>\n",
       "      <th>jet_PartonTruthLabelID</th>\n",
       "      <th>total_weight</th>\n",
       "      <th>flatpt_weight</th>\n",
       "      <th>target</th>\n",
       "    </tr>\n",
       "  </thead>\n",
       "  <tbody>\n",
       "    <tr>\n",
       "      <th>31579238</th>\n",
       "      <td>1547.838623</td>\n",
       "      <td>-0.930269</td>\n",
       "      <td>15.0</td>\n",
       "      <td>0.011356</td>\n",
       "      <td>0.052429</td>\n",
       "      <td>-0.334541</td>\n",
       "      <td>2.0</td>\n",
       "      <td>0.002223</td>\n",
       "      <td>5.670091e-07</td>\n",
       "      <td>0.0</td>\n",
       "    </tr>\n",
       "    <tr>\n",
       "      <th>23200604</th>\n",
       "      <td>993.663452</td>\n",
       "      <td>-1.478766</td>\n",
       "      <td>2.0</td>\n",
       "      <td>0.016853</td>\n",
       "      <td>0.019205</td>\n",
       "      <td>-0.447058</td>\n",
       "      <td>1.0</td>\n",
       "      <td>0.239311</td>\n",
       "      <td>2.097025e-06</td>\n",
       "      <td>0.0</td>\n",
       "    </tr>\n",
       "    <tr>\n",
       "      <th>16094478</th>\n",
       "      <td>628.064880</td>\n",
       "      <td>0.125171</td>\n",
       "      <td>8.0</td>\n",
       "      <td>0.009018</td>\n",
       "      <td>0.093058</td>\n",
       "      <td>-0.525091</td>\n",
       "      <td>2.0</td>\n",
       "      <td>0.289050</td>\n",
       "      <td>1.717077e-07</td>\n",
       "      <td>0.0</td>\n",
       "    </tr>\n",
       "    <tr>\n",
       "      <th>23327850</th>\n",
       "      <td>773.069885</td>\n",
       "      <td>-0.231992</td>\n",
       "      <td>9.0</td>\n",
       "      <td>0.037134</td>\n",
       "      <td>0.158680</td>\n",
       "      <td>-0.295251</td>\n",
       "      <td>2.0</td>\n",
       "      <td>0.235179</td>\n",
       "      <td>3.610266e-07</td>\n",
       "      <td>0.0</td>\n",
       "    </tr>\n",
       "    <tr>\n",
       "      <th>26858567</th>\n",
       "      <td>1297.237915</td>\n",
       "      <td>-1.310552</td>\n",
       "      <td>22.0</td>\n",
       "      <td>0.030811</td>\n",
       "      <td>0.195837</td>\n",
       "      <td>0.030363</td>\n",
       "      <td>2.0</td>\n",
       "      <td>0.032431</td>\n",
       "      <td>1.991512e-06</td>\n",
       "      <td>0.0</td>\n",
       "    </tr>\n",
       "  </tbody>\n",
       "</table>\n",
       "</div>"
      ],
      "text/plain": [
       "               jet_pt   jet_eta  jet_nTracks  jet_trackWidth  jet_trackC1  \\\n",
       "31579238  1547.838623 -0.930269         15.0        0.011356     0.052429   \n",
       "23200604   993.663452 -1.478766          2.0        0.016853     0.019205   \n",
       "16094478   628.064880  0.125171          8.0        0.009018     0.093058   \n",
       "23327850   773.069885 -0.231992          9.0        0.037134     0.158680   \n",
       "26858567  1297.237915 -1.310552         22.0        0.030811     0.195837   \n",
       "\n",
       "          jet_trackBDT  jet_PartonTruthLabelID  total_weight  flatpt_weight  \\\n",
       "31579238     -0.334541                     2.0      0.002223   5.670091e-07   \n",
       "23200604     -0.447058                     1.0      0.239311   2.097025e-06   \n",
       "16094478     -0.525091                     2.0      0.289050   1.717077e-07   \n",
       "23327850     -0.295251                     2.0      0.235179   3.610266e-07   \n",
       "26858567      0.030363                     2.0      0.032431   1.991512e-06   \n",
       "\n",
       "          target  \n",
       "31579238     0.0  \n",
       "23200604     0.0  \n",
       "16094478     0.0  \n",
       "23327850     0.0  \n",
       "26858567     0.0  "
      ]
     },
     "execution_count": 15,
     "metadata": {},
     "output_type": "execute_result"
    }
   ],
   "source": [
    "sample_20Mjets.head()"
   ]
  },
  {
   "cell_type": "code",
   "execution_count": 20,
   "metadata": {},
   "outputs": [
    {
     "data": {
      "text/html": [
       "<div>\n",
       "<style scoped>\n",
       "    .dataframe tbody tr th:only-of-type {\n",
       "        vertical-align: middle;\n",
       "    }\n",
       "\n",
       "    .dataframe tbody tr th {\n",
       "        vertical-align: top;\n",
       "    }\n",
       "\n",
       "    .dataframe thead th {\n",
       "        text-align: right;\n",
       "    }\n",
       "</style>\n",
       "<table border=\"1\" class=\"dataframe\">\n",
       "  <thead>\n",
       "    <tr style=\"text-align: right;\">\n",
       "      <th></th>\n",
       "      <th>jet_pt</th>\n",
       "      <th>jet_eta</th>\n",
       "      <th>jet_nTracks</th>\n",
       "      <th>jet_trackWidth</th>\n",
       "      <th>jet_trackC1</th>\n",
       "      <th>jet_trackBDT</th>\n",
       "      <th>jet_PartonTruthLabelID</th>\n",
       "      <th>total_weight</th>\n",
       "      <th>flatpt_weight</th>\n",
       "      <th>target</th>\n",
       "    </tr>\n",
       "  </thead>\n",
       "  <tbody>\n",
       "    <tr>\n",
       "      <th>52562768</th>\n",
       "      <td>1006.660095</td>\n",
       "      <td>0.580398</td>\n",
       "      <td>13.0</td>\n",
       "      <td>0.016290</td>\n",
       "      <td>0.168840</td>\n",
       "      <td>-0.263419</td>\n",
       "      <td>21.0</td>\n",
       "      <td>0.249466</td>\n",
       "      <td>2.608756e-06</td>\n",
       "      <td>1.0</td>\n",
       "    </tr>\n",
       "    <tr>\n",
       "      <th>45155425</th>\n",
       "      <td>698.423645</td>\n",
       "      <td>0.632916</td>\n",
       "      <td>22.0</td>\n",
       "      <td>0.060126</td>\n",
       "      <td>0.256313</td>\n",
       "      <td>0.047444</td>\n",
       "      <td>21.0</td>\n",
       "      <td>0.382262</td>\n",
       "      <td>3.295849e-07</td>\n",
       "      <td>1.0</td>\n",
       "    </tr>\n",
       "    <tr>\n",
       "      <th>34610484</th>\n",
       "      <td>669.356689</td>\n",
       "      <td>-0.466975</td>\n",
       "      <td>24.0</td>\n",
       "      <td>0.065847</td>\n",
       "      <td>0.268361</td>\n",
       "      <td>0.184779</td>\n",
       "      <td>21.0</td>\n",
       "      <td>0.431040</td>\n",
       "      <td>3.085300e-07</td>\n",
       "      <td>1.0</td>\n",
       "    </tr>\n",
       "    <tr>\n",
       "      <th>55730962</th>\n",
       "      <td>1737.624512</td>\n",
       "      <td>-0.248504</td>\n",
       "      <td>51.0</td>\n",
       "      <td>0.073300</td>\n",
       "      <td>0.270896</td>\n",
       "      <td>0.336857</td>\n",
       "      <td>21.0</td>\n",
       "      <td>0.001165</td>\n",
       "      <td>8.711939e-07</td>\n",
       "      <td>1.0</td>\n",
       "    </tr>\n",
       "    <tr>\n",
       "      <th>46863634</th>\n",
       "      <td>562.131775</td>\n",
       "      <td>0.436445</td>\n",
       "      <td>30.0</td>\n",
       "      <td>0.104463</td>\n",
       "      <td>0.260482</td>\n",
       "      <td>0.222122</td>\n",
       "      <td>21.0</td>\n",
       "      <td>0.606060</td>\n",
       "      <td>2.275886e-07</td>\n",
       "      <td>1.0</td>\n",
       "    </tr>\n",
       "  </tbody>\n",
       "</table>\n",
       "</div>"
      ],
      "text/plain": [
       "               jet_pt   jet_eta  jet_nTracks  jet_trackWidth  jet_trackC1  \\\n",
       "52562768  1006.660095  0.580398         13.0        0.016290     0.168840   \n",
       "45155425   698.423645  0.632916         22.0        0.060126     0.256313   \n",
       "34610484   669.356689 -0.466975         24.0        0.065847     0.268361   \n",
       "55730962  1737.624512 -0.248504         51.0        0.073300     0.270896   \n",
       "46863634   562.131775  0.436445         30.0        0.104463     0.260482   \n",
       "\n",
       "          jet_trackBDT  jet_PartonTruthLabelID  total_weight  flatpt_weight  \\\n",
       "52562768     -0.263419                    21.0      0.249466   2.608756e-06   \n",
       "45155425      0.047444                    21.0      0.382262   3.295849e-07   \n",
       "34610484      0.184779                    21.0      0.431040   3.085300e-07   \n",
       "55730962      0.336857                    21.0      0.001165   8.711939e-07   \n",
       "46863634      0.222122                    21.0      0.606060   2.275886e-07   \n",
       "\n",
       "          target  \n",
       "52562768     1.0  \n",
       "45155425     1.0  \n",
       "34610484     1.0  \n",
       "55730962     1.0  \n",
       "46863634     1.0  "
      ]
     },
     "execution_count": 20,
     "metadata": {},
     "output_type": "execute_result"
    }
   ],
   "source": [
    "sample_20Mjets.tail()"
   ]
  },
  {
   "attachments": {},
   "cell_type": "markdown",
   "metadata": {},
   "source": [
    "## Save 1M jets"
   ]
  },
  {
   "cell_type": "code",
   "execution_count": 21,
   "metadata": {},
   "outputs": [],
   "source": [
    "n_jets = 1_000_000\n",
    "\n",
    "quark_idx = np.where((sample_alljets['jet_PartonTruthLabelID'] == 1) | \n",
    "                     (sample_alljets['jet_PartonTruthLabelID'] == 2) | \n",
    "                     (sample_alljets['jet_PartonTruthLabelID'] == 3) | \n",
    "                     (sample_alljets['jet_PartonTruthLabelID'] == 4) | \n",
    "                     (sample_alljets['jet_PartonTruthLabelID'] == 5) )[0]\n",
    "\n",
    "gluon_idx = np.where((sample_alljets['jet_PartonTruthLabelID'] == 21))[0]\n",
    "\n",
    "np.random.seed(587)\n",
    "quark_chose_idx = np.random.choice(quark_idx, n_jets)\n",
    "gluon_chose_idx = np.random.choice(gluon_idx, n_jets)\n",
    "\n",
    "\n",
    "sample_2Mjets = pd.concat((sample_alljets.loc[quark_chose_idx], sample_alljets.loc[gluon_chose_idx]))\n",
    "\n",
    "sample_alljets_path = '../../samples/BDT_training/sample_2M_w_flatpt.pkl'\n",
    "with open(sample_alljets_path, 'wb') as f:\n",
    "    sample_2Mjets.to_pickle(f)\n"
   ]
  },
  {
   "cell_type": "code",
   "execution_count": 23,
   "metadata": {},
   "outputs": [
    {
     "data": {
      "text/plain": [
       "Index(['jet_pt', 'jet_eta', 'jet_nTracks', 'jet_trackWidth', 'jet_trackC1',\n",
       "       'jet_trackBDT', 'jet_PartonTruthLabelID', 'total_weight',\n",
       "       'flatpt_weight', 'target'],\n",
       "      dtype='object')"
      ]
     },
     "execution_count": 23,
     "metadata": {},
     "output_type": "execute_result"
    }
   ],
   "source": [
    "sample_2Mjets.columns"
   ]
  },
  {
   "cell_type": "code",
   "execution_count": 24,
   "metadata": {},
   "outputs": [
    {
     "data": {
      "text/plain": [
       "[]"
      ]
     },
     "execution_count": 24,
     "metadata": {},
     "output_type": "execute_result"
    },
    {
     "data": {
      "image/png": "[encoded data removed]",
      "text/plain": [
       "<Figure size 640x480 with 1 Axes>"
      ]
     },
     "metadata": {},
     "output_type": "display_data"
    }
   ],
   "source": [
    "fig, ax = plt.subplots()\n",
    "pt_edges = np.linspace(500, 2000, 61)\n",
    "bin_contents, bin_edges, _ = ax.hist(sample_2Mjets['jet_pt'], bins=pt_edges, weights=sample_2Mjets['flatpt_weight'])\n",
    "plt.plot()"
   ]
  },
  {
   "cell_type": "code",
   "execution_count": 26,
   "metadata": {},
   "outputs": [],
   "source": [
    "label_ptrange = np.array([500, 600, 800, 1000, 1200, 1500, 2000])\n",
    "binned_idx = np.digitize(sample_2Mjets, label_ptrange)\n",
    "for i, l_ptrange in enumerate(label_ptrange[:-1]):\n",
    "    n_jets_pt = np.where(binned_idx-1 == i)[0]\n",
    "    print(f\"{l_ptrange} - {label_ptrange[i+1]} GeV: {len(n_jets_pt)} jets\")"
   ]
  },
  {
   "attachments": {},
   "cell_type": "markdown",
   "metadata": {},
   "source": [
    "# Inspect samples"
   ]
  },
  {
   "attachments": {},
   "cell_type": "markdown",
   "metadata": {},
   "source": [
    "## Jet in pt fraction"
   ]
  },
  {
   "cell_type": "code",
   "execution_count": 78,
   "metadata": {},
   "outputs": [],
   "source": [
    "def check_stat(inspect_sample):\n",
    "    stats = []\n",
    "    stats_parton = [[], []]\n",
    "    label_ptrange = np.array([500, 600, 800, 1000, 1200, 1500, 2000])\n",
    "    binned_idx = np.digitize(inspect_sample, label_ptrange)\n",
    "    for i, l_ptrange in enumerate(label_ptrange[:-1]):\n",
    "        n_jets_pt = np.where(binned_idx-1 == i)[0]\n",
    "        sample_jet_pt = inspect_sample.iloc[n_jets_pt]\n",
    "        stats.append(len(n_jets_pt))\n",
    "        \n",
    "        n_quarks_pt = np.sum(sample_jet_pt['target'] == 0) \n",
    "        n_gluons_pt = np.sum(sample_jet_pt['target'] == 1) \n",
    "\n",
    "        stats_parton[0].append(n_quarks_pt)\n",
    "        stats_parton[1].append(n_gluons_pt)\n",
    "\n",
    "    stats = np.array(stats)\n",
    "    stats_parton = np.array(stats_parton)\n",
    "\n",
    "    n_total_jets = np.sum(stats)\n",
    "    all_stats = np.concatenate((stats[None,:], stats_parton), axis = 0)\n",
    "\n",
    "    index = ['all_jets', 'quark', 'gluon']\n",
    "    stats_pd = pd.DataFrame(all_stats, index = index, columns = [l_pt for l_pt in label_ptrange[:-1]])\n",
    "    stats_pd_frac = stats_pd / n_total_jets\n",
    "    \n",
    "    return stats_pd, stats_pd_frac"
   ]
  },
  {
   "cell_type": "code",
   "execution_count": 79,
   "metadata": {},
   "outputs": [
    {
     "data": {
      "text/plain": [
       "(              500       600      800      1000     1200     1500\n",
       " all_jets  14162100  21408104  6910069  3858388  4877825  5196092\n",
       " quark      6839446  11674189  4081152  2381426  3225696  3786384\n",
       " gluon      7322654   9733915  2828917  1476962  1652129  1409708,\n",
       "               500       600       800       1000      1200      1500\n",
       " all_jets  0.251045  0.379492  0.122492  0.068396  0.086467  0.092109\n",
       " quark     0.121240  0.206943  0.072345  0.042214  0.057180  0.067119\n",
       " gluon     0.129805  0.172549  0.050147  0.026181  0.029287  0.024989)"
      ]
     },
     "execution_count": 79,
     "metadata": {},
     "output_type": "execute_result"
    }
   ],
   "source": [
    "check_stat(sample_alljets)"
   ]
  },
  {
   "cell_type": "code",
   "execution_count": 80,
   "metadata": {},
   "outputs": [
    {
     "data": {
      "text/plain": [
       "(            500     600     800     1000    1200    1500\n",
       " all_jets  512046  763968  243777  135046  168576  176587\n",
       " quark     213170  365307  127676   74568  100726  118553\n",
       " gluon     298876  398661  116101   60478   67850   58034,\n",
       "               500       600       800       1000      1200      1500\n",
       " all_jets  0.256023  0.381984  0.121888  0.067523  0.084288  0.088293\n",
       " quark     0.106585  0.182653  0.063838  0.037284  0.050363  0.059277\n",
       " gluon     0.149438  0.199330  0.058050  0.030239  0.033925  0.029017)"
      ]
     },
     "execution_count": 80,
     "metadata": {},
     "output_type": "execute_result"
    }
   ],
   "source": [
    "check_stat(sample_2Mjets)"
   ]
  },
  {
   "cell_type": "code",
   "execution_count": 81,
   "metadata": {},
   "outputs": [
    {
     "data": {
      "text/plain": [
       "(             500      600      800      1000     1200     1500\n",
       " all_jets  5135919  7636245  2436206  1347005  1684522  1760103\n",
       " quark     2138243  3651480  1275920   743861  1007733  1182763\n",
       " gluon     2997676  3984765  1160286   603144   676789   577340,\n",
       "               500       600       800       1000      1200      1500\n",
       " all_jets  0.256796  0.381812  0.121810  0.067350  0.084226  0.088005\n",
       " quark     0.106912  0.182574  0.063796  0.037193  0.050387  0.059138\n",
       " gluon     0.149884  0.199238  0.058014  0.030157  0.033839  0.028867)"
      ]
     },
     "execution_count": 81,
     "metadata": {},
     "output_type": "execute_result"
    }
   ],
   "source": [
    "check_stat(sample_20Mjets)"
   ]
  },
  {
   "cell_type": "code",
   "execution_count": null,
   "metadata": {},
   "outputs": [],
   "source": []
  },
  {
   "attachments": {},
   "cell_type": "markdown",
   "metadata": {},
   "source": [
    "## Make Equal jet size in pt bins "
   ]
  },
  {
   "cell_type": "code",
   "execution_count": 83,
   "metadata": {},
   "outputs": [],
   "source": [
    "quark_jet = []\n",
    "gluon_jet = []\n",
    "n_equal_sample = 100_000\n",
    "inspect_sample = sample_alljets\n",
    "label_ptrange = np.array([500, 600, 800, 1000, 1200, 1500, 2000])\n",
    "binned_idx = np.digitize(inspect_sample, label_ptrange)\n",
    "for i, l_ptrange in enumerate(label_ptrange[:-1]):\n",
    "    n_jets_pt = np.where(binned_idx-1 == i)[0]\n",
    "    sample_jet_pt = inspect_sample.iloc[n_jets_pt]\n",
    "    \n",
    "    quark_jet_pt = sample_jet_pt[sample_jet_pt['target'] == 0]\n",
    "    gluon_jet_pt = sample_jet_pt[sample_jet_pt['target'] == 1]\n",
    "\n",
    "    quark_jet.append(quark_jet_pt.sample(n=n_equal_sample, random_state=123))\n",
    "    gluon_jet.append(gluon_jet_pt.sample(n=n_equal_sample, random_state=456))\n",
    "\n",
    "quark_jet = pd.concat(quark_jet)\n",
    "gluon_jet = pd.concat(gluon_jet)\n",
    "\n",
    "equal_sample_1p2M = pd.concat([quark_jet, gluon_jet])\n"
   ]
  },
  {
   "cell_type": "code",
   "execution_count": 92,
   "metadata": {},
   "outputs": [
    {
     "data": {
      "text/html": [
       "<div>\n",
       "<style scoped>\n",
       "    .dataframe tbody tr th:only-of-type {\n",
       "        vertical-align: middle;\n",
       "    }\n",
       "\n",
       "    .dataframe tbody tr th {\n",
       "        vertical-align: top;\n",
       "    }\n",
       "\n",
       "    .dataframe thead th {\n",
       "        text-align: right;\n",
       "    }\n",
       "</style>\n",
       "<table border=\"1\" class=\"dataframe\">\n",
       "  <thead>\n",
       "    <tr style=\"text-align: right;\">\n",
       "      <th></th>\n",
       "      <th>jet_pt</th>\n",
       "      <th>jet_eta</th>\n",
       "      <th>jet_nTracks</th>\n",
       "      <th>jet_trackWidth</th>\n",
       "      <th>jet_trackC1</th>\n",
       "      <th>jet_trackBDT</th>\n",
       "      <th>jet_PartonTruthLabelID</th>\n",
       "      <th>total_weight</th>\n",
       "      <th>flatpt_weight</th>\n",
       "      <th>target</th>\n",
       "    </tr>\n",
       "  </thead>\n",
       "  <tbody>\n",
       "    <tr>\n",
       "      <th>15486605</th>\n",
       "      <td>551.991333</td>\n",
       "      <td>-0.266405</td>\n",
       "      <td>8.0</td>\n",
       "      <td>0.010646</td>\n",
       "      <td>0.047136</td>\n",
       "      <td>-0.491465</td>\n",
       "      <td>3.0</td>\n",
       "      <td>1.039891</td>\n",
       "      <td>3.905014e-07</td>\n",
       "      <td>0.0</td>\n",
       "    </tr>\n",
       "    <tr>\n",
       "      <th>15839693</th>\n",
       "      <td>576.142761</td>\n",
       "      <td>0.636299</td>\n",
       "      <td>7.0</td>\n",
       "      <td>0.015033</td>\n",
       "      <td>0.106389</td>\n",
       "      <td>-0.490150</td>\n",
       "      <td>3.0</td>\n",
       "      <td>0.556316</td>\n",
       "      <td>2.373530e-07</td>\n",
       "      <td>0.0</td>\n",
       "    </tr>\n",
       "    <tr>\n",
       "      <th>21103628</th>\n",
       "      <td>586.163513</td>\n",
       "      <td>-0.585899</td>\n",
       "      <td>10.0</td>\n",
       "      <td>0.027492</td>\n",
       "      <td>0.129582</td>\n",
       "      <td>-0.300657</td>\n",
       "      <td>2.0</td>\n",
       "      <td>0.832061</td>\n",
       "      <td>3.550004e-07</td>\n",
       "      <td>0.0</td>\n",
       "    </tr>\n",
       "    <tr>\n",
       "      <th>2788738</th>\n",
       "      <td>556.438843</td>\n",
       "      <td>1.764535</td>\n",
       "      <td>9.0</td>\n",
       "      <td>0.021857</td>\n",
       "      <td>0.116333</td>\n",
       "      <td>-0.393937</td>\n",
       "      <td>2.0</td>\n",
       "      <td>0.738872</td>\n",
       "      <td>2.774620e-07</td>\n",
       "      <td>0.0</td>\n",
       "    </tr>\n",
       "    <tr>\n",
       "      <th>14749764</th>\n",
       "      <td>552.082520</td>\n",
       "      <td>0.461343</td>\n",
       "      <td>10.0</td>\n",
       "      <td>0.027210</td>\n",
       "      <td>0.165578</td>\n",
       "      <td>-0.255351</td>\n",
       "      <td>2.0</td>\n",
       "      <td>0.558921</td>\n",
       "      <td>2.098866e-07</td>\n",
       "      <td>0.0</td>\n",
       "    </tr>\n",
       "    <tr>\n",
       "      <th>...</th>\n",
       "      <td>...</td>\n",
       "      <td>...</td>\n",
       "      <td>...</td>\n",
       "      <td>...</td>\n",
       "      <td>...</td>\n",
       "      <td>...</td>\n",
       "      <td>...</td>\n",
       "      <td>...</td>\n",
       "      <td>...</td>\n",
       "      <td>...</td>\n",
       "    </tr>\n",
       "    <tr>\n",
       "      <th>55462926</th>\n",
       "      <td>1904.423706</td>\n",
       "      <td>-0.350538</td>\n",
       "      <td>25.0</td>\n",
       "      <td>0.019203</td>\n",
       "      <td>0.190646</td>\n",
       "      <td>0.113524</td>\n",
       "      <td>21.0</td>\n",
       "      <td>0.001901</td>\n",
       "      <td>3.970204e-06</td>\n",
       "      <td>1.0</td>\n",
       "    </tr>\n",
       "    <tr>\n",
       "      <th>55895227</th>\n",
       "      <td>1699.826660</td>\n",
       "      <td>-0.489630</td>\n",
       "      <td>56.0</td>\n",
       "      <td>0.104905</td>\n",
       "      <td>0.259539</td>\n",
       "      <td>0.315869</td>\n",
       "      <td>21.0</td>\n",
       "      <td>0.001910</td>\n",
       "      <td>1.093574e-06</td>\n",
       "      <td>1.0</td>\n",
       "    </tr>\n",
       "    <tr>\n",
       "      <th>55187794</th>\n",
       "      <td>1542.028198</td>\n",
       "      <td>-0.194443</td>\n",
       "      <td>25.0</td>\n",
       "      <td>0.006375</td>\n",
       "      <td>0.039141</td>\n",
       "      <td>0.022390</td>\n",
       "      <td>21.0</td>\n",
       "      <td>0.016940</td>\n",
       "      <td>4.320953e-06</td>\n",
       "      <td>1.0</td>\n",
       "    </tr>\n",
       "    <tr>\n",
       "      <th>55536096</th>\n",
       "      <td>1811.730103</td>\n",
       "      <td>-1.048542</td>\n",
       "      <td>38.0</td>\n",
       "      <td>0.052871</td>\n",
       "      <td>0.244488</td>\n",
       "      <td>0.226203</td>\n",
       "      <td>21.0</td>\n",
       "      <td>0.002296</td>\n",
       "      <td>2.609441e-06</td>\n",
       "      <td>1.0</td>\n",
       "    </tr>\n",
       "    <tr>\n",
       "      <th>56104125</th>\n",
       "      <td>1881.050293</td>\n",
       "      <td>0.178342</td>\n",
       "      <td>30.0</td>\n",
       "      <td>0.063129</td>\n",
       "      <td>0.256656</td>\n",
       "      <td>0.056457</td>\n",
       "      <td>21.0</td>\n",
       "      <td>0.001568</td>\n",
       "      <td>2.777643e-06</td>\n",
       "      <td>1.0</td>\n",
       "    </tr>\n",
       "  </tbody>\n",
       "</table>\n",
       "<p>1200000 rows × 10 columns</p>\n",
       "</div>"
      ],
      "text/plain": [
       "               jet_pt   jet_eta  jet_nTracks  jet_trackWidth  jet_trackC1  \\\n",
       "15486605   551.991333 -0.266405          8.0        0.010646     0.047136   \n",
       "15839693   576.142761  0.636299          7.0        0.015033     0.106389   \n",
       "21103628   586.163513 -0.585899         10.0        0.027492     0.129582   \n",
       "2788738    556.438843  1.764535          9.0        0.021857     0.116333   \n",
       "14749764   552.082520  0.461343         10.0        0.027210     0.165578   \n",
       "...               ...       ...          ...             ...          ...   \n",
       "55462926  1904.423706 -0.350538         25.0        0.019203     0.190646   \n",
       "55895227  1699.826660 -0.489630         56.0        0.104905     0.259539   \n",
       "55187794  1542.028198 -0.194443         25.0        0.006375     0.039141   \n",
       "55536096  1811.730103 -1.048542         38.0        0.052871     0.244488   \n",
       "56104125  1881.050293  0.178342         30.0        0.063129     0.256656   \n",
       "\n",
       "          jet_trackBDT  jet_PartonTruthLabelID  total_weight  flatpt_weight  \\\n",
       "15486605     -0.491465                     3.0      1.039891   3.905014e-07   \n",
       "15839693     -0.490150                     3.0      0.556316   2.373530e-07   \n",
       "21103628     -0.300657                     2.0      0.832061   3.550004e-07   \n",
       "2788738      -0.393937                     2.0      0.738872   2.774620e-07   \n",
       "14749764     -0.255351                     2.0      0.558921   2.098866e-07   \n",
       "...                ...                     ...           ...            ...   \n",
       "55462926      0.113524                    21.0      0.001901   3.970204e-06   \n",
       "55895227      0.315869                    21.0      0.001910   1.093574e-06   \n",
       "55187794      0.022390                    21.0      0.016940   4.320953e-06   \n",
       "55536096      0.226203                    21.0      0.002296   2.609441e-06   \n",
       "56104125      0.056457                    21.0      0.001568   2.777643e-06   \n",
       "\n",
       "          target  \n",
       "15486605     0.0  \n",
       "15839693     0.0  \n",
       "21103628     0.0  \n",
       "2788738      0.0  \n",
       "14749764     0.0  \n",
       "...          ...  \n",
       "55462926     1.0  \n",
       "55895227     1.0  \n",
       "55187794     1.0  \n",
       "55536096     1.0  \n",
       "56104125     1.0  \n",
       "\n",
       "[1200000 rows x 10 columns]"
      ]
     },
     "execution_count": 92,
     "metadata": {},
     "output_type": "execute_result"
    }
   ],
   "source": [
    "equal_sample_1p2M"
   ]
  },
  {
   "cell_type": "code",
   "execution_count": 95,
   "metadata": {},
   "outputs": [
    {
     "data": {
      "text/plain": [
       "[]"
      ]
     },
     "execution_count": 95,
     "metadata": {},
     "output_type": "execute_result"
    },
    {
     "data": {
      "image/png": "[encoded data removed]",
      "text/plain": [
       "<Figure size 640x480 with 1 Axes>"
      ]
     },
     "metadata": {},
     "output_type": "display_data"
    }
   ],
   "source": [
    "fig, ax = plt.subplots()\n",
    "pt_edges = np.linspace(500, 2000, 61)\n",
    "bin_contents, bin_edges, _ = ax.hist(equal_sample_1p2M['jet_pt'], bins=pt_edges, weights=equal_sample_1p2M['total_weight'])\n",
    "ax.set_yscale('log')\n",
    "plt.plot()"
   ]
  },
  {
   "cell_type": "code",
   "execution_count": 93,
   "metadata": {},
   "outputs": [
    {
     "data": {
      "text/plain": [
       "[]"
      ]
     },
     "execution_count": 93,
     "metadata": {},
     "output_type": "execute_result"
    },
    {
     "data": {
      "image/png": "[encoded data removed]",
      "text/plain": [
       "<Figure size 640x480 with 1 Axes>"
      ]
     },
     "metadata": {},
     "output_type": "display_data"
    }
   ],
   "source": [
    "fig, ax = plt.subplots()\n",
    "pt_edges = np.linspace(500, 2000, 61)\n",
    "bin_contents, bin_edges, _ = ax.hist(equal_sample_1p2M['jet_pt'], bins=pt_edges, weights=equal_sample_1p2M['flatpt_weight'])\n",
    "plt.plot()"
   ]
  },
  {
   "cell_type": "code",
   "execution_count": 96,
   "metadata": {},
   "outputs": [],
   "source": [
    "sample_alljets_path = '../../samples/BDT_training/sample_equal_1p2M_w_flatpt.pkl'\n",
    "with open(sample_alljets_path, 'wb') as f:\n",
    "    equal_sample_1p2M.to_pickle(f)"
   ]
  },
  {
   "attachments": {},
   "cell_type": "markdown",
   "metadata": {},
   "source": [
    "## Make 1M Equal jet size in pt bins "
   ]
  },
  {
   "cell_type": "code",
   "execution_count": 97,
   "metadata": {},
   "outputs": [],
   "source": [
    "quark_jet = []\n",
    "gluon_jet = []\n",
    "n_equal_sample = 1_000_000\n",
    "inspect_sample = sample_alljets\n",
    "label_ptrange = np.array([500, 600, 800, 1000, 1200, 1500, 2000])\n",
    "binned_idx = np.digitize(inspect_sample, label_ptrange)\n",
    "for i, l_ptrange in enumerate(label_ptrange[:-1]):\n",
    "    n_jets_pt = np.where(binned_idx-1 == i)[0]\n",
    "    sample_jet_pt = inspect_sample.iloc[n_jets_pt]\n",
    "    \n",
    "    quark_jet_pt = sample_jet_pt[sample_jet_pt['target'] == 0]\n",
    "    gluon_jet_pt = sample_jet_pt[sample_jet_pt['target'] == 1]\n",
    "\n",
    "    quark_jet.append(quark_jet_pt.sample(n=n_equal_sample, random_state=123))\n",
    "    gluon_jet.append(gluon_jet_pt.sample(n=n_equal_sample, random_state=456))\n",
    "\n",
    "quark_jet = pd.concat(quark_jet)\n",
    "gluon_jet = pd.concat(gluon_jet)\n",
    "\n",
    "equal_sample_12M = pd.concat([quark_jet, gluon_jet])\n"
   ]
  },
  {
   "cell_type": "code",
   "execution_count": 98,
   "metadata": {},
   "outputs": [],
   "source": [
    "sample_alljets_path = '../../samples/BDT_training/sample_equal_12M_w_flatpt.pkl'\n",
    "with open(sample_alljets_path, 'wb') as f:\n",
    "    equal_sample_12M.to_pickle(f)"
   ]
  },
  {
   "cell_type": "code",
   "execution_count": null,
   "metadata": {},
   "outputs": [],
   "source": []
  }
 ],
 "metadata": {
  "kernelspec": {
   "display_name": "ml",
   "language": "python",
   "name": "python3"
  },
  "language_info": {
   "codemirror_mode": {
    "name": "ipython",
    "version": 3
   },
   "file_extension": ".py",
   "mimetype": "text/x-python",
   "name": "python",
   "nbconvert_exporter": "python",
   "pygments_lexer": "ipython3",
   "version": "3.9.15"
  },
  "orig_nbformat": 4,
  "vscode": {
   "interpreter": {
    "hash": "c8bdd0311bdd426c87686682c9d205df6accd82833b0acc4f37e182f9e9921cb"
   }
  }
 },
 "nbformat": 4,
 "nbformat_minor": 2
}
