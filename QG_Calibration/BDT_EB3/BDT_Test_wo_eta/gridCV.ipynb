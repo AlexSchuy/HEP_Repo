{
 "cells": [
  {
   "cell_type": "code",
   "execution_count": 1,
   "metadata": {},
   "outputs": [],
   "source": [
    "# just trainig for all the jets in the pt range (500, 2000) GeV\n",
    "# Grid Search for best parameters \n",
    "import random\n",
    "from re import X\n",
    "\n",
    "import pandas as pd\n",
    "import numpy as np\n",
    "import matplotlib as mpl\n",
    "import matplotlib.pyplot as plt\n",
    "\n",
    "from sklearn.metrics import classification_report, roc_auc_score\n",
    "from sklearn.metrics import roc_curve, auc\n",
    "\n",
    "\n",
    "import uproot \n",
    "import awkward as ak"
   ]
  },
  {
   "cell_type": "code",
   "execution_count": 2,
   "metadata": {},
   "outputs": [],
   "source": [
    "file = \"/global/cfs/projectdirs/atlas/hrzhao/qgcal/BDT_EB3/pkls/small_sample_periodA.pkl\"\n",
    "\n",
    "small_sample = pd.read_pickle(file)\n",
    "small_sample = small_sample.drop(columns=['jet_eta'])\n",
    "small_sample_array = small_sample.to_numpy()\n",
    "\n",
    "assert small_sample_array.shape == (200000, 10 -1)"
   ]
  },
  {
   "cell_type": "code",
   "execution_count": 3,
   "metadata": {},
   "outputs": [],
   "source": [
    "columns = [*small_sample.columns]\n",
    "n_features = 4\n",
    "flat_pt_weight_idx = columns.index('flat_weight')\n",
    "phys_weight_idx = columns.index('total_weight')\n"
   ]
  },
  {
   "cell_type": "code",
   "execution_count": 4,
   "metadata": {},
   "outputs": [],
   "source": [
    "X = small_sample_array[:, :-1]\n",
    "y = small_sample_array[:, -1]"
   ]
  },
  {
   "cell_type": "code",
   "execution_count": 5,
   "metadata": {},
   "outputs": [
    {
     "name": "stdout",
     "output_type": "stream",
     "text": [
      "X Shape: (200000, 8)\n",
      "y Shape: (200000,)\n"
     ]
    }
   ],
   "source": [
    "print(f\"X Shape: {X.shape}\")\n",
    "print(f\"y Shape: {y.shape}\")"
   ]
  },
  {
   "cell_type": "code",
   "execution_count": 6,
   "metadata": {},
   "outputs": [
    {
     "name": "stdout",
     "output_type": "stream",
     "text": [
      "Accuracy: 0.80979 (+/- 0.00105)\n"
     ]
    }
   ],
   "source": [
    "from sklearn.model_selection import train_test_split\n",
    "\n",
    "X_dev,X_eval, y_dev,y_eval = train_test_split(X, y, test_size=0.1, random_state=456)\n",
    "X_train, X_test, y_train, y_test = train_test_split(X_dev, y_dev, test_size=0.1/0.9, random_state=789)\n",
    "\n",
    "from sklearn.model_selection import cross_val_score\n",
    "from sklearn.ensemble import GradientBoostingClassifier\n",
    "from sklearn.tree import DecisionTreeClassifier\n",
    "from sklearn.ensemble import AdaBoostClassifier\n",
    "from sklearn.metrics import classification_report, roc_auc_score\n",
    "\n",
    "dt = DecisionTreeClassifier(max_depth=3,\n",
    "                            min_samples_leaf=0.001,\n",
    "                            max_features=\"log2\")\n",
    "bdt = AdaBoostClassifier(dt,\n",
    "                        algorithm=\"SAMME\",\n",
    "                        n_estimators=800,\n",
    "                        learning_rate=0.001)\n",
    "\n",
    "scores = cross_val_score(bdt,\n",
    "                        X_dev[:,0:n_features], y_dev,\n",
    "                        scoring=\"roc_auc\",\n",
    "                        n_jobs=6,\n",
    "                        cv=3)\n",
    "\n",
    "print(\"Accuracy: %0.5f (+/- %0.5f)\"%(scores.mean(), scores.std()))"
   ]
  },
  {
   "cell_type": "code",
   "execution_count": 7,
   "metadata": {},
   "outputs": [
    {
     "name": "stdout",
     "output_type": "stream",
     "text": [
      "Fitting 3 folds for each of 36 candidates, totalling 108 fits\n",
      "[CV 1/3] END base_estimator__max_depth=3, learning_rate=0.1, n_estimators=500;, score=0.826 total time= 1.1min\n",
      "[CV 2/3] END base_estimator__max_depth=3, learning_rate=0.1, n_estimators=500;, score=0.828 total time= 1.1min\n",
      "[CV 3/3] END base_estimator__max_depth=3, learning_rate=0.1, n_estimators=500;, score=0.829 total time= 1.1min\n",
      "[CV 1/3] END base_estimator__max_depth=3, learning_rate=0.1, n_estimators=750;, score=0.827 total time= 1.6min\n",
      "[CV 3/3] END base_estimator__max_depth=3, learning_rate=0.1, n_estimators=750;, score=0.830 total time= 1.6min\n",
      "[CV 2/3] END base_estimator__max_depth=3, learning_rate=0.1, n_estimators=750;, score=0.828 total time= 1.6min\n",
      "[CV 2/3] END base_estimator__max_depth=3, learning_rate=0.1, n_estimators=1000;, score=0.828 total time= 2.1min\n",
      "[CV 1/3] END base_estimator__max_depth=3, learning_rate=0.1, n_estimators=1000;, score=0.827 total time= 2.1min\n",
      "[CV 1/3] END base_estimator__max_depth=3, learning_rate=0.5, n_estimators=500;, score=0.826 total time= 1.1min\n",
      "[CV 2/3] END base_estimator__max_depth=3, learning_rate=0.5, n_estimators=500;, score=0.826 total time= 1.1min\n",
      "[CV 3/3] END base_estimator__max_depth=3, learning_rate=0.5, n_estimators=500;, score=0.829 total time= 1.1min\n",
      "[CV 1/3] END base_estimator__max_depth=3, learning_rate=0.5, n_estimators=750;, score=0.826 total time= 1.6min\n",
      "[CV 2/3] END base_estimator__max_depth=3, learning_rate=0.5, n_estimators=750;, score=0.827 total time= 1.6min\n",
      "[CV 3/3] END base_estimator__max_depth=3, learning_rate=0.1, n_estimators=1000;, score=0.829 total time= 2.2min\n",
      "[CV 3/3] END base_estimator__max_depth=3, learning_rate=0.5, n_estimators=750;, score=0.828 total time= 1.6min\n",
      "[CV 1/3] END base_estimator__max_depth=3, learning_rate=1.0, n_estimators=500;, score=0.825 total time= 1.1min\n",
      "[CV 2/3] END base_estimator__max_depth=3, learning_rate=1.0, n_estimators=500;, score=0.828 total time= 1.1min\n",
      "[CV 1/3] END base_estimator__max_depth=3, learning_rate=0.5, n_estimators=1000;, score=0.827 total time= 2.1min\n",
      "[CV 2/3] END base_estimator__max_depth=3, learning_rate=0.5, n_estimators=1000;, score=0.828 total time= 2.1min\n",
      "[CV 3/3] END base_estimator__max_depth=3, learning_rate=1.0, n_estimators=500;, score=0.829 total time= 1.1min\n",
      "[CV 3/3] END base_estimator__max_depth=3, learning_rate=0.5, n_estimators=1000;, score=0.829 total time= 2.2min\n",
      "[CV 1/3] END base_estimator__max_depth=3, learning_rate=1.0, n_estimators=750;, score=0.826 total time= 1.6min\n",
      "[CV 2/3] END base_estimator__max_depth=3, learning_rate=1.0, n_estimators=750;, score=0.829 total time= 1.6min\n",
      "[CV 3/3] END base_estimator__max_depth=3, learning_rate=1.0, n_estimators=750;, score=0.827 total time= 1.6min\n",
      "[CV 1/3] END base_estimator__max_depth=5, learning_rate=0.1, n_estimators=500;, score=0.828 total time= 1.6min\n",
      "[CV 2/3] END base_estimator__max_depth=5, learning_rate=0.1, n_estimators=500;, score=0.829 total time= 1.7min\n",
      "[CV 1/3] END base_estimator__max_depth=3, learning_rate=1.0, n_estimators=1000;, score=0.825 total time= 2.1min\n",
      "[CV 2/3] END base_estimator__max_depth=3, learning_rate=1.0, n_estimators=1000;, score=0.827 total time= 2.1min\n",
      "[CV 3/3] END base_estimator__max_depth=3, learning_rate=1.0, n_estimators=1000;, score=0.827 total time= 2.2min\n",
      "[CV 3/3] END base_estimator__max_depth=5, learning_rate=0.1, n_estimators=500;, score=0.830 total time= 1.7min\n",
      "[CV 2/3] END base_estimator__max_depth=5, learning_rate=0.1, n_estimators=750;, score=0.829 total time= 2.4min\n",
      "[CV 1/3] END base_estimator__max_depth=5, learning_rate=0.1, n_estimators=750;, score=0.828 total time= 2.5min\n",
      "[CV 1/3] END base_estimator__max_depth=5, learning_rate=0.5, n_estimators=500;, score=0.825 total time= 1.8min\n",
      "[CV 2/3] END base_estimator__max_depth=5, learning_rate=0.5, n_estimators=500;, score=0.825 total time= 1.7min\n",
      "[CV 3/3] END base_estimator__max_depth=5, learning_rate=0.1, n_estimators=750;, score=0.831 total time= 2.4min\n",
      "[CV 3/3] END base_estimator__max_depth=5, learning_rate=0.5, n_estimators=500;, score=0.826 total time= 1.6min\n",
      "[CV 2/3] END base_estimator__max_depth=5, learning_rate=0.1, n_estimators=1000;, score=0.829 total time= 3.1min\n",
      "[CV 3/3] END base_estimator__max_depth=5, learning_rate=0.1, n_estimators=1000;, score=0.830 total time= 3.1min\n",
      "[CV 1/3] END base_estimator__max_depth=5, learning_rate=0.1, n_estimators=1000;, score=0.828 total time= 3.5min\n",
      "[CV 1/3] END base_estimator__max_depth=5, learning_rate=0.5, n_estimators=750;, score=0.825 total time= 2.7min\n",
      "[CV 2/3] END base_estimator__max_depth=5, learning_rate=0.5, n_estimators=750;, score=0.827 total time= 2.5min\n",
      "[CV 3/3] END base_estimator__max_depth=5, learning_rate=0.5, n_estimators=750;, score=0.827 total time= 2.7min\n",
      "[CV 1/3] END base_estimator__max_depth=5, learning_rate=1.0, n_estimators=500;, score=0.821 total time= 1.6min\n",
      "[CV 2/3] END base_estimator__max_depth=5, learning_rate=1.0, n_estimators=500;, score=0.824 total time= 1.7min\n",
      "[CV 1/3] END base_estimator__max_depth=5, learning_rate=0.5, n_estimators=1000;, score=0.825 total time= 3.1min\n",
      "[CV 3/3] END base_estimator__max_depth=5, learning_rate=1.0, n_estimators=500;, score=0.821 total time= 1.7min\n",
      "[CV 2/3] END base_estimator__max_depth=5, learning_rate=0.5, n_estimators=1000;, score=0.825 total time= 3.1min\n",
      "[CV 3/3] END base_estimator__max_depth=5, learning_rate=0.5, n_estimators=1000;, score=0.826 total time= 3.1min\n",
      "[CV 1/3] END base_estimator__max_depth=5, learning_rate=1.0, n_estimators=750;, score=0.821 total time= 2.6min\n",
      "[CV 3/3] END base_estimator__max_depth=5, learning_rate=1.0, n_estimators=750;, score=0.823 total time= 2.4min\n",
      "[CV 2/3] END base_estimator__max_depth=5, learning_rate=1.0, n_estimators=750;, score=0.823 total time= 2.8min\n",
      "[CV 1/3] END base_estimator__max_depth=7, learning_rate=0.1, n_estimators=500;, score=0.827 total time= 2.1min\n",
      "[CV 2/3] END base_estimator__max_depth=5, learning_rate=1.0, n_estimators=1000;, score=0.822 total time= 3.1min\n",
      "[CV 2/3] END base_estimator__max_depth=7, learning_rate=0.1, n_estimators=500;, score=0.829 total time= 2.1min\n",
      "[CV 1/3] END base_estimator__max_depth=5, learning_rate=1.0, n_estimators=1000;, score=0.821 total time= 3.5min\n",
      "[CV 3/3] END base_estimator__max_depth=5, learning_rate=1.0, n_estimators=1000;, score=0.822 total time= 3.5min\n",
      "[CV 3/3] END base_estimator__max_depth=7, learning_rate=0.1, n_estimators=500;, score=0.830 total time= 2.3min\n",
      "[CV 1/3] END base_estimator__max_depth=7, learning_rate=0.1, n_estimators=750;, score=0.827 total time= 3.2min\n",
      "[CV 2/3] END base_estimator__max_depth=7, learning_rate=0.1, n_estimators=750;, score=0.829 total time= 3.5min\n",
      "[CV 3/3] END base_estimator__max_depth=7, learning_rate=0.1, n_estimators=750;, score=0.830 total time= 3.2min\n",
      "[CV 1/3] END base_estimator__max_depth=7, learning_rate=0.5, n_estimators=500;, score=0.822 total time= 2.3min\n",
      "[CV 2/3] END base_estimator__max_depth=7, learning_rate=0.5, n_estimators=500;, score=0.824 total time= 2.3min\n",
      "[CV 3/3] END base_estimator__max_depth=7, learning_rate=0.5, n_estimators=500;, score=0.823 total time= 2.1min\n",
      "[CV 1/3] END base_estimator__max_depth=7, learning_rate=0.1, n_estimators=1000;, score=0.827 total time= 4.2min\n",
      "[CV 2/3] END base_estimator__max_depth=7, learning_rate=0.1, n_estimators=1000;, score=0.829 total time= 4.2min\n",
      "[CV 3/3] END base_estimator__max_depth=7, learning_rate=0.1, n_estimators=1000;, score=0.830 total time= 4.5min\n",
      "[CV 1/3] END base_estimator__max_depth=7, learning_rate=0.5, n_estimators=750;, score=0.821 total time= 3.4min\n",
      "[CV 2/3] END base_estimator__max_depth=7, learning_rate=0.5, n_estimators=750;, score=0.824 total time= 3.3min\n",
      "[CV 1/3] END base_estimator__max_depth=7, learning_rate=1.0, n_estimators=500;, score=0.814 total time= 2.1min\n",
      "[CV 3/3] END base_estimator__max_depth=7, learning_rate=0.5, n_estimators=750;, score=0.823 total time= 3.4min\n",
      "[CV 2/3] END base_estimator__max_depth=7, learning_rate=1.0, n_estimators=500;, score=0.816 total time= 2.3min\n",
      "[CV 1/3] END base_estimator__max_depth=7, learning_rate=0.5, n_estimators=1000;, score=0.822 total time= 4.6min\n",
      "[CV 2/3] END base_estimator__max_depth=7, learning_rate=0.5, n_estimators=1000;, score=0.824 total time= 4.2min\n",
      "[CV 3/3] END base_estimator__max_depth=7, learning_rate=1.0, n_estimators=500;, score=0.815 total time= 2.3min\n",
      "[CV 3/3] END base_estimator__max_depth=7, learning_rate=0.5, n_estimators=1000;, score=0.824 total time= 4.2min\n",
      "[CV 1/3] END base_estimator__max_depth=7, learning_rate=1.0, n_estimators=750;, score=0.813 total time= 3.2min\n",
      "[CV 2/3] END base_estimator__max_depth=7, learning_rate=1.0, n_estimators=750;, score=0.814 total time= 3.1min\n",
      "[CV 3/3] END base_estimator__max_depth=7, learning_rate=1.0, n_estimators=750;, score=0.813 total time= 3.4min\n",
      "[CV 2/3] END base_estimator__max_depth=9, learning_rate=0.1, n_estimators=500;, score=0.828 total time= 2.6min\n",
      "[CV 1/3] END base_estimator__max_depth=9, learning_rate=0.1, n_estimators=500;, score=0.827 total time= 2.8min\n",
      "[CV 1/3] END base_estimator__max_depth=7, learning_rate=1.0, n_estimators=1000;, score=0.812 total time= 4.6min\n",
      "[CV 3/3] END base_estimator__max_depth=9, learning_rate=0.1, n_estimators=500;, score=0.829 total time= 2.6min\n",
      "[CV 3/3] END base_estimator__max_depth=7, learning_rate=1.0, n_estimators=1000;, score=0.813 total time= 4.1min\n",
      "[CV 2/3] END base_estimator__max_depth=7, learning_rate=1.0, n_estimators=1000;, score=0.811 total time= 4.6min\n",
      "[CV 1/3] END base_estimator__max_depth=9, learning_rate=0.1, n_estimators=750;, score=0.826 total time= 4.0min\n",
      "[CV 2/3] END base_estimator__max_depth=9, learning_rate=0.1, n_estimators=750;, score=0.828 total time= 4.3min\n",
      "[CV 3/3] END base_estimator__max_depth=9, learning_rate=0.1, n_estimators=750;, score=0.829 total time= 4.0min\n",
      "[CV 1/3] END base_estimator__max_depth=9, learning_rate=0.5, n_estimators=500;, score=0.818 total time= 2.7min\n",
      "[CV 2/3] END base_estimator__max_depth=9, learning_rate=0.5, n_estimators=500;, score=0.820 total time= 2.9min\n",
      "[CV 3/3] END base_estimator__max_depth=9, learning_rate=0.5, n_estimators=500;, score=0.819 total time= 2.7min\n",
      "[CV 1/3] END base_estimator__max_depth=9, learning_rate=0.1, n_estimators=1000;, score=0.826 total time= 5.8min\n",
      "[CV 2/3] END base_estimator__max_depth=9, learning_rate=0.1, n_estimators=1000;, score=0.828 total time= 5.8min\n",
      "[CV 3/3] END base_estimator__max_depth=9, learning_rate=0.1, n_estimators=1000;, score=0.828 total time= 5.3min\n",
      "[CV 1/3] END base_estimator__max_depth=9, learning_rate=0.5, n_estimators=750;, score=0.818 total time= 4.4min\n",
      "[CV 2/3] END base_estimator__max_depth=9, learning_rate=0.5, n_estimators=750;, score=0.820 total time= 4.0min\n",
      "[CV 3/3] END base_estimator__max_depth=9, learning_rate=0.5, n_estimators=750;, score=0.820 total time= 4.1min\n",
      "[CV 2/3] END base_estimator__max_depth=9, learning_rate=1.0, n_estimators=500;, score=0.801 total time= 2.6min\n",
      "[CV 1/3] END base_estimator__max_depth=9, learning_rate=1.0, n_estimators=500;, score=0.801 total time= 2.9min\n",
      "[CV 1/3] END base_estimator__max_depth=9, learning_rate=0.5, n_estimators=1000;, score=0.817 total time= 5.9min\n",
      "[CV 2/3] END base_estimator__max_depth=9, learning_rate=0.5, n_estimators=1000;, score=0.819 total time= 5.4min\n",
      "[CV 3/3] END base_estimator__max_depth=9, learning_rate=1.0, n_estimators=500;, score=0.801 total time= 2.8min\n",
      "[CV 1/3] END base_estimator__max_depth=9, learning_rate=1.0, n_estimators=750;, score=0.797 total time= 3.8min\n",
      "[CV 3/3] END base_estimator__max_depth=9, learning_rate=0.5, n_estimators=1000;, score=0.819 total time= 5.9min\n",
      "[CV 2/3] END base_estimator__max_depth=9, learning_rate=1.0, n_estimators=750;, score=0.801 total time= 3.8min\n",
      "[CV 3/3] END base_estimator__max_depth=9, learning_rate=1.0, n_estimators=750;, score=0.801 total time= 3.8min\n",
      "[CV 1/3] END base_estimator__max_depth=9, learning_rate=1.0, n_estimators=1000;, score=0.798 total time= 5.5min\n",
      "[CV 3/3] END base_estimator__max_depth=9, learning_rate=1.0, n_estimators=1000;, score=0.800 total time= 5.0min\n",
      "[CV 2/3] END base_estimator__max_depth=9, learning_rate=1.0, n_estimators=1000;, score=0.800 total time= 5.4min\n"
     ]
    }
   ],
   "source": [
    "from sklearn import model_selection \n",
    "param_grid = {\"base_estimator__max_depth\": [3, 5, 7, 9],\n",
    "              \"n_estimators\": [500, 750, 1000],\n",
    "              'learning_rate': [0.1, 0.5, 1.]}\n",
    "\n",
    "\n",
    "clf = model_selection.GridSearchCV(bdt,\n",
    "                               param_grid,\n",
    "                               cv=3,\n",
    "                               scoring='roc_auc', # FIXME should we pass physics weight to scoring? \n",
    "                               n_jobs=8,\n",
    "                               verbose=3)\n",
    "_ = clf.fit(X_dev[:,:n_features],y_dev, sample_weight = X_dev[:,flat_pt_weight_idx] )"
   ]
  },
  {
   "cell_type": "code",
   "execution_count": 8,
   "metadata": {},
   "outputs": [
    {
     "name": "stdout",
     "output_type": "stream",
     "text": [
      "Best parameter set found on development set:\n",
      "\n",
      "AdaBoostClassifier(algorithm='SAMME',\n",
      "                   base_estimator=DecisionTreeClassifier(max_depth=5,\n",
      "                                                         max_features='log2',\n",
      "                                                         min_samples_leaf=0.001),\n",
      "                   learning_rate=0.1, n_estimators=750)\n",
      "Grid scores on a subset of the development set:\n",
      "\n"
     ]
    }
   ],
   "source": [
    "print(\"Best parameter set found on development set:\\n\")\n",
    "print(clf.best_estimator_)\n",
    "print(\"Grid scores on a subset of the development set:\\n\")\n",
    "print(clf.best_estimator_)\n"
   ]
  },
  {
   "cell_type": "code",
   "execution_count": 9,
   "metadata": {},
   "outputs": [
    {
     "data": {
      "text/plain": [
       "['__abstractmethods__',\n",
       " '__class__',\n",
       " '__delattr__',\n",
       " '__dict__',\n",
       " '__dir__',\n",
       " '__doc__',\n",
       " '__eq__',\n",
       " '__format__',\n",
       " '__ge__',\n",
       " '__getattribute__',\n",
       " '__getstate__',\n",
       " '__gt__',\n",
       " '__hash__',\n",
       " '__init__',\n",
       " '__init_subclass__',\n",
       " '__le__',\n",
       " '__lt__',\n",
       " '__module__',\n",
       " '__ne__',\n",
       " '__new__',\n",
       " '__reduce__',\n",
       " '__reduce_ex__',\n",
       " '__repr__',\n",
       " '__setattr__',\n",
       " '__setstate__',\n",
       " '__sizeof__',\n",
       " '__str__',\n",
       " '__subclasshook__',\n",
       " '__weakref__',\n",
       " '_abc_impl',\n",
       " '_check_feature_names',\n",
       " '_check_n_features',\n",
       " '_check_refit_for_multimetric',\n",
       " '_estimator_type',\n",
       " '_format_results',\n",
       " '_get_param_names',\n",
       " '_get_tags',\n",
       " '_more_tags',\n",
       " '_repr_html_',\n",
       " '_repr_html_inner',\n",
       " '_repr_mimebundle_',\n",
       " '_required_parameters',\n",
       " '_run_search',\n",
       " '_select_best_index',\n",
       " '_validate_data',\n",
       " 'best_estimator_',\n",
       " 'best_index_',\n",
       " 'best_params_',\n",
       " 'best_score_',\n",
       " 'classes_',\n",
       " 'cv',\n",
       " 'cv_results_',\n",
       " 'decision_function',\n",
       " 'error_score',\n",
       " 'estimator',\n",
       " 'fit',\n",
       " 'get_params',\n",
       " 'inverse_transform',\n",
       " 'multimetric_',\n",
       " 'n_features_in_',\n",
       " 'n_jobs',\n",
       " 'n_splits_',\n",
       " 'param_grid',\n",
       " 'pre_dispatch',\n",
       " 'predict',\n",
       " 'predict_log_proba',\n",
       " 'predict_proba',\n",
       " 'refit',\n",
       " 'refit_time_',\n",
       " 'return_train_score',\n",
       " 'score',\n",
       " 'score_samples',\n",
       " 'scorer_',\n",
       " 'scoring',\n",
       " 'set_params',\n",
       " 'transform',\n",
       " 'verbose']"
      ]
     },
     "execution_count": 9,
     "metadata": {},
     "output_type": "execute_result"
    }
   ],
   "source": [
    "dir(clf)"
   ]
  },
  {
   "cell_type": "code",
   "execution_count": 10,
   "metadata": {},
   "outputs": [],
   "source": [
    "import pickle\n",
    "with open('./models/cv_results_flat_pt.pkl', 'wb') as f:\n",
    "    pickle.dump(clf.cv_results_, f)"
   ]
  },
  {
   "cell_type": "code",
   "execution_count": null,
   "metadata": {},
   "outputs": [],
   "source": []
  }
 ],
 "metadata": {
  "kernelspec": {
   "display_name": "ml",
   "language": "python",
   "name": "python3"
  },
  "language_info": {
   "codemirror_mode": {
    "name": "ipython",
    "version": 3
   },
   "file_extension": ".py",
   "mimetype": "text/x-python",
   "name": "python",
   "nbconvert_exporter": "python",
   "pygments_lexer": "ipython3",
   "version": "3.9.15"
  },
  "orig_nbformat": 4,
  "vscode": {
   "interpreter": {
    "hash": "14e3b66b9136298b1438aa954b24fb6042eb4a7b64fe2e32b506f4a92d36ab42"
   }
  }
 },
 "nbformat": 4,
 "nbformat_minor": 2
}
