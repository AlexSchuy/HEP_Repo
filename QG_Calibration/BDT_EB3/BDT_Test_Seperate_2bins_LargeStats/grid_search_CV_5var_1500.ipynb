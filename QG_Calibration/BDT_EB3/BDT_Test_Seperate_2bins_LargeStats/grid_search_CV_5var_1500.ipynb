{
 "cells": [
  {
   "cell_type": "code",
   "execution_count": 1,
   "metadata": {},
   "outputs": [],
   "source": [
    "import argparse\n",
    "import numpy as np\n",
    "import matplotlib.pyplot as plt\n",
    "import pandas as pd\n",
    "\n",
    "import uproot \n",
    "import awkward as ak\n",
    "from pathlib import Path\n",
    "\n",
    "from typing import Dict, List \n",
    "import re\n",
    "import pickle\n",
    "from tqdm import tqdm\n",
    "\n",
    "from sklearn.model_selection import train_test_split\n",
    "from sklearn.model_selection import cross_val_score\n",
    "from sklearn.ensemble import GradientBoostingClassifier\n",
    "from sklearn.tree import DecisionTreeClassifier\n",
    "from sklearn.ensemble import AdaBoostClassifier\n",
    "from sklearn.metrics import classification_report, roc_auc_score, make_scorer\n",
    "from sklearn import model_selection \n",
    "\n",
    "\n",
    "\n",
    "training_vars = ['jet_pt', 'jet_eta', 'jet_nTracks', 'jet_trackWidth', 'jet_trackC1']\n",
    "all_vars = training_vars + ['total_weight', 'flatpt_weight']\n",
    "n_jets = 2_000_000\n",
    "sample_size = 100000\n",
    "\n",
    "sample_alljets_path = '../../samples/BDT_training/sample_2M_w_flatpt.pkl'\n",
    "with open(sample_alljets_path, 'rb') as f:\n",
    "    sample_2Mjets = pd.read_pickle(f)\n",
    "\n",
    "sample_2Mjets = sample_2Mjets[sample_2Mjets['jet_pt'] >=1500]\n",
    "\n",
    "# sel_idx = np.append(np.arange(0,sample_size), np.arange(n_jets//2, n_jets//2+sample_size))\n",
    "\n",
    "# X = sample_2Mjets.iloc[sel_idx, :-1]\n",
    "# y = sample_2Mjets.iloc[sel_idx, -1]\n",
    "X = sample_2Mjets.iloc[:, :-1]\n",
    "y = sample_2Mjets.iloc[:, -1]\n",
    "\n",
    "X_dev,X_eval, y_dev,y_eval = train_test_split(X, y, test_size=0.1, random_state=456)\n",
    "X_train, X_test, y_train, y_test = train_test_split(X_dev, y_dev, test_size=0.1/0.9, random_state=789)\n",
    "\n"
   ]
  },
  {
   "cell_type": "code",
   "execution_count": 2,
   "metadata": {},
   "outputs": [
    {
     "data": {
      "text/plain": [
       "176587"
      ]
     },
     "execution_count": 2,
     "metadata": {},
     "output_type": "execute_result"
    }
   ],
   "source": [
    "len(sample_2Mjets)"
   ]
  },
  {
   "cell_type": "code",
   "execution_count": 3,
   "metadata": {},
   "outputs": [
    {
     "name": "stdout",
     "output_type": "stream",
     "text": [
      "Fitting 3 folds for each of 36 candidates, totalling 108 fits\n"
     ]
    }
   ],
   "source": [
    "dt = DecisionTreeClassifier(max_depth=3,\n",
    "                            min_samples_leaf=0.001,\n",
    "                            max_features=\"log2\")\n",
    "bdt = AdaBoostClassifier(dt,\n",
    "                        algorithm=\"SAMME\",\n",
    "                        n_estimators=800,\n",
    "                        learning_rate=0.001)\n",
    "\n",
    "\n",
    "param_grid = {\"base_estimator__max_depth\": [3, 5, 7, 9],\n",
    "              \"n_estimators\": [500, 750, 1000],\n",
    "              'learning_rate': [0.1, 0.5, 1.]}\n",
    "\n",
    "\n",
    "# physical_weight_socre = make_scorer(roc_auc_score, sample_weight = X_dev['total_weight'])\n",
    "# clf = model_selection.GridSearchCV(bdt,\n",
    "#                                param_grid,\n",
    "#                                cv=3,\n",
    "#                                scoring=physical_weight_socre,\n",
    "#                                n_jobs=8,\n",
    "#                                verbose=3)\n",
    "\n",
    "clf = model_selection.GridSearchCV(bdt,\n",
    "                               param_grid,\n",
    "                               cv=3,\n",
    "                               scoring='roc_auc',\n",
    "                               n_jobs=12,\n",
    "                               verbose=3)\n",
    "                               \n",
    "_ = clf.fit(X_dev[training_vars],y_dev, sample_weight = X_dev['flatpt_weight'] )"
   ]
  },
  {
   "cell_type": "code",
   "execution_count": null,
   "metadata": {},
   "outputs": [],
   "source": [
    "print(\"Best parameter set found on development set:\\n\")\n",
    "print(clf.best_estimator_)\n",
    "print(\"Grid scores on a subset of the development set:\\n\")\n",
    "\n",
    "# import pickle\n",
    "# with open('cv_results_flat_pt.pkl', 'wb') as f:\n",
    "#     pickle.dump(clf.cv_results_, f)"
   ]
  },
  {
   "cell_type": "code",
   "execution_count": null,
   "metadata": {},
   "outputs": [],
   "source": []
  }
 ],
 "metadata": {
  "kernelspec": {
   "display_name": "ml",
   "language": "python",
   "name": "python3"
  },
  "language_info": {
   "codemirror_mode": {
    "name": "ipython",
    "version": 3
   },
   "file_extension": ".py",
   "mimetype": "text/x-python",
   "name": "python",
   "nbconvert_exporter": "python",
   "pygments_lexer": "ipython3",
   "version": "3.9.15"
  },
  "orig_nbformat": 4,
  "vscode": {
   "interpreter": {
    "hash": "c8bdd0311bdd426c87686682c9d205df6accd82833b0acc4f37e182f9e9921cb"
   }
  }
 },
 "nbformat": 4,
 "nbformat_minor": 2
}
