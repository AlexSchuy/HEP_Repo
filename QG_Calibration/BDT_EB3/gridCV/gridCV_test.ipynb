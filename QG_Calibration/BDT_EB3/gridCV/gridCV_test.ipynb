{
 "cells": [
  {
   "cell_type": "code",
   "execution_count": 1,
   "metadata": {},
   "outputs": [],
   "source": [
    "# just trainig for all the jets in the pt range (500, 2000) GeV\n",
    "# Grid Search for best parameters \n",
    "import random\n",
    "from re import X\n",
    "\n",
    "import pandas as pd\n",
    "import numpy as np\n",
    "import matplotlib as mpl\n",
    "import matplotlib.pyplot as plt\n",
    "\n",
    "from sklearn.metrics import classification_report, roc_auc_score\n",
    "from sklearn.metrics import roc_curve, auc\n",
    "\n",
    "\n",
    "import uproot \n",
    "import awkward as ak\n",
    "\n",
    "file = \"/global/cfs/projectdirs/atlas/hrzhao/qgcal/BDT_EB3/pkls/small_sample_periodA.pkl\"\n",
    "\n",
    "small_sample = pd.read_pickle(file)"
   ]
  },
  {
   "cell_type": "code",
   "execution_count": 3,
   "metadata": {},
   "outputs": [],
   "source": [
    "small_sample_array = small_sample.to_numpy()"
   ]
  },
  {
   "cell_type": "code",
   "execution_count": 4,
   "metadata": {},
   "outputs": [
    {
     "data": {
      "text/plain": [
       "(200000, 10)"
      ]
     },
     "execution_count": 4,
     "metadata": {},
     "output_type": "execute_result"
    }
   ],
   "source": [
    "small_sample_array.shape"
   ]
  },
  {
   "cell_type": "code",
   "execution_count": 5,
   "metadata": {},
   "outputs": [],
   "source": [
    "X = small_sample_array[:, :-1]\n",
    "y = small_sample_array[:, -1]"
   ]
  },
  {
   "cell_type": "code",
   "execution_count": 9,
   "metadata": {},
   "outputs": [
    {
     "data": {
      "text/plain": [
       "array([0.3904843 , 0.15126295, 0.09193534, ..., 1.61380994, 0.61529815,\n",
       "       0.00936656])"
      ]
     },
     "execution_count": 9,
     "metadata": {},
     "output_type": "execute_result"
    }
   ],
   "source": [
    "X[:, 7]"
   ]
  },
  {
   "cell_type": "code",
   "execution_count": 10,
   "metadata": {},
   "outputs": [
    {
     "data": {
      "text/plain": [
       "array([4.06940610e-07, 1.10664131e-06, 8.05575838e-07, ...,\n",
       "       5.47546735e-07, 4.40407886e-07, 4.24392991e-07])"
      ]
     },
     "execution_count": 10,
     "metadata": {},
     "output_type": "execute_result"
    }
   ],
   "source": [
    "X[:, 8]"
   ]
  },
  {
   "cell_type": "code",
   "execution_count": 8,
   "metadata": {},
   "outputs": [
    {
     "data": {
      "text/plain": [
       "array([0., 0., 0., ..., 1., 1., 1.])"
      ]
     },
     "execution_count": 8,
     "metadata": {},
     "output_type": "execute_result"
    }
   ],
   "source": [
    "y"
   ]
  },
  {
   "cell_type": "code",
   "execution_count": 11,
   "metadata": {},
   "outputs": [],
   "source": [
    "def draw_pt_spectrum(pt_array, bins, user_weights = None, title = ' ', use_log = True, save = False):\n",
    "    fig, ax = plt.subplots()\n",
    "    if user_weights is None:\n",
    "        ax.hist(pt_array, bins)\n",
    "    else:\n",
    "        ax.hist(pt_array, bins, weights = user_weights)\n",
    "    ax.set_title(title + '$p_{T}$ Spectrum')\n",
    "    ax.set_xlabel('Jet $p_{\\mathrm{T}}$ [GeV]')\n",
    "    ax.set_ylabel('Number of Jets')\n",
    "    if use_log:\n",
    "        ax.set_yscale('log')\n",
    "    if save:\n",
    "        file_title = title.replace(' ','_') + 'pt_distribution'\n",
    "        if use_log:\n",
    "            file_title = file_title + 'log'\n",
    "        fig.savefig(file_title)\n",
    "    fig.show()"
   ]
  },
  {
   "cell_type": "code",
   "execution_count": 14,
   "metadata": {},
   "outputs": [
    {
     "data": {
      "image/png": "[encoded data removed]",
      "text/plain": [
       "<Figure size 640x480 with 1 Axes>"
      ]
     },
     "metadata": {},
     "output_type": "display_data"
    }
   ],
   "source": [
    "custom_bins = np.linspace(500, 2000, 61)\n",
    "draw_pt_spectrum(X[:,0], custom_bins, use_log=False,\n",
    "                 title = 'All Jets ', user_weights = X[:,8], save = False)"
   ]
  },
  {
   "cell_type": "code",
   "execution_count": 15,
   "metadata": {},
   "outputs": [
    {
     "name": "stdout",
     "output_type": "stream",
     "text": [
      "X Shape: (200000, 9)\n",
      "y Shape: (200000,)\n",
      "Accuracy: 0.81446 (+/- 0.00124)\n",
      "Fitting 3 folds for each of 27 candidates, totalling 81 fits\n",
      "[CV 2/3] END base_estimator__max_depth=5, learning_rate=0.1, n_estimators=500;, score=0.843 total time= 1.3min\n",
      "[CV 3/3] END base_estimator__max_depth=5, learning_rate=0.1, n_estimators=500;, score=0.843 total time= 1.3min\n",
      "[CV 1/3] END base_estimator__max_depth=5, learning_rate=0.1, n_estimators=500;, score=0.841 total time= 1.4min\n",
      "[CV 3/3] END base_estimator__max_depth=5, learning_rate=0.1, n_estimators=750;, score=0.843 total time= 2.0min\n",
      "[CV 2/3] END base_estimator__max_depth=5, learning_rate=0.1, n_estimators=750;, score=0.844 total time= 2.1min\n",
      "[CV 1/3] END base_estimator__max_depth=5, learning_rate=0.1, n_estimators=750;, score=0.842 total time= 2.1min\n"
     ]
    }
   ],
   "source": [
    "print(f\"X Shape: {X.shape}\")\n",
    "print(f\"y Shape: {y.shape}\")\n",
    "\n",
    "from sklearn.model_selection import train_test_split\n",
    "\n",
    "X_dev,X_eval, y_dev,y_eval = train_test_split(X, y, test_size=0.1, random_state=456)\n",
    "X_train, X_test, y_train, y_test = train_test_split(X_dev, y_dev, test_size=0.1/0.9, random_state=789)\n",
    "\n",
    "from sklearn.model_selection import cross_val_score\n",
    "from sklearn.ensemble import GradientBoostingClassifier\n",
    "from sklearn.tree import DecisionTreeClassifier\n",
    "from sklearn.ensemble import AdaBoostClassifier\n",
    "from sklearn.metrics import classification_report, roc_auc_score\n",
    "\n",
    "dt = DecisionTreeClassifier(max_depth=3,\n",
    "                            min_samples_leaf=0.001,\n",
    "                            max_features=\"log2\")\n",
    "bdt = AdaBoostClassifier(dt,\n",
    "                        algorithm=\"SAMME\",\n",
    "                        n_estimators=800,\n",
    "                        learning_rate=0.001)\n",
    "\n",
    "scores = cross_val_score(bdt,\n",
    "                        X_dev[:,0:5], y_dev,\n",
    "                        scoring=\"roc_auc\",\n",
    "                        n_jobs=6,\n",
    "                        cv=3)\n",
    "\n",
    "print(\"Accuracy: %0.5f (+/- %0.5f)\"%(scores.mean(), scores.std()))\n",
    "\n",
    "from sklearn import model_selection \n",
    "param_grid = {\"base_estimator__max_depth\": [5, 7, 9],\n",
    "              \"n_estimators\": [500, 750, 1000],\n",
    "              'learning_rate': [0.1, 0.5, 1.]}\n",
    "\n",
    "\n",
    "clf = model_selection.GridSearchCV(bdt,\n",
    "                               param_grid,\n",
    "                               cv=3,\n",
    "                               scoring='roc_auc',\n",
    "                               n_jobs=8,\n",
    "                               verbose=3)\n",
    "_ = clf.fit(X_dev[:,:5],y_dev, sample_weight = X_dev[:,8] )\n",
    "\n",
    "print(\"Best parameter set found on development set:\\n\")\n",
    "print(clf.best_estimator_)\n",
    "print(\"Grid scores on a subset of the development set:\\n\")\n",
    "\n",
    "import pickle\n",
    "with open('cv_results_flat_pt.pkl', 'wb') as f:\n",
    "    pickle.dump(clf.cv_results_, f)\n"
   ]
  },
  {
   "cell_type": "code",
   "execution_count": null,
   "metadata": {},
   "outputs": [],
   "source": []
  }
 ],
 "metadata": {
  "kernelspec": {
   "display_name": "ml",
   "language": "python",
   "name": "python3"
  },
  "language_info": {
   "codemirror_mode": {
    "name": "ipython",
    "version": 3
   },
   "file_extension": ".py",
   "mimetype": "text/x-python",
   "name": "python",
   "nbconvert_exporter": "python",
   "pygments_lexer": "ipython3",
   "version": "3.9.15"
  },
  "orig_nbformat": 4,
  "vscode": {
   "interpreter": {
    "hash": "14e3b66b9136298b1438aa954b24fb6042eb4a7b64fe2e32b506f4a92d36ab42"
   }
  }
 },
 "nbformat": 4,
 "nbformat_minor": 2
}
