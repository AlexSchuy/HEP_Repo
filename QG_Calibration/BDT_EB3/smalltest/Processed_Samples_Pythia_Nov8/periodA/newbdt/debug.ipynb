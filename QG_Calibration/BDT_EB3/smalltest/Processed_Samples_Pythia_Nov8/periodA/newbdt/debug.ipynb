{
 "cells": [
  {
   "cell_type": "code",
   "execution_count": 1,
   "metadata": {},
   "outputs": [],
   "source": [
    "import argparse\n",
    "import numpy as np\n",
    "import sys, traceback\n",
    "import uproot \n",
    "import awkward as ak\n",
    "from pathlib import Path\n",
    "\n",
    "from typing import Dict, List \n",
    "import re\n",
    "import pickle\n",
    "from sklearn.model_selection import train_test_split\n",
    "from sklearn.tree import DecisionTreeClassifier\n",
    "from sklearn.ensemble import AdaBoostClassifier\n",
    "from sklearn.metrics import classification_report, roc_auc_score\n"
   ]
  },
  {
   "cell_type": "code",
   "execution_count": 4,
   "metadata": {},
   "outputs": [],
   "source": [
    "with open('./dijet_pythia_mc16A.pkl', 'rb') as f:\n",
    "    HistMap = pickle.load(f)"
   ]
  },
  {
   "cell_type": "code",
   "execution_count": 5,
   "metadata": {},
   "outputs": [],
   "source": [
    "###### define functions\n",
    "def GetHistBin(histogram_name: str):\n",
    "    if 'pt' in histogram_name:\n",
    "        return np.linspace(0, 2000, 61)\n",
    "    elif 'eta' in histogram_name:\n",
    "        return np.linspace(-2.5, 2.5, 51)\n",
    "    elif 'ntrk' in histogram_name:\n",
    "        return np.linspace(0, 60, 61)\n",
    "    elif 'bdt' in histogram_name:\n",
    "        return np.linspace(-0.8, 0.7, 61)\n",
    "    elif 'width' in histogram_name:\n",
    "        return np.linspace(0, 0.4, 61)\n",
    "    elif 'c1' in histogram_name:\n",
    "        return np.linspace(0, 0.4, 61)"
   ]
  },
  {
   "cell_type": "code",
   "execution_count": 21,
   "metadata": {},
   "outputs": [],
   "source": [
    "label_var = [\"pt\", \"eta\", \"ntrk\", \"width\", \"c1\", \"bdt\", \"newbdt\"]\n",
    "\n",
    "# for weights_hist_name in HistMap[\"weights\"].keys():\n",
    "weights_hist_name = '500_LeadingJet_Forward_Gluon' \n",
    "# for l_var in label_var[0:1]:\n",
    "l_var = 'pt'\n",
    "values_hist_name = weights_hist_name + f\"_{l_var}\"\n",
    "bin_edges = GetHistBin(histogram_name = values_hist_name)\n",
    "histogram_contents = np.histogram(a = HistMap[\"values\"][values_hist_name], weights = HistMap[\"weights\"][weights_hist_name], \n",
    "                        bins = bin_edges, range = (bin_edges[0], bin_edges[-1]))\n",
    "\n"
   ]
  },
  {
   "cell_type": "code",
   "execution_count": 34,
   "metadata": {},
   "outputs": [
    {
     "data": {
      "text/plain": [
       "503.8865966796875"
      ]
     },
     "execution_count": 34,
     "metadata": {},
     "output_type": "execute_result"
    }
   ],
   "source": [
    "HistMap[\"values\"][values_hist_name][0]"
   ]
  },
  {
   "cell_type": "code",
   "execution_count": 35,
   "metadata": {},
   "outputs": [
    {
     "data": {
      "text/plain": [
       "500.00000000000006"
      ]
     },
     "execution_count": 35,
     "metadata": {},
     "output_type": "execute_result"
    }
   ],
   "source": [
    "histogram_contents[1][15]"
   ]
  },
  {
   "cell_type": "code",
   "execution_count": 37,
   "metadata": {},
   "outputs": [],
   "source": [
    "nbins = len(bin_edges) - 1 \n",
    "sum_w2_at_var = np.zeros((nbins,), dtype = np.float32)\n",
    "inds = np.digitize(x = HistMap[\"values\"][values_hist_name], bins = bin_edges)\n",
    "inds = inds - 1"
   ]
  },
  {
   "cell_type": "code",
   "execution_count": 25,
   "metadata": {},
   "outputs": [
    {
     "data": {
      "text/plain": [
       "8428"
      ]
     },
     "execution_count": 25,
     "metadata": {},
     "output_type": "execute_result"
    }
   ],
   "source": [
    "len(inds)"
   ]
  },
  {
   "cell_type": "code",
   "execution_count": 36,
   "metadata": {},
   "outputs": [
    {
     "data": {
      "text/plain": [
       "array([15, 17, 17, ..., 16, 16, 16])"
      ]
     },
     "execution_count": 36,
     "metadata": {},
     "output_type": "execute_result"
    }
   ],
   "source": [
    "inds - 1"
   ]
  },
  {
   "cell_type": "code",
   "execution_count": 38,
   "metadata": {},
   "outputs": [],
   "source": [
    "for i in range(nbins):\n",
    "    weights_at_bin = HistMap[\"weights\"][weights_hist_name][np.where(inds == i)[0]]\n",
    "    sum_w2_at_var[i] = np.sum(np.power(weights_at_bin, 2))\n"
   ]
  },
  {
   "cell_type": "code",
   "execution_count": 40,
   "metadata": {},
   "outputs": [
    {
     "data": {
      "text/plain": [
       "(array([15, 16, 17]),)"
      ]
     },
     "execution_count": 40,
     "metadata": {},
     "output_type": "execute_result"
    }
   ],
   "source": [
    "np.where(sum_w2_at_var > 0)"
   ]
  },
  {
   "cell_type": "code",
   "execution_count": 39,
   "metadata": {},
   "outputs": [
    {
     "data": {
      "text/plain": [
       "(array([15, 16, 17]),)"
      ]
     },
     "execution_count": 39,
     "metadata": {},
     "output_type": "execute_result"
    }
   ],
   "source": [
    "np.where(histogram_contents[0] > 0)"
   ]
  },
  {
   "cell_type": "code",
   "execution_count": null,
   "metadata": {},
   "outputs": [],
   "source": [
    "histogram_err = np.histogram(a = bin_edges[:-1], weights = sum_w2_at_var, \n",
    "                bins = bin_edges, range = (bin_edges[0], bin_edges[-1]))"
   ]
  }
 ],
 "metadata": {
  "kernelspec": {
   "display_name": "ml",
   "language": "python",
   "name": "python3"
  },
  "language_info": {
   "codemirror_mode": {
    "name": "ipython",
    "version": 3
   },
   "file_extension": ".py",
   "mimetype": "text/x-python",
   "name": "python",
   "nbconvert_exporter": "python",
   "pygments_lexer": "ipython3",
   "version": "3.9.15"
  },
  "orig_nbformat": 4,
  "vscode": {
   "interpreter": {
    "hash": "14e3b66b9136298b1438aa954b24fb6042eb4a7b64fe2e32b506f4a92d36ab42"
   }
  }
 },
 "nbformat": 4,
 "nbformat_minor": 2
}
