{
 "cells": [
  {
   "cell_type": "code",
   "execution_count": 7,
   "metadata": {},
   "outputs": [],
   "source": [
    "import argparse\n",
    "import logging\n",
    "import numpy as np\n",
    "import matplotlib.pyplot as plt\n",
    "import pandas as pd\n",
    "plt.set_loglevel(\"info\")\n",
    "import uproot \n",
    "import awkward as ak\n",
    "from pathlib import Path\n",
    "import os \n",
    "\n",
    "from typing import Dict, List \n",
    "import re\n",
    "import pickle\n",
    "from tqdm import tqdm\n",
    "\n",
    "import lightgbm as lgb\n",
    "from sklearn.model_selection import train_test_split\n",
    "from sklearn.metrics import roc_curve, auc\n",
    "\n",
    "from  LightGBM_BDT_train import plot_decision_func, plot_ROC, plot_overtraining_validation\n"
   ]
  },
  {
   "cell_type": "code",
   "execution_count": 2,
   "metadata": {},
   "outputs": [],
   "source": [
    "sample_path = '/global/cfs/projectdirs/atlas/hrzhao/HEP_Repo/QG_Calibration/BDT_EB4/samples/sample_testweight_123'\n",
    "training_vars = ['jet_pt', 'jet_nTracks', 'jet_trackWidth', 'jet_trackC1']\n",
    "training_weight = ['flatpt_weight']\n",
    "gbdt_filename = './gbdt.model'\n",
    "\n",
    "label_pt_bin = [500, 600, 800, 1000, 1200, 1500, 2000]\n"
   ]
  },
  {
   "cell_type": "code",
   "execution_count": 3,
   "metadata": {},
   "outputs": [],
   "source": [
    "sample = pd.read_pickle(sample_path)"
   ]
  },
  {
   "cell_type": "code",
   "execution_count": 4,
   "metadata": {},
   "outputs": [],
   "source": [
    "X = sample.iloc[:, :-1]\n",
    "y = sample.iloc[:, -1]\n",
    "\n",
    "X_dev,X_eval, y_dev,y_eval = train_test_split(X, y, test_size=0.1, random_state=456)\n",
    "X_train, X_test, y_train, y_test = train_test_split(X_dev, y_dev, test_size=0.1/0.9, random_state=789)\n",
    "\n",
    "event_weight_idx = X.columns.get_loc('event_weight')\n",
    "equal_weight_idx = X.columns.get_loc('equal_weight')\n",
    "flatpt_weight_idx = X.columns.get_loc('flatpt_weight')\n"
   ]
  },
  {
   "cell_type": "code",
   "execution_count": 5,
   "metadata": {},
   "outputs": [],
   "source": [
    "param = {'num_leaves': 31, 'objective': 'binary'}\n",
    "param['metric'] = 'auc'"
   ]
  },
  {
   "cell_type": "code",
   "execution_count": 16,
   "metadata": {},
   "outputs": [],
   "source": [
    "train_data = lgb.Dataset(X_train[training_vars], label=y_train, feature_name=training_vars)\n",
    "val_data = lgb.Dataset(X_test[training_vars], label=y_test, feature_name=training_vars)\n",
    "num_round = 10\n",
    "bst = lgb.train(param, train_data, num_round, valid_sets=val_data)\n",
    "bst.predict(X_eval[training_vars])"
   ]
  },
  {
   "cell_type": "code",
   "execution_count": 31,
   "metadata": {},
   "outputs": [
    {
     "data": {
      "text/html": [
       "<style>#sk-container-id-1 {color: black;background-color: white;}#sk-container-id-1 pre{padding: 0;}#sk-container-id-1 div.sk-toggleable {background-color: white;}#sk-container-id-1 label.sk-toggleable__label {cursor: pointer;display: block;width: 100%;margin-bottom: 0;padding: 0.3em;box-sizing: border-box;text-align: center;}#sk-container-id-1 label.sk-toggleable__label-arrow:before {content: \"▸\";float: left;margin-right: 0.25em;color: #696969;}#sk-container-id-1 label.sk-toggleable__label-arrow:hover:before {color: black;}#sk-container-id-1 div.sk-estimator:hover label.sk-toggleable__label-arrow:before {color: black;}#sk-container-id-1 div.sk-toggleable__content {max-height: 0;max-width: 0;overflow: hidden;text-align: left;background-color: #f0f8ff;}#sk-container-id-1 div.sk-toggleable__content pre {margin: 0.2em;color: black;border-radius: 0.25em;background-color: #f0f8ff;}#sk-container-id-1 input.sk-toggleable__control:checked~div.sk-toggleable__content {max-height: 200px;max-width: 100%;overflow: auto;}#sk-container-id-1 input.sk-toggleable__control:checked~label.sk-toggleable__label-arrow:before {content: \"▾\";}#sk-container-id-1 div.sk-estimator input.sk-toggleable__control:checked~label.sk-toggleable__label {background-color: #d4ebff;}#sk-container-id-1 div.sk-label input.sk-toggleable__control:checked~label.sk-toggleable__label {background-color: #d4ebff;}#sk-container-id-1 input.sk-hidden--visually {border: 0;clip: rect(1px 1px 1px 1px);clip: rect(1px, 1px, 1px, 1px);height: 1px;margin: -1px;overflow: hidden;padding: 0;position: absolute;width: 1px;}#sk-container-id-1 div.sk-estimator {font-family: monospace;background-color: #f0f8ff;border: 1px dotted black;border-radius: 0.25em;box-sizing: border-box;margin-bottom: 0.5em;}#sk-container-id-1 div.sk-estimator:hover {background-color: #d4ebff;}#sk-container-id-1 div.sk-parallel-item::after {content: \"\";width: 100%;border-bottom: 1px solid gray;flex-grow: 1;}#sk-container-id-1 div.sk-label:hover label.sk-toggleable__label {background-color: #d4ebff;}#sk-container-id-1 div.sk-serial::before {content: \"\";position: absolute;border-left: 1px solid gray;box-sizing: border-box;top: 0;bottom: 0;left: 50%;z-index: 0;}#sk-container-id-1 div.sk-serial {display: flex;flex-direction: column;align-items: center;background-color: white;padding-right: 0.2em;padding-left: 0.2em;position: relative;}#sk-container-id-1 div.sk-item {position: relative;z-index: 1;}#sk-container-id-1 div.sk-parallel {display: flex;align-items: stretch;justify-content: center;background-color: white;position: relative;}#sk-container-id-1 div.sk-item::before, #sk-container-id-1 div.sk-parallel-item::before {content: \"\";position: absolute;border-left: 1px solid gray;box-sizing: border-box;top: 0;bottom: 0;left: 50%;z-index: -1;}#sk-container-id-1 div.sk-parallel-item {display: flex;flex-direction: column;z-index: 1;position: relative;background-color: white;}#sk-container-id-1 div.sk-parallel-item:first-child::after {align-self: flex-end;width: 50%;}#sk-container-id-1 div.sk-parallel-item:last-child::after {align-self: flex-start;width: 50%;}#sk-container-id-1 div.sk-parallel-item:only-child::after {width: 0;}#sk-container-id-1 div.sk-dashed-wrapped {border: 1px dashed gray;margin: 0 0.4em 0.5em 0.4em;box-sizing: border-box;padding-bottom: 0.4em;background-color: white;}#sk-container-id-1 div.sk-label label {font-family: monospace;font-weight: bold;display: inline-block;line-height: 1.2em;}#sk-container-id-1 div.sk-label-container {text-align: center;}#sk-container-id-1 div.sk-container {/* jupyter's `normalize.less` sets `[hidden] { display: none; }` but bootstrap.min.css set `[hidden] { display: none !important; }` so we also need the `!important` here to be able to override the default hidden behavior on the sphinx rendered scikit-learn.org. See: https://github.com/scikit-learn/scikit-learn/issues/21755 */display: inline-block !important;position: relative;}#sk-container-id-1 div.sk-text-repr-fallback {display: none;}</style><div id=\"sk-container-id-1\" class=\"sk-top-container\"><div class=\"sk-text-repr-fallback\"><pre>LGBMClassifier(random_state=42)</pre><b>In a Jupyter environment, please rerun this cell to show the HTML representation or trust the notebook. <br />On GitHub, the HTML representation is unable to render, please try loading this page with nbviewer.org.</b></div><div class=\"sk-container\" hidden><div class=\"sk-item\"><div class=\"sk-estimator sk-toggleable\"><input class=\"sk-toggleable__control sk-hidden--visually\" id=\"sk-estimator-id-1\" type=\"checkbox\" checked><label for=\"sk-estimator-id-1\" class=\"sk-toggleable__label sk-toggleable__label-arrow\">LGBMClassifier</label><div class=\"sk-toggleable__content\"><pre>LGBMClassifier(random_state=42)</pre></div></div></div></div></div>"
      ],
      "text/plain": [
       "LGBMClassifier(random_state=42)"
      ]
     },
     "execution_count": 31,
     "metadata": {},
     "output_type": "execute_result"
    }
   ],
   "source": [
    "# make predictions using lightgbm for classification\n",
    "from sklearn.datasets import make_classification\n",
    "from lightgbm import LGBMClassifier\n",
    "# define dataset\n",
    "# X, y = make_classification(n_samples=1000, n_features=20, n_informative=15, n_redundant=5, random_state=7)\n",
    "# define the model\n",
    "model = LGBMClassifier(random_state=42)\n",
    "# fit the model on the whole dataset\n",
    "model.fit(X_train[training_vars].values, y_train.values)"
   ]
  },
  {
   "cell_type": "code",
   "execution_count": 37,
   "metadata": {},
   "outputs": [],
   "source": [
    "y_decision_score = model.predict(X_eval[training_vars].values, raw_score=True)"
   ]
  },
  {
   "cell_type": "code",
   "execution_count": 41,
   "metadata": {},
   "outputs": [
    {
     "data": {
      "text/plain": [
       "(array([  52.,  159.,  196.,  343.,  416.,  415.,  506.,  476.,  614.,\n",
       "         625.,  850.,  738.,  911., 1042., 1278., 1987., 2500., 3261.,\n",
       "        3589., 3646., 3634., 3910., 4020., 4014., 3933., 4393., 3927.,\n",
       "        4098., 4194., 4040., 4216., 4209., 4137., 4063., 4284., 4297.,\n",
       "        4432., 4335., 4563., 4308., 4500., 4484., 4520., 4617., 4594.,\n",
       "        4645., 4748., 4724., 4652., 4644., 4987., 4988., 5126., 5422.,\n",
       "        5591., 5211., 5238., 5363., 4999., 5132., 5134., 4836., 4629.,\n",
       "        4492., 4234., 4131., 3870., 3605., 3464., 3228., 3006., 2933.,\n",
       "        2737., 2568., 2528., 2491., 2153., 2112., 1952., 1867., 1751.,\n",
       "        1575., 1472., 1315., 1186., 1050.,  888.,  753.,  670.,  520.,\n",
       "         404.,  305.,  241.,  157.,  104.,   79.,   55.,   29.,    6.,\n",
       "           8.]),\n",
       " array([-4.84636607, -4.77026187, -4.69415766, -4.61805346, -4.54194925,\n",
       "        -4.46584505, -4.38974084, -4.31363663, -4.23753243, -4.16142822,\n",
       "        -4.08532402, -4.00921981, -3.93311561, -3.8570114 , -3.7809072 ,\n",
       "        -3.70480299, -3.62869878, -3.55259458, -3.47649037, -3.40038617,\n",
       "        -3.32428196, -3.24817776, -3.17207355, -3.09596934, -3.01986514,\n",
       "        -2.94376093, -2.86765673, -2.79155252, -2.71544832, -2.63934411,\n",
       "        -2.56323991, -2.4871357 , -2.41103149, -2.33492729, -2.25882308,\n",
       "        -2.18271888, -2.10661467, -2.03051047, -1.95440626, -1.87830205,\n",
       "        -1.80219785, -1.72609364, -1.64998944, -1.57388523, -1.49778103,\n",
       "        -1.42167682, -1.34557262, -1.26946841, -1.1933642 , -1.11726   ,\n",
       "        -1.04115579, -0.96505159, -0.88894738, -0.81284318, -0.73673897,\n",
       "        -0.66063477, -0.58453056, -0.50842635, -0.43232215, -0.35621794,\n",
       "        -0.28011374, -0.20400953, -0.12790533, -0.05180112,  0.02430309,\n",
       "         0.10040729,  0.1765115 ,  0.2526157 ,  0.32871991,  0.40482411,\n",
       "         0.48092832,  0.55703252,  0.63313673,  0.70924094,  0.78534514,\n",
       "         0.86144935,  0.93755355,  1.01365776,  1.08976196,  1.16586617,\n",
       "         1.24197038,  1.31807458,  1.39417879,  1.47028299,  1.5463872 ,\n",
       "         1.6224914 ,  1.69859561,  1.77469981,  1.85080402,  1.92690823,\n",
       "         2.00301243,  2.07911664,  2.15522084,  2.23132505,  2.30742925,\n",
       "         2.38353346,  2.45963767,  2.53574187,  2.61184608,  2.68795028,\n",
       "         2.76405449]),\n",
       " <BarContainer object of 100 artists>)"
      ]
     },
     "execution_count": 41,
     "metadata": {},
     "output_type": "execute_result"
    },
    {
     "data": {
      "image/png": "[encoded data removed]",
      "text/plain": [
       "<Figure size 640x480 with 1 Axes>"
      ]
     },
     "metadata": {},
     "output_type": "display_data"
    }
   ],
   "source": [
    "plt.hist(y_decision_score[y_eval == 1], bins = 100)\n",
    "plt.hist(y_decision_score[y_eval == 0], bins = 100)\n"
   ]
  }
 ],
 "metadata": {
  "kernelspec": {
   "display_name": "Python 3",
   "language": "python",
   "name": "python3"
  },
  "language_info": {
   "codemirror_mode": {
    "name": "ipython",
    "version": 3
   },
   "file_extension": ".py",
   "mimetype": "text/x-python",
   "name": "python",
   "nbconvert_exporter": "python",
   "pygments_lexer": "ipython3",
   "version": "3.9.15"
  },
  "orig_nbformat": 4,
  "vscode": {
   "interpreter": {
    "hash": "14e3b66b9136298b1438aa954b24fb6042eb4a7b64fe2e32b506f4a92d36ab42"
   }
  }
 },
 "nbformat": 4,
 "nbformat_minor": 2
}
