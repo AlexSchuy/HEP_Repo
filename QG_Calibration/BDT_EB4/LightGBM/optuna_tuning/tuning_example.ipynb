{
 "cells": [
  {
   "cell_type": "code",
   "execution_count": 2,
   "metadata": {},
   "outputs": [],
   "source": [
    "# https://practicaldatascience.co.uk/machine-learning/how-to-tune-a-lightgbmclassifier-model-with-optuna\n",
    "\n",
    "import optuna\n",
    "import lightgbm as lgb\n",
    "from sklearn.model_selection import train_test_split\n",
    "from sklearn.metrics import accuracy_score\n",
    "from sklearn.metrics import classification_report\n",
    "from sklearn.datasets import load_wine\n",
    "import optuna\n",
    "from optuna.samplers import TPESampler\n",
    "import pickle"
   ]
  },
  {
   "cell_type": "code",
   "execution_count": 3,
   "metadata": {},
   "outputs": [
    {
     "data": {
      "text/html": [
       "<div>\n",
       "<style scoped>\n",
       "    .dataframe tbody tr th:only-of-type {\n",
       "        vertical-align: middle;\n",
       "    }\n",
       "\n",
       "    .dataframe tbody tr th {\n",
       "        vertical-align: top;\n",
       "    }\n",
       "\n",
       "    .dataframe thead th {\n",
       "        text-align: right;\n",
       "    }\n",
       "</style>\n",
       "<table border=\"1\" class=\"dataframe\">\n",
       "  <thead>\n",
       "    <tr style=\"text-align: right;\">\n",
       "      <th></th>\n",
       "      <th>alcohol</th>\n",
       "      <th>malic_acid</th>\n",
       "      <th>ash</th>\n",
       "      <th>alcalinity_of_ash</th>\n",
       "      <th>magnesium</th>\n",
       "      <th>total_phenols</th>\n",
       "      <th>flavanoids</th>\n",
       "      <th>nonflavanoid_phenols</th>\n",
       "      <th>proanthocyanins</th>\n",
       "      <th>color_intensity</th>\n",
       "      <th>hue</th>\n",
       "      <th>od280/od315_of_diluted_wines</th>\n",
       "      <th>proline</th>\n",
       "    </tr>\n",
       "  </thead>\n",
       "  <tbody>\n",
       "    <tr>\n",
       "      <th>4</th>\n",
       "      <td>13.24</td>\n",
       "      <td>2.59</td>\n",
       "      <td>2.87</td>\n",
       "      <td>21.0</td>\n",
       "      <td>118.0</td>\n",
       "      <td>2.80</td>\n",
       "      <td>2.69</td>\n",
       "      <td>0.39</td>\n",
       "      <td>1.82</td>\n",
       "      <td>4.32</td>\n",
       "      <td>1.04</td>\n",
       "      <td>2.93</td>\n",
       "      <td>735.0</td>\n",
       "    </tr>\n",
       "    <tr>\n",
       "      <th>86</th>\n",
       "      <td>12.16</td>\n",
       "      <td>1.61</td>\n",
       "      <td>2.31</td>\n",
       "      <td>22.8</td>\n",
       "      <td>90.0</td>\n",
       "      <td>1.78</td>\n",
       "      <td>1.69</td>\n",
       "      <td>0.43</td>\n",
       "      <td>1.56</td>\n",
       "      <td>2.45</td>\n",
       "      <td>1.33</td>\n",
       "      <td>2.26</td>\n",
       "      <td>495.0</td>\n",
       "    </tr>\n",
       "    <tr>\n",
       "      <th>161</th>\n",
       "      <td>13.69</td>\n",
       "      <td>3.26</td>\n",
       "      <td>2.54</td>\n",
       "      <td>20.0</td>\n",
       "      <td>107.0</td>\n",
       "      <td>1.83</td>\n",
       "      <td>0.56</td>\n",
       "      <td>0.50</td>\n",
       "      <td>0.80</td>\n",
       "      <td>5.88</td>\n",
       "      <td>0.96</td>\n",
       "      <td>1.82</td>\n",
       "      <td>680.0</td>\n",
       "    </tr>\n",
       "    <tr>\n",
       "      <th>14</th>\n",
       "      <td>14.38</td>\n",
       "      <td>1.87</td>\n",
       "      <td>2.38</td>\n",
       "      <td>12.0</td>\n",
       "      <td>102.0</td>\n",
       "      <td>3.30</td>\n",
       "      <td>3.64</td>\n",
       "      <td>0.29</td>\n",
       "      <td>2.96</td>\n",
       "      <td>7.50</td>\n",
       "      <td>1.20</td>\n",
       "      <td>3.00</td>\n",
       "      <td>1547.0</td>\n",
       "    </tr>\n",
       "    <tr>\n",
       "      <th>118</th>\n",
       "      <td>12.77</td>\n",
       "      <td>3.43</td>\n",
       "      <td>1.98</td>\n",
       "      <td>16.0</td>\n",
       "      <td>80.0</td>\n",
       "      <td>1.63</td>\n",
       "      <td>1.25</td>\n",
       "      <td>0.43</td>\n",
       "      <td>0.83</td>\n",
       "      <td>3.40</td>\n",
       "      <td>0.70</td>\n",
       "      <td>2.12</td>\n",
       "      <td>372.0</td>\n",
       "    </tr>\n",
       "  </tbody>\n",
       "</table>\n",
       "</div>"
      ],
      "text/plain": [
       "     alcohol  malic_acid   ash  alcalinity_of_ash  magnesium  total_phenols  \\\n",
       "4      13.24        2.59  2.87               21.0      118.0           2.80   \n",
       "86     12.16        1.61  2.31               22.8       90.0           1.78   \n",
       "161    13.69        3.26  2.54               20.0      107.0           1.83   \n",
       "14     14.38        1.87  2.38               12.0      102.0           3.30   \n",
       "118    12.77        3.43  1.98               16.0       80.0           1.63   \n",
       "\n",
       "     flavanoids  nonflavanoid_phenols  proanthocyanins  color_intensity   hue  \\\n",
       "4          2.69                  0.39             1.82             4.32  1.04   \n",
       "86         1.69                  0.43             1.56             2.45  1.33   \n",
       "161        0.56                  0.50             0.80             5.88  0.96   \n",
       "14         3.64                  0.29             2.96             7.50  1.20   \n",
       "118        1.25                  0.43             0.83             3.40  0.70   \n",
       "\n",
       "     od280/od315_of_diluted_wines  proline  \n",
       "4                            2.93    735.0  \n",
       "86                           2.26    495.0  \n",
       "161                          1.82    680.0  \n",
       "14                           3.00   1547.0  \n",
       "118                          2.12    372.0  "
      ]
     },
     "execution_count": 3,
     "metadata": {},
     "output_type": "execute_result"
    }
   ],
   "source": [
    "X, y = load_wine(return_X_y=True, as_frame=True)\n",
    "X.sample(5)\n"
   ]
  },
  {
   "cell_type": "code",
   "execution_count": 4,
   "metadata": {},
   "outputs": [
    {
     "data": {
      "text/plain": [
       "1    71\n",
       "0    59\n",
       "2    48\n",
       "Name: target, dtype: int64"
      ]
     },
     "execution_count": 4,
     "metadata": {},
     "output_type": "execute_result"
    }
   ],
   "source": [
    "y.value_counts()"
   ]
  },
  {
   "cell_type": "code",
   "execution_count": 5,
   "metadata": {},
   "outputs": [
    {
     "data": {
      "text/html": [
       "<style>#sk-container-id-1 {color: black;background-color: white;}#sk-container-id-1 pre{padding: 0;}#sk-container-id-1 div.sk-toggleable {background-color: white;}#sk-container-id-1 label.sk-toggleable__label {cursor: pointer;display: block;width: 100%;margin-bottom: 0;padding: 0.3em;box-sizing: border-box;text-align: center;}#sk-container-id-1 label.sk-toggleable__label-arrow:before {content: \"▸\";float: left;margin-right: 0.25em;color: #696969;}#sk-container-id-1 label.sk-toggleable__label-arrow:hover:before {color: black;}#sk-container-id-1 div.sk-estimator:hover label.sk-toggleable__label-arrow:before {color: black;}#sk-container-id-1 div.sk-toggleable__content {max-height: 0;max-width: 0;overflow: hidden;text-align: left;background-color: #f0f8ff;}#sk-container-id-1 div.sk-toggleable__content pre {margin: 0.2em;color: black;border-radius: 0.25em;background-color: #f0f8ff;}#sk-container-id-1 input.sk-toggleable__control:checked~div.sk-toggleable__content {max-height: 200px;max-width: 100%;overflow: auto;}#sk-container-id-1 input.sk-toggleable__control:checked~label.sk-toggleable__label-arrow:before {content: \"▾\";}#sk-container-id-1 div.sk-estimator input.sk-toggleable__control:checked~label.sk-toggleable__label {background-color: #d4ebff;}#sk-container-id-1 div.sk-label input.sk-toggleable__control:checked~label.sk-toggleable__label {background-color: #d4ebff;}#sk-container-id-1 input.sk-hidden--visually {border: 0;clip: rect(1px 1px 1px 1px);clip: rect(1px, 1px, 1px, 1px);height: 1px;margin: -1px;overflow: hidden;padding: 0;position: absolute;width: 1px;}#sk-container-id-1 div.sk-estimator {font-family: monospace;background-color: #f0f8ff;border: 1px dotted black;border-radius: 0.25em;box-sizing: border-box;margin-bottom: 0.5em;}#sk-container-id-1 div.sk-estimator:hover {background-color: #d4ebff;}#sk-container-id-1 div.sk-parallel-item::after {content: \"\";width: 100%;border-bottom: 1px solid gray;flex-grow: 1;}#sk-container-id-1 div.sk-label:hover label.sk-toggleable__label {background-color: #d4ebff;}#sk-container-id-1 div.sk-serial::before {content: \"\";position: absolute;border-left: 1px solid gray;box-sizing: border-box;top: 0;bottom: 0;left: 50%;z-index: 0;}#sk-container-id-1 div.sk-serial {display: flex;flex-direction: column;align-items: center;background-color: white;padding-right: 0.2em;padding-left: 0.2em;position: relative;}#sk-container-id-1 div.sk-item {position: relative;z-index: 1;}#sk-container-id-1 div.sk-parallel {display: flex;align-items: stretch;justify-content: center;background-color: white;position: relative;}#sk-container-id-1 div.sk-item::before, #sk-container-id-1 div.sk-parallel-item::before {content: \"\";position: absolute;border-left: 1px solid gray;box-sizing: border-box;top: 0;bottom: 0;left: 50%;z-index: -1;}#sk-container-id-1 div.sk-parallel-item {display: flex;flex-direction: column;z-index: 1;position: relative;background-color: white;}#sk-container-id-1 div.sk-parallel-item:first-child::after {align-self: flex-end;width: 50%;}#sk-container-id-1 div.sk-parallel-item:last-child::after {align-self: flex-start;width: 50%;}#sk-container-id-1 div.sk-parallel-item:only-child::after {width: 0;}#sk-container-id-1 div.sk-dashed-wrapped {border: 1px dashed gray;margin: 0 0.4em 0.5em 0.4em;box-sizing: border-box;padding-bottom: 0.4em;background-color: white;}#sk-container-id-1 div.sk-label label {font-family: monospace;font-weight: bold;display: inline-block;line-height: 1.2em;}#sk-container-id-1 div.sk-label-container {text-align: center;}#sk-container-id-1 div.sk-container {/* jupyter's `normalize.less` sets `[hidden] { display: none; }` but bootstrap.min.css set `[hidden] { display: none !important; }` so we also need the `!important` here to be able to override the default hidden behavior on the sphinx rendered scikit-learn.org. See: https://github.com/scikit-learn/scikit-learn/issues/21755 */display: inline-block !important;position: relative;}#sk-container-id-1 div.sk-text-repr-fallback {display: none;}</style><div id=\"sk-container-id-1\" class=\"sk-top-container\"><div class=\"sk-text-repr-fallback\"><pre>LGBMClassifier()</pre><b>In a Jupyter environment, please rerun this cell to show the HTML representation or trust the notebook. <br />On GitHub, the HTML representation is unable to render, please try loading this page with nbviewer.org.</b></div><div class=\"sk-container\" hidden><div class=\"sk-item\"><div class=\"sk-estimator sk-toggleable\"><input class=\"sk-toggleable__control sk-hidden--visually\" id=\"sk-estimator-id-1\" type=\"checkbox\" checked><label for=\"sk-estimator-id-1\" class=\"sk-toggleable__label sk-toggleable__label-arrow\">LGBMClassifier</label><div class=\"sk-toggleable__content\"><pre>LGBMClassifier()</pre></div></div></div></div></div>"
      ],
      "text/plain": [
       "LGBMClassifier()"
      ]
     },
     "execution_count": 5,
     "metadata": {},
     "output_type": "execute_result"
    }
   ],
   "source": [
    "X_train, X_test, y_train, y_test = train_test_split(X, y, test_size=0.3, random_state=1)\n",
    "base_model = lgb.LGBMClassifier()\n",
    "base_model.fit(X_train, y_train)\n"
   ]
  },
  {
   "cell_type": "code",
   "execution_count": 6,
   "metadata": {},
   "outputs": [
    {
     "data": {
      "text/plain": [
       "array([2, 1, 0, 1, 0, 2, 1, 0, 2, 1, 0, 0, 1, 0, 1, 1, 2, 0, 1, 0, 0, 1,\n",
       "       2, 0, 0, 2, 0, 0, 0, 2, 1, 2, 2, 0, 1, 1, 1, 1, 1, 0, 0, 1, 2, 0,\n",
       "       0, 0, 1, 0, 0, 0, 1, 2, 2, 0])"
      ]
     },
     "execution_count": 6,
     "metadata": {},
     "output_type": "execute_result"
    }
   ],
   "source": [
    "y_pred = base_model.predict(X_test)\n",
    "y_pred\n"
   ]
  },
  {
   "cell_type": "code",
   "execution_count": 7,
   "metadata": {},
   "outputs": [
    {
     "data": {
      "text/plain": [
       "0.9814814814814815"
      ]
     },
     "execution_count": 7,
     "metadata": {},
     "output_type": "execute_result"
    }
   ],
   "source": [
    "accuracy_score(y_test, y_pred)"
   ]
  },
  {
   "cell_type": "code",
   "execution_count": 8,
   "metadata": {},
   "outputs": [
    {
     "name": "stdout",
     "output_type": "stream",
     "text": [
      "              precision    recall  f1-score   support\n",
      "\n",
      "           0       0.96      1.00      0.98        23\n",
      "           1       1.00      0.95      0.97        19\n",
      "           2       1.00      1.00      1.00        12\n",
      "\n",
      "    accuracy                           0.98        54\n",
      "   macro avg       0.99      0.98      0.98        54\n",
      "weighted avg       0.98      0.98      0.98        54\n",
      "\n"
     ]
    }
   ],
   "source": [
    "print(classification_report(y_test, y_pred))"
   ]
  },
  {
   "cell_type": "code",
   "execution_count": 9,
   "metadata": {},
   "outputs": [],
   "source": [
    "def objective(trial):\n",
    "    \"\"\"\n",
    "    Objective function to be minimized.\n",
    "    \"\"\"\n",
    "    param = {\n",
    "        \"objective\": \"multiclass\",\n",
    "        \"metric\": \"multi_logloss\",\n",
    "        \"verbosity\": -1,\n",
    "        \"boosting_type\": \"gbdt\",\n",
    "        \"num_class\": 3,\n",
    "        \"lambda_l1\": trial.suggest_float(\"lambda_l1\", 1e-8, 10.0, log=True),\n",
    "        \"lambda_l2\": trial.suggest_float(\"lambda_l2\", 1e-8, 10.0, log=True),\n",
    "        \"num_leaves\": trial.suggest_int(\"num_leaves\", 2, 256),\n",
    "        \"feature_fraction\": trial.suggest_float(\"feature_fraction\", 0.4, 1.0),\n",
    "        \"bagging_fraction\": trial.suggest_float(\"bagging_fraction\", 0.4, 1.0),\n",
    "        \"bagging_freq\": trial.suggest_int(\"bagging_freq\", 1, 7),\n",
    "        \"min_child_samples\": trial.suggest_int(\"min_child_samples\", 5, 100),\n",
    "    }\n",
    "    gbm = lgb.LGBMClassifier(**param)\n",
    "    gbm.fit(X_train, y_train)\n",
    "    preds = gbm.predict(X_test)\n",
    "    accuracy = accuracy_score(y_test, preds)\n",
    "    return accuracy\n"
   ]
  },
  {
   "cell_type": "code",
   "execution_count": 10,
   "metadata": {},
   "outputs": [
    {
     "name": "stderr",
     "output_type": "stream",
     "text": [
      "\u001b[32m[I 2023-01-24 09:33:52,310]\u001b[0m A new study created in memory with name: lightgbm\u001b[0m\n"
     ]
    },
    {
     "name": "stdout",
     "output_type": "stream",
     "text": [
      "[LightGBM] [Warning] bagging_fraction is set=0.48805353449026784, subsample=1.0 will be ignored. Current value: bagging_fraction=0.48805353449026784\n",
      "[LightGBM] [Warning] lambda_l1 is set=5.6649755830282306e-05, reg_alpha=0.0 will be ignored. Current value: lambda_l1=5.6649755830282306e-05\n",
      "[LightGBM] [Warning] feature_fraction is set=0.5813995435791038, colsample_bytree=1.0 will be ignored. Current value: feature_fraction=0.5813995435791038\n",
      "[LightGBM] [Warning] lambda_l2 is set=0.030403280126677572, reg_lambda=0.0 will be ignored. Current value: lambda_l2=0.030403280126677572\n",
      "[LightGBM] [Warning] bagging_freq is set=1, subsample_freq=0 will be ignored. Current value: bagging_freq=1\n"
     ]
    },
    {
     "name": "stderr",
     "output_type": "stream",
     "text": [
      "\u001b[32m[I 2023-01-24 09:33:53,739]\u001b[0m Trial 0 finished with value: 0.9814814814814815 and parameters: {'lambda_l1': 5.6649755830282306e-05, 'lambda_l2': 0.030403280126677572, 'num_leaves': 2, 'feature_fraction': 0.5813995435791038, 'bagging_fraction': 0.48805353449026784, 'bagging_freq': 1, 'min_child_samples': 22}. Best is trial 0 with value: 0.9814814814814815.\u001b[0m\n"
     ]
    },
    {
     "name": "stdout",
     "output_type": "stream",
     "text": [
      "[LightGBM] [Warning] bagging_fraction is set=0.8111317002380557, subsample=1.0 will be ignored. Current value: bagging_fraction=0.8111317002380557\n",
      "[LightGBM] [Warning] lambda_l1 is set=1.2883876209377052e-05, reg_alpha=0.0 will be ignored. Current value: lambda_l1=1.2883876209377052e-05\n",
      "[LightGBM] [Warning] feature_fraction is set=0.6515167086419769, colsample_bytree=1.0 will be ignored. Current value: feature_fraction=0.6515167086419769\n",
      "[LightGBM] [Warning] lambda_l2 is set=3.72312200494449e-05, reg_lambda=0.0 will be ignored. Current value: lambda_l2=3.72312200494449e-05\n",
      "[LightGBM] [Warning] bagging_freq is set=2, subsample_freq=0 will be ignored. Current value: bagging_freq=2\n"
     ]
    },
    {
     "name": "stderr",
     "output_type": "stream",
     "text": [
      "\u001b[32m[I 2023-01-24 09:33:54,034]\u001b[0m Trial 1 finished with value: 0.35185185185185186 and parameters: {'lambda_l1': 1.2883876209377052e-05, 'lambda_l2': 3.72312200494449e-05, 'num_leaves': 139, 'feature_fraction': 0.6515167086419769, 'bagging_fraction': 0.8111317002380557, 'bagging_freq': 2, 'min_child_samples': 89}. Best is trial 0 with value: 0.9814814814814815.\u001b[0m\n"
     ]
    },
    {
     "name": "stdout",
     "output_type": "stream",
     "text": [
      "[LightGBM] [Warning] bagging_fraction is set=0.4842321631571403, subsample=1.0 will be ignored. Current value: bagging_fraction=0.4842321631571403\n",
      "[LightGBM] [Warning] lambda_l1 is set=1.763958399884789e-08, reg_alpha=0.0 will be ignored. Current value: lambda_l1=1.763958399884789e-08\n",
      "[LightGBM] [Warning] feature_fraction is set=0.735213897067451, colsample_bytree=1.0 will be ignored. Current value: feature_fraction=0.735213897067451\n",
      "[LightGBM] [Warning] lambda_l2 is set=0.010819509974097813, reg_lambda=0.0 will be ignored. Current value: lambda_l2=0.010819509974097813\n",
      "[LightGBM] [Warning] bagging_freq is set=2, subsample_freq=0 will be ignored. Current value: bagging_freq=2\n"
     ]
    },
    {
     "name": "stderr",
     "output_type": "stream",
     "text": [
      "\u001b[32m[I 2023-01-24 09:33:54,323]\u001b[0m Trial 2 finished with value: 0.35185185185185186 and parameters: {'lambda_l1': 1.763958399884789e-08, 'lambda_l2': 0.010819509974097813, 'num_leaves': 108, 'feature_fraction': 0.735213897067451, 'bagging_fraction': 0.4842321631571403, 'bagging_freq': 2, 'min_child_samples': 81}. Best is trial 0 with value: 0.9814814814814815.\u001b[0m\n"
     ]
    },
    {
     "name": "stdout",
     "output_type": "stream",
     "text": [
      "[LightGBM] [Warning] bagging_fraction is set=0.9367639981023084, subsample=1.0 will be ignored. Current value: bagging_fraction=0.9367639981023084\n",
      "[LightGBM] [Warning] lambda_l1 is set=5.180291295699627, reg_alpha=0.0 will be ignored. Current value: lambda_l1=5.180291295699627\n",
      "[LightGBM] [Warning] feature_fraction is set=0.9258334913776229, colsample_bytree=1.0 will be ignored. Current value: feature_fraction=0.9258334913776229\n",
      "[LightGBM] [Warning] lambda_l2 is set=6.6193844201488494e-06, reg_lambda=0.0 will be ignored. Current value: lambda_l2=6.6193844201488494e-06\n",
      "[LightGBM] [Warning] bagging_freq is set=1, subsample_freq=0 will be ignored. Current value: bagging_freq=1\n"
     ]
    },
    {
     "name": "stderr",
     "output_type": "stream",
     "text": [
      "\u001b[32m[I 2023-01-24 09:33:55,223]\u001b[0m Trial 3 finished with value: 0.9814814814814815 and parameters: {'lambda_l1': 5.180291295699627, 'lambda_l2': 6.6193844201488494e-06, 'num_leaves': 178, 'feature_fraction': 0.9258334913776229, 'bagging_fraction': 0.9367639981023084, 'bagging_freq': 1, 'min_child_samples': 8}. Best is trial 0 with value: 0.9814814814814815.\u001b[0m\n",
      "\u001b[32m[I 2023-01-24 09:33:55,240]\u001b[0m Trial 4 finished with value: 0.35185185185185186 and parameters: {'lambda_l1': 3.376554594427989e-07, 'lambda_l2': 0.8003547575557912, 'num_leaves': 27, 'feature_fraction': 0.6526645750030313, 'bagging_fraction': 0.9747337180903012, 'bagging_freq': 4, 'min_child_samples': 71}. Best is trial 0 with value: 0.9814814814814815.\u001b[0m\n"
     ]
    },
    {
     "name": "stdout",
     "output_type": "stream",
     "text": [
      "[LightGBM] [Warning] bagging_fraction is set=0.9747337180903012, subsample=1.0 will be ignored. Current value: bagging_fraction=0.9747337180903012\n",
      "[LightGBM] [Warning] lambda_l1 is set=3.376554594427989e-07, reg_alpha=0.0 will be ignored. Current value: lambda_l1=3.376554594427989e-07\n",
      "[LightGBM] [Warning] feature_fraction is set=0.6526645750030313, colsample_bytree=1.0 will be ignored. Current value: feature_fraction=0.6526645750030313\n",
      "[LightGBM] [Warning] lambda_l2 is set=0.8003547575557912, reg_lambda=0.0 will be ignored. Current value: lambda_l2=0.8003547575557912\n",
      "[LightGBM] [Warning] bagging_freq is set=4, subsample_freq=0 will be ignored. Current value: bagging_freq=4\n",
      "[LightGBM] [Warning] bagging_fraction is set=0.8500865889669804, subsample=1.0 will be ignored. Current value: bagging_fraction=0.8500865889669804\n",
      "[LightGBM] [Warning] lambda_l1 is set=6.912588094940543e-06, reg_alpha=0.0 will be ignored. Current value: lambda_l1=6.912588094940543e-06\n",
      "[LightGBM] [Warning] feature_fraction is set=0.4109729664065151, colsample_bytree=1.0 will be ignored. Current value: feature_fraction=0.4109729664065151\n",
      "[LightGBM] [Warning] lambda_l2 is set=0.015083716080906013, reg_lambda=0.0 will be ignored. Current value: lambda_l2=0.015083716080906013\n",
      "[LightGBM] [Warning] bagging_freq is set=7, subsample_freq=0 will be ignored. Current value: bagging_freq=7\n"
     ]
    },
    {
     "name": "stderr",
     "output_type": "stream",
     "text": [
      "\u001b[32m[I 2023-01-24 09:33:55,428]\u001b[0m Trial 5 finished with value: 0.35185185185185186 and parameters: {'lambda_l1': 6.912588094940543e-06, 'lambda_l2': 0.015083716080906013, 'num_leaves': 214, 'feature_fraction': 0.4109729664065151, 'bagging_fraction': 0.8500865889669804, 'bagging_freq': 7, 'min_child_samples': 76}. Best is trial 0 with value: 0.9814814814814815.\u001b[0m\n"
     ]
    },
    {
     "name": "stdout",
     "output_type": "stream",
     "text": [
      "[LightGBM] [Warning] bagging_fraction is set=0.9451573018558573, subsample=1.0 will be ignored. Current value: bagging_fraction=0.9451573018558573\n",
      "[LightGBM] [Warning] lambda_l1 is set=3.341919070318744e-06, reg_alpha=0.0 will be ignored. Current value: lambda_l1=3.341919070318744e-06\n",
      "[LightGBM] [Warning] feature_fraction is set=0.6687361157055431, colsample_bytree=1.0 will be ignored. Current value: feature_fraction=0.6687361157055431\n",
      "[LightGBM] [Warning] lambda_l2 is set=0.12691529280491062, reg_lambda=0.0 will be ignored. Current value: lambda_l2=0.12691529280491062\n",
      "[LightGBM] [Warning] bagging_freq is set=3, subsample_freq=0 will be ignored. Current value: bagging_freq=3\n"
     ]
    },
    {
     "name": "stderr",
     "output_type": "stream",
     "text": [
      "\u001b[32m[I 2023-01-24 09:33:56,424]\u001b[0m Trial 6 finished with value: 0.9814814814814815 and parameters: {'lambda_l1': 3.341919070318744e-06, 'lambda_l2': 0.12691529280491062, 'num_leaves': 28, 'feature_fraction': 0.6687361157055431, 'bagging_fraction': 0.9451573018558573, 'bagging_freq': 3, 'min_child_samples': 32}. Best is trial 0 with value: 0.9814814814814815.\u001b[0m\n"
     ]
    },
    {
     "name": "stdout",
     "output_type": "stream",
     "text": [
      "[LightGBM] [Warning] bagging_fraction is set=0.5593279956233357, subsample=1.0 will be ignored. Current value: bagging_fraction=0.5593279956233357\n",
      "[LightGBM] [Warning] lambda_l1 is set=1.4799844388224288e-07, reg_alpha=0.0 will be ignored. Current value: lambda_l1=1.4799844388224288e-07\n",
      "[LightGBM] [Warning] feature_fraction is set=0.5269768696000354, colsample_bytree=1.0 will be ignored. Current value: feature_fraction=0.5269768696000354\n",
      "[LightGBM] [Warning] lambda_l2 is set=1.493834966470408e-08, reg_lambda=0.0 will be ignored. Current value: lambda_l2=1.493834966470408e-08\n",
      "[LightGBM] [Warning] bagging_freq is set=4, subsample_freq=0 will be ignored. Current value: bagging_freq=4\n"
     ]
    },
    {
     "name": "stderr",
     "output_type": "stream",
     "text": [
      "\u001b[32m[I 2023-01-24 09:33:57,741]\u001b[0m Trial 7 finished with value: 0.9814814814814815 and parameters: {'lambda_l1': 1.4799844388224288e-07, 'lambda_l2': 1.493834966470408e-08, 'num_leaves': 175, 'feature_fraction': 0.5269768696000354, 'bagging_fraction': 0.5593279956233357, 'bagging_freq': 4, 'min_child_samples': 10}. Best is trial 0 with value: 0.9814814814814815.\u001b[0m\n",
      "\u001b[32m[I 2023-01-24 09:33:57,836]\u001b[0m Trial 8 finished with value: 0.35185185185185186 and parameters: {'lambda_l1': 0.0014691239860705116, 'lambda_l2': 2.091978294467618e-07, 'num_leaves': 152, 'feature_fraction': 0.8198550160125587, 'bagging_fraction': 0.46140065729669555, 'bagging_freq': 3, 'min_child_samples': 71}. Best is trial 0 with value: 0.9814814814814815.\u001b[0m\n"
     ]
    },
    {
     "name": "stdout",
     "output_type": "stream",
     "text": [
      "[LightGBM] [Warning] bagging_fraction is set=0.46140065729669555, subsample=1.0 will be ignored. Current value: bagging_fraction=0.46140065729669555\n",
      "[LightGBM] [Warning] lambda_l1 is set=0.0014691239860705116, reg_alpha=0.0 will be ignored. Current value: lambda_l1=0.0014691239860705116\n",
      "[LightGBM] [Warning] feature_fraction is set=0.8198550160125587, colsample_bytree=1.0 will be ignored. Current value: feature_fraction=0.8198550160125587\n",
      "[LightGBM] [Warning] lambda_l2 is set=2.091978294467618e-07, reg_lambda=0.0 will be ignored. Current value: lambda_l2=2.091978294467618e-07\n",
      "[LightGBM] [Warning] bagging_freq is set=3, subsample_freq=0 will be ignored. Current value: bagging_freq=3\n",
      "[LightGBM] [Warning] bagging_fraction is set=0.7089334672349852, subsample=1.0 will be ignored. Current value: bagging_fraction=0.7089334672349852\n",
      "[LightGBM] [Warning] lambda_l1 is set=5.340887446119036e-05, reg_alpha=0.0 will be ignored. Current value: lambda_l1=5.340887446119036e-05\n",
      "[LightGBM] [Warning] feature_fraction is set=0.7982767871318732, colsample_bytree=1.0 will be ignored. Current value: feature_fraction=0.7982767871318732\n",
      "[LightGBM] [Warning] lambda_l2 is set=2.8156659603215856e-08, reg_lambda=0.0 will be ignored. Current value: lambda_l2=2.8156659603215856e-08\n",
      "[LightGBM] [Warning] bagging_freq is set=7, subsample_freq=0 will be ignored. Current value: bagging_freq=7\n"
     ]
    },
    {
     "name": "stderr",
     "output_type": "stream",
     "text": [
      "\u001b[32m[I 2023-01-24 09:33:58,021]\u001b[0m Trial 9 finished with value: 0.35185185185185186 and parameters: {'lambda_l1': 5.340887446119036e-05, 'lambda_l2': 2.8156659603215856e-08, 'num_leaves': 138, 'feature_fraction': 0.7982767871318732, 'bagging_fraction': 0.7089334672349852, 'bagging_freq': 7, 'min_child_samples': 61}. Best is trial 0 with value: 0.9814814814814815.\u001b[0m\n",
      "\u001b[32m[I 2023-01-24 09:33:58,229]\u001b[0m Trial 10 finished with value: 0.35185185185185186 and parameters: {'lambda_l1': 0.0019817863727111733, 'lambda_l2': 5.204648400006481, 'num_leaves': 75, 'feature_fraction': 0.5308730052691436, 'bagging_fraction': 0.4058437913400117, 'bagging_freq': 6, 'min_child_samples': 36}. Best is trial 0 with value: 0.9814814814814815.\u001b[0m\n"
     ]
    },
    {
     "name": "stdout",
     "output_type": "stream",
     "text": [
      "[LightGBM] [Warning] bagging_fraction is set=0.4058437913400117, subsample=1.0 will be ignored. Current value: bagging_fraction=0.4058437913400117\n",
      "[LightGBM] [Warning] lambda_l1 is set=0.0019817863727111733, reg_alpha=0.0 will be ignored. Current value: lambda_l1=0.0019817863727111733\n",
      "[LightGBM] [Warning] feature_fraction is set=0.5308730052691436, colsample_bytree=1.0 will be ignored. Current value: feature_fraction=0.5308730052691436\n",
      "[LightGBM] [Warning] lambda_l2 is set=5.204648400006481, reg_lambda=0.0 will be ignored. Current value: lambda_l2=5.204648400006481\n",
      "[LightGBM] [Warning] bagging_freq is set=6, subsample_freq=0 will be ignored. Current value: bagging_freq=6\n",
      "[LightGBM] [Warning] bagging_fraction is set=0.6179464317780037, subsample=1.0 will be ignored. Current value: bagging_fraction=0.6179464317780037\n",
      "[LightGBM] [Warning] lambda_l1 is set=8.719936350891075, reg_alpha=0.0 will be ignored. Current value: lambda_l1=8.719936350891075\n",
      "[LightGBM] [Warning] feature_fraction is set=0.9978831755987974, colsample_bytree=1.0 will be ignored. Current value: feature_fraction=0.9978831755987974\n",
      "[LightGBM] [Warning] lambda_l2 is set=0.00013871569811411266, reg_lambda=0.0 will be ignored. Current value: lambda_l2=0.00013871569811411266\n",
      "[LightGBM] [Warning] bagging_freq is set=1, subsample_freq=0 will be ignored. Current value: bagging_freq=1\n"
     ]
    },
    {
     "name": "stderr",
     "output_type": "stream",
     "text": [
      "\u001b[32m[I 2023-01-24 09:33:58,734]\u001b[0m Trial 11 finished with value: 0.9444444444444444 and parameters: {'lambda_l1': 8.719936350891075, 'lambda_l2': 0.00013871569811411266, 'num_leaves': 251, 'feature_fraction': 0.9978831755987974, 'bagging_fraction': 0.6179464317780037, 'bagging_freq': 1, 'min_child_samples': 6}. Best is trial 0 with value: 0.9814814814814815.\u001b[0m\n"
     ]
    },
    {
     "name": "stdout",
     "output_type": "stream",
     "text": [
      "[LightGBM] [Warning] bagging_fraction is set=0.6890774326794327, subsample=1.0 will be ignored. Current value: bagging_fraction=0.6890774326794327\n",
      "[LightGBM] [Warning] lambda_l1 is set=0.09742812469140723, reg_alpha=0.0 will be ignored. Current value: lambda_l1=0.09742812469140723\n",
      "[LightGBM] [Warning] feature_fraction is set=0.9950537581816887, colsample_bytree=1.0 will be ignored. Current value: feature_fraction=0.9950537581816887\n",
      "[LightGBM] [Warning] lambda_l2 is set=5.135473512159987e-06, reg_lambda=0.0 will be ignored. Current value: lambda_l2=5.135473512159987e-06\n",
      "[LightGBM] [Warning] bagging_freq is set=1, subsample_freq=0 will be ignored. Current value: bagging_freq=1\n"
     ]
    },
    {
     "name": "stderr",
     "output_type": "stream",
     "text": [
      "\u001b[32m[I 2023-01-24 09:33:59,438]\u001b[0m Trial 12 finished with value: 0.9814814814814815 and parameters: {'lambda_l1': 0.09742812469140723, 'lambda_l2': 5.135473512159987e-06, 'num_leaves': 79, 'feature_fraction': 0.9950537581816887, 'bagging_fraction': 0.6890774326794327, 'bagging_freq': 1, 'min_child_samples': 24}. Best is trial 0 with value: 0.9814814814814815.\u001b[0m\n",
      "\u001b[32m[I 2023-01-24 09:33:59,640]\u001b[0m Trial 13 finished with value: 0.35185185185185186 and parameters: {'lambda_l1': 0.0184782244610177, 'lambda_l2': 0.0017279981672274044, 'num_leaves': 198, 'feature_fraction': 0.9041672801316589, 'bagging_fraction': 0.5617187244481492, 'bagging_freq': 1, 'min_child_samples': 42}. Best is trial 0 with value: 0.9814814814814815.\u001b[0m\n"
     ]
    },
    {
     "name": "stdout",
     "output_type": "stream",
     "text": [
      "[LightGBM] [Warning] bagging_fraction is set=0.5617187244481492, subsample=1.0 will be ignored. Current value: bagging_fraction=0.5617187244481492\n",
      "[LightGBM] [Warning] lambda_l1 is set=0.0184782244610177, reg_alpha=0.0 will be ignored. Current value: lambda_l1=0.0184782244610177\n",
      "[LightGBM] [Warning] feature_fraction is set=0.9041672801316589, colsample_bytree=1.0 will be ignored. Current value: feature_fraction=0.9041672801316589\n",
      "[LightGBM] [Warning] lambda_l2 is set=0.0017279981672274044, reg_lambda=0.0 will be ignored. Current value: lambda_l2=0.0017279981672274044\n",
      "[LightGBM] [Warning] bagging_freq is set=1, subsample_freq=0 will be ignored. Current value: bagging_freq=1\n",
      "[LightGBM] [Warning] bagging_fraction is set=0.8661563398409448, subsample=1.0 will be ignored. Current value: bagging_fraction=0.8661563398409448\n",
      "[LightGBM] [Warning] lambda_l1 is set=9.81855410815485, reg_alpha=0.0 will be ignored. Current value: lambda_l1=9.81855410815485\n",
      "[LightGBM] [Warning] feature_fraction is set=0.8844458592179963, colsample_bytree=1.0 will be ignored. Current value: feature_fraction=0.8844458592179963\n",
      "[LightGBM] [Warning] lambda_l2 is set=5.0988035718136486e-06, reg_lambda=0.0 will be ignored. Current value: lambda_l2=5.0988035718136486e-06\n",
      "[LightGBM] [Warning] bagging_freq is set=2, subsample_freq=0 will be ignored. Current value: bagging_freq=2\n"
     ]
    },
    {
     "name": "stderr",
     "output_type": "stream",
     "text": [
      "\u001b[32m[I 2023-01-24 09:34:00,220]\u001b[0m Trial 14 finished with value: 1.0 and parameters: {'lambda_l1': 9.81855410815485, 'lambda_l2': 5.0988035718136486e-06, 'num_leaves': 4, 'feature_fraction': 0.8844458592179963, 'bagging_fraction': 0.8661563398409448, 'bagging_freq': 2, 'min_child_samples': 17}. Best is trial 14 with value: 1.0.\u001b[0m\n"
     ]
    },
    {
     "name": "stdout",
     "output_type": "stream",
     "text": [
      "[LightGBM] [Warning] bagging_fraction is set=0.7834030817237749, subsample=1.0 will be ignored. Current value: bagging_fraction=0.7834030817237749\n",
      "[LightGBM] [Warning] lambda_l1 is set=0.00016270104442281649, reg_alpha=0.0 will be ignored. Current value: lambda_l1=0.00016270104442281649\n",
      "[LightGBM] [Warning] feature_fraction is set=0.7681099279997672, colsample_bytree=1.0 will be ignored. Current value: feature_fraction=0.7681099279997672\n",
      "[LightGBM] [Warning] lambda_l2 is set=0.0011279883390374332, reg_lambda=0.0 will be ignored. Current value: lambda_l2=0.0011279883390374332\n",
      "[LightGBM] [Warning] bagging_freq is set=2, subsample_freq=0 will be ignored. Current value: bagging_freq=2\n"
     ]
    },
    {
     "name": "stderr",
     "output_type": "stream",
     "text": [
      "\u001b[32m[I 2023-01-24 09:34:02,031]\u001b[0m Trial 15 finished with value: 0.9814814814814815 and parameters: {'lambda_l1': 0.00016270104442281649, 'lambda_l2': 0.0011279883390374332, 'num_leaves': 2, 'feature_fraction': 0.7681099279997672, 'bagging_fraction': 0.7834030817237749, 'bagging_freq': 2, 'min_child_samples': 22}. Best is trial 14 with value: 1.0.\u001b[0m\n"
     ]
    },
    {
     "name": "stdout",
     "output_type": "stream",
     "text": [
      "[LightGBM] [Warning] bagging_fraction is set=0.8807793812230665, subsample=1.0 will be ignored. Current value: bagging_fraction=0.8807793812230665\n",
      "[LightGBM] [Warning] lambda_l1 is set=0.4160822459679812, reg_alpha=0.0 will be ignored. Current value: lambda_l1=0.4160822459679812\n",
      "[LightGBM] [Warning] feature_fraction is set=0.832405592481768, colsample_bytree=1.0 will be ignored. Current value: feature_fraction=0.832405592481768\n",
      "[LightGBM] [Warning] lambda_l2 is set=1.133909140507575e-06, reg_lambda=0.0 will be ignored. Current value: lambda_l2=1.133909140507575e-06\n",
      "[LightGBM] [Warning] bagging_freq is set=5, subsample_freq=0 will be ignored. Current value: bagging_freq=5\n"
     ]
    },
    {
     "name": "stderr",
     "output_type": "stream",
     "text": [
      "\u001b[32m[I 2023-01-24 09:34:03,633]\u001b[0m Trial 16 finished with value: 0.9814814814814815 and parameters: {'lambda_l1': 0.4160822459679812, 'lambda_l2': 1.133909140507575e-06, 'num_leaves': 53, 'feature_fraction': 0.832405592481768, 'bagging_fraction': 0.8807793812230665, 'bagging_freq': 5, 'min_child_samples': 51}. Best is trial 14 with value: 1.0.\u001b[0m\n"
     ]
    },
    {
     "name": "stdout",
     "output_type": "stream",
     "text": [
      "[LightGBM] [Warning] bagging_fraction is set=0.7362384658762234, subsample=1.0 will be ignored. Current value: bagging_fraction=0.7362384658762234\n",
      "[LightGBM] [Warning] lambda_l1 is set=0.001852446224620256, reg_alpha=0.0 will be ignored. Current value: lambda_l1=0.001852446224620256\n",
      "[LightGBM] [Warning] feature_fraction is set=0.7172262215754245, colsample_bytree=1.0 will be ignored. Current value: feature_fraction=0.7172262215754245\n",
      "[LightGBM] [Warning] lambda_l2 is set=0.00015128527422151287, reg_lambda=0.0 will be ignored. Current value: lambda_l2=0.00015128527422151287\n",
      "[LightGBM] [Warning] bagging_freq is set=3, subsample_freq=0 will be ignored. Current value: bagging_freq=3\n"
     ]
    },
    {
     "name": "stderr",
     "output_type": "stream",
     "text": [
      "\u001b[32m[I 2023-01-24 09:34:04,719]\u001b[0m Trial 17 finished with value: 0.9814814814814815 and parameters: {'lambda_l1': 0.001852446224620256, 'lambda_l2': 0.00015128527422151287, 'num_leaves': 7, 'feature_fraction': 0.7172262215754245, 'bagging_fraction': 0.7362384658762234, 'bagging_freq': 3, 'min_child_samples': 20}. Best is trial 14 with value: 1.0.\u001b[0m\n",
      "\u001b[32m[I 2023-01-24 09:34:04,930]\u001b[0m Trial 18 finished with value: 0.35185185185185186 and parameters: {'lambda_l1': 0.021679781554279322, 'lambda_l2': 0.06461238211345373, 'num_leaves': 104, 'feature_fraction': 0.8805594093882021, 'bagging_fraction': 0.6589145602643988, 'bagging_freq': 2, 'min_child_samples': 49}. Best is trial 14 with value: 1.0.\u001b[0m\n"
     ]
    },
    {
     "name": "stdout",
     "output_type": "stream",
     "text": [
      "[LightGBM] [Warning] bagging_fraction is set=0.6589145602643988, subsample=1.0 will be ignored. Current value: bagging_fraction=0.6589145602643988\n",
      "[LightGBM] [Warning] lambda_l1 is set=0.021679781554279322, reg_alpha=0.0 will be ignored. Current value: lambda_l1=0.021679781554279322\n",
      "[LightGBM] [Warning] feature_fraction is set=0.8805594093882021, colsample_bytree=1.0 will be ignored. Current value: feature_fraction=0.8805594093882021\n",
      "[LightGBM] [Warning] lambda_l2 is set=0.06461238211345373, reg_lambda=0.0 will be ignored. Current value: lambda_l2=0.06461238211345373\n",
      "[LightGBM] [Warning] bagging_freq is set=2, subsample_freq=0 will be ignored. Current value: bagging_freq=2\n",
      "[LightGBM] [Warning] bagging_fraction is set=0.7763363866838926, subsample=1.0 will be ignored. Current value: bagging_fraction=0.7763363866838926\n",
      "[LightGBM] [Warning] lambda_l1 is set=1.0094676723058689, reg_alpha=0.0 will be ignored. Current value: lambda_l1=1.0094676723058689\n",
      "[LightGBM] [Warning] feature_fraction is set=0.6007560320610038, colsample_bytree=1.0 will be ignored. Current value: feature_fraction=0.6007560320610038\n",
      "[LightGBM] [Warning] lambda_l2 is set=0.0011442015684453904, reg_lambda=0.0 will be ignored. Current value: lambda_l2=0.0011442015684453904\n",
      "[LightGBM] [Warning] bagging_freq is set=3, subsample_freq=0 will be ignored. Current value: bagging_freq=3\n"
     ]
    },
    {
     "name": "stderr",
     "output_type": "stream",
     "text": [
      "\u001b[32m[I 2023-01-24 09:34:05,626]\u001b[0m Trial 19 finished with value: 0.9814814814814815 and parameters: {'lambda_l1': 1.0094676723058689, 'lambda_l2': 0.0011442015684453904, 'num_leaves': 48, 'feature_fraction': 0.6007560320610038, 'bagging_fraction': 0.7763363866838926, 'bagging_freq': 3, 'min_child_samples': 28}. Best is trial 14 with value: 1.0.\u001b[0m\n"
     ]
    },
    {
     "name": "stdout",
     "output_type": "stream",
     "text": [
      "[LightGBM] [Warning] bagging_fraction is set=0.8920202420475661, subsample=1.0 will be ignored. Current value: bagging_fraction=0.8920202420475661\n",
      "[LightGBM] [Warning] lambda_l1 is set=0.00027681026477454143, reg_alpha=0.0 will be ignored. Current value: lambda_l1=0.00027681026477454143\n",
      "[LightGBM] [Warning] feature_fraction is set=0.7507056926060659, colsample_bytree=1.0 will be ignored. Current value: feature_fraction=0.7507056926060659\n",
      "[LightGBM] [Warning] lambda_l2 is set=3.521432335456676e-05, reg_lambda=0.0 will be ignored. Current value: lambda_l2=3.521432335456676e-05\n",
      "[LightGBM] [Warning] bagging_freq is set=5, subsample_freq=0 will be ignored. Current value: bagging_freq=5\n"
     ]
    },
    {
     "name": "stderr",
     "output_type": "stream",
     "text": [
      "\u001b[32m[I 2023-01-24 09:34:06,519]\u001b[0m Trial 20 finished with value: 0.9814814814814815 and parameters: {'lambda_l1': 0.00027681026477454143, 'lambda_l2': 3.521432335456676e-05, 'num_leaves': 68, 'feature_fraction': 0.7507056926060659, 'bagging_fraction': 0.8920202420475661, 'bagging_freq': 5, 'min_child_samples': 15}. Best is trial 14 with value: 1.0.\u001b[0m\n"
     ]
    },
    {
     "name": "stdout",
     "output_type": "stream",
     "text": [
      "[LightGBM] [Warning] bagging_fraction is set=0.9783284451211871, subsample=1.0 will be ignored. Current value: bagging_fraction=0.9783284451211871\n",
      "[LightGBM] [Warning] lambda_l1 is set=9.264456629753157, reg_alpha=0.0 will be ignored. Current value: lambda_l1=9.264456629753157\n",
      "[LightGBM] [Warning] feature_fraction is set=0.9249631809184113, colsample_bytree=1.0 will be ignored. Current value: feature_fraction=0.9249631809184113\n",
      "[LightGBM] [Warning] lambda_l2 is set=4.1836313266228136e-06, reg_lambda=0.0 will be ignored. Current value: lambda_l2=4.1836313266228136e-06\n",
      "[LightGBM] [Warning] bagging_freq is set=1, subsample_freq=0 will be ignored. Current value: bagging_freq=1\n"
     ]
    },
    {
     "name": "stderr",
     "output_type": "stream",
     "text": [
      "\u001b[32m[I 2023-01-24 09:34:07,025]\u001b[0m Trial 21 finished with value: 0.9444444444444444 and parameters: {'lambda_l1': 9.264456629753157, 'lambda_l2': 4.1836313266228136e-06, 'num_leaves': 181, 'feature_fraction': 0.9249631809184113, 'bagging_fraction': 0.9783284451211871, 'bagging_freq': 1, 'min_child_samples': 7}. Best is trial 14 with value: 1.0.\u001b[0m\n"
     ]
    },
    {
     "name": "stdout",
     "output_type": "stream",
     "text": [
      "[LightGBM] [Warning] bagging_fraction is set=0.9202682792500292, subsample=1.0 will be ignored. Current value: bagging_fraction=0.9202682792500292\n",
      "[LightGBM] [Warning] lambda_l1 is set=2.2714611610249156, reg_alpha=0.0 will be ignored. Current value: lambda_l1=2.2714611610249156\n",
      "[LightGBM] [Warning] feature_fraction is set=0.8503839668392075, colsample_bytree=1.0 will be ignored. Current value: feature_fraction=0.8503839668392075\n",
      "[LightGBM] [Warning] lambda_l2 is set=4.525045866481211e-07, reg_lambda=0.0 will be ignored. Current value: lambda_l2=4.525045866481211e-07\n",
      "[LightGBM] [Warning] bagging_freq is set=1, subsample_freq=0 will be ignored. Current value: bagging_freq=1\n"
     ]
    },
    {
     "name": "stderr",
     "output_type": "stream",
     "text": [
      "\u001b[32m[I 2023-01-24 09:34:07,631]\u001b[0m Trial 22 finished with value: 0.9814814814814815 and parameters: {'lambda_l1': 2.2714611610249156, 'lambda_l2': 4.525045866481211e-07, 'num_leaves': 222, 'feature_fraction': 0.8503839668392075, 'bagging_fraction': 0.9202682792500292, 'bagging_freq': 1, 'min_child_samples': 15}. Best is trial 14 with value: 1.0.\u001b[0m\n"
     ]
    },
    {
     "name": "stdout",
     "output_type": "stream",
     "text": [
      "[LightGBM] [Warning] bagging_fraction is set=0.8373636062164, subsample=1.0 will be ignored. Current value: bagging_fraction=0.8373636062164\n",
      "[LightGBM] [Warning] lambda_l1 is set=0.2886810342024311, reg_alpha=0.0 will be ignored. Current value: lambda_l1=0.2886810342024311\n",
      "[LightGBM] [Warning] feature_fraction is set=0.9227840827066802, colsample_bytree=1.0 will be ignored. Current value: feature_fraction=0.9227840827066802\n",
      "[LightGBM] [Warning] lambda_l2 is set=1.1940069469172447e-05, reg_lambda=0.0 will be ignored. Current value: lambda_l2=1.1940069469172447e-05\n",
      "[LightGBM] [Warning] bagging_freq is set=2, subsample_freq=0 will be ignored. Current value: bagging_freq=2\n"
     ]
    },
    {
     "name": "stderr",
     "output_type": "stream",
     "text": [
      "\u001b[32m[I 2023-01-24 09:34:08,421]\u001b[0m Trial 23 finished with value: 0.9814814814814815 and parameters: {'lambda_l1': 0.2886810342024311, 'lambda_l2': 1.1940069469172447e-05, 'num_leaves': 34, 'feature_fraction': 0.9227840827066802, 'bagging_fraction': 0.8373636062164, 'bagging_freq': 2, 'min_child_samples': 38}. Best is trial 14 with value: 1.0.\u001b[0m\n"
     ]
    },
    {
     "name": "stdout",
     "output_type": "stream",
     "text": [
      "[LightGBM] [Warning] bagging_fraction is set=0.9874066124989476, subsample=1.0 will be ignored. Current value: bagging_fraction=0.9874066124989476\n",
      "[LightGBM] [Warning] lambda_l1 is set=3.539574650521456, reg_alpha=0.0 will be ignored. Current value: lambda_l1=3.539574650521456\n",
      "[LightGBM] [Warning] feature_fraction is set=0.9438332530246863, colsample_bytree=1.0 will be ignored. Current value: feature_fraction=0.9438332530246863\n",
      "[LightGBM] [Warning] lambda_l2 is set=1.3488714066970795e-06, reg_lambda=0.0 will be ignored. Current value: lambda_l2=1.3488714066970795e-06\n",
      "[LightGBM] [Warning] bagging_freq is set=1, subsample_freq=0 will be ignored. Current value: bagging_freq=1\n"
     ]
    },
    {
     "name": "stderr",
     "output_type": "stream",
     "text": [
      "\u001b[32m[I 2023-01-24 09:34:08,934]\u001b[0m Trial 24 finished with value: 0.9814814814814815 and parameters: {'lambda_l1': 3.539574650521456, 'lambda_l2': 1.3488714066970795e-06, 'num_leaves': 117, 'feature_fraction': 0.9438332530246863, 'bagging_fraction': 0.9874066124989476, 'bagging_freq': 1, 'min_child_samples': 15}. Best is trial 14 with value: 1.0.\u001b[0m\n"
     ]
    },
    {
     "name": "stdout",
     "output_type": "stream",
     "text": [
      "[LightGBM] [Warning] bagging_fraction is set=0.9074221535959799, subsample=1.0 will be ignored. Current value: bagging_fraction=0.9074221535959799\n",
      "[LightGBM] [Warning] lambda_l1 is set=1.4927708648877607, reg_alpha=0.0 will be ignored. Current value: lambda_l1=1.4927708648877607\n",
      "[LightGBM] [Warning] feature_fraction is set=0.8708691299139883, colsample_bytree=1.0 will be ignored. Current value: feature_fraction=0.8708691299139883\n",
      "[LightGBM] [Warning] lambda_l2 is set=2.909315040852739e-05, reg_lambda=0.0 will be ignored. Current value: lambda_l2=2.909315040852739e-05\n",
      "[LightGBM] [Warning] bagging_freq is set=2, subsample_freq=0 will be ignored. Current value: bagging_freq=2\n"
     ]
    },
    {
     "name": "stderr",
     "output_type": "stream",
     "text": [
      "\u001b[32m[I 2023-01-24 09:34:09,727]\u001b[0m Trial 25 finished with value: 0.9814814814814815 and parameters: {'lambda_l1': 1.4927708648877607, 'lambda_l2': 2.909315040852739e-05, 'num_leaves': 173, 'feature_fraction': 0.8708691299139883, 'bagging_fraction': 0.9074221535959799, 'bagging_freq': 2, 'min_child_samples': 5}. Best is trial 14 with value: 1.0.\u001b[0m\n"
     ]
    },
    {
     "name": "stdout",
     "output_type": "stream",
     "text": [
      "[LightGBM] [Warning] bagging_fraction is set=0.7607028554592573, subsample=1.0 will be ignored. Current value: bagging_fraction=0.7607028554592573\n",
      "[LightGBM] [Warning] lambda_l1 is set=0.11342401905603053, reg_alpha=0.0 will be ignored. Current value: lambda_l1=0.11342401905603053\n",
      "[LightGBM] [Warning] feature_fraction is set=0.8022232002503338, colsample_bytree=1.0 will be ignored. Current value: feature_fraction=0.8022232002503338\n",
      "[LightGBM] [Warning] lambda_l2 is set=0.00034377042140366204, reg_lambda=0.0 will be ignored. Current value: lambda_l2=0.00034377042140366204\n",
      "[LightGBM] [Warning] bagging_freq is set=1, subsample_freq=0 will be ignored. Current value: bagging_freq=1\n"
     ]
    },
    {
     "name": "stderr",
     "output_type": "stream",
     "text": [
      "\u001b[32m[I 2023-01-24 09:34:10,422]\u001b[0m Trial 26 finished with value: 0.9814814814814815 and parameters: {'lambda_l1': 0.11342401905603053, 'lambda_l2': 0.00034377042140366204, 'num_leaves': 16, 'feature_fraction': 0.8022232002503338, 'bagging_fraction': 0.7607028554592573, 'bagging_freq': 1, 'min_child_samples': 29}. Best is trial 14 with value: 1.0.\u001b[0m\n"
     ]
    },
    {
     "name": "stdout",
     "output_type": "stream",
     "text": [
      "[LightGBM] [Warning] bagging_fraction is set=0.8537924613753013, subsample=1.0 will be ignored. Current value: bagging_fraction=0.8537924613753013\n",
      "[LightGBM] [Warning] lambda_l1 is set=8.85230740099465, reg_alpha=0.0 will be ignored. Current value: lambda_l1=8.85230740099465\n",
      "[LightGBM] [Warning] feature_fraction is set=0.943669561987291, colsample_bytree=1.0 will be ignored. Current value: feature_fraction=0.943669561987291\n",
      "[LightGBM] [Warning] lambda_l2 is set=4.273857393504973e-06, reg_lambda=0.0 will be ignored. Current value: lambda_l2=4.273857393504973e-06\n",
      "[LightGBM] [Warning] bagging_freq is set=2, subsample_freq=0 will be ignored. Current value: bagging_freq=2\n"
     ]
    },
    {
     "name": "stderr",
     "output_type": "stream",
     "text": [
      "\u001b[32m[I 2023-01-24 09:34:10,929]\u001b[0m Trial 27 finished with value: 1.0 and parameters: {'lambda_l1': 8.85230740099465, 'lambda_l2': 4.273857393504973e-06, 'num_leaves': 91, 'feature_fraction': 0.943669561987291, 'bagging_fraction': 0.8537924613753013, 'bagging_freq': 2, 'min_child_samples': 19}. Best is trial 14 with value: 1.0.\u001b[0m\n"
     ]
    },
    {
     "name": "stdout",
     "output_type": "stream",
     "text": [
      "[LightGBM] [Warning] bagging_fraction is set=0.8258044020633553, subsample=1.0 will be ignored. Current value: bagging_fraction=0.8258044020633553\n",
      "[LightGBM] [Warning] lambda_l1 is set=0.021579490566748145, reg_alpha=0.0 will be ignored. Current value: lambda_l1=0.021579490566748145\n",
      "[LightGBM] [Warning] feature_fraction is set=0.9620757343294215, colsample_bytree=1.0 will be ignored. Current value: feature_fraction=0.9620757343294215\n",
      "[LightGBM] [Warning] lambda_l2 is set=1.3626467202593682e-07, reg_lambda=0.0 will be ignored. Current value: lambda_l2=1.3626467202593682e-07\n",
      "[LightGBM] [Warning] bagging_freq is set=3, subsample_freq=0 will be ignored. Current value: bagging_freq=3\n"
     ]
    },
    {
     "name": "stderr",
     "output_type": "stream",
     "text": [
      "\u001b[32m[I 2023-01-24 09:34:11,422]\u001b[0m Trial 28 finished with value: 0.9814814814814815 and parameters: {'lambda_l1': 0.021579490566748145, 'lambda_l2': 1.3626467202593682e-07, 'num_leaves': 94, 'feature_fraction': 0.9620757343294215, 'bagging_fraction': 0.8258044020633553, 'bagging_freq': 3, 'min_child_samples': 44}. Best is trial 14 with value: 1.0.\u001b[0m\n",
      "\u001b[32m[I 2023-01-24 09:34:11,540]\u001b[0m Trial 29 finished with value: 0.35185185185185186 and parameters: {'lambda_l1': 3.001711600529051e-05, 'lambda_l2': 5.695091043891903e-05, 'num_leaves': 50, 'feature_fraction': 0.8708506273083731, 'bagging_fraction': 0.8127149914273829, 'bagging_freq': 2, 'min_child_samples': 90}. Best is trial 14 with value: 1.0.\u001b[0m\n"
     ]
    },
    {
     "name": "stdout",
     "output_type": "stream",
     "text": [
      "[LightGBM] [Warning] bagging_fraction is set=0.8127149914273829, subsample=1.0 will be ignored. Current value: bagging_fraction=0.8127149914273829\n",
      "[LightGBM] [Warning] lambda_l1 is set=3.001711600529051e-05, reg_alpha=0.0 will be ignored. Current value: lambda_l1=3.001711600529051e-05\n",
      "[LightGBM] [Warning] feature_fraction is set=0.8708506273083731, colsample_bytree=1.0 will be ignored. Current value: feature_fraction=0.8708506273083731\n",
      "[LightGBM] [Warning] lambda_l2 is set=5.695091043891903e-05, reg_lambda=0.0 will be ignored. Current value: lambda_l2=5.695091043891903e-05\n",
      "[LightGBM] [Warning] bagging_freq is set=2, subsample_freq=0 will be ignored. Current value: bagging_freq=2\n",
      "[LightGBM] [Warning] bagging_fraction is set=0.8474731885458832, subsample=1.0 will be ignored. Current value: bagging_fraction=0.8474731885458832\n",
      "[LightGBM] [Warning] lambda_l1 is set=0.8206306973863027, reg_alpha=0.0 will be ignored. Current value: lambda_l1=0.8206306973863027\n",
      "[LightGBM] [Warning] feature_fraction is set=0.9602650831113182, colsample_bytree=1.0 will be ignored. Current value: feature_fraction=0.9602650831113182\n",
      "[LightGBM] [Warning] lambda_l2 is set=2.1236311107863357e-06, reg_lambda=0.0 will be ignored. Current value: lambda_l2=2.1236311107863357e-06\n",
      "[LightGBM] [Warning] bagging_freq is set=4, subsample_freq=0 will be ignored. Current value: bagging_freq=4\n"
     ]
    },
    {
     "name": "stderr",
     "output_type": "stream",
     "text": [
      "\u001b[32m[I 2023-01-24 09:34:11,825]\u001b[0m Trial 30 finished with value: 0.35185185185185186 and parameters: {'lambda_l1': 0.8206306973863027, 'lambda_l2': 2.1236311107863357e-06, 'num_leaves': 38, 'feature_fraction': 0.9602650831113182, 'bagging_fraction': 0.8474731885458832, 'bagging_freq': 4, 'min_child_samples': 59}. Best is trial 14 with value: 1.0.\u001b[0m\n",
      "\u001b[32m[I 2023-01-24 09:34:12,018]\u001b[0m Trial 31 finished with value: 0.35185185185185186 and parameters: {'lambda_l1': 9.954704342687991, 'lambda_l2': 1.2689215968978156e-05, 'num_leaves': 144, 'feature_fraction': 0.8992486491033834, 'bagging_fraction': 0.9442125064048226, 'bagging_freq': 1, 'min_child_samples': 98}. Best is trial 14 with value: 1.0.\u001b[0m\n"
     ]
    },
    {
     "name": "stdout",
     "output_type": "stream",
     "text": [
      "[LightGBM] [Warning] bagging_fraction is set=0.9442125064048226, subsample=1.0 will be ignored. Current value: bagging_fraction=0.9442125064048226\n",
      "[LightGBM] [Warning] lambda_l1 is set=9.954704342687991, reg_alpha=0.0 will be ignored. Current value: lambda_l1=9.954704342687991\n",
      "[LightGBM] [Warning] feature_fraction is set=0.8992486491033834, colsample_bytree=1.0 will be ignored. Current value: feature_fraction=0.8992486491033834\n",
      "[LightGBM] [Warning] lambda_l2 is set=1.2689215968978156e-05, reg_lambda=0.0 will be ignored. Current value: lambda_l2=1.2689215968978156e-05\n",
      "[LightGBM] [Warning] bagging_freq is set=1, subsample_freq=0 will be ignored. Current value: bagging_freq=1\n",
      "[LightGBM] [Warning] bagging_fraction is set=0.8814214337320447, subsample=1.0 will be ignored. Current value: bagging_fraction=0.8814214337320447\n",
      "[LightGBM] [Warning] lambda_l1 is set=2.2878128879427466, reg_alpha=0.0 will be ignored. Current value: lambda_l1=2.2878128879427466\n",
      "[LightGBM] [Warning] feature_fraction is set=0.9112620864624082, colsample_bytree=1.0 will be ignored. Current value: feature_fraction=0.9112620864624082\n",
      "[LightGBM] [Warning] lambda_l2 is set=9.54997942135675e-06, reg_lambda=0.0 will be ignored. Current value: lambda_l2=9.54997942135675e-06\n",
      "[LightGBM] [Warning] bagging_freq is set=2, subsample_freq=0 will be ignored. Current value: bagging_freq=2\n"
     ]
    },
    {
     "name": "stderr",
     "output_type": "stream",
     "text": [
      "\u001b[32m[I 2023-01-24 09:34:12,540]\u001b[0m Trial 32 finished with value: 0.9814814814814815 and parameters: {'lambda_l1': 2.2878128879427466, 'lambda_l2': 9.54997942135675e-06, 'num_leaves': 125, 'feature_fraction': 0.9112620864624082, 'bagging_fraction': 0.8814214337320447, 'bagging_freq': 2, 'min_child_samples': 17}. Best is trial 14 with value: 1.0.\u001b[0m\n"
     ]
    },
    {
     "name": "stdout",
     "output_type": "stream",
     "text": [
      "[LightGBM] [Warning] bagging_fraction is set=0.7958255733836339, subsample=1.0 will be ignored. Current value: bagging_fraction=0.7958255733836339\n",
      "[LightGBM] [Warning] lambda_l1 is set=2.8640750279413565, reg_alpha=0.0 will be ignored. Current value: lambda_l1=2.8640750279413565\n",
      "[LightGBM] [Warning] feature_fraction is set=0.8566663997846448, colsample_bytree=1.0 will be ignored. Current value: feature_fraction=0.8566663997846448\n",
      "[LightGBM] [Warning] lambda_l2 is set=9.308552093093335e-07, reg_lambda=0.0 will be ignored. Current value: lambda_l2=9.308552093093335e-07\n",
      "[LightGBM] [Warning] bagging_freq is set=2, subsample_freq=0 will be ignored. Current value: bagging_freq=2\n"
     ]
    },
    {
     "name": "stderr",
     "output_type": "stream",
     "text": [
      "\u001b[32m[I 2023-01-24 09:34:13,223]\u001b[0m Trial 33 finished with value: 0.9814814814814815 and parameters: {'lambda_l1': 2.8640750279413565, 'lambda_l2': 9.308552093093335e-07, 'num_leaves': 17, 'feature_fraction': 0.8566663997846448, 'bagging_fraction': 0.7958255733836339, 'bagging_freq': 2, 'min_child_samples': 12}. Best is trial 14 with value: 1.0.\u001b[0m\n"
     ]
    },
    {
     "name": "stdout",
     "output_type": "stream",
     "text": [
      "[LightGBM] [Warning] bagging_fraction is set=0.9995910242619972, subsample=1.0 will be ignored. Current value: bagging_fraction=0.9995910242619972\n",
      "[LightGBM] [Warning] lambda_l1 is set=0.9239157094667899, reg_alpha=0.0 will be ignored. Current value: lambda_l1=0.9239157094667899\n",
      "[LightGBM] [Warning] feature_fraction is set=0.9641986146710163, colsample_bytree=1.0 will be ignored. Current value: feature_fraction=0.9641986146710163\n",
      "[LightGBM] [Warning] lambda_l2 is set=4.87015402364299e-06, reg_lambda=0.0 will be ignored. Current value: lambda_l2=4.87015402364299e-06\n",
      "[LightGBM] [Warning] bagging_freq is set=1, subsample_freq=0 will be ignored. Current value: bagging_freq=1\n"
     ]
    },
    {
     "name": "stderr",
     "output_type": "stream",
     "text": [
      "\u001b[32m[I 2023-01-24 09:34:13,823]\u001b[0m Trial 34 finished with value: 0.9629629629629629 and parameters: {'lambda_l1': 0.9239157094667899, 'lambda_l2': 4.87015402364299e-06, 'num_leaves': 95, 'feature_fraction': 0.9641986146710163, 'bagging_fraction': 0.9995910242619972, 'bagging_freq': 1, 'min_child_samples': 24}. Best is trial 14 with value: 1.0.\u001b[0m\n"
     ]
    },
    {
     "name": "stdout",
     "output_type": "stream",
     "text": [
      "[LightGBM] [Warning] bagging_fraction is set=0.8738248250835933, subsample=1.0 will be ignored. Current value: bagging_fraction=0.8738248250835933\n",
      "[LightGBM] [Warning] lambda_l1 is set=0.17782570448758855, reg_alpha=0.0 will be ignored. Current value: lambda_l1=0.17782570448758855\n",
      "[LightGBM] [Warning] feature_fraction is set=0.7754766155479346, colsample_bytree=1.0 will be ignored. Current value: feature_fraction=0.7754766155479346\n",
      "[LightGBM] [Warning] lambda_l2 is set=0.00929682682181222, reg_lambda=0.0 will be ignored. Current value: lambda_l2=0.00929682682181222\n",
      "[LightGBM] [Warning] bagging_freq is set=3, subsample_freq=0 will be ignored. Current value: bagging_freq=3\n"
     ]
    },
    {
     "name": "stderr",
     "output_type": "stream",
     "text": [
      "\u001b[32m[I 2023-01-24 09:34:14,727]\u001b[0m Trial 35 finished with value: 0.9814814814814815 and parameters: {'lambda_l1': 0.17782570448758855, 'lambda_l2': 0.00929682682181222, 'num_leaves': 165, 'feature_fraction': 0.7754766155479346, 'bagging_fraction': 0.8738248250835933, 'bagging_freq': 3, 'min_child_samples': 32}. Best is trial 14 with value: 1.0.\u001b[0m\n"
     ]
    },
    {
     "name": "stdout",
     "output_type": "stream",
     "text": [
      "[LightGBM] [Warning] bagging_fraction is set=0.9333180636082022, subsample=1.0 will be ignored. Current value: bagging_fraction=0.9333180636082022\n",
      "[LightGBM] [Warning] lambda_l1 is set=0.4652212956389523, reg_alpha=0.0 will be ignored. Current value: lambda_l1=0.4652212956389523\n",
      "[LightGBM] [Warning] feature_fraction is set=0.6854561664362673, colsample_bytree=1.0 will be ignored. Current value: feature_fraction=0.6854561664362673\n",
      "[LightGBM] [Warning] lambda_l2 is set=4.4001212458308516e-05, reg_lambda=0.0 will be ignored. Current value: lambda_l2=4.4001212458308516e-05\n",
      "[LightGBM] [Warning] bagging_freq is set=2, subsample_freq=0 will be ignored. Current value: bagging_freq=2\n"
     ]
    },
    {
     "name": "stderr",
     "output_type": "stream",
     "text": [
      "\u001b[32m[I 2023-01-24 09:34:15,430]\u001b[0m Trial 36 finished with value: 0.9814814814814815 and parameters: {'lambda_l1': 0.4652212956389523, 'lambda_l2': 4.4001212458308516e-05, 'num_leaves': 208, 'feature_fraction': 0.6854561664362673, 'bagging_fraction': 0.9333180636082022, 'bagging_freq': 2, 'min_child_samples': 11}. Best is trial 14 with value: 1.0.\u001b[0m\n"
     ]
    },
    {
     "name": "stdout",
     "output_type": "stream",
     "text": [
      "[LightGBM] [Warning] bagging_fraction is set=0.9468022002201683, subsample=1.0 will be ignored. Current value: bagging_fraction=0.9468022002201683\n",
      "[LightGBM] [Warning] lambda_l1 is set=3.693191608279639e-06, reg_alpha=0.0 will be ignored. Current value: lambda_l1=3.693191608279639e-06\n",
      "[LightGBM] [Warning] feature_fraction is set=0.7262859614907975, colsample_bytree=1.0 will be ignored. Current value: feature_fraction=0.7262859614907975\n",
      "[LightGBM] [Warning] lambda_l2 is set=3.7478646077189075e-07, reg_lambda=0.0 will be ignored. Current value: lambda_l2=3.7478646077189075e-07\n",
      "[LightGBM] [Warning] bagging_freq is set=2, subsample_freq=0 will be ignored. Current value: bagging_freq=2\n"
     ]
    },
    {
     "name": "stderr",
     "output_type": "stream",
     "text": [
      "\u001b[32m[I 2023-01-24 09:34:16,339]\u001b[0m Trial 37 finished with value: 0.9814814814814815 and parameters: {'lambda_l1': 3.693191608279639e-06, 'lambda_l2': 3.7478646077189075e-07, 'num_leaves': 233, 'feature_fraction': 0.7262859614907975, 'bagging_fraction': 0.9468022002201683, 'bagging_freq': 2, 'min_child_samples': 19}. Best is trial 14 with value: 1.0.\u001b[0m\n"
     ]
    },
    {
     "name": "stdout",
     "output_type": "stream",
     "text": [
      "[LightGBM] [Warning] bagging_fraction is set=0.8549059014565479, subsample=1.0 will be ignored. Current value: bagging_fraction=0.8549059014565479\n",
      "[LightGBM] [Warning] lambda_l1 is set=4.234073170050599, reg_alpha=0.0 will be ignored. Current value: lambda_l1=4.234073170050599\n",
      "[LightGBM] [Warning] feature_fraction is set=0.8340765990225962, colsample_bytree=1.0 will be ignored. Current value: feature_fraction=0.8340765990225962\n",
      "[LightGBM] [Warning] lambda_l2 is set=8.167186940552976e-08, reg_lambda=0.0 will be ignored. Current value: lambda_l2=8.167186940552976e-08\n",
      "[LightGBM] [Warning] bagging_freq is set=3, subsample_freq=0 will be ignored. Current value: bagging_freq=3\n"
     ]
    },
    {
     "name": "stderr",
     "output_type": "stream",
     "text": [
      "\u001b[32m[I 2023-01-24 09:34:16,920]\u001b[0m Trial 38 finished with value: 0.9814814814814815 and parameters: {'lambda_l1': 4.234073170050599, 'lambda_l2': 8.167186940552976e-08, 'num_leaves': 20, 'feature_fraction': 0.8340765990225962, 'bagging_fraction': 0.8549059014565479, 'bagging_freq': 3, 'min_child_samples': 27}. Best is trial 14 with value: 1.0.\u001b[0m\n"
     ]
    },
    {
     "name": "stdout",
     "output_type": "stream",
     "text": [
      "[LightGBM] [Warning] bagging_fraction is set=0.8162540998033836, subsample=1.0 will be ignored. Current value: bagging_fraction=0.8162540998033836\n",
      "[LightGBM] [Warning] lambda_l1 is set=8.872256391570661e-07, reg_alpha=0.0 will be ignored. Current value: lambda_l1=8.872256391570661e-07\n",
      "[LightGBM] [Warning] feature_fraction is set=0.9376056150964645, colsample_bytree=1.0 will be ignored. Current value: feature_fraction=0.9376056150964645\n",
      "[LightGBM] [Warning] lambda_l2 is set=5.606714556863543e-08, reg_lambda=0.0 will be ignored. Current value: lambda_l2=5.606714556863543e-08\n",
      "[LightGBM] [Warning] bagging_freq is set=4, subsample_freq=0 will be ignored. Current value: bagging_freq=4\n"
     ]
    },
    {
     "name": "stderr",
     "output_type": "stream",
     "text": [
      "\u001b[32m[I 2023-01-24 09:34:17,819]\u001b[0m Trial 39 finished with value: 0.9814814814814815 and parameters: {'lambda_l1': 8.872256391570661e-07, 'lambda_l2': 5.606714556863543e-08, 'num_leaves': 64, 'feature_fraction': 0.9376056150964645, 'bagging_fraction': 0.8162540998033836, 'bagging_freq': 4, 'min_child_samples': 36}. Best is trial 14 with value: 1.0.\u001b[0m\n"
     ]
    },
    {
     "name": "stdout",
     "output_type": "stream",
     "text": [
      "[LightGBM] [Warning] bagging_fraction is set=0.9132189947171682, subsample=1.0 will be ignored. Current value: bagging_fraction=0.9132189947171682\n",
      "[LightGBM] [Warning] lambda_l1 is set=4.632532176056036, reg_alpha=0.0 will be ignored. Current value: lambda_l1=4.632532176056036\n",
      "[LightGBM] [Warning] feature_fraction is set=0.6361351927708919, colsample_bytree=1.0 will be ignored. Current value: feature_fraction=0.6361351927708919\n",
      "[LightGBM] [Warning] lambda_l2 is set=4.654940749033623e-07, reg_lambda=0.0 will be ignored. Current value: lambda_l2=4.654940749033623e-07\n",
      "[LightGBM] [Warning] bagging_freq is set=1, subsample_freq=0 will be ignored. Current value: bagging_freq=1\n"
     ]
    },
    {
     "name": "stderr",
     "output_type": "stream",
     "text": [
      "\u001b[32m[I 2023-01-24 09:34:18,632]\u001b[0m Trial 40 finished with value: 0.9814814814814815 and parameters: {'lambda_l1': 4.632532176056036, 'lambda_l2': 4.654940749033623e-07, 'num_leaves': 158, 'feature_fraction': 0.6361351927708919, 'bagging_fraction': 0.9132189947171682, 'bagging_freq': 1, 'min_child_samples': 12}. Best is trial 14 with value: 1.0.\u001b[0m\n"
     ]
    },
    {
     "name": "stdout",
     "output_type": "stream",
     "text": [
      "[LightGBM] [Warning] bagging_fraction is set=0.9500257510456495, subsample=1.0 will be ignored. Current value: bagging_fraction=0.9500257510456495\n",
      "[LightGBM] [Warning] lambda_l1 is set=1.4775095224539573e-05, reg_alpha=0.0 will be ignored. Current value: lambda_l1=1.4775095224539573e-05\n",
      "[LightGBM] [Warning] feature_fraction is set=0.6917231620192572, colsample_bytree=1.0 will be ignored. Current value: feature_fraction=0.6917231620192572\n",
      "[LightGBM] [Warning] lambda_l2 is set=0.2094048292612946, reg_lambda=0.0 will be ignored. Current value: lambda_l2=0.2094048292612946\n",
      "[LightGBM] [Warning] bagging_freq is set=3, subsample_freq=0 will be ignored. Current value: bagging_freq=3\n"
     ]
    },
    {
     "name": "stderr",
     "output_type": "stream",
     "text": [
      "\u001b[32m[I 2023-01-24 09:34:19,319]\u001b[0m Trial 41 finished with value: 0.9814814814814815 and parameters: {'lambda_l1': 1.4775095224539573e-05, 'lambda_l2': 0.2094048292612946, 'num_leaves': 28, 'feature_fraction': 0.6917231620192572, 'bagging_fraction': 0.9500257510456495, 'bagging_freq': 3, 'min_child_samples': 33}. Best is trial 14 with value: 1.0.\u001b[0m\n"
     ]
    },
    {
     "name": "stdout",
     "output_type": "stream",
     "text": [
      "[LightGBM] [Warning] bagging_fraction is set=0.9624796350041702, subsample=1.0 will be ignored. Current value: bagging_fraction=0.9624796350041702\n",
      "[LightGBM] [Warning] lambda_l1 is set=3.948608992551207e-06, reg_alpha=0.0 will be ignored. Current value: lambda_l1=3.948608992551207e-06\n",
      "[LightGBM] [Warning] feature_fraction is set=0.8860591696604118, colsample_bytree=1.0 will be ignored. Current value: feature_fraction=0.8860591696604118\n",
      "[LightGBM] [Warning] lambda_l2 is set=1.4987701731233738, reg_lambda=0.0 will be ignored. Current value: lambda_l2=1.4987701731233738\n",
      "[LightGBM] [Warning] bagging_freq is set=2, subsample_freq=0 will be ignored. Current value: bagging_freq=2\n"
     ]
    },
    {
     "name": "stderr",
     "output_type": "stream",
     "text": [
      "\u001b[32m[I 2023-01-24 09:34:20,339]\u001b[0m Trial 42 finished with value: 0.9814814814814815 and parameters: {'lambda_l1': 3.948608992551207e-06, 'lambda_l2': 1.4987701731233738, 'num_leaves': 7, 'feature_fraction': 0.8860591696604118, 'bagging_fraction': 0.9624796350041702, 'bagging_freq': 2, 'min_child_samples': 23}. Best is trial 14 with value: 1.0.\u001b[0m\n"
     ]
    },
    {
     "name": "stdout",
     "output_type": "stream",
     "text": [
      "[LightGBM] [Warning] bagging_fraction is set=0.9156581866006762, subsample=1.0 will be ignored. Current value: bagging_fraction=0.9156581866006762\n",
      "[LightGBM] [Warning] lambda_l1 is set=1.1457835213574986e-07, reg_alpha=0.0 will be ignored. Current value: lambda_l1=1.1457835213574986e-07\n",
      "[LightGBM] [Warning] feature_fraction is set=0.9997762654076124, colsample_bytree=1.0 will be ignored. Current value: feature_fraction=0.9997762654076124\n",
      "[LightGBM] [Warning] lambda_l2 is set=0.035432023633112576, reg_lambda=0.0 will be ignored. Current value: lambda_l2=0.035432023633112576\n",
      "[LightGBM] [Warning] bagging_freq is set=3, subsample_freq=0 will be ignored. Current value: bagging_freq=3\n"
     ]
    },
    {
     "name": "stderr",
     "output_type": "stream",
     "text": [
      "\u001b[32m[I 2023-01-24 09:34:21,737]\u001b[0m Trial 43 finished with value: 0.9814814814814815 and parameters: {'lambda_l1': 1.1457835213574986e-07, 'lambda_l2': 0.035432023633112576, 'num_leaves': 39, 'feature_fraction': 0.9997762654076124, 'bagging_fraction': 0.9156581866006762, 'bagging_freq': 3, 'min_child_samples': 9}. Best is trial 14 with value: 1.0.\u001b[0m\n"
     ]
    },
    {
     "name": "stdout",
     "output_type": "stream",
     "text": [
      "[LightGBM] [Warning] bagging_fraction is set=0.8618174148623151, subsample=1.0 will be ignored. Current value: bagging_fraction=0.8618174148623151\n",
      "[LightGBM] [Warning] lambda_l1 is set=9.0889666768326, reg_alpha=0.0 will be ignored. Current value: lambda_l1=9.0889666768326\n",
      "[LightGBM] [Warning] feature_fraction is set=0.5865732475197498, colsample_bytree=1.0 will be ignored. Current value: feature_fraction=0.5865732475197498\n",
      "[LightGBM] [Warning] lambda_l2 is set=0.5036485354822218, reg_lambda=0.0 will be ignored. Current value: lambda_l2=0.5036485354822218\n",
      "[LightGBM] [Warning] bagging_freq is set=1, subsample_freq=0 will be ignored. Current value: bagging_freq=1\n"
     ]
    },
    {
     "name": "stderr",
     "output_type": "stream",
     "text": [
      "\u001b[32m[I 2023-01-24 09:34:22,642]\u001b[0m Trial 44 finished with value: 1.0 and parameters: {'lambda_l1': 9.0889666768326, 'lambda_l2': 0.5036485354822218, 'num_leaves': 22, 'feature_fraction': 0.5865732475197498, 'bagging_fraction': 0.8618174148623151, 'bagging_freq': 1, 'min_child_samples': 19}. Best is trial 14 with value: 1.0.\u001b[0m\n"
     ]
    },
    {
     "name": "stdout",
     "output_type": "stream",
     "text": [
      "[LightGBM] [Warning] bagging_fraction is set=0.8530220123815642, subsample=1.0 will be ignored. Current value: bagging_fraction=0.8530220123815642\n",
      "[LightGBM] [Warning] lambda_l1 is set=8.074497193033515, reg_alpha=0.0 will be ignored. Current value: lambda_l1=8.074497193033515\n",
      "[LightGBM] [Warning] feature_fraction is set=0.5355946393288731, colsample_bytree=1.0 will be ignored. Current value: feature_fraction=0.5355946393288731\n",
      "[LightGBM] [Warning] lambda_l2 is set=0.5153646919763302, reg_lambda=0.0 will be ignored. Current value: lambda_l2=0.5153646919763302\n",
      "[LightGBM] [Warning] bagging_freq is set=1, subsample_freq=0 will be ignored. Current value: bagging_freq=1\n"
     ]
    },
    {
     "name": "stderr",
     "output_type": "stream",
     "text": [
      "\u001b[32m[I 2023-01-24 09:34:23,425]\u001b[0m Trial 45 finished with value: 0.9814814814814815 and parameters: {'lambda_l1': 8.074497193033515, 'lambda_l2': 0.5153646919763302, 'num_leaves': 2, 'feature_fraction': 0.5355946393288731, 'bagging_fraction': 0.8530220123815642, 'bagging_freq': 1, 'min_child_samples': 19}. Best is trial 14 with value: 1.0.\u001b[0m\n"
     ]
    },
    {
     "name": "stdout",
     "output_type": "stream",
     "text": [
      "[LightGBM] [Warning] bagging_fraction is set=0.744407175537141, subsample=1.0 will be ignored. Current value: bagging_fraction=0.744407175537141\n",
      "[LightGBM] [Warning] lambda_l1 is set=1.2964872678836736, reg_alpha=0.0 will be ignored. Current value: lambda_l1=1.2964872678836736\n",
      "[LightGBM] [Warning] feature_fraction is set=0.5717187425348053, colsample_bytree=1.0 will be ignored. Current value: feature_fraction=0.5717187425348053\n",
      "[LightGBM] [Warning] lambda_l2 is set=0.006402425949630024, reg_lambda=0.0 will be ignored. Current value: lambda_l2=0.006402425949630024\n",
      "[LightGBM] [Warning] bagging_freq is set=1, subsample_freq=0 will be ignored. Current value: bagging_freq=1\n"
     ]
    },
    {
     "name": "stderr",
     "output_type": "stream",
     "text": [
      "\u001b[32m[I 2023-01-24 09:34:26,032]\u001b[0m Trial 46 finished with value: 0.9814814814814815 and parameters: {'lambda_l1': 1.2964872678836736, 'lambda_l2': 0.006402425949630024, 'num_leaves': 191, 'feature_fraction': 0.5717187425348053, 'bagging_fraction': 0.744407175537141, 'bagging_freq': 1, 'min_child_samples': 5}. Best is trial 14 with value: 1.0.\u001b[0m\n"
     ]
    },
    {
     "name": "stdout",
     "output_type": "stream",
     "text": [
      "[LightGBM] [Warning] bagging_fraction is set=0.7987550380917413, subsample=1.0 will be ignored. Current value: bagging_fraction=0.7987550380917413\n",
      "[LightGBM] [Warning] lambda_l1 is set=0.5841559887990444, reg_alpha=0.0 will be ignored. Current value: lambda_l1=0.5841559887990444\n",
      "[LightGBM] [Warning] feature_fraction is set=0.456668894990539, colsample_bytree=1.0 will be ignored. Current value: feature_fraction=0.456668894990539\n",
      "[LightGBM] [Warning] lambda_l2 is set=0.18337982081044285, reg_lambda=0.0 will be ignored. Current value: lambda_l2=0.18337982081044285\n",
      "[LightGBM] [Warning] bagging_freq is set=1, subsample_freq=0 will be ignored. Current value: bagging_freq=1\n"
     ]
    },
    {
     "name": "stderr",
     "output_type": "stream",
     "text": [
      "\u001b[32m[I 2023-01-24 09:34:26,720]\u001b[0m Trial 47 finished with value: 0.9814814814814815 and parameters: {'lambda_l1': 0.5841559887990444, 'lambda_l2': 0.18337982081044285, 'num_leaves': 23, 'feature_fraction': 0.456668894990539, 'bagging_fraction': 0.7987550380917413, 'bagging_freq': 1, 'min_child_samples': 26}. Best is trial 14 with value: 1.0.\u001b[0m\n",
      "\u001b[32m[I 2023-01-24 09:34:26,920]\u001b[0m Trial 48 finished with value: 0.35185185185185186 and parameters: {'lambda_l1': 0.06733191777794138, 'lambda_l2': 2.14084382863147, 'num_leaves': 86, 'feature_fraction': 0.6441792637653028, 'bagging_fraction': 0.4541519859811145, 'bagging_freq': 2, 'min_child_samples': 65}. Best is trial 14 with value: 1.0.\u001b[0m\n"
     ]
    },
    {
     "name": "stdout",
     "output_type": "stream",
     "text": [
      "[LightGBM] [Warning] bagging_fraction is set=0.4541519859811145, subsample=1.0 will be ignored. Current value: bagging_fraction=0.4541519859811145\n",
      "[LightGBM] [Warning] lambda_l1 is set=0.06733191777794138, reg_alpha=0.0 will be ignored. Current value: lambda_l1=0.06733191777794138\n",
      "[LightGBM] [Warning] feature_fraction is set=0.6441792637653028, colsample_bytree=1.0 will be ignored. Current value: feature_fraction=0.6441792637653028\n",
      "[LightGBM] [Warning] lambda_l2 is set=2.14084382863147, reg_lambda=0.0 will be ignored. Current value: lambda_l2=2.14084382863147\n",
      "[LightGBM] [Warning] bagging_freq is set=2, subsample_freq=0 will be ignored. Current value: bagging_freq=2\n",
      "[LightGBM] [Warning] bagging_fraction is set=0.8681624299178535, subsample=1.0 will be ignored. Current value: bagging_fraction=0.8681624299178535\n",
      "[LightGBM] [Warning] lambda_l1 is set=1.9336627380976823, reg_alpha=0.0 will be ignored. Current value: lambda_l1=1.9336627380976823\n",
      "[LightGBM] [Warning] feature_fraction is set=0.8139364224807957, colsample_bytree=1.0 will be ignored. Current value: feature_fraction=0.8139364224807957\n",
      "[LightGBM] [Warning] lambda_l2 is set=0.3520508988106074, reg_lambda=0.0 will be ignored. Current value: lambda_l2=0.3520508988106074\n",
      "[LightGBM] [Warning] bagging_freq is set=5, subsample_freq=0 will be ignored. Current value: bagging_freq=5\n"
     ]
    },
    {
     "name": "stderr",
     "output_type": "stream",
     "text": [
      "\u001b[32m[I 2023-01-24 09:34:27,436]\u001b[0m Trial 49 finished with value: 0.9814814814814815 and parameters: {'lambda_l1': 1.9336627380976823, 'lambda_l2': 0.3520508988106074, 'num_leaves': 138, 'feature_fraction': 0.8139364224807957, 'bagging_fraction': 0.8681624299178535, 'bagging_freq': 5, 'min_child_samples': 20}. Best is trial 14 with value: 1.0.\u001b[0m\n"
     ]
    },
    {
     "name": "stdout",
     "output_type": "stream",
     "text": [
      "[LightGBM] [Warning] bagging_fraction is set=0.8308652860153469, subsample=1.0 will be ignored. Current value: bagging_fraction=0.8308652860153469\n",
      "[LightGBM] [Warning] lambda_l1 is set=4.66468613784884, reg_alpha=0.0 will be ignored. Current value: lambda_l1=4.66468613784884\n",
      "[LightGBM] [Warning] feature_fraction is set=0.6177139897913522, colsample_bytree=1.0 will be ignored. Current value: feature_fraction=0.6177139897913522\n",
      "[LightGBM] [Warning] lambda_l2 is set=4.944075759680115, reg_lambda=0.0 will be ignored. Current value: lambda_l2=4.944075759680115\n",
      "[LightGBM] [Warning] bagging_freq is set=6, subsample_freq=0 will be ignored. Current value: bagging_freq=6\n"
     ]
    },
    {
     "name": "stderr",
     "output_type": "stream",
     "text": [
      "\u001b[32m[I 2023-01-24 09:34:28,121]\u001b[0m Trial 50 finished with value: 0.9814814814814815 and parameters: {'lambda_l1': 4.66468613784884, 'lambda_l2': 4.944075759680115, 'num_leaves': 60, 'feature_fraction': 0.6177139897913522, 'bagging_fraction': 0.8308652860153469, 'bagging_freq': 6, 'min_child_samples': 12}. Best is trial 14 with value: 1.0.\u001b[0m\n"
     ]
    },
    {
     "name": "stdout",
     "output_type": "stream",
     "text": [
      "[LightGBM] [Warning] bagging_fraction is set=0.890126641940859, subsample=1.0 will be ignored. Current value: bagging_fraction=0.890126641940859\n",
      "[LightGBM] [Warning] lambda_l1 is set=0.00011147187158633974, reg_alpha=0.0 will be ignored. Current value: lambda_l1=0.00011147187158633974\n",
      "[LightGBM] [Warning] feature_fraction is set=0.661603429821183, colsample_bytree=1.0 will be ignored. Current value: feature_fraction=0.661603429821183\n",
      "[LightGBM] [Warning] lambda_l2 is set=0.0672098188584216, reg_lambda=0.0 will be ignored. Current value: lambda_l2=0.0672098188584216\n",
      "[LightGBM] [Warning] bagging_freq is set=2, subsample_freq=0 will be ignored. Current value: bagging_freq=2\n"
     ]
    },
    {
     "name": "stderr",
     "output_type": "stream",
     "text": [
      "\u001b[32m[I 2023-01-24 09:34:28,640]\u001b[0m Trial 51 finished with value: 0.9814814814814815 and parameters: {'lambda_l1': 0.00011147187158633974, 'lambda_l2': 0.0672098188584216, 'num_leaves': 33, 'feature_fraction': 0.661603429821183, 'bagging_fraction': 0.890126641940859, 'bagging_freq': 2, 'min_child_samples': 32}. Best is trial 14 with value: 1.0.\u001b[0m\n"
     ]
    },
    {
     "name": "stdout",
     "output_type": "stream",
     "text": [
      "[LightGBM] [Warning] bagging_fraction is set=0.9711272101490181, subsample=1.0 will be ignored. Current value: bagging_fraction=0.9711272101490181\n",
      "[LightGBM] [Warning] lambda_l1 is set=0.0005065249413607396, reg_alpha=0.0 will be ignored. Current value: lambda_l1=0.0005065249413607396\n",
      "[LightGBM] [Warning] feature_fraction is set=0.5802217729105906, colsample_bytree=1.0 will be ignored. Current value: feature_fraction=0.5802217729105906\n",
      "[LightGBM] [Warning] lambda_l2 is set=0.7758068224945976, reg_lambda=0.0 will be ignored. Current value: lambda_l2=0.7758068224945976\n",
      "[LightGBM] [Warning] bagging_freq is set=1, subsample_freq=0 will be ignored. Current value: bagging_freq=1\n"
     ]
    },
    {
     "name": "stderr",
     "output_type": "stream",
     "text": [
      "\u001b[32m[I 2023-01-24 09:34:30,929]\u001b[0m Trial 52 finished with value: 0.9814814814814815 and parameters: {'lambda_l1': 0.0005065249413607396, 'lambda_l2': 0.7758068224945976, 'num_leaves': 12, 'feature_fraction': 0.5802217729105906, 'bagging_fraction': 0.9711272101490181, 'bagging_freq': 1, 'min_child_samples': 43}. Best is trial 14 with value: 1.0.\u001b[0m\n"
     ]
    },
    {
     "name": "stdout",
     "output_type": "stream",
     "text": [
      "[LightGBM] [Warning] bagging_fraction is set=0.9315914182886637, subsample=1.0 will be ignored. Current value: bagging_fraction=0.9315914182886637\n",
      "[LightGBM] [Warning] lambda_l1 is set=9.24522481860945, reg_alpha=0.0 will be ignored. Current value: lambda_l1=9.24522481860945\n",
      "[LightGBM] [Warning] feature_fraction is set=0.6833262709247997, colsample_bytree=1.0 will be ignored. Current value: feature_fraction=0.6833262709247997\n",
      "[LightGBM] [Warning] lambda_l2 is set=0.004189670961021713, reg_lambda=0.0 will be ignored. Current value: lambda_l2=0.004189670961021713\n",
      "[LightGBM] [Warning] bagging_freq is set=2, subsample_freq=0 will be ignored. Current value: bagging_freq=2\n"
     ]
    },
    {
     "name": "stderr",
     "output_type": "stream",
     "text": [
      "\u001b[32m[I 2023-01-24 09:34:31,539]\u001b[0m Trial 53 finished with value: 1.0 and parameters: {'lambda_l1': 9.24522481860945, 'lambda_l2': 0.004189670961021713, 'num_leaves': 41, 'feature_fraction': 0.6833262709247997, 'bagging_fraction': 0.9315914182886637, 'bagging_freq': 2, 'min_child_samples': 15}. Best is trial 14 with value: 1.0.\u001b[0m\n"
     ]
    },
    {
     "name": "stdout",
     "output_type": "stream",
     "text": [
      "[LightGBM] [Warning] bagging_fraction is set=0.8962679911271086, subsample=1.0 will be ignored. Current value: bagging_fraction=0.8962679911271086\n",
      "[LightGBM] [Warning] lambda_l1 is set=5.402295278081242, reg_alpha=0.0 will be ignored. Current value: lambda_l1=5.402295278081242\n",
      "[LightGBM] [Warning] feature_fraction is set=0.712767255057538, colsample_bytree=1.0 will be ignored. Current value: feature_fraction=0.712767255057538\n",
      "[LightGBM] [Warning] lambda_l2 is set=0.0036422317137591517, reg_lambda=0.0 will be ignored. Current value: lambda_l2=0.0036422317137591517\n",
      "[LightGBM] [Warning] bagging_freq is set=1, subsample_freq=0 will be ignored. Current value: bagging_freq=1\n"
     ]
    },
    {
     "name": "stderr",
     "output_type": "stream",
     "text": [
      "\u001b[32m[I 2023-01-24 09:34:33,043]\u001b[0m Trial 54 finished with value: 0.9814814814814815 and parameters: {'lambda_l1': 5.402295278081242, 'lambda_l2': 0.0036422317137591517, 'num_leaves': 47, 'feature_fraction': 0.712767255057538, 'bagging_fraction': 0.8962679911271086, 'bagging_freq': 1, 'min_child_samples': 17}. Best is trial 14 with value: 1.0.\u001b[0m\n"
     ]
    },
    {
     "name": "stdout",
     "output_type": "stream",
     "text": [
      "[LightGBM] [Warning] bagging_fraction is set=0.9276350319447678, subsample=1.0 will be ignored. Current value: bagging_fraction=0.9276350319447678\n",
      "[LightGBM] [Warning] lambda_l1 is set=9.916334936905013, reg_alpha=0.0 will be ignored. Current value: lambda_l1=9.916334936905013\n",
      "[LightGBM] [Warning] feature_fraction is set=0.7485663761732428, colsample_bytree=1.0 will be ignored. Current value: feature_fraction=0.7485663761732428\n",
      "[LightGBM] [Warning] lambda_l2 is set=0.0003998042502518189, reg_lambda=0.0 will be ignored. Current value: lambda_l2=0.0003998042502518189\n",
      "[LightGBM] [Warning] bagging_freq is set=2, subsample_freq=0 will be ignored. Current value: bagging_freq=2\n"
     ]
    },
    {
     "name": "stderr",
     "output_type": "stream",
     "text": [
      "\u001b[32m[I 2023-01-24 09:34:33,737]\u001b[0m Trial 55 finished with value: 1.0 and parameters: {'lambda_l1': 9.916334936905013, 'lambda_l2': 0.0003998042502518189, 'num_leaves': 27, 'feature_fraction': 0.7485663761732428, 'bagging_fraction': 0.9276350319447678, 'bagging_freq': 2, 'min_child_samples': 9}. Best is trial 14 with value: 1.0.\u001b[0m\n"
     ]
    },
    {
     "name": "stdout",
     "output_type": "stream",
     "text": [
      "[LightGBM] [Warning] bagging_fraction is set=0.865907528535491, subsample=1.0 will be ignored. Current value: bagging_fraction=0.865907528535491\n",
      "[LightGBM] [Warning] lambda_l1 is set=9.176166725221382, reg_alpha=0.0 will be ignored. Current value: lambda_l1=9.176166725221382\n",
      "[LightGBM] [Warning] feature_fraction is set=0.6715142719035175, colsample_bytree=1.0 will be ignored. Current value: feature_fraction=0.6715142719035175\n",
      "[LightGBM] [Warning] lambda_l2 is set=0.0004896124294686277, reg_lambda=0.0 will be ignored. Current value: lambda_l2=0.0004896124294686277\n",
      "[LightGBM] [Warning] bagging_freq is set=2, subsample_freq=0 will be ignored. Current value: bagging_freq=2\n"
     ]
    },
    {
     "name": "stderr",
     "output_type": "stream",
     "text": [
      "\u001b[32m[I 2023-01-24 09:34:34,336]\u001b[0m Trial 56 finished with value: 0.9814814814814815 and parameters: {'lambda_l1': 9.176166725221382, 'lambda_l2': 0.0004896124294686277, 'num_leaves': 25, 'feature_fraction': 0.6715142719035175, 'bagging_fraction': 0.865907528535491, 'bagging_freq': 2, 'min_child_samples': 8}. Best is trial 14 with value: 1.0.\u001b[0m\n"
     ]
    },
    {
     "name": "stdout",
     "output_type": "stream",
     "text": [
      "[LightGBM] [Warning] bagging_fraction is set=0.9269787146022875, subsample=1.0 will be ignored. Current value: bagging_fraction=0.9269787146022875\n",
      "[LightGBM] [Warning] lambda_l1 is set=1.7673016012709988, reg_alpha=0.0 will be ignored. Current value: lambda_l1=1.7673016012709988\n",
      "[LightGBM] [Warning] feature_fraction is set=0.7406571955246496, colsample_bytree=1.0 will be ignored. Current value: feature_fraction=0.7406571955246496\n",
      "[LightGBM] [Warning] lambda_l2 is set=0.01428603052276064, reg_lambda=0.0 will be ignored. Current value: lambda_l2=0.01428603052276064\n",
      "[LightGBM] [Warning] bagging_freq is set=2, subsample_freq=0 will be ignored. Current value: bagging_freq=2\n"
     ]
    },
    {
     "name": "stderr",
     "output_type": "stream",
     "text": [
      "\u001b[32m[I 2023-01-24 09:34:35,025]\u001b[0m Trial 57 finished with value: 0.9814814814814815 and parameters: {'lambda_l1': 1.7673016012709988, 'lambda_l2': 0.01428603052276064, 'num_leaves': 42, 'feature_fraction': 0.7406571955246496, 'bagging_fraction': 0.9269787146022875, 'bagging_freq': 2, 'min_child_samples': 14}. Best is trial 14 with value: 1.0.\u001b[0m\n"
     ]
    },
    {
     "name": "stdout",
     "output_type": "stream",
     "text": [
      "[LightGBM] [Warning] bagging_fraction is set=0.5488838007926435, subsample=1.0 will be ignored. Current value: bagging_fraction=0.5488838007926435\n",
      "[LightGBM] [Warning] lambda_l1 is set=0.3046673663809288, reg_alpha=0.0 will be ignored. Current value: lambda_l1=0.3046673663809288\n",
      "[LightGBM] [Warning] feature_fraction is set=0.6285592649312495, colsample_bytree=1.0 will be ignored. Current value: feature_fraction=0.6285592649312495\n",
      "[LightGBM] [Warning] lambda_l2 is set=0.0017961326507478874, reg_lambda=0.0 will be ignored. Current value: lambda_l2=0.0017961326507478874\n",
      "[LightGBM] [Warning] bagging_freq is set=2, subsample_freq=0 will be ignored. Current value: bagging_freq=2\n"
     ]
    },
    {
     "name": "stderr",
     "output_type": "stream",
     "text": [
      "\u001b[32m[I 2023-01-24 09:34:36,133]\u001b[0m Trial 58 finished with value: 0.9814814814814815 and parameters: {'lambda_l1': 0.3046673663809288, 'lambda_l2': 0.0017961326507478874, 'num_leaves': 57, 'feature_fraction': 0.6285592649312495, 'bagging_fraction': 0.5488838007926435, 'bagging_freq': 2, 'min_child_samples': 22}. Best is trial 14 with value: 1.0.\u001b[0m\n"
     ]
    },
    {
     "name": "stdout",
     "output_type": "stream",
     "text": [
      "[LightGBM] [Warning] bagging_fraction is set=0.8926182946684185, subsample=1.0 will be ignored. Current value: bagging_fraction=0.8926182946684185\n",
      "[LightGBM] [Warning] lambda_l1 is set=2.6854405520927784, reg_alpha=0.0 will be ignored. Current value: lambda_l1=2.6854405520927784\n",
      "[LightGBM] [Warning] feature_fraction is set=0.7018736949961781, colsample_bytree=1.0 will be ignored. Current value: feature_fraction=0.7018736949961781\n",
      "[LightGBM] [Warning] lambda_l2 is set=0.028503031134444554, reg_lambda=0.0 will be ignored. Current value: lambda_l2=0.028503031134444554\n",
      "[LightGBM] [Warning] bagging_freq is set=3, subsample_freq=0 will be ignored. Current value: bagging_freq=3\n"
     ]
    },
    {
     "name": "stderr",
     "output_type": "stream",
     "text": [
      "\u001b[32m[I 2023-01-24 09:34:37,435]\u001b[0m Trial 59 finished with value: 0.9814814814814815 and parameters: {'lambda_l1': 2.6854405520927784, 'lambda_l2': 0.028503031134444554, 'num_leaves': 14, 'feature_fraction': 0.7018736949961781, 'bagging_fraction': 0.8926182946684185, 'bagging_freq': 3, 'min_child_samples': 29}. Best is trial 14 with value: 1.0.\u001b[0m\n"
     ]
    },
    {
     "name": "stdout",
     "output_type": "stream",
     "text": [
      "[LightGBM] [Warning] bagging_fraction is set=0.8451158750582921, subsample=1.0 will be ignored. Current value: bagging_fraction=0.8451158750582921\n",
      "[LightGBM] [Warning] lambda_l1 is set=0.8640356803804806, reg_alpha=0.0 will be ignored. Current value: lambda_l1=0.8640356803804806\n",
      "[LightGBM] [Warning] feature_fraction is set=0.7696695795319344, colsample_bytree=1.0 will be ignored. Current value: feature_fraction=0.7696695795319344\n",
      "[LightGBM] [Warning] lambda_l2 is set=0.0001761856046847215, reg_lambda=0.0 will be ignored. Current value: lambda_l2=0.0001761856046847215\n",
      "[LightGBM] [Warning] bagging_freq is set=2, subsample_freq=0 will be ignored. Current value: bagging_freq=2\n"
     ]
    },
    {
     "name": "stderr",
     "output_type": "stream",
     "text": [
      "\u001b[32m[I 2023-01-24 09:34:40,443]\u001b[0m Trial 60 finished with value: 0.9814814814814815 and parameters: {'lambda_l1': 0.8640356803804806, 'lambda_l2': 0.0001761856046847215, 'num_leaves': 73, 'feature_fraction': 0.7696695795319344, 'bagging_fraction': 0.8451158750582921, 'bagging_freq': 2, 'min_child_samples': 9}. Best is trial 14 with value: 1.0.\u001b[0m\n"
     ]
    },
    {
     "name": "stdout",
     "output_type": "stream",
     "text": [
      "[LightGBM] [Warning] bagging_fraction is set=0.9632678011955392, subsample=1.0 will be ignored. Current value: bagging_fraction=0.9632678011955392\n",
      "[LightGBM] [Warning] lambda_l1 is set=5.443026619170306, reg_alpha=0.0 will be ignored. Current value: lambda_l1=5.443026619170306\n",
      "[LightGBM] [Warning] feature_fraction is set=0.6527640922686626, colsample_bytree=1.0 will be ignored. Current value: feature_fraction=0.6527640922686626\n",
      "[LightGBM] [Warning] lambda_l2 is set=0.0005879122010821419, reg_lambda=0.0 will be ignored. Current value: lambda_l2=0.0005879122010821419\n",
      "[LightGBM] [Warning] bagging_freq is set=1, subsample_freq=0 will be ignored. Current value: bagging_freq=1\n"
     ]
    },
    {
     "name": "stderr",
     "output_type": "stream",
     "text": [
      "\u001b[32m[I 2023-01-24 09:34:41,041]\u001b[0m Trial 61 finished with value: 0.9814814814814815 and parameters: {'lambda_l1': 5.443026619170306, 'lambda_l2': 0.0005879122010821419, 'num_leaves': 4, 'feature_fraction': 0.6527640922686626, 'bagging_fraction': 0.9632678011955392, 'bagging_freq': 1, 'min_child_samples': 15}. Best is trial 14 with value: 1.0.\u001b[0m\n"
     ]
    },
    {
     "name": "stdout",
     "output_type": "stream",
     "text": [
      "[LightGBM] [Warning] bagging_fraction is set=0.9261364265198933, subsample=1.0 will be ignored. Current value: bagging_fraction=0.9261364265198933\n",
      "[LightGBM] [Warning] lambda_l1 is set=3.351322184531295, reg_alpha=0.0 will be ignored. Current value: lambda_l1=3.351322184531295\n",
      "[LightGBM] [Warning] feature_fraction is set=0.8992848513120623, colsample_bytree=1.0 will be ignored. Current value: feature_fraction=0.8992848513120623\n",
      "[LightGBM] [Warning] lambda_l2 is set=9.694920612309592e-05, reg_lambda=0.0 will be ignored. Current value: lambda_l2=9.694920612309592e-05\n",
      "[LightGBM] [Warning] bagging_freq is set=1, subsample_freq=0 will be ignored. Current value: bagging_freq=1\n"
     ]
    },
    {
     "name": "stderr",
     "output_type": "stream",
     "text": [
      "\u001b[32m[I 2023-01-24 09:34:41,642]\u001b[0m Trial 62 finished with value: 0.9814814814814815 and parameters: {'lambda_l1': 3.351322184531295, 'lambda_l2': 9.694920612309592e-05, 'num_leaves': 30, 'feature_fraction': 0.8992848513120623, 'bagging_fraction': 0.9261364265198933, 'bagging_freq': 1, 'min_child_samples': 5}. Best is trial 14 with value: 1.0.\u001b[0m\n"
     ]
    },
    {
     "name": "stdout",
     "output_type": "stream",
     "text": [
      "[LightGBM] [Warning] bagging_fraction is set=0.8967217047099536, subsample=1.0 will be ignored. Current value: bagging_fraction=0.8967217047099536\n",
      "[LightGBM] [Warning] lambda_l1 is set=8.72475934946328, reg_alpha=0.0 will be ignored. Current value: lambda_l1=8.72475934946328\n",
      "[LightGBM] [Warning] feature_fraction is set=0.7854924871350191, colsample_bytree=1.0 will be ignored. Current value: feature_fraction=0.7854924871350191\n",
      "[LightGBM] [Warning] lambda_l2 is set=0.0032009215254375227, reg_lambda=0.0 will be ignored. Current value: lambda_l2=0.0032009215254375227\n",
      "[LightGBM] [Warning] bagging_freq is set=1, subsample_freq=0 will be ignored. Current value: bagging_freq=1\n"
     ]
    },
    {
     "name": "stderr",
     "output_type": "stream",
     "text": [
      "\u001b[32m[I 2023-01-24 09:34:42,231]\u001b[0m Trial 63 finished with value: 1.0 and parameters: {'lambda_l1': 8.72475934946328, 'lambda_l2': 0.0032009215254375227, 'num_leaves': 111, 'feature_fraction': 0.7854924871350191, 'bagging_fraction': 0.8967217047099536, 'bagging_freq': 1, 'min_child_samples': 18}. Best is trial 14 with value: 1.0.\u001b[0m\n"
     ]
    },
    {
     "name": "stdout",
     "output_type": "stream",
     "text": [
      "[LightGBM] [Warning] bagging_fraction is set=0.8972522132090237, subsample=1.0 will be ignored. Current value: bagging_fraction=0.8972522132090237\n",
      "[LightGBM] [Warning] lambda_l1 is set=8.758327783284535, reg_alpha=0.0 will be ignored. Current value: lambda_l1=8.758327783284535\n",
      "[LightGBM] [Warning] feature_fraction is set=0.790267165956675, colsample_bytree=1.0 will be ignored. Current value: feature_fraction=0.790267165956675\n",
      "[LightGBM] [Warning] lambda_l2 is set=0.003981344925003013, reg_lambda=0.0 will be ignored. Current value: lambda_l2=0.003981344925003013\n",
      "[LightGBM] [Warning] bagging_freq is set=1, subsample_freq=0 will be ignored. Current value: bagging_freq=1\n"
     ]
    },
    {
     "name": "stderr",
     "output_type": "stream",
     "text": [
      "\u001b[32m[I 2023-01-24 09:34:42,826]\u001b[0m Trial 64 finished with value: 1.0 and parameters: {'lambda_l1': 8.758327783284535, 'lambda_l2': 0.003981344925003013, 'num_leaves': 123, 'feature_fraction': 0.790267165956675, 'bagging_fraction': 0.8972522132090237, 'bagging_freq': 1, 'min_child_samples': 25}. Best is trial 14 with value: 1.0.\u001b[0m\n"
     ]
    },
    {
     "name": "stdout",
     "output_type": "stream",
     "text": [
      "[LightGBM] [Warning] bagging_fraction is set=0.8997203438702831, subsample=1.0 will be ignored. Current value: bagging_fraction=0.8997203438702831\n",
      "[LightGBM] [Warning] lambda_l1 is set=8.600405097582316, reg_alpha=0.0 will be ignored. Current value: lambda_l1=8.600405097582316\n",
      "[LightGBM] [Warning] feature_fraction is set=0.7849375304577554, colsample_bytree=1.0 will be ignored. Current value: feature_fraction=0.7849375304577554\n",
      "[LightGBM] [Warning] lambda_l2 is set=0.004805987313342856, reg_lambda=0.0 will be ignored. Current value: lambda_l2=0.004805987313342856\n",
      "[LightGBM] [Warning] bagging_freq is set=1, subsample_freq=0 will be ignored. Current value: bagging_freq=1\n"
     ]
    },
    {
     "name": "stderr",
     "output_type": "stream",
     "text": [
      "\u001b[32m[I 2023-01-24 09:34:43,337]\u001b[0m Trial 65 finished with value: 1.0 and parameters: {'lambda_l1': 8.600405097582316, 'lambda_l2': 0.004805987313342856, 'num_leaves': 111, 'feature_fraction': 0.7849375304577554, 'bagging_fraction': 0.8997203438702831, 'bagging_freq': 1, 'min_child_samples': 25}. Best is trial 14 with value: 1.0.\u001b[0m\n"
     ]
    },
    {
     "name": "stdout",
     "output_type": "stream",
     "text": [
      "[LightGBM] [Warning] bagging_fraction is set=0.8734175038090435, subsample=1.0 will be ignored. Current value: bagging_fraction=0.8734175038090435\n",
      "[LightGBM] [Warning] lambda_l1 is set=1.6482137991740247, reg_alpha=0.0 will be ignored. Current value: lambda_l1=1.6482137991740247\n",
      "[LightGBM] [Warning] feature_fraction is set=0.7595933525602643, colsample_bytree=1.0 will be ignored. Current value: feature_fraction=0.7595933525602643\n",
      "[LightGBM] [Warning] lambda_l2 is set=0.0030583774025504276, reg_lambda=0.0 will be ignored. Current value: lambda_l2=0.0030583774025504276\n",
      "[LightGBM] [Warning] bagging_freq is set=2, subsample_freq=0 will be ignored. Current value: bagging_freq=2\n"
     ]
    },
    {
     "name": "stderr",
     "output_type": "stream",
     "text": [
      "\u001b[32m[I 2023-01-24 09:34:43,941]\u001b[0m Trial 66 finished with value: 0.9814814814814815 and parameters: {'lambda_l1': 1.6482137991740247, 'lambda_l2': 0.0030583774025504276, 'num_leaves': 127, 'feature_fraction': 0.7595933525602643, 'bagging_fraction': 0.8734175038090435, 'bagging_freq': 2, 'min_child_samples': 18}. Best is trial 14 with value: 1.0.\u001b[0m\n"
     ]
    },
    {
     "name": "stdout",
     "output_type": "stream",
     "text": [
      "[LightGBM] [Warning] bagging_fraction is set=0.9105523709029487, subsample=1.0 will be ignored. Current value: bagging_fraction=0.9105523709029487\n",
      "[LightGBM] [Warning] lambda_l1 is set=0.6510201805134518, reg_alpha=0.0 will be ignored. Current value: lambda_l1=0.6510201805134518\n",
      "[LightGBM] [Warning] feature_fraction is set=0.790492233343591, colsample_bytree=1.0 will be ignored. Current value: feature_fraction=0.790492233343591\n",
      "[LightGBM] [Warning] lambda_l2 is set=0.0010304647169645526, reg_lambda=0.0 will be ignored. Current value: lambda_l2=0.0010304647169645526\n",
      "[LightGBM] [Warning] bagging_freq is set=1, subsample_freq=0 will be ignored. Current value: bagging_freq=1\n"
     ]
    },
    {
     "name": "stderr",
     "output_type": "stream",
     "text": [
      "\u001b[32m[I 2023-01-24 09:34:44,636]\u001b[0m Trial 67 finished with value: 0.9814814814814815 and parameters: {'lambda_l1': 0.6510201805134518, 'lambda_l2': 0.0010304647169645526, 'num_leaves': 104, 'feature_fraction': 0.790492233343591, 'bagging_fraction': 0.9105523709029487, 'bagging_freq': 1, 'min_child_samples': 20}. Best is trial 14 with value: 1.0.\u001b[0m\n"
     ]
    },
    {
     "name": "stdout",
     "output_type": "stream",
     "text": [
      "[LightGBM] [Warning] bagging_fraction is set=0.8301031395752232, subsample=1.0 will be ignored. Current value: bagging_fraction=0.8301031395752232\n",
      "[LightGBM] [Warning] lambda_l1 is set=9.862301776538443, reg_alpha=0.0 will be ignored. Current value: lambda_l1=9.862301776538443\n",
      "[LightGBM] [Warning] feature_fraction is set=0.7416750462011539, colsample_bytree=1.0 will be ignored. Current value: feature_fraction=0.7416750462011539\n",
      "[LightGBM] [Warning] lambda_l2 is set=0.00808577040303164, reg_lambda=0.0 will be ignored. Current value: lambda_l2=0.00808577040303164\n",
      "[LightGBM] [Warning] bagging_freq is set=1, subsample_freq=0 will be ignored. Current value: bagging_freq=1\n"
     ]
    },
    {
     "name": "stderr",
     "output_type": "stream",
     "text": [
      "\u001b[32m[I 2023-01-24 09:34:45,238]\u001b[0m Trial 68 finished with value: 1.0 and parameters: {'lambda_l1': 9.862301776538443, 'lambda_l2': 0.00808577040303164, 'num_leaves': 116, 'feature_fraction': 0.7416750462011539, 'bagging_fraction': 0.8301031395752232, 'bagging_freq': 1, 'min_child_samples': 22}. Best is trial 14 with value: 1.0.\u001b[0m\n"
     ]
    },
    {
     "name": "stdout",
     "output_type": "stream",
     "text": [
      "[LightGBM] [Warning] bagging_fraction is set=0.9352991949461809, subsample=1.0 will be ignored. Current value: bagging_fraction=0.9352991949461809\n",
      "[LightGBM] [Warning] lambda_l1 is set=3.16597316201311, reg_alpha=0.0 will be ignored. Current value: lambda_l1=3.16597316201311\n",
      "[LightGBM] [Warning] feature_fraction is set=0.7504267758450411, colsample_bytree=1.0 will be ignored. Current value: feature_fraction=0.7504267758450411\n",
      "[LightGBM] [Warning] lambda_l2 is set=0.0026133325160587273, reg_lambda=0.0 will be ignored. Current value: lambda_l2=0.0026133325160587273\n",
      "[LightGBM] [Warning] bagging_freq is set=4, subsample_freq=0 will be ignored. Current value: bagging_freq=4\n"
     ]
    },
    {
     "name": "stderr",
     "output_type": "stream",
     "text": [
      "\u001b[32m[I 2023-01-24 09:34:45,836]\u001b[0m Trial 69 finished with value: 0.9814814814814815 and parameters: {'lambda_l1': 3.16597316201311, 'lambda_l2': 0.0026133325160587273, 'num_leaves': 83, 'feature_fraction': 0.7504267758450411, 'bagging_fraction': 0.9352991949461809, 'bagging_freq': 4, 'min_child_samples': 14}. Best is trial 14 with value: 1.0.\u001b[0m\n",
      "\u001b[32m[I 2023-01-24 09:34:46,041]\u001b[0m Trial 70 finished with value: 0.35185185185185186 and parameters: {'lambda_l1': 1.2479643027146616, 'lambda_l2': 0.0008269622761578959, 'num_leaves': 146, 'feature_fraction': 0.8094840743127898, 'bagging_fraction': 0.8842282492858998, 'bagging_freq': 2, 'min_child_samples': 80}. Best is trial 14 with value: 1.0.\u001b[0m\n"
     ]
    },
    {
     "name": "stdout",
     "output_type": "stream",
     "text": [
      "[LightGBM] [Warning] bagging_fraction is set=0.8842282492858998, subsample=1.0 will be ignored. Current value: bagging_fraction=0.8842282492858998\n",
      "[LightGBM] [Warning] lambda_l1 is set=1.2479643027146616, reg_alpha=0.0 will be ignored. Current value: lambda_l1=1.2479643027146616\n",
      "[LightGBM] [Warning] feature_fraction is set=0.8094840743127898, colsample_bytree=1.0 will be ignored. Current value: feature_fraction=0.8094840743127898\n",
      "[LightGBM] [Warning] lambda_l2 is set=0.0008269622761578959, reg_lambda=0.0 will be ignored. Current value: lambda_l2=0.0008269622761578959\n",
      "[LightGBM] [Warning] bagging_freq is set=2, subsample_freq=0 will be ignored. Current value: bagging_freq=2\n",
      "[LightGBM] [Warning] bagging_fraction is set=0.8985568971005413, subsample=1.0 will be ignored. Current value: bagging_fraction=0.8985568971005413\n",
      "[LightGBM] [Warning] lambda_l1 is set=6.129665199918182, reg_alpha=0.0 will be ignored. Current value: lambda_l1=6.129665199918182\n",
      "[LightGBM] [Warning] feature_fraction is set=0.830987064434179, colsample_bytree=1.0 will be ignored. Current value: feature_fraction=0.830987064434179\n",
      "[LightGBM] [Warning] lambda_l2 is set=0.000310643381879476, reg_lambda=0.0 will be ignored. Current value: lambda_l2=0.000310643381879476\n",
      "[LightGBM] [Warning] bagging_freq is set=1, subsample_freq=0 will be ignored. Current value: bagging_freq=1\n"
     ]
    },
    {
     "name": "stderr",
     "output_type": "stream",
     "text": [
      "\u001b[32m[I 2023-01-24 09:34:46,726]\u001b[0m Trial 71 finished with value: 0.9814814814814815 and parameters: {'lambda_l1': 6.129665199918182, 'lambda_l2': 0.000310643381879476, 'num_leaves': 121, 'feature_fraction': 0.830987064434179, 'bagging_fraction': 0.8985568971005413, 'bagging_freq': 1, 'min_child_samples': 25}. Best is trial 14 with value: 1.0.\u001b[0m\n"
     ]
    },
    {
     "name": "stdout",
     "output_type": "stream",
     "text": [
      "[LightGBM] [Warning] bagging_fraction is set=0.9072320248278879, subsample=1.0 will be ignored. Current value: bagging_fraction=0.9072320248278879\n",
      "[LightGBM] [Warning] lambda_l1 is set=5.500633969622412, reg_alpha=0.0 will be ignored. Current value: lambda_l1=5.500633969622412\n",
      "[LightGBM] [Warning] feature_fraction is set=0.7935042500028308, colsample_bytree=1.0 will be ignored. Current value: feature_fraction=0.7935042500028308\n",
      "[LightGBM] [Warning] lambda_l2 is set=0.005114503647020658, reg_lambda=0.0 will be ignored. Current value: lambda_l2=0.005114503647020658\n",
      "[LightGBM] [Warning] bagging_freq is set=1, subsample_freq=0 will be ignored. Current value: bagging_freq=1\n"
     ]
    },
    {
     "name": "stderr",
     "output_type": "stream",
     "text": [
      "\u001b[32m[I 2023-01-24 09:34:47,330]\u001b[0m Trial 72 finished with value: 0.9814814814814815 and parameters: {'lambda_l1': 5.500633969622412, 'lambda_l2': 0.005114503647020658, 'num_leaves': 135, 'feature_fraction': 0.7935042500028308, 'bagging_fraction': 0.9072320248278879, 'bagging_freq': 1, 'min_child_samples': 16}. Best is trial 14 with value: 1.0.\u001b[0m\n"
     ]
    },
    {
     "name": "stdout",
     "output_type": "stream",
     "text": [
      "[LightGBM] [Warning] bagging_fraction is set=0.8625053241357012, subsample=1.0 will be ignored. Current value: bagging_fraction=0.8625053241357012\n",
      "[LightGBM] [Warning] lambda_l1 is set=9.256389556847555, reg_alpha=0.0 will be ignored. Current value: lambda_l1=9.256389556847555\n",
      "[LightGBM] [Warning] feature_fraction is set=0.7200282187339141, colsample_bytree=1.0 will be ignored. Current value: feature_fraction=0.7200282187339141\n",
      "[LightGBM] [Warning] lambda_l2 is set=0.0017291853977911414, reg_lambda=0.0 will be ignored. Current value: lambda_l2=0.0017291853977911414\n",
      "[LightGBM] [Warning] bagging_freq is set=1, subsample_freq=0 will be ignored. Current value: bagging_freq=1\n"
     ]
    },
    {
     "name": "stderr",
     "output_type": "stream",
     "text": [
      "\u001b[32m[I 2023-01-24 09:34:47,926]\u001b[0m Trial 73 finished with value: 1.0 and parameters: {'lambda_l1': 9.256389556847555, 'lambda_l2': 0.0017291853977911414, 'num_leaves': 94, 'feature_fraction': 0.7200282187339141, 'bagging_fraction': 0.8625053241357012, 'bagging_freq': 1, 'min_child_samples': 29}. Best is trial 14 with value: 1.0.\u001b[0m\n"
     ]
    },
    {
     "name": "stdout",
     "output_type": "stream",
     "text": [
      "[LightGBM] [Warning] bagging_fraction is set=0.9483155934010667, subsample=1.0 will be ignored. Current value: bagging_fraction=0.9483155934010667\n",
      "[LightGBM] [Warning] lambda_l1 is set=2.538639221489883, reg_alpha=0.0 will be ignored. Current value: lambda_l1=2.538639221489883\n",
      "[LightGBM] [Warning] feature_fraction is set=0.7861828270613721, colsample_bytree=1.0 will be ignored. Current value: feature_fraction=0.7861828270613721\n",
      "[LightGBM] [Warning] lambda_l2 is set=0.014625019037431894, reg_lambda=0.0 will be ignored. Current value: lambda_l2=0.014625019037431894\n",
      "[LightGBM] [Warning] bagging_freq is set=2, subsample_freq=0 will be ignored. Current value: bagging_freq=2\n"
     ]
    },
    {
     "name": "stderr",
     "output_type": "stream",
     "text": [
      "\u001b[32m[I 2023-01-24 09:34:48,529]\u001b[0m Trial 74 finished with value: 0.9814814814814815 and parameters: {'lambda_l1': 2.538639221489883, 'lambda_l2': 0.014625019037431894, 'num_leaves': 106, 'feature_fraction': 0.7861828270613721, 'bagging_fraction': 0.9483155934010667, 'bagging_freq': 2, 'min_child_samples': 11}. Best is trial 14 with value: 1.0.\u001b[0m\n"
     ]
    },
    {
     "name": "stdout",
     "output_type": "stream",
     "text": [
      "[LightGBM] [Warning] bagging_fraction is set=0.844408769820945, subsample=1.0 will be ignored. Current value: bagging_fraction=0.844408769820945\n",
      "[LightGBM] [Warning] lambda_l1 is set=4.400172404256015, reg_alpha=0.0 will be ignored. Current value: lambda_l1=4.400172404256015\n",
      "[LightGBM] [Warning] feature_fraction is set=0.7634241352960658, colsample_bytree=1.0 will be ignored. Current value: feature_fraction=0.7634241352960658\n",
      "[LightGBM] [Warning] lambda_l2 is set=0.005140711290460136, reg_lambda=0.0 will be ignored. Current value: lambda_l2=0.005140711290460136\n",
      "[LightGBM] [Warning] bagging_freq is set=1, subsample_freq=0 will be ignored. Current value: bagging_freq=1\n"
     ]
    },
    {
     "name": "stderr",
     "output_type": "stream",
     "text": [
      "\u001b[32m[I 2023-01-24 09:34:49,143]\u001b[0m Trial 75 finished with value: 1.0 and parameters: {'lambda_l1': 4.400172404256015, 'lambda_l2': 0.005140711290460136, 'num_leaves': 112, 'feature_fraction': 0.7634241352960658, 'bagging_fraction': 0.844408769820945, 'bagging_freq': 1, 'min_child_samples': 26}. Best is trial 14 with value: 1.0.\u001b[0m\n"
     ]
    },
    {
     "name": "stdout",
     "output_type": "stream",
     "text": [
      "[LightGBM] [Warning] bagging_fraction is set=0.9887070374067992, subsample=1.0 will be ignored. Current value: bagging_fraction=0.9887070374067992\n",
      "[LightGBM] [Warning] lambda_l1 is set=1.2944281740635506, reg_alpha=0.0 will be ignored. Current value: lambda_l1=1.2944281740635506\n",
      "[LightGBM] [Warning] feature_fraction is set=0.77740784574292, colsample_bytree=1.0 will be ignored. Current value: feature_fraction=0.77740784574292\n",
      "[LightGBM] [Warning] lambda_l2 is set=0.002417579156875483, reg_lambda=0.0 will be ignored. Current value: lambda_l2=0.002417579156875483\n",
      "[LightGBM] [Warning] bagging_freq is set=2, subsample_freq=0 will be ignored. Current value: bagging_freq=2\n"
     ]
    },
    {
     "name": "stderr",
     "output_type": "stream",
     "text": [
      "\u001b[32m[I 2023-01-24 09:34:49,827]\u001b[0m Trial 76 finished with value: 1.0 and parameters: {'lambda_l1': 1.2944281740635506, 'lambda_l2': 0.002417579156875483, 'num_leaves': 131, 'feature_fraction': 0.77740784574292, 'bagging_fraction': 0.9887070374067992, 'bagging_freq': 2, 'min_child_samples': 22}. Best is trial 14 with value: 1.0.\u001b[0m\n"
     ]
    },
    {
     "name": "stdout",
     "output_type": "stream",
     "text": [
      "[LightGBM] [Warning] bagging_fraction is set=0.9217896703046656, subsample=1.0 will be ignored. Current value: bagging_fraction=0.9217896703046656\n",
      "[LightGBM] [Warning] lambda_l1 is set=3.019833330777663, reg_alpha=0.0 will be ignored. Current value: lambda_l1=3.019833330777663\n",
      "[LightGBM] [Warning] feature_fraction is set=0.7301137825915736, colsample_bytree=1.0 will be ignored. Current value: feature_fraction=0.7301137825915736\n",
      "[LightGBM] [Warning] lambda_l2 is set=0.02368534655367108, reg_lambda=0.0 will be ignored. Current value: lambda_l2=0.02368534655367108\n",
      "[LightGBM] [Warning] bagging_freq is set=3, subsample_freq=0 will be ignored. Current value: bagging_freq=3\n"
     ]
    },
    {
     "name": "stderr",
     "output_type": "stream",
     "text": [
      "\u001b[32m[I 2023-01-24 09:34:50,437]\u001b[0m Trial 77 finished with value: 0.9814814814814815 and parameters: {'lambda_l1': 3.019833330777663, 'lambda_l2': 0.02368534655367108, 'num_leaves': 100, 'feature_fraction': 0.7301137825915736, 'bagging_fraction': 0.9217896703046656, 'bagging_freq': 3, 'min_child_samples': 13}. Best is trial 14 with value: 1.0.\u001b[0m\n"
     ]
    },
    {
     "name": "stdout",
     "output_type": "stream",
     "text": [
      "[LightGBM] [Warning] bagging_fraction is set=0.8787371589404069, subsample=1.0 will be ignored. Current value: bagging_fraction=0.8787371589404069\n",
      "[LightGBM] [Warning] lambda_l1 is set=6.456505794371723, reg_alpha=0.0 will be ignored. Current value: lambda_l1=6.456505794371723\n",
      "[LightGBM] [Warning] feature_fraction is set=0.8056438708956637, colsample_bytree=1.0 will be ignored. Current value: feature_fraction=0.8056438708956637\n",
      "[LightGBM] [Warning] lambda_l2 is set=2.3339373005286836e-05, reg_lambda=0.0 will be ignored. Current value: lambda_l2=2.3339373005286836e-05\n",
      "[LightGBM] [Warning] bagging_freq is set=1, subsample_freq=0 will be ignored. Current value: bagging_freq=1\n"
     ]
    },
    {
     "name": "stderr",
     "output_type": "stream",
     "text": [
      "\u001b[32m[I 2023-01-24 09:34:50,942]\u001b[0m Trial 78 finished with value: 0.9814814814814815 and parameters: {'lambda_l1': 6.456505794371723, 'lambda_l2': 2.3339373005286836e-05, 'num_leaves': 11, 'feature_fraction': 0.8056438708956637, 'bagging_fraction': 0.8787371589404069, 'bagging_freq': 1, 'min_child_samples': 39}. Best is trial 14 with value: 1.0.\u001b[0m\n"
     ]
    },
    {
     "name": "stdout",
     "output_type": "stream",
     "text": [
      "[LightGBM] [Warning] bagging_fraction is set=0.9016860651061046, subsample=1.0 will be ignored. Current value: bagging_fraction=0.9016860651061046\n",
      "[LightGBM] [Warning] lambda_l1 is set=0.42717305258861604, reg_alpha=0.0 will be ignored. Current value: lambda_l1=0.42717305258861604\n",
      "[LightGBM] [Warning] feature_fraction is set=0.8574189698665612, colsample_bytree=1.0 will be ignored. Current value: feature_fraction=0.8574189698665612\n",
      "[LightGBM] [Warning] lambda_l2 is set=0.0012673689081496976, reg_lambda=0.0 will be ignored. Current value: lambda_l2=0.0012673689081496976\n",
      "[LightGBM] [Warning] bagging_freq is set=2, subsample_freq=0 will be ignored. Current value: bagging_freq=2\n"
     ]
    },
    {
     "name": "stderr",
     "output_type": "stream",
     "text": [
      "\u001b[32m[I 2023-01-24 09:34:51,720]\u001b[0m Trial 79 finished with value: 0.9814814814814815 and parameters: {'lambda_l1': 0.42717305258861604, 'lambda_l2': 0.0012673689081496976, 'num_leaves': 88, 'feature_fraction': 0.8574189698665612, 'bagging_fraction': 0.9016860651061046, 'bagging_freq': 2, 'min_child_samples': 8}. Best is trial 14 with value: 1.0.\u001b[0m\n"
     ]
    },
    {
     "name": "stdout",
     "output_type": "stream",
     "text": [
      "[LightGBM] [Warning] bagging_fraction is set=0.9597400200072956, subsample=1.0 will be ignored. Current value: bagging_fraction=0.9597400200072956\n",
      "[LightGBM] [Warning] lambda_l1 is set=1.8723366991754866, reg_alpha=0.0 will be ignored. Current value: lambda_l1=1.8723366991754866\n",
      "[LightGBM] [Warning] feature_fraction is set=0.8229976146282553, colsample_bytree=1.0 will be ignored. Current value: feature_fraction=0.8229976146282553\n",
      "[LightGBM] [Warning] lambda_l2 is set=0.010611368674152532, reg_lambda=0.0 will be ignored. Current value: lambda_l2=0.010611368674152532\n",
      "[LightGBM] [Warning] bagging_freq is set=1, subsample_freq=0 will be ignored. Current value: bagging_freq=1\n"
     ]
    },
    {
     "name": "stderr",
     "output_type": "stream",
     "text": [
      "\u001b[32m[I 2023-01-24 09:34:52,229]\u001b[0m Trial 80 finished with value: 0.9814814814814815 and parameters: {'lambda_l1': 1.8723366991754866, 'lambda_l2': 0.010611368674152532, 'num_leaves': 75, 'feature_fraction': 0.8229976146282553, 'bagging_fraction': 0.9597400200072956, 'bagging_freq': 1, 'min_child_samples': 46}. Best is trial 14 with value: 1.0.\u001b[0m\n"
     ]
    },
    {
     "name": "stdout",
     "output_type": "stream",
     "text": [
      "[LightGBM] [Warning] bagging_fraction is set=0.825977949580306, subsample=1.0 will be ignored. Current value: bagging_fraction=0.825977949580306\n",
      "[LightGBM] [Warning] lambda_l1 is set=9.985113111179528, reg_alpha=0.0 will be ignored. Current value: lambda_l1=9.985113111179528\n",
      "[LightGBM] [Warning] feature_fraction is set=0.7441706220354238, colsample_bytree=1.0 will be ignored. Current value: feature_fraction=0.7441706220354238\n",
      "[LightGBM] [Warning] lambda_l2 is set=0.009216455751752554, reg_lambda=0.0 will be ignored. Current value: lambda_l2=0.009216455751752554\n",
      "[LightGBM] [Warning] bagging_freq is set=1, subsample_freq=0 will be ignored. Current value: bagging_freq=1\n"
     ]
    },
    {
     "name": "stderr",
     "output_type": "stream",
     "text": [
      "\u001b[32m[I 2023-01-24 09:34:52,740]\u001b[0m Trial 81 finished with value: 1.0 and parameters: {'lambda_l1': 9.985113111179528, 'lambda_l2': 0.009216455751752554, 'num_leaves': 115, 'feature_fraction': 0.7441706220354238, 'bagging_fraction': 0.825977949580306, 'bagging_freq': 1, 'min_child_samples': 22}. Best is trial 14 with value: 1.0.\u001b[0m\n"
     ]
    },
    {
     "name": "stdout",
     "output_type": "stream",
     "text": [
      "[LightGBM] [Warning] bagging_fraction is set=0.8573264583221485, subsample=1.0 will be ignored. Current value: bagging_fraction=0.8573264583221485\n",
      "[LightGBM] [Warning] lambda_l1 is set=9.994252139487939, reg_alpha=0.0 will be ignored. Current value: lambda_l1=9.994252139487939\n",
      "[LightGBM] [Warning] feature_fraction is set=0.7327389354999198, colsample_bytree=1.0 will be ignored. Current value: feature_fraction=0.7327389354999198\n",
      "[LightGBM] [Warning] lambda_l2 is set=0.007719919408055307, reg_lambda=0.0 will be ignored. Current value: lambda_l2=0.007719919408055307\n",
      "[LightGBM] [Warning] bagging_freq is set=1, subsample_freq=0 will be ignored. Current value: bagging_freq=1\n"
     ]
    },
    {
     "name": "stderr",
     "output_type": "stream",
     "text": [
      "\u001b[32m[I 2023-01-24 09:34:53,329]\u001b[0m Trial 82 finished with value: 1.0 and parameters: {'lambda_l1': 9.994252139487939, 'lambda_l2': 0.007719919408055307, 'num_leaves': 119, 'feature_fraction': 0.7327389354999198, 'bagging_fraction': 0.8573264583221485, 'bagging_freq': 1, 'min_child_samples': 17}. Best is trial 14 with value: 1.0.\u001b[0m\n"
     ]
    },
    {
     "name": "stdout",
     "output_type": "stream",
     "text": [
      "[LightGBM] [Warning] bagging_fraction is set=0.8361770780250486, subsample=1.0 will be ignored. Current value: bagging_fraction=0.8361770780250486\n",
      "[LightGBM] [Warning] lambda_l1 is set=3.708770301197002, reg_alpha=0.0 will be ignored. Current value: lambda_l1=3.708770301197002\n",
      "[LightGBM] [Warning] feature_fraction is set=0.7571532558527165, colsample_bytree=1.0 will be ignored. Current value: feature_fraction=0.7571532558527165\n",
      "[LightGBM] [Warning] lambda_l2 is set=0.0035677247835826428, reg_lambda=0.0 will be ignored. Current value: lambda_l2=0.0035677247835826428\n",
      "[LightGBM] [Warning] bagging_freq is set=1, subsample_freq=0 will be ignored. Current value: bagging_freq=1\n"
     ]
    },
    {
     "name": "stderr",
     "output_type": "stream",
     "text": [
      "\u001b[32m[I 2023-01-24 09:34:53,940]\u001b[0m Trial 83 finished with value: 1.0 and parameters: {'lambda_l1': 3.708770301197002, 'lambda_l2': 0.0035677247835826428, 'num_leaves': 108, 'feature_fraction': 0.7571532558527165, 'bagging_fraction': 0.8361770780250486, 'bagging_freq': 1, 'min_child_samples': 20}. Best is trial 14 with value: 1.0.\u001b[0m\n"
     ]
    },
    {
     "name": "stdout",
     "output_type": "stream",
     "text": [
      "[LightGBM] [Warning] bagging_fraction is set=0.8808362936624577, subsample=1.0 will be ignored. Current value: bagging_fraction=0.8808362936624577\n",
      "[LightGBM] [Warning] lambda_l1 is set=5.956100774548644, reg_alpha=0.0 will be ignored. Current value: lambda_l1=5.956100774548644\n",
      "[LightGBM] [Warning] feature_fraction is set=0.7014307267476739, colsample_bytree=1.0 will be ignored. Current value: feature_fraction=0.7014307267476739\n",
      "[LightGBM] [Warning] lambda_l2 is set=0.06508851500380831, reg_lambda=0.0 will be ignored. Current value: lambda_l2=0.06508851500380831\n",
      "[LightGBM] [Warning] bagging_freq is set=2, subsample_freq=0 will be ignored. Current value: bagging_freq=2\n"
     ]
    },
    {
     "name": "stderr",
     "output_type": "stream",
     "text": [
      "\u001b[32m[I 2023-01-24 09:34:54,537]\u001b[0m Trial 84 finished with value: 1.0 and parameters: {'lambda_l1': 5.956100774548644, 'lambda_l2': 0.06508851500380831, 'num_leaves': 98, 'feature_fraction': 0.7014307267476739, 'bagging_fraction': 0.8808362936624577, 'bagging_freq': 2, 'min_child_samples': 24}. Best is trial 14 with value: 1.0.\u001b[0m\n"
     ]
    },
    {
     "name": "stdout",
     "output_type": "stream",
     "text": [
      "[LightGBM] [Warning] bagging_fraction is set=0.9383334113391202, subsample=1.0 will be ignored. Current value: bagging_fraction=0.9383334113391202\n",
      "[LightGBM] [Warning] lambda_l1 is set=0.9268899920434495, reg_alpha=0.0 will be ignored. Current value: lambda_l1=0.9268899920434495\n",
      "[LightGBM] [Warning] feature_fraction is set=0.7879065008050061, colsample_bytree=1.0 will be ignored. Current value: feature_fraction=0.7879065008050061\n",
      "[LightGBM] [Warning] lambda_l2 is set=0.018050444242394464, reg_lambda=0.0 will be ignored. Current value: lambda_l2=0.018050444242394464\n",
      "[LightGBM] [Warning] bagging_freq is set=1, subsample_freq=0 will be ignored. Current value: bagging_freq=1\n"
     ]
    },
    {
     "name": "stderr",
     "output_type": "stream",
     "text": [
      "\u001b[32m[I 2023-01-24 09:34:55,233]\u001b[0m Trial 85 finished with value: 0.9814814814814815 and parameters: {'lambda_l1': 0.9268899920434495, 'lambda_l2': 0.018050444242394464, 'num_leaves': 146, 'feature_fraction': 0.7879065008050061, 'bagging_fraction': 0.9383334113391202, 'bagging_freq': 1, 'min_child_samples': 28}. Best is trial 14 with value: 1.0.\u001b[0m\n"
     ]
    },
    {
     "name": "stdout",
     "output_type": "stream",
     "text": [
      "[LightGBM] [Warning] bagging_fraction is set=0.8150166367898382, subsample=1.0 will be ignored. Current value: bagging_fraction=0.8150166367898382\n",
      "[LightGBM] [Warning] lambda_l1 is set=2.187860890643692, reg_alpha=0.0 will be ignored. Current value: lambda_l1=2.187860890643692\n",
      "[LightGBM] [Warning] feature_fraction is set=0.7751384399306861, colsample_bytree=1.0 will be ignored. Current value: feature_fraction=0.7751384399306861\n",
      "[LightGBM] [Warning] lambda_l2 is set=0.04057450425796725, reg_lambda=0.0 will be ignored. Current value: lambda_l2=0.04057450425796725\n",
      "[LightGBM] [Warning] bagging_freq is set=1, subsample_freq=0 will be ignored. Current value: bagging_freq=1\n"
     ]
    },
    {
     "name": "stderr",
     "output_type": "stream",
     "text": [
      "\u001b[32m[I 2023-01-24 09:34:55,837]\u001b[0m Trial 86 finished with value: 0.9814814814814815 and parameters: {'lambda_l1': 2.187860890643692, 'lambda_l2': 0.04057450425796725, 'num_leaves': 19, 'feature_fraction': 0.7751384399306861, 'bagging_fraction': 0.8150166367898382, 'bagging_freq': 1, 'min_child_samples': 30}. Best is trial 14 with value: 1.0.\u001b[0m\n"
     ]
    },
    {
     "name": "stdout",
     "output_type": "stream",
     "text": [
      "[LightGBM] [Warning] bagging_fraction is set=0.921178439708199, subsample=1.0 will be ignored. Current value: bagging_fraction=0.921178439708199\n",
      "[LightGBM] [Warning] lambda_l1 is set=9.89839260307807, reg_alpha=0.0 will be ignored. Current value: lambda_l1=9.89839260307807\n",
      "[LightGBM] [Warning] feature_fraction is set=0.7464242451224312, colsample_bytree=1.0 will be ignored. Current value: feature_fraction=0.7464242451224312\n",
      "[LightGBM] [Warning] lambda_l2 is set=0.0054832147748581795, reg_lambda=0.0 will be ignored. Current value: lambda_l2=0.0054832147748581795\n",
      "[LightGBM] [Warning] bagging_freq is set=7, subsample_freq=0 will be ignored. Current value: bagging_freq=7\n"
     ]
    },
    {
     "name": "stderr",
     "output_type": "stream",
     "text": [
      "\u001b[32m[I 2023-01-24 09:34:58,322]\u001b[0m Trial 87 finished with value: 0.9814814814814815 and parameters: {'lambda_l1': 9.89839260307807, 'lambda_l2': 0.0054832147748581795, 'num_leaves': 125, 'feature_fraction': 0.7464242451224312, 'bagging_fraction': 0.921178439708199, 'bagging_freq': 7, 'min_child_samples': 21}. Best is trial 14 with value: 1.0.\u001b[0m\n"
     ]
    },
    {
     "name": "stdout",
     "output_type": "stream",
     "text": [
      "[LightGBM] [Warning] bagging_fraction is set=0.8671938806202514, subsample=1.0 will be ignored. Current value: bagging_fraction=0.8671938806202514\n",
      "[LightGBM] [Warning] lambda_l1 is set=3.724806170222979, reg_alpha=0.0 will be ignored. Current value: lambda_l1=3.724806170222979\n",
      "[LightGBM] [Warning] feature_fraction is set=0.8367648196634112, colsample_bytree=1.0 will be ignored. Current value: feature_fraction=0.8367648196634112\n",
      "[LightGBM] [Warning] lambda_l2 is set=0.0006070001313066186, reg_lambda=0.0 will be ignored. Current value: lambda_l2=0.0006070001313066186\n",
      "[LightGBM] [Warning] bagging_freq is set=2, subsample_freq=0 will be ignored. Current value: bagging_freq=2\n"
     ]
    },
    {
     "name": "stderr",
     "output_type": "stream",
     "text": [
      "\u001b[32m[I 2023-01-24 09:34:59,429]\u001b[0m Trial 88 finished with value: 0.9814814814814815 and parameters: {'lambda_l1': 3.724806170222979, 'lambda_l2': 0.0006070001313066186, 'num_leaves': 44, 'feature_fraction': 0.8367648196634112, 'bagging_fraction': 0.8671938806202514, 'bagging_freq': 2, 'min_child_samples': 35}. Best is trial 14 with value: 1.0.\u001b[0m\n"
     ]
    },
    {
     "name": "stdout",
     "output_type": "stream",
     "text": [
      "[LightGBM] [Warning] bagging_fraction is set=0.9090691023424712, subsample=1.0 will be ignored. Current value: bagging_fraction=0.9090691023424712\n",
      "[LightGBM] [Warning] lambda_l1 is set=6.058259967185577, reg_alpha=0.0 will be ignored. Current value: lambda_l1=6.058259967185577\n",
      "[LightGBM] [Warning] feature_fraction is set=0.7138204445847708, colsample_bytree=1.0 will be ignored. Current value: feature_fraction=0.7138204445847708\n",
      "[LightGBM] [Warning] lambda_l2 is set=0.0002480704205374345, reg_lambda=0.0 will be ignored. Current value: lambda_l2=0.0002480704205374345\n",
      "[LightGBM] [Warning] bagging_freq is set=1, subsample_freq=0 will be ignored. Current value: bagging_freq=1\n"
     ]
    },
    {
     "name": "stderr",
     "output_type": "stream",
     "text": [
      "\u001b[32m[I 2023-01-24 09:35:00,627]\u001b[0m Trial 89 finished with value: 0.9814814814814815 and parameters: {'lambda_l1': 6.058259967185577, 'lambda_l2': 0.0002480704205374345, 'num_leaves': 67, 'feature_fraction': 0.7138204445847708, 'bagging_fraction': 0.9090691023424712, 'bagging_freq': 1, 'min_child_samples': 10}. Best is trial 14 with value: 1.0.\u001b[0m\n"
     ]
    },
    {
     "name": "stdout",
     "output_type": "stream",
     "text": [
      "[LightGBM] [Warning] bagging_fraction is set=0.8944223023112906, subsample=1.0 will be ignored. Current value: bagging_fraction=0.8944223023112906\n",
      "[LightGBM] [Warning] lambda_l1 is set=1.1364858596217047, reg_alpha=0.0 will be ignored. Current value: lambda_l1=1.1364858596217047\n",
      "[LightGBM] [Warning] feature_fraction is set=0.8164120004663713, colsample_bytree=1.0 will be ignored. Current value: feature_fraction=0.8164120004663713\n",
      "[LightGBM] [Warning] lambda_l2 is set=0.0016279252343348617, reg_lambda=0.0 will be ignored. Current value: lambda_l2=0.0016279252343348617\n",
      "[LightGBM] [Warning] bagging_freq is set=2, subsample_freq=0 will be ignored. Current value: bagging_freq=2\n"
     ]
    },
    {
     "name": "stderr",
     "output_type": "stream",
     "text": [
      "\u001b[32m[I 2023-01-24 09:35:02,328]\u001b[0m Trial 90 finished with value: 0.9814814814814815 and parameters: {'lambda_l1': 1.1364858596217047, 'lambda_l2': 0.0016279252343348617, 'num_leaves': 110, 'feature_fraction': 0.8164120004663713, 'bagging_fraction': 0.8944223023112906, 'bagging_freq': 2, 'min_child_samples': 16}. Best is trial 14 with value: 1.0.\u001b[0m\n"
     ]
    },
    {
     "name": "stdout",
     "output_type": "stream",
     "text": [
      "[LightGBM] [Warning] bagging_fraction is set=0.8582553874233454, subsample=1.0 will be ignored. Current value: bagging_fraction=0.8582553874233454\n",
      "[LightGBM] [Warning] lambda_l1 is set=6.401481601848671, reg_alpha=0.0 will be ignored. Current value: lambda_l1=6.401481601848671\n",
      "[LightGBM] [Warning] feature_fraction is set=0.7186745687007596, colsample_bytree=1.0 will be ignored. Current value: feature_fraction=0.7186745687007596\n",
      "[LightGBM] [Warning] lambda_l2 is set=0.0021284594875523024, reg_lambda=0.0 will be ignored. Current value: lambda_l2=0.0021284594875523024\n",
      "[LightGBM] [Warning] bagging_freq is set=1, subsample_freq=0 will be ignored. Current value: bagging_freq=1\n"
     ]
    },
    {
     "name": "stderr",
     "output_type": "stream",
     "text": [
      "\u001b[32m[I 2023-01-24 09:35:03,520]\u001b[0m Trial 91 finished with value: 0.9814814814814815 and parameters: {'lambda_l1': 6.401481601848671, 'lambda_l2': 0.0021284594875523024, 'num_leaves': 89, 'feature_fraction': 0.7186745687007596, 'bagging_fraction': 0.8582553874233454, 'bagging_freq': 1, 'min_child_samples': 31}. Best is trial 14 with value: 1.0.\u001b[0m\n"
     ]
    },
    {
     "name": "stdout",
     "output_type": "stream",
     "text": [
      "[LightGBM] [Warning] bagging_fraction is set=0.8375976865587437, subsample=1.0 will be ignored. Current value: bagging_fraction=0.8375976865587437\n",
      "[LightGBM] [Warning] lambda_l1 is set=9.889883542010471, reg_alpha=0.0 will be ignored. Current value: lambda_l1=9.889883542010471\n",
      "[LightGBM] [Warning] feature_fraction is set=0.6819422932251051, colsample_bytree=1.0 will be ignored. Current value: feature_fraction=0.6819422932251051\n",
      "[LightGBM] [Warning] lambda_l2 is set=0.0010739486929857234, reg_lambda=0.0 will be ignored. Current value: lambda_l2=0.0010739486929857234\n",
      "[LightGBM] [Warning] bagging_freq is set=1, subsample_freq=0 will be ignored. Current value: bagging_freq=1\n"
     ]
    },
    {
     "name": "stderr",
     "output_type": "stream",
     "text": [
      "\u001b[32m[I 2023-01-24 09:35:04,624]\u001b[0m Trial 92 finished with value: 1.0 and parameters: {'lambda_l1': 9.889883542010471, 'lambda_l2': 0.0010739486929857234, 'num_leaves': 94, 'feature_fraction': 0.6819422932251051, 'bagging_fraction': 0.8375976865587437, 'bagging_freq': 1, 'min_child_samples': 24}. Best is trial 14 with value: 1.0.\u001b[0m\n"
     ]
    },
    {
     "name": "stdout",
     "output_type": "stream",
     "text": [
      "[LightGBM] [Warning] bagging_fraction is set=0.8637365330150616, subsample=1.0 will be ignored. Current value: bagging_fraction=0.8637365330150616\n",
      "[LightGBM] [Warning] lambda_l1 is set=2.8195331310127996, reg_alpha=0.0 will be ignored. Current value: lambda_l1=2.8195331310127996\n",
      "[LightGBM] [Warning] feature_fraction is set=0.7359305990680464, colsample_bytree=1.0 will be ignored. Current value: feature_fraction=0.7359305990680464\n",
      "[LightGBM] [Warning] lambda_l2 is set=0.0015641895719670342, reg_lambda=0.0 will be ignored. Current value: lambda_l2=0.0015641895719670342\n",
      "[LightGBM] [Warning] bagging_freq is set=1, subsample_freq=0 will be ignored. Current value: bagging_freq=1\n"
     ]
    },
    {
     "name": "stderr",
     "output_type": "stream",
     "text": [
      "\u001b[32m[I 2023-01-24 09:35:06,031]\u001b[0m Trial 93 finished with value: 0.9814814814814815 and parameters: {'lambda_l1': 2.8195331310127996, 'lambda_l2': 0.0015641895719670342, 'num_leaves': 36, 'feature_fraction': 0.7359305990680464, 'bagging_fraction': 0.8637365330150616, 'bagging_freq': 1, 'min_child_samples': 19}. Best is trial 14 with value: 1.0.\u001b[0m\n"
     ]
    },
    {
     "name": "stdout",
     "output_type": "stream",
     "text": [
      "[LightGBM] [Warning] bagging_fraction is set=0.8860511828554238, subsample=1.0 will be ignored. Current value: bagging_fraction=0.8860511828554238\n",
      "[LightGBM] [Warning] lambda_l1 is set=4.430726822299943, reg_alpha=0.0 will be ignored. Current value: lambda_l1=4.430726822299943\n",
      "[LightGBM] [Warning] feature_fraction is set=0.7524168154750928, colsample_bytree=1.0 will be ignored. Current value: feature_fraction=0.7524168154750928\n",
      "[LightGBM] [Warning] lambda_l2 is set=0.004317124354412527, reg_lambda=0.0 will be ignored. Current value: lambda_l2=0.004317124354412527\n",
      "[LightGBM] [Warning] bagging_freq is set=1, subsample_freq=0 will be ignored. Current value: bagging_freq=1\n"
     ]
    },
    {
     "name": "stderr",
     "output_type": "stream",
     "text": [
      "\u001b[32m[I 2023-01-24 09:35:06,921]\u001b[0m Trial 94 finished with value: 1.0 and parameters: {'lambda_l1': 4.430726822299943, 'lambda_l2': 0.004317124354412527, 'num_leaves': 133, 'feature_fraction': 0.7524168154750928, 'bagging_fraction': 0.8860511828554238, 'bagging_freq': 1, 'min_child_samples': 28}. Best is trial 14 with value: 1.0.\u001b[0m\n"
     ]
    },
    {
     "name": "stdout",
     "output_type": "stream",
     "text": [
      "[LightGBM] [Warning] bagging_fraction is set=0.8009063770778935, subsample=1.0 will be ignored. Current value: bagging_fraction=0.8009063770778935\n",
      "[LightGBM] [Warning] lambda_l1 is set=1.727704445156819, reg_alpha=0.0 will be ignored. Current value: lambda_l1=1.727704445156819\n",
      "[LightGBM] [Warning] feature_fraction is set=0.7968149502409578, colsample_bytree=1.0 will be ignored. Current value: feature_fraction=0.7968149502409578\n",
      "[LightGBM] [Warning] lambda_l2 is set=0.000379056546675672, reg_lambda=0.0 will be ignored. Current value: lambda_l2=0.000379056546675672\n",
      "[LightGBM] [Warning] bagging_freq is set=1, subsample_freq=0 will be ignored. Current value: bagging_freq=1\n"
     ]
    },
    {
     "name": "stderr",
     "output_type": "stream",
     "text": [
      "\u001b[32m[I 2023-01-24 09:35:08,042]\u001b[0m Trial 95 finished with value: 0.9814814814814815 and parameters: {'lambda_l1': 1.727704445156819, 'lambda_l2': 0.000379056546675672, 'num_leaves': 55, 'feature_fraction': 0.7968149502409578, 'bagging_fraction': 0.8009063770778935, 'bagging_freq': 1, 'min_child_samples': 26}. Best is trial 14 with value: 1.0.\u001b[0m\n"
     ]
    },
    {
     "name": "stdout",
     "output_type": "stream",
     "text": [
      "[LightGBM] [Warning] bagging_fraction is set=0.9273834157688702, subsample=1.0 will be ignored. Current value: bagging_fraction=0.9273834157688702\n",
      "[LightGBM] [Warning] lambda_l1 is set=7.007843207439792, reg_alpha=0.0 will be ignored. Current value: lambda_l1=7.007843207439792\n",
      "[LightGBM] [Warning] feature_fraction is set=0.7257337221739689, colsample_bytree=1.0 will be ignored. Current value: feature_fraction=0.7257337221739689\n",
      "[LightGBM] [Warning] lambda_l2 is set=0.003002891360044414, reg_lambda=0.0 will be ignored. Current value: lambda_l2=0.003002891360044414\n",
      "[LightGBM] [Warning] bagging_freq is set=3, subsample_freq=0 will be ignored. Current value: bagging_freq=3\n"
     ]
    },
    {
     "name": "stderr",
     "output_type": "stream",
     "text": [
      "\u001b[32m[I 2023-01-24 09:35:09,920]\u001b[0m Trial 96 finished with value: 1.0 and parameters: {'lambda_l1': 7.007843207439792, 'lambda_l2': 0.003002891360044414, 'num_leaves': 121, 'feature_fraction': 0.7257337221739689, 'bagging_fraction': 0.9273834157688702, 'bagging_freq': 3, 'min_child_samples': 18}. Best is trial 14 with value: 1.0.\u001b[0m\n"
     ]
    },
    {
     "name": "stdout",
     "output_type": "stream",
     "text": [
      "[LightGBM] [Warning] bagging_fraction is set=0.8735975729697584, subsample=1.0 will be ignored. Current value: bagging_fraction=0.8735975729697584\n",
      "[LightGBM] [Warning] lambda_l1 is set=0.6079498001334874, reg_alpha=0.0 will be ignored. Current value: lambda_l1=0.6079498001334874\n",
      "[LightGBM] [Warning] feature_fraction is set=0.7653890054087347, colsample_bytree=1.0 will be ignored. Current value: feature_fraction=0.7653890054087347\n",
      "[LightGBM] [Warning] lambda_l2 is set=8.734157518892662e-05, reg_lambda=0.0 will be ignored. Current value: lambda_l2=8.734157518892662e-05\n",
      "[LightGBM] [Warning] bagging_freq is set=2, subsample_freq=0 will be ignored. Current value: bagging_freq=2\n"
     ]
    },
    {
     "name": "stderr",
     "output_type": "stream",
     "text": [
      "\u001b[32m[I 2023-01-24 09:35:11,419]\u001b[0m Trial 97 finished with value: 0.9814814814814815 and parameters: {'lambda_l1': 0.6079498001334874, 'lambda_l2': 8.734157518892662e-05, 'num_leaves': 155, 'feature_fraction': 0.7653890054087347, 'bagging_fraction': 0.8735975729697584, 'bagging_freq': 2, 'min_child_samples': 14}. Best is trial 14 with value: 1.0.\u001b[0m\n"
     ]
    },
    {
     "name": "stdout",
     "output_type": "stream",
     "text": [
      "[LightGBM] [Warning] bagging_fraction is set=0.8441037792054307, subsample=1.0 will be ignored. Current value: bagging_fraction=0.8441037792054307\n",
      "[LightGBM] [Warning] lambda_l1 is set=3.76619506672726, reg_alpha=0.0 will be ignored. Current value: lambda_l1=3.76619506672726\n",
      "[LightGBM] [Warning] feature_fraction is set=0.709106210808947, colsample_bytree=1.0 will be ignored. Current value: feature_fraction=0.709106210808947\n",
      "[LightGBM] [Warning] lambda_l2 is set=0.0006495313720384984, reg_lambda=0.0 will be ignored. Current value: lambda_l2=0.0006495313720384984\n",
      "[LightGBM] [Warning] bagging_freq is set=2, subsample_freq=0 will be ignored. Current value: bagging_freq=2\n"
     ]
    },
    {
     "name": "stderr",
     "output_type": "stream",
     "text": [
      "\u001b[32m[I 2023-01-24 09:35:12,839]\u001b[0m Trial 98 finished with value: 0.9814814814814815 and parameters: {'lambda_l1': 3.76619506672726, 'lambda_l2': 0.0006495313720384984, 'num_leaves': 101, 'feature_fraction': 0.709106210808947, 'bagging_fraction': 0.8441037792054307, 'bagging_freq': 2, 'min_child_samples': 34}. Best is trial 14 with value: 1.0.\u001b[0m\n"
     ]
    },
    {
     "name": "stdout",
     "output_type": "stream",
     "text": [
      "[LightGBM] [Warning] bagging_fraction is set=0.8608740398233584, subsample=1.0 will be ignored. Current value: bagging_fraction=0.8608740398233584\n",
      "[LightGBM] [Warning] lambda_l1 is set=2.279186925966232, reg_alpha=0.0 will be ignored. Current value: lambda_l1=2.279186925966232\n",
      "[LightGBM] [Warning] feature_fraction is set=0.6945612898897333, colsample_bytree=1.0 will be ignored. Current value: feature_fraction=0.6945612898897333\n",
      "[LightGBM] [Warning] lambda_l2 is set=0.008309692873727997, reg_lambda=0.0 will be ignored. Current value: lambda_l2=0.008309692873727997\n",
      "[LightGBM] [Warning] bagging_freq is set=5, subsample_freq=0 will be ignored. Current value: bagging_freq=5\n"
     ]
    },
    {
     "name": "stderr",
     "output_type": "stream",
     "text": [
      "\u001b[32m[I 2023-01-24 09:35:13,521]\u001b[0m Trial 99 finished with value: 0.9814814814814815 and parameters: {'lambda_l1': 2.279186925966232, 'lambda_l2': 0.008309692873727997, 'num_leaves': 114, 'feature_fraction': 0.6945612898897333, 'bagging_fraction': 0.8608740398233584, 'bagging_freq': 5, 'min_child_samples': 59}. Best is trial 14 with value: 1.0.\u001b[0m\n"
     ]
    }
   ],
   "source": [
    "sampler = TPESampler(seed=1)\n",
    "study = optuna.create_study(study_name=\"lightgbm\", direction=\"maximize\", sampler=sampler)\n",
    "study.optimize(objective, n_trials=100)\n"
   ]
  },
  {
   "cell_type": "code",
   "execution_count": 11,
   "metadata": {},
   "outputs": [
    {
     "name": "stdout",
     "output_type": "stream",
     "text": [
      "Best parameters: {'lambda_l1': 9.81855410815485, 'lambda_l2': 5.0988035718136486e-06, 'num_leaves': 4, 'feature_fraction': 0.8844458592179963, 'bagging_fraction': 0.8661563398409448, 'bagging_freq': 2, 'min_child_samples': 17}\n"
     ]
    }
   ],
   "source": [
    "print('Best parameters:', study.best_params)"
   ]
  },
  {
   "cell_type": "code",
   "execution_count": 12,
   "metadata": {},
   "outputs": [
    {
     "name": "stdout",
     "output_type": "stream",
     "text": [
      "Best value: 1.0\n"
     ]
    }
   ],
   "source": [
    "print('Best value:', study.best_value)"
   ]
  },
  {
   "cell_type": "code",
   "execution_count": 13,
   "metadata": {},
   "outputs": [
    {
     "name": "stdout",
     "output_type": "stream",
     "text": [
      "Best trial: FrozenTrial(number=14, state=TrialState.COMPLETE, values=[1.0], datetime_start=datetime.datetime(2023, 1, 24, 9, 33, 59, 641529), datetime_complete=datetime.datetime(2023, 1, 24, 9, 34, 0, 219767), params={'lambda_l1': 9.81855410815485, 'lambda_l2': 5.0988035718136486e-06, 'num_leaves': 4, 'feature_fraction': 0.8844458592179963, 'bagging_fraction': 0.8661563398409448, 'bagging_freq': 2, 'min_child_samples': 17}, user_attrs={}, system_attrs={}, intermediate_values={}, distributions={'lambda_l1': FloatDistribution(high=10.0, log=True, low=1e-08, step=None), 'lambda_l2': FloatDistribution(high=10.0, log=True, low=1e-08, step=None), 'num_leaves': IntDistribution(high=256, log=False, low=2, step=1), 'feature_fraction': FloatDistribution(high=1.0, log=False, low=0.4, step=None), 'bagging_fraction': FloatDistribution(high=1.0, log=False, low=0.4, step=None), 'bagging_freq': IntDistribution(high=7, log=False, low=1, step=1), 'min_child_samples': IntDistribution(high=100, log=False, low=5, step=1)}, trial_id=14, value=None)\n"
     ]
    }
   ],
   "source": [
    "print('Best trial:', study.best_trial)"
   ]
  },
  {
   "cell_type": "code",
   "execution_count": 14,
   "metadata": {},
   "outputs": [
    {
     "name": "stdout",
     "output_type": "stream",
     "text": [
      "[LightGBM] [Warning] bagging_fraction is set=0.8661563398409448, subsample=1.0 will be ignored. Current value: bagging_fraction=0.8661563398409448\n",
      "[LightGBM] [Warning] lambda_l1 is set=9.81855410815485, reg_alpha=0.0 will be ignored. Current value: lambda_l1=9.81855410815485\n",
      "[LightGBM] [Warning] feature_fraction is set=0.8844458592179963, colsample_bytree=1.0 will be ignored. Current value: feature_fraction=0.8844458592179963\n",
      "[LightGBM] [Warning] bagging_freq is set=2, subsample_freq=0 will be ignored. Current value: bagging_freq=2\n",
      "[LightGBM] [Warning] lambda_l2 is set=5.0988035718136486e-06, reg_lambda=0.0 will be ignored. Current value: lambda_l2=5.0988035718136486e-06\n"
     ]
    },
    {
     "data": {
      "text/html": [
       "<style>#sk-container-id-2 {color: black;background-color: white;}#sk-container-id-2 pre{padding: 0;}#sk-container-id-2 div.sk-toggleable {background-color: white;}#sk-container-id-2 label.sk-toggleable__label {cursor: pointer;display: block;width: 100%;margin-bottom: 0;padding: 0.3em;box-sizing: border-box;text-align: center;}#sk-container-id-2 label.sk-toggleable__label-arrow:before {content: \"▸\";float: left;margin-right: 0.25em;color: #696969;}#sk-container-id-2 label.sk-toggleable__label-arrow:hover:before {color: black;}#sk-container-id-2 div.sk-estimator:hover label.sk-toggleable__label-arrow:before {color: black;}#sk-container-id-2 div.sk-toggleable__content {max-height: 0;max-width: 0;overflow: hidden;text-align: left;background-color: #f0f8ff;}#sk-container-id-2 div.sk-toggleable__content pre {margin: 0.2em;color: black;border-radius: 0.25em;background-color: #f0f8ff;}#sk-container-id-2 input.sk-toggleable__control:checked~div.sk-toggleable__content {max-height: 200px;max-width: 100%;overflow: auto;}#sk-container-id-2 input.sk-toggleable__control:checked~label.sk-toggleable__label-arrow:before {content: \"▾\";}#sk-container-id-2 div.sk-estimator input.sk-toggleable__control:checked~label.sk-toggleable__label {background-color: #d4ebff;}#sk-container-id-2 div.sk-label input.sk-toggleable__control:checked~label.sk-toggleable__label {background-color: #d4ebff;}#sk-container-id-2 input.sk-hidden--visually {border: 0;clip: rect(1px 1px 1px 1px);clip: rect(1px, 1px, 1px, 1px);height: 1px;margin: -1px;overflow: hidden;padding: 0;position: absolute;width: 1px;}#sk-container-id-2 div.sk-estimator {font-family: monospace;background-color: #f0f8ff;border: 1px dotted black;border-radius: 0.25em;box-sizing: border-box;margin-bottom: 0.5em;}#sk-container-id-2 div.sk-estimator:hover {background-color: #d4ebff;}#sk-container-id-2 div.sk-parallel-item::after {content: \"\";width: 100%;border-bottom: 1px solid gray;flex-grow: 1;}#sk-container-id-2 div.sk-label:hover label.sk-toggleable__label {background-color: #d4ebff;}#sk-container-id-2 div.sk-serial::before {content: \"\";position: absolute;border-left: 1px solid gray;box-sizing: border-box;top: 0;bottom: 0;left: 50%;z-index: 0;}#sk-container-id-2 div.sk-serial {display: flex;flex-direction: column;align-items: center;background-color: white;padding-right: 0.2em;padding-left: 0.2em;position: relative;}#sk-container-id-2 div.sk-item {position: relative;z-index: 1;}#sk-container-id-2 div.sk-parallel {display: flex;align-items: stretch;justify-content: center;background-color: white;position: relative;}#sk-container-id-2 div.sk-item::before, #sk-container-id-2 div.sk-parallel-item::before {content: \"\";position: absolute;border-left: 1px solid gray;box-sizing: border-box;top: 0;bottom: 0;left: 50%;z-index: -1;}#sk-container-id-2 div.sk-parallel-item {display: flex;flex-direction: column;z-index: 1;position: relative;background-color: white;}#sk-container-id-2 div.sk-parallel-item:first-child::after {align-self: flex-end;width: 50%;}#sk-container-id-2 div.sk-parallel-item:last-child::after {align-self: flex-start;width: 50%;}#sk-container-id-2 div.sk-parallel-item:only-child::after {width: 0;}#sk-container-id-2 div.sk-dashed-wrapped {border: 1px dashed gray;margin: 0 0.4em 0.5em 0.4em;box-sizing: border-box;padding-bottom: 0.4em;background-color: white;}#sk-container-id-2 div.sk-label label {font-family: monospace;font-weight: bold;display: inline-block;line-height: 1.2em;}#sk-container-id-2 div.sk-label-container {text-align: center;}#sk-container-id-2 div.sk-container {/* jupyter's `normalize.less` sets `[hidden] { display: none; }` but bootstrap.min.css set `[hidden] { display: none !important; }` so we also need the `!important` here to be able to override the default hidden behavior on the sphinx rendered scikit-learn.org. See: https://github.com/scikit-learn/scikit-learn/issues/21755 */display: inline-block !important;position: relative;}#sk-container-id-2 div.sk-text-repr-fallback {display: none;}</style><div id=\"sk-container-id-2\" class=\"sk-top-container\"><div class=\"sk-text-repr-fallback\"><pre>LGBMClassifier(bagging_fraction=0.8661563398409448, bagging_freq=2,\n",
       "               feature_fraction=0.8844458592179963, lambda_l1=9.81855410815485,\n",
       "               lambda_l2=5.0988035718136486e-06, min_child_samples=17,\n",
       "               num_leaves=4)</pre><b>In a Jupyter environment, please rerun this cell to show the HTML representation or trust the notebook. <br />On GitHub, the HTML representation is unable to render, please try loading this page with nbviewer.org.</b></div><div class=\"sk-container\" hidden><div class=\"sk-item\"><div class=\"sk-estimator sk-toggleable\"><input class=\"sk-toggleable__control sk-hidden--visually\" id=\"sk-estimator-id-2\" type=\"checkbox\" checked><label for=\"sk-estimator-id-2\" class=\"sk-toggleable__label sk-toggleable__label-arrow\">LGBMClassifier</label><div class=\"sk-toggleable__content\"><pre>LGBMClassifier(bagging_fraction=0.8661563398409448, bagging_freq=2,\n",
       "               feature_fraction=0.8844458592179963, lambda_l1=9.81855410815485,\n",
       "               lambda_l2=5.0988035718136486e-06, min_child_samples=17,\n",
       "               num_leaves=4)</pre></div></div></div></div></div>"
      ],
      "text/plain": [
       "LGBMClassifier(bagging_fraction=0.8661563398409448, bagging_freq=2,\n",
       "               feature_fraction=0.8844458592179963, lambda_l1=9.81855410815485,\n",
       "               lambda_l2=5.0988035718136486e-06, min_child_samples=17,\n",
       "               num_leaves=4)"
      ]
     },
     "execution_count": 14,
     "metadata": {},
     "output_type": "execute_result"
    }
   ],
   "source": [
    "model = lgb.LGBMClassifier(**study.best_params)\n",
    "model.fit(X_train, y_train)\n"
   ]
  },
  {
   "cell_type": "code",
   "execution_count": 15,
   "metadata": {},
   "outputs": [],
   "source": [
    "y_pred = model.predict(X_test)"
   ]
  },
  {
   "cell_type": "code",
   "execution_count": 16,
   "metadata": {},
   "outputs": [
    {
     "data": {
      "text/plain": [
       "1.0"
      ]
     },
     "execution_count": 16,
     "metadata": {},
     "output_type": "execute_result"
    }
   ],
   "source": [
    "accuracy_score(y_test, y_pred)"
   ]
  },
  {
   "cell_type": "code",
   "execution_count": 17,
   "metadata": {},
   "outputs": [
    {
     "name": "stdout",
     "output_type": "stream",
     "text": [
      "              precision    recall  f1-score   support\n",
      "\n",
      "           0       1.00      1.00      1.00        23\n",
      "           1       1.00      1.00      1.00        19\n",
      "           2       1.00      1.00      1.00        12\n",
      "\n",
      "    accuracy                           1.00        54\n",
      "   macro avg       1.00      1.00      1.00        54\n",
      "weighted avg       1.00      1.00      1.00        54\n",
      "\n"
     ]
    }
   ],
   "source": [
    "print(classification_report(y_test, y_pred))"
   ]
  },
  {
   "cell_type": "code",
   "execution_count": null,
   "metadata": {},
   "outputs": [],
   "source": []
  }
 ],
 "metadata": {
  "kernelspec": {
   "display_name": "ml",
   "language": "python",
   "name": "python3"
  },
  "language_info": {
   "codemirror_mode": {
    "name": "ipython",
    "version": 3
   },
   "file_extension": ".py",
   "mimetype": "text/x-python",
   "name": "python",
   "nbconvert_exporter": "python",
   "pygments_lexer": "ipython3",
   "version": "3.9.15 | packaged by conda-forge | (main, Nov 22 2022, 15:55:03) \n[GCC 10.4.0]"
  },
  "orig_nbformat": 4,
  "vscode": {
   "interpreter": {
    "hash": "14e3b66b9136298b1438aa954b24fb6042eb4a7b64fe2e32b506f4a92d36ab42"
   }
  }
 },
 "nbformat": 4,
 "nbformat_minor": 2
}
