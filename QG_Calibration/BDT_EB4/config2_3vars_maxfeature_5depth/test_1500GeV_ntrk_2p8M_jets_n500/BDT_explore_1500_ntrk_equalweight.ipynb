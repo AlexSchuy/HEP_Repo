{
 "cells": [
  {
   "cell_type": "code",
   "execution_count": 1,
   "metadata": {},
   "outputs": [],
   "source": [
    "import argparse\n",
    "import numpy as np\n",
    "import matplotlib.pyplot as plt\n",
    "import pandas as pd\n",
    "\n",
    "import uproot \n",
    "import awkward as ak\n",
    "from pathlib import Path\n",
    "\n",
    "from typing import Dict, List \n",
    "import re\n",
    "import pickle\n",
    "from tqdm import tqdm\n",
    "\n",
    "from sklearn.tree import DecisionTreeClassifier\n",
    "from sklearn.ensemble import AdaBoostClassifier\n",
    "from sklearn.metrics import classification_report, roc_auc_score\n",
    "from sklearn.model_selection import train_test_split\n",
    "\n"
   ]
  },
  {
   "cell_type": "code",
   "execution_count": 2,
   "metadata": {},
   "outputs": [],
   "source": [
    "training_vars = ['jet_nTracks', 'jet_trackWidth', 'jet_trackC1']\n",
    "training_weight = ['equal_weight']\n"
   ]
  },
  {
   "attachments": {},
   "cell_type": "markdown",
   "metadata": {},
   "source": [
    "# Load Data"
   ]
  },
  {
   "cell_type": "code",
   "execution_count": 3,
   "metadata": {},
   "outputs": [],
   "source": [
    "sample_path = '../../samples/sample_1500_2p8M_jets.pkl'\n",
    "sample = pd.read_pickle(sample_path)"
   ]
  },
  {
   "cell_type": "code",
   "execution_count": 4,
   "metadata": {},
   "outputs": [
    {
     "data": {
      "text/plain": [
       "Index(['jet_pt', 'jet_eta', 'jet_nTracks', 'jet_trackWidth', 'jet_trackC1',\n",
       "       'jet_trackBDT', 'jet_PartonTruthLabelID', 'equal_weight',\n",
       "       'event_weight', 'flatpt_weight', 'is_forward', 'target'],\n",
       "      dtype='object')"
      ]
     },
     "execution_count": 4,
     "metadata": {},
     "output_type": "execute_result"
    }
   ],
   "source": [
    "sample.columns"
   ]
  },
  {
   "attachments": {},
   "cell_type": "markdown",
   "metadata": {},
   "source": [
    "# Train with default config"
   ]
  },
  {
   "cell_type": "code",
   "execution_count": 5,
   "metadata": {},
   "outputs": [],
   "source": [
    "X = sample.iloc[:, :-1]\n",
    "y = sample.iloc[:, -1]\n",
    "\n",
    "X_dev,X_eval, y_dev,y_eval = train_test_split(X, y, test_size=0.1, random_state=456)\n",
    "X_train, X_test, y_train, y_test = train_test_split(X_dev, y_dev, test_size=0.1/0.9, random_state=789)"
   ]
  },
  {
   "cell_type": "code",
   "execution_count": 6,
   "metadata": {},
   "outputs": [],
   "source": [
    "event_weight_idx = X.columns.get_loc('event_weight')\n",
    "equal_weight_idx = X.columns.get_loc('equal_weight')\n",
    "flatpt_weight_idx = X.columns.get_loc('flatpt_weight')"
   ]
  },
  {
   "cell_type": "code",
   "execution_count": 7,
   "metadata": {},
   "outputs": [
    {
     "data": {
      "text/html": [
       "<div>\n",
       "<style scoped>\n",
       "    .dataframe tbody tr th:only-of-type {\n",
       "        vertical-align: middle;\n",
       "    }\n",
       "\n",
       "    .dataframe tbody tr th {\n",
       "        vertical-align: top;\n",
       "    }\n",
       "\n",
       "    .dataframe thead th {\n",
       "        text-align: right;\n",
       "    }\n",
       "</style>\n",
       "<table border=\"1\" class=\"dataframe\">\n",
       "  <thead>\n",
       "    <tr style=\"text-align: right;\">\n",
       "      <th></th>\n",
       "      <th>jet_nTracks</th>\n",
       "      <th>jet_trackWidth</th>\n",
       "      <th>jet_trackC1</th>\n",
       "    </tr>\n",
       "  </thead>\n",
       "  <tbody>\n",
       "    <tr>\n",
       "      <th>3422444</th>\n",
       "      <td>9.0</td>\n",
       "      <td>0.031297</td>\n",
       "      <td>0.120248</td>\n",
       "    </tr>\n",
       "    <tr>\n",
       "      <th>2098934</th>\n",
       "      <td>40.0</td>\n",
       "      <td>0.124585</td>\n",
       "      <td>0.253224</td>\n",
       "    </tr>\n",
       "    <tr>\n",
       "      <th>1857852</th>\n",
       "      <td>22.0</td>\n",
       "      <td>0.021922</td>\n",
       "      <td>0.177046</td>\n",
       "    </tr>\n",
       "    <tr>\n",
       "      <th>2630269</th>\n",
       "      <td>16.0</td>\n",
       "      <td>0.009001</td>\n",
       "      <td>0.119791</td>\n",
       "    </tr>\n",
       "    <tr>\n",
       "      <th>308542</th>\n",
       "      <td>27.0</td>\n",
       "      <td>0.108379</td>\n",
       "      <td>0.209307</td>\n",
       "    </tr>\n",
       "  </tbody>\n",
       "</table>\n",
       "</div>"
      ],
      "text/plain": [
       "         jet_nTracks  jet_trackWidth  jet_trackC1\n",
       "3422444          9.0        0.031297     0.120248\n",
       "2098934         40.0        0.124585     0.253224\n",
       "1857852         22.0        0.021922     0.177046\n",
       "2630269         16.0        0.009001     0.119791\n",
       "308542          27.0        0.108379     0.209307"
      ]
     },
     "execution_count": 7,
     "metadata": {},
     "output_type": "execute_result"
    }
   ],
   "source": [
    "X_train[training_vars].head()"
   ]
  },
  {
   "cell_type": "code",
   "execution_count": 8,
   "metadata": {},
   "outputs": [
    {
     "data": {
      "text/html": [
       "<div>\n",
       "<style scoped>\n",
       "    .dataframe tbody tr th:only-of-type {\n",
       "        vertical-align: middle;\n",
       "    }\n",
       "\n",
       "    .dataframe tbody tr th {\n",
       "        vertical-align: top;\n",
       "    }\n",
       "\n",
       "    .dataframe thead th {\n",
       "        text-align: right;\n",
       "    }\n",
       "</style>\n",
       "<table border=\"1\" class=\"dataframe\">\n",
       "  <thead>\n",
       "    <tr style=\"text-align: right;\">\n",
       "      <th></th>\n",
       "      <th>equal_weight</th>\n",
       "    </tr>\n",
       "  </thead>\n",
       "  <tbody>\n",
       "    <tr>\n",
       "      <th>3422444</th>\n",
       "      <td>1.0</td>\n",
       "    </tr>\n",
       "    <tr>\n",
       "      <th>2098934</th>\n",
       "      <td>1.0</td>\n",
       "    </tr>\n",
       "    <tr>\n",
       "      <th>1857852</th>\n",
       "      <td>1.0</td>\n",
       "    </tr>\n",
       "    <tr>\n",
       "      <th>2630269</th>\n",
       "      <td>1.0</td>\n",
       "    </tr>\n",
       "    <tr>\n",
       "      <th>308542</th>\n",
       "      <td>1.0</td>\n",
       "    </tr>\n",
       "  </tbody>\n",
       "</table>\n",
       "</div>"
      ],
      "text/plain": [
       "         equal_weight\n",
       "3422444           1.0\n",
       "2098934           1.0\n",
       "1857852           1.0\n",
       "2630269           1.0\n",
       "308542            1.0"
      ]
     },
     "execution_count": 8,
     "metadata": {},
     "output_type": "execute_result"
    }
   ],
   "source": [
    "X_train[training_weight].head()"
   ]
  },
  {
   "cell_type": "code",
   "execution_count": 9,
   "metadata": {},
   "outputs": [],
   "source": [
    "dt = DecisionTreeClassifier(max_depth=5,\n",
    "                            min_samples_leaf=0.001)\n",
    "bdt = AdaBoostClassifier(dt,\n",
    "                         algorithm='SAMME',\n",
    "                         n_estimators=500,\n",
    "                         learning_rate=0.1,\n",
    "                         random_state=42)\n",
    "\n",
    "bdt.fit(X_train[training_vars], y_train, sample_weight=X_train[training_weight].to_numpy().flatten())\n",
    "\n",
    "### 27m"
   ]
  },
  {
   "cell_type": "code",
   "execution_count": null,
   "metadata": {},
   "outputs": [],
   "source": [
    "bdt_filename = './BDT_explore_1500_ntrk_equalweight.model'\n",
    "pickle.dump(bdt, open(bdt_filename, 'wb'))"
   ]
  },
  {
   "attachments": {},
   "cell_type": "markdown",
   "metadata": {},
   "source": [
    "# Predict on test datasets"
   ]
  },
  {
   "cell_type": "code",
   "execution_count": null,
   "metadata": {},
   "outputs": [],
   "source": [
    "y_test_decisions = bdt.decision_function(X_test[training_vars])\n",
    "y_test_gluon_id = np.where(y_test==1)[0]\n",
    "y_test_quark_id = np.where(y_test==0)[0]\n",
    "bins_scores = np.linspace(-1, 1, 101)\n",
    "plt.hist(y_test_decisions[y_test_gluon_id], weights=X_test.iloc[y_test_gluon_id, X_test.columns.get_loc('event_weight')], bins= bins_scores, alpha=0.5, label='gluon'+f\"_num: {len(y_test_gluon_id)}\", color = 'blue') # add the weights! \n",
    "plt.hist(y_test_decisions[y_test_quark_id], weights=X_test.iloc[y_test_quark_id, X_test.columns.get_loc('event_weight')], bins= bins_scores, alpha=0.5, label='quark'+f\"_num: {len(y_test_quark_id)}\", color = 'red')\n",
    "plt.legend(loc='upper left')\n",
    "plt.text(0.05, 0.75, f\"num: {len(X_test)}\", transform=plt.gca().transAxes)\n",
    "plt.xlabel(\"BDT Decision Function\")\n",
    "plt.ylabel(\"number of jets\")\n",
    "plt.title(r\"New Training with equal weight\")\n",
    "plt.show()"
   ]
  },
  {
   "attachments": {},
   "cell_type": "markdown",
   "metadata": {},
   "source": [
    "# ROC"
   ]
  },
  {
   "cell_type": "code",
   "execution_count": null,
   "metadata": {},
   "outputs": [],
   "source": [
    "from sklearn.metrics import roc_curve, auc\n",
    "\n",
    "def Draw_ROC_all(y, decisions, y_tmva, y_ntrk, X_weight, features):\n",
    "    # Compute ROC curve and area under the curve\n",
    "    fpr, tpr, thresholds = roc_curve(y, decisions, sample_weight = X_weight)\n",
    "    fpr_tmva, tpr_tmva, thresholds_tmva = roc_curve(y, y_tmva, sample_weight = X_weight)\n",
    "    fpr_ntrk, tpr_ntrk, thresholds_ntrk =  roc_curve(y, y_ntrk, sample_weight = X_weight)\n",
    "\n",
    "    roc_auc = auc(fpr, tpr)\n",
    "    roc_auc_tmva = auc(fpr_tmva, tpr_tmva)\n",
    "    roc_auc_ntrk = auc(fpr_ntrk, tpr_ntrk)\n",
    "\n",
    "\n",
    "    plt.plot(1-fpr, tpr, lw=1, label='ROC_NewTraining (area = %0.3f)'%(roc_auc))\n",
    "    plt.plot(1-fpr_tmva, tpr_tmva, lw=1, label='ROC_TMVA (area = %0.3f)'%(roc_auc_tmva))\n",
    "    plt.plot(1-fpr_ntrk, tpr_ntrk, lw=1, label='ROC_Ntrk (area = %0.3f)'%(roc_auc_ntrk))\n",
    "\n",
    "    plt.plot([0, 1], [1, 0], '--', color=(0.6, 0.6, 0.6), label='Luck')\n",
    "    plt.xlim([-0.05, 1.05])\n",
    "    plt.ylim([-0.05, 1.05])\n",
    "    plt.xlabel('False Positive Rate')\n",
    "    plt.ylabel('True Positive Rate')\n",
    "    plt.title(f'ROC with features:{features}'+r\" physical $p_{T}$ weight\")\n",
    "    plt.legend(loc=\"lower left\")\n",
    "    plt.grid()\n",
    "    plt.savefig(\"ROC_physicalweight.png\")\n",
    "    plt.show()\n",
    "\n",
    "Draw_ROC_all(y_test, y_test_decisions, y_tmva=X_test.iloc[:,X_test.columns.get_loc('jet_trackBDT')] , y_ntrk=X_test.iloc[:,X_test.columns.get_loc('jet_nTracks')], X_weight=X_test['event_weight'], features=\"Only Ntrk\")\n"
   ]
  },
  {
   "attachments": {},
   "cell_type": "markdown",
   "metadata": {},
   "source": [
    "# Overtrain validation"
   ]
  },
  {
   "cell_type": "code",
   "execution_count": null,
   "metadata": {},
   "outputs": [],
   "source": [
    "y_test_decisions = bdt.decision_function(X_test[training_vars])\n",
    "y_train_decisions = bdt.decision_function(X_train[training_vars])\n",
    "\n",
    "\n",
    "y_test_decisions_gluon = y_test_decisions[np.where(y_test==1)]\n",
    "y_test_decisions_quark = y_test_decisions[np.where(y_test==0)]\n",
    "y_train_decisions_gluon = y_train_decisions[np.where(y_train==1)]\n",
    "y_train_decisions_quark = y_train_decisions[np.where(y_train==0)]\n",
    "decisions = []\n",
    "decisions.append(y_train_decisions_gluon)\n",
    "decisions.append(y_train_decisions_quark)\n",
    "decisions.append(y_test_decisions_gluon)\n",
    "decisions.append(y_test_decisions_quark)"
   ]
  },
  {
   "cell_type": "code",
   "execution_count": null,
   "metadata": {},
   "outputs": [],
   "source": [
    "custom_bins = np.linspace(-1, 1, 101)\n",
    "custom_bin_width = (custom_bins[1] - custom_bins[0])\n",
    "custom_bin_center = (custom_bins[:-1] + custom_bins[1:]) / 2\n",
    "\n",
    "fig, ax = plt.subplots()\n",
    "ax.hist(decisions[0], weights = X_train.iloc[np.where(y_train==1)[0], event_weight_idx],\n",
    "            color='b', alpha=0.5, bins=custom_bins,\n",
    "            histtype='stepfilled', density=True,\n",
    "            label='Gluon (train)')\n",
    "ax.hist(decisions[1], weights = X_train.iloc[np.where(y_train==0)[0], event_weight_idx],\n",
    "            color='r', alpha=0.5, bins=custom_bins,\n",
    "            histtype='stepfilled', density=True,\n",
    "            label='Quark (train)')\n",
    "\n",
    "hist, bins = np.histogram(decisions[2], weights=X_test.iloc[np.where(y_test==1)[0], event_weight_idx],\n",
    "                            bins=custom_bins,  density=True)\n",
    "scale = len(decisions[2]) / sum(hist)\n",
    "err = np.sqrt(hist * scale) / scale\n",
    "\n",
    "plt.errorbar(custom_bin_center, hist, yerr=err, fmt='o', c='b', label='Gluon (test)')\n",
    "\n",
    "hist, bins = np.histogram(decisions[3], weights=X_test.iloc[np.where(y_test==0)[0], event_weight_idx],\n",
    "                            bins=custom_bins, density=True)\n",
    "scale = len(decisions[2]) / sum(hist)\n",
    "err = np.sqrt(hist * scale) / scale\n",
    "\n",
    "plt.errorbar(custom_bin_center, hist, yerr=err, fmt='o', c='r', label='Quark (test)')\n",
    "plt.xlabel(\"BDT output\")\n",
    "plt.ylabel(\"Arbitrary units\")\n",
    "plt.legend(loc='best')\n",
    "plt.title(\"Overtraining test\")"
   ]
  },
  {
   "attachments": {},
   "cell_type": "markdown",
   "metadata": {},
   "source": [
    "# Check Forward/Central "
   ]
  },
  {
   "cell_type": "code",
   "execution_count": null,
   "metadata": {},
   "outputs": [],
   "source": [
    "y_sample = bdt.decision_function(sample[training_vars])\n",
    "sample['new_BDTscore'] = y_sample\n",
    "\n",
    "features = [*sample.columns[:6]] + ['new_BDTscore'] \n",
    "HistBins = {\n",
    "    features[0] : np.linspace(0, 2000, 61), \n",
    "    features[1] : np.linspace(-2.5, 2.5, 51),\n",
    "    features[2] : np.linspace(0, 60, 61),\n",
    "    features[3] : np.linspace(0, 0.4, 61), \n",
    "    features[4] : np.linspace(0, 0.4, 61), \n",
    "    features[5] : np.linspace(-1.0, 1.0, 51), \n",
    "    features[6] : np.linspace(-1.0, 1.0, 51),\n",
    "}\n",
    "\n",
    "sample_forward = sample[sample['is_forward']==1]\n",
    "sample_central = sample[sample['is_forward']==0]\n",
    "\n",
    "for feature_name in features:\n",
    "    custom_bins = HistBins[feature_name]\n",
    "    fig, (ax0, ax1) = plt.subplots(nrows=1, ncols=2, figsize = (10,5))\n",
    "    ax0.hist(sample_forward[feature_name], bins = custom_bins, weights = sample_forward['event_weight'], label = f'forward, num: {len(sample_forward)}', color='red', alpha = 0.5)\n",
    "    ax0.hist(sample_central[feature_name], bins = custom_bins, weights = sample_central['event_weight'], label = f'gluon, num: {len(sample_central)}', color='blue', alpha = 0.5)\n",
    "    ax0.legend()\n",
    "    ax0.set_xlabel(feature_name)\n",
    "    ax0.set_ylabel(f\"Weighted Yield\")\n",
    "    ax0.set_title(f\"Weighted Yield Comparison\")\n",
    "\n",
    "    if feature_name == 'jet_pt':\n",
    "        ax0.set_yscale('log')\n",
    "\n",
    "    ax1.hist(sample_forward[feature_name], bins = custom_bins, weights = sample_forward['event_weight'], label = 'forward', color='red', alpha = 0.5, density=True)\n",
    "    ax1.hist(sample_central[feature_name], bins = custom_bins, weights = sample_central['event_weight'], label = 'gluon', color='blue', alpha = 0.5, density=True)\n",
    "    ax1.legend()\n",
    "    ax1.set_xlabel(feature_name)\n",
    "    ax1.set_ylabel(f\"Weighted Shape\")\n",
    "    ax1.set_title(f\"Weighted Shape Comparison\")\n",
    "    if feature_name == 'jet_pt':\n",
    "        ax1.set_yscale('log')\n",
    "    fig.suptitle(f\"Forward vs Central: {feature_name}\")\n",
    "\n",
    "    plt.plot()\n",
    "    "
   ]
  },
  {
   "cell_type": "code",
   "execution_count": null,
   "metadata": {},
   "outputs": [],
   "source": [
    "bdt.feature_importances_"
   ]
  },
  {
   "attachments": {},
   "cell_type": "markdown",
   "metadata": {},
   "source": [
    "# Backup"
   ]
  },
  {
   "cell_type": "code",
   "execution_count": null,
   "metadata": {},
   "outputs": [],
   "source": [
    "y_test_decisions = bdt.decision_function(X_eval[training_vars])\n",
    "\n",
    "y_test_decisions_gluon = y_test_decisions[np.where(y_eval==1)]\n",
    "y_test_decisions_quark = y_test_decisions[np.where(y_eval==0)]\n",
    "y_train_decisions_gluon = y_train_decisions[np.where(y_train==1)]\n",
    "y_train_decisions_quark = y_train_decisions[np.where(y_train==0)]\n",
    "decisions = []\n",
    "decisions.append(y_train_decisions_gluon)\n",
    "decisions.append(y_train_decisions_quark)\n",
    "decisions.append(y_test_decisions_gluon)\n",
    "decisions.append(y_test_decisions_quark)\n",
    "\n",
    "\n",
    "custom_bins = np.linspace(-1, 1, 101)\n",
    "custom_bin_width = (custom_bins[1] - custom_bins[0])\n",
    "custom_bin_center = (custom_bins[:-1] + custom_bins[1:]) / 2\n",
    "\n",
    "fig, ax = plt.subplots()\n",
    "ax.hist(decisions[0], weights = X_train.iloc[np.where(y_train==1)[0], event_weight_idx],\n",
    "            color='b', alpha=0.5, bins=custom_bins,\n",
    "            histtype='stepfilled', density=True,\n",
    "            label='Gluon (train)')\n",
    "ax.hist(decisions[1], weights = X_train.iloc[np.where(y_train==0)[0], event_weight_idx],\n",
    "            color='r', alpha=0.5, bins=custom_bins,\n",
    "            histtype='stepfilled', density=True,\n",
    "            label='Quark (train)')\n",
    "\n",
    "hist, bins = np.histogram(decisions[2], weights=X_eval.iloc[np.where(y_eval==1)[0], event_weight_idx],\n",
    "                            bins=custom_bins,  density=True)\n",
    "scale = len(decisions[2]) / sum(hist)\n",
    "err = np.sqrt(hist * scale) / scale\n",
    "\n",
    "plt.errorbar(custom_bin_center, hist, yerr=err, fmt='o', c='b', label='Gluon (test)')\n",
    "\n",
    "hist, bins = np.histogram(decisions[3], weights=X_eval.iloc[np.where(y_eval==0)[0], event_weight_idx],\n",
    "                            bins=custom_bins, density=True)\n",
    "scale = len(decisions[2]) / sum(hist)\n",
    "err = np.sqrt(hist * scale) / scale\n",
    "\n",
    "plt.errorbar(custom_bin_center, hist, yerr=err, fmt='o', c='r', label='Quark (test)')\n",
    "plt.xlabel(\"BDT output\")\n",
    "plt.ylabel(\"Arbitrary units\")\n",
    "plt.legend(loc='best')\n",
    "plt.title(\"Overtraining test\")\n",
    "\n"
   ]
  },
  {
   "cell_type": "code",
   "execution_count": null,
   "metadata": {},
   "outputs": [],
   "source": [
    "bins = [[0.3, 0.5, 0.7], [0.3, 0.7]]\n",
    "values = np.random.random((10, 2))\n",
    "digitized = []\n",
    "for i in range(len(bins)):\n",
    "    digitized.append(np.digitize(values[:, i], bins[i], right=False))\n",
    "digitized = np.concatenate(digitized).reshape(10, 2)"
   ]
  },
  {
   "cell_type": "code",
   "execution_count": null,
   "metadata": {},
   "outputs": [],
   "source": [
    "y_test_gluon_id = np.where(y_test==1)[0]\n",
    "y_test_quark_id = np.where(y_test==0)[0]\n",
    "bins_scores = np.linspace(0, 1, 101)\n",
    "plt.hist(y_test_proba[y_test_gluon_id], weights=X_test.iloc[y_test_gluon_id, X_test.columns.get_loc('event_weight')], bins= bins_scores, alpha=0.5, label='gluon'+f\"_num: {len(y_test_gluon_id)}\", color = 'blue') # add the weights! \n",
    "plt.hist(y_test_proba[y_test_quark_id], weights=X_test.iloc[y_test_quark_id, X_test.columns.get_loc('event_weight')], bins= bins_scores, alpha=0.5, label='quark'+f\"_num: {len(y_test_quark_id)}\", color = 'red')\n",
    "plt.legend(loc='upper left')\n",
    "plt.text(0.05, 0.75, f\"num: {len(X_test)}\", transform=plt.gca().transAxes)\n",
    "plt.xlabel(\"BDT Probability\")\n",
    "plt.ylabel(\"number of jets\")\n",
    "plt.title(r\"New Training with event weight\")\n",
    "plt.show()\n"
   ]
  },
  {
   "cell_type": "markdown",
   "metadata": {},
   "source": []
  }
 ],
 "metadata": {
  "kernelspec": {
   "display_name": "ml",
   "language": "python",
   "name": "python3"
  },
  "language_info": {
   "codemirror_mode": {
    "name": "ipython",
    "version": 3
   },
   "file_extension": ".py",
   "mimetype": "text/x-python",
   "name": "python",
   "nbconvert_exporter": "python",
   "pygments_lexer": "ipython3",
   "version": "3.9.15"
  },
  "orig_nbformat": 4,
  "vscode": {
   "interpreter": {
    "hash": "14e3b66b9136298b1438aa954b24fb6042eb4a7b64fe2e32b506f4a92d36ab42"
   }
  }
 },
 "nbformat": 4,
 "nbformat_minor": 2
}
