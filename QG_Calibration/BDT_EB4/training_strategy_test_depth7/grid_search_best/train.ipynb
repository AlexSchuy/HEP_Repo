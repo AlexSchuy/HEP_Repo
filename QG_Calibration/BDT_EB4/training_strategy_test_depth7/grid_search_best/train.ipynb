{
 "cells": [
  {
   "cell_type": "code",
   "execution_count": null,
   "metadata": {},
   "outputs": [],
   "source": [
    "import os, sys \n",
    "# sys.path.append(os.path.abspath(os.path.join(os.path.dirname(__file__),\"..\")))\n",
    "sys.path.append('/global/cfs/projectdirs/atlas/hrzhao/HEP_Repo/QG_Calibration/BDT_EB4/')\n",
    "from BDT_train import *"
   ]
  },
  {
   "cell_type": "code",
   "execution_count": null,
   "metadata": {},
   "outputs": [],
   "source": [
    "cv_result_path = '/global/cfs/projectdirs/atlas/hrzhao/HEP_Repo/QG_Calibration/BDT_EB4/4vars_GBDT_GridSearch/cv_results_flat_pt.pkl'\n",
    "with open(cv_result_path, 'rb') as f:\n",
    "    cv_result = pickle.load(f)"
   ]
  },
  {
   "cell_type": "code",
   "execution_count": null,
   "metadata": {},
   "outputs": [],
   "source": [
    "np.max(cv_result['mean_test_score'])"
   ]
  },
  {
   "cell_type": "code",
   "execution_count": null,
   "metadata": {},
   "outputs": [],
   "source": [
    "cv_result = pd.DataFrame(cv_result)"
   ]
  },
  {
   "cell_type": "code",
   "execution_count": null,
   "metadata": {},
   "outputs": [],
   "source": [
    "print(cv_result['params'][cv_result['rank_test_score']==1].values[0])"
   ]
  },
  {
   "cell_type": "code",
   "execution_count": null,
   "metadata": {},
   "outputs": [],
   "source": [
    "output_path = '/global/cfs/projectdirs/atlas/hrzhao/HEP_Repo/QG_Calibration/BDT_EB4/training_strategy_test_depth7/grid_search_best'\n",
    "sample_path = '/global/cfs/projectdirs/atlas/hrzhao/HEP_Repo/QG_Calibration/BDT_EB4/samples/sample_testweight_123'\n",
    "training_vars = ['jet_pt', 'jet_nTracks', 'jet_trackWidth', 'jet_trackC1']\n",
    "training_weights = 'flatpt_weight'\n",
    "n_estimators = cv_result['params'][cv_result['rank_test_score']==1].values[0]['n_estimators']\n",
    "learning_rate = cv_result['params'][cv_result['rank_test_score']==1].values[0]['learning_rate']\n",
    "max_depth = cv_result['params'][cv_result['rank_test_score']==1].values[0]['max_depth']\n"
   ]
  },
  {
   "cell_type": "code",
   "execution_count": null,
   "metadata": {},
   "outputs": [],
   "source": [
    "main(output_path=output_path, sample_path=sample_path, \n",
    "    training_vars=training_vars, training_weights=training_weights,\n",
    "    n_estimators=n_estimators, learning_rate=learning_rate, max_depth=max_depth)\n"
   ]
  },
  {
   "cell_type": "code",
   "execution_count": null,
   "metadata": {},
   "outputs": [],
   "source": []
  }
 ],
 "metadata": {
  "kernelspec": {
   "display_name": "ml",
   "language": "python",
   "name": "python3"
  },
  "language_info": {
   "codemirror_mode": {
    "name": "ipython",
    "version": 3
   },
   "file_extension": ".py",
   "mimetype": "text/x-python",
   "name": "python",
   "nbconvert_exporter": "python",
   "pygments_lexer": "ipython3",
   "version": "3.9.15 | packaged by conda-forge | (main, Nov 22 2022, 15:55:03) \n[GCC 10.4.0]"
  },
  "orig_nbformat": 4,
  "vscode": {
   "interpreter": {
    "hash": "14e3b66b9136298b1438aa954b24fb6042eb4a7b64fe2e32b506f4a92d36ab42"
   }
  }
 },
 "nbformat": 4,
 "nbformat_minor": 2
}
