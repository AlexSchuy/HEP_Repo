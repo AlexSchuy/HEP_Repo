{
 "cells": [
  {
   "cell_type": "code",
   "execution_count": 1,
   "metadata": {},
   "outputs": [],
   "source": [
    "import argparse\n",
    "import numpy as np\n",
    "import matplotlib.pyplot as plt\n",
    "import pandas as pd\n",
    "\n",
    "import uproot \n",
    "import awkward as ak\n",
    "from pathlib import Path\n",
    "\n",
    "from typing import Dict, List \n",
    "import re\n",
    "import pickle\n",
    "from tqdm import tqdm\n",
    "from sklearn.neural_network import MLPClassifier\n",
    "from sklearn.model_selection import train_test_split\n",
    "from sklearn.preprocessing import StandardScaler  \n",
    "\n",
    "\n",
    "import torch\n",
    "import torch.nn as nn\n",
    "import torch.nn.functional as F\n",
    "\n"
   ]
  },
  {
   "cell_type": "code",
   "execution_count": 2,
   "metadata": {},
   "outputs": [],
   "source": [
    "training_vars = ['jet_pt', 'jet_nTracks', 'jet_trackWidth', 'jet_trackC1']\n",
    "training_weight = ['equal_weight']\n",
    "filename = './MLP_classifier.model'\n",
    "\n",
    "sample_all_jets_path = '/global/cfs/projectdirs/atlas/hrzhao/HEP_Repo/QG_Calibration/BDT_EB4/samples/sample_allpt_all_jets.pkl'\n",
    "\n",
    "sample_path = '/global/cfs/projectdirs/atlas/hrzhao/HEP_Repo/QG_Calibration/BDT_EB4/samples/sample_allpt_all_jets.pkl'\n",
    "label_pt_bin = [500, 600, 800, 1000, 1200, 1500, 2000]\n",
    "n_training_vars = len(training_vars)\n",
    "out = 2\n",
    "layers = (n_training_vars, 10, 5, 4, out)"
   ]
  },
  {
   "cell_type": "code",
   "execution_count": 3,
   "metadata": {},
   "outputs": [],
   "source": [
    "sample = pd.read_pickle(sample_path)"
   ]
  },
  {
   "cell_type": "code",
   "execution_count": 4,
   "metadata": {},
   "outputs": [
    {
     "data": {
      "text/plain": [
       "56393718"
      ]
     },
     "execution_count": 4,
     "metadata": {},
     "output_type": "execute_result"
    }
   ],
   "source": [
    "len(sample)"
   ]
  },
  {
   "cell_type": "code",
   "execution_count": 5,
   "metadata": {},
   "outputs": [
    {
     "data": {
      "text/html": [
       "<div>\n",
       "<style scoped>\n",
       "    .dataframe tbody tr th:only-of-type {\n",
       "        vertical-align: middle;\n",
       "    }\n",
       "\n",
       "    .dataframe tbody tr th {\n",
       "        vertical-align: top;\n",
       "    }\n",
       "\n",
       "    .dataframe thead th {\n",
       "        text-align: right;\n",
       "    }\n",
       "</style>\n",
       "<table border=\"1\" class=\"dataframe\">\n",
       "  <thead>\n",
       "    <tr style=\"text-align: right;\">\n",
       "      <th></th>\n",
       "      <th>jet_pt</th>\n",
       "      <th>jet_eta</th>\n",
       "      <th>jet_nTracks</th>\n",
       "      <th>jet_trackWidth</th>\n",
       "      <th>jet_trackC1</th>\n",
       "      <th>jet_trackBDT</th>\n",
       "      <th>jet_PartonTruthLabelID</th>\n",
       "      <th>equal_weight</th>\n",
       "      <th>event_weight</th>\n",
       "      <th>flatpt_weight</th>\n",
       "      <th>is_forward</th>\n",
       "      <th>pt_idx</th>\n",
       "      <th>target</th>\n",
       "    </tr>\n",
       "  </thead>\n",
       "  <tbody>\n",
       "    <tr>\n",
       "      <th>0</th>\n",
       "      <td>766.747925</td>\n",
       "      <td>1.298662</td>\n",
       "      <td>2.0</td>\n",
       "      <td>0.318292</td>\n",
       "      <td>0.215923</td>\n",
       "      <td>-0.192873</td>\n",
       "      <td>21.0</td>\n",
       "      <td>1.0</td>\n",
       "      <td>17.609434</td>\n",
       "      <td>2.703190e-05</td>\n",
       "      <td>1.0</td>\n",
       "      <td>1</td>\n",
       "      <td>1.0</td>\n",
       "    </tr>\n",
       "    <tr>\n",
       "      <th>0</th>\n",
       "      <td>680.507996</td>\n",
       "      <td>0.447689</td>\n",
       "      <td>24.0</td>\n",
       "      <td>0.064352</td>\n",
       "      <td>0.208339</td>\n",
       "      <td>0.066904</td>\n",
       "      <td>2.0</td>\n",
       "      <td>1.0</td>\n",
       "      <td>0.331535</td>\n",
       "      <td>2.858433e-07</td>\n",
       "      <td>0.0</td>\n",
       "      <td>1</td>\n",
       "      <td>0.0</td>\n",
       "    </tr>\n",
       "    <tr>\n",
       "      <th>1</th>\n",
       "      <td>619.839111</td>\n",
       "      <td>0.588775</td>\n",
       "      <td>34.0</td>\n",
       "      <td>0.115656</td>\n",
       "      <td>0.298206</td>\n",
       "      <td>0.232268</td>\n",
       "      <td>21.0</td>\n",
       "      <td>1.0</td>\n",
       "      <td>0.331535</td>\n",
       "      <td>1.655248e-07</td>\n",
       "      <td>1.0</td>\n",
       "      <td>1</td>\n",
       "      <td>1.0</td>\n",
       "    </tr>\n",
       "    <tr>\n",
       "      <th>2</th>\n",
       "      <td>721.692932</td>\n",
       "      <td>-0.716669</td>\n",
       "      <td>12.0</td>\n",
       "      <td>0.049718</td>\n",
       "      <td>0.220595</td>\n",
       "      <td>-0.169604</td>\n",
       "      <td>2.0</td>\n",
       "      <td>1.0</td>\n",
       "      <td>0.377624</td>\n",
       "      <td>3.935379e-07</td>\n",
       "      <td>0.0</td>\n",
       "      <td>1</td>\n",
       "      <td>0.0</td>\n",
       "    </tr>\n",
       "    <tr>\n",
       "      <th>3</th>\n",
       "      <td>697.332947</td>\n",
       "      <td>-1.042831</td>\n",
       "      <td>22.0</td>\n",
       "      <td>0.091199</td>\n",
       "      <td>0.278667</td>\n",
       "      <td>0.029374</td>\n",
       "      <td>21.0</td>\n",
       "      <td>1.0</td>\n",
       "      <td>0.377624</td>\n",
       "      <td>3.255802e-07</td>\n",
       "      <td>1.0</td>\n",
       "      <td>1</td>\n",
       "      <td>1.0</td>\n",
       "    </tr>\n",
       "    <tr>\n",
       "      <th>...</th>\n",
       "      <td>...</td>\n",
       "      <td>...</td>\n",
       "      <td>...</td>\n",
       "      <td>...</td>\n",
       "      <td>...</td>\n",
       "      <td>...</td>\n",
       "      <td>...</td>\n",
       "      <td>...</td>\n",
       "      <td>...</td>\n",
       "      <td>...</td>\n",
       "      <td>...</td>\n",
       "      <td>...</td>\n",
       "      <td>...</td>\n",
       "    </tr>\n",
       "    <tr>\n",
       "      <th>3289</th>\n",
       "      <td>1457.898315</td>\n",
       "      <td>0.005210</td>\n",
       "      <td>34.0</td>\n",
       "      <td>0.115294</td>\n",
       "      <td>0.286379</td>\n",
       "      <td>0.114355</td>\n",
       "      <td>2.0</td>\n",
       "      <td>1.0</td>\n",
       "      <td>0.000004</td>\n",
       "      <td>6.099312e-10</td>\n",
       "      <td>0.0</td>\n",
       "      <td>4</td>\n",
       "      <td>0.0</td>\n",
       "    </tr>\n",
       "    <tr>\n",
       "      <th>3290</th>\n",
       "      <td>1995.521240</td>\n",
       "      <td>-0.060916</td>\n",
       "      <td>11.0</td>\n",
       "      <td>0.011609</td>\n",
       "      <td>0.114598</td>\n",
       "      <td>-0.515630</td>\n",
       "      <td>21.0</td>\n",
       "      <td>1.0</td>\n",
       "      <td>0.000005</td>\n",
       "      <td>1.795163e-08</td>\n",
       "      <td>0.0</td>\n",
       "      <td>5</td>\n",
       "      <td>1.0</td>\n",
       "    </tr>\n",
       "    <tr>\n",
       "      <th>3291</th>\n",
       "      <td>1609.661865</td>\n",
       "      <td>-0.132251</td>\n",
       "      <td>18.0</td>\n",
       "      <td>0.021626</td>\n",
       "      <td>0.172496</td>\n",
       "      <td>-0.195778</td>\n",
       "      <td>1.0</td>\n",
       "      <td>1.0</td>\n",
       "      <td>0.000005</td>\n",
       "      <td>1.934711e-09</td>\n",
       "      <td>1.0</td>\n",
       "      <td>5</td>\n",
       "      <td>0.0</td>\n",
       "    </tr>\n",
       "    <tr>\n",
       "      <th>3292</th>\n",
       "      <td>1849.435181</td>\n",
       "      <td>0.042168</td>\n",
       "      <td>27.0</td>\n",
       "      <td>0.038713</td>\n",
       "      <td>0.222048</td>\n",
       "      <td>0.089088</td>\n",
       "      <td>21.0</td>\n",
       "      <td>1.0</td>\n",
       "      <td>0.000004</td>\n",
       "      <td>5.221758e-09</td>\n",
       "      <td>0.0</td>\n",
       "      <td>5</td>\n",
       "      <td>1.0</td>\n",
       "    </tr>\n",
       "    <tr>\n",
       "      <th>3293</th>\n",
       "      <td>1761.468994</td>\n",
       "      <td>0.133021</td>\n",
       "      <td>17.0</td>\n",
       "      <td>0.020994</td>\n",
       "      <td>0.179109</td>\n",
       "      <td>-0.187213</td>\n",
       "      <td>2.0</td>\n",
       "      <td>1.0</td>\n",
       "      <td>0.000004</td>\n",
       "      <td>3.425517e-09</td>\n",
       "      <td>1.0</td>\n",
       "      <td>5</td>\n",
       "      <td>0.0</td>\n",
       "    </tr>\n",
       "  </tbody>\n",
       "</table>\n",
       "<p>56393718 rows × 13 columns</p>\n",
       "</div>"
      ],
      "text/plain": [
       "           jet_pt   jet_eta  jet_nTracks  jet_trackWidth  jet_trackC1  \\\n",
       "0      766.747925  1.298662          2.0        0.318292     0.215923   \n",
       "0      680.507996  0.447689         24.0        0.064352     0.208339   \n",
       "1      619.839111  0.588775         34.0        0.115656     0.298206   \n",
       "2      721.692932 -0.716669         12.0        0.049718     0.220595   \n",
       "3      697.332947 -1.042831         22.0        0.091199     0.278667   \n",
       "...           ...       ...          ...             ...          ...   \n",
       "3289  1457.898315  0.005210         34.0        0.115294     0.286379   \n",
       "3290  1995.521240 -0.060916         11.0        0.011609     0.114598   \n",
       "3291  1609.661865 -0.132251         18.0        0.021626     0.172496   \n",
       "3292  1849.435181  0.042168         27.0        0.038713     0.222048   \n",
       "3293  1761.468994  0.133021         17.0        0.020994     0.179109   \n",
       "\n",
       "      jet_trackBDT  jet_PartonTruthLabelID  equal_weight  event_weight  \\\n",
       "0        -0.192873                    21.0           1.0     17.609434   \n",
       "0         0.066904                     2.0           1.0      0.331535   \n",
       "1         0.232268                    21.0           1.0      0.331535   \n",
       "2        -0.169604                     2.0           1.0      0.377624   \n",
       "3         0.029374                    21.0           1.0      0.377624   \n",
       "...            ...                     ...           ...           ...   \n",
       "3289      0.114355                     2.0           1.0      0.000004   \n",
       "3290     -0.515630                    21.0           1.0      0.000005   \n",
       "3291     -0.195778                     1.0           1.0      0.000005   \n",
       "3292      0.089088                    21.0           1.0      0.000004   \n",
       "3293     -0.187213                     2.0           1.0      0.000004   \n",
       "\n",
       "      flatpt_weight  is_forward  pt_idx  target  \n",
       "0      2.703190e-05         1.0       1     1.0  \n",
       "0      2.858433e-07         0.0       1     0.0  \n",
       "1      1.655248e-07         1.0       1     1.0  \n",
       "2      3.935379e-07         0.0       1     0.0  \n",
       "3      3.255802e-07         1.0       1     1.0  \n",
       "...             ...         ...     ...     ...  \n",
       "3289   6.099312e-10         0.0       4     0.0  \n",
       "3290   1.795163e-08         0.0       5     1.0  \n",
       "3291   1.934711e-09         1.0       5     0.0  \n",
       "3292   5.221758e-09         0.0       5     1.0  \n",
       "3293   3.425517e-09         1.0       5     0.0  \n",
       "\n",
       "[56393718 rows x 13 columns]"
      ]
     },
     "execution_count": 5,
     "metadata": {},
     "output_type": "execute_result"
    }
   ],
   "source": [
    "sample"
   ]
  },
  {
   "cell_type": "code",
   "execution_count": 6,
   "metadata": {},
   "outputs": [],
   "source": [
    "X = sample.iloc[:, :-1]\n",
    "y = sample.iloc[:, -1]\n",
    "\n",
    "X_dev, X_test, y_dev,y_test = train_test_split(X, y, test_size=0.1, random_state=456)\n",
    "X_train, X_val, y_train, y_val = train_test_split(X_dev, y_dev, test_size=0.1/0.9, random_state=789)"
   ]
  },
  {
   "cell_type": "code",
   "execution_count": 7,
   "metadata": {},
   "outputs": [],
   "source": [
    "event_weight_idx = X.columns.get_loc('event_weight')\n",
    "equal_weight_idx = X.columns.get_loc('equal_weight')\n",
    "flatpt_weight_idx = X.columns.get_loc('flatpt_weight')"
   ]
  },
  {
   "cell_type": "code",
   "execution_count": 8,
   "metadata": {},
   "outputs": [],
   "source": [
    "from sklearn.preprocessing import StandardScaler  \n",
    "scaler = StandardScaler()  \n",
    "\n",
    "scaler.fit(X_dev[training_vars])  \n",
    "X_dev[training_vars] = scaler.transform(X_dev[training_vars])  \n",
    "X_test[training_vars] = scaler.transform(X_test[training_vars])  "
   ]
  },
  {
   "cell_type": "code",
   "execution_count": 9,
   "metadata": {},
   "outputs": [
    {
     "data": {
      "text/html": [
       "<div>\n",
       "<style scoped>\n",
       "    .dataframe tbody tr th:only-of-type {\n",
       "        vertical-align: middle;\n",
       "    }\n",
       "\n",
       "    .dataframe tbody tr th {\n",
       "        vertical-align: top;\n",
       "    }\n",
       "\n",
       "    .dataframe thead th {\n",
       "        text-align: right;\n",
       "    }\n",
       "</style>\n",
       "<table border=\"1\" class=\"dataframe\">\n",
       "  <thead>\n",
       "    <tr style=\"text-align: right;\">\n",
       "      <th></th>\n",
       "      <th>jet_pt</th>\n",
       "      <th>jet_eta</th>\n",
       "      <th>jet_nTracks</th>\n",
       "      <th>jet_trackWidth</th>\n",
       "      <th>jet_trackC1</th>\n",
       "      <th>jet_trackBDT</th>\n",
       "      <th>jet_PartonTruthLabelID</th>\n",
       "      <th>equal_weight</th>\n",
       "      <th>event_weight</th>\n",
       "      <th>flatpt_weight</th>\n",
       "      <th>is_forward</th>\n",
       "      <th>pt_idx</th>\n",
       "    </tr>\n",
       "  </thead>\n",
       "  <tbody>\n",
       "    <tr>\n",
       "      <th>27168091</th>\n",
       "      <td>-0.875478</td>\n",
       "      <td>-1.091782</td>\n",
       "      <td>-1.017787</td>\n",
       "      <td>1.065752</td>\n",
       "      <td>-0.645247</td>\n",
       "      <td>-0.072152</td>\n",
       "      <td>2.0</td>\n",
       "      <td>1.0</td>\n",
       "      <td>0.818504</td>\n",
       "      <td>2.829616e-07</td>\n",
       "      <td>1.0</td>\n",
       "      <td>0</td>\n",
       "    </tr>\n",
       "    <tr>\n",
       "      <th>8122906</th>\n",
       "      <td>0.146616</td>\n",
       "      <td>-0.304620</td>\n",
       "      <td>0.605972</td>\n",
       "      <td>0.423303</td>\n",
       "      <td>0.315828</td>\n",
       "      <td>0.079932</td>\n",
       "      <td>21.0</td>\n",
       "      <td>1.0</td>\n",
       "      <td>0.204759</td>\n",
       "      <td>1.034949e-06</td>\n",
       "      <td>0.0</td>\n",
       "      <td>2</td>\n",
       "    </tr>\n",
       "    <tr>\n",
       "      <th>29637215</th>\n",
       "      <td>-0.807334</td>\n",
       "      <td>-1.599886</td>\n",
       "      <td>0.301517</td>\n",
       "      <td>-0.695038</td>\n",
       "      <td>0.027037</td>\n",
       "      <td>0.303271</td>\n",
       "      <td>21.0</td>\n",
       "      <td>1.0</td>\n",
       "      <td>0.566988</td>\n",
       "      <td>2.129102e-07</td>\n",
       "      <td>1.0</td>\n",
       "      <td>0</td>\n",
       "    </tr>\n",
       "    <tr>\n",
       "      <th>8196691</th>\n",
       "      <td>-0.030334</td>\n",
       "      <td>0.719945</td>\n",
       "      <td>0.808942</td>\n",
       "      <td>-0.267178</td>\n",
       "      <td>0.576746</td>\n",
       "      <td>0.274216</td>\n",
       "      <td>21.0</td>\n",
       "      <td>1.0</td>\n",
       "      <td>0.508716</td>\n",
       "      <td>1.440570e-06</td>\n",
       "      <td>1.0</td>\n",
       "      <td>2</td>\n",
       "    </tr>\n",
       "    <tr>\n",
       "      <th>2681113</th>\n",
       "      <td>-0.372062</td>\n",
       "      <td>-0.194556</td>\n",
       "      <td>-0.205907</td>\n",
       "      <td>-0.626215</td>\n",
       "      <td>-0.403861</td>\n",
       "      <td>0.078890</td>\n",
       "      <td>21.0</td>\n",
       "      <td>1.0</td>\n",
       "      <td>0.230937</td>\n",
       "      <td>2.406695e-07</td>\n",
       "      <td>0.0</td>\n",
       "      <td>1</td>\n",
       "    </tr>\n",
       "    <tr>\n",
       "      <th>...</th>\n",
       "      <td>...</td>\n",
       "      <td>...</td>\n",
       "      <td>...</td>\n",
       "      <td>...</td>\n",
       "      <td>...</td>\n",
       "      <td>...</td>\n",
       "      <td>...</td>\n",
       "      <td>...</td>\n",
       "      <td>...</td>\n",
       "      <td>...</td>\n",
       "      <td>...</td>\n",
       "      <td>...</td>\n",
       "    </tr>\n",
       "    <tr>\n",
       "      <th>28229856</th>\n",
       "      <td>-0.467939</td>\n",
       "      <td>0.530456</td>\n",
       "      <td>-1.017787</td>\n",
       "      <td>-0.554687</td>\n",
       "      <td>0.085065</td>\n",
       "      <td>-0.169902</td>\n",
       "      <td>1.0</td>\n",
       "      <td>1.0</td>\n",
       "      <td>0.297221</td>\n",
       "      <td>2.562590e-07</td>\n",
       "      <td>0.0</td>\n",
       "      <td>1</td>\n",
       "    </tr>\n",
       "    <tr>\n",
       "      <th>10293267</th>\n",
       "      <td>-0.442285</td>\n",
       "      <td>-1.282923</td>\n",
       "      <td>1.113397</td>\n",
       "      <td>-0.022363</td>\n",
       "      <td>0.872626</td>\n",
       "      <td>0.376236</td>\n",
       "      <td>21.0</td>\n",
       "      <td>1.0</td>\n",
       "      <td>0.301332</td>\n",
       "      <td>2.598032e-07</td>\n",
       "      <td>1.0</td>\n",
       "      <td>1</td>\n",
       "    </tr>\n",
       "    <tr>\n",
       "      <th>734617</th>\n",
       "      <td>0.274538</td>\n",
       "      <td>-0.560713</td>\n",
       "      <td>-1.525212</td>\n",
       "      <td>-0.910610</td>\n",
       "      <td>-2.638634</td>\n",
       "      <td>-0.537820</td>\n",
       "      <td>21.0</td>\n",
       "      <td>1.0</td>\n",
       "      <td>0.026769</td>\n",
       "      <td>1.958439e-07</td>\n",
       "      <td>0.0</td>\n",
       "      <td>2</td>\n",
       "    </tr>\n",
       "    <tr>\n",
       "      <th>29317973</th>\n",
       "      <td>-0.827685</td>\n",
       "      <td>-1.313988</td>\n",
       "      <td>-0.205907</td>\n",
       "      <td>-0.170243</td>\n",
       "      <td>0.039234</td>\n",
       "      <td>0.053471</td>\n",
       "      <td>21.0</td>\n",
       "      <td>1.0</td>\n",
       "      <td>0.438819</td>\n",
       "      <td>1.647813e-07</td>\n",
       "      <td>0.0</td>\n",
       "      <td>0</td>\n",
       "    </tr>\n",
       "    <tr>\n",
       "      <th>4251750</th>\n",
       "      <td>1.393449</td>\n",
       "      <td>-0.444505</td>\n",
       "      <td>-0.104422</td>\n",
       "      <td>-0.738547</td>\n",
       "      <td>-1.156662</td>\n",
       "      <td>-0.107024</td>\n",
       "      <td>1.0</td>\n",
       "      <td>1.0</td>\n",
       "      <td>0.034285</td>\n",
       "      <td>3.269691e-06</td>\n",
       "      <td>0.0</td>\n",
       "      <td>4</td>\n",
       "    </tr>\n",
       "  </tbody>\n",
       "</table>\n",
       "<p>50754346 rows × 12 columns</p>\n",
       "</div>"
      ],
      "text/plain": [
       "            jet_pt   jet_eta  jet_nTracks  jet_trackWidth  jet_trackC1  \\\n",
       "27168091 -0.875478 -1.091782    -1.017787        1.065752    -0.645247   \n",
       "8122906   0.146616 -0.304620     0.605972        0.423303     0.315828   \n",
       "29637215 -0.807334 -1.599886     0.301517       -0.695038     0.027037   \n",
       "8196691  -0.030334  0.719945     0.808942       -0.267178     0.576746   \n",
       "2681113  -0.372062 -0.194556    -0.205907       -0.626215    -0.403861   \n",
       "...            ...       ...          ...             ...          ...   \n",
       "28229856 -0.467939  0.530456    -1.017787       -0.554687     0.085065   \n",
       "10293267 -0.442285 -1.282923     1.113397       -0.022363     0.872626   \n",
       "734617    0.274538 -0.560713    -1.525212       -0.910610    -2.638634   \n",
       "29317973 -0.827685 -1.313988    -0.205907       -0.170243     0.039234   \n",
       "4251750   1.393449 -0.444505    -0.104422       -0.738547    -1.156662   \n",
       "\n",
       "          jet_trackBDT  jet_PartonTruthLabelID  equal_weight  event_weight  \\\n",
       "27168091     -0.072152                     2.0           1.0      0.818504   \n",
       "8122906       0.079932                    21.0           1.0      0.204759   \n",
       "29637215      0.303271                    21.0           1.0      0.566988   \n",
       "8196691       0.274216                    21.0           1.0      0.508716   \n",
       "2681113       0.078890                    21.0           1.0      0.230937   \n",
       "...                ...                     ...           ...           ...   \n",
       "28229856     -0.169902                     1.0           1.0      0.297221   \n",
       "10293267      0.376236                    21.0           1.0      0.301332   \n",
       "734617       -0.537820                    21.0           1.0      0.026769   \n",
       "29317973      0.053471                    21.0           1.0      0.438819   \n",
       "4251750      -0.107024                     1.0           1.0      0.034285   \n",
       "\n",
       "          flatpt_weight  is_forward  pt_idx  \n",
       "27168091   2.829616e-07         1.0       0  \n",
       "8122906    1.034949e-06         0.0       2  \n",
       "29637215   2.129102e-07         1.0       0  \n",
       "8196691    1.440570e-06         1.0       2  \n",
       "2681113    2.406695e-07         0.0       1  \n",
       "...                 ...         ...     ...  \n",
       "28229856   2.562590e-07         0.0       1  \n",
       "10293267   2.598032e-07         1.0       1  \n",
       "734617     1.958439e-07         0.0       2  \n",
       "29317973   1.647813e-07         0.0       0  \n",
       "4251750    3.269691e-06         0.0       4  \n",
       "\n",
       "[50754346 rows x 12 columns]"
      ]
     },
     "execution_count": 9,
     "metadata": {},
     "output_type": "execute_result"
    }
   ],
   "source": [
    "X_dev"
   ]
  },
  {
   "cell_type": "code",
   "execution_count": 141,
   "metadata": {},
   "outputs": [],
   "source": [
    "class MLP(nn.Module):\n",
    "    def __init__(self):\n",
    "        super(MLP, self).__init__()\n",
    "        self.layer_1 = nn.Linear(4, 10) \n",
    "        self.layer_2 = nn.Linear(10, 5)\n",
    "        self.layer_3 = nn.Linear(5, 4) \n",
    "        self.layer_out = nn.Linear(4, 1)\n",
    "        \n",
    "    \n",
    "    def forward(self, inputs):\n",
    "        x = F.relu(self.layer_1(inputs))\n",
    "        # x = self.batchnorm1(x)\n",
    "        x = F.relu(self.layer_2(x))\n",
    "        x = F.relu(self.layer_3(x))\n",
    "        x = torch.sigmoid(self.layer_out(x))\n",
    "        return x\n"
   ]
  },
  {
   "cell_type": "code",
   "execution_count": 142,
   "metadata": {},
   "outputs": [
    {
     "name": "stdout",
     "output_type": "stream",
     "text": [
      "MLP(\n",
      "  (layer_1): Linear(in_features=4, out_features=10, bias=True)\n",
      "  (layer_2): Linear(in_features=10, out_features=5, bias=True)\n",
      "  (layer_3): Linear(in_features=5, out_features=4, bias=True)\n",
      "  (layer_out): Linear(in_features=4, out_features=1, bias=True)\n",
      ")\n"
     ]
    }
   ],
   "source": [
    "t = MLP()\n",
    "print(t)"
   ]
  },
  {
   "cell_type": "code",
   "execution_count": 143,
   "metadata": {},
   "outputs": [
    {
     "name": "stderr",
     "output_type": "stream",
     "text": [
      "100%|██████████| 10/10 [01:47<00:00, 10.75s/it]"
     ]
    },
    {
     "name": "stdout",
     "output_type": "stream",
     "text": [
      "Last iteration loss value: 0.5863986015319824\n"
     ]
    },
    {
     "name": "stderr",
     "output_type": "stream",
     "text": [
      "\n"
     ]
    }
   ],
   "source": [
    "#Loss Computation\n",
    "loss_func = nn.BCELoss()\n",
    "#Optimizer\n",
    "learning_rate = 0.1\n",
    "optimizer = torch.optim.Adam(t.parameters(), lr=learning_rate)\n",
    "epochs = 10\n",
    "\n",
    "t.train()\n",
    "train_loss = []\n",
    "for epoch in tqdm(range(epochs)):\n",
    "\n",
    "    y_pred = t(torch.tensor(X_dev[training_vars].values, dtype=torch.float32))            # Forward Propagation\n",
    "    loss = loss_func(y_pred, torch.tensor(y_dev.values,  dtype=torch.float32).view(-1,1))  # Loss Computation\n",
    "    optimizer.zero_grad()         # Clearing all previous gradients, setting to zero \n",
    "    loss.backward()               # Back Propagation\n",
    "    optimizer.step()              # Updating the parameters \n",
    "    #print(\"Loss in iteration :\"+str(epoch)+\" is: \"+str(loss.item()))\n",
    "    train_loss.append(loss.item())\n",
    "print('Last iteration loss value: '+str(loss.item()))"
   ]
  },
  {
   "cell_type": "code",
   "execution_count": 145,
   "metadata": {},
   "outputs": [
    {
     "data": {
      "image/png": "[encoded data removed]",
      "text/plain": [
       "<Figure size 640x480 with 1 Axes>"
      ]
     },
     "metadata": {},
     "output_type": "display_data"
    }
   ],
   "source": [
    "plt.plot(train_loss)\n",
    "plt.title(\"training loss\")\n",
    "plt.show()"
   ]
  },
  {
   "cell_type": "code",
   "execution_count": 146,
   "metadata": {},
   "outputs": [
    {
     "data": {
      "text/plain": [
       "tensor(0.0123, grad_fn=<MinBackward1>)"
      ]
     },
     "execution_count": 146,
     "metadata": {},
     "output_type": "execute_result"
    }
   ],
   "source": [
    "y_pred.min()"
   ]
  },
  {
   "cell_type": "code",
   "execution_count": 147,
   "metadata": {},
   "outputs": [
    {
     "data": {
      "text/plain": [
       "tensor(0.4720, grad_fn=<MaxBackward1>)"
      ]
     },
     "execution_count": 147,
     "metadata": {},
     "output_type": "execute_result"
    }
   ],
   "source": [
    "y_pred.max()"
   ]
  },
  {
   "cell_type": "code",
   "execution_count": 148,
   "metadata": {},
   "outputs": [
    {
     "data": {
      "text/plain": [
       "BCELoss()"
      ]
     },
     "execution_count": 148,
     "metadata": {},
     "output_type": "execute_result"
    }
   ],
   "source": [
    "loss_func"
   ]
  },
  {
   "cell_type": "code",
   "execution_count": 149,
   "metadata": {},
   "outputs": [
    {
     "data": {
      "text/plain": [
       "array([0.34174478, 0.47196528, 0.47196528, ..., 0.03625223, 0.47196528,\n",
       "       0.16576307], dtype=float32)"
      ]
     },
     "execution_count": 149,
     "metadata": {},
     "output_type": "execute_result"
    }
   ],
   "source": [
    "y_pred.detach().numpy().ravel()"
   ]
  },
  {
   "cell_type": "code",
   "execution_count": 150,
   "metadata": {},
   "outputs": [
    {
     "data": {
      "image/png": "[encoded data removed]",
      "text/plain": [
       "<Figure size 640x480 with 1 Axes>"
      ]
     },
     "metadata": {},
     "output_type": "display_data"
    }
   ],
   "source": [
    "plt.hist(y_pred.detach().numpy().ravel()[y_dev == 1], bins = 100, alpha = 0.5)\n",
    "plt.hist(y_pred.detach().numpy().ravel()[y_dev == 0], bins = 100, alpha = 0.5)\n",
    "plt.show()"
   ]
  },
  {
   "cell_type": "code",
   "execution_count": 151,
   "metadata": {},
   "outputs": [],
   "source": [
    "y_test_pred = t(torch.tensor(X_test[training_vars].values, dtype=torch.float32)) "
   ]
  },
  {
   "cell_type": "code",
   "execution_count": 152,
   "metadata": {},
   "outputs": [
    {
     "data": {
      "image/png": "[encoded data removed]",
      "text/plain": [
       "<Figure size 640x480 with 1 Axes>"
      ]
     },
     "metadata": {},
     "output_type": "display_data"
    }
   ],
   "source": [
    "plt.hist(y_test_pred.detach().numpy().ravel()[y_test == 1], bins = 101, alpha = 0.5, density= True)\n",
    "plt.hist(y_test_pred.detach().numpy().ravel()[y_test == 0], bins = 101, alpha = 0.5, density= True)\n",
    "plt.show()"
   ]
  },
  {
   "cell_type": "code",
   "execution_count": null,
   "metadata": {},
   "outputs": [],
   "source": []
  },
  {
   "cell_type": "code",
   "execution_count": 109,
   "metadata": {},
   "outputs": [
    {
     "name": "stdout",
     "output_type": "stream",
     "text": [
      "mean tensor([[0.5000, 0.5000]]), std tensor([[0.5000, 0.5000]])\n"
     ]
    }
   ],
   "source": [
    "class TorchStandardScaler:\n",
    "  def fit(self, x):\n",
    "    self.mean = x.mean(0, keepdim=True)\n",
    "    self.std = x.std(0, unbiased=False, keepdim=True)\n",
    "  def transform(self, x):\n",
    "    x -= self.mean\n",
    "    x /= (self.std + 1e-7)\n",
    "    return x\n",
    "\n",
    "data = torch.tensor([[0, 0], [0, 0], [1, 1], [1, 1]]).float()\n",
    "foo = TorchStandardScaler()\n",
    "foo.fit(data)\n",
    "print(f\"mean {foo.mean}, std {foo.std}\")\n"
   ]
  },
  {
   "cell_type": "code",
   "execution_count": 110,
   "metadata": {},
   "outputs": [
    {
     "data": {
      "text/plain": [
       "tensor([[-1.0000, -1.0000],\n",
       "        [-1.0000, -1.0000],\n",
       "        [ 1.0000,  1.0000],\n",
       "        [ 1.0000,  1.0000]])"
      ]
     },
     "execution_count": 110,
     "metadata": {},
     "output_type": "execute_result"
    }
   ],
   "source": [
    "foo.transform(data)"
   ]
  },
  {
   "cell_type": "code",
   "execution_count": null,
   "metadata": {},
   "outputs": [],
   "source": []
  }
 ],
 "metadata": {
  "kernelspec": {
   "display_name": "ml",
   "language": "python",
   "name": "python3"
  },
  "language_info": {
   "codemirror_mode": {
    "name": "ipython",
    "version": 3
   },
   "file_extension": ".py",
   "mimetype": "text/x-python",
   "name": "python",
   "nbconvert_exporter": "python",
   "pygments_lexer": "ipython3",
   "version": "3.9.15 | packaged by conda-forge | (main, Nov 22 2022, 15:55:03) \n[GCC 10.4.0]"
  },
  "orig_nbformat": 4,
  "vscode": {
   "interpreter": {
    "hash": "14e3b66b9136298b1438aa954b24fb6042eb4a7b64fe2e32b506f4a92d36ab42"
   }
  }
 },
 "nbformat": 4,
 "nbformat_minor": 2
}
