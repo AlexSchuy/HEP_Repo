{
 "cells": [
  {
   "cell_type": "code",
   "execution_count": 1,
   "metadata": {},
   "outputs": [],
   "source": [
    "import argparse\n",
    "import numpy as np\n",
    "import matplotlib.pyplot as plt\n",
    "import pandas as pd\n",
    "\n",
    "import uproot \n",
    "import awkward as ak\n",
    "from pathlib import Path\n",
    "\n",
    "from typing import Dict, List \n",
    "import re\n",
    "import pickle\n",
    "from tqdm import tqdm\n",
    "\n",
    "from sklearn.tree import DecisionTreeClassifier\n",
    "from sklearn.ensemble import AdaBoostClassifier, GradientBoostingClassifier\n",
    "from sklearn.metrics import classification_report, roc_auc_score\n",
    "from sklearn.model_selection import train_test_split\n",
    "\n"
   ]
  },
  {
   "cell_type": "code",
   "execution_count": 2,
   "metadata": {},
   "outputs": [],
   "source": [
    "training_vars = ['jet_pt', 'jet_nTracks', 'jet_trackWidth', 'jet_trackC1']\n",
    "training_weight = ['equal_weight']\n",
    "gbdt_filename = './gbdt.model'\n"
   ]
  },
  {
   "attachments": {},
   "cell_type": "markdown",
   "metadata": {},
   "source": [
    "# Load Data"
   ]
  },
  {
   "cell_type": "code",
   "execution_count": 3,
   "metadata": {},
   "outputs": [],
   "source": [
    "sample_path = '../../../samples/sample_allpt_12M_jets.pkl'\n",
    "sample = pd.read_pickle(sample_path)"
   ]
  },
  {
   "cell_type": "code",
   "execution_count": 4,
   "metadata": {},
   "outputs": [
    {
     "data": {
      "text/plain": [
       "Index(['jet_pt', 'jet_eta', 'jet_nTracks', 'jet_trackWidth', 'jet_trackC1',\n",
       "       'jet_trackBDT', 'jet_PartonTruthLabelID', 'equal_weight',\n",
       "       'event_weight', 'flatpt_weight', 'is_forward', 'target', 'pt_idx'],\n",
       "      dtype='object')"
      ]
     },
     "execution_count": 4,
     "metadata": {},
     "output_type": "execute_result"
    }
   ],
   "source": [
    "sample.columns"
   ]
  },
  {
   "attachments": {},
   "cell_type": "markdown",
   "metadata": {},
   "source": [
    "# Train with default config"
   ]
  },
  {
   "cell_type": "code",
   "execution_count": 5,
   "metadata": {},
   "outputs": [],
   "source": [
    "X = sample.iloc[:, :-1]\n",
    "y = sample.iloc[:, -1]\n",
    "\n",
    "X_dev,X_eval, y_dev,y_eval = train_test_split(X, y, test_size=0.1, random_state=456)\n",
    "X_train, X_test, y_train, y_test = train_test_split(X_dev, y_dev, test_size=0.1/0.9, random_state=789)"
   ]
  },
  {
   "cell_type": "code",
   "execution_count": 6,
   "metadata": {},
   "outputs": [],
   "source": [
    "event_weight_idx = X.columns.get_loc('event_weight')\n",
    "equal_weight_idx = X.columns.get_loc('equal_weight')\n",
    "flatpt_weight_idx = X.columns.get_loc('flatpt_weight')"
   ]
  },
  {
   "cell_type": "code",
   "execution_count": 7,
   "metadata": {},
   "outputs": [
    {
     "data": {
      "text/html": [
       "<div>\n",
       "<style scoped>\n",
       "    .dataframe tbody tr th:only-of-type {\n",
       "        vertical-align: middle;\n",
       "    }\n",
       "\n",
       "    .dataframe tbody tr th {\n",
       "        vertical-align: top;\n",
       "    }\n",
       "\n",
       "    .dataframe thead th {\n",
       "        text-align: right;\n",
       "    }\n",
       "</style>\n",
       "<table border=\"1\" class=\"dataframe\">\n",
       "  <thead>\n",
       "    <tr style=\"text-align: right;\">\n",
       "      <th></th>\n",
       "      <th>jet_pt</th>\n",
       "      <th>jet_nTracks</th>\n",
       "      <th>jet_trackWidth</th>\n",
       "      <th>jet_trackC1</th>\n",
       "    </tr>\n",
       "  </thead>\n",
       "  <tbody>\n",
       "    <tr>\n",
       "      <th>8091347</th>\n",
       "      <td>531.234863</td>\n",
       "      <td>13.0</td>\n",
       "      <td>0.014092</td>\n",
       "      <td>0.166602</td>\n",
       "    </tr>\n",
       "    <tr>\n",
       "      <th>6210831</th>\n",
       "      <td>1103.663452</td>\n",
       "      <td>25.0</td>\n",
       "      <td>0.031219</td>\n",
       "      <td>0.216386</td>\n",
       "    </tr>\n",
       "    <tr>\n",
       "      <th>1524473</th>\n",
       "      <td>1442.918823</td>\n",
       "      <td>15.0</td>\n",
       "      <td>0.014858</td>\n",
       "      <td>0.088302</td>\n",
       "    </tr>\n",
       "    <tr>\n",
       "      <th>13948873</th>\n",
       "      <td>523.586853</td>\n",
       "      <td>15.0</td>\n",
       "      <td>0.062496</td>\n",
       "      <td>0.134028</td>\n",
       "    </tr>\n",
       "    <tr>\n",
       "      <th>12416991</th>\n",
       "      <td>540.538818</td>\n",
       "      <td>16.0</td>\n",
       "      <td>0.053047</td>\n",
       "      <td>0.196087</td>\n",
       "    </tr>\n",
       "  </tbody>\n",
       "</table>\n",
       "</div>"
      ],
      "text/plain": [
       "               jet_pt  jet_nTracks  jet_trackWidth  jet_trackC1\n",
       "8091347    531.234863         13.0        0.014092     0.166602\n",
       "6210831   1103.663452         25.0        0.031219     0.216386\n",
       "1524473   1442.918823         15.0        0.014858     0.088302\n",
       "13948873   523.586853         15.0        0.062496     0.134028\n",
       "12416991   540.538818         16.0        0.053047     0.196087"
      ]
     },
     "execution_count": 7,
     "metadata": {},
     "output_type": "execute_result"
    }
   ],
   "source": [
    "X_train[training_vars].head()"
   ]
  },
  {
   "cell_type": "code",
   "execution_count": 8,
   "metadata": {},
   "outputs": [
    {
     "data": {
      "text/html": [
       "<div>\n",
       "<style scoped>\n",
       "    .dataframe tbody tr th:only-of-type {\n",
       "        vertical-align: middle;\n",
       "    }\n",
       "\n",
       "    .dataframe tbody tr th {\n",
       "        vertical-align: top;\n",
       "    }\n",
       "\n",
       "    .dataframe thead th {\n",
       "        text-align: right;\n",
       "    }\n",
       "</style>\n",
       "<table border=\"1\" class=\"dataframe\">\n",
       "  <thead>\n",
       "    <tr style=\"text-align: right;\">\n",
       "      <th></th>\n",
       "      <th>equal_weight</th>\n",
       "    </tr>\n",
       "  </thead>\n",
       "  <tbody>\n",
       "    <tr>\n",
       "      <th>8091347</th>\n",
       "      <td>1.0</td>\n",
       "    </tr>\n",
       "    <tr>\n",
       "      <th>6210831</th>\n",
       "      <td>1.0</td>\n",
       "    </tr>\n",
       "    <tr>\n",
       "      <th>1524473</th>\n",
       "      <td>1.0</td>\n",
       "    </tr>\n",
       "    <tr>\n",
       "      <th>13948873</th>\n",
       "      <td>1.0</td>\n",
       "    </tr>\n",
       "    <tr>\n",
       "      <th>12416991</th>\n",
       "      <td>1.0</td>\n",
       "    </tr>\n",
       "  </tbody>\n",
       "</table>\n",
       "</div>"
      ],
      "text/plain": [
       "          equal_weight\n",
       "8091347            1.0\n",
       "6210831            1.0\n",
       "1524473            1.0\n",
       "13948873           1.0\n",
       "12416991           1.0"
      ]
     },
     "execution_count": 8,
     "metadata": {},
     "output_type": "execute_result"
    }
   ],
   "source": [
    "X_train[training_weight].head()"
   ]
  },
  {
   "cell_type": "code",
   "execution_count": 9,
   "metadata": {},
   "outputs": [
    {
     "name": "stdout",
     "output_type": "stream",
     "text": [
      "      Iter       Train Loss   Remaining Time \n",
      "         1           0.0123          124.30m\n",
      "         2           0.0023          126.96m\n",
      "         3           0.0004          128.29m\n",
      "         4           0.0001          126.71m\n",
      "         5           0.0000          121.04m\n",
      "         6           0.0000          114.57m\n"
     ]
    }
   ],
   "source": [
    "bdt = GradientBoostingClassifier(n_estimators=100, learning_rate=1.0, max_depth=2, random_state=42, verbose=1)\n",
    "\n",
    "bdt.fit(X_train[training_vars], y_train, sample_weight=X_train[training_weight].to_numpy().flatten())\n",
    "\n",
    "### "
   ]
  },
  {
   "cell_type": "code",
   "execution_count": null,
   "metadata": {},
   "outputs": [],
   "source": [
    "pickle.dump(bdt, open(gbdt_filename, 'wb'))"
   ]
  },
  {
   "attachments": {},
   "cell_type": "markdown",
   "metadata": {},
   "source": [
    "# Predict on test datasets"
   ]
  },
  {
   "cell_type": "code",
   "execution_count": null,
   "metadata": {},
   "outputs": [],
   "source": [
    "y_test_decisions = bdt.decision_function(X_test[training_vars])\n",
    "y_test_gluon_id = np.where(y_test==1)[0]\n",
    "y_test_quark_id = np.where(y_test==0)[0]\n",
    "bins_scores = np.linspace(-1, 1, 101)\n",
    "plt.hist(y_test_decisions[y_test_gluon_id], weights=X_test.iloc[y_test_gluon_id, X_test.columns.get_loc('event_weight')], bins= bins_scores, alpha=0.5, label='gluon'+f\"_num: {len(y_test_gluon_id)}\", color = 'blue') # add the weights! \n",
    "plt.hist(y_test_decisions[y_test_quark_id], weights=X_test.iloc[y_test_quark_id, X_test.columns.get_loc('event_weight')], bins= bins_scores, alpha=0.5, label='quark'+f\"_num: {len(y_test_quark_id)}\", color = 'red')\n",
    "plt.legend(loc='upper left')\n",
    "plt.text(0.05, 0.75, f\"num: {len(X_test)}\", transform=plt.gca().transAxes)\n",
    "plt.xlabel(\"BDT Decision Function\")\n",
    "plt.ylabel(\"number of jets\")\n",
    "plt.title(r\"New Training with event weight\")\n",
    "plt.show()"
   ]
  },
  {
   "attachments": {},
   "cell_type": "markdown",
   "metadata": {},
   "source": [
    "# ROC"
   ]
  },
  {
   "cell_type": "code",
   "execution_count": null,
   "metadata": {},
   "outputs": [],
   "source": [
    "from sklearn.metrics import roc_curve, auc\n",
    "\n",
    "def Draw_ROC_all(y, decisions, y_tmva, y_ntrk, X_weight, features):\n",
    "    # Compute ROC curve and area under the curve\n",
    "    fpr, tpr, thresholds = roc_curve(y, decisions, sample_weight = X_weight)\n",
    "    fpr_tmva, tpr_tmva, thresholds_tmva = roc_curve(y, y_tmva, sample_weight = X_weight)\n",
    "    fpr_ntrk, tpr_ntrk, thresholds_ntrk =  roc_curve(y, y_ntrk, sample_weight = X_weight)\n",
    "\n",
    "    roc_auc = auc(fpr, tpr)\n",
    "    roc_auc_tmva = auc(fpr_tmva, tpr_tmva)\n",
    "    roc_auc_ntrk = auc(fpr_ntrk, tpr_ntrk)\n",
    "\n",
    "\n",
    "    plt.plot(1-fpr, tpr, lw=1, label='ROC_NewTraining (area = %0.3f)'%(roc_auc))\n",
    "    plt.plot(1-fpr_tmva, tpr_tmva, lw=1, label='ROC_TMVA (area = %0.3f)'%(roc_auc_tmva))\n",
    "    plt.plot(1-fpr_ntrk, tpr_ntrk, lw=1, label='ROC_Ntrk (area = %0.3f)'%(roc_auc_ntrk))\n",
    "\n",
    "    plt.plot([0, 1], [1, 0], '--', color=(0.6, 0.6, 0.6), label='Luck')\n",
    "    plt.xlim([-0.05, 1.05])\n",
    "    plt.ylim([-0.05, 1.05])\n",
    "    plt.xlabel('False Positive Rate')\n",
    "    plt.ylabel('True Positive Rate')\n",
    "    plt.title(f'ROC with features:{features}'+r\" physical $p_{T}$ weight\")\n",
    "    plt.legend(loc=\"lower left\")\n",
    "    plt.grid()\n",
    "    plt.savefig(\"ROC.png\")\n",
    "    plt.show()\n",
    "\n",
    "Draw_ROC_all(y_test, y_test_decisions, y_tmva=X_test.iloc[:,X_test.columns.get_loc('jet_trackBDT')] , y_ntrk=X_test.iloc[:,X_test.columns.get_loc('jet_nTracks')], X_weight=X_test['event_weight'], features=\"Only Ntrk\")\n"
   ]
  },
  {
   "attachments": {},
   "cell_type": "markdown",
   "metadata": {},
   "source": [
    "# Overtrain validation"
   ]
  },
  {
   "cell_type": "code",
   "execution_count": null,
   "metadata": {},
   "outputs": [],
   "source": [
    "y_test_decisions = bdt.decision_function(X_test[training_vars])\n",
    "y_train_decisions = bdt.decision_function(X_train[training_vars])\n",
    "\n",
    "\n",
    "y_test_decisions_gluon = y_test_decisions[np.where(y_test==1)]\n",
    "y_test_decisions_quark = y_test_decisions[np.where(y_test==0)]\n",
    "y_train_decisions_gluon = y_train_decisions[np.where(y_train==1)]\n",
    "y_train_decisions_quark = y_train_decisions[np.where(y_train==0)]\n",
    "decisions = []\n",
    "decisions.append(y_train_decisions_gluon)\n",
    "decisions.append(y_train_decisions_quark)\n",
    "decisions.append(y_test_decisions_gluon)\n",
    "decisions.append(y_test_decisions_quark)"
   ]
  },
  {
   "cell_type": "code",
   "execution_count": null,
   "metadata": {},
   "outputs": [],
   "source": [
    "custom_bins = np.linspace(-1, 1, 101)\n",
    "custom_bin_width = (custom_bins[1] - custom_bins[0])\n",
    "custom_bin_center = (custom_bins[:-1] + custom_bins[1:]) / 2\n",
    "\n",
    "fig, ax = plt.subplots()\n",
    "ax.hist(decisions[0], weights = X_train.iloc[np.where(y_train==1)[0], event_weight_idx],\n",
    "            color='b', alpha=0.5, bins=custom_bins,\n",
    "            histtype='stepfilled', density=True,\n",
    "            label='Gluon (train)')\n",
    "ax.hist(decisions[1], weights = X_train.iloc[np.where(y_train==0)[0], event_weight_idx],\n",
    "            color='r', alpha=0.5, bins=custom_bins,\n",
    "            histtype='stepfilled', density=True,\n",
    "            label='Quark (train)')\n",
    "\n",
    "hist, bins = np.histogram(decisions[2], weights=X_test.iloc[np.where(y_test==1)[0], event_weight_idx],\n",
    "                            bins=custom_bins,  density=True)\n",
    "scale = len(decisions[2]) / sum(hist)\n",
    "err = np.sqrt(hist * scale) / scale\n",
    "\n",
    "plt.errorbar(custom_bin_center, hist, yerr=err, fmt='o', c='b', label='Gluon (test)')\n",
    "\n",
    "hist, bins = np.histogram(decisions[3], weights=X_test.iloc[np.where(y_test==0)[0], event_weight_idx],\n",
    "                            bins=custom_bins, density=True)\n",
    "scale = len(decisions[2]) / sum(hist)\n",
    "err = np.sqrt(hist * scale) / scale\n",
    "\n",
    "plt.errorbar(custom_bin_center, hist, yerr=err, fmt='o', c='r', label='Quark (test)')\n",
    "plt.xlabel(\"BDT output\")\n",
    "plt.ylabel(\"Arbitrary units\")\n",
    "plt.legend(loc='best')\n",
    "plt.title(\"Overtraining test\")"
   ]
  },
  {
   "cell_type": "markdown",
   "metadata": {},
   "source": []
  },
  {
   "cell_type": "code",
   "execution_count": null,
   "metadata": {},
   "outputs": [],
   "source": [
    "y_sample = bdt.decision_function(sample[training_vars])\n",
    "sample['new_BDTscore'] = y_sample\n",
    "\n",
    "features = [*sample.columns[:6]] + ['new_BDTscore'] \n",
    "HistBins = {\n",
    "    features[0] : np.linspace(0, 2000, 61), \n",
    "    features[1] : np.linspace(-2.5, 2.5, 51),\n",
    "    features[2] : np.linspace(0, 60, 61),\n",
    "    features[3] : np.linspace(0, 0.4, 61), \n",
    "    features[4] : np.linspace(0, 0.4, 61), \n",
    "    features[5] : np.linspace(-1.0, 1.0, 51), \n",
    "    features[6] : np.linspace(-1.0, 1.0, 51),\n",
    "}\n",
    "\n",
    "sample_forward = sample[sample['is_forward']==1]\n",
    "sample_central = sample[sample['is_forward']==0]\n",
    "\n",
    "for feature_name in features:\n",
    "    custom_bins = HistBins[feature_name]\n",
    "    fig, (ax0, ax1) = plt.subplots(nrows=1, ncols=2, figsize = (10,5))\n",
    "    ax0.hist(sample_forward[feature_name], bins = custom_bins, weights = sample_forward['event_weight'], label = f'forward, num: {len(sample_forward)}', color='red', alpha = 0.5)\n",
    "    ax0.hist(sample_central[feature_name], bins = custom_bins, weights = sample_central['event_weight'], label = f'gluon, num: {len(sample_central)}', color='blue', alpha = 0.5)\n",
    "    ax0.legend()\n",
    "    ax0.set_xlabel(feature_name)\n",
    "    ax0.set_ylabel(f\"Weighted Yield\")\n",
    "    ax0.set_title(f\"Weighted Yield Comparison\")\n",
    "\n",
    "    if feature_name == 'jet_pt':\n",
    "        ax0.set_yscale('log')\n",
    "\n",
    "    ax1.hist(sample_forward[feature_name], bins = custom_bins, weights = sample_forward['event_weight'], label = 'forward', color='red', alpha = 0.5, density=True)\n",
    "    ax1.hist(sample_central[feature_name], bins = custom_bins, weights = sample_central['event_weight'], label = 'gluon', color='blue', alpha = 0.5, density=True)\n",
    "    ax1.legend()\n",
    "    ax1.set_xlabel(feature_name)\n",
    "    ax1.set_ylabel(f\"Weighted Shape\")\n",
    "    ax1.set_title(f\"Weighted Shape Comparison\")\n",
    "    if feature_name == 'jet_pt':\n",
    "        ax1.set_yscale('log')\n",
    "    fig.suptitle(f\"Forward vs Central: {feature_name}\")\n",
    "\n",
    "    plt.plot()\n",
    "    "
   ]
  },
  {
   "attachments": {},
   "cell_type": "markdown",
   "metadata": {},
   "source": [
    "# Backup"
   ]
  },
  {
   "cell_type": "code",
   "execution_count": null,
   "metadata": {},
   "outputs": [],
   "source": [
    "y_test_decisions = bdt.decision_function(X_eval[training_vars])\n",
    "\n",
    "y_test_decisions_gluon = y_test_decisions[np.where(y_eval==1)]\n",
    "y_test_decisions_quark = y_test_decisions[np.where(y_eval==0)]\n",
    "y_train_decisions_gluon = y_train_decisions[np.where(y_train==1)]\n",
    "y_train_decisions_quark = y_train_decisions[np.where(y_train==0)]\n",
    "decisions = []\n",
    "decisions.append(y_train_decisions_gluon)\n",
    "decisions.append(y_train_decisions_quark)\n",
    "decisions.append(y_test_decisions_gluon)\n",
    "decisions.append(y_test_decisions_quark)\n",
    "\n",
    "\n",
    "custom_bins = np.linspace(-1, 1, 101)\n",
    "custom_bin_width = (custom_bins[1] - custom_bins[0])\n",
    "custom_bin_center = (custom_bins[:-1] + custom_bins[1:]) / 2\n",
    "\n",
    "fig, ax = plt.subplots()\n",
    "ax.hist(decisions[0], weights = X_train.iloc[np.where(y_train==1)[0], event_weight_idx],\n",
    "            color='b', alpha=0.5, bins=custom_bins,\n",
    "            histtype='stepfilled', density=True,\n",
    "            label='Gluon (train)')\n",
    "ax.hist(decisions[1], weights = X_train.iloc[np.where(y_train==0)[0], event_weight_idx],\n",
    "            color='r', alpha=0.5, bins=custom_bins,\n",
    "            histtype='stepfilled', density=True,\n",
    "            label='Quark (train)')\n",
    "\n",
    "hist, bins = np.histogram(decisions[2], weights=X_eval.iloc[np.where(y_eval==1)[0], event_weight_idx],\n",
    "                            bins=custom_bins,  density=True)\n",
    "scale = len(decisions[2]) / sum(hist)\n",
    "err = np.sqrt(hist * scale) / scale\n",
    "\n",
    "plt.errorbar(custom_bin_center, hist, yerr=err, fmt='o', c='b', label='Gluon (test)')\n",
    "\n",
    "hist, bins = np.histogram(decisions[3], weights=X_eval.iloc[np.where(y_eval==0)[0], event_weight_idx],\n",
    "                            bins=custom_bins, density=True)\n",
    "scale = len(decisions[2]) / sum(hist)\n",
    "err = np.sqrt(hist * scale) / scale\n",
    "\n",
    "plt.errorbar(custom_bin_center, hist, yerr=err, fmt='o', c='r', label='Quark (test)')\n",
    "plt.xlabel(\"BDT output\")\n",
    "plt.ylabel(\"Arbitrary units\")\n",
    "plt.legend(loc='best')\n",
    "plt.title(\"Overtraining test\")\n",
    "\n"
   ]
  },
  {
   "cell_type": "code",
   "execution_count": null,
   "metadata": {},
   "outputs": [],
   "source": [
    "bdt_filename = './BDT_explore_1500_ntrk_equalweight.model'\n",
    "\n",
    "with open(bdt_filename, 'rb') as f:\n",
    "\n",
    "    bdt = pickle.load(f)\n",
    "    \n",
    "def plot_FvsC(sample, bdt):\n",
    "    global training_vars\n",
    "    y_sample = bdt.decision_function(sample[training_vars])\n",
    "    sample['new_BDTscore'] = y_sample\n",
    "\n",
    "    features = [*sample.columns[:6]] + ['new_BDTscore'] \n",
    "    HistBins = {\n",
    "        features[0] : np.linspace(0, 2000, 61), \n",
    "        features[1] : np.linspace(-2.5, 2.5, 51),\n",
    "        features[2] : np.linspace(0, 60, 61),\n",
    "        features[3] : np.linspace(0, 0.4, 61), \n",
    "        features[4] : np.linspace(0, 0.4, 61), \n",
    "        features[5] : np.linspace(-1.0, 1.0, 51), \n",
    "        features[6] : np.linspace(-1.0, 1.0, 51),\n",
    "    }\n",
    "\n",
    "    sample_forward = sample[sample['is_forward']==1]\n",
    "    sample_central = sample[sample['is_forward']==0]\n",
    "\n",
    "    for feature_name in features:\n",
    "        custom_bins = HistBins[feature_name]\n",
    "        fig, (ax0, ax1) = plt.subplots(nrows=1, ncols=2, figsize = (10,5))\n",
    "        ax0.hist(sample_forward[feature_name], bins = custom_bins, weights = sample_forward['event_weight'], label = f'forward, num: {len(sample_forward)}', color='red', alpha = 0.5)\n",
    "        ax0.hist(sample_central[feature_name], bins = custom_bins, weights = sample_central['event_weight'], label = f'gluon, num: {len(sample_central)}', color='blue', alpha = 0.5)\n",
    "        ax0.legend()\n",
    "        ax0.set_xlabel(feature_name)\n",
    "        ax0.set_ylabel(f\"Weighted Yield\")\n",
    "        ax0.set_title(f\"Weighted Yield Comparison\")\n",
    "\n",
    "        if feature_name == 'jet_pt':\n",
    "            ax0.set_yscale('log')\n",
    "\n",
    "        ax1.hist(sample_forward[feature_name], bins = custom_bins, weights = sample_forward['event_weight'], label = 'forward', color='red', alpha = 0.5, density=True)\n",
    "        ax1.hist(sample_central[feature_name], bins = custom_bins, weights = sample_central['event_weight'], label = 'gluon', color='blue', alpha = 0.5, density=True)\n",
    "        ax1.legend()\n",
    "        ax1.set_xlabel(feature_name)\n",
    "        ax1.set_ylabel(f\"Weighted Shape\")\n",
    "        ax1.set_title(f\"Weighted Shape Comparison\")\n",
    "        if feature_name == 'jet_pt':\n",
    "            ax1.set_yscale('log')\n",
    "        fig.suptitle(f\"Forward vs Central: {feature_name}\")\n",
    "\n",
    "        plt.plot()\n",
    "\n",
    "    return sample\n",
    "\n",
    "sample_1500_all_jets = '/global/cfs/projectdirs/atlas/hrzhao/HEP_Repo/QG_Calibration/BDT_EB4/samples/sample_1500_all_jets.pkl'\n",
    "\n",
    "with open(sample_1500_all_jets, 'rb') as f:\n",
    "    sample_1500_all_jets = pd.read_pickle(f)\n",
    "sample_1500_all_jets_w_scores =  plot_FvsC(sample=sample_1500_all_jets, bdt=bdt)"
   ]
  },
  {
   "cell_type": "code",
   "execution_count": null,
   "metadata": {},
   "outputs": [],
   "source": [
    "bdt.feature_importances_"
   ]
  },
  {
   "cell_type": "code",
   "execution_count": null,
   "metadata": {},
   "outputs": [],
   "source": [
    "forward_quark = sample_1500_all_jets_w_scores[(sample_1500_all_jets_w_scores['is_forward']==1) &(sample_1500_all_jets_w_scores['target']==0)]\n",
    "forward_gluon = sample_1500_all_jets_w_scores[(sample_1500_all_jets_w_scores['is_forward']==1) &(sample_1500_all_jets_w_scores['target']==1)]\n",
    "central_quark = sample_1500_all_jets_w_scores[(sample_1500_all_jets_w_scores['is_forward']==0) &(sample_1500_all_jets_w_scores['target']==0)]\n",
    "central_gluon = sample_1500_all_jets_w_scores[(sample_1500_all_jets_w_scores['is_forward']==0) &(sample_1500_all_jets_w_scores['target']==1)]\n",
    "forward = sample_1500_all_jets_w_scores[(sample_1500_all_jets_w_scores['is_forward']==1)]\n",
    "central = sample_1500_all_jets_w_scores[(sample_1500_all_jets_w_scores['is_forward']==0)]\n",
    "quark = sample_1500_all_jets_w_scores[sample_1500_all_jets_w_scores['target']==0]\n",
    "gluon = sample_1500_all_jets_w_scores[sample_1500_all_jets_w_scores['target']==1]\n",
    "\n",
    "newbdt_bins = np.linspace(-1.0, 1.0, 101)\n",
    "fig, ax = plt.subplots(nrows=1, ncols=2, figsize=(10,5))\n",
    "ax[0].hist(forward_quark['new_BDTscore'], bins=newbdt_bins, weights=forward_quark['event_weight'], \n",
    "          label=f'forward quark, num:{len(forward_quark)}', color='red', alpha = 0.5, density=True)\n",
    "ax[0].hist(central_quark['new_BDTscore'], bins=newbdt_bins, weights=central_quark['event_weight'], \n",
    "          label=f'central quark, num:{len(central_quark)}', color='blue', alpha = 0.5, density=True)\n",
    "ax[0].legend()\n",
    "ax[0].set_title('quark: Forward vs. Central')\n",
    "\n",
    "ax[1].hist(forward_gluon['new_BDTscore'], bins=newbdt_bins, weights=forward_gluon['event_weight'],\n",
    "          label=f'forward gluon, num:{len(forward_gluon)}', color='red', alpha = 0.5, density=True)\n",
    "ax[1].hist(central_gluon['new_BDTscore'], bins=newbdt_bins, weights=central_gluon['event_weight'], \n",
    "          label=f'central gluon, num:{len(central_gluon)}', color='blue', alpha = 0.5, density=True)\n",
    "ax[1].set_title('gluon: Forward vs. Central')\n",
    "ax[1].legend()\n",
    "fig.suptitle('New BDT')\n"
   ]
  },
  {
   "cell_type": "code",
   "execution_count": null,
   "metadata": {},
   "outputs": [],
   "source": [
    "n_forward_quark = len(forward_quark)\n",
    "n_central_quark = len(central_quark)\n",
    "n_forward = len(forward)\n",
    "n_central = len(central)\n",
    "\n",
    "frac_forward_quark = n_forward_quark / n_forward\n",
    "frac_central_quark = n_central_quark / n_central\n",
    "\n",
    "frac_forward_gluon = 1 - frac_forward_quark\n",
    "frac_central_gluon = 1 - frac_central_quark\n",
    "\n",
    "f = np.array([[frac_forward_quark,  frac_forward_gluon], [frac_central_quark, frac_central_gluon]])\n",
    "f_inv = np.linalg.inv(f)\n",
    "\n",
    "\n",
    "# Do a simple extraction test\n",
    "# MC closure \n",
    "feature = 'new_BDTscore'\n",
    "newbdt_bins = np.linspace(-1.0, 1.0, 101)\n",
    "hist_forward, _ = np.histogram(forward[feature], newbdt_bins, weights=forward['event_weight'], density = True)\n",
    "hist_central, _ = np.histogram(central[feature], newbdt_bins, weights=central['event_weight'], density = True)\n",
    "\n",
    "\n",
    "extract_p_Quark = f_inv[0][0] * hist_forward + f_inv[0][1]* hist_central \n",
    "extract_p_Gluon = f_inv[1][0] * hist_forward + f_inv[1][1]* hist_central \n",
    "\n",
    "fig, ax = plt.subplots(nrows=1, ncols=2, figsize=(10,5))\n",
    "ax[0].hist(quark[feature], bins=newbdt_bins, weights=quark['event_weight'], \n",
    "          label=f'truth quark', color='red', alpha = 0.5, density=True)\n",
    "ax[0].stairs(values=extract_p_Quark, edges=newbdt_bins, label=f'extracted quark(MC)')\n",
    "ax[0].legend()\n",
    "ax[0].set_title('quark: Truth vs. Extracted MC')\n",
    "\n",
    "ax[1].hist(gluon[feature], bins=newbdt_bins, weights=gluon['event_weight'], \n",
    "          label=f'truth quark', color='blue', alpha = 0.5, density=True)\n",
    "ax[1].stairs(values=extract_p_Gluon, edges=newbdt_bins, label=f'extracted gluon(MC)')\n",
    "ax[1].legend()\n",
    "ax[1].set_title('gluon: Truth vs. Extracted MC')\n",
    "\n",
    "# ax[1].hist(forward_gluon['new_BDTscore'], bins=newbdt_bins, weights=forward_gluon['event_weight'],\n",
    "#           label=f'forward gluon, num:{len(forward_gluon)}', color='red', alpha = 0.5, density=True)\n",
    "# ax[1].hist(central_gluon['new_BDTscore'], bins=newbdt_bins, weights=central_gluon['event_weight'], \n",
    "#           label=f'central gluon, num:{len(central_gluon)}', color='blue', alpha = 0.5, density=True)\n",
    "# ax[1].set_title('gluon: Forward vs. Central')\n",
    "# ax[1].legend()\n",
    "fig.suptitle('New BDT')\n"
   ]
  },
  {
   "cell_type": "code",
   "execution_count": null,
   "metadata": {},
   "outputs": [],
   "source": [
    "# Do a simple extraction test\n",
    "# MC closure \n",
    "feature = 'jet_trackBDT'\n",
    "newbdt_bins = np.linspace(-1.0, 1.0, 101)\n",
    "hist_forward, _ = np.histogram(forward[feature], newbdt_bins, weights=forward['event_weight'], density = True)\n",
    "hist_central, _ = np.histogram(central[feature], newbdt_bins, weights=central['event_weight'], density = True)\n",
    "\n",
    "\n",
    "extract_p_Quark = f_inv[0][0] * hist_forward + f_inv[0][1]* hist_central \n",
    "extract_p_Gluon = f_inv[1][0] * hist_forward + f_inv[1][1]* hist_central \n",
    "\n",
    "fig, ax = plt.subplots(nrows=1, ncols=2, figsize=(10,5))\n",
    "ax[0].hist(quark[feature], bins=newbdt_bins, weights=quark['event_weight'], \n",
    "          label=f'truth quark', color='red', alpha = 0.5, density=True)\n",
    "ax[0].stairs(values=extract_p_Quark, edges=newbdt_bins, label=f'extracted quark(MC)')\n",
    "ax[0].legend()\n",
    "ax[0].set_title('quark: Truth vs. Extracted MC')\n",
    "\n",
    "ax[1].hist(gluon[feature], bins=newbdt_bins, weights=gluon['event_weight'], \n",
    "          label=f'truth quark', color='blue', alpha = 0.5, density=True)\n",
    "ax[1].stairs(values=extract_p_Gluon, edges=newbdt_bins, label=f'extracted gluon(MC)')\n",
    "ax[1].legend()\n",
    "ax[1].set_title('gluon: Truth vs. Extracted MC')\n",
    "\n",
    "fig.suptitle('Old BDT')\n"
   ]
  },
  {
   "cell_type": "code",
   "execution_count": null,
   "metadata": {},
   "outputs": [],
   "source": [
    "hist_forward[0], hist_central[0] "
   ]
  },
  {
   "cell_type": "code",
   "execution_count": null,
   "metadata": {},
   "outputs": [],
   "source": [
    "f_inv"
   ]
  },
  {
   "cell_type": "code",
   "execution_count": null,
   "metadata": {},
   "outputs": [],
   "source": [
    "f_inv[1][0] * hist_forward[0] + f_inv[1][1]* hist_central[0] "
   ]
  },
  {
   "cell_type": "code",
   "execution_count": null,
   "metadata": {},
   "outputs": [],
   "source": [
    "extract_p_Gluon"
   ]
  },
  {
   "cell_type": "code",
   "execution_count": null,
   "metadata": {},
   "outputs": [],
   "source": [
    "fig, ax = plt.subplots(nrows=1, ncols=2, figsize=(10,5))\n",
    "feature = 'jet_nTracks'\n",
    "ntrk_bins = np.linspace(0, 80, 81)\n",
    "hist_forward, _ = np.histogram(forward[feature], ntrk_bins, weights=forward['event_weight'], density = True)\n",
    "hist_central, _ = np.histogram(central[feature], ntrk_bins, weights=central['event_weight'], density = True)\n",
    "\n",
    "extract_p_Quark = f_inv[0][0] * hist_forward + f_inv[0][1]* hist_central \n",
    "extract_p_Gluon = f_inv[1][0] * hist_forward + f_inv[1][1]* hist_central \n",
    "\n",
    "\n",
    "ax[0].hist(quark[feature], bins=ntrk_bins, weights=quark['event_weight'], \n",
    "          label=f'truth quark', color='red', alpha = 0.5, density=True)\n",
    "ax[0].stairs(values=extract_p_Quark, edges=ntrk_bins, label=f'extracted quark(MC)')\n",
    "ax[0].legend()\n",
    "ax[0].set_title('quark: Truth vs. Extracted MC')\n",
    "\n",
    "ax[1].hist(gluon[feature], bins=ntrk_bins, weights=gluon['event_weight'], \n",
    "          label=f'truth quark', color='blue', alpha = 0.5, density=True)\n",
    "ax[1].stairs(values=extract_p_Gluon, edges=ntrk_bins, label=f'extracted gluon(MC)')\n",
    "ax[1].legend()\n",
    "ax[1].set_title('gluon: Truth vs. Extracted MC')\n",
    "\n",
    "# ax[1].hist(forward_gluon['new_BDTscore'], bins=newbdt_bins, weights=forward_gluon['event_weight'],\n",
    "#           label=f'forward gluon, num:{len(forward_gluon)}', color='red', alpha = 0.5, density=True)\n",
    "# ax[1].hist(central_gluon['new_BDTscore'], bins=newbdt_bins, weights=central_gluon['event_weight'], \n",
    "#           label=f'central gluon, num:{len(central_gluon)}', color='blue', alpha = 0.5, density=True)\n",
    "# ax[1].set_title('gluon: Forward vs. Central')\n",
    "# ax[1].legend()\n",
    "fig.suptitle('New BDT')"
   ]
  },
  {
   "cell_type": "code",
   "execution_count": null,
   "metadata": {},
   "outputs": [],
   "source": [
    "f_inv"
   ]
  },
  {
   "cell_type": "code",
   "execution_count": null,
   "metadata": {},
   "outputs": [],
   "source": [
    "hist_forward[0]"
   ]
  },
  {
   "cell_type": "code",
   "execution_count": null,
   "metadata": {},
   "outputs": [],
   "source": [
    "hist_central[0]"
   ]
  },
  {
   "cell_type": "code",
   "execution_count": null,
   "metadata": {},
   "outputs": [],
   "source": [
    "f_inv[1][0] * hist_forward[0] + f_inv[1][1]* hist_central[0] "
   ]
  },
  {
   "cell_type": "code",
   "execution_count": null,
   "metadata": {},
   "outputs": [],
   "source": [
    "np.min(extract_p_Gluon)"
   ]
  },
  {
   "cell_type": "code",
   "execution_count": null,
   "metadata": {},
   "outputs": [],
   "source": []
  }
 ],
 "metadata": {
  "kernelspec": {
   "display_name": "ml",
   "language": "python",
   "name": "python3"
  },
  "language_info": {
   "codemirror_mode": {
    "name": "ipython",
    "version": 3
   },
   "file_extension": ".py",
   "mimetype": "text/x-python",
   "name": "python",
   "nbconvert_exporter": "python",
   "pygments_lexer": "ipython3",
   "version": "3.9.15 | packaged by conda-forge | (main, Nov 22 2022, 15:55:03) \n[GCC 10.4.0]"
  },
  "orig_nbformat": 4,
  "vscode": {
   "interpreter": {
    "hash": "14e3b66b9136298b1438aa954b24fb6042eb4a7b64fe2e32b506f4a92d36ab42"
   }
  }
 },
 "nbformat": 4,
 "nbformat_minor": 2
}
