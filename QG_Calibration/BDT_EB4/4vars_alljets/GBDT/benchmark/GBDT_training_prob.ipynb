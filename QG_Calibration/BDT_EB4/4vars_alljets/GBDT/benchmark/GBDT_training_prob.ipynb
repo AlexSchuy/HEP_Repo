{
 "cells": [
  {
   "cell_type": "code",
   "execution_count": 1,
   "metadata": {},
   "outputs": [],
   "source": [
    "import argparse\n",
    "import numpy as np\n",
    "import matplotlib.pyplot as plt\n",
    "import pandas as pd\n",
    "\n",
    "import uproot \n",
    "import awkward as ak\n",
    "from pathlib import Path\n",
    "\n",
    "from typing import Dict, List \n",
    "import re\n",
    "import pickle\n",
    "from tqdm import tqdm\n",
    "\n",
    "from sklearn.tree import DecisionTreeClassifier\n",
    "from sklearn.ensemble import AdaBoostClassifier, GradientBoostingClassifier\n",
    "from sklearn.metrics import classification_report, roc_auc_score\n",
    "from sklearn.model_selection import train_test_split\n",
    "\n"
   ]
  },
  {
   "cell_type": "code",
   "execution_count": 2,
   "metadata": {},
   "outputs": [],
   "source": [
    "training_vars = ['jet_pt', 'jet_nTracks', 'jet_trackWidth', 'jet_trackC1']\n",
    "training_weight = ['equal_weight']\n",
    "gbdt_filename = './gbdt.model'\n",
    "\n",
    "sample_all_jets_path = '../../../samples/sample_allpt_all_jets.pkl'\n",
    "sample_path = '../../../samples/sample_allpt_all_jets.pkl'\n",
    "\n",
    "label_pt_bin = [500, 600, 800, 1000, 1200, 1500, 2000]\n",
    "\n",
    "n_estimators = 100\n",
    "learning_rate = 1.0 \n",
    "max_depth = 2"
   ]
  },
  {
   "attachments": {},
   "cell_type": "markdown",
   "metadata": {},
   "source": [
    "# Load Data"
   ]
  },
  {
   "cell_type": "code",
   "execution_count": 3,
   "metadata": {},
   "outputs": [],
   "source": [
    "sample = pd.read_pickle(sample_path)"
   ]
  },
  {
   "cell_type": "code",
   "execution_count": 4,
   "metadata": {},
   "outputs": [
    {
     "data": {
      "text/plain": [
       "Index(['jet_pt', 'jet_eta', 'jet_nTracks', 'jet_trackWidth', 'jet_trackC1',\n",
       "       'jet_trackBDT', 'jet_PartonTruthLabelID', 'equal_weight',\n",
       "       'event_weight', 'flatpt_weight', 'is_forward', 'pt_idx', 'target'],\n",
       "      dtype='object')"
      ]
     },
     "execution_count": 4,
     "metadata": {},
     "output_type": "execute_result"
    }
   ],
   "source": [
    "sample.columns"
   ]
  },
  {
   "attachments": {},
   "cell_type": "markdown",
   "metadata": {},
   "source": [
    "# Train with default config"
   ]
  },
  {
   "cell_type": "code",
   "execution_count": 5,
   "metadata": {},
   "outputs": [
    {
     "ename": "KeyboardInterrupt",
     "evalue": "",
     "output_type": "error",
     "traceback": [
      "\u001b[0;31m---------------------------------------------------------------------------\u001b[0m",
      "\u001b[0;31mKeyboardInterrupt\u001b[0m                         Traceback (most recent call last)",
      "Cell \u001b[0;32mIn [5], line 4\u001b[0m\n\u001b[1;32m      1\u001b[0m X \u001b[39m=\u001b[39m sample\u001b[39m.\u001b[39miloc[:, :\u001b[39m-\u001b[39m\u001b[39m1\u001b[39m]\n\u001b[1;32m      2\u001b[0m y \u001b[39m=\u001b[39m sample\u001b[39m.\u001b[39miloc[:, \u001b[39m-\u001b[39m\u001b[39m1\u001b[39m]\n\u001b[0;32m----> 4\u001b[0m X_dev,X_eval, y_dev,y_eval \u001b[39m=\u001b[39m train_test_split(X, y, test_size\u001b[39m=\u001b[39m\u001b[39m0.1\u001b[39m, random_state\u001b[39m=\u001b[39m\u001b[39m456\u001b[39m)\n\u001b[1;32m      5\u001b[0m X_train, X_test, y_train, y_test \u001b[39m=\u001b[39m train_test_split(X_dev, y_dev, test_size\u001b[39m=\u001b[39m\u001b[39m0.1\u001b[39m\u001b[39m/\u001b[39m\u001b[39m0.9\u001b[39m, random_state\u001b[39m=\u001b[39m\u001b[39m789\u001b[39m)\n",
      "File \u001b[0;32m/global/cfs/cdirs/atlas/hrzhao/miniconda3/envs/ml/lib/python3.9/site-packages/sklearn/model_selection/_split.py:2471\u001b[0m, in \u001b[0;36mtrain_test_split\u001b[0;34m(test_size, train_size, random_state, shuffle, stratify, *arrays)\u001b[0m\n\u001b[1;32m   2467\u001b[0m     cv \u001b[39m=\u001b[39m CVClass(test_size\u001b[39m=\u001b[39mn_test, train_size\u001b[39m=\u001b[39mn_train, random_state\u001b[39m=\u001b[39mrandom_state)\n\u001b[1;32m   2469\u001b[0m     train, test \u001b[39m=\u001b[39m \u001b[39mnext\u001b[39m(cv\u001b[39m.\u001b[39msplit(X\u001b[39m=\u001b[39marrays[\u001b[39m0\u001b[39m], y\u001b[39m=\u001b[39mstratify))\n\u001b[0;32m-> 2471\u001b[0m \u001b[39mreturn\u001b[39;00m \u001b[39mlist\u001b[39;49m(\n\u001b[1;32m   2472\u001b[0m     chain\u001b[39m.\u001b[39;49mfrom_iterable(\n\u001b[1;32m   2473\u001b[0m         (_safe_indexing(a, train), _safe_indexing(a, test)) \u001b[39mfor\u001b[39;49;00m a \u001b[39min\u001b[39;49;00m arrays\n\u001b[1;32m   2474\u001b[0m     )\n\u001b[1;32m   2475\u001b[0m )\n",
      "File \u001b[0;32m/global/cfs/cdirs/atlas/hrzhao/miniconda3/envs/ml/lib/python3.9/site-packages/sklearn/model_selection/_split.py:2473\u001b[0m, in \u001b[0;36m<genexpr>\u001b[0;34m(.0)\u001b[0m\n\u001b[1;32m   2467\u001b[0m     cv \u001b[39m=\u001b[39m CVClass(test_size\u001b[39m=\u001b[39mn_test, train_size\u001b[39m=\u001b[39mn_train, random_state\u001b[39m=\u001b[39mrandom_state)\n\u001b[1;32m   2469\u001b[0m     train, test \u001b[39m=\u001b[39m \u001b[39mnext\u001b[39m(cv\u001b[39m.\u001b[39msplit(X\u001b[39m=\u001b[39marrays[\u001b[39m0\u001b[39m], y\u001b[39m=\u001b[39mstratify))\n\u001b[1;32m   2471\u001b[0m \u001b[39mreturn\u001b[39;00m \u001b[39mlist\u001b[39m(\n\u001b[1;32m   2472\u001b[0m     chain\u001b[39m.\u001b[39mfrom_iterable(\n\u001b[0;32m-> 2473\u001b[0m         (_safe_indexing(a, train), _safe_indexing(a, test)) \u001b[39mfor\u001b[39;00m a \u001b[39min\u001b[39;00m arrays\n\u001b[1;32m   2474\u001b[0m     )\n\u001b[1;32m   2475\u001b[0m )\n",
      "File \u001b[0;32m/global/cfs/cdirs/atlas/hrzhao/miniconda3/envs/ml/lib/python3.9/site-packages/sklearn/utils/__init__.py:359\u001b[0m, in \u001b[0;36m_safe_indexing\u001b[0;34m(X, indices, axis)\u001b[0m\n\u001b[1;32m    353\u001b[0m     \u001b[39mraise\u001b[39;00m \u001b[39mValueError\u001b[39;00m(\n\u001b[1;32m    354\u001b[0m         \u001b[39m\"\u001b[39m\u001b[39mSpecifying the columns using strings is only supported for \u001b[39m\u001b[39m\"\u001b[39m\n\u001b[1;32m    355\u001b[0m         \u001b[39m\"\u001b[39m\u001b[39mpandas DataFrames\u001b[39m\u001b[39m\"\u001b[39m\n\u001b[1;32m    356\u001b[0m     )\n\u001b[1;32m    358\u001b[0m \u001b[39mif\u001b[39;00m \u001b[39mhasattr\u001b[39m(X, \u001b[39m\"\u001b[39m\u001b[39miloc\u001b[39m\u001b[39m\"\u001b[39m):\n\u001b[0;32m--> 359\u001b[0m     \u001b[39mreturn\u001b[39;00m _pandas_indexing(X, indices, indices_dtype, axis\u001b[39m=\u001b[39;49maxis)\n\u001b[1;32m    360\u001b[0m \u001b[39melif\u001b[39;00m \u001b[39mhasattr\u001b[39m(X, \u001b[39m\"\u001b[39m\u001b[39mshape\u001b[39m\u001b[39m\"\u001b[39m):\n\u001b[1;32m    361\u001b[0m     \u001b[39mreturn\u001b[39;00m _array_indexing(X, indices, indices_dtype, axis\u001b[39m=\u001b[39maxis)\n",
      "File \u001b[0;32m/global/cfs/cdirs/atlas/hrzhao/miniconda3/envs/ml/lib/python3.9/site-packages/sklearn/utils/__init__.py:201\u001b[0m, in \u001b[0;36m_pandas_indexing\u001b[0;34m(X, key, key_dtype, axis)\u001b[0m\n\u001b[1;32m    196\u001b[0m     key \u001b[39m=\u001b[39m \u001b[39mlist\u001b[39m(key)\n\u001b[1;32m    198\u001b[0m \u001b[39mif\u001b[39;00m key_dtype \u001b[39m==\u001b[39m \u001b[39m\"\u001b[39m\u001b[39mint\u001b[39m\u001b[39m\"\u001b[39m \u001b[39mand\u001b[39;00m \u001b[39mnot\u001b[39;00m (\u001b[39misinstance\u001b[39m(key, \u001b[39mslice\u001b[39m) \u001b[39mor\u001b[39;00m np\u001b[39m.\u001b[39misscalar(key)):\n\u001b[1;32m    199\u001b[0m     \u001b[39m# using take() instead of iloc[] ensures the return value is a \"proper\"\u001b[39;00m\n\u001b[1;32m    200\u001b[0m     \u001b[39m# copy that will not raise SettingWithCopyWarning\u001b[39;00m\n\u001b[0;32m--> 201\u001b[0m     \u001b[39mreturn\u001b[39;00m X\u001b[39m.\u001b[39;49mtake(key, axis\u001b[39m=\u001b[39;49maxis)\n\u001b[1;32m    202\u001b[0m \u001b[39melse\u001b[39;00m:\n\u001b[1;32m    203\u001b[0m     \u001b[39m# check whether we should index with loc or iloc\u001b[39;00m\n\u001b[1;32m    204\u001b[0m     indexer \u001b[39m=\u001b[39m X\u001b[39m.\u001b[39miloc \u001b[39mif\u001b[39;00m key_dtype \u001b[39m==\u001b[39m \u001b[39m\"\u001b[39m\u001b[39mint\u001b[39m\u001b[39m\"\u001b[39m \u001b[39melse\u001b[39;00m X\u001b[39m.\u001b[39mloc\n",
      "File \u001b[0;32m/global/cfs/cdirs/atlas/hrzhao/miniconda3/envs/ml/lib/python3.9/site-packages/pandas/core/generic.py:3872\u001b[0m, in \u001b[0;36mNDFrame.take\u001b[0;34m(self, indices, axis, is_copy, **kwargs)\u001b[0m\n\u001b[1;32m   3863\u001b[0m     warnings\u001b[39m.\u001b[39mwarn(\n\u001b[1;32m   3864\u001b[0m         \u001b[39m\"\u001b[39m\u001b[39mis_copy is deprecated and will be removed in a future version. \u001b[39m\u001b[39m\"\u001b[39m\n\u001b[1;32m   3865\u001b[0m         \u001b[39m\"\u001b[39m\u001b[39m'\u001b[39m\u001b[39mtake\u001b[39m\u001b[39m'\u001b[39m\u001b[39m always returns a copy, so there is no need to specify this.\u001b[39m\u001b[39m\"\u001b[39m,\n\u001b[1;32m   3866\u001b[0m         \u001b[39mFutureWarning\u001b[39;00m,\n\u001b[1;32m   3867\u001b[0m         stacklevel\u001b[39m=\u001b[39mfind_stack_level(inspect\u001b[39m.\u001b[39mcurrentframe()),\n\u001b[1;32m   3868\u001b[0m     )\n\u001b[1;32m   3870\u001b[0m nv\u001b[39m.\u001b[39mvalidate_take((), kwargs)\n\u001b[0;32m-> 3872\u001b[0m \u001b[39mreturn\u001b[39;00m \u001b[39mself\u001b[39;49m\u001b[39m.\u001b[39;49m_take(indices, axis)\n",
      "File \u001b[0;32m/global/cfs/cdirs/atlas/hrzhao/miniconda3/envs/ml/lib/python3.9/site-packages/pandas/core/generic.py:3887\u001b[0m, in \u001b[0;36mNDFrame._take\u001b[0;34m(self, indices, axis, convert_indices)\u001b[0m\n\u001b[1;32m   3880\u001b[0m \u001b[39m\"\"\"\u001b[39;00m\n\u001b[1;32m   3881\u001b[0m \u001b[39mInternal version of the `take` allowing specification of additional args.\u001b[39;00m\n\u001b[1;32m   3882\u001b[0m \n\u001b[1;32m   3883\u001b[0m \u001b[39mSee the docstring of `take` for full explanation of the parameters.\u001b[39;00m\n\u001b[1;32m   3884\u001b[0m \u001b[39m\"\"\"\u001b[39;00m\n\u001b[1;32m   3885\u001b[0m \u001b[39mself\u001b[39m\u001b[39m.\u001b[39m_consolidate_inplace()\n\u001b[0;32m-> 3887\u001b[0m new_data \u001b[39m=\u001b[39m \u001b[39mself\u001b[39;49m\u001b[39m.\u001b[39;49m_mgr\u001b[39m.\u001b[39;49mtake(\n\u001b[1;32m   3888\u001b[0m     indices,\n\u001b[1;32m   3889\u001b[0m     axis\u001b[39m=\u001b[39;49m\u001b[39mself\u001b[39;49m\u001b[39m.\u001b[39;49m_get_block_manager_axis(axis),\n\u001b[1;32m   3890\u001b[0m     verify\u001b[39m=\u001b[39;49m\u001b[39mTrue\u001b[39;49;00m,\n\u001b[1;32m   3891\u001b[0m     convert_indices\u001b[39m=\u001b[39;49mconvert_indices,\n\u001b[1;32m   3892\u001b[0m )\n\u001b[1;32m   3893\u001b[0m \u001b[39mreturn\u001b[39;00m \u001b[39mself\u001b[39m\u001b[39m.\u001b[39m_constructor(new_data)\u001b[39m.\u001b[39m__finalize__(\u001b[39mself\u001b[39m, method\u001b[39m=\u001b[39m\u001b[39m\"\u001b[39m\u001b[39mtake\u001b[39m\u001b[39m\"\u001b[39m)\n",
      "File \u001b[0;32m/global/cfs/cdirs/atlas/hrzhao/miniconda3/envs/ml/lib/python3.9/site-packages/pandas/core/internals/managers.py:969\u001b[0m, in \u001b[0;36mBaseBlockManager.take\u001b[0;34m(self, indexer, axis, verify, convert_indices)\u001b[0m\n\u001b[1;32m    966\u001b[0m     indexer \u001b[39m=\u001b[39m maybe_convert_indices(indexer, n, verify\u001b[39m=\u001b[39mverify)\n\u001b[1;32m    968\u001b[0m new_labels \u001b[39m=\u001b[39m \u001b[39mself\u001b[39m\u001b[39m.\u001b[39maxes[axis]\u001b[39m.\u001b[39mtake(indexer)\n\u001b[0;32m--> 969\u001b[0m \u001b[39mreturn\u001b[39;00m \u001b[39mself\u001b[39;49m\u001b[39m.\u001b[39;49mreindex_indexer(\n\u001b[1;32m    970\u001b[0m     new_axis\u001b[39m=\u001b[39;49mnew_labels,\n\u001b[1;32m    971\u001b[0m     indexer\u001b[39m=\u001b[39;49mindexer,\n\u001b[1;32m    972\u001b[0m     axis\u001b[39m=\u001b[39;49maxis,\n\u001b[1;32m    973\u001b[0m     allow_dups\u001b[39m=\u001b[39;49m\u001b[39mTrue\u001b[39;49;00m,\n\u001b[1;32m    974\u001b[0m     copy\u001b[39m=\u001b[39;49m\u001b[39mNone\u001b[39;49;00m,\n\u001b[1;32m    975\u001b[0m )\n",
      "File \u001b[0;32m/global/cfs/cdirs/atlas/hrzhao/miniconda3/envs/ml/lib/python3.9/site-packages/pandas/core/internals/managers.py:743\u001b[0m, in \u001b[0;36mBaseBlockManager.reindex_indexer\u001b[0;34m(self, new_axis, indexer, axis, fill_value, allow_dups, copy, only_slice, use_na_proxy)\u001b[0m\n\u001b[1;32m    736\u001b[0m     new_blocks, new_refs \u001b[39m=\u001b[39m \u001b[39mself\u001b[39m\u001b[39m.\u001b[39m_slice_take_blocks_ax0(\n\u001b[1;32m    737\u001b[0m         indexer,\n\u001b[1;32m    738\u001b[0m         fill_value\u001b[39m=\u001b[39mfill_value,\n\u001b[1;32m    739\u001b[0m         only_slice\u001b[39m=\u001b[39monly_slice,\n\u001b[1;32m    740\u001b[0m         use_na_proxy\u001b[39m=\u001b[39muse_na_proxy,\n\u001b[1;32m    741\u001b[0m     )\n\u001b[1;32m    742\u001b[0m \u001b[39melse\u001b[39;00m:\n\u001b[0;32m--> 743\u001b[0m     new_blocks \u001b[39m=\u001b[39m [\n\u001b[1;32m    744\u001b[0m         blk\u001b[39m.\u001b[39mtake_nd(\n\u001b[1;32m    745\u001b[0m             indexer,\n\u001b[1;32m    746\u001b[0m             axis\u001b[39m=\u001b[39m\u001b[39m1\u001b[39m,\n\u001b[1;32m    747\u001b[0m             fill_value\u001b[39m=\u001b[39m(\n\u001b[1;32m    748\u001b[0m                 fill_value \u001b[39mif\u001b[39;00m fill_value \u001b[39mis\u001b[39;00m \u001b[39mnot\u001b[39;00m \u001b[39mNone\u001b[39;00m \u001b[39melse\u001b[39;00m blk\u001b[39m.\u001b[39mfill_value\n\u001b[1;32m    749\u001b[0m             ),\n\u001b[1;32m    750\u001b[0m         )\n\u001b[1;32m    751\u001b[0m         \u001b[39mfor\u001b[39;00m blk \u001b[39min\u001b[39;00m \u001b[39mself\u001b[39m\u001b[39m.\u001b[39mblocks\n\u001b[1;32m    752\u001b[0m     ]\n\u001b[1;32m    753\u001b[0m     new_refs \u001b[39m=\u001b[39m \u001b[39mNone\u001b[39;00m\n\u001b[1;32m    755\u001b[0m new_axes \u001b[39m=\u001b[39m \u001b[39mlist\u001b[39m(\u001b[39mself\u001b[39m\u001b[39m.\u001b[39maxes)\n",
      "File \u001b[0;32m/global/cfs/cdirs/atlas/hrzhao/miniconda3/envs/ml/lib/python3.9/site-packages/pandas/core/internals/managers.py:744\u001b[0m, in \u001b[0;36m<listcomp>\u001b[0;34m(.0)\u001b[0m\n\u001b[1;32m    736\u001b[0m     new_blocks, new_refs \u001b[39m=\u001b[39m \u001b[39mself\u001b[39m\u001b[39m.\u001b[39m_slice_take_blocks_ax0(\n\u001b[1;32m    737\u001b[0m         indexer,\n\u001b[1;32m    738\u001b[0m         fill_value\u001b[39m=\u001b[39mfill_value,\n\u001b[1;32m    739\u001b[0m         only_slice\u001b[39m=\u001b[39monly_slice,\n\u001b[1;32m    740\u001b[0m         use_na_proxy\u001b[39m=\u001b[39muse_na_proxy,\n\u001b[1;32m    741\u001b[0m     )\n\u001b[1;32m    742\u001b[0m \u001b[39melse\u001b[39;00m:\n\u001b[1;32m    743\u001b[0m     new_blocks \u001b[39m=\u001b[39m [\n\u001b[0;32m--> 744\u001b[0m         blk\u001b[39m.\u001b[39;49mtake_nd(\n\u001b[1;32m    745\u001b[0m             indexer,\n\u001b[1;32m    746\u001b[0m             axis\u001b[39m=\u001b[39;49m\u001b[39m1\u001b[39;49m,\n\u001b[1;32m    747\u001b[0m             fill_value\u001b[39m=\u001b[39;49m(\n\u001b[1;32m    748\u001b[0m                 fill_value \u001b[39mif\u001b[39;49;00m fill_value \u001b[39mis\u001b[39;49;00m \u001b[39mnot\u001b[39;49;00m \u001b[39mNone\u001b[39;49;00m \u001b[39melse\u001b[39;49;00m blk\u001b[39m.\u001b[39;49mfill_value\n\u001b[1;32m    749\u001b[0m             ),\n\u001b[1;32m    750\u001b[0m         )\n\u001b[1;32m    751\u001b[0m         \u001b[39mfor\u001b[39;00m blk \u001b[39min\u001b[39;00m \u001b[39mself\u001b[39m\u001b[39m.\u001b[39mblocks\n\u001b[1;32m    752\u001b[0m     ]\n\u001b[1;32m    753\u001b[0m     new_refs \u001b[39m=\u001b[39m \u001b[39mNone\u001b[39;00m\n\u001b[1;32m    755\u001b[0m new_axes \u001b[39m=\u001b[39m \u001b[39mlist\u001b[39m(\u001b[39mself\u001b[39m\u001b[39m.\u001b[39maxes)\n",
      "File \u001b[0;32m/global/cfs/cdirs/atlas/hrzhao/miniconda3/envs/ml/lib/python3.9/site-packages/pandas/core/internals/blocks.py:879\u001b[0m, in \u001b[0;36mBlock.take_nd\u001b[0;34m(self, indexer, axis, new_mgr_locs, fill_value)\u001b[0m\n\u001b[1;32m    876\u001b[0m     allow_fill \u001b[39m=\u001b[39m \u001b[39mTrue\u001b[39;00m\n\u001b[1;32m    878\u001b[0m \u001b[39m# Note: algos.take_nd has upcast logic similar to coerce_to_target_dtype\u001b[39;00m\n\u001b[0;32m--> 879\u001b[0m new_values \u001b[39m=\u001b[39m algos\u001b[39m.\u001b[39;49mtake_nd(\n\u001b[1;32m    880\u001b[0m     values, indexer, axis\u001b[39m=\u001b[39;49maxis, allow_fill\u001b[39m=\u001b[39;49mallow_fill, fill_value\u001b[39m=\u001b[39;49mfill_value\n\u001b[1;32m    881\u001b[0m )\n\u001b[1;32m    883\u001b[0m \u001b[39m# Called from three places in managers, all of which satisfy\u001b[39;00m\n\u001b[1;32m    884\u001b[0m \u001b[39m#  this assertion\u001b[39;00m\n\u001b[1;32m    885\u001b[0m \u001b[39massert\u001b[39;00m \u001b[39mnot\u001b[39;00m (axis \u001b[39m==\u001b[39m \u001b[39m0\u001b[39m \u001b[39mand\u001b[39;00m new_mgr_locs \u001b[39mis\u001b[39;00m \u001b[39mNone\u001b[39;00m)\n",
      "File \u001b[0;32m/global/cfs/cdirs/atlas/hrzhao/miniconda3/envs/ml/lib/python3.9/site-packages/pandas/core/array_algos/take.py:117\u001b[0m, in \u001b[0;36mtake_nd\u001b[0;34m(arr, indexer, axis, fill_value, allow_fill)\u001b[0m\n\u001b[1;32m    114\u001b[0m     \u001b[39mreturn\u001b[39;00m arr\u001b[39m.\u001b[39mtake(indexer, fill_value\u001b[39m=\u001b[39mfill_value, allow_fill\u001b[39m=\u001b[39mallow_fill)\n\u001b[1;32m    116\u001b[0m arr \u001b[39m=\u001b[39m np\u001b[39m.\u001b[39masarray(arr)\n\u001b[0;32m--> 117\u001b[0m \u001b[39mreturn\u001b[39;00m _take_nd_ndarray(arr, indexer, axis, fill_value, allow_fill)\n",
      "File \u001b[0;32m/global/cfs/cdirs/atlas/hrzhao/miniconda3/envs/ml/lib/python3.9/site-packages/pandas/core/array_algos/take.py:163\u001b[0m, in \u001b[0;36m_take_nd_ndarray\u001b[0;34m(arr, indexer, axis, fill_value, allow_fill)\u001b[0m\n\u001b[1;32m    158\u001b[0m     out \u001b[39m=\u001b[39m np\u001b[39m.\u001b[39mempty(out_shape, dtype\u001b[39m=\u001b[39mdtype)\n\u001b[1;32m    160\u001b[0m func \u001b[39m=\u001b[39m _get_take_nd_function(\n\u001b[1;32m    161\u001b[0m     arr\u001b[39m.\u001b[39mndim, arr\u001b[39m.\u001b[39mdtype, out\u001b[39m.\u001b[39mdtype, axis\u001b[39m=\u001b[39maxis, mask_info\u001b[39m=\u001b[39mmask_info\n\u001b[1;32m    162\u001b[0m )\n\u001b[0;32m--> 163\u001b[0m func(arr, indexer, out, fill_value)\n\u001b[1;32m    165\u001b[0m \u001b[39mif\u001b[39;00m flip_order:\n\u001b[1;32m    166\u001b[0m     out \u001b[39m=\u001b[39m out\u001b[39m.\u001b[39mT\n",
      "\u001b[0;31mKeyboardInterrupt\u001b[0m: "
     ]
    }
   ],
   "source": [
    "X = sample.iloc[:, :-1]\n",
    "y = sample.iloc[:, -1]\n",
    "\n",
    "X_dev,X_eval, y_dev,y_eval = train_test_split(X, y, test_size=0.1, random_state=456)\n",
    "X_train, X_test, y_train, y_test = train_test_split(X_dev, y_dev, test_size=0.1/0.9, random_state=789)"
   ]
  },
  {
   "cell_type": "code",
   "execution_count": null,
   "metadata": {},
   "outputs": [],
   "source": [
    "event_weight_idx = X.columns.get_loc('event_weight')\n",
    "equal_weight_idx = X.columns.get_loc('equal_weight')\n",
    "flatpt_weight_idx = X.columns.get_loc('flatpt_weight')"
   ]
  },
  {
   "cell_type": "code",
   "execution_count": null,
   "metadata": {},
   "outputs": [],
   "source": [
    "X_train[training_vars].head()"
   ]
  },
  {
   "cell_type": "code",
   "execution_count": null,
   "metadata": {},
   "outputs": [],
   "source": [
    "X_train[training_weight].head()"
   ]
  },
  {
   "cell_type": "code",
   "execution_count": null,
   "metadata": {},
   "outputs": [],
   "source": [
    "bdt = GradientBoostingClassifier(n_estimators=n_estimators, learning_rate=learning_rate, \n",
    "                                 max_depth=max_depth, random_state=42, verbose=1)\n",
    "\n",
    "bdt.fit(X_dev[training_vars], y_dev, sample_weight=X_dev[training_weight].to_numpy().flatten())\n",
    "\n",
    "### "
   ]
  },
  {
   "cell_type": "code",
   "execution_count": null,
   "metadata": {},
   "outputs": [],
   "source": [
    "pickle.dump(bdt, open(gbdt_filename, 'wb'))"
   ]
  },
  {
   "attachments": {},
   "cell_type": "markdown",
   "metadata": {},
   "source": [
    "# Predict on test datasets"
   ]
  },
  {
   "cell_type": "code",
   "execution_count": null,
   "metadata": {},
   "outputs": [],
   "source": [
    "y_test_decisions = bdt.predict_proba(X_test[training_vars])[:,1]\n",
    "y_test_gluon_id = np.where(y_test==1)[0]\n",
    "y_test_quark_id = np.where(y_test==0)[0]\n",
    "bins_scores = np.linspace(0, 1, 101)\n",
    "plt.hist(y_test_decisions[y_test_gluon_id], weights=X_test.iloc[y_test_gluon_id, X_test.columns.get_loc('event_weight')], bins= bins_scores, alpha=0.5, label='gluon'+f\"_num: {len(y_test_gluon_id)}\", color = 'blue') # add the weights! \n",
    "plt.hist(y_test_decisions[y_test_quark_id], weights=X_test.iloc[y_test_quark_id, X_test.columns.get_loc('event_weight')], bins= bins_scores, alpha=0.5, label='quark'+f\"_num: {len(y_test_quark_id)}\", color = 'red')\n",
    "plt.legend(loc='upper left')\n",
    "plt.text(0.05, 0.75, f\"num: {len(X_test)}\", transform=plt.gca().transAxes)\n",
    "plt.xlabel(\"GBDT Decision Function\")\n",
    "plt.ylabel(\"number of jets\")\n",
    "plt.title(r\"New Training with event weight\")\n",
    "plt.savefig(\"GBDT_Training.png\")\n",
    "plt.show()"
   ]
  },
  {
   "attachments": {},
   "cell_type": "markdown",
   "metadata": {},
   "source": [
    "# ROC"
   ]
  },
  {
   "cell_type": "code",
   "execution_count": null,
   "metadata": {},
   "outputs": [],
   "source": [
    "from sklearn.metrics import roc_curve, auc\n",
    "\n",
    "def Draw_ROC_all(y, decisions, y_tmva, y_ntrk, X_weight, features):\n",
    "    # Compute ROC curve and area under the curve\n",
    "    fpr, tpr, thresholds = roc_curve(y, decisions, sample_weight = X_weight)\n",
    "    fpr_tmva, tpr_tmva, thresholds_tmva = roc_curve(y, y_tmva, sample_weight = X_weight)\n",
    "    fpr_ntrk, tpr_ntrk, thresholds_ntrk =  roc_curve(y, y_ntrk, sample_weight = X_weight)\n",
    "\n",
    "    roc_auc = auc(fpr, tpr)\n",
    "    roc_auc_tmva = auc(fpr_tmva, tpr_tmva)\n",
    "    roc_auc_ntrk = auc(fpr_ntrk, tpr_ntrk)\n",
    "\n",
    "\n",
    "    plt.plot(1-fpr, tpr, lw=1, label='ROC_NewTraining (area = %0.3f)'%(roc_auc))\n",
    "    plt.plot(1-fpr_tmva, tpr_tmva, lw=1, label='ROC_TMVA (area = %0.3f)'%(roc_auc_tmva))\n",
    "    plt.plot(1-fpr_ntrk, tpr_ntrk, lw=1, label='ROC_Ntrk (area = %0.3f)'%(roc_auc_ntrk))\n",
    "\n",
    "    plt.plot([0, 1], [1, 0], '--', color=(0.6, 0.6, 0.6), label='Luck')\n",
    "    plt.xlim([-0.05, 1.05])\n",
    "    plt.ylim([-0.05, 1.05])\n",
    "    plt.xlabel('False Positive Rate')\n",
    "    plt.ylabel('True Positive Rate')\n",
    "    plt.title(f'ROC with features:{features}'+r\" physical $p_{T}$ weight\")\n",
    "    plt.legend(loc=\"lower left\")\n",
    "    plt.grid()\n",
    "    plt.savefig(\"ROC.png\")\n",
    "    plt.show()\n",
    "\n",
    "Draw_ROC_all(y_test, y_test_decisions, y_tmva=X_test.iloc[:,X_test.columns.get_loc('jet_trackBDT')] , y_ntrk=X_test.iloc[:,X_test.columns.get_loc('jet_nTracks')], X_weight=X_test['event_weight'], features=\" 4 vars\")\n"
   ]
  },
  {
   "attachments": {},
   "cell_type": "markdown",
   "metadata": {},
   "source": [
    "# Overtrain validation"
   ]
  },
  {
   "cell_type": "code",
   "execution_count": null,
   "metadata": {},
   "outputs": [],
   "source": [
    "y_test_decisions = bdt.predict_proba(X_test[training_vars])[:,1]\n",
    "y_dev_decisions = bdt.predict_proba(X_dev[training_vars])[:,1]\n",
    "\n",
    "\n",
    "y_test_decisions_gluon = y_test_decisions[np.where(y_test==1)]\n",
    "y_test_decisions_quark = y_test_decisions[np.where(y_test==0)]\n",
    "y_dev_decisions_gluon = y_dev_decisions[np.where(y_dev==1)]\n",
    "y_dev_decisions_quark = y_dev_decisions[np.where(y_dev==0)]\n",
    "decisions = []\n",
    "decisions.append(y_dev_decisions_gluon)\n",
    "decisions.append(y_dev_decisions_quark)\n",
    "decisions.append(y_test_decisions_gluon)\n",
    "decisions.append(y_test_decisions_quark)\n",
    "\n",
    "custom_bins = np.linspace(0, 1, 101)\n",
    "custom_bin_width = (custom_bins[1] - custom_bins[0])\n",
    "custom_bin_center = (custom_bins[:-1] + custom_bins[1:]) / 2\n",
    "\n",
    "fig, ax = plt.subplots()\n",
    "ax.hist(decisions[0], weights = X_dev.iloc[np.where(y_dev==1)[0], event_weight_idx],\n",
    "            color='b', alpha=0.5, bins=custom_bins,\n",
    "            histtype='stepfilled', density=True,\n",
    "            label='Gluon (train)')\n",
    "ax.hist(decisions[1], weights = X_dev.iloc[np.where(y_dev==0)[0], event_weight_idx],\n",
    "            color='r', alpha=0.5, bins=custom_bins,\n",
    "            histtype='stepfilled', density=True,\n",
    "            label='Quark (train)')\n",
    "\n",
    "hist, bins = np.histogram(decisions[2], weights=X_test.iloc[np.where(y_test==1)[0], event_weight_idx],\n",
    "                            bins=custom_bins,  density=True)\n",
    "scale = len(decisions[2]) / sum(hist)\n",
    "err = np.sqrt(hist * scale) / scale\n",
    "\n",
    "plt.errorbar(custom_bin_center, hist, yerr=err, fmt='o', c='b', label='Gluon (test)')\n",
    "\n",
    "hist, bins = np.histogram(decisions[3], weights=X_test.iloc[np.where(y_test==0)[0], event_weight_idx],\n",
    "                            bins=custom_bins, density=True)\n",
    "scale = len(decisions[2]) / sum(hist)\n",
    "err = np.sqrt(hist * scale) / scale\n",
    "\n",
    "\n",
    "plt.errorbar(custom_bin_center, hist, yerr=err, fmt='o', c='r', label='Quark (test)')\n",
    "plt.xlabel(\"GBDT prob output\")\n",
    "plt.ylabel(\"Arbitrary units\")\n",
    "plt.legend(loc='best')\n",
    "plt.title(\"Overtraining test\")"
   ]
  },
  {
   "attachments": {},
   "cell_type": "markdown",
   "metadata": {},
   "source": [
    "# Test Extraction on Current Sample"
   ]
  },
  {
   "attachments": {},
   "cell_type": "markdown",
   "metadata": {},
   "source": [
    "## inclusive"
   ]
  },
  {
   "attachments": {},
   "cell_type": "markdown",
   "metadata": {},
   "source": [
    "### feature distribution"
   ]
  },
  {
   "cell_type": "code",
   "execution_count": null,
   "metadata": {},
   "outputs": [],
   "source": [
    "y_sample = bdt.predict_proba(sample[training_vars])[:,1]\n",
    "sample['new_GBDTprob'] = y_sample\n",
    "\n",
    "features = [*sample.columns[:6]] + ['new_GBDTprob'] \n",
    "HistBins = {\n",
    "    features[0] : np.linspace(0, 2000, 61), \n",
    "    features[1] : np.linspace(-2.5, 2.5, 51),\n",
    "    features[2] : np.linspace(0, 60, 61),\n",
    "    features[3] : np.linspace(0, 0.4, 61), \n",
    "    features[4] : np.linspace(0, 0.4, 61), \n",
    "    features[5] : np.linspace(-1.0, 1.0, 51), \n",
    "    features[6] : np.linspace(0.0, 1.0, 51),\n",
    "}\n",
    "\n",
    "sample_forward = sample[sample['is_forward']==1]\n",
    "sample_central = sample[sample['is_forward']==0]\n",
    "\n",
    "for feature_name in features:\n",
    "    custom_bins = HistBins[feature_name]\n",
    "    fig, (ax0, ax1) = plt.subplots(nrows=1, ncols=2, figsize = (10,5))\n",
    "    ax0.hist(sample_forward[feature_name], bins = custom_bins, weights = sample_forward['event_weight'], label = f'forward, num: {len(sample_forward)}', color='red', alpha = 0.5)\n",
    "    ax0.hist(sample_central[feature_name], bins = custom_bins, weights = sample_central['event_weight'], label = f'gluon, num: {len(sample_central)}', color='blue', alpha = 0.5)\n",
    "    ax0.legend()\n",
    "    ax0.set_xlabel(feature_name)\n",
    "    ax0.set_ylabel(f\"Weighted Yield\")\n",
    "    ax0.set_title(f\"Weighted Yield Comparison\")\n",
    "\n",
    "    if feature_name == 'jet_pt':\n",
    "        ax0.set_yscale('log')\n",
    "\n",
    "    ax1.hist(sample_forward[feature_name], bins = custom_bins, weights = sample_forward['event_weight'], label = 'forward', color='red', alpha = 0.5, density=True)\n",
    "    ax1.hist(sample_central[feature_name], bins = custom_bins, weights = sample_central['event_weight'], label = 'gluon', color='blue', alpha = 0.5, density=True)\n",
    "    ax1.legend()\n",
    "    ax1.set_xlabel(feature_name)\n",
    "    ax1.set_ylabel(f\"Weighted Shape\")\n",
    "    ax1.set_title(f\"Weighted Shape Comparison\")\n",
    "    if feature_name == 'jet_pt':\n",
    "        ax1.set_yscale('log')\n",
    "    fig.suptitle(f\"Forward vs Central: {feature_name}\")\n",
    "\n",
    "    plt.plot()\n",
    "    "
   ]
  },
  {
   "attachments": {},
   "cell_type": "markdown",
   "metadata": {},
   "source": [
    "### test extraction"
   ]
  },
  {
   "cell_type": "code",
   "execution_count": null,
   "metadata": {},
   "outputs": [],
   "source": [
    "forward_quark = sample[(sample['is_forward']==1) &(sample['target']==0)]\n",
    "forward_gluon = sample[(sample['is_forward']==1) &(sample['target']==1)]\n",
    "central_quark = sample[(sample['is_forward']==0) &(sample['target']==0)]\n",
    "central_gluon = sample[(sample['is_forward']==0) &(sample['target']==1)]\n",
    "forward = sample[(sample['is_forward']==1)]\n",
    "central = sample[(sample['is_forward']==0)]\n",
    "quark = sample[sample['target']==0]\n",
    "gluon = sample[sample['target']==1]\n",
    "\n",
    "newbdt_bins = np.linspace(0.0, 1.0, 101)\n",
    "fig, ax = plt.subplots(nrows=1, ncols=2, figsize=(10,5))\n",
    "feature = 'new_GBDTprob'\n",
    "ax[0].hist(forward_quark[feature], bins=newbdt_bins, weights=forward_quark['event_weight'], \n",
    "          label=f'forward quark, num:{len(forward_quark)}', color='red', alpha = 0.5, density=True)\n",
    "ax[0].hist(central_quark[feature], bins=newbdt_bins, weights=central_quark['event_weight'], \n",
    "          label=f'central quark, num:{len(central_quark)}', color='blue', alpha = 0.5, density=True)\n",
    "ax[0].legend()\n",
    "ax[0].set_title('quark: Forward vs. Central')\n",
    "\n",
    "ax[1].hist(forward_gluon[feature], bins=newbdt_bins, weights=forward_gluon['event_weight'],\n",
    "          label=f'forward gluon, num:{len(forward_gluon)}', color='red', alpha = 0.5, density=True)\n",
    "ax[1].hist(central_gluon[feature], bins=newbdt_bins, weights=central_gluon['event_weight'], \n",
    "          label=f'central gluon, num:{len(central_gluon)}', color='blue', alpha = 0.5, density=True)\n",
    "ax[1].set_title('gluon: Forward vs. Central')\n",
    "ax[1].legend()\n",
    "fig.suptitle(feature)\n",
    "\n",
    "\n",
    "\n",
    "\n",
    "n_forward_quark = len(forward_quark)\n",
    "n_central_quark = len(central_quark)\n",
    "n_forward = len(forward)\n",
    "n_central = len(central)\n",
    "\n",
    "frac_forward_quark = n_forward_quark / n_forward\n",
    "frac_central_quark = n_central_quark / n_central\n",
    "\n",
    "frac_forward_gluon = 1 - frac_forward_quark\n",
    "frac_central_gluon = 1 - frac_central_quark\n",
    "\n",
    "f = np.array([[frac_forward_quark,  frac_forward_gluon], [frac_central_quark, frac_central_gluon]])\n",
    "f_inv = np.linalg.inv(f)\n",
    "\n",
    "\n",
    "# Do a simple extraction test\n",
    "# MC closure \n",
    "feature = 'new_GBDTprob'\n",
    "newbdt_bins = np.linspace(0.0, 1.0, 101)\n",
    "hist_forward, _ = np.histogram(forward[feature], newbdt_bins, weights=forward['event_weight'], density = True)\n",
    "hist_central, _ = np.histogram(central[feature], newbdt_bins, weights=central['event_weight'], density = True)\n",
    "\n",
    "\n",
    "extract_p_Quark = f_inv[0][0] * hist_forward + f_inv[0][1]* hist_central \n",
    "extract_p_Gluon = f_inv[1][0] * hist_forward + f_inv[1][1]* hist_central \n",
    "\n",
    "fig, ax = plt.subplots(nrows=1, ncols=2, figsize=(10,5))\n",
    "ax[0].hist(quark[feature], bins=newbdt_bins, weights=quark['event_weight'], \n",
    "          label=f'truth quark', color='red', alpha = 0.5, density=True)\n",
    "ax[0].stairs(values=extract_p_Quark, edges=newbdt_bins, label=f'extracted quark(MC)')\n",
    "ax[0].legend()\n",
    "ax[0].set_title('quark: Truth vs. Extracted MC')\n",
    "\n",
    "ax[1].hist(gluon[feature], bins=newbdt_bins, weights=gluon['event_weight'], \n",
    "          label=f'truth gluon', color='blue', alpha = 0.5, density=True)\n",
    "ax[1].stairs(values=extract_p_Gluon, edges=newbdt_bins, label=f'extracted gluon(MC)')\n",
    "ax[1].legend()\n",
    "ax[1].set_title('gluon: Truth vs. Extracted MC')\n",
    "\n",
    "fig.suptitle(feature)\n"
   ]
  },
  {
   "attachments": {},
   "cell_type": "markdown",
   "metadata": {},
   "source": [
    "## pt bins "
   ]
  },
  {
   "attachments": {},
   "cell_type": "markdown",
   "metadata": {},
   "source": [
    "### GBDTprob distribution"
   ]
  },
  {
   "cell_type": "code",
   "execution_count": null,
   "metadata": {},
   "outputs": [],
   "source": [
    "for pt_idx, pt in enumerate(label_pt_bin[:-1]):\n",
    "    sample_pt = sample[sample['pt_idx'] == pt_idx] \n",
    "\n",
    "    sample_forward = sample_pt[sample_pt['is_forward']==1]\n",
    "    sample_central = sample_pt[sample_pt['is_forward']==0]\n",
    "\n",
    "    for feature_name in features[-1:]:\n",
    "        custom_bins = HistBins[feature_name]\n",
    "        fig, (ax0, ax1) = plt.subplots(nrows=1, ncols=2, figsize = (10,5))\n",
    "        ax0.hist(sample_forward[feature_name], bins = custom_bins, weights = sample_forward['event_weight'], label = f'forward, num: {len(sample_forward)}', color='red', alpha = 0.5)\n",
    "        ax0.hist(sample_central[feature_name], bins = custom_bins, weights = sample_central['event_weight'], label = f'central, num: {len(sample_central)}', color='blue', alpha = 0.5)\n",
    "        ax0.legend()\n",
    "        ax0.set_xlabel(feature_name)\n",
    "        ax0.set_ylabel(f\"Weighted Yield\")\n",
    "        ax0.set_title(f\"Weighted Yield Comparison\")\n",
    "        if feature_name == 'jet_pt':\n",
    "            ax0.set_yscale('log')\n",
    "\n",
    "        ax1.hist(sample_forward[feature_name], bins = custom_bins, weights = sample_forward['event_weight'], label = 'forward', color='red', alpha = 0.5, density=True)\n",
    "        ax1.hist(sample_central[feature_name], bins = custom_bins, weights = sample_central['event_weight'], label = 'central', color='blue', alpha = 0.5, density=True)\n",
    "        ax1.legend()\n",
    "        ax1.set_xlabel(feature_name)\n",
    "        ax1.set_ylabel(f\"Weighted Shape\")\n",
    "        ax1.set_title(f\"Weighted Shape Comparison\")\n",
    "        if feature_name == 'jet_pt':\n",
    "            ax1.set_yscale('log')\n",
    "        fig.suptitle(f\"{pt}GeV, Forward vs Central: {feature_name}\")\n",
    "        plt.plot()\n",
    "    "
   ]
  },
  {
   "attachments": {},
   "cell_type": "markdown",
   "metadata": {},
   "source": [
    "### test extraction"
   ]
  },
  {
   "cell_type": "code",
   "execution_count": null,
   "metadata": {},
   "outputs": [],
   "source": [
    "for pt_idx, pt in enumerate(label_pt_bin[:-1]):\n",
    "    sample_pt = sample[sample['pt_idx'] == pt_idx] \n",
    "    _sample = sample_pt\n",
    "    forward_quark = _sample[(_sample['is_forward']==1) &(_sample['target']==0)]\n",
    "    forward_gluon = _sample[(_sample['is_forward']==1) &(_sample['target']==1)]\n",
    "    central_quark = _sample[(_sample['is_forward']==0) &(_sample['target']==0)]\n",
    "    central_gluon = _sample[(_sample['is_forward']==0) &(_sample['target']==1)]\n",
    "    forward = _sample[(_sample['is_forward']==1)]\n",
    "    central = _sample[(_sample['is_forward']==0)]\n",
    "    quark = _sample[_sample['target']==0]\n",
    "    gluon = _sample[_sample['target']==1]\n",
    "\n",
    "    newbdt_bins = np.linspace(0.0, 1.0, 101)\n",
    "    fig, ax = plt.subplots(nrows=1, ncols=2, figsize=(10,5))\n",
    "    feature = 'new_GBDTprob'\n",
    "    ax[0].hist(forward_quark[feature], bins=newbdt_bins, weights=forward_quark['event_weight'], \n",
    "            label=f'forward quark, num:{len(forward_quark)}', color='red', alpha = 0.5, density=True)\n",
    "    ax[0].hist(central_quark[feature], bins=newbdt_bins, weights=central_quark['event_weight'], \n",
    "            label=f'central quark, num:{len(central_quark)}', color='blue', alpha = 0.5, density=True)\n",
    "    ax[0].legend()\n",
    "    ax[0].set_title('quark: Forward vs. Central')\n",
    "\n",
    "    ax[1].hist(forward_gluon[feature], bins=newbdt_bins, weights=forward_gluon['event_weight'],\n",
    "            label=f'forward gluon, num:{len(forward_gluon)}', color='red', alpha = 0.5, density=True)\n",
    "    ax[1].hist(central_gluon[feature], bins=newbdt_bins, weights=central_gluon['event_weight'], \n",
    "            label=f'central gluon, num:{len(central_gluon)}', color='blue', alpha = 0.5, density=True)\n",
    "    ax[1].set_title('gluon: Forward vs. Central')\n",
    "    ax[1].legend()\n",
    "    fig.suptitle(f\"{pt} GeV, Forward vs Central for parton, {feature}\")\n",
    "\n",
    "\n",
    "\n",
    "\n",
    "    n_forward_quark = len(forward_quark)\n",
    "    n_central_quark = len(central_quark)\n",
    "    n_forward = len(forward)\n",
    "    n_central = len(central)\n",
    "\n",
    "    frac_forward_quark = n_forward_quark / n_forward\n",
    "    frac_central_quark = n_central_quark / n_central\n",
    "\n",
    "    frac_forward_gluon = 1 - frac_forward_quark\n",
    "    frac_central_gluon = 1 - frac_central_quark\n",
    "\n",
    "    f = np.array([[frac_forward_quark,  frac_forward_gluon], [frac_central_quark, frac_central_gluon]])\n",
    "    f_inv = np.linalg.inv(f)\n",
    "\n",
    "\n",
    "    # Do a simple extraction test\n",
    "    # MC closure \n",
    "    feature = 'new_GBDTprob'\n",
    "    newbdt_bins = np.linspace(0.0, 1.0, 101)\n",
    "    hist_forward, _ = np.histogram(forward[feature], newbdt_bins, weights=forward['event_weight'], density = True)\n",
    "    hist_central, _ = np.histogram(central[feature], newbdt_bins, weights=central['event_weight'], density = True)\n",
    "\n",
    "\n",
    "    extract_p_Quark = f_inv[0][0] * hist_forward + f_inv[0][1]* hist_central \n",
    "    extract_p_Gluon = f_inv[1][0] * hist_forward + f_inv[1][1]* hist_central \n",
    "\n",
    "    fig, ax = plt.subplots(nrows=1, ncols=2, figsize=(10,5))\n",
    "    ax[0].hist(quark[feature], bins=newbdt_bins, weights=quark['event_weight'], \n",
    "            label=f'truth quark', color='red', alpha = 0.5, density=True)\n",
    "    ax[0].stairs(values=extract_p_Quark, edges=newbdt_bins, label=f'extracted quark(MC)')\n",
    "    ax[0].legend()\n",
    "    ax[0].set_title('quark: Truth vs. Extracted MC')\n",
    "\n",
    "    ax[1].hist(gluon[feature], bins=newbdt_bins, weights=gluon['event_weight'], \n",
    "            label=f'truth gluon', color='blue', alpha = 0.5, density=True)\n",
    "    ax[1].stairs(values=extract_p_Gluon, edges=newbdt_bins, label=f'extracted gluon(MC)')\n",
    "    ax[1].legend()\n",
    "    ax[1].set_title('gluon: Truth vs. Extracted MC')\n",
    "\n",
    "    fig.suptitle(f\"{pt} GeV, Extraction, {feature}\")"
   ]
  },
  {
   "attachments": {},
   "cell_type": "markdown",
   "metadata": {},
   "source": [
    "# Test Extraction on whole period"
   ]
  },
  {
   "cell_type": "code",
   "execution_count": null,
   "metadata": {},
   "outputs": [],
   "source": [
    "with open(sample_all_jets_path, 'rb') as f:\n",
    "    sample_all_jets = pd.read_pickle(f)\n",
    "\n",
    "y_sample_all_jets = bdt.predict_proba(sample_all_jets[training_vars])[:,1]\n",
    "sample_all_jets['new_GBDTprob'] = y_sample_all_jets\n",
    "features = [*sample_all_jets.columns[:6]] + ['new_GBDTprob'] \n",
    "HistBins = {\n",
    "    features[0] : np.linspace(0, 2000, 61), \n",
    "    features[1] : np.linspace(-2.5, 2.5, 51),\n",
    "    features[2] : np.linspace(0, 60, 61),\n",
    "    features[3] : np.linspace(0, 0.4, 61), \n",
    "    features[4] : np.linspace(0, 0.4, 61), \n",
    "    features[5] : np.linspace(-1.0, 1.0, 51), \n",
    "    features[6] : np.linspace(0.0, 1.0, 51),\n",
    "}\n",
    "\n",
    "_sample = sample_all_jets"
   ]
  },
  {
   "attachments": {},
   "cell_type": "markdown",
   "metadata": {},
   "source": [
    "## inclusive"
   ]
  },
  {
   "attachments": {},
   "cell_type": "markdown",
   "metadata": {},
   "source": [
    "### feature distribution"
   ]
  },
  {
   "cell_type": "code",
   "execution_count": null,
   "metadata": {},
   "outputs": [],
   "source": [
    "sample_forward = _sample[_sample['is_forward']==1]\n",
    "sample_central = _sample[_sample['is_forward']==0]\n",
    "\n",
    "for feature_name in features:\n",
    "    custom_bins = HistBins[feature_name]\n",
    "    fig, (ax0, ax1) = plt.subplots(nrows=1, ncols=2, figsize = (10,5))\n",
    "    ax0.hist(sample_forward[feature_name], bins = custom_bins, weights = sample_forward['event_weight'], label = f'forward, num: {len(sample_forward)}', color='red', alpha = 0.5)\n",
    "    ax0.hist(sample_central[feature_name], bins = custom_bins, weights = sample_central['event_weight'], label = f'central, num: {len(sample_central)}', color='blue', alpha = 0.5)\n",
    "    ax0.legend()\n",
    "    ax0.set_xlabel(feature_name)\n",
    "    ax0.set_ylabel(f\"Weighted Yield\")\n",
    "    ax0.set_title(f\"Weighted Yield Comparison\")\n",
    "\n",
    "    if feature_name == 'jet_pt':\n",
    "        ax0.set_yscale('log')\n",
    "\n",
    "    ax1.hist(sample_forward[feature_name], bins = custom_bins, weights = sample_forward['event_weight'], label = 'forward', color='red', alpha = 0.5, density=True)\n",
    "    ax1.hist(sample_central[feature_name], bins = custom_bins, weights = sample_central['event_weight'], label = 'central', color='blue', alpha = 0.5, density=True)\n",
    "    ax1.legend()\n",
    "    ax1.set_xlabel(feature_name)\n",
    "    ax1.set_ylabel(f\"Weighted Shape\")\n",
    "    ax1.set_title(f\"Weighted Shape Comparison\")\n",
    "    if feature_name == 'jet_pt':\n",
    "        ax1.set_yscale('log')\n",
    "    fig.suptitle(f\"Forward vs Central: {feature_name}\")\n",
    "\n",
    "    plt.plot()\n",
    "    "
   ]
  },
  {
   "attachments": {},
   "cell_type": "markdown",
   "metadata": {},
   "source": [
    "### test extraction"
   ]
  },
  {
   "cell_type": "code",
   "execution_count": null,
   "metadata": {},
   "outputs": [],
   "source": [
    "forward_quark = _sample[(_sample['is_forward']==1) &(_sample['target']==0)]\n",
    "forward_gluon = _sample[(_sample['is_forward']==1) &(_sample['target']==1)]\n",
    "central_quark = _sample[(_sample['is_forward']==0) &(_sample['target']==0)]\n",
    "central_gluon = _sample[(_sample['is_forward']==0) &(_sample['target']==1)]\n",
    "forward = _sample[(_sample['is_forward']==1)]\n",
    "central = _sample[(_sample['is_forward']==0)]\n",
    "quark = _sample[_sample['target']==0]\n",
    "gluon = _sample[_sample['target']==1]\n",
    "\n",
    "newbdt_bins = np.linspace(0.0, 1.0, 101)\n",
    "fig, ax = plt.subplots(nrows=1, ncols=2, figsize=(10,5))\n",
    "feature = 'new_GBDTprob'\n",
    "ax[0].hist(forward_quark[feature], bins=newbdt_bins, weights=forward_quark['event_weight'], \n",
    "        label=f'forward quark, num:{len(forward_quark)}', color='red', alpha = 0.5, density=True)\n",
    "ax[0].hist(central_quark[feature], bins=newbdt_bins, weights=central_quark['event_weight'], \n",
    "        label=f'central quark, num:{len(central_quark)}', color='blue', alpha = 0.5, density=True)\n",
    "ax[0].legend()\n",
    "ax[0].set_title('quark: Forward vs. Central')\n",
    "\n",
    "ax[1].hist(forward_gluon[feature], bins=newbdt_bins, weights=forward_gluon['event_weight'],\n",
    "        label=f'forward gluon, num:{len(forward_gluon)}', color='red', alpha = 0.5, density=True)\n",
    "ax[1].hist(central_gluon[feature], bins=newbdt_bins, weights=central_gluon['event_weight'], \n",
    "        label=f'central gluon, num:{len(central_gluon)}', color='blue', alpha = 0.5, density=True)\n",
    "ax[1].set_title('gluon: Forward vs. Central')\n",
    "ax[1].legend()\n",
    "fig.suptitle(feature)\n",
    "\n",
    "\n",
    "n_forward_quark = len(forward_quark)\n",
    "n_central_quark = len(central_quark)\n",
    "n_forward = len(forward)\n",
    "n_central = len(central)\n",
    "\n",
    "frac_forward_quark = n_forward_quark / n_forward\n",
    "frac_central_quark = n_central_quark / n_central\n",
    "\n",
    "frac_forward_gluon = 1 - frac_forward_quark\n",
    "frac_central_gluon = 1 - frac_central_quark\n",
    "\n",
    "f = np.array([[frac_forward_quark,  frac_forward_gluon], [frac_central_quark, frac_central_gluon]])\n",
    "f_inv = np.linalg.inv(f)\n",
    "\n",
    "\n",
    "# Do a simple extraction test\n",
    "# MC closure \n",
    "feature = 'new_GBDTprob'\n",
    "newbdt_bins = np.linspace(0.0, 1.0, 101)\n",
    "hist_forward, _ = np.histogram(forward[feature], newbdt_bins, weights=forward['event_weight'], density = True)\n",
    "hist_central, _ = np.histogram(central[feature], newbdt_bins, weights=central['event_weight'], density = True)\n",
    "\n",
    "\n",
    "extract_p_Quark = f_inv[0][0] * hist_forward + f_inv[0][1]* hist_central \n",
    "extract_p_Gluon = f_inv[1][0] * hist_forward + f_inv[1][1]* hist_central \n",
    "\n",
    "fig, ax = plt.subplots(nrows=1, ncols=2, figsize=(10,5))\n",
    "ax[0].hist(quark[feature], bins=newbdt_bins, weights=quark['event_weight'], \n",
    "        label=f'truth quark', color='red', alpha = 0.5, density=True)\n",
    "ax[0].stairs(values=extract_p_Quark, edges=newbdt_bins, label=f'extracted quark(MC)')\n",
    "ax[0].legend()\n",
    "ax[0].set_title('quark: Truth vs. Extracted MC')\n",
    "\n",
    "ax[1].hist(gluon[feature], bins=newbdt_bins, weights=gluon['event_weight'], \n",
    "        label=f'truth gluon', color='blue', alpha = 0.5, density=True)\n",
    "ax[1].stairs(values=extract_p_Gluon, edges=newbdt_bins, label=f'extracted gluon(MC)')\n",
    "ax[1].legend()\n",
    "ax[1].set_title('gluon: Truth vs. Extracted MC')\n",
    "\n",
    "fig.suptitle(feature)"
   ]
  },
  {
   "attachments": {},
   "cell_type": "markdown",
   "metadata": {},
   "source": [
    "## pt bins"
   ]
  },
  {
   "attachments": {},
   "cell_type": "markdown",
   "metadata": {},
   "source": [
    "### GBDTprob distribution"
   ]
  },
  {
   "cell_type": "code",
   "execution_count": null,
   "metadata": {},
   "outputs": [],
   "source": [
    "for pt_idx, pt in enumerate(label_pt_bin[:-1]):\n",
    "    sample_pt = _sample[_sample['pt_idx'] == pt_idx] \n",
    "\n",
    "    sample_forward = sample_pt[sample_pt['is_forward']==1]\n",
    "    sample_central = sample_pt[sample_pt['is_forward']==0]\n",
    "\n",
    "    for feature_name in features[-1:]:\n",
    "        custom_bins = HistBins[feature_name]\n",
    "        fig, (ax0, ax1) = plt.subplots(nrows=1, ncols=2, figsize = (10,5))\n",
    "        ax0.hist(sample_forward[feature_name], bins = custom_bins, weights = sample_forward['event_weight'], label = f'forward, num: {len(sample_forward)}', color='red', alpha = 0.5)\n",
    "        ax0.hist(sample_central[feature_name], bins = custom_bins, weights = sample_central['event_weight'], label = f'central, num: {len(sample_central)}', color='blue', alpha = 0.5)\n",
    "        ax0.legend()\n",
    "        ax0.set_xlabel(feature_name)\n",
    "        ax0.set_ylabel(f\"Weighted Yield\")\n",
    "        ax0.set_title(f\"Weighted Yield Comparison\")\n",
    "        if feature_name == 'jet_pt':\n",
    "            ax0.set_yscale('log')\n",
    "\n",
    "        ax1.hist(sample_forward[feature_name], bins = custom_bins, weights = sample_forward['event_weight'], label = 'forward', color='red', alpha = 0.5, density=True)\n",
    "        ax1.hist(sample_central[feature_name], bins = custom_bins, weights = sample_central['event_weight'], label = 'central', color='blue', alpha = 0.5, density=True)\n",
    "        ax1.legend()\n",
    "        ax1.set_xlabel(feature_name)\n",
    "        ax1.set_ylabel(f\"Weighted Shape\")\n",
    "        ax1.set_title(f\"Weighted Shape Comparison\")\n",
    "        if feature_name == 'jet_pt':\n",
    "            ax1.set_yscale('log')\n",
    "        fig.suptitle(f\"{pt} GeV, Forward vs Central: {feature_name}\")\n",
    "        plt.plot()\n",
    "    "
   ]
  },
  {
   "attachments": {},
   "cell_type": "markdown",
   "metadata": {},
   "source": [
    "### test extraction"
   ]
  },
  {
   "cell_type": "code",
   "execution_count": null,
   "metadata": {},
   "outputs": [],
   "source": [
    "for pt_idx, pt in enumerate(label_pt_bin[:-1]):\n",
    "    _sample_pt = _sample[_sample['pt_idx'] == pt_idx] \n",
    "    \n",
    "    forward_quark = _sample_pt[(_sample_pt['is_forward']==1) &(_sample_pt['target']==0)]\n",
    "    forward_gluon = _sample_pt[(_sample_pt['is_forward']==1) &(_sample_pt['target']==1)]\n",
    "    central_quark = _sample_pt[(_sample_pt['is_forward']==0) &(_sample_pt['target']==0)]\n",
    "    central_gluon = _sample_pt[(_sample_pt['is_forward']==0) &(_sample_pt['target']==1)]\n",
    "    forward = _sample_pt[(_sample_pt['is_forward']==1)]\n",
    "    central = _sample_pt[(_sample_pt['is_forward']==0)]\n",
    "    quark = _sample_pt[_sample_pt['target']==0]\n",
    "    gluon = _sample_pt[_sample_pt['target']==1]\n",
    "\n",
    "    newbdt_bins = np.linspace(0.0, 1.0, 101)\n",
    "    fig, ax = plt.subplots(nrows=1, ncols=2, figsize=(10,5))\n",
    "    feature = 'new_GBDTprob'\n",
    "    ax[0].hist(forward_quark[feature], bins=newbdt_bins, weights=forward_quark['event_weight'], \n",
    "            label=f'forward quark, num:{len(forward_quark)}', color='red', alpha = 0.5, density=True)\n",
    "    ax[0].hist(central_quark[feature], bins=newbdt_bins, weights=central_quark['event_weight'], \n",
    "            label=f'central quark, num:{len(central_quark)}', color='blue', alpha = 0.5, density=True)\n",
    "    ax[0].legend()\n",
    "    ax[0].set_title('quark: Forward vs. Central')\n",
    "\n",
    "    ax[1].hist(forward_gluon[feature], bins=newbdt_bins, weights=forward_gluon['event_weight'],\n",
    "            label=f'forward gluon, num:{len(forward_gluon)}', color='red', alpha = 0.5, density=True)\n",
    "    ax[1].hist(central_gluon[feature], bins=newbdt_bins, weights=central_gluon['event_weight'], \n",
    "            label=f'central gluon, num:{len(central_gluon)}', color='blue', alpha = 0.5, density=True)\n",
    "    ax[1].set_title('gluon: Forward vs. Central')\n",
    "    ax[1].legend()\n",
    "    fig.suptitle(f\"{pt} GeV, Forward vs Central for parton, {feature}\")\n",
    "\n",
    "\n",
    "\n",
    "\n",
    "    n_forward_quark = len(forward_quark)\n",
    "    n_central_quark = len(central_quark)\n",
    "    n_forward = len(forward)\n",
    "    n_central = len(central)\n",
    "\n",
    "    frac_forward_quark = n_forward_quark / n_forward\n",
    "    frac_central_quark = n_central_quark / n_central\n",
    "\n",
    "    frac_forward_gluon = 1 - frac_forward_quark\n",
    "    frac_central_gluon = 1 - frac_central_quark\n",
    "\n",
    "    f = np.array([[frac_forward_quark,  frac_forward_gluon], [frac_central_quark, frac_central_gluon]])\n",
    "    f_inv = np.linalg.inv(f)\n",
    "\n",
    "\n",
    "    # Do a simple extraction test\n",
    "    # MC closure \n",
    "    feature = 'new_GBDTprob'\n",
    "    newbdt_bins = np.linspace(0.0, 1.0, 101)\n",
    "    hist_forward, _ = np.histogram(forward[feature], newbdt_bins, weights=forward['event_weight'], density = True)\n",
    "    hist_central, _ = np.histogram(central[feature], newbdt_bins, weights=central['event_weight'], density = True)\n",
    "\n",
    "\n",
    "    extract_p_Quark = f_inv[0][0] * hist_forward + f_inv[0][1]* hist_central \n",
    "    extract_p_Gluon = f_inv[1][0] * hist_forward + f_inv[1][1]* hist_central \n",
    "\n",
    "    fig, ax = plt.subplots(nrows=1, ncols=2, figsize=(10,5))\n",
    "    ax[0].hist(quark[feature], bins=newbdt_bins, weights=quark['event_weight'], \n",
    "            label=f'truth quark', color='red', alpha = 0.5, density=True)\n",
    "    ax[0].stairs(values=extract_p_Quark, edges=newbdt_bins, label=f'extracted quark(MC)')\n",
    "    ax[0].legend()\n",
    "    ax[0].set_title('quark: Truth vs. Extracted MC')\n",
    "\n",
    "    ax[1].hist(gluon[feature], bins=newbdt_bins, weights=gluon['event_weight'], \n",
    "            label=f'truth gluon', color='blue', alpha = 0.5, density=True)\n",
    "    ax[1].stairs(values=extract_p_Gluon, edges=newbdt_bins, label=f'extracted gluon(MC)')\n",
    "    ax[1].legend()\n",
    "    ax[1].set_title('gluon: Truth vs. Extracted MC')\n",
    "\n",
    "    fig.suptitle(f\"{pt} GeV, Extraction, {feature}\")"
   ]
  }
 ],
 "metadata": {
  "kernelspec": {
   "display_name": "ml",
   "language": "python",
   "name": "python3"
  },
  "language_info": {
   "codemirror_mode": {
    "name": "ipython",
    "version": 3
   },
   "file_extension": ".py",
   "mimetype": "text/x-python",
   "name": "python",
   "nbconvert_exporter": "python",
   "pygments_lexer": "ipython3",
   "version": "3.9.15"
  },
  "orig_nbformat": 4,
  "vscode": {
   "interpreter": {
    "hash": "14e3b66b9136298b1438aa954b24fb6042eb4a7b64fe2e32b506f4a92d36ab42"
   }
  }
 },
 "nbformat": 4,
 "nbformat_minor": 2
}
