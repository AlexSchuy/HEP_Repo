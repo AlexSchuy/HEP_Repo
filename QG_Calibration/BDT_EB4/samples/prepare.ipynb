{
 "cells": [
  {
   "cell_type": "code",
   "execution_count": 1,
   "metadata": {},
   "outputs": [],
   "source": [
    "import argparse\n",
    "import numpy as np\n",
    "import matplotlib.pyplot as plt\n",
    "import pandas as pd\n",
    "\n",
    "import uproot \n",
    "import awkward as ak\n",
    "from pathlib import Path\n",
    "\n",
    "from typing import Dict, List \n",
    "import re\n",
    "import pickle\n",
    "from tqdm import tqdm"
   ]
  },
  {
   "cell_type": "code",
   "execution_count": 2,
   "metadata": {},
   "outputs": [],
   "source": [
    "file = '/global/cfs/projectdirs/atlas/hrzhao/qgcal/BDT_EPEML/pkls_etalabel/all_JZs_format1.pkl'\n",
    "all_sample = pd.read_pickle(file)"
   ]
  },
  {
   "cell_type": "code",
   "execution_count": 3,
   "metadata": {},
   "outputs": [],
   "source": [
    "all_JZs_list = []\n",
    "for key, value in all_sample.items():\n",
    "    all_JZs_list.append(value)\n",
    "\n",
    "all_jets = pd.concat(all_JZs_list)"
   ]
  },
  {
   "cell_type": "code",
   "execution_count": 4,
   "metadata": {},
   "outputs": [],
   "source": [
    "all_jets = all_jets.drop('event', axis = 1)"
   ]
  },
  {
   "attachments": {},
   "cell_type": "markdown",
   "metadata": {},
   "source": [
    "## Physical weights"
   ]
  },
  {
   "cell_type": "code",
   "execution_count": 5,
   "metadata": {},
   "outputs": [
    {
     "data": {
      "text/plain": [
       "[]"
      ]
     },
     "execution_count": 5,
     "metadata": {},
     "output_type": "execute_result"
    },
    {
     "data": {
      "image/png": "[encoded data removed]",
      "text/plain": [
       "<Figure size 640x480 with 1 Axes>"
      ]
     },
     "metadata": {},
     "output_type": "display_data"
    }
   ],
   "source": [
    "fig, ax = plt.subplots()\n",
    "pt_edges = np.linspace(500, 2000, 61)\n",
    "bin_contents, bin_edges, _ = ax.hist(all_jets['jet_pt'], bins=pt_edges, weights=all_jets['total_weight'])\n",
    "ax.set_yscale('log')\n",
    "plt.plot()\n"
   ]
  },
  {
   "attachments": {},
   "cell_type": "markdown",
   "metadata": {},
   "source": [
    "## Flatten Pt"
   ]
  },
  {
   "attachments": {},
   "cell_type": "markdown",
   "metadata": {},
   "source": [
    "### Plot"
   ]
  },
  {
   "cell_type": "code",
   "execution_count": 6,
   "metadata": {},
   "outputs": [],
   "source": [
    "flat_weight_factor = 1./bin_contents\n",
    "pt_binned_sample_alljets_idx = np.digitize(all_jets['jet_pt'], pt_edges)"
   ]
  },
  {
   "cell_type": "code",
   "execution_count": 7,
   "metadata": {},
   "outputs": [],
   "source": [
    "all_jets['flatpt_weight'] = all_jets['total_weight']"
   ]
  },
  {
   "cell_type": "code",
   "execution_count": 8,
   "metadata": {},
   "outputs": [
    {
     "name": "stderr",
     "output_type": "stream",
     "text": [
      "100%|██████████| 60/60 [00:11<00:00,  5.27it/s]\n"
     ]
    }
   ],
   "source": [
    "for i in tqdm(range(np.max(pt_binned_sample_alljets_idx))):\n",
    "    mod_idx = np.where(pt_binned_sample_alljets_idx-1 == i)[0]\n",
    "    all_jets.iloc[mod_idx, all_jets.columns.get_loc('flatpt_weight')] *= flat_weight_factor[i]\n",
    "    ## df.iloc[0, df.columns.get_loc('COL_NAME')] = x"
   ]
  },
  {
   "cell_type": "code",
   "execution_count": 9,
   "metadata": {},
   "outputs": [
    {
     "data": {
      "text/plain": [
       "[]"
      ]
     },
     "execution_count": 9,
     "metadata": {},
     "output_type": "execute_result"
    },
    {
     "data": {
      "image/png": "[encoded data removed]",
      "text/plain": [
       "<Figure size 640x480 with 1 Axes>"
      ]
     },
     "metadata": {},
     "output_type": "display_data"
    }
   ],
   "source": [
    "fig, ax = plt.subplots()\n",
    "pt_edges = np.linspace(500, 2000, 61)\n",
    "bin_contents, bin_edges, _ = ax.hist(all_jets['jet_pt'], bins=pt_edges, weights=all_jets['flatpt_weight'])\n",
    "# ax.set_yscale('log')\n",
    "plt.plot()\n"
   ]
  },
  {
   "attachments": {},
   "cell_type": "markdown",
   "metadata": {},
   "source": [
    "### Adjust the columns "
   ]
  },
  {
   "cell_type": "code",
   "execution_count": null,
   "metadata": {},
   "outputs": [],
   "source": []
  },
  {
   "cell_type": "code",
   "execution_count": 10,
   "metadata": {},
   "outputs": [],
   "source": [
    "all_jets['equal_weight'] = np.ones(len(all_jets))"
   ]
  },
  {
   "cell_type": "code",
   "execution_count": 11,
   "metadata": {},
   "outputs": [
    {
     "data": {
      "text/html": [
       "<div>\n",
       "<style scoped>\n",
       "    .dataframe tbody tr th:only-of-type {\n",
       "        vertical-align: middle;\n",
       "    }\n",
       "\n",
       "    .dataframe tbody tr th {\n",
       "        vertical-align: top;\n",
       "    }\n",
       "\n",
       "    .dataframe thead th {\n",
       "        text-align: right;\n",
       "    }\n",
       "</style>\n",
       "<table border=\"1\" class=\"dataframe\">\n",
       "  <thead>\n",
       "    <tr style=\"text-align: right;\">\n",
       "      <th></th>\n",
       "      <th>jet_pt</th>\n",
       "      <th>jet_eta</th>\n",
       "      <th>jet_nTracks</th>\n",
       "      <th>jet_trackWidth</th>\n",
       "      <th>jet_trackC1</th>\n",
       "      <th>jet_trackBDT</th>\n",
       "      <th>jet_PartonTruthLabelID</th>\n",
       "      <th>total_weight</th>\n",
       "      <th>is_forward</th>\n",
       "      <th>target</th>\n",
       "      <th>flatpt_weight</th>\n",
       "      <th>equal_weight</th>\n",
       "    </tr>\n",
       "  </thead>\n",
       "  <tbody>\n",
       "    <tr>\n",
       "      <th>0</th>\n",
       "      <td>766.747925</td>\n",
       "      <td>1.298662</td>\n",
       "      <td>2.0</td>\n",
       "      <td>0.318292</td>\n",
       "      <td>0.215923</td>\n",
       "      <td>-0.192873</td>\n",
       "      <td>21.0</td>\n",
       "      <td>17.609434</td>\n",
       "      <td>1.0</td>\n",
       "      <td>1.0</td>\n",
       "      <td>2.703190e-05</td>\n",
       "      <td>1.0</td>\n",
       "    </tr>\n",
       "    <tr>\n",
       "      <th>1</th>\n",
       "      <td>701.621765</td>\n",
       "      <td>-0.989431</td>\n",
       "      <td>2.0</td>\n",
       "      <td>0.269898</td>\n",
       "      <td>0.157799</td>\n",
       "      <td>-0.126821</td>\n",
       "      <td>-1.0</td>\n",
       "      <td>17.609434</td>\n",
       "      <td>0.0</td>\n",
       "      <td>0.0</td>\n",
       "      <td>1.835155e-05</td>\n",
       "      <td>1.0</td>\n",
       "    </tr>\n",
       "    <tr>\n",
       "      <th>0</th>\n",
       "      <td>680.507996</td>\n",
       "      <td>0.447689</td>\n",
       "      <td>24.0</td>\n",
       "      <td>0.064352</td>\n",
       "      <td>0.208339</td>\n",
       "      <td>0.066904</td>\n",
       "      <td>2.0</td>\n",
       "      <td>0.331535</td>\n",
       "      <td>0.0</td>\n",
       "      <td>0.0</td>\n",
       "      <td>2.858433e-07</td>\n",
       "      <td>1.0</td>\n",
       "    </tr>\n",
       "    <tr>\n",
       "      <th>1</th>\n",
       "      <td>619.839111</td>\n",
       "      <td>0.588775</td>\n",
       "      <td>34.0</td>\n",
       "      <td>0.115656</td>\n",
       "      <td>0.298206</td>\n",
       "      <td>0.232268</td>\n",
       "      <td>21.0</td>\n",
       "      <td>0.331535</td>\n",
       "      <td>1.0</td>\n",
       "      <td>1.0</td>\n",
       "      <td>1.655248e-07</td>\n",
       "      <td>1.0</td>\n",
       "    </tr>\n",
       "    <tr>\n",
       "      <th>2</th>\n",
       "      <td>721.692932</td>\n",
       "      <td>-0.716669</td>\n",
       "      <td>12.0</td>\n",
       "      <td>0.049718</td>\n",
       "      <td>0.220595</td>\n",
       "      <td>-0.169604</td>\n",
       "      <td>2.0</td>\n",
       "      <td>0.377624</td>\n",
       "      <td>0.0</td>\n",
       "      <td>0.0</td>\n",
       "      <td>3.935379e-07</td>\n",
       "      <td>1.0</td>\n",
       "    </tr>\n",
       "    <tr>\n",
       "      <th>...</th>\n",
       "      <td>...</td>\n",
       "      <td>...</td>\n",
       "      <td>...</td>\n",
       "      <td>...</td>\n",
       "      <td>...</td>\n",
       "      <td>...</td>\n",
       "      <td>...</td>\n",
       "      <td>...</td>\n",
       "      <td>...</td>\n",
       "      <td>...</td>\n",
       "      <td>...</td>\n",
       "      <td>...</td>\n",
       "    </tr>\n",
       "    <tr>\n",
       "      <th>3289</th>\n",
       "      <td>1457.898315</td>\n",
       "      <td>0.005210</td>\n",
       "      <td>34.0</td>\n",
       "      <td>0.115294</td>\n",
       "      <td>0.286379</td>\n",
       "      <td>0.114355</td>\n",
       "      <td>2.0</td>\n",
       "      <td>0.000004</td>\n",
       "      <td>0.0</td>\n",
       "      <td>0.0</td>\n",
       "      <td>6.099312e-10</td>\n",
       "      <td>1.0</td>\n",
       "    </tr>\n",
       "    <tr>\n",
       "      <th>3290</th>\n",
       "      <td>1995.521240</td>\n",
       "      <td>-0.060916</td>\n",
       "      <td>11.0</td>\n",
       "      <td>0.011609</td>\n",
       "      <td>0.114598</td>\n",
       "      <td>-0.515630</td>\n",
       "      <td>21.0</td>\n",
       "      <td>0.000005</td>\n",
       "      <td>0.0</td>\n",
       "      <td>1.0</td>\n",
       "      <td>1.795163e-08</td>\n",
       "      <td>1.0</td>\n",
       "    </tr>\n",
       "    <tr>\n",
       "      <th>3291</th>\n",
       "      <td>1609.661865</td>\n",
       "      <td>-0.132251</td>\n",
       "      <td>18.0</td>\n",
       "      <td>0.021626</td>\n",
       "      <td>0.172496</td>\n",
       "      <td>-0.195778</td>\n",
       "      <td>1.0</td>\n",
       "      <td>0.000005</td>\n",
       "      <td>1.0</td>\n",
       "      <td>0.0</td>\n",
       "      <td>1.934711e-09</td>\n",
       "      <td>1.0</td>\n",
       "    </tr>\n",
       "    <tr>\n",
       "      <th>3292</th>\n",
       "      <td>1849.435181</td>\n",
       "      <td>0.042168</td>\n",
       "      <td>27.0</td>\n",
       "      <td>0.038713</td>\n",
       "      <td>0.222048</td>\n",
       "      <td>0.089088</td>\n",
       "      <td>21.0</td>\n",
       "      <td>0.000004</td>\n",
       "      <td>0.0</td>\n",
       "      <td>1.0</td>\n",
       "      <td>5.221758e-09</td>\n",
       "      <td>1.0</td>\n",
       "    </tr>\n",
       "    <tr>\n",
       "      <th>3293</th>\n",
       "      <td>1761.468994</td>\n",
       "      <td>0.133021</td>\n",
       "      <td>17.0</td>\n",
       "      <td>0.020994</td>\n",
       "      <td>0.179109</td>\n",
       "      <td>-0.187213</td>\n",
       "      <td>2.0</td>\n",
       "      <td>0.000004</td>\n",
       "      <td>1.0</td>\n",
       "      <td>0.0</td>\n",
       "      <td>3.425517e-09</td>\n",
       "      <td>1.0</td>\n",
       "    </tr>\n",
       "  </tbody>\n",
       "</table>\n",
       "<p>56471412 rows × 12 columns</p>\n",
       "</div>"
      ],
      "text/plain": [
       "           jet_pt   jet_eta  jet_nTracks  jet_trackWidth  jet_trackC1  \\\n",
       "0      766.747925  1.298662          2.0        0.318292     0.215923   \n",
       "1      701.621765 -0.989431          2.0        0.269898     0.157799   \n",
       "0      680.507996  0.447689         24.0        0.064352     0.208339   \n",
       "1      619.839111  0.588775         34.0        0.115656     0.298206   \n",
       "2      721.692932 -0.716669         12.0        0.049718     0.220595   \n",
       "...           ...       ...          ...             ...          ...   \n",
       "3289  1457.898315  0.005210         34.0        0.115294     0.286379   \n",
       "3290  1995.521240 -0.060916         11.0        0.011609     0.114598   \n",
       "3291  1609.661865 -0.132251         18.0        0.021626     0.172496   \n",
       "3292  1849.435181  0.042168         27.0        0.038713     0.222048   \n",
       "3293  1761.468994  0.133021         17.0        0.020994     0.179109   \n",
       "\n",
       "      jet_trackBDT  jet_PartonTruthLabelID  total_weight  is_forward  target  \\\n",
       "0        -0.192873                    21.0     17.609434         1.0     1.0   \n",
       "1        -0.126821                    -1.0     17.609434         0.0     0.0   \n",
       "0         0.066904                     2.0      0.331535         0.0     0.0   \n",
       "1         0.232268                    21.0      0.331535         1.0     1.0   \n",
       "2        -0.169604                     2.0      0.377624         0.0     0.0   \n",
       "...            ...                     ...           ...         ...     ...   \n",
       "3289      0.114355                     2.0      0.000004         0.0     0.0   \n",
       "3290     -0.515630                    21.0      0.000005         0.0     1.0   \n",
       "3291     -0.195778                     1.0      0.000005         1.0     0.0   \n",
       "3292      0.089088                    21.0      0.000004         0.0     1.0   \n",
       "3293     -0.187213                     2.0      0.000004         1.0     0.0   \n",
       "\n",
       "      flatpt_weight  equal_weight  \n",
       "0      2.703190e-05           1.0  \n",
       "1      1.835155e-05           1.0  \n",
       "0      2.858433e-07           1.0  \n",
       "1      1.655248e-07           1.0  \n",
       "2      3.935379e-07           1.0  \n",
       "...             ...           ...  \n",
       "3289   6.099312e-10           1.0  \n",
       "3290   1.795163e-08           1.0  \n",
       "3291   1.934711e-09           1.0  \n",
       "3292   5.221758e-09           1.0  \n",
       "3293   3.425517e-09           1.0  \n",
       "\n",
       "[56471412 rows x 12 columns]"
      ]
     },
     "execution_count": 11,
     "metadata": {},
     "output_type": "execute_result"
    }
   ],
   "source": [
    "all_jets"
   ]
  },
  {
   "cell_type": "code",
   "execution_count": 12,
   "metadata": {},
   "outputs": [
    {
     "name": "stdout",
     "output_type": "stream",
     "text": [
      "['jet_pt', 'jet_eta', 'jet_nTracks', 'jet_trackWidth', 'jet_trackC1', 'jet_trackBDT', 'jet_PartonTruthLabelID', 'event_weight', 'is_forward', 'target', 'flatpt_weight', 'equal_weight']\n"
     ]
    }
   ],
   "source": [
    "all_jets.rename(columns = {'total_weight':'event_weight'}, inplace = True)\n",
    "col_list = list(all_jets)\n",
    "print(col_list)"
   ]
  },
  {
   "cell_type": "code",
   "execution_count": 13,
   "metadata": {},
   "outputs": [],
   "source": [
    "insert_pos = col_list.index('event_weight')\n",
    "adj_col_list = col_list[:insert_pos] + ['equal_weight'] + [col_list[insert_pos]] + [col_list[-2]] + col_list[insert_pos+2:-2]"
   ]
  },
  {
   "cell_type": "code",
   "execution_count": 14,
   "metadata": {},
   "outputs": [
    {
     "data": {
      "text/plain": [
       "['jet_pt',\n",
       " 'jet_eta',\n",
       " 'jet_nTracks',\n",
       " 'jet_trackWidth',\n",
       " 'jet_trackC1',\n",
       " 'jet_trackBDT',\n",
       " 'jet_PartonTruthLabelID',\n",
       " 'equal_weight',\n",
       " 'event_weight',\n",
       " 'flatpt_weight',\n",
       " 'target']"
      ]
     },
     "execution_count": 14,
     "metadata": {},
     "output_type": "execute_result"
    }
   ],
   "source": [
    "adj_col_list"
   ]
  },
  {
   "cell_type": "code",
   "execution_count": 15,
   "metadata": {},
   "outputs": [],
   "source": [
    "all_jets = all_jets.reindex(columns = adj_col_list)\n",
    "all_jets = all_jets[all_jets['event_weight'] != 0]"
   ]
  },
  {
   "cell_type": "code",
   "execution_count": 16,
   "metadata": {},
   "outputs": [
    {
     "data": {
      "text/html": [
       "<div>\n",
       "<style scoped>\n",
       "    .dataframe tbody tr th:only-of-type {\n",
       "        vertical-align: middle;\n",
       "    }\n",
       "\n",
       "    .dataframe tbody tr th {\n",
       "        vertical-align: top;\n",
       "    }\n",
       "\n",
       "    .dataframe thead th {\n",
       "        text-align: right;\n",
       "    }\n",
       "</style>\n",
       "<table border=\"1\" class=\"dataframe\">\n",
       "  <thead>\n",
       "    <tr style=\"text-align: right;\">\n",
       "      <th></th>\n",
       "      <th>jet_pt</th>\n",
       "      <th>jet_eta</th>\n",
       "      <th>jet_nTracks</th>\n",
       "      <th>jet_trackWidth</th>\n",
       "      <th>jet_trackC1</th>\n",
       "      <th>jet_trackBDT</th>\n",
       "      <th>jet_PartonTruthLabelID</th>\n",
       "      <th>equal_weight</th>\n",
       "      <th>event_weight</th>\n",
       "      <th>flatpt_weight</th>\n",
       "      <th>target</th>\n",
       "    </tr>\n",
       "  </thead>\n",
       "  <tbody>\n",
       "    <tr>\n",
       "      <th>0</th>\n",
       "      <td>766.747925</td>\n",
       "      <td>1.298662</td>\n",
       "      <td>2.0</td>\n",
       "      <td>0.318292</td>\n",
       "      <td>0.215923</td>\n",
       "      <td>-0.192873</td>\n",
       "      <td>21.0</td>\n",
       "      <td>1.0</td>\n",
       "      <td>17.609434</td>\n",
       "      <td>2.703190e-05</td>\n",
       "      <td>1.0</td>\n",
       "    </tr>\n",
       "    <tr>\n",
       "      <th>1</th>\n",
       "      <td>701.621765</td>\n",
       "      <td>-0.989431</td>\n",
       "      <td>2.0</td>\n",
       "      <td>0.269898</td>\n",
       "      <td>0.157799</td>\n",
       "      <td>-0.126821</td>\n",
       "      <td>-1.0</td>\n",
       "      <td>1.0</td>\n",
       "      <td>17.609434</td>\n",
       "      <td>1.835155e-05</td>\n",
       "      <td>0.0</td>\n",
       "    </tr>\n",
       "    <tr>\n",
       "      <th>0</th>\n",
       "      <td>680.507996</td>\n",
       "      <td>0.447689</td>\n",
       "      <td>24.0</td>\n",
       "      <td>0.064352</td>\n",
       "      <td>0.208339</td>\n",
       "      <td>0.066904</td>\n",
       "      <td>2.0</td>\n",
       "      <td>1.0</td>\n",
       "      <td>0.331535</td>\n",
       "      <td>2.858433e-07</td>\n",
       "      <td>0.0</td>\n",
       "    </tr>\n",
       "    <tr>\n",
       "      <th>1</th>\n",
       "      <td>619.839111</td>\n",
       "      <td>0.588775</td>\n",
       "      <td>34.0</td>\n",
       "      <td>0.115656</td>\n",
       "      <td>0.298206</td>\n",
       "      <td>0.232268</td>\n",
       "      <td>21.0</td>\n",
       "      <td>1.0</td>\n",
       "      <td>0.331535</td>\n",
       "      <td>1.655248e-07</td>\n",
       "      <td>1.0</td>\n",
       "    </tr>\n",
       "    <tr>\n",
       "      <th>2</th>\n",
       "      <td>721.692932</td>\n",
       "      <td>-0.716669</td>\n",
       "      <td>12.0</td>\n",
       "      <td>0.049718</td>\n",
       "      <td>0.220595</td>\n",
       "      <td>-0.169604</td>\n",
       "      <td>2.0</td>\n",
       "      <td>1.0</td>\n",
       "      <td>0.377624</td>\n",
       "      <td>3.935379e-07</td>\n",
       "      <td>0.0</td>\n",
       "    </tr>\n",
       "  </tbody>\n",
       "</table>\n",
       "</div>"
      ],
      "text/plain": [
       "       jet_pt   jet_eta  jet_nTracks  jet_trackWidth  jet_trackC1  \\\n",
       "0  766.747925  1.298662          2.0        0.318292     0.215923   \n",
       "1  701.621765 -0.989431          2.0        0.269898     0.157799   \n",
       "0  680.507996  0.447689         24.0        0.064352     0.208339   \n",
       "1  619.839111  0.588775         34.0        0.115656     0.298206   \n",
       "2  721.692932 -0.716669         12.0        0.049718     0.220595   \n",
       "\n",
       "   jet_trackBDT  jet_PartonTruthLabelID  equal_weight  event_weight  \\\n",
       "0     -0.192873                    21.0           1.0     17.609434   \n",
       "1     -0.126821                    -1.0           1.0     17.609434   \n",
       "0      0.066904                     2.0           1.0      0.331535   \n",
       "1      0.232268                    21.0           1.0      0.331535   \n",
       "2     -0.169604                     2.0           1.0      0.377624   \n",
       "\n",
       "   flatpt_weight  target  \n",
       "0   2.703190e-05     1.0  \n",
       "1   1.835155e-05     0.0  \n",
       "0   2.858433e-07     0.0  \n",
       "1   1.655248e-07     1.0  \n",
       "2   3.935379e-07     0.0  "
      ]
     },
     "execution_count": 16,
     "metadata": {},
     "output_type": "execute_result"
    }
   ],
   "source": [
    "all_jets.head()"
   ]
  },
  {
   "cell_type": "code",
   "execution_count": 17,
   "metadata": {},
   "outputs": [],
   "source": [
    "all_jets.to_pickle(\"./sample_all_jets.pkl\")"
   ]
  },
  {
   "attachments": {},
   "cell_type": "markdown",
   "metadata": {},
   "source": [
    "## Sample 1500GeV"
   ]
  },
  {
   "cell_type": "code",
   "execution_count": 18,
   "metadata": {},
   "outputs": [],
   "source": [
    "sample_1500 = all_jets[(all_jets['jet_pt'] >= 1500) & (all_jets['jet_PartonTruthLabelID'] != -1)]"
   ]
  },
  {
   "cell_type": "code",
   "execution_count": 19,
   "metadata": {},
   "outputs": [
    {
     "data": {
      "text/html": [
       "<div>\n",
       "<style scoped>\n",
       "    .dataframe tbody tr th:only-of-type {\n",
       "        vertical-align: middle;\n",
       "    }\n",
       "\n",
       "    .dataframe tbody tr th {\n",
       "        vertical-align: top;\n",
       "    }\n",
       "\n",
       "    .dataframe thead th {\n",
       "        text-align: right;\n",
       "    }\n",
       "</style>\n",
       "<table border=\"1\" class=\"dataframe\">\n",
       "  <thead>\n",
       "    <tr style=\"text-align: right;\">\n",
       "      <th></th>\n",
       "      <th>jet_pt</th>\n",
       "      <th>jet_eta</th>\n",
       "      <th>jet_nTracks</th>\n",
       "      <th>jet_trackWidth</th>\n",
       "      <th>jet_trackC1</th>\n",
       "      <th>jet_trackBDT</th>\n",
       "      <th>jet_PartonTruthLabelID</th>\n",
       "      <th>equal_weight</th>\n",
       "      <th>event_weight</th>\n",
       "      <th>flatpt_weight</th>\n",
       "      <th>target</th>\n",
       "    </tr>\n",
       "  </thead>\n",
       "  <tbody>\n",
       "    <tr>\n",
       "      <th>85560</th>\n",
       "      <td>1511.467407</td>\n",
       "      <td>0.247338</td>\n",
       "      <td>10.0</td>\n",
       "      <td>0.031250</td>\n",
       "      <td>0.001515</td>\n",
       "      <td>-0.395174</td>\n",
       "      <td>2.0</td>\n",
       "      <td>1.0</td>\n",
       "      <td>0.084989</td>\n",
       "      <td>0.000019</td>\n",
       "      <td>0.0</td>\n",
       "    </tr>\n",
       "    <tr>\n",
       "      <th>88990</th>\n",
       "      <td>1507.199219</td>\n",
       "      <td>1.093136</td>\n",
       "      <td>14.0</td>\n",
       "      <td>0.074629</td>\n",
       "      <td>0.191400</td>\n",
       "      <td>-0.149781</td>\n",
       "      <td>2.0</td>\n",
       "      <td>1.0</td>\n",
       "      <td>0.057639</td>\n",
       "      <td>0.000013</td>\n",
       "      <td>0.0</td>\n",
       "    </tr>\n",
       "    <tr>\n",
       "      <th>94690</th>\n",
       "      <td>1509.499756</td>\n",
       "      <td>-1.354374</td>\n",
       "      <td>6.0</td>\n",
       "      <td>0.020697</td>\n",
       "      <td>0.005082</td>\n",
       "      <td>-0.524410</td>\n",
       "      <td>2.0</td>\n",
       "      <td>1.0</td>\n",
       "      <td>0.084026</td>\n",
       "      <td>0.000019</td>\n",
       "      <td>0.0</td>\n",
       "    </tr>\n",
       "    <tr>\n",
       "      <th>136124</th>\n",
       "      <td>1514.553467</td>\n",
       "      <td>1.063912</td>\n",
       "      <td>16.0</td>\n",
       "      <td>0.044602</td>\n",
       "      <td>0.237015</td>\n",
       "      <td>-0.124811</td>\n",
       "      <td>21.0</td>\n",
       "      <td>1.0</td>\n",
       "      <td>0.043380</td>\n",
       "      <td>0.000010</td>\n",
       "      <td>1.0</td>\n",
       "    </tr>\n",
       "    <tr>\n",
       "      <th>176406</th>\n",
       "      <td>1545.118408</td>\n",
       "      <td>-0.063161</td>\n",
       "      <td>5.0</td>\n",
       "      <td>0.025243</td>\n",
       "      <td>0.074086</td>\n",
       "      <td>-0.506315</td>\n",
       "      <td>2.0</td>\n",
       "      <td>1.0</td>\n",
       "      <td>0.103662</td>\n",
       "      <td>0.000026</td>\n",
       "      <td>0.0</td>\n",
       "    </tr>\n",
       "  </tbody>\n",
       "</table>\n",
       "</div>"
      ],
      "text/plain": [
       "             jet_pt   jet_eta  jet_nTracks  jet_trackWidth  jet_trackC1  \\\n",
       "85560   1511.467407  0.247338         10.0        0.031250     0.001515   \n",
       "88990   1507.199219  1.093136         14.0        0.074629     0.191400   \n",
       "94690   1509.499756 -1.354374          6.0        0.020697     0.005082   \n",
       "136124  1514.553467  1.063912         16.0        0.044602     0.237015   \n",
       "176406  1545.118408 -0.063161          5.0        0.025243     0.074086   \n",
       "\n",
       "        jet_trackBDT  jet_PartonTruthLabelID  equal_weight  event_weight  \\\n",
       "85560      -0.395174                     2.0           1.0      0.084989   \n",
       "88990      -0.149781                     2.0           1.0      0.057639   \n",
       "94690      -0.524410                     2.0           1.0      0.084026   \n",
       "136124     -0.124811                    21.0           1.0      0.043380   \n",
       "176406     -0.506315                     2.0           1.0      0.103662   \n",
       "\n",
       "        flatpt_weight  target  \n",
       "85560        0.000019     0.0  \n",
       "88990        0.000013     0.0  \n",
       "94690        0.000019     0.0  \n",
       "136124       0.000010     1.0  \n",
       "176406       0.000026     0.0  "
      ]
     },
     "execution_count": 19,
     "metadata": {},
     "output_type": "execute_result"
    }
   ],
   "source": [
    "sample_1500.head()"
   ]
  },
  {
   "cell_type": "code",
   "execution_count": 20,
   "metadata": {},
   "outputs": [
    {
     "data": {
      "text/html": [
       "<div>\n",
       "<style scoped>\n",
       "    .dataframe tbody tr th:only-of-type {\n",
       "        vertical-align: middle;\n",
       "    }\n",
       "\n",
       "    .dataframe tbody tr th {\n",
       "        vertical-align: top;\n",
       "    }\n",
       "\n",
       "    .dataframe thead th {\n",
       "        text-align: right;\n",
       "    }\n",
       "</style>\n",
       "<table border=\"1\" class=\"dataframe\">\n",
       "  <thead>\n",
       "    <tr style=\"text-align: right;\">\n",
       "      <th></th>\n",
       "      <th>jet_pt</th>\n",
       "      <th>jet_eta</th>\n",
       "      <th>jet_nTracks</th>\n",
       "      <th>jet_trackWidth</th>\n",
       "      <th>jet_trackC1</th>\n",
       "      <th>jet_trackBDT</th>\n",
       "      <th>jet_PartonTruthLabelID</th>\n",
       "      <th>equal_weight</th>\n",
       "      <th>event_weight</th>\n",
       "      <th>flatpt_weight</th>\n",
       "      <th>target</th>\n",
       "    </tr>\n",
       "  </thead>\n",
       "  <tbody>\n",
       "    <tr>\n",
       "      <th>count</th>\n",
       "      <td>5.196092e+06</td>\n",
       "      <td>5.196092e+06</td>\n",
       "      <td>5.196092e+06</td>\n",
       "      <td>5.196092e+06</td>\n",
       "      <td>5.196092e+06</td>\n",
       "      <td>5.196092e+06</td>\n",
       "      <td>5.196092e+06</td>\n",
       "      <td>5196092.0</td>\n",
       "      <td>5.196092e+06</td>\n",
       "      <td>5.196092e+06</td>\n",
       "      <td>5.196092e+06</td>\n",
       "    </tr>\n",
       "    <tr>\n",
       "      <th>mean</th>\n",
       "      <td>1.740521e+03</td>\n",
       "      <td>-2.090010e-03</td>\n",
       "      <td>2.393672e+01</td>\n",
       "      <td>4.297454e-02</td>\n",
       "      <td>1.846692e-01</td>\n",
       "      <td>-1.007320e-01</td>\n",
       "      <td>7.029111e+00</td>\n",
       "      <td>1.0</td>\n",
       "      <td>6.321431e-03</td>\n",
       "      <td>3.848796e-06</td>\n",
       "      <td>2.713016e-01</td>\n",
       "    </tr>\n",
       "    <tr>\n",
       "      <th>std</th>\n",
       "      <td>1.416712e+02</td>\n",
       "      <td>6.109243e-01</td>\n",
       "      <td>1.215201e+01</td>\n",
       "      <td>4.109854e-02</td>\n",
       "      <td>7.255678e-02</td>\n",
       "      <td>2.588316e-01</td>\n",
       "      <td>8.543710e+00</td>\n",
       "      <td>0.0</td>\n",
       "      <td>6.539153e-03</td>\n",
       "      <td>2.920732e-06</td>\n",
       "      <td>4.446314e-01</td>\n",
       "    </tr>\n",
       "    <tr>\n",
       "      <th>min</th>\n",
       "      <td>1.500000e+03</td>\n",
       "      <td>-1.978063e+00</td>\n",
       "      <td>0.000000e+00</td>\n",
       "      <td>-1.000000e+00</td>\n",
       "      <td>-1.000000e+00</td>\n",
       "      <td>-7.928984e-01</td>\n",
       "      <td>1.000000e+00</td>\n",
       "      <td>1.0</td>\n",
       "      <td>1.941011e-10</td>\n",
       "      <td>1.135740e-13</td>\n",
       "      <td>0.000000e+00</td>\n",
       "    </tr>\n",
       "    <tr>\n",
       "      <th>25%</th>\n",
       "      <td>1.614756e+03</td>\n",
       "      <td>-4.491268e-01</td>\n",
       "      <td>1.500000e+01</td>\n",
       "      <td>1.586081e-02</td>\n",
       "      <td>1.365586e-01</td>\n",
       "      <td>-2.939629e-01</td>\n",
       "      <td>2.000000e+00</td>\n",
       "      <td>1.0</td>\n",
       "      <td>1.701210e-03</td>\n",
       "      <td>1.943866e-06</td>\n",
       "      <td>0.000000e+00</td>\n",
       "    </tr>\n",
       "    <tr>\n",
       "      <th>50%</th>\n",
       "      <td>1.745944e+03</td>\n",
       "      <td>-6.074335e-03</td>\n",
       "      <td>2.200000e+01</td>\n",
       "      <td>2.842573e-02</td>\n",
       "      <td>1.890225e-01</td>\n",
       "      <td>-7.668706e-02</td>\n",
       "      <td>2.000000e+00</td>\n",
       "      <td>1.0</td>\n",
       "      <td>2.284849e-03</td>\n",
       "      <td>3.293183e-06</td>\n",
       "      <td>0.000000e+00</td>\n",
       "    </tr>\n",
       "    <tr>\n",
       "      <th>75%</th>\n",
       "      <td>1.859209e+03</td>\n",
       "      <td>4.451495e-01</td>\n",
       "      <td>3.100000e+01</td>\n",
       "      <td>5.658886e-02</td>\n",
       "      <td>2.380516e-01</td>\n",
       "      <td>9.868599e-02</td>\n",
       "      <td>2.100000e+01</td>\n",
       "      <td>1.0</td>\n",
       "      <td>1.072727e-02</td>\n",
       "      <td>4.926256e-06</td>\n",
       "      <td>1.000000e+00</td>\n",
       "    </tr>\n",
       "    <tr>\n",
       "      <th>max</th>\n",
       "      <td>2.000000e+03</td>\n",
       "      <td>1.983067e+00</td>\n",
       "      <td>1.170000e+02</td>\n",
       "      <td>4.174403e-01</td>\n",
       "      <td>3.783548e-01</td>\n",
       "      <td>5.308769e-01</td>\n",
       "      <td>2.100000e+01</td>\n",
       "      <td>1.0</td>\n",
       "      <td>3.327150e-01</td>\n",
       "      <td>2.640056e-04</td>\n",
       "      <td>1.000000e+00</td>\n",
       "    </tr>\n",
       "  </tbody>\n",
       "</table>\n",
       "</div>"
      ],
      "text/plain": [
       "             jet_pt       jet_eta   jet_nTracks  jet_trackWidth   jet_trackC1  \\\n",
       "count  5.196092e+06  5.196092e+06  5.196092e+06    5.196092e+06  5.196092e+06   \n",
       "mean   1.740521e+03 -2.090010e-03  2.393672e+01    4.297454e-02  1.846692e-01   \n",
       "std    1.416712e+02  6.109243e-01  1.215201e+01    4.109854e-02  7.255678e-02   \n",
       "min    1.500000e+03 -1.978063e+00  0.000000e+00   -1.000000e+00 -1.000000e+00   \n",
       "25%    1.614756e+03 -4.491268e-01  1.500000e+01    1.586081e-02  1.365586e-01   \n",
       "50%    1.745944e+03 -6.074335e-03  2.200000e+01    2.842573e-02  1.890225e-01   \n",
       "75%    1.859209e+03  4.451495e-01  3.100000e+01    5.658886e-02  2.380516e-01   \n",
       "max    2.000000e+03  1.983067e+00  1.170000e+02    4.174403e-01  3.783548e-01   \n",
       "\n",
       "       jet_trackBDT  jet_PartonTruthLabelID  equal_weight  event_weight  \\\n",
       "count  5.196092e+06            5.196092e+06     5196092.0  5.196092e+06   \n",
       "mean  -1.007320e-01            7.029111e+00           1.0  6.321431e-03   \n",
       "std    2.588316e-01            8.543710e+00           0.0  6.539153e-03   \n",
       "min   -7.928984e-01            1.000000e+00           1.0  1.941011e-10   \n",
       "25%   -2.939629e-01            2.000000e+00           1.0  1.701210e-03   \n",
       "50%   -7.668706e-02            2.000000e+00           1.0  2.284849e-03   \n",
       "75%    9.868599e-02            2.100000e+01           1.0  1.072727e-02   \n",
       "max    5.308769e-01            2.100000e+01           1.0  3.327150e-01   \n",
       "\n",
       "       flatpt_weight        target  \n",
       "count   5.196092e+06  5.196092e+06  \n",
       "mean    3.848796e-06  2.713016e-01  \n",
       "std     2.920732e-06  4.446314e-01  \n",
       "min     1.135740e-13  0.000000e+00  \n",
       "25%     1.943866e-06  0.000000e+00  \n",
       "50%     3.293183e-06  0.000000e+00  \n",
       "75%     4.926256e-06  1.000000e+00  \n",
       "max     2.640056e-04  1.000000e+00  "
      ]
     },
     "execution_count": 20,
     "metadata": {},
     "output_type": "execute_result"
    }
   ],
   "source": [
    "sample_1500.describe()"
   ]
  },
  {
   "cell_type": "code",
   "execution_count": 21,
   "metadata": {},
   "outputs": [],
   "source": [
    "all_jets.to_pickle(\"./sample_1500_all_jets.pkl\")"
   ]
  },
  {
   "cell_type": "code",
   "execution_count": 22,
   "metadata": {},
   "outputs": [],
   "source": [
    "sample_quark = sample_1500[sample_1500['target']==0]\n",
    "sample_gluon = sample_1500[sample_1500['target']==1]\n",
    "\n",
    "n_quark = len(sample_quark)\n",
    "n_gluon = len(sample_gluon)"
   ]
  },
  {
   "cell_type": "code",
   "execution_count": 23,
   "metadata": {},
   "outputs": [],
   "source": [
    "n_sample = np.min([n_quark, n_gluon])"
   ]
  },
  {
   "cell_type": "code",
   "execution_count": 24,
   "metadata": {},
   "outputs": [],
   "source": [
    "subset_sample_quark = sample_quark.sample(n=n_sample)\n",
    "subset_sample_gluon = sample_gluon.sample(n=n_sample)\n"
   ]
  },
  {
   "cell_type": "code",
   "execution_count": 25,
   "metadata": {},
   "outputs": [],
   "source": [
    "subset_sample_1500 = pd.concat([subset_sample_quark, subset_sample_gluon])"
   ]
  },
  {
   "cell_type": "code",
   "execution_count": 26,
   "metadata": {},
   "outputs": [
    {
     "data": {
      "text/plain": [
       "2819416"
      ]
     },
     "execution_count": 26,
     "metadata": {},
     "output_type": "execute_result"
    }
   ],
   "source": [
    "len(subset_sample_1500)"
   ]
  },
  {
   "cell_type": "code",
   "execution_count": 27,
   "metadata": {},
   "outputs": [],
   "source": [
    "subset_sample_1500.to_pickle(\"./sample_1500_2p8M_jets.pkl\")"
   ]
  },
  {
   "cell_type": "code",
   "execution_count": null,
   "metadata": {},
   "outputs": [],
   "source": []
  }
 ],
 "metadata": {
  "kernelspec": {
   "display_name": "ml",
   "language": "python",
   "name": "python3"
  },
  "language_info": {
   "codemirror_mode": {
    "name": "ipython",
    "version": 3
   },
   "file_extension": ".py",
   "mimetype": "text/x-python",
   "name": "python",
   "nbconvert_exporter": "python",
   "pygments_lexer": "ipython3",
   "version": "3.9.15"
  },
  "orig_nbformat": 4,
  "vscode": {
   "interpreter": {
    "hash": "14e3b66b9136298b1438aa954b24fb6042eb4a7b64fe2e32b506f4a92d36ab42"
   }
  }
 },
 "nbformat": 4,
 "nbformat_minor": 2
}
