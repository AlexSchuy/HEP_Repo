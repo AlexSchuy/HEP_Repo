{
 "cells": [
  {
   "cell_type": "code",
   "execution_count": 1,
   "metadata": {},
   "outputs": [],
   "source": [
    "import argparse\n",
    "import numpy as np\n",
    "import matplotlib.pyplot as plt\n",
    "import pandas as pd\n",
    "\n",
    "import uproot \n",
    "import awkward as ak\n",
    "from pathlib import Path\n",
    "\n",
    "from typing import Dict, List \n",
    "import re\n",
    "import pickle\n",
    "from tqdm import tqdm"
   ]
  },
  {
   "cell_type": "code",
   "execution_count": null,
   "metadata": {},
   "outputs": [],
   "source": [
    "file = '/global/cfs/projectdirs/atlas/hrzhao/qgcal/BDT_EPEML/pkls_etalabel/all_JZs_format1.pkl'\n",
    "all_sample = pd.read_pickle(file)"
   ]
  },
  {
   "cell_type": "code",
   "execution_count": null,
   "metadata": {},
   "outputs": [],
   "source": [
    "all_JZs_list = []\n",
    "for key, value in all_sample.items():\n",
    "    all_JZs_list.append(value)\n",
    "\n",
    "all_jets = pd.concat(all_JZs_list)"
   ]
  },
  {
   "cell_type": "code",
   "execution_count": null,
   "metadata": {},
   "outputs": [],
   "source": [
    "all_jets = all_jets.drop('event', axis = 1)"
   ]
  },
  {
   "attachments": {},
   "cell_type": "markdown",
   "metadata": {},
   "source": [
    "## Physical weights"
   ]
  },
  {
   "cell_type": "code",
   "execution_count": null,
   "metadata": {},
   "outputs": [],
   "source": [
    "fig, ax = plt.subplots()\n",
    "pt_edges = np.linspace(500, 2000, 61)\n",
    "bin_contents, bin_edges, _ = ax.hist(all_jets['jet_pt'], bins=pt_edges, weights=all_jets['total_weight'])\n",
    "ax.set_yscale('log')\n",
    "plt.plot()\n"
   ]
  },
  {
   "attachments": {},
   "cell_type": "markdown",
   "metadata": {},
   "source": [
    "## Flatten Pt"
   ]
  },
  {
   "attachments": {},
   "cell_type": "markdown",
   "metadata": {},
   "source": [
    "### Plot"
   ]
  },
  {
   "cell_type": "code",
   "execution_count": null,
   "metadata": {},
   "outputs": [],
   "source": [
    "flat_weight_factor = 1./bin_contents\n",
    "pt_binned_sample_alljets_idx = np.digitize(all_jets['jet_pt'], pt_edges)"
   ]
  },
  {
   "cell_type": "code",
   "execution_count": null,
   "metadata": {},
   "outputs": [],
   "source": [
    "all_jets['flatpt_weight'] = all_jets['total_weight']"
   ]
  },
  {
   "cell_type": "code",
   "execution_count": null,
   "metadata": {},
   "outputs": [],
   "source": [
    "for i in tqdm(range(np.max(pt_binned_sample_alljets_idx))):\n",
    "    mod_idx = np.where(pt_binned_sample_alljets_idx-1 == i)[0]\n",
    "    all_jets.iloc[mod_idx, all_jets.columns.get_loc('flatpt_weight')] *= flat_weight_factor[i]\n",
    "    ## df.iloc[0, df.columns.get_loc('COL_NAME')] = x"
   ]
  },
  {
   "cell_type": "code",
   "execution_count": null,
   "metadata": {},
   "outputs": [],
   "source": [
    "fig, ax = plt.subplots()\n",
    "pt_edges = np.linspace(500, 2000, 61)\n",
    "bin_contents, bin_edges, _ = ax.hist(all_jets['jet_pt'], bins=pt_edges, weights=all_jets['flatpt_weight'])\n",
    "# ax.set_yscale('log')\n",
    "plt.plot()\n"
   ]
  },
  {
   "attachments": {},
   "cell_type": "markdown",
   "metadata": {},
   "source": [
    "### Adjust the columns "
   ]
  },
  {
   "cell_type": "code",
   "execution_count": null,
   "metadata": {},
   "outputs": [],
   "source": [
    "all_jets['equal_weight'] = np.ones(len(all_jets))"
   ]
  },
  {
   "cell_type": "code",
   "execution_count": null,
   "metadata": {},
   "outputs": [],
   "source": [
    "all_jets"
   ]
  },
  {
   "cell_type": "code",
   "execution_count": null,
   "metadata": {},
   "outputs": [],
   "source": [
    "all_jets.rename(columns = {'total_weight':'event_weight'}, inplace = True)\n",
    "col_list = list(all_jets)\n",
    "print(col_list)"
   ]
  },
  {
   "cell_type": "code",
   "execution_count": null,
   "metadata": {},
   "outputs": [],
   "source": [
    "insert_pos = col_list.index('event_weight')\n",
    "adj_col_list = col_list[:insert_pos] + ['equal_weight'] + [col_list[insert_pos]] + [col_list[-2]] + col_list[insert_pos+2:-2]"
   ]
  },
  {
   "cell_type": "code",
   "execution_count": null,
   "metadata": {},
   "outputs": [],
   "source": [
    "adj_col_list"
   ]
  },
  {
   "cell_type": "code",
   "execution_count": null,
   "metadata": {},
   "outputs": [],
   "source": [
    "all_jets = all_jets.reindex(columns = adj_col_list)\n",
    "all_jets = all_jets[all_jets['event_weight'] != 0]"
   ]
  },
  {
   "cell_type": "code",
   "execution_count": null,
   "metadata": {},
   "outputs": [],
   "source": [
    "all_jets.head()"
   ]
  },
  {
   "cell_type": "code",
   "execution_count": null,
   "metadata": {},
   "outputs": [],
   "source": [
    "all_jets.to_pickle(\"./sample_all_jets.pkl\")"
   ]
  },
  {
   "cell_type": "code",
   "execution_count": null,
   "metadata": {},
   "outputs": [],
   "source": [
    "with open(\"./sample_all_jets.pkl\", 'rb') as f:\n",
    "    all_jets = pd.read_pickle(f)"
   ]
  },
  {
   "attachments": {},
   "cell_type": "markdown",
   "metadata": {},
   "source": [
    "## Sample 1500GeV"
   ]
  },
  {
   "attachments": {},
   "cell_type": "markdown",
   "metadata": {},
   "source": [
    "### 2.8M jets"
   ]
  },
  {
   "cell_type": "code",
   "execution_count": null,
   "metadata": {},
   "outputs": [],
   "source": [
    "sample_1500 = all_jets[(all_jets['jet_pt'] >= 1500) & (all_jets['jet_PartonTruthLabelID'] != -1)]"
   ]
  },
  {
   "cell_type": "code",
   "execution_count": null,
   "metadata": {},
   "outputs": [],
   "source": [
    "sample_1500.head()"
   ]
  },
  {
   "cell_type": "code",
   "execution_count": null,
   "metadata": {},
   "outputs": [],
   "source": [
    "sample_1500.describe()"
   ]
  },
  {
   "cell_type": "code",
   "execution_count": null,
   "metadata": {},
   "outputs": [],
   "source": [
    "sample_1500.to_pickle(\"./sample_1500_all_jets.pkl\")"
   ]
  },
  {
   "cell_type": "code",
   "execution_count": null,
   "metadata": {},
   "outputs": [],
   "source": [
    "with open(\"./sample_1500_all_jets.pkl\", 'rb') as f:\n",
    "    test_sample = pd.read_pickle(f)"
   ]
  },
  {
   "cell_type": "code",
   "execution_count": null,
   "metadata": {},
   "outputs": [],
   "source": [
    "sum(test_sample['target']==1)"
   ]
  },
  {
   "cell_type": "code",
   "execution_count": null,
   "metadata": {},
   "outputs": [],
   "source": [
    "sum(test_sample['target']==0)"
   ]
  },
  {
   "cell_type": "code",
   "execution_count": null,
   "metadata": {},
   "outputs": [],
   "source": [
    "sample_quark = sample_1500[sample_1500['target']==0]\n",
    "sample_gluon = sample_1500[sample_1500['target']==1]\n",
    "\n",
    "n_quark = len(sample_quark)\n",
    "n_gluon = len(sample_gluon)"
   ]
  },
  {
   "cell_type": "code",
   "execution_count": null,
   "metadata": {},
   "outputs": [],
   "source": [
    "n_sample = np.min([n_quark, n_gluon])"
   ]
  },
  {
   "cell_type": "code",
   "execution_count": null,
   "metadata": {},
   "outputs": [],
   "source": [
    "subset_sample_quark = sample_quark.sample(n=n_sample)\n",
    "subset_sample_gluon = sample_gluon.sample(n=n_sample)\n"
   ]
  },
  {
   "cell_type": "code",
   "execution_count": null,
   "metadata": {},
   "outputs": [],
   "source": [
    "subset_sample_1500 = pd.concat([subset_sample_quark, subset_sample_gluon])"
   ]
  },
  {
   "cell_type": "code",
   "execution_count": null,
   "metadata": {},
   "outputs": [],
   "source": [
    "len(subset_sample_1500)"
   ]
  },
  {
   "cell_type": "code",
   "execution_count": null,
   "metadata": {},
   "outputs": [],
   "source": [
    "subset_sample_1500.to_pickle(\"./sample_1500_2p8M_jets.pkl\")"
   ]
  },
  {
   "attachments": {},
   "cell_type": "markdown",
   "metadata": {},
   "source": [
    "### 200k jets"
   ]
  },
  {
   "cell_type": "code",
   "execution_count": null,
   "metadata": {},
   "outputs": [],
   "source": [
    "all_jets = \"./sample_all_jets.pkl\" \n",
    "\n",
    "with open(all_jets, 'rb') as f:\n",
    "    all_jets = pd.read_pickle(f)\n",
    "\n"
   ]
  },
  {
   "cell_type": "code",
   "execution_count": null,
   "metadata": {},
   "outputs": [],
   "source": [
    "all_jets.head()"
   ]
  },
  {
   "cell_type": "code",
   "execution_count": null,
   "metadata": {},
   "outputs": [],
   "source": [
    "sample_1500 = all_jets[(all_jets['jet_pt'] >= 1500) & (all_jets['jet_PartonTruthLabelID'] != -1)]"
   ]
  },
  {
   "cell_type": "code",
   "execution_count": null,
   "metadata": {},
   "outputs": [],
   "source": [
    "n_sample = 100_000\n",
    "sample_quark = sample_1500[sample_1500['target']==0]\n",
    "sample_gluon = sample_1500[sample_1500['target']==1]\n",
    "subset_sample_quark = sample_quark.sample(n=n_sample, random_state=42)\n",
    "subset_sample_gluon = sample_gluon.sample(n=n_sample, random_state=42)\n",
    "subset_sample_1500 = pd.concat([subset_sample_quark, subset_sample_gluon])\n",
    "subset_sample_1500.to_pickle(\"./sample_1500_200k_jets.pkl\")"
   ]
  },
  {
   "cell_type": "code",
   "execution_count": null,
   "metadata": {},
   "outputs": [],
   "source": [
    "subset_sample_1500.tail()"
   ]
  },
  {
   "cell_type": "code",
   "execution_count": null,
   "metadata": {},
   "outputs": [],
   "source": []
  },
  {
   "attachments": {},
   "cell_type": "markdown",
   "metadata": {},
   "source": [
    "# Sample 12M jets "
   ]
  },
  {
   "cell_type": "code",
   "execution_count": null,
   "metadata": {},
   "outputs": [],
   "source": [
    "all_jets = \"./sample_all_jets.pkl\" \n",
    "\n",
    "with open(all_jets, 'rb') as f:\n",
    "    all_jets = pd.read_pickle(f)"
   ]
  },
  {
   "cell_type": "markdown",
   "metadata": {},
   "source": []
  },
  {
   "cell_type": "code",
   "execution_count": null,
   "metadata": {},
   "outputs": [],
   "source": [
    "all_jets.shape"
   ]
  },
  {
   "cell_type": "code",
   "execution_count": null,
   "metadata": {},
   "outputs": [],
   "source": [
    "all_jets.head()"
   ]
  },
  {
   "cell_type": "code",
   "execution_count": null,
   "metadata": {},
   "outputs": [],
   "source": [
    "#### Remove \n",
    "all_jets = all_jets[(all_jets['jet_PartonTruthLabelID'] != -1) & (all_jets['jet_nTracks'] >= 2)]"
   ]
  },
  {
   "cell_type": "code",
   "execution_count": null,
   "metadata": {},
   "outputs": [],
   "source": [
    "label_pt_bin = [500, 600, 800, 1000, 1200, 1500, 2000]\n",
    "all_jets['pt_idx'] = pd.cut(x=all_jets['jet_pt'], bins=label_pt_bin, right=False, labels=False)\n"
   ]
  },
  {
   "cell_type": "code",
   "execution_count": null,
   "metadata": {},
   "outputs": [],
   "source": [
    "quark_jets = all_jets[all_jets['target'] == 0]\n",
    "gluon_jets = all_jets[all_jets['target'] == 1]\n",
    "n_sample_ptbin = 1_000_000\n",
    "jets_list = []\n",
    "\n",
    "for jets in [quark_jets, gluon_jets]:\n",
    "    for pt_idx, pt in enumerate(label_pt_bin[:-1]):\n",
    "        jets_pt = jets[jets['pt_idx'] == pt_idx] \n",
    "        jets_list.append(jets_pt.sample(n=n_sample_ptbin, random_state = 42))"
   ]
  },
  {
   "cell_type": "code",
   "execution_count": null,
   "metadata": {},
   "outputs": [],
   "source": [
    "jets_allpt_12M = pd.concat(jets_list)"
   ]
  },
  {
   "cell_type": "code",
   "execution_count": null,
   "metadata": {},
   "outputs": [],
   "source": [
    "jets_allpt_12M.shape"
   ]
  },
  {
   "cell_type": "code",
   "execution_count": null,
   "metadata": {},
   "outputs": [],
   "source": [
    "jets_allpt_12M.to_pickle(\"./sample_allpt_12M_jets.pkl\")"
   ]
  },
  {
   "cell_type": "code",
   "execution_count": null,
   "metadata": {},
   "outputs": [],
   "source": []
  },
  {
   "attachments": {},
   "cell_type": "markdown",
   "metadata": {},
   "source": []
  },
  {
   "cell_type": "code",
   "execution_count": 4,
   "metadata": {},
   "outputs": [],
   "source": [
    "all_jets = \"./sample_allpt_all_jets.pkl\" \n",
    "\n",
    "with open(all_jets, 'rb') as f:\n",
    "    all_jets = pd.read_pickle(f)"
   ]
  },
  {
   "cell_type": "code",
   "execution_count": 5,
   "metadata": {},
   "outputs": [
    {
     "data": {
      "text/html": [
       "<div>\n",
       "<style scoped>\n",
       "    .dataframe tbody tr th:only-of-type {\n",
       "        vertical-align: middle;\n",
       "    }\n",
       "\n",
       "    .dataframe tbody tr th {\n",
       "        vertical-align: top;\n",
       "    }\n",
       "\n",
       "    .dataframe thead th {\n",
       "        text-align: right;\n",
       "    }\n",
       "</style>\n",
       "<table border=\"1\" class=\"dataframe\">\n",
       "  <thead>\n",
       "    <tr style=\"text-align: right;\">\n",
       "      <th></th>\n",
       "      <th>jet_pt</th>\n",
       "      <th>jet_eta</th>\n",
       "      <th>jet_nTracks</th>\n",
       "      <th>jet_trackWidth</th>\n",
       "      <th>jet_trackC1</th>\n",
       "      <th>jet_trackBDT</th>\n",
       "      <th>jet_PartonTruthLabelID</th>\n",
       "      <th>equal_weight</th>\n",
       "      <th>event_weight</th>\n",
       "      <th>flatpt_weight</th>\n",
       "      <th>is_forward</th>\n",
       "      <th>pt_idx</th>\n",
       "      <th>target</th>\n",
       "    </tr>\n",
       "  </thead>\n",
       "  <tbody>\n",
       "    <tr>\n",
       "      <th>0</th>\n",
       "      <td>766.747925</td>\n",
       "      <td>1.298662</td>\n",
       "      <td>2.0</td>\n",
       "      <td>0.318292</td>\n",
       "      <td>0.215923</td>\n",
       "      <td>-0.192873</td>\n",
       "      <td>21.0</td>\n",
       "      <td>1.0</td>\n",
       "      <td>17.609434</td>\n",
       "      <td>2.703190e-05</td>\n",
       "      <td>1.0</td>\n",
       "      <td>1</td>\n",
       "      <td>1.0</td>\n",
       "    </tr>\n",
       "    <tr>\n",
       "      <th>0</th>\n",
       "      <td>680.507996</td>\n",
       "      <td>0.447689</td>\n",
       "      <td>24.0</td>\n",
       "      <td>0.064352</td>\n",
       "      <td>0.208339</td>\n",
       "      <td>0.066904</td>\n",
       "      <td>2.0</td>\n",
       "      <td>1.0</td>\n",
       "      <td>0.331535</td>\n",
       "      <td>2.858433e-07</td>\n",
       "      <td>0.0</td>\n",
       "      <td>1</td>\n",
       "      <td>0.0</td>\n",
       "    </tr>\n",
       "    <tr>\n",
       "      <th>1</th>\n",
       "      <td>619.839111</td>\n",
       "      <td>0.588775</td>\n",
       "      <td>34.0</td>\n",
       "      <td>0.115656</td>\n",
       "      <td>0.298206</td>\n",
       "      <td>0.232268</td>\n",
       "      <td>21.0</td>\n",
       "      <td>1.0</td>\n",
       "      <td>0.331535</td>\n",
       "      <td>1.655248e-07</td>\n",
       "      <td>1.0</td>\n",
       "      <td>1</td>\n",
       "      <td>1.0</td>\n",
       "    </tr>\n",
       "    <tr>\n",
       "      <th>2</th>\n",
       "      <td>721.692932</td>\n",
       "      <td>-0.716669</td>\n",
       "      <td>12.0</td>\n",
       "      <td>0.049718</td>\n",
       "      <td>0.220595</td>\n",
       "      <td>-0.169604</td>\n",
       "      <td>2.0</td>\n",
       "      <td>1.0</td>\n",
       "      <td>0.377624</td>\n",
       "      <td>3.935379e-07</td>\n",
       "      <td>0.0</td>\n",
       "      <td>1</td>\n",
       "      <td>0.0</td>\n",
       "    </tr>\n",
       "    <tr>\n",
       "      <th>3</th>\n",
       "      <td>697.332947</td>\n",
       "      <td>-1.042831</td>\n",
       "      <td>22.0</td>\n",
       "      <td>0.091199</td>\n",
       "      <td>0.278667</td>\n",
       "      <td>0.029374</td>\n",
       "      <td>21.0</td>\n",
       "      <td>1.0</td>\n",
       "      <td>0.377624</td>\n",
       "      <td>3.255802e-07</td>\n",
       "      <td>1.0</td>\n",
       "      <td>1</td>\n",
       "      <td>1.0</td>\n",
       "    </tr>\n",
       "  </tbody>\n",
       "</table>\n",
       "</div>"
      ],
      "text/plain": [
       "       jet_pt   jet_eta  jet_nTracks  jet_trackWidth  jet_trackC1  \\\n",
       "0  766.747925  1.298662          2.0        0.318292     0.215923   \n",
       "0  680.507996  0.447689         24.0        0.064352     0.208339   \n",
       "1  619.839111  0.588775         34.0        0.115656     0.298206   \n",
       "2  721.692932 -0.716669         12.0        0.049718     0.220595   \n",
       "3  697.332947 -1.042831         22.0        0.091199     0.278667   \n",
       "\n",
       "   jet_trackBDT  jet_PartonTruthLabelID  equal_weight  event_weight  \\\n",
       "0     -0.192873                    21.0           1.0     17.609434   \n",
       "0      0.066904                     2.0           1.0      0.331535   \n",
       "1      0.232268                    21.0           1.0      0.331535   \n",
       "2     -0.169604                     2.0           1.0      0.377624   \n",
       "3      0.029374                    21.0           1.0      0.377624   \n",
       "\n",
       "   flatpt_weight  is_forward  pt_idx  target  \n",
       "0   2.703190e-05         1.0       1     1.0  \n",
       "0   2.858433e-07         0.0       1     0.0  \n",
       "1   1.655248e-07         1.0       1     1.0  \n",
       "2   3.935379e-07         0.0       1     0.0  \n",
       "3   3.255802e-07         1.0       1     1.0  "
      ]
     },
     "execution_count": 5,
     "metadata": {},
     "output_type": "execute_result"
    }
   ],
   "source": [
    "all_jets.head()"
   ]
  },
  {
   "cell_type": "code",
   "execution_count": 8,
   "metadata": {},
   "outputs": [
    {
     "data": {
      "text/plain": [
       "(array([5.9978808 , 5.99803981, 5.99818073, 5.9981648 , 5.99817481,\n",
       "        5.99805082, 5.99746664, 5.9980671 , 5.99825024, 5.99840047]),\n",
       " array([ 500.00003052,  650.00001526,  800.        ,  949.99998474,\n",
       "        1099.99996948, 1249.99995422, 1399.99993896, 1549.99992371,\n",
       "        1699.99990845, 1849.99989319, 1999.99987793]),\n",
       " <BarContainer object of 10 artists>)"
      ]
     },
     "execution_count": 8,
     "metadata": {},
     "output_type": "execute_result"
    },
    {
     "data": {
      "image/png": "[encoded data removed]",
      "text/plain": [
       "<Figure size 640x480 with 1 Axes>"
      ]
     },
     "metadata": {},
     "output_type": "display_data"
    }
   ],
   "source": [
    "plt.hist(all_jets['jet_pt'], weights=all_jets['flatpt_weight'])"
   ]
  },
  {
   "cell_type": "code",
   "execution_count": 15,
   "metadata": {},
   "outputs": [
    {
     "data": {
      "image/png": "[encoded data removed]",
      "text/plain": [
       "<Figure size 640x480 with 1 Axes>"
      ]
     },
     "metadata": {},
     "output_type": "display_data"
    }
   ],
   "source": [
    "pt_edges = np.array([500, 600, 800, 1000, 1200, 1500, 2000])\n",
    "\n",
    "plt.hist(all_jets['jet_pt'], weights=all_jets['event_weight'], bins=pt_edges)\n",
    "plt.yscale('log')"
   ]
  },
  {
   "cell_type": "code",
   "execution_count": 10,
   "metadata": {},
   "outputs": [],
   "source": [
    "pt_list = []\n",
    "for i in range(5):\n",
    "    sub_sample = all_jets[all_jets['pt_idx'] == i]\n",
    "    pt_list.append(sub_sample.sample(1_000_000))"
   ]
  },
  {
   "cell_type": "code",
   "execution_count": 12,
   "metadata": {},
   "outputs": [],
   "source": [
    "subsample = pd.concat(pt_list)"
   ]
  },
  {
   "cell_type": "code",
   "execution_count": 17,
   "metadata": {},
   "outputs": [
    {
     "data": {
      "text/plain": [
       "(array([0.28225643, 0.37336979, 1.15716404, 2.07477479, 2.46017263,\n",
       "        0.        ]),\n",
       " array([ 500.,  600.,  800., 1000., 1200., 1500., 2000.]),\n",
       " <BarContainer object of 6 artists>)"
      ]
     },
     "execution_count": 17,
     "metadata": {},
     "output_type": "execute_result"
    },
    {
     "data": {
      "image/png": "[encoded data removed]",
      "text/plain": [
       "<Figure size 640x480 with 1 Axes>"
      ]
     },
     "metadata": {},
     "output_type": "display_data"
    }
   ],
   "source": [
    "plt.hist(subsample['jet_pt'], weights=subsample['flatpt_weight'], bins=pt_edges)"
   ]
  },
  {
   "cell_type": "code",
   "execution_count": 18,
   "metadata": {},
   "outputs": [
    {
     "data": {
      "image/png": "[encoded data removed]",
      "text/plain": [
       "<Figure size 640x480 with 1 Axes>"
      ]
     },
     "metadata": {},
     "output_type": "display_data"
    }
   ],
   "source": [
    "plt.hist(subsample['jet_pt'], weights=subsample['event_weight'], bins=pt_edges)\n",
    "plt.yscale('log')"
   ]
  },
  {
   "cell_type": "code",
   "execution_count": null,
   "metadata": {},
   "outputs": [],
   "source": []
  }
 ],
 "metadata": {
  "kernelspec": {
   "display_name": "ml",
   "language": "python",
   "name": "python3"
  },
  "language_info": {
   "codemirror_mode": {
    "name": "ipython",
    "version": 3
   },
   "file_extension": ".py",
   "mimetype": "text/x-python",
   "name": "python",
   "nbconvert_exporter": "python",
   "pygments_lexer": "ipython3",
   "version": "3.9.15"
  },
  "orig_nbformat": 4,
  "vscode": {
   "interpreter": {
    "hash": "14e3b66b9136298b1438aa954b24fb6042eb4a7b64fe2e32b506f4a92d36ab42"
   }
  }
 },
 "nbformat": 4,
 "nbformat_minor": 2
}
