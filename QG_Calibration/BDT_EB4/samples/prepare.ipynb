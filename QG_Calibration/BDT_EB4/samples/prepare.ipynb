{
 "cells": [
  {
   "cell_type": "code",
   "execution_count": 1,
   "metadata": {},
   "outputs": [],
   "source": [
    "import argparse\n",
    "import numpy as np\n",
    "import matplotlib.pyplot as plt\n",
    "import pandas as pd\n",
    "\n",
    "import uproot \n",
    "import awkward as ak\n",
    "from pathlib import Path\n",
    "\n",
    "from typing import Dict, List \n",
    "import re\n",
    "import pickle\n",
    "from tqdm import tqdm"
   ]
  },
  {
   "cell_type": "code",
   "execution_count": null,
   "metadata": {},
   "outputs": [],
   "source": [
    "file = '/global/cfs/projectdirs/atlas/hrzhao/qgcal/BDT_EPEML/pkls_etalabel/all_JZs_format1.pkl'\n",
    "all_sample = pd.read_pickle(file)"
   ]
  },
  {
   "cell_type": "code",
   "execution_count": null,
   "metadata": {},
   "outputs": [],
   "source": [
    "all_JZs_list = []\n",
    "for key, value in all_sample.items():\n",
    "    all_JZs_list.append(value)\n",
    "\n",
    "all_jets = pd.concat(all_JZs_list)"
   ]
  },
  {
   "cell_type": "code",
   "execution_count": null,
   "metadata": {},
   "outputs": [],
   "source": [
    "all_jets = all_jets.drop('event', axis = 1)"
   ]
  },
  {
   "attachments": {},
   "cell_type": "markdown",
   "metadata": {},
   "source": [
    "## Physical weights"
   ]
  },
  {
   "cell_type": "code",
   "execution_count": null,
   "metadata": {},
   "outputs": [],
   "source": [
    "fig, ax = plt.subplots()\n",
    "# pt_edges = np.linspace(500, 2000, 61)\n",
    "pt_edges = np.linspace(500, 2000, 1501)\n",
    "bin_contents, bin_edges, _ = ax.hist(all_jets['jet_pt'], bins=pt_edges, weights=all_jets['total_weight'])\n",
    "ax.set_yscale('log')\n",
    "plt.plot()\n"
   ]
  },
  {
   "attachments": {},
   "cell_type": "markdown",
   "metadata": {},
   "source": [
    "## Flatten Pt"
   ]
  },
  {
   "attachments": {},
   "cell_type": "markdown",
   "metadata": {},
   "source": [
    "### Plot"
   ]
  },
  {
   "cell_type": "code",
   "execution_count": null,
   "metadata": {},
   "outputs": [],
   "source": [
    "flat_weight_factor = 1./bin_contents\n",
    "pt_binned_sample_alljets_idx = np.digitize(all_jets['jet_pt'], pt_edges)"
   ]
  },
  {
   "cell_type": "code",
   "execution_count": null,
   "metadata": {},
   "outputs": [],
   "source": [
    "all_jets['flatpt_weight'] = all_jets['total_weight']"
   ]
  },
  {
   "cell_type": "code",
   "execution_count": null,
   "metadata": {},
   "outputs": [],
   "source": [
    "for i in tqdm(range(np.max(pt_binned_sample_alljets_idx))):\n",
    "    mod_idx = np.where(pt_binned_sample_alljets_idx-1 == i)[0]\n",
    "    all_jets.iloc[mod_idx, all_jets.columns.get_loc('flatpt_weight')] *= flat_weight_factor[i]\n",
    "    ## df.iloc[0, df.columns.get_loc('COL_NAME')] = x"
   ]
  },
  {
   "cell_type": "code",
   "execution_count": null,
   "metadata": {},
   "outputs": [],
   "source": [
    "fig, ax = plt.subplots()\n",
    "pt_edges = np.linspace(500, 2000, 61)\n",
    "bin_contents, bin_edges, _ = ax.hist(all_jets['jet_pt'], bins=pt_edges, weights=all_jets['flatpt_weight'])\n",
    "# ax.set_yscale('log')\n",
    "plt.plot()\n"
   ]
  },
  {
   "attachments": {},
   "cell_type": "markdown",
   "metadata": {},
   "source": [
    "### Adjust the columns "
   ]
  },
  {
   "cell_type": "code",
   "execution_count": null,
   "metadata": {},
   "outputs": [],
   "source": [
    "all_jets['equal_weight'] = np.ones(len(all_jets))"
   ]
  },
  {
   "cell_type": "code",
   "execution_count": null,
   "metadata": {},
   "outputs": [],
   "source": [
    "all_jets.head()"
   ]
  },
  {
   "cell_type": "code",
   "execution_count": null,
   "metadata": {},
   "outputs": [],
   "source": [
    "all_jets.rename(columns = {'total_weight':'event_weight'}, inplace = True)\n",
    "col_list = list(all_jets)\n",
    "print(col_list)"
   ]
  },
  {
   "cell_type": "code",
   "execution_count": null,
   "metadata": {},
   "outputs": [],
   "source": [
    "insert_pos = col_list.index('event_weight')\n",
    "adj_col_list = col_list[:insert_pos] + ['equal_weight'] + [col_list[insert_pos]] + [col_list[-2]] + col_list[insert_pos+2:-2]"
   ]
  },
  {
   "cell_type": "code",
   "execution_count": null,
   "metadata": {},
   "outputs": [],
   "source": [
    "adj_col_list"
   ]
  },
  {
   "cell_type": "code",
   "execution_count": null,
   "metadata": {},
   "outputs": [],
   "source": [
    "all_jets = all_jets.reindex(columns = adj_col_list)\n",
    "all_jets = all_jets[all_jets['event_weight'] != 0]"
   ]
  },
  {
   "cell_type": "code",
   "execution_count": null,
   "metadata": {},
   "outputs": [],
   "source": [
    "all_jets.head()"
   ]
  },
  {
   "cell_type": "code",
   "execution_count": null,
   "metadata": {},
   "outputs": [],
   "source": [
    "all_jets.to_pickle(\"./sample_all_jets.pkl\")"
   ]
  },
  {
   "cell_type": "code",
   "execution_count": null,
   "metadata": {},
   "outputs": [],
   "source": [
    "with open(\"./sample_all_jets.pkl\", 'rb') as f:\n",
    "    all_jets = pd.read_pickle(f)"
   ]
  },
  {
   "attachments": {},
   "cell_type": "markdown",
   "metadata": {},
   "source": [
    "## Sample 1500GeV"
   ]
  },
  {
   "attachments": {},
   "cell_type": "markdown",
   "metadata": {},
   "source": [
    "### 2.8M jets"
   ]
  },
  {
   "cell_type": "code",
   "execution_count": null,
   "metadata": {},
   "outputs": [],
   "source": [
    "sample_1500 = all_jets[(all_jets['jet_pt'] >= 1500) & (all_jets['jet_PartonTruthLabelID'] != -1)]"
   ]
  },
  {
   "cell_type": "code",
   "execution_count": null,
   "metadata": {},
   "outputs": [],
   "source": [
    "sample_1500.head()"
   ]
  },
  {
   "cell_type": "code",
   "execution_count": null,
   "metadata": {},
   "outputs": [],
   "source": [
    "sample_1500.describe()"
   ]
  },
  {
   "cell_type": "code",
   "execution_count": null,
   "metadata": {},
   "outputs": [],
   "source": [
    "sample_1500.to_pickle(\"./sample_1500_all_jets.pkl\")"
   ]
  },
  {
   "cell_type": "code",
   "execution_count": null,
   "metadata": {},
   "outputs": [],
   "source": [
    "with open(\"./sample_1500_all_jets.pkl\", 'rb') as f:\n",
    "    test_sample = pd.read_pickle(f)"
   ]
  },
  {
   "cell_type": "code",
   "execution_count": null,
   "metadata": {},
   "outputs": [],
   "source": [
    "sum(test_sample['target']==1)"
   ]
  },
  {
   "cell_type": "code",
   "execution_count": null,
   "metadata": {},
   "outputs": [],
   "source": [
    "sum(test_sample['target']==0)"
   ]
  },
  {
   "cell_type": "code",
   "execution_count": null,
   "metadata": {},
   "outputs": [],
   "source": [
    "sample_quark = sample_1500[sample_1500['target']==0]\n",
    "sample_gluon = sample_1500[sample_1500['target']==1]\n",
    "\n",
    "n_quark = len(sample_quark)\n",
    "n_gluon = len(sample_gluon)"
   ]
  },
  {
   "cell_type": "code",
   "execution_count": null,
   "metadata": {},
   "outputs": [],
   "source": [
    "n_sample = np.min([n_quark, n_gluon])"
   ]
  },
  {
   "cell_type": "code",
   "execution_count": null,
   "metadata": {},
   "outputs": [],
   "source": [
    "subset_sample_quark = sample_quark.sample(n=n_sample)\n",
    "subset_sample_gluon = sample_gluon.sample(n=n_sample)\n"
   ]
  },
  {
   "cell_type": "code",
   "execution_count": null,
   "metadata": {},
   "outputs": [],
   "source": [
    "subset_sample_1500 = pd.concat([subset_sample_quark, subset_sample_gluon])"
   ]
  },
  {
   "cell_type": "code",
   "execution_count": null,
   "metadata": {},
   "outputs": [],
   "source": [
    "len(subset_sample_1500)"
   ]
  },
  {
   "cell_type": "code",
   "execution_count": null,
   "metadata": {},
   "outputs": [],
   "source": [
    "subset_sample_1500.to_pickle(\"./sample_1500_2p8M_jets.pkl\")"
   ]
  },
  {
   "attachments": {},
   "cell_type": "markdown",
   "metadata": {},
   "source": [
    "### 200k jets"
   ]
  },
  {
   "cell_type": "code",
   "execution_count": null,
   "metadata": {},
   "outputs": [],
   "source": [
    "all_jets = \"./sample_all_jets.pkl\" \n",
    "\n",
    "with open(all_jets, 'rb') as f:\n",
    "    all_jets = pd.read_pickle(f)\n",
    "\n"
   ]
  },
  {
   "cell_type": "code",
   "execution_count": null,
   "metadata": {},
   "outputs": [],
   "source": [
    "all_jets.head()"
   ]
  },
  {
   "cell_type": "code",
   "execution_count": null,
   "metadata": {},
   "outputs": [],
   "source": [
    "sample_1500 = all_jets[(all_jets['jet_pt'] >= 1500) & (all_jets['jet_PartonTruthLabelID'] != -1)]"
   ]
  },
  {
   "cell_type": "code",
   "execution_count": null,
   "metadata": {},
   "outputs": [],
   "source": [
    "n_sample = 100_000\n",
    "sample_quark = sample_1500[sample_1500['target']==0]\n",
    "sample_gluon = sample_1500[sample_1500['target']==1]\n",
    "subset_sample_quark = sample_quark.sample(n=n_sample, random_state=42)\n",
    "subset_sample_gluon = sample_gluon.sample(n=n_sample, random_state=42)\n",
    "subset_sample_1500 = pd.concat([subset_sample_quark, subset_sample_gluon])\n",
    "subset_sample_1500.to_pickle(\"./sample_1500_200k_jets.pkl\")"
   ]
  },
  {
   "cell_type": "code",
   "execution_count": null,
   "metadata": {},
   "outputs": [],
   "source": [
    "subset_sample_1500.tail()"
   ]
  },
  {
   "cell_type": "code",
   "execution_count": null,
   "metadata": {},
   "outputs": [],
   "source": []
  },
  {
   "attachments": {},
   "cell_type": "markdown",
   "metadata": {},
   "source": [
    "# Sample 12M jets "
   ]
  },
  {
   "cell_type": "code",
   "execution_count": null,
   "metadata": {},
   "outputs": [],
   "source": [
    "all_jets = \"./sample_all_jets.pkl\" \n",
    "\n",
    "with open(all_jets, 'rb') as f:\n",
    "    all_jets = pd.read_pickle(f)"
   ]
  },
  {
   "cell_type": "markdown",
   "metadata": {},
   "source": []
  },
  {
   "cell_type": "code",
   "execution_count": null,
   "metadata": {},
   "outputs": [],
   "source": [
    "all_jets.shape"
   ]
  },
  {
   "cell_type": "code",
   "execution_count": null,
   "metadata": {},
   "outputs": [],
   "source": [
    "all_jets.head()"
   ]
  },
  {
   "cell_type": "code",
   "execution_count": null,
   "metadata": {},
   "outputs": [],
   "source": [
    "#### Remove \n",
    "all_jets = all_jets[(all_jets['jet_PartonTruthLabelID'] != -1) & (all_jets['jet_nTracks'] >= 2)]"
   ]
  },
  {
   "cell_type": "code",
   "execution_count": null,
   "metadata": {},
   "outputs": [],
   "source": [
    "label_pt_bin = [500, 600, 800, 1000, 1200, 1500, 2000]\n",
    "all_jets['pt_idx'] = pd.cut(x=all_jets['jet_pt'], bins=label_pt_bin, right=False, labels=False)\n"
   ]
  },
  {
   "cell_type": "code",
   "execution_count": null,
   "metadata": {},
   "outputs": [],
   "source": [
    "all_jets"
   ]
  },
  {
   "cell_type": "code",
   "execution_count": null,
   "metadata": {},
   "outputs": [],
   "source": [
    "quark_jets = all_jets[all_jets['target'] == 0]\n",
    "gluon_jets = all_jets[all_jets['target'] == 1]\n",
    "n_sample_ptbin = 1_000_000\n",
    "jets_list = []\n",
    "\n",
    "for jets in [quark_jets, gluon_jets]:\n",
    "    for pt_idx, pt in enumerate(label_pt_bin[:-1]):\n",
    "        jets_pt = jets[jets['pt_idx'] == pt_idx] \n",
    "        jets_list.append(jets_pt.sample(n=n_sample_ptbin, random_state = 42))"
   ]
  },
  {
   "cell_type": "code",
   "execution_count": null,
   "metadata": {},
   "outputs": [],
   "source": [
    "jets_allpt_12M = pd.concat(jets_list)"
   ]
  },
  {
   "cell_type": "code",
   "execution_count": null,
   "metadata": {},
   "outputs": [],
   "source": [
    "jets_allpt_12M.shape"
   ]
  },
  {
   "cell_type": "code",
   "execution_count": null,
   "metadata": {},
   "outputs": [],
   "source": [
    "jets_allpt_12M.to_pickle(\"./sample_allpt_12M_jets.pkl\")"
   ]
  },
  {
   "cell_type": "code",
   "execution_count": null,
   "metadata": {},
   "outputs": [],
   "source": []
  },
  {
   "attachments": {},
   "cell_type": "markdown",
   "metadata": {},
   "source": [
    "# Sampling study"
   ]
  },
  {
   "cell_type": "code",
   "execution_count": 2,
   "metadata": {},
   "outputs": [],
   "source": [
    "all_jets = \"./sample_allpt_all_jets.pkl\" \n",
    "\n",
    "with open(all_jets, 'rb') as f:\n",
    "    all_jets = pd.read_pickle(f)"
   ]
  },
  {
   "cell_type": "code",
   "execution_count": 16,
   "metadata": {},
   "outputs": [
    {
     "data": {
      "text/plain": [
       "5194577"
      ]
     },
     "execution_count": 16,
     "metadata": {},
     "output_type": "execute_result"
    }
   ],
   "source": [
    "np.sum(all_jets['pt_idx'] == 5)"
   ]
  },
  {
   "cell_type": "code",
   "execution_count": 7,
   "metadata": {},
   "outputs": [
    {
     "data": {
      "image/png": "[encoded data removed]",
      "text/plain": [
       "<Figure size 640x480 with 1 Axes>"
      ]
     },
     "metadata": {},
     "output_type": "display_data"
    }
   ],
   "source": [
    "pt_edges = np.linspace(500,2000,61)\n",
    "\n",
    "plt.hist(all_jets['jet_pt'], weights=all_jets['event_weight'], bins=pt_edges)\n",
    "plt.yscale('log')"
   ]
  },
  {
   "cell_type": "code",
   "execution_count": 9,
   "metadata": {},
   "outputs": [
    {
     "data": {
      "text/plain": [
       "(array([0.99960947, 0.9996304 , 0.99963877, 0.9996385 , 0.99969095,\n",
       "        0.99966896, 0.99967284, 0.99967554, 0.99965784, 0.99968719,\n",
       "        0.99967585, 0.9996743 , 0.99970825, 0.99969044, 0.99970302,\n",
       "        0.99965722, 0.99973327, 0.99968853, 0.99969676, 0.99967845,\n",
       "        0.99970575, 0.99966276, 0.99972429, 0.9996968 , 0.99971206,\n",
       "        0.99965132, 0.99968923, 0.99974075, 0.99967762, 0.99970383,\n",
       "        0.99958451, 0.99967649, 0.99969626, 0.99969135, 0.99963622,\n",
       "        0.99976598, 0.999732  , 0.99974081, 0.99942842, 0.99953506,\n",
       "        0.99930776, 0.99972259, 0.99970338, 0.99952576, 0.99968727,\n",
       "        0.99970766, 0.99971755, 0.99972547, 0.99971309, 0.99953578,\n",
       "        0.99976512, 0.99972297, 0.9997393 , 0.99977398, 0.99973001,\n",
       "        0.99979788, 0.99969829, 0.99974078, 0.9996939 , 0.99973959]),\n",
       " array([ 500.,  525.,  550.,  575.,  600.,  625.,  650.,  675.,  700.,\n",
       "         725.,  750.,  775.,  800.,  825.,  850.,  875.,  900.,  925.,\n",
       "         950.,  975., 1000., 1025., 1050., 1075., 1100., 1125., 1150.,\n",
       "        1175., 1200., 1225., 1250., 1275., 1300., 1325., 1350., 1375.,\n",
       "        1400., 1425., 1450., 1475., 1500., 1525., 1550., 1575., 1600.,\n",
       "        1625., 1650., 1675., 1700., 1725., 1750., 1775., 1800., 1825.,\n",
       "        1850., 1875., 1900., 1925., 1950., 1975., 2000.]),\n",
       " <BarContainer object of 60 artists>)"
      ]
     },
     "execution_count": 9,
     "metadata": {},
     "output_type": "execute_result"
    },
    {
     "data": {
      "image/png": "[encoded data removed]",
      "text/plain": [
       "<Figure size 640x480 with 1 Axes>"
      ]
     },
     "metadata": {},
     "output_type": "display_data"
    }
   ],
   "source": [
    "plt.hist(all_jets['jet_pt'], weights=all_jets['flatpt_weight'], bins=pt_edges)"
   ]
  },
  {
   "attachments": {},
   "cell_type": "markdown",
   "metadata": {},
   "source": [
    "## Sample 1 & Sample 2 & Sample 3"
   ]
  },
  {
   "cell_type": "code",
   "execution_count": 17,
   "metadata": {},
   "outputs": [],
   "source": [
    "n_sample = 5_000_000\n",
    "sample123 = all_jets.sample(n_sample, random_state = 42)"
   ]
  },
  {
   "cell_type": "code",
   "execution_count": 18,
   "metadata": {},
   "outputs": [
    {
     "data": {
      "text/html": [
       "<div>\n",
       "<style scoped>\n",
       "    .dataframe tbody tr th:only-of-type {\n",
       "        vertical-align: middle;\n",
       "    }\n",
       "\n",
       "    .dataframe tbody tr th {\n",
       "        vertical-align: top;\n",
       "    }\n",
       "\n",
       "    .dataframe thead th {\n",
       "        text-align: right;\n",
       "    }\n",
       "</style>\n",
       "<table border=\"1\" class=\"dataframe\">\n",
       "  <thead>\n",
       "    <tr style=\"text-align: right;\">\n",
       "      <th></th>\n",
       "      <th>jet_pt</th>\n",
       "      <th>jet_eta</th>\n",
       "      <th>jet_nTracks</th>\n",
       "      <th>jet_trackWidth</th>\n",
       "      <th>jet_trackC1</th>\n",
       "      <th>jet_trackBDT</th>\n",
       "      <th>jet_PartonTruthLabelID</th>\n",
       "      <th>equal_weight</th>\n",
       "      <th>event_weight</th>\n",
       "      <th>flatpt_weight</th>\n",
       "      <th>is_forward</th>\n",
       "      <th>pt_idx</th>\n",
       "      <th>target</th>\n",
       "    </tr>\n",
       "  </thead>\n",
       "  <tbody>\n",
       "    <tr>\n",
       "      <th>3040225</th>\n",
       "      <td>1771.308105</td>\n",
       "      <td>-1.185907</td>\n",
       "      <td>24.0</td>\n",
       "      <td>0.111155</td>\n",
       "      <td>0.297679</td>\n",
       "      <td>-0.001197</td>\n",
       "      <td>1.0</td>\n",
       "      <td>1.0</td>\n",
       "      <td>0.002129</td>\n",
       "      <td>1.832609e-06</td>\n",
       "      <td>1.0</td>\n",
       "      <td>5</td>\n",
       "      <td>0.0</td>\n",
       "    </tr>\n",
       "    <tr>\n",
       "      <th>3308762</th>\n",
       "      <td>576.650024</td>\n",
       "      <td>-1.632921</td>\n",
       "      <td>18.0</td>\n",
       "      <td>0.030110</td>\n",
       "      <td>0.227651</td>\n",
       "      <td>0.115335</td>\n",
       "      <td>21.0</td>\n",
       "      <td>1.0</td>\n",
       "      <td>0.954678</td>\n",
       "      <td>4.073045e-07</td>\n",
       "      <td>1.0</td>\n",
       "      <td>0</td>\n",
       "      <td>1.0</td>\n",
       "    </tr>\n",
       "    <tr>\n",
       "      <th>24589109</th>\n",
       "      <td>549.962463</td>\n",
       "      <td>-0.248085</td>\n",
       "      <td>12.0</td>\n",
       "      <td>0.028959</td>\n",
       "      <td>0.142942</td>\n",
       "      <td>-0.211451</td>\n",
       "      <td>4.0</td>\n",
       "      <td>1.0</td>\n",
       "      <td>0.534956</td>\n",
       "      <td>1.849374e-07</td>\n",
       "      <td>0.0</td>\n",
       "      <td>0</td>\n",
       "      <td>0.0</td>\n",
       "    </tr>\n",
       "    <tr>\n",
       "      <th>6893257</th>\n",
       "      <td>926.854065</td>\n",
       "      <td>0.773220</td>\n",
       "      <td>11.0</td>\n",
       "      <td>0.022511</td>\n",
       "      <td>0.151775</td>\n",
       "      <td>-0.290329</td>\n",
       "      <td>2.0</td>\n",
       "      <td>1.0</td>\n",
       "      <td>0.130191</td>\n",
       "      <td>7.915768e-07</td>\n",
       "      <td>1.0</td>\n",
       "      <td>2</td>\n",
       "      <td>0.0</td>\n",
       "    </tr>\n",
       "    <tr>\n",
       "      <th>729798</th>\n",
       "      <td>1347.683838</td>\n",
       "      <td>-0.424933</td>\n",
       "      <td>20.0</td>\n",
       "      <td>0.046835</td>\n",
       "      <td>0.199852</td>\n",
       "      <td>-0.123005</td>\n",
       "      <td>2.0</td>\n",
       "      <td>1.0</td>\n",
       "      <td>0.039094</td>\n",
       "      <td>3.223083e-06</td>\n",
       "      <td>1.0</td>\n",
       "      <td>4</td>\n",
       "      <td>0.0</td>\n",
       "    </tr>\n",
       "    <tr>\n",
       "      <th>...</th>\n",
       "      <td>...</td>\n",
       "      <td>...</td>\n",
       "      <td>...</td>\n",
       "      <td>...</td>\n",
       "      <td>...</td>\n",
       "      <td>...</td>\n",
       "      <td>...</td>\n",
       "      <td>...</td>\n",
       "      <td>...</td>\n",
       "      <td>...</td>\n",
       "      <td>...</td>\n",
       "      <td>...</td>\n",
       "      <td>...</td>\n",
       "    </tr>\n",
       "    <tr>\n",
       "      <th>5934631</th>\n",
       "      <td>1418.605103</td>\n",
       "      <td>-0.030457</td>\n",
       "      <td>23.0</td>\n",
       "      <td>0.024651</td>\n",
       "      <td>0.215973</td>\n",
       "      <td>0.101285</td>\n",
       "      <td>1.0</td>\n",
       "      <td>1.0</td>\n",
       "      <td>0.010488</td>\n",
       "      <td>1.333070e-06</td>\n",
       "      <td>0.0</td>\n",
       "      <td>4</td>\n",
       "      <td>0.0</td>\n",
       "    </tr>\n",
       "    <tr>\n",
       "      <th>1911342</th>\n",
       "      <td>1472.617310</td>\n",
       "      <td>-0.040862</td>\n",
       "      <td>12.0</td>\n",
       "      <td>0.021771</td>\n",
       "      <td>0.186129</td>\n",
       "      <td>-0.315558</td>\n",
       "      <td>1.0</td>\n",
       "      <td>1.0</td>\n",
       "      <td>0.019527</td>\n",
       "      <td>3.299834e-06</td>\n",
       "      <td>0.0</td>\n",
       "      <td>4</td>\n",
       "      <td>0.0</td>\n",
       "    </tr>\n",
       "    <tr>\n",
       "      <th>3571118</th>\n",
       "      <td>742.186401</td>\n",
       "      <td>0.298260</td>\n",
       "      <td>29.0</td>\n",
       "      <td>0.092861</td>\n",
       "      <td>0.305258</td>\n",
       "      <td>0.230719</td>\n",
       "      <td>2.0</td>\n",
       "      <td>1.0</td>\n",
       "      <td>0.328265</td>\n",
       "      <td>4.132454e-07</td>\n",
       "      <td>0.0</td>\n",
       "      <td>1</td>\n",
       "      <td>0.0</td>\n",
       "    </tr>\n",
       "    <tr>\n",
       "      <th>1343063</th>\n",
       "      <td>686.528320</td>\n",
       "      <td>1.423474</td>\n",
       "      <td>11.0</td>\n",
       "      <td>0.023117</td>\n",
       "      <td>0.156143</td>\n",
       "      <td>-0.284020</td>\n",
       "      <td>3.0</td>\n",
       "      <td>1.0</td>\n",
       "      <td>0.757037</td>\n",
       "      <td>6.527034e-07</td>\n",
       "      <td>1.0</td>\n",
       "      <td>1</td>\n",
       "      <td>0.0</td>\n",
       "    </tr>\n",
       "    <tr>\n",
       "      <th>12044268</th>\n",
       "      <td>725.283386</td>\n",
       "      <td>0.803237</td>\n",
       "      <td>14.0</td>\n",
       "      <td>0.017821</td>\n",
       "      <td>0.178998</td>\n",
       "      <td>-0.151784</td>\n",
       "      <td>2.0</td>\n",
       "      <td>1.0</td>\n",
       "      <td>0.182109</td>\n",
       "      <td>2.292523e-07</td>\n",
       "      <td>1.0</td>\n",
       "      <td>1</td>\n",
       "      <td>0.0</td>\n",
       "    </tr>\n",
       "  </tbody>\n",
       "</table>\n",
       "<p>5000000 rows × 13 columns</p>\n",
       "</div>"
      ],
      "text/plain": [
       "               jet_pt   jet_eta  jet_nTracks  jet_trackWidth  jet_trackC1  \\\n",
       "3040225   1771.308105 -1.185907         24.0        0.111155     0.297679   \n",
       "3308762    576.650024 -1.632921         18.0        0.030110     0.227651   \n",
       "24589109   549.962463 -0.248085         12.0        0.028959     0.142942   \n",
       "6893257    926.854065  0.773220         11.0        0.022511     0.151775   \n",
       "729798    1347.683838 -0.424933         20.0        0.046835     0.199852   \n",
       "...               ...       ...          ...             ...          ...   \n",
       "5934631   1418.605103 -0.030457         23.0        0.024651     0.215973   \n",
       "1911342   1472.617310 -0.040862         12.0        0.021771     0.186129   \n",
       "3571118    742.186401  0.298260         29.0        0.092861     0.305258   \n",
       "1343063    686.528320  1.423474         11.0        0.023117     0.156143   \n",
       "12044268   725.283386  0.803237         14.0        0.017821     0.178998   \n",
       "\n",
       "          jet_trackBDT  jet_PartonTruthLabelID  equal_weight  event_weight  \\\n",
       "3040225      -0.001197                     1.0           1.0      0.002129   \n",
       "3308762       0.115335                    21.0           1.0      0.954678   \n",
       "24589109     -0.211451                     4.0           1.0      0.534956   \n",
       "6893257      -0.290329                     2.0           1.0      0.130191   \n",
       "729798       -0.123005                     2.0           1.0      0.039094   \n",
       "...                ...                     ...           ...           ...   \n",
       "5934631       0.101285                     1.0           1.0      0.010488   \n",
       "1911342      -0.315558                     1.0           1.0      0.019527   \n",
       "3571118       0.230719                     2.0           1.0      0.328265   \n",
       "1343063      -0.284020                     3.0           1.0      0.757037   \n",
       "12044268     -0.151784                     2.0           1.0      0.182109   \n",
       "\n",
       "          flatpt_weight  is_forward  pt_idx  target  \n",
       "3040225    1.832609e-06         1.0       5     0.0  \n",
       "3308762    4.073045e-07         1.0       0     1.0  \n",
       "24589109   1.849374e-07         0.0       0     0.0  \n",
       "6893257    7.915768e-07         1.0       2     0.0  \n",
       "729798     3.223083e-06         1.0       4     0.0  \n",
       "...                 ...         ...     ...     ...  \n",
       "5934631    1.333070e-06         0.0       4     0.0  \n",
       "1911342    3.299834e-06         0.0       4     0.0  \n",
       "3571118    4.132454e-07         0.0       1     0.0  \n",
       "1343063    6.527034e-07         1.0       1     0.0  \n",
       "12044268   2.292523e-07         1.0       1     0.0  \n",
       "\n",
       "[5000000 rows x 13 columns]"
      ]
     },
     "execution_count": 18,
     "metadata": {},
     "output_type": "execute_result"
    }
   ],
   "source": [
    "sample123"
   ]
  },
  {
   "cell_type": "code",
   "execution_count": 38,
   "metadata": {},
   "outputs": [
    {
     "data": {
      "image/png": "[encoded data removed]",
      "text/plain": [
       "<Figure size 640x480 with 1 Axes>"
      ]
     },
     "metadata": {},
     "output_type": "display_data"
    }
   ],
   "source": [
    "_, _, _ = plt.hist(sample123['jet_pt'], bins=pt_edges, weights=sample123['equal_weight'])"
   ]
  },
  {
   "cell_type": "code",
   "execution_count": 39,
   "metadata": {},
   "outputs": [
    {
     "data": {
      "image/png": "[encoded data removed]",
      "text/plain": [
       "<Figure size 640x480 with 1 Axes>"
      ]
     },
     "metadata": {},
     "output_type": "display_data"
    }
   ],
   "source": [
    "_, _, _ = plt.hist(sample123['jet_pt'], bins=pt_edges, weights=sample123['event_weight'])"
   ]
  },
  {
   "cell_type": "code",
   "execution_count": 40,
   "metadata": {},
   "outputs": [
    {
     "data": {
      "image/png": "[encoded data removed]",
      "text/plain": [
       "<Figure size 640x480 with 1 Axes>"
      ]
     },
     "metadata": {},
     "output_type": "display_data"
    }
   ],
   "source": [
    "_, _, _ = plt.hist(sample123['jet_pt'], bins=pt_edges, weights=sample123['flatpt_weight'])"
   ]
  },
  {
   "cell_type": "code",
   "execution_count": 19,
   "metadata": {},
   "outputs": [],
   "source": [
    "sample123.to_pickle('sample_testweight_123')"
   ]
  },
  {
   "attachments": {},
   "cell_type": "markdown",
   "metadata": {},
   "source": [
    "## Sample 4"
   ]
  },
  {
   "cell_type": "code",
   "execution_count": 23,
   "metadata": {},
   "outputs": [],
   "source": [
    "sample4 = all_jets[all_jets['pt_idx'] == 5].sample(n_sample, random_state = 42)"
   ]
  },
  {
   "cell_type": "code",
   "execution_count": 15,
   "metadata": {},
   "outputs": [
    {
     "data": {
      "image/png": "[encoded data removed]",
      "text/plain": [
       "<Figure size 640x480 with 1 Axes>"
      ]
     },
     "metadata": {},
     "output_type": "display_data"
    }
   ],
   "source": [
    "_, _, _ = plt.hist(sample4['jet_pt'], bins=np.linspace(500,2000,61), weights=sample4['event_weight'])"
   ]
  },
  {
   "cell_type": "code",
   "execution_count": 24,
   "metadata": {},
   "outputs": [],
   "source": [
    "sample4.to_pickle('sample_testweight_4')"
   ]
  },
  {
   "attachments": {},
   "cell_type": "markdown",
   "metadata": {},
   "source": [
    "## Sample 5"
   ]
  },
  {
   "attachments": {},
   "cell_type": "markdown",
   "metadata": {},
   "source": [
    "### Test 1"
   ]
  },
  {
   "cell_type": "code",
   "execution_count": 27,
   "metadata": {},
   "outputs": [],
   "source": [
    "n_subsample = n_sample // 6 + 1"
   ]
  },
  {
   "cell_type": "code",
   "execution_count": 33,
   "metadata": {},
   "outputs": [],
   "source": [
    "sample5 = []\n",
    "for i in range(6):\n",
    "    sub_sample = all_jets[all_jets['pt_idx'] == i]\n",
    "    sample5.append(sub_sample.sample(n_subsample))"
   ]
  },
  {
   "cell_type": "code",
   "execution_count": 34,
   "metadata": {},
   "outputs": [],
   "source": [
    "sample5 = pd.concat(sample5)"
   ]
  },
  {
   "cell_type": "code",
   "execution_count": 35,
   "metadata": {},
   "outputs": [
    {
     "data": {
      "text/html": [
       "<div>\n",
       "<style scoped>\n",
       "    .dataframe tbody tr th:only-of-type {\n",
       "        vertical-align: middle;\n",
       "    }\n",
       "\n",
       "    .dataframe tbody tr th {\n",
       "        vertical-align: top;\n",
       "    }\n",
       "\n",
       "    .dataframe thead th {\n",
       "        text-align: right;\n",
       "    }\n",
       "</style>\n",
       "<table border=\"1\" class=\"dataframe\">\n",
       "  <thead>\n",
       "    <tr style=\"text-align: right;\">\n",
       "      <th></th>\n",
       "      <th>jet_pt</th>\n",
       "      <th>jet_eta</th>\n",
       "      <th>jet_nTracks</th>\n",
       "      <th>jet_trackWidth</th>\n",
       "      <th>jet_trackC1</th>\n",
       "      <th>jet_trackBDT</th>\n",
       "      <th>jet_PartonTruthLabelID</th>\n",
       "      <th>equal_weight</th>\n",
       "      <th>event_weight</th>\n",
       "      <th>flatpt_weight</th>\n",
       "      <th>is_forward</th>\n",
       "      <th>pt_idx</th>\n",
       "      <th>target</th>\n",
       "    </tr>\n",
       "  </thead>\n",
       "  <tbody>\n",
       "    <tr>\n",
       "      <th>4749020</th>\n",
       "      <td>558.778503</td>\n",
       "      <td>1.956218</td>\n",
       "      <td>8.0</td>\n",
       "      <td>0.044092</td>\n",
       "      <td>0.164873</td>\n",
       "      <td>-0.270062</td>\n",
       "      <td>1.0</td>\n",
       "      <td>1.0</td>\n",
       "      <td>0.885801</td>\n",
       "      <td>3.326282e-07</td>\n",
       "      <td>1.0</td>\n",
       "      <td>0</td>\n",
       "      <td>0.0</td>\n",
       "    </tr>\n",
       "    <tr>\n",
       "      <th>2058161</th>\n",
       "      <td>500.227051</td>\n",
       "      <td>-0.700610</td>\n",
       "      <td>14.0</td>\n",
       "      <td>0.058007</td>\n",
       "      <td>0.215849</td>\n",
       "      <td>-0.039104</td>\n",
       "      <td>21.0</td>\n",
       "      <td>1.0</td>\n",
       "      <td>3.155823</td>\n",
       "      <td>1.070734e-06</td>\n",
       "      <td>1.0</td>\n",
       "      <td>0</td>\n",
       "      <td>1.0</td>\n",
       "    </tr>\n",
       "    <tr>\n",
       "      <th>14032818</th>\n",
       "      <td>599.915588</td>\n",
       "      <td>-0.085527</td>\n",
       "      <td>12.0</td>\n",
       "      <td>0.034032</td>\n",
       "      <td>0.210441</td>\n",
       "      <td>-0.146284</td>\n",
       "      <td>21.0</td>\n",
       "      <td>1.0</td>\n",
       "      <td>0.526725</td>\n",
       "      <td>2.247224e-07</td>\n",
       "      <td>0.0</td>\n",
       "      <td>0</td>\n",
       "      <td>1.0</td>\n",
       "    </tr>\n",
       "    <tr>\n",
       "      <th>14436708</th>\n",
       "      <td>552.810852</td>\n",
       "      <td>0.905856</td>\n",
       "      <td>26.0</td>\n",
       "      <td>0.040498</td>\n",
       "      <td>0.212690</td>\n",
       "      <td>0.229917</td>\n",
       "      <td>1.0</td>\n",
       "      <td>1.0</td>\n",
       "      <td>1.106593</td>\n",
       "      <td>4.155380e-07</td>\n",
       "      <td>1.0</td>\n",
       "      <td>0</td>\n",
       "      <td>0.0</td>\n",
       "    </tr>\n",
       "    <tr>\n",
       "      <th>6280879</th>\n",
       "      <td>553.033203</td>\n",
       "      <td>0.611263</td>\n",
       "      <td>22.0</td>\n",
       "      <td>0.037585</td>\n",
       "      <td>0.194696</td>\n",
       "      <td>0.166960</td>\n",
       "      <td>21.0</td>\n",
       "      <td>1.0</td>\n",
       "      <td>0.610068</td>\n",
       "      <td>2.290875e-07</td>\n",
       "      <td>0.0</td>\n",
       "      <td>0</td>\n",
       "      <td>1.0</td>\n",
       "    </tr>\n",
       "    <tr>\n",
       "      <th>...</th>\n",
       "      <td>...</td>\n",
       "      <td>...</td>\n",
       "      <td>...</td>\n",
       "      <td>...</td>\n",
       "      <td>...</td>\n",
       "      <td>...</td>\n",
       "      <td>...</td>\n",
       "      <td>...</td>\n",
       "      <td>...</td>\n",
       "      <td>...</td>\n",
       "      <td>...</td>\n",
       "      <td>...</td>\n",
       "      <td>...</td>\n",
       "    </tr>\n",
       "    <tr>\n",
       "      <th>4550265</th>\n",
       "      <td>1635.989746</td>\n",
       "      <td>0.241327</td>\n",
       "      <td>31.0</td>\n",
       "      <td>0.071800</td>\n",
       "      <td>0.239992</td>\n",
       "      <td>0.049261</td>\n",
       "      <td>21.0</td>\n",
       "      <td>1.0</td>\n",
       "      <td>0.010086</td>\n",
       "      <td>4.414716e-06</td>\n",
       "      <td>0.0</td>\n",
       "      <td>5</td>\n",
       "      <td>1.0</td>\n",
       "    </tr>\n",
       "    <tr>\n",
       "      <th>5161788</th>\n",
       "      <td>1547.495972</td>\n",
       "      <td>-1.078493</td>\n",
       "      <td>26.0</td>\n",
       "      <td>0.015637</td>\n",
       "      <td>0.076848</td>\n",
       "      <td>0.032070</td>\n",
       "      <td>2.0</td>\n",
       "      <td>1.0</td>\n",
       "      <td>0.015814</td>\n",
       "      <td>4.033881e-06</td>\n",
       "      <td>1.0</td>\n",
       "      <td>5</td>\n",
       "      <td>0.0</td>\n",
       "    </tr>\n",
       "    <tr>\n",
       "      <th>4123698</th>\n",
       "      <td>1747.022339</td>\n",
       "      <td>0.353280</td>\n",
       "      <td>12.0</td>\n",
       "      <td>0.011660</td>\n",
       "      <td>0.050748</td>\n",
       "      <td>-0.498818</td>\n",
       "      <td>3.0</td>\n",
       "      <td>1.0</td>\n",
       "      <td>0.011906</td>\n",
       "      <td>8.898059e-06</td>\n",
       "      <td>1.0</td>\n",
       "      <td>5</td>\n",
       "      <td>0.0</td>\n",
       "    </tr>\n",
       "    <tr>\n",
       "      <th>468527</th>\n",
       "      <td>1766.292236</td>\n",
       "      <td>-0.908060</td>\n",
       "      <td>28.0</td>\n",
       "      <td>0.016022</td>\n",
       "      <td>0.161772</td>\n",
       "      <td>0.179349</td>\n",
       "      <td>1.0</td>\n",
       "      <td>1.0</td>\n",
       "      <td>0.008076</td>\n",
       "      <td>6.953024e-06</td>\n",
       "      <td>1.0</td>\n",
       "      <td>5</td>\n",
       "      <td>0.0</td>\n",
       "    </tr>\n",
       "    <tr>\n",
       "      <th>487234</th>\n",
       "      <td>1728.220825</td>\n",
       "      <td>-0.553083</td>\n",
       "      <td>19.0</td>\n",
       "      <td>0.006060</td>\n",
       "      <td>0.065065</td>\n",
       "      <td>-0.171296</td>\n",
       "      <td>2.0</td>\n",
       "      <td>1.0</td>\n",
       "      <td>0.007556</td>\n",
       "      <td>5.646689e-06</td>\n",
       "      <td>0.0</td>\n",
       "      <td>5</td>\n",
       "      <td>0.0</td>\n",
       "    </tr>\n",
       "  </tbody>\n",
       "</table>\n",
       "<p>5000004 rows × 13 columns</p>\n",
       "</div>"
      ],
      "text/plain": [
       "               jet_pt   jet_eta  jet_nTracks  jet_trackWidth  jet_trackC1  \\\n",
       "4749020    558.778503  1.956218          8.0        0.044092     0.164873   \n",
       "2058161    500.227051 -0.700610         14.0        0.058007     0.215849   \n",
       "14032818   599.915588 -0.085527         12.0        0.034032     0.210441   \n",
       "14436708   552.810852  0.905856         26.0        0.040498     0.212690   \n",
       "6280879    553.033203  0.611263         22.0        0.037585     0.194696   \n",
       "...               ...       ...          ...             ...          ...   \n",
       "4550265   1635.989746  0.241327         31.0        0.071800     0.239992   \n",
       "5161788   1547.495972 -1.078493         26.0        0.015637     0.076848   \n",
       "4123698   1747.022339  0.353280         12.0        0.011660     0.050748   \n",
       "468527    1766.292236 -0.908060         28.0        0.016022     0.161772   \n",
       "487234    1728.220825 -0.553083         19.0        0.006060     0.065065   \n",
       "\n",
       "          jet_trackBDT  jet_PartonTruthLabelID  equal_weight  event_weight  \\\n",
       "4749020      -0.270062                     1.0           1.0      0.885801   \n",
       "2058161      -0.039104                    21.0           1.0      3.155823   \n",
       "14032818     -0.146284                    21.0           1.0      0.526725   \n",
       "14436708      0.229917                     1.0           1.0      1.106593   \n",
       "6280879       0.166960                    21.0           1.0      0.610068   \n",
       "...                ...                     ...           ...           ...   \n",
       "4550265       0.049261                    21.0           1.0      0.010086   \n",
       "5161788       0.032070                     2.0           1.0      0.015814   \n",
       "4123698      -0.498818                     3.0           1.0      0.011906   \n",
       "468527        0.179349                     1.0           1.0      0.008076   \n",
       "487234       -0.171296                     2.0           1.0      0.007556   \n",
       "\n",
       "          flatpt_weight  is_forward  pt_idx  target  \n",
       "4749020    3.326282e-07         1.0       0     0.0  \n",
       "2058161    1.070734e-06         1.0       0     1.0  \n",
       "14032818   2.247224e-07         0.0       0     1.0  \n",
       "14436708   4.155380e-07         1.0       0     0.0  \n",
       "6280879    2.290875e-07         0.0       0     1.0  \n",
       "...                 ...         ...     ...     ...  \n",
       "4550265    4.414716e-06         0.0       5     1.0  \n",
       "5161788    4.033881e-06         1.0       5     0.0  \n",
       "4123698    8.898059e-06         1.0       5     0.0  \n",
       "468527     6.953024e-06         1.0       5     0.0  \n",
       "487234     5.646689e-06         0.0       5     0.0  \n",
       "\n",
       "[5000004 rows x 13 columns]"
      ]
     },
     "execution_count": 35,
     "metadata": {},
     "output_type": "execute_result"
    }
   ],
   "source": [
    "sample5"
   ]
  },
  {
   "cell_type": "code",
   "execution_count": 43,
   "metadata": {},
   "outputs": [
    {
     "data": {
      "image/png": "[encoded data removed]",
      "text/plain": [
       "<Figure size 640x480 with 1 Axes>"
      ]
     },
     "metadata": {},
     "output_type": "display_data"
    }
   ],
   "source": [
    "_, _, _ =plt.hist(sample5['jet_pt'], bins=pt_edges, weights=sample5['equal_weight'])"
   ]
  },
  {
   "cell_type": "code",
   "execution_count": 44,
   "metadata": {},
   "outputs": [
    {
     "data": {
      "image/png": "[encoded data removed]",
      "text/plain": [
       "<Figure size 640x480 with 1 Axes>"
      ]
     },
     "metadata": {},
     "output_type": "display_data"
    }
   ],
   "source": [
    "_, _, _ =plt.hist(sample5['jet_pt'], bins=np.linspace(500, 2000, 1501), weights=sample5['equal_weight'])"
   ]
  },
  {
   "cell_type": "code",
   "execution_count": null,
   "metadata": {},
   "outputs": [],
   "source": [
    "sample5 = []\n",
    "for i in range(6):\n",
    "    sub_sample = all_jets[all_jets['pt_idx'] == i]\n",
    "    sample5.append(sub_sample.sample(n_subsample))"
   ]
  },
  {
   "attachments": {},
   "cell_type": "markdown",
   "metadata": {},
   "source": [
    "### Test 2"
   ]
  },
  {
   "cell_type": "code",
   "execution_count": 66,
   "metadata": {},
   "outputs": [],
   "source": [
    "label_pt_bin = np.array([500, 600, 800, 1000, 1200, 1500, 2000])\n",
    "ratio = (np.diff(label_pt_bin) / (label_pt_bin[-1] - label_pt_bin[0]))\n",
    "ratio = ratio/ np.sum(ratio)"
   ]
  },
  {
   "cell_type": "code",
   "execution_count": 67,
   "metadata": {},
   "outputs": [],
   "source": [
    "n_subsample = n_sample * ratio"
   ]
  },
  {
   "cell_type": "code",
   "execution_count": 68,
   "metadata": {},
   "outputs": [
    {
     "data": {
      "text/plain": [
       "array([ 333333.33333333,  666666.66666667,  666666.66666667,\n",
       "        666666.66666667, 1000000.        , 1666666.66666667])"
      ]
     },
     "execution_count": 68,
     "metadata": {},
     "output_type": "execute_result"
    }
   ],
   "source": [
    "n_subsample"
   ]
  },
  {
   "cell_type": "code",
   "execution_count": 69,
   "metadata": {},
   "outputs": [],
   "source": [
    "sample5_test2 = []\n",
    "for i in range(6):\n",
    "    sub_sample = all_jets[all_jets['pt_idx'] == i]\n",
    "    sample5_test2.append(sub_sample.sample(int(n_subsample[i])))"
   ]
  },
  {
   "cell_type": "code",
   "execution_count": 70,
   "metadata": {},
   "outputs": [],
   "source": [
    "sample5_test2 = pd.concat(sample5_test2)"
   ]
  },
  {
   "cell_type": "code",
   "execution_count": 71,
   "metadata": {},
   "outputs": [
    {
     "data": {
      "image/png": "[encoded data removed]",
      "text/plain": [
       "<Figure size 640x480 with 1 Axes>"
      ]
     },
     "metadata": {},
     "output_type": "display_data"
    }
   ],
   "source": [
    "_, _, _ =plt.hist(sample5_test2['jet_pt'], bins=pt_edges, weights=sample5_test2['equal_weight'])"
   ]
  },
  {
   "cell_type": "code",
   "execution_count": 73,
   "metadata": {},
   "outputs": [],
   "source": [
    "sample5_test2.to_pickle('sample_testweight_5_test2')"
   ]
  },
  {
   "cell_type": "code",
   "execution_count": null,
   "metadata": {},
   "outputs": [],
   "source": [
    "# fine_pt_bin = np.linspace(500, 2000, 1501)\n",
    "# n_sample_fine_pt = n_sample // 1501 + 1\n",
    "# all_jets2 = all_jets.copy()\n",
    "# all_jets2['fine_pt_idx'] = pd.cut(x=all_jets2['jet_pt'], bins=fine_pt_bin, right=False, labels=False)\n",
    "# n_sample_fine_pt\n",
    "\n",
    "# sample5_test2 = []\n",
    "# for i in tqdm(range(1501)):\n",
    "#     sub_sample = all_jets2[all_jets2['fine_pt_idx'] == i]\n",
    "#     sample5_test2.append(all_jets2.sample(n_sample_fine_pt))"
   ]
  },
  {
   "attachments": {},
   "cell_type": "markdown",
   "metadata": {},
   "source": [
    "## Make 2 test samples"
   ]
  },
  {
   "cell_type": "code",
   "execution_count": 74,
   "metadata": {},
   "outputs": [],
   "source": [
    "n_test_sample = 500_000 # 0.5 M \n",
    "sample_testweight_testsample1 = all_jets[all_jets['pt_idx'] == 0].sample(n_test_sample, random_state = 101)\n",
    "sample_testweight_testsample1.to_pickle('sample_testweight_testsample1')\n"
   ]
  },
  {
   "attachments": {},
   "cell_type": "markdown",
   "metadata": {},
   "source": [
    "### update on test sample2"
   ]
  },
  {
   "cell_type": "code",
   "execution_count": 2,
   "metadata": {},
   "outputs": [],
   "source": [
    "#### This is because the whole number of jets in 1500GeV to 2000GeV is 5M, and the following commented is choose many seen samples  \n",
    "\n",
    "# sample_testweight_testsample2 = all_jets[all_jets['pt_idx'] == 5].sample(n_test_sample, random_state = 101)\n",
    "# sample_testweight_testsample2.to_pickle('sample_testweight_testsample2')\n",
    "\n",
    "from sklearn.model_selection import train_test_split\n",
    "sample4 = pd.read_pickle('sample_testweight_4')\n",
    "sample_dev, sample4_test = train_test_split(sample4, test_size=0.1, random_state=456)\n",
    "sample4_test.to_pickle('sample_testweight_testsample2')"
   ]
  }
 ],
 "metadata": {
  "kernelspec": {
   "display_name": "ml",
   "language": "python",
   "name": "python3"
  },
  "language_info": {
   "codemirror_mode": {
    "name": "ipython",
    "version": 3
   },
   "file_extension": ".py",
   "mimetype": "text/x-python",
   "name": "python",
   "nbconvert_exporter": "python",
   "pygments_lexer": "ipython3",
   "version": "3.9.15 | packaged by conda-forge | (main, Nov 22 2022, 15:55:03) \n[GCC 10.4.0]"
  },
  "orig_nbformat": 4,
  "vscode": {
   "interpreter": {
    "hash": "14e3b66b9136298b1438aa954b24fb6042eb4a7b64fe2e32b506f4a92d36ab42"
   }
  }
 },
 "nbformat": 4,
 "nbformat_minor": 2
}
