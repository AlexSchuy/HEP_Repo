{
 "cells": [
  {
   "cell_type": "code",
   "execution_count": null,
   "metadata": {},
   "outputs": [],
   "source": [
    "import argparse\n",
    "import numpy as np\n",
    "import matplotlib.pyplot as plt\n",
    "import pandas as pd\n",
    "\n",
    "import uproot \n",
    "import awkward as ak\n",
    "from pathlib import Path\n",
    "\n",
    "from typing import Dict, List \n",
    "import re\n",
    "import pickle\n",
    "from tqdm import tqdm\n",
    "\n",
    "from sklearn.tree import DecisionTreeClassifier\n",
    "from sklearn.ensemble import AdaBoostClassifier, GradientBoostingClassifier\n",
    "from sklearn.metrics import classification_report, roc_auc_score\n",
    "from sklearn.model_selection import train_test_split\n",
    "\n"
   ]
  },
  {
   "cell_type": "code",
   "execution_count": null,
   "metadata": {},
   "outputs": [],
   "source": [
    "training_vars = ['jet_pt', 'jet_eta', 'jet_nTracks', 'jet_trackWidth', 'jet_trackC1']\n",
    "training_weight = ['equal_weight']\n",
    "gbdt_filename = './gbdt.model'\n",
    "\n",
    "sample_all_jets_path = '../../../samples/sample_allpt_all_jets.pkl'\n",
    "sample_path = '../../../samples/sample_allpt_12M_jets.pkl'\n",
    "\n",
    "label_pt_bin = [500, 600, 800, 1000, 1200, 1500, 2000]\n",
    "\n",
    "n_estimators = 100\n",
    "learning_rate = 1.0 \n",
    "max_depth = 2"
   ]
  },
  {
   "attachments": {},
   "cell_type": "markdown",
   "metadata": {},
   "source": [
    "# Load Data"
   ]
  },
  {
   "cell_type": "code",
   "execution_count": null,
   "metadata": {},
   "outputs": [],
   "source": [
    "sample = pd.read_pickle(sample_path)"
   ]
  },
  {
   "cell_type": "code",
   "execution_count": null,
   "metadata": {},
   "outputs": [],
   "source": [
    "sample.columns"
   ]
  },
  {
   "attachments": {},
   "cell_type": "markdown",
   "metadata": {},
   "source": [
    "# Train with default config"
   ]
  },
  {
   "cell_type": "code",
   "execution_count": null,
   "metadata": {},
   "outputs": [],
   "source": [
    "X = sample.iloc[:, :-1]\n",
    "y = sample.iloc[:, -1]\n",
    "\n",
    "X_dev,X_eval, y_dev,y_eval = train_test_split(X, y, test_size=0.1, random_state=456)\n",
    "X_train, X_test, y_train, y_test = train_test_split(X_dev, y_dev, test_size=0.1/0.9, random_state=789)"
   ]
  },
  {
   "cell_type": "code",
   "execution_count": null,
   "metadata": {},
   "outputs": [],
   "source": [
    "event_weight_idx = X.columns.get_loc('event_weight')\n",
    "equal_weight_idx = X.columns.get_loc('equal_weight')\n",
    "flatpt_weight_idx = X.columns.get_loc('flatpt_weight')"
   ]
  },
  {
   "cell_type": "code",
   "execution_count": null,
   "metadata": {},
   "outputs": [],
   "source": [
    "X_train[training_vars].head()"
   ]
  },
  {
   "cell_type": "code",
   "execution_count": null,
   "metadata": {},
   "outputs": [],
   "source": [
    "X_train[training_weight].head()"
   ]
  },
  {
   "cell_type": "code",
   "execution_count": null,
   "metadata": {},
   "outputs": [],
   "source": [
    "bdt = GradientBoostingClassifier(n_estimators=n_estimators, learning_rate=learning_rate, \n",
    "                                 max_depth=max_depth, random_state=42, verbose=1)\n",
    "\n",
    "bdt.fit(X_dev[training_vars], y_dev, sample_weight=X_dev[training_weight].to_numpy().flatten())\n",
    "\n",
    "### "
   ]
  },
  {
   "cell_type": "code",
   "execution_count": null,
   "metadata": {},
   "outputs": [],
   "source": [
    "pickle.dump(bdt, open(gbdt_filename, 'wb'))"
   ]
  },
  {
   "cell_type": "code",
   "execution_count": null,
   "metadata": {},
   "outputs": [],
   "source": [
    "bdt.feature_importances_"
   ]
  },
  {
   "attachments": {},
   "cell_type": "markdown",
   "metadata": {},
   "source": [
    "# Predict on test datasets"
   ]
  },
  {
   "cell_type": "code",
   "execution_count": null,
   "metadata": {},
   "outputs": [],
   "source": [
    "y_test_decisions = bdt.predict_proba(X_test[training_vars])[:,1]\n",
    "y_test_gluon_id = np.where(y_test==1)[0]\n",
    "y_test_quark_id = np.where(y_test==0)[0]\n",
    "bins_scores = np.linspace(0, 1, 101)\n",
    "plt.hist(y_test_decisions[y_test_gluon_id], weights=X_test.iloc[y_test_gluon_id, X_test.columns.get_loc('event_weight')], bins= bins_scores, alpha=0.5, label='gluon'+f\"_num: {len(y_test_gluon_id)}\", color = 'blue') # add the weights! \n",
    "plt.hist(y_test_decisions[y_test_quark_id], weights=X_test.iloc[y_test_quark_id, X_test.columns.get_loc('event_weight')], bins= bins_scores, alpha=0.5, label='quark'+f\"_num: {len(y_test_quark_id)}\", color = 'red')\n",
    "plt.legend(loc='upper left')\n",
    "plt.text(0.05, 0.75, f\"num: {len(X_test)}\", transform=plt.gca().transAxes)\n",
    "plt.xlabel(\"GBDT Pred Proba\")\n",
    "plt.ylabel(\"number of jets\")\n",
    "plt.title(r\"New Training with event weight\")\n",
    "plt.savefig(\"GBDT_Training_pred_proba.png\")\n",
    "plt.show()"
   ]
  },
  {
   "cell_type": "code",
   "execution_count": null,
   "metadata": {},
   "outputs": [],
   "source": [
    "y_test_decisions = bdt.decision_function(X_test[training_vars])\n",
    "y_test_gluon_id = np.where(y_test==1)[0]\n",
    "y_test_quark_id = np.where(y_test==0)[0]\n",
    "bins_scores = np.linspace(-5, 5, 101)\n",
    "plt.hist(y_test_decisions[y_test_gluon_id], weights=X_test.iloc[y_test_gluon_id, X_test.columns.get_loc('event_weight')], bins= bins_scores, alpha=0.5, label='gluon'+f\"_num: {len(y_test_gluon_id)}\", color = 'blue') # add the weights! \n",
    "plt.hist(y_test_decisions[y_test_quark_id], weights=X_test.iloc[y_test_quark_id, X_test.columns.get_loc('event_weight')], bins= bins_scores, alpha=0.5, label='quark'+f\"_num: {len(y_test_quark_id)}\", color = 'red')\n",
    "plt.legend(loc='upper left')\n",
    "plt.text(0.05, 0.75, f\"num: {len(X_test)}\", transform=plt.gca().transAxes)\n",
    "plt.xlabel(\"GBDT Decision Function\")\n",
    "plt.ylabel(\"number of jets\")\n",
    "plt.title(r\"New Training with event weight\")\n",
    "plt.savefig(\"GBDT_Training_decision_function.png\")\n",
    "plt.show()"
   ]
  },
  {
   "attachments": {},
   "cell_type": "markdown",
   "metadata": {},
   "source": [
    "# ROC"
   ]
  },
  {
   "cell_type": "code",
   "execution_count": null,
   "metadata": {},
   "outputs": [],
   "source": [
    "from sklearn.metrics import roc_curve, auc\n",
    "\n",
    "def Draw_ROC_all(y, decisions, y_tmva, y_ntrk, X_weight, features):\n",
    "    # Compute ROC curve and area under the curve\n",
    "    fpr, tpr, thresholds = roc_curve(y, decisions, sample_weight = X_weight)\n",
    "    fpr_tmva, tpr_tmva, thresholds_tmva = roc_curve(y, y_tmva, sample_weight = X_weight)\n",
    "    fpr_ntrk, tpr_ntrk, thresholds_ntrk =  roc_curve(y, y_ntrk, sample_weight = X_weight)\n",
    "\n",
    "    roc_auc = auc(fpr, tpr)\n",
    "    roc_auc_tmva = auc(fpr_tmva, tpr_tmva)\n",
    "    roc_auc_ntrk = auc(fpr_ntrk, tpr_ntrk)\n",
    "\n",
    "\n",
    "    plt.plot(1-fpr, tpr, lw=1, label='ROC_NewTraining (area = %0.3f)'%(roc_auc))\n",
    "    plt.plot(1-fpr_tmva, tpr_tmva, lw=1, label='ROC_TMVA (area = %0.3f)'%(roc_auc_tmva))\n",
    "    plt.plot(1-fpr_ntrk, tpr_ntrk, lw=1, label='ROC_Ntrk (area = %0.3f)'%(roc_auc_ntrk))\n",
    "\n",
    "    plt.plot([0, 1], [1, 0], '--', color=(0.6, 0.6, 0.6), label='Luck')\n",
    "    plt.xlim([-0.05, 1.05])\n",
    "    plt.ylim([-0.05, 1.05])\n",
    "    plt.xlabel('False Positive Rate')\n",
    "    plt.ylabel('True Positive Rate')\n",
    "    plt.title(f'ROC with features:{features}'+r\" physical $p_{T}$ weight\")\n",
    "    plt.legend(loc=\"lower left\")\n",
    "    plt.grid()\n",
    "    plt.savefig(\"ROC.png\")\n",
    "    plt.show()\n",
    "\n",
    "Draw_ROC_all(y_test, y_test_decisions, y_tmva=X_test.iloc[:,X_test.columns.get_loc('jet_trackBDT')] , y_ntrk=X_test.iloc[:,X_test.columns.get_loc('jet_nTracks')], X_weight=X_test['event_weight'], features=\" 4 vars\")\n"
   ]
  },
  {
   "attachments": {},
   "cell_type": "markdown",
   "metadata": {},
   "source": [
    "# Overtrain validation"
   ]
  },
  {
   "cell_type": "code",
   "execution_count": null,
   "metadata": {},
   "outputs": [],
   "source": [
    "# y_test_decisions = bdt.predict_proba(X_test[training_vars])[:,1]\n",
    "# y_dev_decisions = bdt.predict_proba(X_dev[training_vars])[:,1]\n",
    "\n",
    "y_test_decisions = bdt.decision_function(X_test[training_vars])\n",
    "y_dev_decisions = bdt.decision_function(X_dev[training_vars])\n",
    "\n",
    "y_test_decisions_gluon = y_test_decisions[np.where(y_test==1)]\n",
    "y_test_decisions_quark = y_test_decisions[np.where(y_test==0)]\n",
    "y_dev_decisions_gluon = y_dev_decisions[np.where(y_dev==1)]\n",
    "y_dev_decisions_quark = y_dev_decisions[np.where(y_dev==0)]\n",
    "decisions = []\n",
    "decisions.append(y_dev_decisions_gluon)\n",
    "decisions.append(y_dev_decisions_quark)\n",
    "decisions.append(y_test_decisions_gluon)\n",
    "decisions.append(y_test_decisions_quark)\n",
    "\n",
    "custom_bins = np.linspace(-5, 5, 101)\n",
    "custom_bin_width = (custom_bins[1] - custom_bins[0])\n",
    "custom_bin_center = (custom_bins[:-1] + custom_bins[1:]) / 2\n",
    "\n",
    "fig, ax = plt.subplots()\n",
    "ax.hist(decisions[0], weights = X_dev.iloc[np.where(y_dev==1)[0], event_weight_idx],\n",
    "            color='b', alpha=0.5, bins=custom_bins,\n",
    "            histtype='stepfilled', density=True,\n",
    "            label='Gluon (train)')\n",
    "ax.hist(decisions[1], weights = X_dev.iloc[np.where(y_dev==0)[0], event_weight_idx],\n",
    "            color='r', alpha=0.5, bins=custom_bins,\n",
    "            histtype='stepfilled', density=True,\n",
    "            label='Quark (train)')\n",
    "\n",
    "hist, bins = np.histogram(decisions[2], weights=X_test.iloc[np.where(y_test==1)[0], event_weight_idx],\n",
    "                            bins=custom_bins,  density=True)\n",
    "scale = len(decisions[2]) / sum(hist)\n",
    "err = np.sqrt(hist * scale) / scale\n",
    "\n",
    "plt.errorbar(custom_bin_center, hist, yerr=err, fmt='o', c='b', label='Gluon (test)')\n",
    "\n",
    "hist, bins = np.histogram(decisions[3], weights=X_test.iloc[np.where(y_test==0)[0], event_weight_idx],\n",
    "                            bins=custom_bins, density=True)\n",
    "scale = len(decisions[2]) / sum(hist)\n",
    "err = np.sqrt(hist * scale) / scale\n",
    "\n",
    "\n",
    "plt.errorbar(custom_bin_center, hist, yerr=err, fmt='o', c='r', label='Quark (test)')\n",
    "plt.xlabel(\"GBDT decision function output\")\n",
    "plt.ylabel(\"Arbitrary units\")\n",
    "plt.legend(loc='best')\n",
    "plt.title(\"Overtraining test\")"
   ]
  },
  {
   "attachments": {},
   "cell_type": "markdown",
   "metadata": {},
   "source": [
    "# Explore Scale of decision func"
   ]
  },
  {
   "cell_type": "code",
   "execution_count": null,
   "metadata": {},
   "outputs": [],
   "source": [
    "print(dir(bdt))"
   ]
  },
  {
   "cell_type": "code",
   "execution_count": null,
   "metadata": {},
   "outputs": [],
   "source": [
    "# Okay the base estimator is DecisionTreeRegressor, inspired by Lightgdm \n",
    "bdt.estimators_[-1]"
   ]
  },
  {
   "cell_type": "code",
   "execution_count": null,
   "metadata": {},
   "outputs": [],
   "source": [
    "# Test the predict output by a DecisionTreeRegressor\n",
    "bdt.estimators_[0][0].predict(X_test[training_vars].iloc[0:10].values)"
   ]
  },
  {
   "attachments": {},
   "cell_type": "markdown",
   "metadata": {},
   "source": [
    "# Test Extraction on Current Sample"
   ]
  },
  {
   "attachments": {},
   "cell_type": "markdown",
   "metadata": {},
   "source": [
    "## inclusive"
   ]
  },
  {
   "attachments": {},
   "cell_type": "markdown",
   "metadata": {},
   "source": [
    "### feature distribution"
   ]
  },
  {
   "cell_type": "code",
   "execution_count": null,
   "metadata": {},
   "outputs": [],
   "source": [
    "# y_sample = bdt.predict_proba(sample[training_vars])[:,1]\n",
    "y_sample = bdt.decision_function(sample[training_vars])\n",
    "\n",
    "sample['new_GBDTscore'] = y_sample\n",
    "\n",
    "features = [*sample.columns[:6]] + ['new_GBDTscore'] \n",
    "HistBins = {\n",
    "    features[0] : np.linspace(0, 2000, 61), \n",
    "    features[1] : np.linspace(-2.5, 2.5, 51),\n",
    "    features[2] : np.linspace(0, 60, 61),\n",
    "    features[3] : np.linspace(0, 0.4, 61), \n",
    "    features[4] : np.linspace(0, 0.4, 61), \n",
    "    features[5] : np.linspace(-1.0, 1.0, 51), \n",
    "    features[6] : np.linspace(-5, 5.0, 51),\n",
    "}\n",
    "\n",
    "sample_forward = sample[sample['is_forward']==1]\n",
    "sample_central = sample[sample['is_forward']==0]\n",
    "\n",
    "for feature_name in features:\n",
    "    custom_bins = HistBins[feature_name]\n",
    "    fig, (ax0, ax1) = plt.subplots(nrows=1, ncols=2, figsize = (10,5))\n",
    "    ax0.hist(sample_forward[feature_name], bins = custom_bins, weights = sample_forward['event_weight'], label = f'forward, num: {len(sample_forward)}', color='red', alpha = 0.5)\n",
    "    ax0.hist(sample_central[feature_name], bins = custom_bins, weights = sample_central['event_weight'], label = f'central, num: {len(sample_central)}', color='blue', alpha = 0.5)\n",
    "    ax0.legend()\n",
    "    ax0.set_xlabel(feature_name)\n",
    "    ax0.set_ylabel(f\"Weighted Yield\")\n",
    "    ax0.set_title(f\"Weighted Yield Comparison\")\n",
    "\n",
    "    if feature_name == 'jet_pt':\n",
    "        ax0.set_yscale('log')\n",
    "\n",
    "    ax1.hist(sample_forward[feature_name], bins = custom_bins, weights = sample_forward['event_weight'], label = 'forward', color='red', alpha = 0.5, density=True)\n",
    "    ax1.hist(sample_central[feature_name], bins = custom_bins, weights = sample_central['event_weight'], label = 'central', color='blue', alpha = 0.5, density=True)\n",
    "    ax1.legend()\n",
    "    ax1.set_xlabel(feature_name)\n",
    "    ax1.set_ylabel(f\"Weighted Shape\")\n",
    "    ax1.set_title(f\"Weighted Shape Comparison\")\n",
    "    if feature_name == 'jet_pt':\n",
    "        ax1.set_yscale('log')\n",
    "    fig.suptitle(f\"Forward vs Central: {feature_name}\")\n",
    "\n",
    "    plt.plot()\n",
    "    "
   ]
  },
  {
   "attachments": {},
   "cell_type": "markdown",
   "metadata": {},
   "source": [
    "### test extraction"
   ]
  },
  {
   "cell_type": "code",
   "execution_count": null,
   "metadata": {},
   "outputs": [],
   "source": [
    "forward_quark = sample[(sample['is_forward']==1) &(sample['target']==0)]\n",
    "forward_gluon = sample[(sample['is_forward']==1) &(sample['target']==1)]\n",
    "central_quark = sample[(sample['is_forward']==0) &(sample['target']==0)]\n",
    "central_gluon = sample[(sample['is_forward']==0) &(sample['target']==1)]\n",
    "forward = sample[(sample['is_forward']==1)]\n",
    "central = sample[(sample['is_forward']==0)]\n",
    "quark = sample[sample['target']==0]\n",
    "gluon = sample[sample['target']==1]\n",
    "\n",
    "newbdt_bins = np.linspace(-5, 5, 101)\n",
    "fig, ax = plt.subplots(nrows=1, ncols=2, figsize=(10,5))\n",
    "feature = 'new_GBDTscore'\n",
    "ax[0].hist(forward_quark[feature], bins=newbdt_bins, weights=forward_quark['event_weight'], \n",
    "          label=f'forward quark, num:{len(forward_quark)}', color='red', alpha = 0.5, density=True)\n",
    "ax[0].hist(central_quark[feature], bins=newbdt_bins, weights=central_quark['event_weight'], \n",
    "          label=f'central quark, num:{len(central_quark)}', color='blue', alpha = 0.5, density=True)\n",
    "ax[0].legend()\n",
    "ax[0].set_title('quark: Forward vs. Central')\n",
    "\n",
    "ax[1].hist(forward_gluon[feature], bins=newbdt_bins, weights=forward_gluon['event_weight'],\n",
    "          label=f'forward gluon, num:{len(forward_gluon)}', color='red', alpha = 0.5, density=True)\n",
    "ax[1].hist(central_gluon[feature], bins=newbdt_bins, weights=central_gluon['event_weight'], \n",
    "          label=f'central gluon, num:{len(central_gluon)}', color='blue', alpha = 0.5, density=True)\n",
    "ax[1].set_title('gluon: Forward vs. Central')\n",
    "ax[1].legend()\n",
    "fig.suptitle(feature)\n",
    "\n",
    "\n",
    "n_forward_quark = len(forward_quark)\n",
    "n_central_quark = len(central_quark)\n",
    "n_forward = len(forward)\n",
    "n_central = len(central)\n",
    "\n",
    "frac_forward_quark = n_forward_quark / n_forward\n",
    "frac_central_quark = n_central_quark / n_central\n",
    "\n",
    "frac_forward_gluon = 1 - frac_forward_quark\n",
    "frac_central_gluon = 1 - frac_central_quark\n",
    "\n",
    "f = np.array([[frac_forward_quark,  frac_forward_gluon], [frac_central_quark, frac_central_gluon]])\n",
    "f_inv = np.linalg.inv(f)\n",
    "\n",
    "\n",
    "# Do a simple extraction test\n",
    "# MC closure \n",
    "hist_forward, _ = np.histogram(forward[feature], newbdt_bins, weights=forward['event_weight'], density = True)\n",
    "hist_central, _ = np.histogram(central[feature], newbdt_bins, weights=central['event_weight'], density = True)\n",
    "\n",
    "\n",
    "extract_p_Quark = f_inv[0][0] * hist_forward + f_inv[0][1]* hist_central \n",
    "extract_p_Gluon = f_inv[1][0] * hist_forward + f_inv[1][1]* hist_central \n",
    "\n",
    "fig, ax = plt.subplots(nrows=1, ncols=2, figsize=(10,5))\n",
    "ax[0].hist(quark[feature], bins=newbdt_bins, weights=quark['event_weight'], \n",
    "          label=f'truth quark', color='red', alpha = 0.5, density=True)\n",
    "ax[0].stairs(values=extract_p_Quark, edges=newbdt_bins, label=f'extracted quark(MC)')\n",
    "ax[0].legend()\n",
    "ax[0].set_title('quark: Truth vs. Extracted MC')\n",
    "\n",
    "ax[1].hist(gluon[feature], bins=newbdt_bins, weights=gluon['event_weight'], \n",
    "          label=f'truth gluon', color='blue', alpha = 0.5, density=True)\n",
    "ax[1].stairs(values=extract_p_Gluon, edges=newbdt_bins, label=f'extracted gluon(MC)')\n",
    "ax[1].legend()\n",
    "ax[1].set_title('gluon: Truth vs. Extracted MC')\n",
    "\n",
    "fig.suptitle(feature)\n"
   ]
  },
  {
   "attachments": {},
   "cell_type": "markdown",
   "metadata": {},
   "source": [
    "## pt bins "
   ]
  },
  {
   "attachments": {},
   "cell_type": "markdown",
   "metadata": {},
   "source": [
    "### new_GBDTscore distribution"
   ]
  },
  {
   "cell_type": "code",
   "execution_count": null,
   "metadata": {},
   "outputs": [],
   "source": [
    "for pt_idx, pt in enumerate(label_pt_bin[:-1]):\n",
    "    sample_pt = sample[sample['pt_idx'] == pt_idx] \n",
    "\n",
    "    sample_forward = sample_pt[sample_pt['is_forward']==1]\n",
    "    sample_central = sample_pt[sample_pt['is_forward']==0]\n",
    "\n",
    "    for feature_name in features[-1:]:\n",
    "        custom_bins = HistBins[feature_name]\n",
    "        fig, (ax0, ax1) = plt.subplots(nrows=1, ncols=2, figsize = (10,5))\n",
    "        ax0.hist(sample_forward[feature_name], bins = custom_bins, weights = sample_forward['event_weight'], label = f'forward, num: {len(sample_forward)}', color='red', alpha = 0.5)\n",
    "        ax0.hist(sample_central[feature_name], bins = custom_bins, weights = sample_central['event_weight'], label = f'central, num: {len(sample_central)}', color='blue', alpha = 0.5)\n",
    "        ax0.legend()\n",
    "        ax0.set_xlabel(feature_name)\n",
    "        ax0.set_ylabel(f\"Weighted Yield\")\n",
    "        ax0.set_title(f\"Weighted Yield Comparison\")\n",
    "        if feature_name == 'jet_pt':\n",
    "            ax0.set_yscale('log')\n",
    "\n",
    "        ax1.hist(sample_forward[feature_name], bins = custom_bins, weights = sample_forward['event_weight'], label = 'forward', color='red', alpha = 0.5, density=True)\n",
    "        ax1.hist(sample_central[feature_name], bins = custom_bins, weights = sample_central['event_weight'], label = 'central', color='blue', alpha = 0.5, density=True)\n",
    "        ax1.legend()\n",
    "        ax1.set_xlabel(feature_name)\n",
    "        ax1.set_ylabel(f\"Weighted Shape\")\n",
    "        ax1.set_title(f\"Weighted Shape Comparison\")\n",
    "        if feature_name == 'jet_pt':\n",
    "            ax1.set_yscale('log')\n",
    "        fig.suptitle(f\"{pt}GeV, Forward vs Central: {feature_name}\")\n",
    "        plt.plot()\n",
    "    "
   ]
  },
  {
   "attachments": {},
   "cell_type": "markdown",
   "metadata": {},
   "source": [
    "### test extraction"
   ]
  },
  {
   "cell_type": "code",
   "execution_count": null,
   "metadata": {},
   "outputs": [],
   "source": [
    "for pt_idx, pt in enumerate(label_pt_bin[:-1]):\n",
    "    sample_pt = sample[sample['pt_idx'] == pt_idx] \n",
    "    _sample = sample_pt\n",
    "    forward_quark = _sample[(_sample['is_forward']==1) &(_sample['target']==0)]\n",
    "    forward_gluon = _sample[(_sample['is_forward']==1) &(_sample['target']==1)]\n",
    "    central_quark = _sample[(_sample['is_forward']==0) &(_sample['target']==0)]\n",
    "    central_gluon = _sample[(_sample['is_forward']==0) &(_sample['target']==1)]\n",
    "    forward = _sample[(_sample['is_forward']==1)]\n",
    "    central = _sample[(_sample['is_forward']==0)]\n",
    "    quark = _sample[_sample['target']==0]\n",
    "    gluon = _sample[_sample['target']==1]\n",
    "\n",
    "    newbdt_bins = np.linspace(-5, 5, 101)\n",
    "    fig, ax = plt.subplots(nrows=1, ncols=2, figsize=(10,5))\n",
    "    feature = 'new_GBDTscore'\n",
    "    ax[0].hist(forward_quark[feature], bins=newbdt_bins, weights=forward_quark['event_weight'], \n",
    "            label=f'forward quark, num:{len(forward_quark)}', color='red', alpha = 0.5, density=True)\n",
    "    ax[0].hist(central_quark[feature], bins=newbdt_bins, weights=central_quark['event_weight'], \n",
    "            label=f'central quark, num:{len(central_quark)}', color='blue', alpha = 0.5, density=True)\n",
    "    ax[0].legend()\n",
    "    ax[0].set_title('quark: Forward vs. Central')\n",
    "\n",
    "    ax[1].hist(forward_gluon[feature], bins=newbdt_bins, weights=forward_gluon['event_weight'],\n",
    "            label=f'forward gluon, num:{len(forward_gluon)}', color='red', alpha = 0.5, density=True)\n",
    "    ax[1].hist(central_gluon[feature], bins=newbdt_bins, weights=central_gluon['event_weight'], \n",
    "            label=f'central gluon, num:{len(central_gluon)}', color='blue', alpha = 0.5, density=True)\n",
    "    ax[1].set_title('gluon: Forward vs. Central')\n",
    "    ax[1].legend()\n",
    "    fig.suptitle(f\"{pt} GeV, Forward vs Central for parton, {feature}\")\n",
    "\n",
    "\n",
    "\n",
    "\n",
    "    n_forward_quark = len(forward_quark)\n",
    "    n_central_quark = len(central_quark)\n",
    "    n_forward = len(forward)\n",
    "    n_central = len(central)\n",
    "\n",
    "    frac_forward_quark = n_forward_quark / n_forward\n",
    "    frac_central_quark = n_central_quark / n_central\n",
    "\n",
    "    frac_forward_gluon = 1 - frac_forward_quark\n",
    "    frac_central_gluon = 1 - frac_central_quark\n",
    "\n",
    "    f = np.array([[frac_forward_quark,  frac_forward_gluon], [frac_central_quark, frac_central_gluon]])\n",
    "    f_inv = np.linalg.inv(f)\n",
    "\n",
    "\n",
    "    # Do a simple extraction test\n",
    "    # MC closure \n",
    "    hist_forward, _ = np.histogram(forward[feature], newbdt_bins, weights=forward['event_weight'], density = True)\n",
    "    hist_central, _ = np.histogram(central[feature], newbdt_bins, weights=central['event_weight'], density = True)\n",
    "\n",
    "\n",
    "    extract_p_Quark = f_inv[0][0] * hist_forward + f_inv[0][1]* hist_central \n",
    "    extract_p_Gluon = f_inv[1][0] * hist_forward + f_inv[1][1]* hist_central \n",
    "\n",
    "    fig, ax = plt.subplots(nrows=1, ncols=2, figsize=(10,5))\n",
    "    ax[0].hist(quark[feature], bins=newbdt_bins, weights=quark['event_weight'], \n",
    "            label=f'truth quark', color='red', alpha = 0.5, density=True)\n",
    "    ax[0].stairs(values=extract_p_Quark, edges=newbdt_bins, label=f'extracted quark(MC)')\n",
    "    ax[0].legend()\n",
    "    ax[0].set_title('quark: Truth vs. Extracted MC')\n",
    "\n",
    "    ax[1].hist(gluon[feature], bins=newbdt_bins, weights=gluon['event_weight'], \n",
    "            label=f'truth gluon', color='blue', alpha = 0.5, density=True)\n",
    "    ax[1].stairs(values=extract_p_Gluon, edges=newbdt_bins, label=f'extracted gluon(MC)')\n",
    "    ax[1].legend()\n",
    "    ax[1].set_title('gluon: Truth vs. Extracted MC')\n",
    "\n",
    "    fig.suptitle(f\"{pt} GeV, Extraction, {feature}\")"
   ]
  },
  {
   "attachments": {},
   "cell_type": "markdown",
   "metadata": {},
   "source": [
    "# Test Extraction on whole period"
   ]
  },
  {
   "cell_type": "code",
   "execution_count": null,
   "metadata": {},
   "outputs": [],
   "source": [
    "with open(sample_all_jets_path, 'rb') as f:\n",
    "    sample_all_jets = pd.read_pickle(f)\n",
    "\n",
    "# y_sample_all_jets = bdt.predict_proba(sample_all_jets[training_vars])[:,1]\n",
    "y_sample_all_jets = bdt.decision_function(sample_all_jets[training_vars])\n",
    "\n",
    "sample_all_jets['new_GBDTscore'] = y_sample_all_jets\n",
    "features = [*sample_all_jets.columns[:6]] + ['new_GBDTscore'] \n",
    "HistBins = {\n",
    "    features[0] : np.linspace(0, 2000, 61), \n",
    "    features[1] : np.linspace(-2.5, 2.5, 51),\n",
    "    features[2] : np.linspace(0, 60, 61),\n",
    "    features[3] : np.linspace(0, 0.4, 61), \n",
    "    features[4] : np.linspace(0, 0.4, 61), \n",
    "    features[5] : np.linspace(-1.0, 1.0, 51), \n",
    "    features[6] : np.linspace(-5, 5.0, 51),\n",
    "}\n",
    "\n",
    "_sample = sample_all_jets"
   ]
  },
  {
   "attachments": {},
   "cell_type": "markdown",
   "metadata": {},
   "source": [
    "## inclusive"
   ]
  },
  {
   "attachments": {},
   "cell_type": "markdown",
   "metadata": {},
   "source": [
    "### feature distribution"
   ]
  },
  {
   "cell_type": "code",
   "execution_count": null,
   "metadata": {},
   "outputs": [],
   "source": [
    "sample_forward = _sample[_sample['is_forward']==1]\n",
    "sample_central = _sample[_sample['is_forward']==0]\n",
    "\n",
    "for feature_name in features:\n",
    "    custom_bins = HistBins[feature_name]\n",
    "    fig, (ax0, ax1) = plt.subplots(nrows=1, ncols=2, figsize = (10,5))\n",
    "    ax0.hist(sample_forward[feature_name], bins = custom_bins, weights = sample_forward['event_weight'], label = f'forward, num: {len(sample_forward)}', color='red', alpha = 0.5)\n",
    "    ax0.hist(sample_central[feature_name], bins = custom_bins, weights = sample_central['event_weight'], label = f'central, num: {len(sample_central)}', color='blue', alpha = 0.5)\n",
    "    ax0.legend()\n",
    "    ax0.set_xlabel(feature_name)\n",
    "    ax0.set_ylabel(f\"Weighted Yield\")\n",
    "    ax0.set_title(f\"Weighted Yield Comparison\")\n",
    "\n",
    "    if feature_name == 'jet_pt':\n",
    "        ax0.set_yscale('log')\n",
    "\n",
    "    ax1.hist(sample_forward[feature_name], bins = custom_bins, weights = sample_forward['event_weight'], label = 'forward', color='red', alpha = 0.5, density=True)\n",
    "    ax1.hist(sample_central[feature_name], bins = custom_bins, weights = sample_central['event_weight'], label = 'central', color='blue', alpha = 0.5, density=True)\n",
    "    ax1.legend()\n",
    "    ax1.set_xlabel(feature_name)\n",
    "    ax1.set_ylabel(f\"Weighted Shape\")\n",
    "    ax1.set_title(f\"Weighted Shape Comparison\")\n",
    "    if feature_name == 'jet_pt':\n",
    "        ax1.set_yscale('log')\n",
    "    fig.suptitle(f\"Forward vs Central: {feature_name}\")\n",
    "\n",
    "    plt.plot()\n",
    "    "
   ]
  },
  {
   "attachments": {},
   "cell_type": "markdown",
   "metadata": {},
   "source": [
    "### test extraction"
   ]
  },
  {
   "cell_type": "code",
   "execution_count": null,
   "metadata": {},
   "outputs": [],
   "source": [
    "forward_quark = _sample[(_sample['is_forward']==1) &(_sample['target']==0)]\n",
    "forward_gluon = _sample[(_sample['is_forward']==1) &(_sample['target']==1)]\n",
    "central_quark = _sample[(_sample['is_forward']==0) &(_sample['target']==0)]\n",
    "central_gluon = _sample[(_sample['is_forward']==0) &(_sample['target']==1)]\n",
    "forward = _sample[(_sample['is_forward']==1)]\n",
    "central = _sample[(_sample['is_forward']==0)]\n",
    "quark = _sample[_sample['target']==0]\n",
    "gluon = _sample[_sample['target']==1]\n",
    "\n",
    "newbdt_bins = np.linspace(-5, 5.0, 101)\n",
    "fig, ax = plt.subplots(nrows=1, ncols=2, figsize=(10,5))\n",
    "feature = 'new_GBDTscore'\n",
    "ax[0].hist(forward_quark[feature], bins=newbdt_bins, weights=forward_quark['event_weight'], \n",
    "        label=f'forward quark, num:{len(forward_quark)}', color='red', alpha = 0.5, density=True)\n",
    "ax[0].hist(central_quark[feature], bins=newbdt_bins, weights=central_quark['event_weight'], \n",
    "        label=f'central quark, num:{len(central_quark)}', color='blue', alpha = 0.5, density=True)\n",
    "ax[0].legend()\n",
    "ax[0].set_title('quark: Forward vs. Central')\n",
    "\n",
    "ax[1].hist(forward_gluon[feature], bins=newbdt_bins, weights=forward_gluon['event_weight'],\n",
    "        label=f'forward gluon, num:{len(forward_gluon)}', color='red', alpha = 0.5, density=True)\n",
    "ax[1].hist(central_gluon[feature], bins=newbdt_bins, weights=central_gluon['event_weight'], \n",
    "        label=f'central gluon, num:{len(central_gluon)}', color='blue', alpha = 0.5, density=True)\n",
    "ax[1].set_title('gluon: Forward vs. Central')\n",
    "ax[1].legend()\n",
    "fig.suptitle(feature)\n",
    "\n",
    "\n",
    "n_forward_quark = len(forward_quark)\n",
    "n_central_quark = len(central_quark)\n",
    "n_forward = len(forward)\n",
    "n_central = len(central)\n",
    "\n",
    "frac_forward_quark = n_forward_quark / n_forward\n",
    "frac_central_quark = n_central_quark / n_central\n",
    "\n",
    "frac_forward_gluon = 1 - frac_forward_quark\n",
    "frac_central_gluon = 1 - frac_central_quark\n",
    "\n",
    "f = np.array([[frac_forward_quark,  frac_forward_gluon], [frac_central_quark, frac_central_gluon]])\n",
    "f_inv = np.linalg.inv(f)\n",
    "\n",
    "\n",
    "# Do a simple extraction test\n",
    "# MC closure \n",
    "feature = 'new_GBDTscore'\n",
    "hist_forward, _ = np.histogram(forward[feature], newbdt_bins, weights=forward['event_weight'], density = True)\n",
    "hist_central, _ = np.histogram(central[feature], newbdt_bins, weights=central['event_weight'], density = True)\n",
    "\n",
    "\n",
    "extract_p_Quark = f_inv[0][0] * hist_forward + f_inv[0][1]* hist_central \n",
    "extract_p_Gluon = f_inv[1][0] * hist_forward + f_inv[1][1]* hist_central \n",
    "\n",
    "fig, ax = plt.subplots(nrows=1, ncols=2, figsize=(10,5))\n",
    "ax[0].hist(quark[feature], bins=newbdt_bins, weights=quark['event_weight'], \n",
    "        label=f'truth quark', color='red', alpha = 0.5, density=True)\n",
    "ax[0].stairs(values=extract_p_Quark, edges=newbdt_bins, label=f'extracted quark(MC)')\n",
    "ax[0].legend()\n",
    "ax[0].set_title('quark: Truth vs. Extracted MC')\n",
    "\n",
    "ax[1].hist(gluon[feature], bins=newbdt_bins, weights=gluon['event_weight'], \n",
    "        label=f'truth gluon', color='blue', alpha = 0.5, density=True)\n",
    "ax[1].stairs(values=extract_p_Gluon, edges=newbdt_bins, label=f'extracted gluon(MC)')\n",
    "ax[1].legend()\n",
    "ax[1].set_title('gluon: Truth vs. Extracted MC')\n",
    "\n",
    "fig.suptitle(feature)"
   ]
  },
  {
   "attachments": {},
   "cell_type": "markdown",
   "metadata": {},
   "source": [
    "## pt bins"
   ]
  },
  {
   "attachments": {},
   "cell_type": "markdown",
   "metadata": {},
   "source": [
    "### new_GBDTscore distribution"
   ]
  },
  {
   "cell_type": "code",
   "execution_count": null,
   "metadata": {},
   "outputs": [],
   "source": [
    "for pt_idx, pt in enumerate(label_pt_bin[:-1]):\n",
    "    sample_pt = _sample[_sample['pt_idx'] == pt_idx] \n",
    "\n",
    "    sample_forward = sample_pt[sample_pt['is_forward']==1]\n",
    "    sample_central = sample_pt[sample_pt['is_forward']==0]\n",
    "\n",
    "    for feature_name in features[-1:]:\n",
    "        custom_bins = HistBins[feature_name]\n",
    "        fig, (ax0, ax1) = plt.subplots(nrows=1, ncols=2, figsize = (10,5))\n",
    "        ax0.hist(sample_forward[feature_name], bins = custom_bins, weights = sample_forward['event_weight'], label = f'forward, num: {len(sample_forward)}', color='red', alpha = 0.5)\n",
    "        ax0.hist(sample_central[feature_name], bins = custom_bins, weights = sample_central['event_weight'], label = f'central, num: {len(sample_central)}', color='blue', alpha = 0.5)\n",
    "        ax0.legend()\n",
    "        ax0.set_xlabel(feature_name)\n",
    "        ax0.set_ylabel(f\"Weighted Yield\")\n",
    "        ax0.set_title(f\"Weighted Yield Comparison\")\n",
    "        if feature_name == 'jet_pt':\n",
    "            ax0.set_yscale('log')\n",
    "\n",
    "        ax1.hist(sample_forward[feature_name], bins = custom_bins, weights = sample_forward['event_weight'], label = 'forward', color='red', alpha = 0.5, density=True)\n",
    "        ax1.hist(sample_central[feature_name], bins = custom_bins, weights = sample_central['event_weight'], label = 'central', color='blue', alpha = 0.5, density=True)\n",
    "        ax1.legend()\n",
    "        ax1.set_xlabel(feature_name)\n",
    "        ax1.set_ylabel(f\"Weighted Shape\")\n",
    "        ax1.set_title(f\"Weighted Shape Comparison\")\n",
    "        if feature_name == 'jet_pt':\n",
    "            ax1.set_yscale('log')\n",
    "        fig.suptitle(f\"{pt} GeV, Forward vs Central: {feature_name}\")\n",
    "        plt.plot()\n",
    "    "
   ]
  },
  {
   "attachments": {},
   "cell_type": "markdown",
   "metadata": {},
   "source": [
    "### test extraction"
   ]
  },
  {
   "cell_type": "code",
   "execution_count": null,
   "metadata": {},
   "outputs": [],
   "source": [
    "for pt_idx, pt in enumerate(label_pt_bin[:-1]):\n",
    "    _sample_pt = _sample[_sample['pt_idx'] == pt_idx] \n",
    "    \n",
    "    forward_quark = _sample_pt[(_sample_pt['is_forward']==1) &(_sample_pt['target']==0)]\n",
    "    forward_gluon = _sample_pt[(_sample_pt['is_forward']==1) &(_sample_pt['target']==1)]\n",
    "    central_quark = _sample_pt[(_sample_pt['is_forward']==0) &(_sample_pt['target']==0)]\n",
    "    central_gluon = _sample_pt[(_sample_pt['is_forward']==0) &(_sample_pt['target']==1)]\n",
    "    forward = _sample_pt[(_sample_pt['is_forward']==1)]\n",
    "    central = _sample_pt[(_sample_pt['is_forward']==0)]\n",
    "    quark = _sample_pt[_sample_pt['target']==0]\n",
    "    gluon = _sample_pt[_sample_pt['target']==1]\n",
    "\n",
    "    newbdt_bins = np.linspace(-5, 5.0, 101)\n",
    "    fig, ax = plt.subplots(nrows=1, ncols=2, figsize=(10,5))\n",
    "    feature = 'new_GBDTscore'\n",
    "    ax[0].hist(forward_quark[feature], bins=newbdt_bins, weights=forward_quark['event_weight'], \n",
    "            label=f'forward quark, num:{len(forward_quark)}', color='red', alpha = 0.5, density=True)\n",
    "    ax[0].hist(central_quark[feature], bins=newbdt_bins, weights=central_quark['event_weight'], \n",
    "            label=f'central quark, num:{len(central_quark)}', color='blue', alpha = 0.5, density=True)\n",
    "    ax[0].legend()\n",
    "    ax[0].set_title('quark: Forward vs. Central')\n",
    "\n",
    "    ax[1].hist(forward_gluon[feature], bins=newbdt_bins, weights=forward_gluon['event_weight'],\n",
    "            label=f'forward gluon, num:{len(forward_gluon)}', color='red', alpha = 0.5, density=True)\n",
    "    ax[1].hist(central_gluon[feature], bins=newbdt_bins, weights=central_gluon['event_weight'], \n",
    "            label=f'central gluon, num:{len(central_gluon)}', color='blue', alpha = 0.5, density=True)\n",
    "    ax[1].set_title('gluon: Forward vs. Central')\n",
    "    ax[1].legend()\n",
    "    fig.suptitle(f\"{pt} GeV, Forward vs Central for parton, {feature}\")\n",
    "\n",
    "\n",
    "\n",
    "\n",
    "    n_forward_quark = len(forward_quark)\n",
    "    n_central_quark = len(central_quark)\n",
    "    n_forward = len(forward)\n",
    "    n_central = len(central)\n",
    "\n",
    "    frac_forward_quark = n_forward_quark / n_forward\n",
    "    frac_central_quark = n_central_quark / n_central\n",
    "\n",
    "    frac_forward_gluon = 1 - frac_forward_quark\n",
    "    frac_central_gluon = 1 - frac_central_quark\n",
    "\n",
    "    f = np.array([[frac_forward_quark,  frac_forward_gluon], [frac_central_quark, frac_central_gluon]])\n",
    "    f_inv = np.linalg.inv(f)\n",
    "\n",
    "\n",
    "    # Do a simple extraction test\n",
    "    # MC closure \n",
    "\n",
    "    hist_forward, _ = np.histogram(forward[feature], newbdt_bins, weights=forward['event_weight'], density = True)\n",
    "    hist_central, _ = np.histogram(central[feature], newbdt_bins, weights=central['event_weight'], density = True)\n",
    "\n",
    "\n",
    "    extract_p_Quark = f_inv[0][0] * hist_forward + f_inv[0][1]* hist_central \n",
    "    extract_p_Gluon = f_inv[1][0] * hist_forward + f_inv[1][1]* hist_central \n",
    "\n",
    "    fig, ax = plt.subplots(nrows=1, ncols=2, figsize=(10,5))\n",
    "    ax[0].hist(quark[feature], bins=newbdt_bins, weights=quark['event_weight'], \n",
    "            label=f'truth quark', color='red', alpha = 0.5, density=True)\n",
    "    ax[0].stairs(values=extract_p_Quark, edges=newbdt_bins, label=f'extracted quark(MC)')\n",
    "    ax[0].legend()\n",
    "    ax[0].set_title('quark: Truth vs. Extracted MC')\n",
    "\n",
    "    ax[1].hist(gluon[feature], bins=newbdt_bins, weights=gluon['event_weight'], \n",
    "            label=f'truth gluon', color='blue', alpha = 0.5, density=True)\n",
    "    ax[1].stairs(values=extract_p_Gluon, edges=newbdt_bins, label=f'extracted gluon(MC)')\n",
    "    ax[1].legend()\n",
    "    ax[1].set_title('gluon: Truth vs. Extracted MC')\n",
    "\n",
    "    fig.suptitle(f\"{pt} GeV, Extraction, {feature}\")"
   ]
  },
  {
   "cell_type": "code",
   "execution_count": null,
   "metadata": {},
   "outputs": [],
   "source": []
  }
 ],
 "metadata": {
  "kernelspec": {
   "display_name": "ml",
   "language": "python",
   "name": "python3"
  },
  "language_info": {
   "codemirror_mode": {
    "name": "ipython",
    "version": 3
   },
   "file_extension": ".py",
   "mimetype": "text/x-python",
   "name": "python",
   "nbconvert_exporter": "python",
   "pygments_lexer": "ipython3",
   "version": "3.9.15 | packaged by conda-forge | (main, Nov 22 2022, 15:55:03) \n[GCC 10.4.0]"
  },
  "orig_nbformat": 4,
  "vscode": {
   "interpreter": {
    "hash": "14e3b66b9136298b1438aa954b24fb6042eb4a7b64fe2e32b506f4a92d36ab42"
   }
  }
 },
 "nbformat": 4,
 "nbformat_minor": 2
}
